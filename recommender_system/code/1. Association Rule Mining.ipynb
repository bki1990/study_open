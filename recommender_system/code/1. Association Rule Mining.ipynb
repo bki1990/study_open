{
 "cells": [
  {
   "cell_type": "code",
   "execution_count": null,
   "metadata": {},
   "outputs": [],
   "source": []
  },
  {
   "cell_type": "markdown",
   "metadata": {},
   "source": [
    "# Association Rule"
   ]
  },
  {
   "cell_type": "markdown",
   "metadata": {},
   "source": [
    "- 상품간의 연관성을 알아내어 소비자들이 보통 함께 구매하는 제품을 추천하는 방법\n",
    "- 예를들어 핸드폰을 살 때 소비자들이 핸드폰 악세사리를 함께 구매하는 경향이 있으면 핸드폰 구매 고객에게 악세사리를 함께 추천할 수 있음\n",
    "- E-commerce, 편의점 등에서 많이 사용\n",
    "- 가장 유명한 일화는 맥주와 기저귀 구매의 연관성이 높음 => 아이를 가진 부부끼리 쇼핑을 하면서 아내가 기저귀를 구매하는 동안 남편이 맥주를 구매하기 때문이라는 분석이 있음"
   ]
  },
  {
   "cell_type": "markdown",
   "metadata": {},
   "source": [
    "목차<br>\n",
    "1. 데이터 탐색\n",
    "2. 주요 개념과 용어\n",
    "3. Apriori 알고리즘"
   ]
  },
  {
   "cell_type": "markdown",
   "metadata": {},
   "source": [
    "# 1. 데이터 탐색"
   ]
  },
  {
   "cell_type": "code",
   "execution_count": 1,
   "metadata": {},
   "outputs": [],
   "source": [
    "import os\n",
    "import pandas as pd\n",
    "os.chdir('C:/Users/bki19/Desktop/recommender_system')"
   ]
  },
  {
   "cell_type": "code",
   "execution_count": 2,
   "metadata": {},
   "outputs": [],
   "source": [
    "def File_Reader(PATH):\n",
    "    with open(PATH, 'r',encoding='utf-8') as file:\n",
    "        data = file.readlines()\n",
    "    data=[x.strip().split(',') for x in data]\n",
    "    return data\n",
    "\n",
    "#transaction data per item\n",
    "df=File_Reader('./data/groceries.csv')\n",
    "\n",
    "#whole transactions\n",
    "df2=[]\n",
    "for x in df:\n",
    "    df2+=x\n",
    "    \n",
    "#unique items\n",
    "Items= set(df2)"
   ]
  },
  {
   "cell_type": "markdown",
   "metadata": {},
   "source": [
    "데이터:<br>\n",
    "사용자마다 구매한 물품에 대한 거래 기록"
   ]
  },
  {
   "cell_type": "markdown",
   "metadata": {},
   "source": [
    "<b>거래별 요약</b>"
   ]
  },
  {
   "cell_type": "code",
   "execution_count": 3,
   "metadata": {},
   "outputs": [],
   "source": [
    "Basket_len=[]\n",
    "for x in df:\n",
    "    Basket_len.append( len(x))"
   ]
  },
  {
   "cell_type": "code",
   "execution_count": 4,
   "metadata": {},
   "outputs": [
    {
     "data": {
      "text/plain": [
       "<Figure size 640x480 with 1 Axes>"
      ]
     },
     "metadata": {},
     "output_type": "display_data"
    }
   ],
   "source": [
    "import matplotlib.pyplot as plt\n",
    "plt.hist(Basket_len,bins=range(min(Basket_len), max(Basket_len) + 1, 1) )\n",
    "plt.title('Number of Items per Basket')\n",
    "plt.show()"
   ]
  },
  {
   "cell_type": "code",
   "execution_count": 5,
   "metadata": {},
   "outputs": [
    {
     "data": {
      "text/html": [
       "<div>\n",
       "<style scoped>\n",
       "    .dataframe tbody tr th:only-of-type {\n",
       "        vertical-align: middle;\n",
       "    }\n",
       "\n",
       "    .dataframe tbody tr th {\n",
       "        vertical-align: top;\n",
       "    }\n",
       "\n",
       "    .dataframe thead th {\n",
       "        text-align: right;\n",
       "    }\n",
       "</style>\n",
       "<table border=\"1\" class=\"dataframe\">\n",
       "  <thead>\n",
       "    <tr style=\"text-align: right;\">\n",
       "      <th></th>\n",
       "      <th>Total Purchase</th>\n",
       "      <th>Total Records</th>\n",
       "      <th>Unique Items</th>\n",
       "      <th>Mean</th>\n",
       "      <th>less than 5</th>\n",
       "      <th>Max</th>\n",
       "    </tr>\n",
       "  </thead>\n",
       "  <tbody>\n",
       "    <tr>\n",
       "      <th>0</th>\n",
       "      <td>43367</td>\n",
       "      <td>9835</td>\n",
       "      <td>169</td>\n",
       "      <td>4.409456</td>\n",
       "      <td>0.406692</td>\n",
       "      <td>32</td>\n",
       "    </tr>\n",
       "  </tbody>\n",
       "</table>\n",
       "</div>"
      ],
      "text/plain": [
       "   Total Purchase  Total Records  Unique Items      Mean  less than 5  Max\n",
       "0           43367           9835           169  4.409456     0.406692   32"
      ]
     },
     "execution_count": 5,
     "metadata": {},
     "output_type": "execute_result"
    }
   ],
   "source": [
    "pd.DataFrame.from_dict( {'Total Purchase':[sum(Basket_len)],'Total Records':[len(Basket_len)],'Unique Items':[len(Items)] ,'Mean':[ sum(Basket_len)/len(Basket_len) ] , 'less than 5':[sum([x for x in Basket_len if x<=5])/sum(Basket_len)], 'Max': [max(Basket_len)] })"
   ]
  },
  {
   "cell_type": "markdown",
   "metadata": {},
   "source": [
    "- 169종류의 상품에 대해 총 구매한 물품은 43,367번 구매를 함\n",
    "- 거래 횟수는 총 9,835번\n",
    "- 평균적으로 한번에 4가지 정도의 물품을 구매\n",
    "- 1가지 물품만 구매한 고객은 2000명 이상으로 가장 많음\n",
    "- 전체 거래의 40%가 5가지 이하 => 많은 사람들이 한번에 5개 이하의 물품을 구매"
   ]
  },
  {
   "cell_type": "markdown",
   "metadata": {},
   "source": [
    "<b>상품별 요약</b>"
   ]
  },
  {
   "cell_type": "code",
   "execution_count": 6,
   "metadata": {},
   "outputs": [],
   "source": [
    "#puchased frequency per item\n",
    "Item_count=[]\n",
    "for x in Items:\n",
    "    Item_count.append((x, df2.count(x) ) )\n",
    "Item_count=sorted(Item_count, key = lambda x: x[1],reverse=True)"
   ]
  },
  {
   "cell_type": "code",
   "execution_count": 7,
   "metadata": {},
   "outputs": [
    {
     "data": {
      "image/png": "[encoded data removed]",
      "text/plain": [
       "<Figure size 432x288 with 1 Axes>"
      ]
     },
     "metadata": {
      "needs_background": "light"
     },
     "output_type": "display_data"
    }
   ],
   "source": [
    "plt.bar(range(len(Item_count[0:20])), [val[1] for val in Item_count[0:20]], align='center')\n",
    "plt.xticks(range(len(Item_count[0:20])), [val[0] for val in Item_count[0:20]])\n",
    "plt.xticks(rotation=70)\n",
    "plt.show()"
   ]
  },
  {
   "cell_type": "markdown",
   "metadata": {},
   "source": [
    "- 상위 20개 품목의 구매 횟수\n",
    "- 우유가 2500번 정도 구매 되어 가장 많이 차지\n",
    "- 야채, 유제품 등 식품 관련 품목의 판매가 많음"
   ]
  },
  {
   "cell_type": "code",
   "execution_count": 8,
   "metadata": {},
   "outputs": [],
   "source": [
    "def ItemCount(A,df=df):\n",
    "    count=0\n",
    "    n=len(df)\n",
    "    for x in df:\n",
    "        if set(A).issubset(x):\n",
    "            count+=1\n",
    "    return count"
   ]
  },
  {
   "cell_type": "code",
   "execution_count": 9,
   "metadata": {},
   "outputs": [
    {
     "data": {
      "text/plain": [
       "764"
      ]
     },
     "execution_count": 9,
     "metadata": {},
     "output_type": "execute_result"
    }
   ],
   "source": [
    "ItemCount(['canned beer'])"
   ]
  },
  {
   "cell_type": "markdown",
   "metadata": {},
   "source": [
    "캔 맥주는 총 764번의 장바구니에서 나타남"
   ]
  },
  {
   "cell_type": "markdown",
   "metadata": {},
   "source": [
    "# 2. 주요 개념과 용어"
   ]
  },
  {
   "cell_type": "markdown",
   "metadata": {},
   "source": [
    "<b>Basket</b><br>\n",
    "- 한번의 거래에서 구매된 상품 (item)의 집합\n",
    "- 예를 들어 첫 번째 basket은 'citrus fruit', 'semi-finished bread', 'margarine', 'ready soups'"
   ]
  },
  {
   "cell_type": "code",
   "execution_count": 10,
   "metadata": {},
   "outputs": [
    {
     "data": {
      "text/plain": [
       "['citrus fruit', 'semi-finished bread', 'margarine', 'ready soups']"
      ]
     },
     "execution_count": 10,
     "metadata": {},
     "output_type": "execute_result"
    }
   ],
   "source": [
    "df[0]"
   ]
  },
  {
   "cell_type": "markdown",
   "metadata": {},
   "source": [
    "<b>1) Support</b><br>\n",
    "- $X$가 특정 item의 집합, $T$가 전체 거래의 집합(전체 basket), $t$가 $t\\in T$인 각각의 basket이라고 할 때<br>\n",
    "$supp(X)= \\frac{|t\\in T; X\\in t  |}{|T|}$<br>\n",
    "- item X가 전체 basket에서 나타난 비율"
   ]
  },
  {
   "cell_type": "code",
   "execution_count": 11,
   "metadata": {},
   "outputs": [
    {
     "name": "stdout",
     "output_type": "stream",
     "text": [
      "0.07768174885612608\n",
      "0.08052872394509406\n",
      "0.0026436197254702592\n",
      "0.002440264361972547\n",
      "0.003253685815963396\n"
     ]
    }
   ],
   "source": [
    "def Support(A,df=df):\n",
    "    count=0\n",
    "    n=len(df)\n",
    "    for x in df:\n",
    "        if set(A).issubset(x):\n",
    "            count+=1\n",
    "    return count/n\n",
    "A=['canned beer']\n",
    "B=['bottled beer']\n",
    "C=['bottled beer','canned beer']\n",
    "D=['chicken','bottled beer']\n",
    "E=['chicken','canned beer']\n",
    "print(Support(A))\n",
    "print(Support(B))\n",
    "print(Support(C))\n",
    "print(Support(D))\n",
    "print(Support(E))"
   ]
  },
  {
   "cell_type": "markdown",
   "metadata": {},
   "source": [
    "- 각각의 구매에서 캔 맥주보다 병 맥주를 구매한 경우가 많음\n",
    "- 치킨과 캔 맥주를 같이 구매한 경우 치킨과 병 맥주를 구매한 경우보다 많음 "
   ]
  },
  {
   "cell_type": "markdown",
   "metadata": {},
   "source": [
    "<b>2) Confidence</b><br>\n",
    "$conf(X->Y)=\\frac{supp(XUY)  }{supp(X)}$\n",
    "- baskek에 item $X$가 나타났을 때 $X$와 $Y$가 동시에 나타난 비율"
   ]
  },
  {
   "cell_type": "code",
   "execution_count": 12,
   "metadata": {},
   "outputs": [],
   "source": [
    "def Confidence(A,B,df=df):\n",
    "    countA=0\n",
    "    countAB=0\n",
    "    \n",
    "    for x in df:\n",
    "        if set(A).issubset(x):\n",
    "            countA+=1\n",
    "\n",
    "            if set(A+B ).issubset(x):\n",
    "                countAB+=1\n",
    "    return countAB/countA\n",
    "A=['canned beer']\n",
    "B=['bottled beer']\n",
    "C=['chicken']"
   ]
  },
  {
   "cell_type": "code",
   "execution_count": 13,
   "metadata": {},
   "outputs": [
    {
     "name": "stdout",
     "output_type": "stream",
     "text": [
      "0.07582938388625593\n",
      "0.05687203791469194\n",
      "0.041884816753926704\n",
      "0.030303030303030304\n"
     ]
    }
   ],
   "source": [
    "print(Confidence(C,A))\n",
    "print(Confidence(C,B))\n",
    "print(Confidence(A,C))\n",
    "print(Confidence(B,C))"
   ]
  },
  {
   "cell_type": "markdown",
   "metadata": {},
   "source": [
    "- 치킨을 구매했을 때 캔 맥주를 구매한 경우가 치킨을 구매했을 때 병 맥주를 구매한 경우 보다 많음\n",
    "- 캔 맥주를 구매했을 때 치킨을 구매한 경우가 병 맥주를 구매했을 때 치킨을 구매한 경우 보다 많음"
   ]
  },
  {
   "cell_type": "markdown",
   "metadata": {},
   "source": [
    "<b>3) Lift</b><br>\n",
    "$Lift(X->Y)=\\frac{supp(XUY)}{supp(X),supp(Y)}$<br>\n",
    "- $X$와 $Y$의 독립성을 보는 것으로 둘이 독립이면 $Lift=1$\n",
    "- $Lift>1$이면 상품 간에 양의 관련성있음 (보완재 관계)\n",
    "- $Lift<1$이면 상품 간에 음의 관련성있음 (대체재 관계)"
   ]
  },
  {
   "cell_type": "code",
   "execution_count": 14,
   "metadata": {},
   "outputs": [],
   "source": [
    "def Lift(A,B,df=df):\n",
    "\n",
    "    Result=Confidence(A,B)/Support(B)\n",
    "    return Result\n",
    "A=['canned beer']\n",
    "B=['bottled beer']\n",
    "C=['chicken']\n",
    "E=['sausage']\n",
    "F=['white bread']\n",
    "G=['brown bread']"
   ]
  },
  {
   "cell_type": "code",
   "execution_count": 15,
   "metadata": {},
   "outputs": [
    {
     "data": {
      "text/plain": [
       "0.4225996879792691"
      ]
     },
     "execution_count": 15,
     "metadata": {},
     "output_type": "execute_result"
    }
   ],
   "source": [
    "Lift(A,B)"
   ]
  },
  {
   "cell_type": "code",
   "execution_count": 16,
   "metadata": {},
   "outputs": [],
   "source": [
    "def Lift(A,B,df=df):\n",
    "    countA=0\n",
    "    countB=0\n",
    "    countAB=0\n",
    "    n=len(df)\n",
    "    for x in df:\n",
    "        if set(A).issubset(x):\n",
    "            countA+=1\n",
    "\n",
    "            if set(A+B ).issubset(x):\n",
    "                countAB+=1\n",
    "        if set(B).issubset(x):\n",
    "            countB+=1\n",
    "    return (countAB/countA )/( countB/n    )\n",
    "A=['canned beer']\n",
    "B=['bottled beer']\n",
    "C=['chicken']\n",
    "E=['sausage']\n",
    "F=['white bread']\n",
    "G=['brown bread']"
   ]
  },
  {
   "cell_type": "code",
   "execution_count": 17,
   "metadata": {},
   "outputs": [
    {
     "name": "stdout",
     "output_type": "stream",
     "text": [
      "0.4225996879792691\n",
      "0.9761544378551401\n",
      "0.7062329455694384\n",
      "1.311575470343243\n",
      "1.7128178335074884\n"
     ]
    }
   ],
   "source": [
    "print(Lift(A,B))\n",
    "print(Lift(A,C))\n",
    "print(Lift(B,C))\n",
    "print(Lift(C,E))\n",
    "print(Lift(F,G))"
   ]
  },
  {
   "cell_type": "markdown",
   "metadata": {},
   "source": [
    "- 캔맥주와 병맥주는 lift가 1보다 낮아 대체재의 관계\n",
    "- 캔맥주와 치킨은 lift가 1에가까워 독립적 관계\n",
    "- 병맥주와 치킨은 lift가 1보다 낮아 대체재의 관계<br>\n",
    "=> Support와 Confidence를 봤을 때 치킨과 캔맥주의 관계가 치킨과 병맥주의 관계보다 커 보였지만 Lift로 봤을 때 치킨과 병맥주의 관계가 더 큼\n",
    "- 치킨과 소세지는 lift가 1보다 높아 보완재의 관계\n",
    "- 갈색 식빵과 흰 식빵은 lift가 1보다 높아 보완성이 큼\n"
   ]
  },
  {
   "cell_type": "markdown",
   "metadata": {},
   "source": [
    "<b>4) 시사점</b>\n",
    "- 세 가지 척도가 다른 결론을 줄 수 있음\n",
    "- 특정 상품간의 관계를 볼 수 있지만 연관성이 큰 상품 집합을 찾으려면 경우의 수가 너무 많음"
   ]
  },
  {
   "cell_type": "markdown",
   "metadata": {},
   "source": [
    "# 3. Apriori algorithm"
   ]
  },
  {
   "cell_type": "markdown",
   "metadata": {},
   "source": [
    "가정: 구매 빈도가 높은 품목들의 하위 집합도 구매 빈도가 높다"
   ]
  },
  {
   "cell_type": "markdown",
   "metadata": {},
   "source": [
    "1) 기준 설정 (최소 구매 빈도,support, confidence 등)<br>\n",
    "2) 기준보다 높은 품목 필터링 (예를들어 [A,B,C,D..,K] 품목 선택)<br>\n",
    "3) 필터링 된 품목 중 2개씩의 하위 집합 중에 기준 보다 높은 품목 필터링(예를 들어 [AB,AC...JK]중 [AB,AC,CD] 선택)<br>\n",
    "4) 남은 품목중 3개씩 고려<br>\n",
    "5) 기준을 만족할 때까지 계속 진행"
   ]
  },
  {
   "cell_type": "code",
   "execution_count": 79,
   "metadata": {},
   "outputs": [],
   "source": [
    "min_supp=0.03\n",
    "min_len=2\n",
    "min_lift=1\n",
    "min_conf=0.03\n",
    "Items_1=[]\n",
    "\n",
    "for x in Item_count:\n",
    "    if (Support([x[0]])>min_supp) and (  x[1]  > min_len ):\n",
    "        Items_1.append(x[0])"
   ]
  },
  {
   "cell_type": "code",
   "execution_count": 80,
   "metadata": {},
   "outputs": [
    {
     "name": "stdout",
     "output_type": "stream",
     "text": [
      "[['whole milk', 'other vegetables', 'rolls/buns', 'soda', 'yogurt', 'bottled water', 'root vegetables', 'tropical fruit', 'shopping bags', 'sausage'], 44]\n"
     ]
    }
   ],
   "source": [
    "print( [Items_1[0:10],len(Items_1)])"
   ]
  },
  {
   "cell_type": "markdown",
   "metadata": {},
   "source": [
    "- Support가 0.01이하이면서 Basket에 나타난 횟수가 2번 이상인 상품들을 찾음\n",
    "- 처음에는 단순히 구매 빈도가 기준치 보다 높은 Item을 찾는 과정"
   ]
  },
  {
   "cell_type": "code",
   "execution_count": 81,
   "metadata": {},
   "outputs": [
    {
     "name": "stdout",
     "output_type": "stream",
     "text": [
      "[[('whole milk', 'other vegetables'), ('whole milk', 'rolls/buns'), ('whole milk', 'soda'), ('whole milk', 'yogurt'), ('whole milk', 'bottled water'), ('whole milk', 'root vegetables'), ('whole milk', 'tropical fruit'), ('whole milk', 'shopping bags'), ('whole milk', 'sausage'), ('whole milk', 'pastry')], 946]\n"
     ]
    }
   ],
   "source": [
    "from itertools import combinations\n",
    "Items_2_cand=list(combinations(Items_1, 2) )\n",
    "print( [Items_2_cand[0:10],len(Items_2_cand)])"
   ]
  },
  {
   "cell_type": "markdown",
   "metadata": {},
   "source": [
    "첫 번째 필터링 된 아이템 집합에서 두 개의 상품씩 묶음"
   ]
  },
  {
   "cell_type": "code",
   "execution_count": 82,
   "metadata": {},
   "outputs": [],
   "source": [
    "Items_2=[]\n",
    "for x in Items_2_cand:\n",
    "    if  ((Support(x)>min_supp)and (Confidence([x[0]],[x[1]])>min_conf) and (Lift([x[0]],[x[1]])>min_lift ) ):\n",
    "        Items_2.append(x)"
   ]
  },
  {
   "cell_type": "code",
   "execution_count": 110,
   "metadata": {},
   "outputs": [
    {
     "name": "stdout",
     "output_type": "stream",
     "text": [
      "[('whole milk', 'other vegetables'), ('whole milk', 'rolls/buns'), ('whole milk', 'yogurt'), ('whole milk', 'bottled water'), ('whole milk', 'root vegetables'), ('whole milk', 'tropical fruit'), ('whole milk', 'pastry'), ('whole milk', 'citrus fruit'), ('whole milk', 'pip fruit'), ('whole milk', 'whipped/sour cream'), ('other vegetables', 'rolls/buns'), ('other vegetables', 'yogurt'), ('other vegetables', 'root vegetables'), ('other vegetables', 'tropical fruit'), ('rolls/buns', 'soda'), ('rolls/buns', 'yogurt'), ('rolls/buns', 'sausage')]\n",
      "17\n",
      "13\n"
     ]
    }
   ],
   "source": [
    "unique=set(x for l in Items_2 for x in l)\n",
    "print(Items_2)\n",
    "print(len(Items_2) )\n",
    "print(len(unique) )"
   ]
  },
  {
   "cell_type": "markdown",
   "metadata": {},
   "source": [
    "이 중에 17개의 item 조합이 조건을 만족하며 이 조합들은 총 13개의 상품으로 구성 되어 있음"
   ]
  },
  {
   "cell_type": "code",
   "execution_count": 99,
   "metadata": {},
   "outputs": [
    {
     "name": "stdout",
     "output_type": "stream",
     "text": [
      "[[('pastry', 'rolls/buns', 'citrus fruit'), ('pastry', 'rolls/buns', 'pip fruit'), ('pastry', 'rolls/buns', 'sausage'), ('pastry', 'rolls/buns', 'bottled water'), ('pastry', 'rolls/buns', 'whipped/sour cream'), ('pastry', 'rolls/buns', 'yogurt'), ('pastry', 'rolls/buns', 'tropical fruit'), ('pastry', 'rolls/buns', 'root vegetables'), ('pastry', 'rolls/buns', 'soda'), ('pastry', 'rolls/buns', 'whole milk')], 286]\n"
     ]
    }
   ],
   "source": [
    "Items_3_cand=list(combinations(unique, 3) )\n",
    "print( [Items_3_cand[0:10],len(Items_3_cand)])"
   ]
  },
  {
   "cell_type": "markdown",
   "metadata": {},
   "source": [
    "이 13개의 상품을 3개씩 묶으면 총 286개의 조합이 나옴"
   ]
  },
  {
   "cell_type": "code",
   "execution_count": 104,
   "metadata": {},
   "outputs": [],
   "source": [
    "Items_3=[]\n",
    "for x in Items_3_cand:\n",
    "    if  ((Support(x)>min_supp)and (Confidence([x[0],x[1]],[x[2] ])>min_conf) and (Lift([x[0],x[1]],[x[2] ])>min_lift ) ):\n",
    "        Items_3.append(x)"
   ]
  },
  {
   "cell_type": "code",
   "execution_count": 105,
   "metadata": {},
   "outputs": [
    {
     "data": {
      "text/plain": [
       "0"
      ]
     },
     "execution_count": 105,
     "metadata": {},
     "output_type": "execute_result"
    }
   ],
   "source": [
    "len(Items_3)"
   ]
  },
  {
   "cell_type": "markdown",
   "metadata": {},
   "source": [
    "이 조합 중에 조건을 만족하는 조합은 없으므로 여기서 stop"
   ]
  },
  {
   "cell_type": "code",
   "execution_count": 113,
   "metadata": {},
   "outputs": [],
   "source": [
    "Result=[]\n",
    "for x in Items_2_cand:\n",
    "    if  ((Support(x)>min_supp)and (Confidence([x[0]],[x[1]])>min_conf) and (Lift([x[0]],[x[1]])>min_lift ) ):\n",
    "        Result.append([x,Support(x),Confidence([x[0]],[x[1]]), Lift([x[0]],[x[1]]) ]   )"
   ]
  },
  {
   "cell_type": "code",
   "execution_count": 117,
   "metadata": {},
   "outputs": [
    {
     "data": {
      "text/html": [
       "<div>\n",
       "<style scoped>\n",
       "    .dataframe tbody tr th:only-of-type {\n",
       "        vertical-align: middle;\n",
       "    }\n",
       "\n",
       "    .dataframe tbody tr th {\n",
       "        vertical-align: top;\n",
       "    }\n",
       "\n",
       "    .dataframe thead th {\n",
       "        text-align: right;\n",
       "    }\n",
       "</style>\n",
       "<table border=\"1\" class=\"dataframe\">\n",
       "  <thead>\n",
       "    <tr style=\"text-align: right;\">\n",
       "      <th></th>\n",
       "      <th>Item set</th>\n",
       "      <th>Support</th>\n",
       "      <th>Confidence -&gt;</th>\n",
       "      <th>Lift  -&gt;</th>\n",
       "    </tr>\n",
       "  </thead>\n",
       "  <tbody>\n",
       "    <tr>\n",
       "      <th>0</th>\n",
       "      <td>(whole milk, other vegetables)</td>\n",
       "      <td>0.074835</td>\n",
       "      <td>0.292877</td>\n",
       "      <td>1.513634</td>\n",
       "    </tr>\n",
       "    <tr>\n",
       "      <th>1</th>\n",
       "      <td>(whole milk, rolls/buns)</td>\n",
       "      <td>0.056634</td>\n",
       "      <td>0.221647</td>\n",
       "      <td>1.205032</td>\n",
       "    </tr>\n",
       "    <tr>\n",
       "      <th>2</th>\n",
       "      <td>(whole milk, yogurt)</td>\n",
       "      <td>0.056024</td>\n",
       "      <td>0.219260</td>\n",
       "      <td>1.571735</td>\n",
       "    </tr>\n",
       "    <tr>\n",
       "      <th>3</th>\n",
       "      <td>(whole milk, bottled water)</td>\n",
       "      <td>0.034367</td>\n",
       "      <td>0.134501</td>\n",
       "      <td>1.216940</td>\n",
       "    </tr>\n",
       "    <tr>\n",
       "      <th>4</th>\n",
       "      <td>(whole milk, root vegetables)</td>\n",
       "      <td>0.048907</td>\n",
       "      <td>0.191405</td>\n",
       "      <td>1.756031</td>\n",
       "    </tr>\n",
       "    <tr>\n",
       "      <th>5</th>\n",
       "      <td>(whole milk, tropical fruit)</td>\n",
       "      <td>0.042298</td>\n",
       "      <td>0.165539</td>\n",
       "      <td>1.577595</td>\n",
       "    </tr>\n",
       "    <tr>\n",
       "      <th>6</th>\n",
       "      <td>(whole milk, pastry)</td>\n",
       "      <td>0.033249</td>\n",
       "      <td>0.130123</td>\n",
       "      <td>1.462587</td>\n",
       "    </tr>\n",
       "    <tr>\n",
       "      <th>7</th>\n",
       "      <td>(whole milk, citrus fruit)</td>\n",
       "      <td>0.030503</td>\n",
       "      <td>0.119379</td>\n",
       "      <td>1.442377</td>\n",
       "    </tr>\n",
       "    <tr>\n",
       "      <th>8</th>\n",
       "      <td>(whole milk, pip fruit)</td>\n",
       "      <td>0.030097</td>\n",
       "      <td>0.117788</td>\n",
       "      <td>1.557043</td>\n",
       "    </tr>\n",
       "    <tr>\n",
       "      <th>9</th>\n",
       "      <td>(whole milk, whipped/sour cream)</td>\n",
       "      <td>0.032232</td>\n",
       "      <td>0.126144</td>\n",
       "      <td>1.759754</td>\n",
       "    </tr>\n",
       "    <tr>\n",
       "      <th>10</th>\n",
       "      <td>(other vegetables, rolls/buns)</td>\n",
       "      <td>0.042603</td>\n",
       "      <td>0.220179</td>\n",
       "      <td>1.197047</td>\n",
       "    </tr>\n",
       "    <tr>\n",
       "      <th>11</th>\n",
       "      <td>(other vegetables, yogurt)</td>\n",
       "      <td>0.043416</td>\n",
       "      <td>0.224383</td>\n",
       "      <td>1.608457</td>\n",
       "    </tr>\n",
       "    <tr>\n",
       "      <th>12</th>\n",
       "      <td>(other vegetables, root vegetables)</td>\n",
       "      <td>0.047382</td>\n",
       "      <td>0.244877</td>\n",
       "      <td>2.246605</td>\n",
       "    </tr>\n",
       "    <tr>\n",
       "      <th>13</th>\n",
       "      <td>(other vegetables, tropical fruit)</td>\n",
       "      <td>0.035892</td>\n",
       "      <td>0.185497</td>\n",
       "      <td>1.767790</td>\n",
       "    </tr>\n",
       "    <tr>\n",
       "      <th>14</th>\n",
       "      <td>(rolls/buns, soda)</td>\n",
       "      <td>0.038332</td>\n",
       "      <td>0.208402</td>\n",
       "      <td>1.195124</td>\n",
       "    </tr>\n",
       "    <tr>\n",
       "      <th>15</th>\n",
       "      <td>(rolls/buns, yogurt)</td>\n",
       "      <td>0.034367</td>\n",
       "      <td>0.186844</td>\n",
       "      <td>1.339363</td>\n",
       "    </tr>\n",
       "    <tr>\n",
       "      <th>16</th>\n",
       "      <td>(rolls/buns, sausage)</td>\n",
       "      <td>0.030605</td>\n",
       "      <td>0.166390</td>\n",
       "      <td>1.771048</td>\n",
       "    </tr>\n",
       "  </tbody>\n",
       "</table>\n",
       "</div>"
      ],
      "text/plain": [
       "                               Item set   Support  Confidence ->  Lift  ->\n",
       "0        (whole milk, other vegetables)  0.074835       0.292877  1.513634\n",
       "1              (whole milk, rolls/buns)  0.056634       0.221647  1.205032\n",
       "2                  (whole milk, yogurt)  0.056024       0.219260  1.571735\n",
       "3           (whole milk, bottled water)  0.034367       0.134501  1.216940\n",
       "4         (whole milk, root vegetables)  0.048907       0.191405  1.756031\n",
       "5          (whole milk, tropical fruit)  0.042298       0.165539  1.577595\n",
       "6                  (whole milk, pastry)  0.033249       0.130123  1.462587\n",
       "7            (whole milk, citrus fruit)  0.030503       0.119379  1.442377\n",
       "8               (whole milk, pip fruit)  0.030097       0.117788  1.557043\n",
       "9      (whole milk, whipped/sour cream)  0.032232       0.126144  1.759754\n",
       "10       (other vegetables, rolls/buns)  0.042603       0.220179  1.197047\n",
       "11           (other vegetables, yogurt)  0.043416       0.224383  1.608457\n",
       "12  (other vegetables, root vegetables)  0.047382       0.244877  2.246605\n",
       "13   (other vegetables, tropical fruit)  0.035892       0.185497  1.767790\n",
       "14                   (rolls/buns, soda)  0.038332       0.208402  1.195124\n",
       "15                 (rolls/buns, yogurt)  0.034367       0.186844  1.339363\n",
       "16                (rolls/buns, sausage)  0.030605       0.166390  1.771048"
      ]
     },
     "execution_count": 117,
     "metadata": {},
     "output_type": "execute_result"
    }
   ],
   "source": [
    "pd.DataFrame(Result,columns=['Item set','Support','Confidence ->','Lift  ->'  ])"
   ]
  },
  {
   "cell_type": "markdown",
   "metadata": {},
   "source": [
    "- 'whole milk'와 다른 상품 간의 추천이 많음\n",
    "- 유제품과 빵 종류의 추천이 많은 것을 보아 타당해 보이는 추천도 있음\n",
    "- 하지만 유제품과 채소류는 거의 모든 장바구니에 담겨 있고, 상품간의 관련성 때문에 함께 사는 것이 아닐 가능성이 높음"
   ]
  },
  {
   "cell_type": "code",
   "execution_count": 125,
   "metadata": {},
   "outputs": [],
   "source": [
    "Result2=[]\n",
    "for x in unique:\n",
    "    Result2.append([x,Support([x])])\n",
    "Result2=sorted(Result2, key = lambda x: x[1],reverse=True)"
   ]
  },
  {
   "cell_type": "code",
   "execution_count": 127,
   "metadata": {},
   "outputs": [
    {
     "data": {
      "text/html": [
       "<div>\n",
       "<style scoped>\n",
       "    .dataframe tbody tr th:only-of-type {\n",
       "        vertical-align: middle;\n",
       "    }\n",
       "\n",
       "    .dataframe tbody tr th {\n",
       "        vertical-align: top;\n",
       "    }\n",
       "\n",
       "    .dataframe thead th {\n",
       "        text-align: right;\n",
       "    }\n",
       "</style>\n",
       "<table border=\"1\" class=\"dataframe\">\n",
       "  <thead>\n",
       "    <tr style=\"text-align: right;\">\n",
       "      <th></th>\n",
       "      <th>Item set</th>\n",
       "      <th>Support</th>\n",
       "    </tr>\n",
       "  </thead>\n",
       "  <tbody>\n",
       "    <tr>\n",
       "      <th>0</th>\n",
       "      <td>whole milk</td>\n",
       "      <td>0.255516</td>\n",
       "    </tr>\n",
       "    <tr>\n",
       "      <th>1</th>\n",
       "      <td>other vegetables</td>\n",
       "      <td>0.193493</td>\n",
       "    </tr>\n",
       "    <tr>\n",
       "      <th>2</th>\n",
       "      <td>rolls/buns</td>\n",
       "      <td>0.183935</td>\n",
       "    </tr>\n",
       "    <tr>\n",
       "      <th>3</th>\n",
       "      <td>soda</td>\n",
       "      <td>0.174377</td>\n",
       "    </tr>\n",
       "    <tr>\n",
       "      <th>4</th>\n",
       "      <td>yogurt</td>\n",
       "      <td>0.139502</td>\n",
       "    </tr>\n",
       "    <tr>\n",
       "      <th>5</th>\n",
       "      <td>bottled water</td>\n",
       "      <td>0.110524</td>\n",
       "    </tr>\n",
       "    <tr>\n",
       "      <th>6</th>\n",
       "      <td>root vegetables</td>\n",
       "      <td>0.108998</td>\n",
       "    </tr>\n",
       "    <tr>\n",
       "      <th>7</th>\n",
       "      <td>tropical fruit</td>\n",
       "      <td>0.104931</td>\n",
       "    </tr>\n",
       "    <tr>\n",
       "      <th>8</th>\n",
       "      <td>sausage</td>\n",
       "      <td>0.093950</td>\n",
       "    </tr>\n",
       "    <tr>\n",
       "      <th>9</th>\n",
       "      <td>pastry</td>\n",
       "      <td>0.088968</td>\n",
       "    </tr>\n",
       "    <tr>\n",
       "      <th>10</th>\n",
       "      <td>citrus fruit</td>\n",
       "      <td>0.082766</td>\n",
       "    </tr>\n",
       "    <tr>\n",
       "      <th>11</th>\n",
       "      <td>pip fruit</td>\n",
       "      <td>0.075648</td>\n",
       "    </tr>\n",
       "    <tr>\n",
       "      <th>12</th>\n",
       "      <td>whipped/sour cream</td>\n",
       "      <td>0.071683</td>\n",
       "    </tr>\n",
       "  </tbody>\n",
       "</table>\n",
       "</div>"
      ],
      "text/plain": [
       "              Item set   Support\n",
       "0           whole milk  0.255516\n",
       "1     other vegetables  0.193493\n",
       "2           rolls/buns  0.183935\n",
       "3                 soda  0.174377\n",
       "4               yogurt  0.139502\n",
       "5        bottled water  0.110524\n",
       "6      root vegetables  0.108998\n",
       "7       tropical fruit  0.104931\n",
       "8              sausage  0.093950\n",
       "9               pastry  0.088968\n",
       "10        citrus fruit  0.082766\n",
       "11           pip fruit  0.075648\n",
       "12  whipped/sour cream  0.071683"
      ]
     },
     "execution_count": 127,
     "metadata": {},
     "output_type": "execute_result"
    }
   ],
   "source": [
    "pd.DataFrame(Result2,columns=['Item set','Support' ])"
   ]
  },
  {
   "cell_type": "markdown",
   "metadata": {},
   "source": [
    "- 'whole milk', 'other vegetables', 'rolls/buns' 관련 추천이 많았던 것은 각각의 제품의 support가 높았기 때문"
   ]
  },
  {
   "cell_type": "markdown",
   "metadata": {},
   "source": [
    "<b>Apriori Algorithm의 장점</b>\n",
    "- 구현하기 쉽고 직관적임"
   ]
  },
  {
   "cell_type": "markdown",
   "metadata": {},
   "source": [
    "<b>Apriori Algorithm의 단점</b>\n",
    "- 연산이 지나치게 많음<br>\n",
    "=> Supoort 한번 구하는데 전체 데이터 베이스를 모두 탐색해야 되기 때문에 매우 느림\n",
    "- 여러 종류의 상품을 추천하기 어려움<br>\n",
    "=> 상품을 여러 종류 추천하기 위해서는 support나 기준을 낮게 설정해야 하지만 그렇게 되면 속도가 훨씬 느려짐<br>\n",
    "=> 속도가 느리기 때문에 파라미터를 여러 번 바꿔보기가 어려움\n",
    "- 자주 구매하는 상품을 탐색하기 때문에 일상적인 상품 위주로 추천됨<br>\n",
    "=> 예를들어 우유나 야채는 생활 필수품에 가깝기 때문에 추천이 의미 없을 수 있음\n",
    "- 동시에 구매한다고 해서 관련성이 있는 것은 아닐 수 있지만 이를 반영할 수 없음"
   ]
  },
  {
   "cell_type": "markdown",
   "metadata": {},
   "source": [
    "데이터 및 코드<br>\n",
    "- https://github.com/datascienceabe/study_open/tree/master/recommender_system/code"
   ]
  },
  {
   "cell_type": "markdown",
   "metadata": {},
   "source": [
    "출처:<br>\n",
    "- http://www.sci.csueastbay.edu/~esuess/classes/Statistics_6620/Presentations/ml13/groceries.csv\n",
    "- http://www.shawonruet.com/2018/06/apriori-algorithm-implementation-in.html\n",
    "- https://en.wikipedia.org/wiki/Association_rule_learning"
   ]
  },
  {
   "cell_type": "code",
   "execution_count": null,
   "metadata": {},
   "outputs": [],
   "source": []
  }
 ],
 "metadata": {
  "kernelspec": {
   "display_name": "Python 3",
   "language": "python",
   "name": "python3"
  },
  "language_info": {
   "codemirror_mode": {
    "name": "ipython",
    "version": 3
   },
   "file_extension": ".py",
   "mimetype": "text/x-python",
   "name": "python",
   "nbconvert_exporter": "python",
   "pygments_lexer": "ipython3",
   "version": "3.6.8"
  }
 },
 "nbformat": 4,
 "nbformat_minor": 2
}
