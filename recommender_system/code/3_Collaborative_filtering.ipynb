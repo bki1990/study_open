{
 "cells": [
  {
   "cell_type": "markdown",
   "metadata": {},
   "source": [
    "# Collaborative Filtering"
   ]
  },
  {
   "cell_type": "markdown",
   "metadata": {},
   "source": [
    "- Contents based recommender는 가까운 영화를 추천해줄 뿐 취향을 고려할 수 없음\n",
    "- 계속 비슷한 장르의 영화만 추천 됨<br>\n",
    "<br>\n",
    "- Collaborative filtering은 자신과 비슷한 취향의 사용자가 좋아했던 영화를 자신도 좋아할 것이라 가정\n",
    "- 상품의 특성이 아닌 사용자가 과거에 상품을 어떻게 평가했는지에 기반해 추천하는 방법\n",
    "- 예를들어, 사용자 A와 B가 영화에 대해 유사한 평점을 매겼을 때 A가 좋게 평가한 영화를 B에게 추천\n",
    "\n",
    "장점\n",
    "- 상품에 대한 정보가 없어도 됨\n",
    "\n",
    "단점\n",
    "- 사용자의 평점이 없는 영화는 추천할 수가 없어 특히 새로 가입한 고객에게 추천이 어려움 (Sparsity problem)\n",
    "- 마찬가지로 새롭게 개봉한 영화도 추천하기가 어려움"
   ]
  },
  {
   "cell_type": "markdown",
   "metadata": {},
   "source": [
    "목차<br>\n",
    "1. 유사도를 이용한 추천\n",
    "2. SVD\n",
    "3. Funk SVD\n",
    "4. SVD 데이터에 적용: Movie Lens data\n",
    "5. Funk SVD 데이터에 적용: Movie Lens data\n",
    "6. 그 외에"
   ]
  },
  {
   "cell_type": "markdown",
   "metadata": {},
   "source": [
    "# 1. 유사도를 이용한 추천"
   ]
  },
  {
   "cell_type": "code",
   "execution_count": 1,
   "metadata": {},
   "outputs": [],
   "source": [
    "import math\n",
    "import operator\n",
    "\n",
    "#Building Custom Data for Movie Rating\n",
    "review = {\n",
    "'Marlon Brando': {\n",
    "'The Godfather': 5.00, \n",
    "'The Godfather Part II': 4.29,\n",
    "'Apocalypse Now': 5.00, \n",
    "'Jaws': 1.\n",
    "},\n",
    "'Stephen King': {\n",
    "'The Shawshank Redemption': 4.89, \n",
    "'The Shining': 4.93 , \n",
    "'The Green Mile': 4.87,\n",
    "'The Godfather': 1.33,\n",
    "},\n",
    "'Steven Spielberg': {\n",
    "'Raiders of the Lost Ark': 5.0, \n",
    "'Jaws': 4.89,\n",
    "'Saving Private Ryan': 4.78, \n",
    "'Star Wars Episode IV - A New Hope': 4.33,\n",
    "'Close Encounters of the Third Kind': 4.77,\n",
    "'The Godfather':  1.25,\n",
    "'The Godfather Part II': 1.72\n",
    "},\n",
    "'George Lucas':{\n",
    "'Star Wars Episode IV - A New Hope': 5.00\t\n",
    "},\n",
    "'Al Pacino': {\n",
    "'The Godfather': 4.02, \n",
    "'The Godfather Part II': 5.00,\n",
    "},\n",
    "'Robert DeNiro': {\n",
    "'The Godfather': 3.07, \n",
    "'The Godfather Part II': 4.29, \n",
    "'Raging Bull': 5.00, \n",
    "'Goodfellas':  4.89\n",
    "},\n",
    "'Robert Duvall': {\n",
    "'The Godfather': 3.80, \n",
    "'The Godfather Part II': 3.61,\n",
    "'Apocalypse Now': 4.26 \n",
    "},\n",
    "'Jack Nicholson': {\n",
    "'The Shining': 5.0,\n",
    "'One Flew Over The Cuckoos Nest': 5.0,\n",
    "'The Godfather': 2.22,\n",
    "'The Godfather Part II': 3.34\n",
    "},\n",
    "'Morgan Freeman': {\n",
    "'The Shawshank Redemption': 4.98,\n",
    "'The Shining': 4.42,\n",
    "'Apocalypse Now': 1.63,\n",
    "'The Godfather': 1.12,\n",
    "'The Godfather Part II': 2.16\n",
    "},\n",
    "'Harrison Ford': {\n",
    "'Raiders of the Lost Ark': 5.0, \n",
    "'Star Wars Episode IV - A New Hope': 4.84,\n",
    "},\n",
    "'Tom Hanks': {\n",
    "'Saving Private Ryan': 3.78, \n",
    "'The Green Mile': 4.96,\n",
    "'The Godfather': 1.04,\n",
    "'The Godfather Part II': 1.03\n",
    "},\n",
    "'Francis Ford Coppola': {\n",
    "'The Godfather': 5.00, \n",
    "'The Godfather Part II': 5.0, \n",
    "'Jaws': 1.24,\n",
    "'One Flew Over The Cuckoos Nest': 2.02\n",
    "},\n",
    "'Martin Scorsese': {\n",
    "'Raging Bull': 5.0, \n",
    "'Goodfellas': 4.87,\n",
    "'Close Encounters of the Third Kind': 1.14,\n",
    "'The Godfather': 4.00\n",
    "},\n",
    "'Diane Keaton': {\n",
    "'The Godfather': 2.98,\n",
    "'The Godfather Part II': 3.93,\n",
    "'Close Encounters of the Third Kind': 1.37\n",
    "},\n",
    "'Richard Dreyfuss': {\n",
    "'Jaws': 5.0, \n",
    "'Close Encounters of the Third Kind': 5.0,\n",
    "'The Godfather': 1.07,\n",
    "'The Godfather Part II': 0.63\n",
    "},\n",
    "'Joe Pesci': {\n",
    "'Raging Bull': 4.89, \n",
    "'Goodfellas': 5.0,\n",
    "'The Godfather': 4.87,\n",
    "'Star Wars Episode IV - A New Hope': 1.32\n",
    "}\n",
    "}"
   ]
  },
  {
   "cell_type": "markdown",
   "metadata": {},
   "source": [
    "- 16명의 사용자의 영화 평점 데이터\n",
    "- 각 사용자는 자신이 봤던 영화에 대해 0~5점의 평점을 매김"
   ]
  },
  {
   "cell_type": "code",
   "execution_count": 2,
   "metadata": {},
   "outputs": [],
   "source": [
    "# Function to get common movies b/w Users\n",
    "def get_common_movies(criticA,criticB):\n",
    "    return [movie for movie in review[criticA] if movie in review[criticB]]\n",
    "# Function to get reviews from the common movies\n",
    "def get_reviews(criticA,criticB):\n",
    "    common_movies = get_common_movies(criticA,criticB)\n",
    "    return [(review[criticA][movie], review[criticB][movie]) for movie in common_movies]"
   ]
  },
  {
   "cell_type": "code",
   "execution_count": 3,
   "metadata": {},
   "outputs": [
    {
     "name": "stdout",
     "output_type": "stream",
     "text": [
      "['The Godfather', 'The Godfather Part II']\n",
      "[(5.0, 3.07), (4.29, 4.29)]\n",
      "['Saving Private Ryan', 'The Godfather', 'The Godfather Part II']\n",
      "[(4.78, 3.78), (1.25, 1.04), (1.72, 1.03)]\n",
      "['Raging Bull', 'Goodfellas', 'The Godfather']\n",
      "[(5.0, 4.89), (4.87, 5.0), (4.0, 4.87)]\n"
     ]
    }
   ],
   "source": [
    "print (get_common_movies('Marlon Brando','Robert DeNiro'))\n",
    "print (get_reviews('Marlon Brando','Robert DeNiro') )\n",
    "print (get_common_movies('Steven Spielberg','Tom Hanks'))\n",
    "print (get_reviews('Steven Spielberg','Tom Hanks'))\n",
    "print (get_common_movies('Martin Scorsese','Joe Pesci'))\n",
    "print (get_reviews('Martin Scorsese','Joe Pesci'))"
   ]
  },
  {
   "cell_type": "markdown",
   "metadata": {},
   "source": [
    "- 말론 블란도와 로버트 드니로 사용자가 공통으로 본 영화는 대부1,2\n",
    "- 말론 브란도는 대부 1을 높게 평가하고 대부 2는 낮게 평가\n",
    "- 로버트 드니로는 대부 1과 대부 2를 비슷하게 평가 "
   ]
  },
  {
   "cell_type": "code",
   "execution_count": 4,
   "metadata": {},
   "outputs": [],
   "source": [
    "# Function to get Euclidean Distance b/w 2 points \n",
    "def euclidean_distance(points):\n",
    "    squared_diffs = [(point[0] - point[1]) ** 2 for point in points]\n",
    "    summed_squared_diffs = sum(squared_diffs)\n",
    "    distance = math.sqrt(summed_squared_diffs)\n",
    "    return distance"
   ]
  },
  {
   "cell_type": "markdown",
   "metadata": {},
   "source": [
    "유사도 $\\frac{1}{1+d(x,y)}$\n",
    "- 점수가 비슷할 수록(Euclidean distance로 가까울 수록) 높은 유사도를 주기 위해 역수를 취함\n",
    "- 거리가 0이되면 분모가 0이 되버리기 때문에 +1를 해서 방지"
   ]
  },
  {
   "cell_type": "code",
   "execution_count": 5,
   "metadata": {},
   "outputs": [],
   "source": [
    "# Function to  calculate similarity more similar less the distance and vice versa\n",
    "# Added 1 for if highly similar can make the distance zero and give NotDefined Error\n",
    "def similarity(reviews):\n",
    "    return 1/ (1 + euclidean_distance(reviews))"
   ]
  },
  {
   "cell_type": "code",
   "execution_count": 6,
   "metadata": {},
   "outputs": [],
   "source": [
    "# Function to get similarity b/w 2 users\n",
    "def get_critic_similarity(criticA, criticB):\n",
    "    reviews = get_reviews(criticA,criticB)\n",
    "    return similarity(reviews)"
   ]
  },
  {
   "cell_type": "code",
   "execution_count": 7,
   "metadata": {},
   "outputs": [
    {
     "name": "stdout",
     "output_type": "stream",
     "text": [
      "0.341296928327645\n",
      "0.4478352722730117\n",
      "0.5300793497254199\n"
     ]
    }
   ],
   "source": [
    "print(get_critic_similarity('Marlon Brando','Robert DeNiro') )\n",
    "print(get_critic_similarity('Steven Spielberg','Tom Hanks') )\n",
    "print(get_critic_similarity('Martin Scorsese','Joe Pesci'))"
   ]
  },
  {
   "cell_type": "markdown",
   "metadata": {},
   "source": [
    "말론 브란도와 로버트 드니로보다 마틴 스코세이지와 조가 비슷한 성향을 가진 사용자"
   ]
  },
  {
   "cell_type": "code",
   "execution_count": 8,
   "metadata": {},
   "outputs": [],
   "source": [
    "# Function to give recommendation to users based on their reviews.\n",
    "def recommend_movies(critic, num_suggestions):\n",
    "    similarity_scores = [(get_critic_similarity(critic, other), other) for other in review if other != critic]\n",
    "    # Get similarity Scores for all the critics\n",
    "    similarity_scores.sort() \n",
    "    similarity_scores.reverse()\n",
    "    similarity_scores = similarity_scores[0:num_suggestions]\n",
    "\n",
    "    recommendations = {}\n",
    "    # Dictionary to store recommendations\n",
    "    for similarity, other in similarity_scores:\n",
    "        reviewed = review[other]\n",
    "        # Storing the review\n",
    "        for movie in reviewed:\n",
    "            if movie not in review[critic]:\n",
    "                weight = similarity * reviewed[movie]\n",
    "                # Weighing similarity with review\n",
    "                if movie in recommendations:\n",
    "                    sim, weights = recommendations[movie]\n",
    "                    recommendations[movie] = (sim + similarity, weights + [weight])\n",
    "                    # Similarity of movie along with weight\n",
    "                else:\n",
    "                    recommendations[movie] = (similarity, [weight])\n",
    "                    \n",
    "\n",
    "    for recommendation in recommendations:\n",
    "        similarity, movie = recommendations[recommendation]\n",
    "        recommendations[recommendation] = sum(movie) / similarity\n",
    "        # Normalizing weights with similarity\n",
    "\n",
    "    sorted_recommendations = sorted(recommendations.items(), key=operator.itemgetter(1), reverse=True)\n",
    "    #Sorting recommendations with weight\n",
    "    return sorted_recommendations"
   ]
  },
  {
   "cell_type": "markdown",
   "metadata": {},
   "source": [
    "- 사용자 간에 공통으로 본 영화 평점을 통해 사용자 간의 유사도를 계산해서 자신과 유사한 K명 선택\n",
    "- 자신이 안 본 영화 중 자신과 가장 유사한 성향의 사용자가 봤던 영화 선택\n",
    "- 이 중 유사도와 유사한 사용자가 내린 평점의 가중 평균으로 추천 점수 결정\n",
    "- 가장 높은 점수 순으로 배열\n",
    "<br>\n",
    "- 예를 들어 Marlon Brando에게 영화를 추천할 때 K=5로 설정시 성향이 가장 비슷한 조지 루카스,조 페스치 등 5명이 선택됨\n",
    "- 이중 조지 루카스가 유사도 1, Joe Pesci가 0.89 였고 스타워즈에 대한 평점이 각각 5점, 1.69였으면 유사도의 가중평균 (1*5+0.89*1.96)/2로 점수 스타워즈에 대한 추천 점수가 3.82가 됨<br>\n",
    "<br>\n",
    "코드의 문제점\n",
    "- 말론 브란도와 조지 루카스는 공통으로 본 영화가 없어서 거리가 계산이 안 되어야 함\n",
    "- 하지만 유사도는 1/(1+0)으로 1이 되어버려 조지 루카스가 가장 유사한 성향이라고 잘 못 계산 됨"
   ]
  },
  {
   "cell_type": "code",
   "execution_count": 9,
   "metadata": {},
   "outputs": [
    {
     "data": {
      "text/plain": [
       "[('Goodfellas', 5.000000000000001),\n",
       " ('Raiders of the Lost Ark', 5.0),\n",
       " ('Raging Bull', 4.89),\n",
       " ('Star Wars Episode IV - A New Hope', 3.8157055214723923),\n",
       " ('One Flew Over The Cuckoos Nest', 2.02)]"
      ]
     },
     "execution_count": 9,
     "metadata": {},
     "output_type": "execute_result"
    }
   ],
   "source": [
    "recommend_movies('Marlon Brando',4)"
   ]
  },
  {
   "cell_type": "code",
   "execution_count": 10,
   "metadata": {},
   "outputs": [
    {
     "data": {
      "text/plain": [
       "[('Raiders of the Lost Ark', 5.0),\n",
       " ('Star Wars Episode IV - A New Hope', 4.92),\n",
       " ('Close Encounters of the Third Kind', 1.2744773851327365)]"
      ]
     },
     "execution_count": 10,
     "metadata": {},
     "output_type": "execute_result"
    }
   ],
   "source": [
    "recommend_movies('Robert DeNiro',4)"
   ]
  },
  {
   "cell_type": "code",
   "execution_count": 11,
   "metadata": {},
   "outputs": [
    {
     "data": {
      "text/plain": [
       "[('The Shawshank Redemption', 4.928285762244913),\n",
       " ('The Green Mile', 4.87),\n",
       " ('The Shining', 4.71304734727882),\n",
       " ('Apocalypse Now', 1.63)]"
      ]
     },
     "execution_count": 11,
     "metadata": {},
     "output_type": "execute_result"
    }
   ],
   "source": [
    "recommend_movies('Steven Spielberg',4)"
   ]
  },
  {
   "cell_type": "code",
   "execution_count": 12,
   "metadata": {},
   "outputs": [
    {
     "data": {
      "text/plain": [
       "[('Raiders of the Lost Ark', 5.0),\n",
       " ('Jaws', 5.0),\n",
       " ('Close Encounters of the Third Kind', 5.0),\n",
       " ('The Shining', 4.93),\n",
       " ('Star Wars Episode IV - A New Hope', 4.92),\n",
       " ('The Shawshank Redemption', 4.89)]"
      ]
     },
     "execution_count": 12,
     "metadata": {},
     "output_type": "execute_result"
    }
   ],
   "source": [
    "recommend_movies('Tom Hanks',4)"
   ]
  },
  {
   "cell_type": "code",
   "execution_count": 13,
   "metadata": {},
   "outputs": [
    {
     "data": {
      "text/plain": [
       "[('Raiders of the Lost Ark', 5.0),\n",
       " ('Star Wars Episode IV - A New Hope', 4.92),\n",
       " ('The Godfather Part II', 4.3613513513513515),\n",
       " ('Apocalypse Now', 4.26)]"
      ]
     },
     "execution_count": 13,
     "metadata": {},
     "output_type": "execute_result"
    }
   ],
   "source": [
    "recommend_movies('Martin Scorsese',4)"
   ]
  },
  {
   "cell_type": "code",
   "execution_count": 14,
   "metadata": {},
   "outputs": [
    {
     "data": {
      "text/plain": [
       "[('Apocalypse Now', 5.000000000000001),\n",
       " ('The Godfather Part II', 4.7280538302277435),\n",
       " ('One Flew Over The Cuckoos Nest', 2.02),\n",
       " ('Close Encounters of the Third Kind', 1.14),\n",
       " ('Jaws', 1.12)]"
      ]
     },
     "execution_count": 14,
     "metadata": {},
     "output_type": "execute_result"
    }
   ],
   "source": [
    "recommend_movies('Joe Pesci',4)"
   ]
  },
  {
   "cell_type": "markdown",
   "metadata": {},
   "source": [
    "# 2. Singular Value Decompostion (SVD)"
   ]
  },
  {
   "cell_type": "markdown",
   "metadata": {},
   "source": [
    "- 데이터의 차원이 너무 커지면 차원의 저주 문제 발생 (한 명이 영화 100개만 평가해도 100차원으로 증가)\n",
    "- SVD를 사용하면 정보를 많이 잃지 않으면서도 차원을 축소할 수 있음<br>\n",
    "<br>\n",
    "- 또한 영화 목록과 사용자 간의 잠재된 특징(latent feature)을 찾게 해줌\n",
    "- 데이터에 숨겨진 상관관계(latent factor)와 같은 유용한 정보를 발견할 수 있고 필요 없는 정보를 제거할 수 있음<br>\n",
    "\n",
    "장점\n",
    "- MSE, MAE와 같은 regression에 사용할 수 있는 척도를 사용할 수 있기 때문에 성능에 대한 평가가 가능\n",
    "- 보편적으로 많이 사용\n",
    "\n",
    "단점\n",
    "- SVD의 문제는 sparse하지 않은 data에는 적합하지만 현실에서는 대부분의 데이터가 sparse 하다는 문제점이 있음\n",
    "- 실제 데이터에서는 95% 이상이 결측 되있는 경우가 많음"
   ]
  },
  {
   "cell_type": "markdown",
   "metadata": {},
   "source": [
    "잠재된 특징이란?\n",
    "- 어떤 유저가 두 영화에 9점의 평점을 줬고 다른 두 영화에는 2점을 줌\n",
    "- 영화 내용을 봤을 때 앞선 두 영화는 AI에 대한 것이었고 뒤에 두 영화는 강아지에 대한 것이었음\n",
    "- 이 유저는 AI 영화를 좋아하고 강아지 영화를 좋아할 가능성이 높음\n",
    "- 하지만 데이터에는 AI나 강아지라는 특징은 표시 되어 있지 않음\n",
    "- SVD는 이러한 잠재된 특징을 찾아낼 수 있음"
   ]
  },
  {
   "cell_type": "markdown",
   "metadata": {},
   "source": [
    "<b>SVD 해석</b>"
   ]
  },
  {
   "cell_type": "markdown",
   "metadata": {},
   "source": [
    "<br>\n",
    "$A=U \\Sigma V^{T}$로 decompose 가능<br>\n",
    "$U_{(m*m)}$: orthogonal matrix(left sigular vectors),<br> \n",
    "$\\Sigma_{m*n}$: positive definite diagonal matrix (Singular values),<br>\n",
    "$V_{n*n}$: orthogonal matrix (right sigular vectors)"
   ]
  },
  {
   "cell_type": "code",
   "execution_count": 15,
   "metadata": {},
   "outputs": [
    {
     "data": {
      "text/plain": [
       "array([[1, 1, 1, 0, 0],\n",
       "       [3, 3, 3, 0, 0],\n",
       "       [4, 4, 4, 0, 0],\n",
       "       [5, 5, 5, 0, 0],\n",
       "       [0, 2, 0, 4, 4],\n",
       "       [0, 0, 0, 5, 5],\n",
       "       [0, 1, 0, 2, 2]])"
      ]
     },
     "execution_count": 15,
     "metadata": {},
     "output_type": "execute_result"
    }
   ],
   "source": [
    "import numpy as np\n",
    "from scipy.linalg import svd\n",
    "\n",
    "A=np.array([[1,1,1,0,0],[3,3,3,0,0],[4,4,4,0,0],[5,5,5,0,0],[0,2,0,4,4],[0,0,0,5,5],[0,1,0,2,2]])\n",
    "U, s, VT = svd(A)\n",
    "A"
   ]
  },
  {
   "cell_type": "markdown",
   "metadata": {},
   "source": [
    "$A_{(7*5)}$: 사용자들의 영화 평점\n",
    "- 열은 매트릭스, 에일리언, 세레니티, 카사블랑카, 에밀리에 영화\n",
    "- 행은 사용자 1,...사용자 7<br>\n",
    "<br>\n",
    "- 매트릭스, 에일리언, 세레니티는 SF 영화로 사용자 1부터 4가 주로 봤음\n",
    "- 카사블랑카, 에밀리에는 로맨스 영화로 사용자 5부터 7이 주로 봤음\n",
    "- 즉 데이터에는 표시 되어 있지 않지만 SF 영화와 로멘스 영화라는 Factor가 2개 있어 보임"
   ]
  },
  {
   "cell_type": "code",
   "execution_count": 41,
   "metadata": {},
   "outputs": [
    {
     "name": "stdout",
     "output_type": "stream",
     "text": [
      "[0.13759913 0.41279738 0.5503965  0.68799563 0.15277509 0.07221651\n",
      " 0.07638754]\n",
      "[0.02361145 0.07083435 0.09444581 0.11805726 0.59110096 0.73131186\n",
      " 0.29555048]\n"
     ]
    }
   ],
   "source": [
    "print(np.abs(U[:,0]))\n",
    "print(np.abs(U[:,1]) )"
   ]
  },
  {
   "cell_type": "markdown",
   "metadata": {},
   "source": [
    "$U_{7*7}$\n",
    "- 행은 사용자 열은 요인\n",
    "- 사용자와 요인의 관계를 볼 수 있음\n",
    "- 첫번 째 열을 보면 4번째 사용자의 값이 가장 높은데 SF 영화의 평점을 보면 5,5,5로 가장 높았음\n",
    "- 반면에 5,6,7번의 값은 낮음\n",
    "- 이것으로 보아 첫 번째 열은 SF 영화에 대한 사용자의 선호를 보여 주는 가중치로 보임<br>\n",
    "<br>\n",
    "- 두 번째 열은 로멘스 영화에 대한 사용자의 선호를 보여 주는 가중치\n",
    "- 6번째 사용자의 값이 가장 높은데 로멘스 영화의 평점을 보면 5,5로 가장 높았음\n",
    "- 이것으로 보아 두 번째 열은 SF 영화에 대한 사용자의 선호를 보여 주는 가중치로 보임<br>"
   ]
  },
  {
   "cell_type": "code",
   "execution_count": 17,
   "metadata": {},
   "outputs": [
    {
     "data": {
      "text/plain": [
       "array([1.24810147e+01, 9.50861406e+00, 1.34555971e+00, 1.84716760e-16,\n",
       "       9.74452038e-33])"
      ]
     },
     "execution_count": 17,
     "metadata": {},
     "output_type": "execute_result"
    }
   ],
   "source": [
    "s"
   ]
  },
  {
   "cell_type": "markdown",
   "metadata": {},
   "source": [
    "$\\Sigma_{(7*5)}$\n",
    "- 3 번째부터 5 번째 값이 상당히 작음\n",
    "- 이는 데이터의 정보가 적다는 것으로 3번째부터 5번째 값의 대응되는 열을 모두 제거(1,2번 요인만 남김)"
   ]
  },
  {
   "cell_type": "code",
   "execution_count": 42,
   "metadata": {},
   "outputs": [
    {
     "name": "stdout",
     "output_type": "stream",
     "text": [
      "[0.56225841 0.5928599  0.56225841 0.09013354 0.09013354]\n",
      "[0.12664138 0.02877058 0.12664138 0.69537622 0.69537622]\n"
     ]
    }
   ],
   "source": [
    "print(abs(VT[0,:]))\n",
    "print(abs(VT[1,:]))"
   ]
  },
  {
   "cell_type": "markdown",
   "metadata": {},
   "source": [
    "$V_{5*5}$ \n",
    "- 행은 요인 열은 영화를 나타냄\n",
    "- 영화와 요인의 관계를 볼 수 있음<br>\n",
    "<br>\n",
    "- 첫 번째 영화와 1번 요인(SF) 간의 관계는 0.56, 2번 요인 (Romance) 간의 관계는 0.12로 요인 1에 가까운 영화\n",
    "- 마찬가지로 영화 1,2,3은 요인 1과 가깝고 4,5는 2번 요인과 가까움"
   ]
  },
  {
   "cell_type": "markdown",
   "metadata": {},
   "source": [
    "<b> 차원 축소 후 복원</b>"
   ]
  },
  {
   "cell_type": "code",
   "execution_count": 25,
   "metadata": {},
   "outputs": [
    {
     "data": {
      "text/plain": [
       "array([[ 9.94042024e-01,  1.01170444e+00,  9.94042024e-01,\n",
       "        -1.32719254e-03, -1.32719254e-03],\n",
       "       [ 2.98212607e+00,  3.03511332e+00,  2.98212607e+00,\n",
       "        -3.98157762e-03, -3.98157762e-03],\n",
       "       [ 3.97616810e+00,  4.04681776e+00,  3.97616810e+00,\n",
       "        -5.30877016e-03, -5.30877016e-03],\n",
       "       [ 4.97021012e+00,  5.05852220e+00,  4.97021012e+00,\n",
       "        -6.63596269e-03, -6.63596269e-03],\n",
       "       [ 3.60313300e-01,  1.29216474e+00,  3.60313300e-01,\n",
       "         4.08026301e+00,  4.08026301e+00],\n",
       "       [-3.73850664e-01,  7.34429403e-01, -3.73850664e-01,\n",
       "         4.91672142e+00,  4.91672142e+00],\n",
       "       [ 1.80156650e-01,  6.46082370e-01,  1.80156650e-01,\n",
       "         2.04013151e+00,  2.04013151e+00]])"
      ]
     },
     "execution_count": 25,
     "metadata": {},
     "output_type": "execute_result"
    }
   ],
   "source": [
    "U1=U[:,0:2]\n",
    "s1=np.diag(s[0:2])\n",
    "VT1=VT[0:2,:]"
   ]
  },
  {
   "cell_type": "code",
   "execution_count": null,
   "metadata": {},
   "outputs": [],
   "source": [
    "A2=np.matmul(  np.matmul(U1,s1),VT1  )\n",
    "A2"
   ]
  },
  {
   "cell_type": "code",
   "execution_count": 78,
   "metadata": {},
   "outputs": [
    {
     "data": {
      "text/plain": [
       "0.051729455444565274"
      ]
     },
     "execution_count": 78,
     "metadata": {},
     "output_type": "execute_result"
    }
   ],
   "source": [
    "np.mean ((A-A2)**2)"
   ]
  },
  {
   "cell_type": "markdown",
   "metadata": {},
   "source": [
    "- singluar value를 2개 남겼지만 원래 행렬 A와 같이 크게 차이 안남\n",
    "- $MSE=\\frac{\\sum (X-\\hat{X})^{2}}{n}$는 0.05로 매우 작음\n",
    "- 정보의 손실이 거의 없음\n",
    "- 예측할 때는 $\\hat{X}$를 이용하지만 여기서는 결측 데이터가 없어서 필요 없음"
   ]
  },
  {
   "cell_type": "markdown",
   "metadata": {},
   "source": [
    "# 3. Funk SVD"
   ]
  },
  {
   "cell_type": "markdown",
   "metadata": {},
   "source": [
    "- Funk SVD는 SVD라는 이름이 붙었지만 실제적으로는 SVD 방법을 사용하지는 않음\n",
    "- SVD는 결측 데이터가 많은 경우 사용이 어렵지만 Funk SVD는 이러한 경우에 SVD보다 좋은 성능을 보임\n",
    "- $U$:사용자와 잠재적 요인 행렬\n",
    "- $V$:잠재적 요인과 영화 행렬<br>\n",
    "- Prediction matrix:$\\hat{X}=UV$<br>\n",
    "\n",
    "- 목적 함수: $\\arg\\min_{U,V}||X-\\hat{X}||_{F}$\n"
   ]
  },
  {
   "cell_type": "code",
   "execution_count": 82,
   "metadata": {},
   "outputs": [
    {
     "data": {
      "text/plain": [
       "array([[nan, nan,  9.,  1.],\n",
       "       [ 3., nan,  7., nan],\n",
       "       [ 5., nan, nan, 10.],\n",
       "       [nan,  2., nan, nan]])"
      ]
     },
     "execution_count": 82,
     "metadata": {},
     "output_type": "execute_result"
    }
   ],
   "source": [
    "B=np.array([[np.nan,np.nan,9,1   ],[3,np.nan,7,np.nan],[5,np.nan,np.nan,10],[np.nan,2,np.nan,np.nan]  ])\n",
    "B"
   ]
  },
  {
   "cell_type": "code",
   "execution_count": 106,
   "metadata": {},
   "outputs": [
    {
     "name": "stdout",
     "output_type": "stream",
     "text": [
      "[[ 0.48813504  2.15189366  1.02763376]\n",
      " [ 0.44883183 -0.76345201  1.45894113]\n",
      " [-0.62412789  3.91773001  4.63662761]\n",
      " [-1.16558481  2.91725038  0.2889492 ]]\n"
     ]
    }
   ],
   "source": [
    "np.random.seed(0)\n",
    "U1=np.array([np.random.uniform(-5,5,3),np.random.uniform(-5,5,3),np.random.uniform(-5,5,3),np.random.uniform(-5,5,3)])\n",
    "print(U1)"
   ]
  },
  {
   "cell_type": "code",
   "execution_count": 107,
   "metadata": {},
   "outputs": [
    {
     "name": "stdout",
     "output_type": "stream",
     "text": [
      "[[-0.82977995  2.20324493 -4.99885625 -1.97667427]\n",
      " [-3.53244109 -4.07661405 -3.13739789 -1.54439273]\n",
      " [-1.03232526  0.38816734 -0.80805486  1.852195  ]]\n"
     ]
    }
   ],
   "source": [
    "np.random.seed(1)\n",
    "VT1=np.array([np.random.uniform(-5,5,4),np.random.uniform(-5,5,4),np.random.uniform(-5,5,4)])\n",
    "print(VT1)"
   ]
  },
  {
   "cell_type": "markdown",
   "metadata": {},
   "source": [
    "$U$ 행렬과 $V$ 행렬에 랜덤한 값을 기입"
   ]
  },
  {
   "cell_type": "code",
   "execution_count": 108,
   "metadata": {},
   "outputs": [
    {
     "data": {
      "text/plain": [
       "array([[ -9.06733456,  -7.29806503, -10.02184798,  -2.38487479],\n",
       "       [  0.81831581,   4.66749893,  -1.02729755,   2.99411887],\n",
       "       [-18.10776944, -15.54639241, -12.91820171,   3.77112228],\n",
       "       [ -9.63612576, -14.34841209,  -3.55947106,  -1.66620851]])"
      ]
     },
     "execution_count": 108,
     "metadata": {},
     "output_type": "execute_result"
    }
   ],
   "source": [
    "np.matmul(U1,VT1)"
   ]
  },
  {
   "cell_type": "markdown",
   "metadata": {},
   "source": [
    "$\\hat{X}_{1}=U_{1}V_{1}^{T}$가 됨"
   ]
  },
  {
   "cell_type": "markdown",
   "metadata": {},
   "source": [
    "Gradient Descent<br>\n",
    "$U_{t+1}= U_{t}- 2\\alpha(X-\\hat{X}_{t})$<br>\n",
    "$V_{t+1}= V_{t}- 2\\alpha(X-\\hat{X}_{t})$<br>\n",
    "이와 같은 과정을 반복해 목적 함수를 최소화"
   ]
  },
  {
   "cell_type": "markdown",
   "metadata": {},
   "source": [
    "- 하지만 Funk SVD라도 새로 가입한 유저에게 추천이 해줄 수 없음 (Cold Start Problem)\n",
    "- Overfitting이 심하기 때문에 보통 regularization term을 추가\n"
   ]
  },
  {
   "cell_type": "markdown",
   "metadata": {},
   "source": [
    "# 4. SVD 데이터에 적용: Movie Lens data"
   ]
  },
  {
   "cell_type": "markdown",
   "metadata": {},
   "source": [
    "출처: https://beckernick.github.io/matrix-factorization-recommender/"
   ]
  },
  {
   "cell_type": "markdown",
   "metadata": {},
   "source": [
    "<b>데이터 불러오기</b>"
   ]
  },
  {
   "cell_type": "code",
   "execution_count": 161,
   "metadata": {},
   "outputs": [],
   "source": [
    "import pandas as pd\n",
    "os.chdir('C:/Users/bki19/Desktop/recommender_system')\n",
    "md =  pd.read_csv('./data/the-movies-dataset/movies_metadata.csv', low_memory=False)"
   ]
  },
  {
   "cell_type": "code",
   "execution_count": 109,
   "metadata": {},
   "outputs": [
    {
     "data": {
      "text/html": [
       "<div>\n",
       "<style scoped>\n",
       "    .dataframe tbody tr th:only-of-type {\n",
       "        vertical-align: middle;\n",
       "    }\n",
       "\n",
       "    .dataframe tbody tr th {\n",
       "        vertical-align: top;\n",
       "    }\n",
       "\n",
       "    .dataframe thead th {\n",
       "        text-align: right;\n",
       "    }\n",
       "</style>\n",
       "<table border=\"1\" class=\"dataframe\">\n",
       "  <thead>\n",
       "    <tr style=\"text-align: right;\">\n",
       "      <th></th>\n",
       "      <th>userId</th>\n",
       "      <th>movieId</th>\n",
       "      <th>rating</th>\n",
       "      <th>timestamp</th>\n",
       "    </tr>\n",
       "  </thead>\n",
       "  <tbody>\n",
       "    <tr>\n",
       "      <th>0</th>\n",
       "      <td>1</td>\n",
       "      <td>31</td>\n",
       "      <td>2.5</td>\n",
       "      <td>1260759144</td>\n",
       "    </tr>\n",
       "    <tr>\n",
       "      <th>1</th>\n",
       "      <td>1</td>\n",
       "      <td>1029</td>\n",
       "      <td>3.0</td>\n",
       "      <td>1260759179</td>\n",
       "    </tr>\n",
       "    <tr>\n",
       "      <th>2</th>\n",
       "      <td>1</td>\n",
       "      <td>1061</td>\n",
       "      <td>3.0</td>\n",
       "      <td>1260759182</td>\n",
       "    </tr>\n",
       "    <tr>\n",
       "      <th>3</th>\n",
       "      <td>1</td>\n",
       "      <td>1129</td>\n",
       "      <td>2.0</td>\n",
       "      <td>1260759185</td>\n",
       "    </tr>\n",
       "    <tr>\n",
       "      <th>4</th>\n",
       "      <td>1</td>\n",
       "      <td>1172</td>\n",
       "      <td>4.0</td>\n",
       "      <td>1260759205</td>\n",
       "    </tr>\n",
       "  </tbody>\n",
       "</table>\n",
       "</div>"
      ],
      "text/plain": [
       "   userId  movieId  rating   timestamp\n",
       "0       1       31     2.5  1260759144\n",
       "1       1     1029     3.0  1260759179\n",
       "2       1     1061     3.0  1260759182\n",
       "3       1     1129     2.0  1260759185\n",
       "4       1     1172     4.0  1260759205"
      ]
     },
     "execution_count": 109,
     "metadata": {},
     "output_type": "execute_result"
    }
   ],
   "source": [
    "import os\n",
    "import pandas as pd\n",
    "os.chdir('C:/Users/bki19/Desktop/recommender_system')\n",
    "ratings = pd.read_csv('./data/the-movies-dataset/ratings_small.csv')\n",
    "ratings.head()"
   ]
  },
  {
   "cell_type": "code",
   "execution_count": 124,
   "metadata": {},
   "outputs": [
    {
     "name": "stdout",
     "output_type": "stream",
     "text": [
      "671\n",
      "9066\n"
     ]
    }
   ],
   "source": [
    "import numpy as np\n",
    "print(len(np.unique(ratings['userId'])))\n",
    "print(len(np.unique(ratings['movieId'])))"
   ]
  },
  {
   "cell_type": "code",
   "execution_count": 165,
   "metadata": {},
   "outputs": [],
   "source": [
    "md = md.drop([19730, 29503, 35587])\n",
    "md['id'] = md['id'].astype('int')\n",
    "md2=md.loc[md['id'].isin(ratings['userId'])]"
   ]
  },
  {
   "cell_type": "code",
   "execution_count": 166,
   "metadata": {},
   "outputs": [
    {
     "data": {
      "text/plain": [
       "(527, 24)"
      ]
     },
     "execution_count": 166,
     "metadata": {},
     "output_type": "execute_result"
    }
   ],
   "source": [
    "md2.shape"
   ]
  },
  {
   "cell_type": "code",
   "execution_count": 173,
   "metadata": {},
   "outputs": [
    {
     "data": {
      "text/html": [
       "<div>\n",
       "<style scoped>\n",
       "    .dataframe tbody tr th:only-of-type {\n",
       "        vertical-align: middle;\n",
       "    }\n",
       "\n",
       "    .dataframe tbody tr th {\n",
       "        vertical-align: top;\n",
       "    }\n",
       "\n",
       "    .dataframe thead th {\n",
       "        text-align: right;\n",
       "    }\n",
       "</style>\n",
       "<table border=\"1\" class=\"dataframe\">\n",
       "  <thead>\n",
       "    <tr style=\"text-align: right;\">\n",
       "      <th></th>\n",
       "      <th>adult</th>\n",
       "      <th>belongs_to_collection</th>\n",
       "      <th>budget</th>\n",
       "      <th>genres</th>\n",
       "      <th>homepage</th>\n",
       "      <th>id</th>\n",
       "      <th>imdb_id</th>\n",
       "      <th>original_language</th>\n",
       "      <th>original_title</th>\n",
       "      <th>overview</th>\n",
       "      <th>...</th>\n",
       "      <th>release_date</th>\n",
       "      <th>revenue</th>\n",
       "      <th>runtime</th>\n",
       "      <th>spoken_languages</th>\n",
       "      <th>status</th>\n",
       "      <th>tagline</th>\n",
       "      <th>title</th>\n",
       "      <th>video</th>\n",
       "      <th>vote_average</th>\n",
       "      <th>vote_count</th>\n",
       "    </tr>\n",
       "  </thead>\n",
       "  <tbody>\n",
       "    <tr>\n",
       "      <th>15</th>\n",
       "      <td>False</td>\n",
       "      <td>NaN</td>\n",
       "      <td>52000000</td>\n",
       "      <td>[{'id': 18, 'name': 'Drama'}, {'id': 80, 'name...</td>\n",
       "      <td>NaN</td>\n",
       "      <td>524</td>\n",
       "      <td>tt0112641</td>\n",
       "      <td>en</td>\n",
       "      <td>Casino</td>\n",
       "      <td>The life of the gambling paradise – Las Vegas ...</td>\n",
       "      <td>...</td>\n",
       "      <td>1995-11-22</td>\n",
       "      <td>116112375.0</td>\n",
       "      <td>178.0</td>\n",
       "      <td>[{'iso_639_1': 'en', 'name': 'English'}]</td>\n",
       "      <td>Released</td>\n",
       "      <td>No one stays at the top forever.</td>\n",
       "      <td>Casino</td>\n",
       "      <td>False</td>\n",
       "      <td>7.8</td>\n",
       "      <td>1343.0</td>\n",
       "    </tr>\n",
       "    <tr>\n",
       "      <th>17</th>\n",
       "      <td>False</td>\n",
       "      <td>NaN</td>\n",
       "      <td>4000000</td>\n",
       "      <td>[{'id': 80, 'name': 'Crime'}, {'id': 35, 'name...</td>\n",
       "      <td>NaN</td>\n",
       "      <td>5</td>\n",
       "      <td>tt0113101</td>\n",
       "      <td>en</td>\n",
       "      <td>Four Rooms</td>\n",
       "      <td>It's Ted the Bellhop's first night on the job....</td>\n",
       "      <td>...</td>\n",
       "      <td>1995-12-09</td>\n",
       "      <td>4300000.0</td>\n",
       "      <td>98.0</td>\n",
       "      <td>[{'iso_639_1': 'en', 'name': 'English'}]</td>\n",
       "      <td>Released</td>\n",
       "      <td>Twelve outrageous guests. Four scandalous requ...</td>\n",
       "      <td>Four Rooms</td>\n",
       "      <td>False</td>\n",
       "      <td>6.5</td>\n",
       "      <td>539.0</td>\n",
       "    </tr>\n",
       "    <tr>\n",
       "      <th>24</th>\n",
       "      <td>False</td>\n",
       "      <td>NaN</td>\n",
       "      <td>3600000</td>\n",
       "      <td>[{'id': 18, 'name': 'Drama'}, {'id': 10749, 'n...</td>\n",
       "      <td>http://www.mgm.com/title_title.do?title_star=L...</td>\n",
       "      <td>451</td>\n",
       "      <td>tt0113627</td>\n",
       "      <td>en</td>\n",
       "      <td>Leaving Las Vegas</td>\n",
       "      <td>Ben Sanderson, an alcoholic Hollywood screenwr...</td>\n",
       "      <td>...</td>\n",
       "      <td>1995-10-27</td>\n",
       "      <td>49800000.0</td>\n",
       "      <td>112.0</td>\n",
       "      <td>[{'iso_639_1': 'en', 'name': 'English'}]</td>\n",
       "      <td>Released</td>\n",
       "      <td>I Love You... The Way You Are.</td>\n",
       "      <td>Leaving Las Vegas</td>\n",
       "      <td>False</td>\n",
       "      <td>7.1</td>\n",
       "      <td>365.0</td>\n",
       "    </tr>\n",
       "    <tr>\n",
       "      <th>31</th>\n",
       "      <td>False</td>\n",
       "      <td>NaN</td>\n",
       "      <td>29500000</td>\n",
       "      <td>[{'id': 878, 'name': 'Science Fiction'}, {'id'...</td>\n",
       "      <td>NaN</td>\n",
       "      <td>63</td>\n",
       "      <td>tt0114746</td>\n",
       "      <td>en</td>\n",
       "      <td>Twelve Monkeys</td>\n",
       "      <td>In the year 2035, convict James Cole reluctant...</td>\n",
       "      <td>...</td>\n",
       "      <td>1995-12-29</td>\n",
       "      <td>168840000.0</td>\n",
       "      <td>129.0</td>\n",
       "      <td>[{'iso_639_1': 'en', 'name': 'English'}, {'iso...</td>\n",
       "      <td>Released</td>\n",
       "      <td>The future is history.</td>\n",
       "      <td>Twelve Monkeys</td>\n",
       "      <td>False</td>\n",
       "      <td>7.4</td>\n",
       "      <td>2470.0</td>\n",
       "    </tr>\n",
       "    <tr>\n",
       "      <th>44</th>\n",
       "      <td>False</td>\n",
       "      <td>NaN</td>\n",
       "      <td>20000000</td>\n",
       "      <td>[{'id': 14, 'name': 'Fantasy'}, {'id': 18, 'na...</td>\n",
       "      <td>NaN</td>\n",
       "      <td>577</td>\n",
       "      <td>tt0114681</td>\n",
       "      <td>en</td>\n",
       "      <td>To Die For</td>\n",
       "      <td>Susan wants to work in television and will the...</td>\n",
       "      <td>...</td>\n",
       "      <td>1995-05-20</td>\n",
       "      <td>21284514.0</td>\n",
       "      <td>106.0</td>\n",
       "      <td>[{'iso_639_1': 'en', 'name': 'English'}]</td>\n",
       "      <td>Released</td>\n",
       "      <td>All she wanted was a little attention.</td>\n",
       "      <td>To Die For</td>\n",
       "      <td>False</td>\n",
       "      <td>6.7</td>\n",
       "      <td>177.0</td>\n",
       "    </tr>\n",
       "  </tbody>\n",
       "</table>\n",
       "<p>5 rows × 24 columns</p>\n",
       "</div>"
      ],
      "text/plain": [
       "    adult belongs_to_collection    budget  \\\n",
       "15  False                   NaN  52000000   \n",
       "17  False                   NaN   4000000   \n",
       "24  False                   NaN   3600000   \n",
       "31  False                   NaN  29500000   \n",
       "44  False                   NaN  20000000   \n",
       "\n",
       "                                               genres  \\\n",
       "15  [{'id': 18, 'name': 'Drama'}, {'id': 80, 'name...   \n",
       "17  [{'id': 80, 'name': 'Crime'}, {'id': 35, 'name...   \n",
       "24  [{'id': 18, 'name': 'Drama'}, {'id': 10749, 'n...   \n",
       "31  [{'id': 878, 'name': 'Science Fiction'}, {'id'...   \n",
       "44  [{'id': 14, 'name': 'Fantasy'}, {'id': 18, 'na...   \n",
       "\n",
       "                                             homepage   id    imdb_id  \\\n",
       "15                                                NaN  524  tt0112641   \n",
       "17                                                NaN    5  tt0113101   \n",
       "24  http://www.mgm.com/title_title.do?title_star=L...  451  tt0113627   \n",
       "31                                                NaN   63  tt0114746   \n",
       "44                                                NaN  577  tt0114681   \n",
       "\n",
       "   original_language     original_title  \\\n",
       "15                en             Casino   \n",
       "17                en         Four Rooms   \n",
       "24                en  Leaving Las Vegas   \n",
       "31                en     Twelve Monkeys   \n",
       "44                en         To Die For   \n",
       "\n",
       "                                             overview  ... release_date  \\\n",
       "15  The life of the gambling paradise – Las Vegas ...  ...   1995-11-22   \n",
       "17  It's Ted the Bellhop's first night on the job....  ...   1995-12-09   \n",
       "24  Ben Sanderson, an alcoholic Hollywood screenwr...  ...   1995-10-27   \n",
       "31  In the year 2035, convict James Cole reluctant...  ...   1995-12-29   \n",
       "44  Susan wants to work in television and will the...  ...   1995-05-20   \n",
       "\n",
       "        revenue runtime                                   spoken_languages  \\\n",
       "15  116112375.0   178.0           [{'iso_639_1': 'en', 'name': 'English'}]   \n",
       "17    4300000.0    98.0           [{'iso_639_1': 'en', 'name': 'English'}]   \n",
       "24   49800000.0   112.0           [{'iso_639_1': 'en', 'name': 'English'}]   \n",
       "31  168840000.0   129.0  [{'iso_639_1': 'en', 'name': 'English'}, {'iso...   \n",
       "44   21284514.0   106.0           [{'iso_639_1': 'en', 'name': 'English'}]   \n",
       "\n",
       "      status                                            tagline  \\\n",
       "15  Released                   No one stays at the top forever.   \n",
       "17  Released  Twelve outrageous guests. Four scandalous requ...   \n",
       "24  Released                     I Love You... The Way You Are.   \n",
       "31  Released                             The future is history.   \n",
       "44  Released             All she wanted was a little attention.   \n",
       "\n",
       "                title  video vote_average vote_count  \n",
       "15             Casino  False          7.8     1343.0  \n",
       "17         Four Rooms  False          6.5      539.0  \n",
       "24  Leaving Las Vegas  False          7.1      365.0  \n",
       "31     Twelve Monkeys  False          7.4     2470.0  \n",
       "44         To Die For  False          6.7      177.0  \n",
       "\n",
       "[5 rows x 24 columns]"
      ]
     },
     "execution_count": 173,
     "metadata": {},
     "output_type": "execute_result"
    }
   ],
   "source": [
    "md2.head()"
   ]
  },
  {
   "cell_type": "markdown",
   "metadata": {},
   "source": [
    "671명의 사용자가 9066개의 영화 평가"
   ]
  },
  {
   "cell_type": "markdown",
   "metadata": {},
   "source": [
    "<b>행을 유저, 열을 영화 아이디로 변환</b>"
   ]
  },
  {
   "cell_type": "code",
   "execution_count": 113,
   "metadata": {},
   "outputs": [
    {
     "data": {
      "text/html": [
       "<div>\n",
       "<style scoped>\n",
       "    .dataframe tbody tr th:only-of-type {\n",
       "        vertical-align: middle;\n",
       "    }\n",
       "\n",
       "    .dataframe tbody tr th {\n",
       "        vertical-align: top;\n",
       "    }\n",
       "\n",
       "    .dataframe thead th {\n",
       "        text-align: right;\n",
       "    }\n",
       "</style>\n",
       "<table border=\"1\" class=\"dataframe\">\n",
       "  <thead>\n",
       "    <tr style=\"text-align: right;\">\n",
       "      <th>movieId</th>\n",
       "      <th>1</th>\n",
       "      <th>2</th>\n",
       "      <th>3</th>\n",
       "      <th>4</th>\n",
       "      <th>5</th>\n",
       "      <th>6</th>\n",
       "      <th>7</th>\n",
       "      <th>8</th>\n",
       "      <th>9</th>\n",
       "      <th>10</th>\n",
       "      <th>...</th>\n",
       "      <th>161084</th>\n",
       "      <th>161155</th>\n",
       "      <th>161594</th>\n",
       "      <th>161830</th>\n",
       "      <th>161918</th>\n",
       "      <th>161944</th>\n",
       "      <th>162376</th>\n",
       "      <th>162542</th>\n",
       "      <th>162672</th>\n",
       "      <th>163949</th>\n",
       "    </tr>\n",
       "    <tr>\n",
       "      <th>userId</th>\n",
       "      <th></th>\n",
       "      <th></th>\n",
       "      <th></th>\n",
       "      <th></th>\n",
       "      <th></th>\n",
       "      <th></th>\n",
       "      <th></th>\n",
       "      <th></th>\n",
       "      <th></th>\n",
       "      <th></th>\n",
       "      <th></th>\n",
       "      <th></th>\n",
       "      <th></th>\n",
       "      <th></th>\n",
       "      <th></th>\n",
       "      <th></th>\n",
       "      <th></th>\n",
       "      <th></th>\n",
       "      <th></th>\n",
       "      <th></th>\n",
       "      <th></th>\n",
       "    </tr>\n",
       "  </thead>\n",
       "  <tbody>\n",
       "    <tr>\n",
       "      <th>1</th>\n",
       "      <td>0.0</td>\n",
       "      <td>0.0</td>\n",
       "      <td>0.0</td>\n",
       "      <td>0.0</td>\n",
       "      <td>0.0</td>\n",
       "      <td>0.0</td>\n",
       "      <td>0.0</td>\n",
       "      <td>0.0</td>\n",
       "      <td>0.0</td>\n",
       "      <td>0.0</td>\n",
       "      <td>...</td>\n",
       "      <td>0.0</td>\n",
       "      <td>0.0</td>\n",
       "      <td>0.0</td>\n",
       "      <td>0.0</td>\n",
       "      <td>0.0</td>\n",
       "      <td>0.0</td>\n",
       "      <td>0.0</td>\n",
       "      <td>0.0</td>\n",
       "      <td>0.0</td>\n",
       "      <td>0.0</td>\n",
       "    </tr>\n",
       "    <tr>\n",
       "      <th>2</th>\n",
       "      <td>0.0</td>\n",
       "      <td>0.0</td>\n",
       "      <td>0.0</td>\n",
       "      <td>0.0</td>\n",
       "      <td>0.0</td>\n",
       "      <td>0.0</td>\n",
       "      <td>0.0</td>\n",
       "      <td>0.0</td>\n",
       "      <td>0.0</td>\n",
       "      <td>4.0</td>\n",
       "      <td>...</td>\n",
       "      <td>0.0</td>\n",
       "      <td>0.0</td>\n",
       "      <td>0.0</td>\n",
       "      <td>0.0</td>\n",
       "      <td>0.0</td>\n",
       "      <td>0.0</td>\n",
       "      <td>0.0</td>\n",
       "      <td>0.0</td>\n",
       "      <td>0.0</td>\n",
       "      <td>0.0</td>\n",
       "    </tr>\n",
       "    <tr>\n",
       "      <th>3</th>\n",
       "      <td>0.0</td>\n",
       "      <td>0.0</td>\n",
       "      <td>0.0</td>\n",
       "      <td>0.0</td>\n",
       "      <td>0.0</td>\n",
       "      <td>0.0</td>\n",
       "      <td>0.0</td>\n",
       "      <td>0.0</td>\n",
       "      <td>0.0</td>\n",
       "      <td>0.0</td>\n",
       "      <td>...</td>\n",
       "      <td>0.0</td>\n",
       "      <td>0.0</td>\n",
       "      <td>0.0</td>\n",
       "      <td>0.0</td>\n",
       "      <td>0.0</td>\n",
       "      <td>0.0</td>\n",
       "      <td>0.0</td>\n",
       "      <td>0.0</td>\n",
       "      <td>0.0</td>\n",
       "      <td>0.0</td>\n",
       "    </tr>\n",
       "    <tr>\n",
       "      <th>4</th>\n",
       "      <td>0.0</td>\n",
       "      <td>0.0</td>\n",
       "      <td>0.0</td>\n",
       "      <td>0.0</td>\n",
       "      <td>0.0</td>\n",
       "      <td>0.0</td>\n",
       "      <td>0.0</td>\n",
       "      <td>0.0</td>\n",
       "      <td>0.0</td>\n",
       "      <td>4.0</td>\n",
       "      <td>...</td>\n",
       "      <td>0.0</td>\n",
       "      <td>0.0</td>\n",
       "      <td>0.0</td>\n",
       "      <td>0.0</td>\n",
       "      <td>0.0</td>\n",
       "      <td>0.0</td>\n",
       "      <td>0.0</td>\n",
       "      <td>0.0</td>\n",
       "      <td>0.0</td>\n",
       "      <td>0.0</td>\n",
       "    </tr>\n",
       "    <tr>\n",
       "      <th>5</th>\n",
       "      <td>0.0</td>\n",
       "      <td>0.0</td>\n",
       "      <td>4.0</td>\n",
       "      <td>0.0</td>\n",
       "      <td>0.0</td>\n",
       "      <td>0.0</td>\n",
       "      <td>0.0</td>\n",
       "      <td>0.0</td>\n",
       "      <td>0.0</td>\n",
       "      <td>0.0</td>\n",
       "      <td>...</td>\n",
       "      <td>0.0</td>\n",
       "      <td>0.0</td>\n",
       "      <td>0.0</td>\n",
       "      <td>0.0</td>\n",
       "      <td>0.0</td>\n",
       "      <td>0.0</td>\n",
       "      <td>0.0</td>\n",
       "      <td>0.0</td>\n",
       "      <td>0.0</td>\n",
       "      <td>0.0</td>\n",
       "    </tr>\n",
       "  </tbody>\n",
       "</table>\n",
       "<p>5 rows × 9066 columns</p>\n",
       "</div>"
      ],
      "text/plain": [
       "movieId  1       2       3       4       5       6       7       8       \\\n",
       "userId                                                                    \n",
       "1           0.0     0.0     0.0     0.0     0.0     0.0     0.0     0.0   \n",
       "2           0.0     0.0     0.0     0.0     0.0     0.0     0.0     0.0   \n",
       "3           0.0     0.0     0.0     0.0     0.0     0.0     0.0     0.0   \n",
       "4           0.0     0.0     0.0     0.0     0.0     0.0     0.0     0.0   \n",
       "5           0.0     0.0     4.0     0.0     0.0     0.0     0.0     0.0   \n",
       "\n",
       "movieId  9       10      ...  161084  161155  161594  161830  161918  161944  \\\n",
       "userId                   ...                                                   \n",
       "1           0.0     0.0  ...     0.0     0.0     0.0     0.0     0.0     0.0   \n",
       "2           0.0     4.0  ...     0.0     0.0     0.0     0.0     0.0     0.0   \n",
       "3           0.0     0.0  ...     0.0     0.0     0.0     0.0     0.0     0.0   \n",
       "4           0.0     4.0  ...     0.0     0.0     0.0     0.0     0.0     0.0   \n",
       "5           0.0     0.0  ...     0.0     0.0     0.0     0.0     0.0     0.0   \n",
       "\n",
       "movieId  162376  162542  162672  163949  \n",
       "userId                                   \n",
       "1           0.0     0.0     0.0     0.0  \n",
       "2           0.0     0.0     0.0     0.0  \n",
       "3           0.0     0.0     0.0     0.0  \n",
       "4           0.0     0.0     0.0     0.0  \n",
       "5           0.0     0.0     0.0     0.0  \n",
       "\n",
       "[5 rows x 9066 columns]"
      ]
     },
     "execution_count": 113,
     "metadata": {},
     "output_type": "execute_result"
    }
   ],
   "source": [
    "R_df = ratings.pivot(index = 'userId', columns ='movieId', values = 'rating').fillna(0)\n",
    "R_df.head()"
   ]
  },
  {
   "cell_type": "markdown",
   "metadata": {},
   "source": [
    "Sparse한 데이터"
   ]
  },
  {
   "cell_type": "code",
   "execution_count": 119,
   "metadata": {},
   "outputs": [
    {
     "name": "stderr",
     "output_type": "stream",
     "text": [
      "C:\\Users\\bki19\\Anaconda3\\envs\\tf36\\lib\\site-packages\\ipykernel_launcher.py:1: FutureWarning: Method .as_matrix will be removed in a future version. Use .values instead.\n",
      "  \"\"\"Entry point for launching an IPython kernel.\n"
     ]
    }
   ],
   "source": [
    "R = R_df.as_matrix()\n",
    "user_ratings_mean = np.mean(R, axis = 1)\n",
    "R_demeaned = R - user_ratings_mean.reshape(-1, 1)"
   ]
  },
  {
   "cell_type": "markdown",
   "metadata": {},
   "source": [
    "유저마다 평균을 빼서 centering"
   ]
  },
  {
   "cell_type": "markdown",
   "metadata": {},
   "source": [
    "<b>SVD</b>"
   ]
  },
  {
   "cell_type": "code",
   "execution_count": 122,
   "metadata": {},
   "outputs": [],
   "source": [
    "from scipy.sparse.linalg import svds\n",
    "U, sigma, Vt = svds(R_demeaned, k = 50)"
   ]
  },
  {
   "cell_type": "markdown",
   "metadata": {},
   "source": [
    "k: 축소할 차원<br>\n",
    "하이퍼 파라미터 처럼 보고 cross validation을 할 수도 있음"
   ]
  },
  {
   "cell_type": "code",
   "execution_count": 123,
   "metadata": {},
   "outputs": [],
   "source": [
    "#Singular value matrix\n",
    "sigma = np.diag(sigma)"
   ]
  },
  {
   "cell_type": "markdown",
   "metadata": {},
   "source": [
    "<b>Prediction</b>"
   ]
  },
  {
   "cell_type": "code",
   "execution_count": 125,
   "metadata": {},
   "outputs": [],
   "source": [
    "all_user_predicted_ratings = np.dot(np.dot(U, sigma), Vt) + user_ratings_mean.reshape(-1, 1)\n",
    "preds_df = pd.DataFrame(all_user_predicted_ratings, columns = R_df.columns)"
   ]
  },
  {
   "cell_type": "code",
   "execution_count": 145,
   "metadata": {},
   "outputs": [
    {
     "data": {
      "text/html": [
       "<div>\n",
       "<style scoped>\n",
       "    .dataframe tbody tr th:only-of-type {\n",
       "        vertical-align: middle;\n",
       "    }\n",
       "\n",
       "    .dataframe tbody tr th {\n",
       "        vertical-align: top;\n",
       "    }\n",
       "\n",
       "    .dataframe thead th {\n",
       "        text-align: right;\n",
       "    }\n",
       "</style>\n",
       "<table border=\"1\" class=\"dataframe\">\n",
       "  <thead>\n",
       "    <tr style=\"text-align: right;\">\n",
       "      <th>movieId</th>\n",
       "      <th>1</th>\n",
       "      <th>2</th>\n",
       "      <th>3</th>\n",
       "      <th>4</th>\n",
       "      <th>5</th>\n",
       "      <th>6</th>\n",
       "      <th>7</th>\n",
       "      <th>8</th>\n",
       "      <th>9</th>\n",
       "      <th>10</th>\n",
       "      <th>...</th>\n",
       "      <th>161084</th>\n",
       "      <th>161155</th>\n",
       "      <th>161594</th>\n",
       "      <th>161830</th>\n",
       "      <th>161918</th>\n",
       "      <th>161944</th>\n",
       "      <th>162376</th>\n",
       "      <th>162542</th>\n",
       "      <th>162672</th>\n",
       "      <th>163949</th>\n",
       "    </tr>\n",
       "  </thead>\n",
       "  <tbody>\n",
       "    <tr>\n",
       "      <th>0</th>\n",
       "      <td>-0.054239</td>\n",
       "      <td>0.045130</td>\n",
       "      <td>-0.004835</td>\n",
       "      <td>-0.019817</td>\n",
       "      <td>-0.011284</td>\n",
       "      <td>0.041373</td>\n",
       "      <td>-0.007822</td>\n",
       "      <td>-0.017188</td>\n",
       "      <td>0.012246</td>\n",
       "      <td>0.037670</td>\n",
       "      <td>...</td>\n",
       "      <td>-0.005258</td>\n",
       "      <td>-0.005453</td>\n",
       "      <td>0.012369</td>\n",
       "      <td>-0.004991</td>\n",
       "      <td>-0.004639</td>\n",
       "      <td>-0.019055</td>\n",
       "      <td>0.021402</td>\n",
       "      <td>-0.006365</td>\n",
       "      <td>-0.006098</td>\n",
       "      <td>-0.004819</td>\n",
       "    </tr>\n",
       "    <tr>\n",
       "      <th>1</th>\n",
       "      <td>0.419835</td>\n",
       "      <td>1.406440</td>\n",
       "      <td>-0.188807</td>\n",
       "      <td>0.156658</td>\n",
       "      <td>0.268032</td>\n",
       "      <td>0.414698</td>\n",
       "      <td>0.052172</td>\n",
       "      <td>0.044728</td>\n",
       "      <td>-0.020198</td>\n",
       "      <td>2.220256</td>\n",
       "      <td>...</td>\n",
       "      <td>-0.005909</td>\n",
       "      <td>-0.003974</td>\n",
       "      <td>-0.012555</td>\n",
       "      <td>-0.003555</td>\n",
       "      <td>-0.002711</td>\n",
       "      <td>-0.071621</td>\n",
       "      <td>-0.016212</td>\n",
       "      <td>0.001047</td>\n",
       "      <td>-0.001468</td>\n",
       "      <td>-0.006577</td>\n",
       "    </tr>\n",
       "    <tr>\n",
       "      <th>2</th>\n",
       "      <td>1.345619</td>\n",
       "      <td>0.266505</td>\n",
       "      <td>-0.011962</td>\n",
       "      <td>0.012278</td>\n",
       "      <td>0.079508</td>\n",
       "      <td>0.090960</td>\n",
       "      <td>-0.122094</td>\n",
       "      <td>0.031327</td>\n",
       "      <td>-0.018023</td>\n",
       "      <td>0.141176</td>\n",
       "      <td>...</td>\n",
       "      <td>-0.002647</td>\n",
       "      <td>-0.002364</td>\n",
       "      <td>-0.010153</td>\n",
       "      <td>0.000277</td>\n",
       "      <td>-0.000116</td>\n",
       "      <td>-0.018063</td>\n",
       "      <td>-0.015761</td>\n",
       "      <td>0.010611</td>\n",
       "      <td>0.006792</td>\n",
       "      <td>-0.006357</td>\n",
       "    </tr>\n",
       "    <tr>\n",
       "      <th>3</th>\n",
       "      <td>1.133455</td>\n",
       "      <td>1.046982</td>\n",
       "      <td>0.141275</td>\n",
       "      <td>0.081841</td>\n",
       "      <td>-0.339675</td>\n",
       "      <td>-1.484659</td>\n",
       "      <td>-0.263096</td>\n",
       "      <td>-0.169750</td>\n",
       "      <td>-0.021862</td>\n",
       "      <td>1.611664</td>\n",
       "      <td>...</td>\n",
       "      <td>0.020805</td>\n",
       "      <td>0.000410</td>\n",
       "      <td>0.056040</td>\n",
       "      <td>-0.002817</td>\n",
       "      <td>-0.000767</td>\n",
       "      <td>0.159159</td>\n",
       "      <td>0.087519</td>\n",
       "      <td>-0.030854</td>\n",
       "      <td>-0.021279</td>\n",
       "      <td>0.048529</td>\n",
       "    </tr>\n",
       "    <tr>\n",
       "      <th>4</th>\n",
       "      <td>1.389578</td>\n",
       "      <td>1.466495</td>\n",
       "      <td>0.605557</td>\n",
       "      <td>-0.029647</td>\n",
       "      <td>0.729380</td>\n",
       "      <td>-0.118539</td>\n",
       "      <td>-0.026017</td>\n",
       "      <td>0.065577</td>\n",
       "      <td>-0.156655</td>\n",
       "      <td>0.307926</td>\n",
       "      <td>...</td>\n",
       "      <td>-0.007422</td>\n",
       "      <td>-0.011810</td>\n",
       "      <td>0.006644</td>\n",
       "      <td>-0.005159</td>\n",
       "      <td>-0.001249</td>\n",
       "      <td>-0.034658</td>\n",
       "      <td>0.016456</td>\n",
       "      <td>0.001710</td>\n",
       "      <td>-0.004166</td>\n",
       "      <td>-0.001864</td>\n",
       "    </tr>\n",
       "  </tbody>\n",
       "</table>\n",
       "<p>5 rows × 9066 columns</p>\n",
       "</div>"
      ],
      "text/plain": [
       "movieId    1         2         3         4         5         6         7       \\\n",
       "0       -0.054239  0.045130 -0.004835 -0.019817 -0.011284  0.041373 -0.007822   \n",
       "1        0.419835  1.406440 -0.188807  0.156658  0.268032  0.414698  0.052172   \n",
       "2        1.345619  0.266505 -0.011962  0.012278  0.079508  0.090960 -0.122094   \n",
       "3        1.133455  1.046982  0.141275  0.081841 -0.339675 -1.484659 -0.263096   \n",
       "4        1.389578  1.466495  0.605557 -0.029647  0.729380 -0.118539 -0.026017   \n",
       "\n",
       "movieId    8         9         10      ...    161084    161155    161594  \\\n",
       "0       -0.017188  0.012246  0.037670  ... -0.005258 -0.005453  0.012369   \n",
       "1        0.044728 -0.020198  2.220256  ... -0.005909 -0.003974 -0.012555   \n",
       "2        0.031327 -0.018023  0.141176  ... -0.002647 -0.002364 -0.010153   \n",
       "3       -0.169750 -0.021862  1.611664  ...  0.020805  0.000410  0.056040   \n",
       "4        0.065577 -0.156655  0.307926  ... -0.007422 -0.011810  0.006644   \n",
       "\n",
       "movieId    161830    161918    161944    162376    162542    162672    163949  \n",
       "0       -0.004991 -0.004639 -0.019055  0.021402 -0.006365 -0.006098 -0.004819  \n",
       "1       -0.003555 -0.002711 -0.071621 -0.016212  0.001047 -0.001468 -0.006577  \n",
       "2        0.000277 -0.000116 -0.018063 -0.015761  0.010611  0.006792 -0.006357  \n",
       "3       -0.002817 -0.000767  0.159159  0.087519 -0.030854 -0.021279  0.048529  \n",
       "4       -0.005159 -0.001249 -0.034658  0.016456  0.001710 -0.004166 -0.001864  \n",
       "\n",
       "[5 rows x 9066 columns]"
      ]
     },
     "execution_count": 145,
     "metadata": {},
     "output_type": "execute_result"
    }
   ],
   "source": [
    "preds_df.head()"
   ]
  },
  {
   "cell_type": "markdown",
   "metadata": {},
   "source": [
    "$\\hat{r}_{ij}$: i번째 유저가 j번째 영화에 줄 평점 예측<br>\n",
    "$\\hat{r}_{ij}=\\bar{r}_{i}+U \\Sigma V^{T} $<br>\n",
    "$\\bar{r}_{i}$: SVD를 적합시키기 전에 centering 해줬던 것을 다시 더 해줌<br>"
   ]
  },
  {
   "cell_type": "code",
   "execution_count": 153,
   "metadata": {},
   "outputs": [],
   "source": [
    "def recommend_movies(predictions_df, userID, movies_df, original_ratings_df, num_recommendations=5):\n",
    "    \n",
    "    # Get and sort the user's predictions\n",
    "    user_row_number = userID - 1 # UserID starts at 1, not 0\n",
    "    sorted_user_predictions = predictions_df.iloc[user_row_number].sort_values(ascending=False)\n",
    "    \n",
    "    # Get the user's data and merge in the movie information.\n",
    "    user_data = original_ratings_df[original_ratings_df.userId == (userID)]\n",
    "    user_full = (user_data.merge(movies_df, how = 'left', left_on = 'movieId', right_on = 'id').\n",
    "                     sort_values(['rating'], ascending=False)\n",
    "                 )\n",
    "\n",
    "    print ('User {0} has already rated {1} movies.'.format(userID, user_full.shape[0]) )\n",
    "    print ('Recommending the highest {0} predicted ratings movies not already rated.'.format(num_recommendations) )\n",
    "    \n",
    "    # Recommend the highest predicted rating movies that the user hasn't seen yet.\n",
    "    recommendations = (movies_df[~movies_df['id'].isin(user_full['movieId'])].\n",
    "         merge(pd.DataFrame(sorted_user_predictions).reset_index(), how = 'left',\n",
    "               left_on = 'id',\n",
    "               right_on = 'movieId').\n",
    "         rename(columns = {user_row_number: 'Predictions'}).\n",
    "         sort_values('Predictions', ascending = False).\n",
    "                       iloc[:num_recommendations, :-1]\n",
    "                      )\n",
    "\n",
    "    return user_full, recommendations"
   ]
  },
  {
   "cell_type": "code",
   "execution_count": 177,
   "metadata": {},
   "outputs": [
    {
     "name": "stdout",
     "output_type": "stream",
     "text": [
      "User 2 has already rated 76 movies.\n",
      "Recommending the highest 10 predicted ratings movies not already rated.\n"
     ]
    }
   ],
   "source": [
    "already_rated, predictions = recommend_movies(preds_df, 2, md2, ratings, 10)"
   ]
  },
  {
   "cell_type": "code",
   "execution_count": 180,
   "metadata": {},
   "outputs": [
    {
     "data": {
      "text/html": [
       "<div>\n",
       "<style scoped>\n",
       "    .dataframe tbody tr th:only-of-type {\n",
       "        vertical-align: middle;\n",
       "    }\n",
       "\n",
       "    .dataframe tbody tr th {\n",
       "        vertical-align: top;\n",
       "    }\n",
       "\n",
       "    .dataframe thead th {\n",
       "        text-align: right;\n",
       "    }\n",
       "</style>\n",
       "<table border=\"1\" class=\"dataframe\">\n",
       "  <thead>\n",
       "    <tr style=\"text-align: right;\">\n",
       "      <th></th>\n",
       "      <th>userId</th>\n",
       "      <th>rating</th>\n",
       "      <th>title</th>\n",
       "    </tr>\n",
       "  </thead>\n",
       "  <tbody>\n",
       "    <tr>\n",
       "      <th>63</th>\n",
       "      <td>2</td>\n",
       "      <td>5.0</td>\n",
       "      <td>The Poseidon Adventure</td>\n",
       "    </tr>\n",
       "    <tr>\n",
       "      <th>25</th>\n",
       "      <td>2</td>\n",
       "      <td>5.0</td>\n",
       "      <td>Contempt</td>\n",
       "    </tr>\n",
       "    <tr>\n",
       "      <th>71</th>\n",
       "      <td>2</td>\n",
       "      <td>5.0</td>\n",
       "      <td>The Conversation</td>\n",
       "    </tr>\n",
       "    <tr>\n",
       "      <th>70</th>\n",
       "      <td>2</td>\n",
       "      <td>5.0</td>\n",
       "      <td>The Hours</td>\n",
       "    </tr>\n",
       "    <tr>\n",
       "      <th>65</th>\n",
       "      <td>2</td>\n",
       "      <td>5.0</td>\n",
       "      <td>Monsters, Inc.</td>\n",
       "    </tr>\n",
       "    <tr>\n",
       "      <th>17</th>\n",
       "      <td>2</td>\n",
       "      <td>5.0</td>\n",
       "      <td>Berlin: Symphony of a Great City</td>\n",
       "    </tr>\n",
       "    <tr>\n",
       "      <th>9</th>\n",
       "      <td>2</td>\n",
       "      <td>5.0</td>\n",
       "      <td>48 Hrs.</td>\n",
       "    </tr>\n",
       "    <tr>\n",
       "      <th>24</th>\n",
       "      <td>2</td>\n",
       "      <td>5.0</td>\n",
       "      <td>Lili Marleen</td>\n",
       "    </tr>\n",
       "    <tr>\n",
       "      <th>1</th>\n",
       "      <td>2</td>\n",
       "      <td>5.0</td>\n",
       "      <td>The Dark</td>\n",
       "    </tr>\n",
       "    <tr>\n",
       "      <th>36</th>\n",
       "      <td>2</td>\n",
       "      <td>4.0</td>\n",
       "      <td>The Devil Wears Prada</td>\n",
       "    </tr>\n",
       "  </tbody>\n",
       "</table>\n",
       "</div>"
      ],
      "text/plain": [
       "    userId  rating                             title\n",
       "63       2     5.0            The Poseidon Adventure\n",
       "25       2     5.0                          Contempt\n",
       "71       2     5.0                  The Conversation\n",
       "70       2     5.0                         The Hours\n",
       "65       2     5.0                    Monsters, Inc.\n",
       "17       2     5.0  Berlin: Symphony of a Great City\n",
       "9        2     5.0                           48 Hrs.\n",
       "24       2     5.0                      Lili Marleen\n",
       "1        2     5.0                          The Dark\n",
       "36       2     4.0             The Devil Wears Prada"
      ]
     },
     "execution_count": 180,
     "metadata": {},
     "output_type": "execute_result"
    }
   ],
   "source": [
    "already_rated[['userId','rating','title']].dropna(subset=['title']).head(10)"
   ]
  },
  {
   "cell_type": "markdown",
   "metadata": {},
   "source": [
    "# 5. Funk SVD 데이터에 적용: Movie Lens data"
   ]
  },
  {
   "cell_type": "code",
   "execution_count": 1,
   "metadata": {},
   "outputs": [],
   "source": [
    "from surprise import Reader, Dataset, SVD\n",
    "from surprise.model_selection import cross_validate"
   ]
  },
  {
   "cell_type": "code",
   "execution_count": 2,
   "metadata": {},
   "outputs": [
    {
     "data": {
      "text/html": [
       "<div>\n",
       "<style scoped>\n",
       "    .dataframe tbody tr th:only-of-type {\n",
       "        vertical-align: middle;\n",
       "    }\n",
       "\n",
       "    .dataframe tbody tr th {\n",
       "        vertical-align: top;\n",
       "    }\n",
       "\n",
       "    .dataframe thead th {\n",
       "        text-align: right;\n",
       "    }\n",
       "</style>\n",
       "<table border=\"1\" class=\"dataframe\">\n",
       "  <thead>\n",
       "    <tr style=\"text-align: right;\">\n",
       "      <th></th>\n",
       "      <th>userId</th>\n",
       "      <th>movieId</th>\n",
       "      <th>rating</th>\n",
       "      <th>timestamp</th>\n",
       "    </tr>\n",
       "  </thead>\n",
       "  <tbody>\n",
       "    <tr>\n",
       "      <th>0</th>\n",
       "      <td>1</td>\n",
       "      <td>31</td>\n",
       "      <td>2.5</td>\n",
       "      <td>1260759144</td>\n",
       "    </tr>\n",
       "    <tr>\n",
       "      <th>1</th>\n",
       "      <td>1</td>\n",
       "      <td>1029</td>\n",
       "      <td>3.0</td>\n",
       "      <td>1260759179</td>\n",
       "    </tr>\n",
       "    <tr>\n",
       "      <th>2</th>\n",
       "      <td>1</td>\n",
       "      <td>1061</td>\n",
       "      <td>3.0</td>\n",
       "      <td>1260759182</td>\n",
       "    </tr>\n",
       "    <tr>\n",
       "      <th>3</th>\n",
       "      <td>1</td>\n",
       "      <td>1129</td>\n",
       "      <td>2.0</td>\n",
       "      <td>1260759185</td>\n",
       "    </tr>\n",
       "    <tr>\n",
       "      <th>4</th>\n",
       "      <td>1</td>\n",
       "      <td>1172</td>\n",
       "      <td>4.0</td>\n",
       "      <td>1260759205</td>\n",
       "    </tr>\n",
       "  </tbody>\n",
       "</table>\n",
       "</div>"
      ],
      "text/plain": [
       "   userId  movieId  rating   timestamp\n",
       "0       1       31     2.5  1260759144\n",
       "1       1     1029     3.0  1260759179\n",
       "2       1     1061     3.0  1260759182\n",
       "3       1     1129     2.0  1260759185\n",
       "4       1     1172     4.0  1260759205"
      ]
     },
     "execution_count": 2,
     "metadata": {},
     "output_type": "execute_result"
    }
   ],
   "source": [
    "import os\n",
    "import pandas as pd\n",
    "os.chdir('C:/Users/bki19/Desktop/recommender_system')\n",
    "ratings = pd.read_csv('./data/the-movies-dataset/ratings_small.csv')\n",
    "ratings.head()"
   ]
  },
  {
   "cell_type": "code",
   "execution_count": 3,
   "metadata": {},
   "outputs": [
    {
     "data": {
      "text/plain": [
       "(100004, 4)"
      ]
     },
     "execution_count": 3,
     "metadata": {},
     "output_type": "execute_result"
    }
   ],
   "source": [
    "ratings.shape"
   ]
  },
  {
   "cell_type": "code",
   "execution_count": 4,
   "metadata": {},
   "outputs": [
    {
     "name": "stdout",
     "output_type": "stream",
     "text": [
      "671\n",
      "9066\n"
     ]
    }
   ],
   "source": [
    "import numpy as np\n",
    "print(len(np.unique(ratings['userId'])))\n",
    "print(len(np.unique(ratings['movieId'])))"
   ]
  },
  {
   "cell_type": "markdown",
   "metadata": {},
   "source": [
    "671명의 사용자가 9066개의 영화 평가"
   ]
  },
  {
   "cell_type": "code",
   "execution_count": 5,
   "metadata": {},
   "outputs": [],
   "source": [
    "reader = Reader()\n",
    "data = Dataset.load_from_df(ratings[['userId', 'movieId', 'rating']], reader)"
   ]
  },
  {
   "cell_type": "code",
   "execution_count": 6,
   "metadata": {},
   "outputs": [
    {
     "name": "stdout",
     "output_type": "stream",
     "text": [
      "Evaluating RMSE, MAE of algorithm SVD on 5 split(s).\n",
      "\n",
      "                  Fold 1  Fold 2  Fold 3  Fold 4  Fold 5  Mean    Std     \n",
      "RMSE (testset)    0.9029  0.8947  0.9004  0.8897  0.8964  0.8968  0.0046  \n",
      "MAE (testset)     0.6931  0.6901  0.6939  0.6855  0.6906  0.6906  0.0029  \n",
      "Fit time          8.39    9.54    8.61    7.89    7.81    8.45    0.62    \n",
      "Test time         0.23    0.34    0.20    0.20    0.22    0.24    0.05    \n"
     ]
    },
    {
     "data": {
      "text/plain": [
       "{'test_rmse': array([0.90292382, 0.8946516 , 0.90037901, 0.88967356, 0.89638446]),\n",
       " 'test_mae': array([0.69309809, 0.69010149, 0.69387813, 0.68548234, 0.69059818]),\n",
       " 'fit_time': (8.392886638641357,\n",
       "  9.543054342269897,\n",
       "  8.613791942596436,\n",
       "  7.890775680541992,\n",
       "  7.806208610534668),\n",
       " 'test_time': (0.22590279579162598,\n",
       "  0.34363627433776855,\n",
       "  0.19997644424438477,\n",
       "  0.20046520233154297,\n",
       "  0.21593117713928223)}"
      ]
     },
     "execution_count": 6,
     "metadata": {},
     "output_type": "execute_result"
    }
   ],
   "source": [
    "svd = SVD()\n",
    "cross_validate(svd, data, measures=['RMSE', 'MAE'], cv=5, verbose=True)"
   ]
  },
  {
   "cell_type": "markdown",
   "metadata": {},
   "source": [
    "SVD에서 트레인 테스트는 어떻게 나눌까?\n",
    "- 먼저 전체 데이터셋으로 U,V를 추정한 후 복원 된 $\\hat{X}$를 구함\n",
    "- 행을 랜덤으로 트레인과 테스트로 나눔"
   ]
  },
  {
   "cell_type": "markdown",
   "metadata": {},
   "source": [
    "- 5-fold Cross validation으로 예측\n",
    "- 한번에 80%의 데이터로 SVD를 적합시킨후 20%의 데이터에 예측하는 과정을 5번\n",
    "- RMSE의 평균이 0.8959로 상당히 높고 fold마다 큰 차이가 없어 SVD를 사용하기에 무리 없어 보임"
   ]
  },
  {
   "cell_type": "code",
   "execution_count": 7,
   "metadata": {},
   "outputs": [
    {
     "name": "stderr",
     "output_type": "stream",
     "text": [
      "C:\\Users\\bki19\\Anaconda3\\envs\\tf36\\lib\\site-packages\\surprise\\prediction_algorithms\\algo_base.py:51: UserWarning: train() is deprecated. Use fit() instead\n",
      "  warnings.warn('train() is deprecated. Use fit() instead', UserWarning)\n"
     ]
    },
    {
     "data": {
      "text/plain": [
       "<surprise.prediction_algorithms.matrix_factorization.SVD at 0x1fe4821c518>"
      ]
     },
     "execution_count": 7,
     "metadata": {},
     "output_type": "execute_result"
    }
   ],
   "source": [
    "trainset = data.build_full_trainset()\n",
    "svd.train(trainset)"
   ]
  },
  {
   "cell_type": "code",
   "execution_count": 8,
   "metadata": {},
   "outputs": [
    {
     "data": {
      "text/html": [
       "<div>\n",
       "<style scoped>\n",
       "    .dataframe tbody tr th:only-of-type {\n",
       "        vertical-align: middle;\n",
       "    }\n",
       "\n",
       "    .dataframe tbody tr th {\n",
       "        vertical-align: top;\n",
       "    }\n",
       "\n",
       "    .dataframe thead th {\n",
       "        text-align: right;\n",
       "    }\n",
       "</style>\n",
       "<table border=\"1\" class=\"dataframe\">\n",
       "  <thead>\n",
       "    <tr style=\"text-align: right;\">\n",
       "      <th></th>\n",
       "      <th>userId</th>\n",
       "      <th>movieId</th>\n",
       "      <th>rating</th>\n",
       "      <th>timestamp</th>\n",
       "    </tr>\n",
       "  </thead>\n",
       "  <tbody>\n",
       "    <tr>\n",
       "      <th>0</th>\n",
       "      <td>1</td>\n",
       "      <td>31</td>\n",
       "      <td>2.5</td>\n",
       "      <td>1260759144</td>\n",
       "    </tr>\n",
       "    <tr>\n",
       "      <th>1</th>\n",
       "      <td>1</td>\n",
       "      <td>1029</td>\n",
       "      <td>3.0</td>\n",
       "      <td>1260759179</td>\n",
       "    </tr>\n",
       "    <tr>\n",
       "      <th>2</th>\n",
       "      <td>1</td>\n",
       "      <td>1061</td>\n",
       "      <td>3.0</td>\n",
       "      <td>1260759182</td>\n",
       "    </tr>\n",
       "    <tr>\n",
       "      <th>3</th>\n",
       "      <td>1</td>\n",
       "      <td>1129</td>\n",
       "      <td>2.0</td>\n",
       "      <td>1260759185</td>\n",
       "    </tr>\n",
       "    <tr>\n",
       "      <th>4</th>\n",
       "      <td>1</td>\n",
       "      <td>1172</td>\n",
       "      <td>4.0</td>\n",
       "      <td>1260759205</td>\n",
       "    </tr>\n",
       "    <tr>\n",
       "      <th>5</th>\n",
       "      <td>1</td>\n",
       "      <td>1263</td>\n",
       "      <td>2.0</td>\n",
       "      <td>1260759151</td>\n",
       "    </tr>\n",
       "    <tr>\n",
       "      <th>6</th>\n",
       "      <td>1</td>\n",
       "      <td>1287</td>\n",
       "      <td>2.0</td>\n",
       "      <td>1260759187</td>\n",
       "    </tr>\n",
       "    <tr>\n",
       "      <th>7</th>\n",
       "      <td>1</td>\n",
       "      <td>1293</td>\n",
       "      <td>2.0</td>\n",
       "      <td>1260759148</td>\n",
       "    </tr>\n",
       "    <tr>\n",
       "      <th>8</th>\n",
       "      <td>1</td>\n",
       "      <td>1339</td>\n",
       "      <td>3.5</td>\n",
       "      <td>1260759125</td>\n",
       "    </tr>\n",
       "    <tr>\n",
       "      <th>9</th>\n",
       "      <td>1</td>\n",
       "      <td>1343</td>\n",
       "      <td>2.0</td>\n",
       "      <td>1260759131</td>\n",
       "    </tr>\n",
       "    <tr>\n",
       "      <th>10</th>\n",
       "      <td>1</td>\n",
       "      <td>1371</td>\n",
       "      <td>2.5</td>\n",
       "      <td>1260759135</td>\n",
       "    </tr>\n",
       "    <tr>\n",
       "      <th>11</th>\n",
       "      <td>1</td>\n",
       "      <td>1405</td>\n",
       "      <td>1.0</td>\n",
       "      <td>1260759203</td>\n",
       "    </tr>\n",
       "    <tr>\n",
       "      <th>12</th>\n",
       "      <td>1</td>\n",
       "      <td>1953</td>\n",
       "      <td>4.0</td>\n",
       "      <td>1260759191</td>\n",
       "    </tr>\n",
       "    <tr>\n",
       "      <th>13</th>\n",
       "      <td>1</td>\n",
       "      <td>2105</td>\n",
       "      <td>4.0</td>\n",
       "      <td>1260759139</td>\n",
       "    </tr>\n",
       "    <tr>\n",
       "      <th>14</th>\n",
       "      <td>1</td>\n",
       "      <td>2150</td>\n",
       "      <td>3.0</td>\n",
       "      <td>1260759194</td>\n",
       "    </tr>\n",
       "    <tr>\n",
       "      <th>15</th>\n",
       "      <td>1</td>\n",
       "      <td>2193</td>\n",
       "      <td>2.0</td>\n",
       "      <td>1260759198</td>\n",
       "    </tr>\n",
       "    <tr>\n",
       "      <th>16</th>\n",
       "      <td>1</td>\n",
       "      <td>2294</td>\n",
       "      <td>2.0</td>\n",
       "      <td>1260759108</td>\n",
       "    </tr>\n",
       "    <tr>\n",
       "      <th>17</th>\n",
       "      <td>1</td>\n",
       "      <td>2455</td>\n",
       "      <td>2.5</td>\n",
       "      <td>1260759113</td>\n",
       "    </tr>\n",
       "    <tr>\n",
       "      <th>18</th>\n",
       "      <td>1</td>\n",
       "      <td>2968</td>\n",
       "      <td>1.0</td>\n",
       "      <td>1260759200</td>\n",
       "    </tr>\n",
       "    <tr>\n",
       "      <th>19</th>\n",
       "      <td>1</td>\n",
       "      <td>3671</td>\n",
       "      <td>3.0</td>\n",
       "      <td>1260759117</td>\n",
       "    </tr>\n",
       "  </tbody>\n",
       "</table>\n",
       "</div>"
      ],
      "text/plain": [
       "    userId  movieId  rating   timestamp\n",
       "0        1       31     2.5  1260759144\n",
       "1        1     1029     3.0  1260759179\n",
       "2        1     1061     3.0  1260759182\n",
       "3        1     1129     2.0  1260759185\n",
       "4        1     1172     4.0  1260759205\n",
       "5        1     1263     2.0  1260759151\n",
       "6        1     1287     2.0  1260759187\n",
       "7        1     1293     2.0  1260759148\n",
       "8        1     1339     3.5  1260759125\n",
       "9        1     1343     2.0  1260759131\n",
       "10       1     1371     2.5  1260759135\n",
       "11       1     1405     1.0  1260759203\n",
       "12       1     1953     4.0  1260759191\n",
       "13       1     2105     4.0  1260759139\n",
       "14       1     2150     3.0  1260759194\n",
       "15       1     2193     2.0  1260759198\n",
       "16       1     2294     2.0  1260759108\n",
       "17       1     2455     2.5  1260759113\n",
       "18       1     2968     1.0  1260759200\n",
       "19       1     3671     3.0  1260759117"
      ]
     },
     "execution_count": 8,
     "metadata": {},
     "output_type": "execute_result"
    }
   ],
   "source": [
    "ratings[ratings['userId'] == 1]"
   ]
  },
  {
   "cell_type": "code",
   "execution_count": 14,
   "metadata": {},
   "outputs": [
    {
     "data": {
      "text/plain": [
       "Prediction(uid=1, iid=302, r_ui=3, est=2.7991029599998747, details={'was_impossible': False})"
      ]
     },
     "execution_count": 14,
     "metadata": {},
     "output_type": "execute_result"
    }
   ],
   "source": [
    "svd.predict(1, 302, 3)"
   ]
  },
  {
   "cell_type": "markdown",
   "metadata": {},
   "source": [
    "1번 유저는 302번 영화에 별점을 2.799 줄 것으로 예상"
   ]
  },
  {
   "cell_type": "markdown",
   "metadata": {},
   "source": [
    "# 6. 그 외에"
   ]
  },
  {
   "cell_type": "markdown",
   "metadata": {},
   "source": [
    "Hybrid Recommender"
   ]
  },
  {
   "cell_type": "markdown",
   "metadata": {},
   "source": [
    "- Content Recommender와 Collaborative Filter를 모두 이용하는 방법\n",
    "- 먼저 Content Recommender을 사용자 평점 데이터가 없는 부분에 적용"
   ]
  },
  {
   "cell_type": "markdown",
   "metadata": {},
   "source": [
    "Association Rules Learning\n",
    "- 특정 상품과 다른 상품의 연관성을 찾는 방법\n",
    "- E-commerce에서 많이 사용되며 사용자가 주상품과 연관된 상품을 추천해 줌"
   ]
  },
  {
   "cell_type": "markdown",
   "metadata": {},
   "source": [
    "출처: \n",
    "- https://towardsdatascience.com/learning-to-make-recommendations-745d13883951\n",
    "- https://www.datacamp.com/community/tutorials/recommender-systems-python\n",
    "- https://github.com/rounakbanik/movies/blob/master/movies_recommender.ipynb\n",
    "- https://medium.com/datadriveninvestor/how-funk-singular-value-decomposition-algorithm-work-in-recommendation-engines-36f2fbf62cac\n",
    "\n",
    "데이터 출처:\n",
    "- https://nbviewer.jupyter.org/github/BadreeshShetty/Learnings-to-make-Recommedations/tree/master/Content%20Filtering/\n",
    "- https://www.kaggle.com/rounakbanik/the-movies-dataset/data"
   ]
  },
  {
   "cell_type": "code",
   "execution_count": null,
   "metadata": {},
   "outputs": [],
   "source": []
  }
 ],
 "metadata": {
  "kernelspec": {
   "display_name": "Python 3",
   "language": "python",
   "name": "python3"
  },
  "language_info": {
   "codemirror_mode": {
    "name": "ipython",
    "version": 3
   },
   "file_extension": ".py",
   "mimetype": "text/x-python",
   "name": "python",
   "nbconvert_exporter": "python",
   "pygments_lexer": "ipython3",
   "version": "3.6.8"
  }
 },
 "nbformat": 4,
 "nbformat_minor": 2
}
