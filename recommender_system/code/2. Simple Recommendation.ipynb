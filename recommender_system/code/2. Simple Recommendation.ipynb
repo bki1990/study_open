{
 "cells": [
  {
   "cell_type": "markdown",
   "metadata": {},
   "source": [
    "# Simple Recommender"
   ]
  },
  {
   "cell_type": "markdown",
   "metadata": {},
   "source": [
    "- 아이디어: <u>'대부분의 사람들이 좋아하면 나도 좋아할 것이다'</u>\n",
    "- 인기도에 기반하여 모든 사용자에게 똑같은 추천을 하는 방법\n",
    "- 예를 들어 음악이나 영화를 볼 때 사람들은 인기 차트를 참고"
   ]
  },
  {
   "cell_type": "markdown",
   "metadata": {},
   "source": [
    "목차<br>\n",
    "1. 가중치를 통한 평점과 투표 수 반영<br>\n",
    "    1) 가중 평균을 통한 보정 방법<br>\n",
    "    2) 신뢰구간을 이용하여 평점과 투표수 반영<br>\n",
    "2. 최신 글일 수록 상위권에 노출하는 방법<br>\n",
    "    1) Hacker News 추천 방식<br>\n",
    "    2) Reddit의 추천 방식<br>\n",
    "3. 연결성에 초점을 둔 추천 방식\n",
    "4. Simple Recommender의 한계"
   ]
  },
  {
   "cell_type": "markdown",
   "metadata": {},
   "source": [
    "# 1. 가중치를 통한 평점과 투표 수 반영"
   ]
  },
  {
   "cell_type": "markdown",
   "metadata": {},
   "source": [
    "- 평점이 높은 상품이 좋은 상품일 것이다\n",
    "- 하지만 평점은 단순 평균이기 때문에 많은 사람들이 좋아하는지 반영할 수가 없음<br>\n",
    "예를들어 1명이 10점을 준 영화보다 1000명이 9점을 준 영화가 더 좋은 영화일 가능성이 높음<br>\n",
    "- 또한 영화의 전체적인 평점 역시 고려해야함<br>\n",
    "전체적인 상품의 평점이 10점만점에 9점이면 높은 점수가 아님\n",
    "- 영화나 음악 검색 사이트에서 많이 사용하는 방식"
   ]
  },
  {
   "cell_type": "markdown",
   "metadata": {},
   "source": [
    "# <b>1) 가중 평균을 통한 보정 방법</b>"
   ]
  },
  {
   "cell_type": "markdown",
   "metadata": {},
   "source": [
    "$Weighted Average(WR)= (\\frac{v}{v+m}\\cdot R)+(\\frac{m}{v+m}\\cdot C)$<br>\n",
    "$v$: 투표한 사람의 수<br>\n",
    "$m$: 차트에 등재 되기 위한 최소 투표 수<br>\n",
    "$R$: 각 상품에 대한 평점<br>\n",
    "$C$: 전체 평균 투표 수<br>\n",
    "- 평균 투표 수와 평균 평점의 가중 평균으로 점수 부여\n",
    "- 최소 투표 수 $m$을 지정 <br>\n",
    "=> $m$이 작을 수록 $C$가 낮아져 투표 한 사람이 많을 수록 상품의 평점이 많이 반영<br>\n",
    "=> $m$이 클 수록 $C$가 높아짐 "
   ]
  },
  {
   "cell_type": "markdown",
   "metadata": {},
   "source": [
    "<b>데이터 소개</b>\n",
    "- Full MovieLens 데이터셋에서 45,000개의 영화에 대한 데이터\n",
    "- 영화에 대한 사람들의 평가(평점, 투표수)와 영화에 대한 정보(장르, 개봉일 등)가 있는 데이터\n"
   ]
  },
  {
   "cell_type": "code",
   "execution_count": 4,
   "metadata": {},
   "outputs": [
    {
     "data": {
      "text/html": [
       "<div>\n",
       "<style scoped>\n",
       "    .dataframe tbody tr th:only-of-type {\n",
       "        vertical-align: middle;\n",
       "    }\n",
       "\n",
       "    .dataframe tbody tr th {\n",
       "        vertical-align: top;\n",
       "    }\n",
       "\n",
       "    .dataframe thead th {\n",
       "        text-align: right;\n",
       "    }\n",
       "</style>\n",
       "<table border=\"1\" class=\"dataframe\">\n",
       "  <thead>\n",
       "    <tr style=\"text-align: right;\">\n",
       "      <th></th>\n",
       "      <th>adult</th>\n",
       "      <th>belongs_to_collection</th>\n",
       "      <th>budget</th>\n",
       "      <th>genres</th>\n",
       "      <th>homepage</th>\n",
       "      <th>id</th>\n",
       "      <th>imdb_id</th>\n",
       "      <th>original_language</th>\n",
       "      <th>original_title</th>\n",
       "      <th>overview</th>\n",
       "      <th>...</th>\n",
       "      <th>release_date</th>\n",
       "      <th>revenue</th>\n",
       "      <th>runtime</th>\n",
       "      <th>spoken_languages</th>\n",
       "      <th>status</th>\n",
       "      <th>tagline</th>\n",
       "      <th>title</th>\n",
       "      <th>video</th>\n",
       "      <th>vote_average</th>\n",
       "      <th>vote_count</th>\n",
       "    </tr>\n",
       "  </thead>\n",
       "  <tbody>\n",
       "    <tr>\n",
       "      <th>0</th>\n",
       "      <td>False</td>\n",
       "      <td>{'id': 10194, 'name': 'Toy Story Collection', ...</td>\n",
       "      <td>30000000</td>\n",
       "      <td>[{'id': 16, 'name': 'Animation'}, {'id': 35, '...</td>\n",
       "      <td>http://toystory.disney.com/toy-story</td>\n",
       "      <td>862</td>\n",
       "      <td>tt0114709</td>\n",
       "      <td>en</td>\n",
       "      <td>Toy Story</td>\n",
       "      <td>Led by Woody, Andy's toys live happily in his ...</td>\n",
       "      <td>...</td>\n",
       "      <td>1995-10-30</td>\n",
       "      <td>373554033.0</td>\n",
       "      <td>81.0</td>\n",
       "      <td>[{'iso_639_1': 'en', 'name': 'English'}]</td>\n",
       "      <td>Released</td>\n",
       "      <td>NaN</td>\n",
       "      <td>Toy Story</td>\n",
       "      <td>False</td>\n",
       "      <td>7.7</td>\n",
       "      <td>5415.0</td>\n",
       "    </tr>\n",
       "    <tr>\n",
       "      <th>1</th>\n",
       "      <td>False</td>\n",
       "      <td>NaN</td>\n",
       "      <td>65000000</td>\n",
       "      <td>[{'id': 12, 'name': 'Adventure'}, {'id': 14, '...</td>\n",
       "      <td>NaN</td>\n",
       "      <td>8844</td>\n",
       "      <td>tt0113497</td>\n",
       "      <td>en</td>\n",
       "      <td>Jumanji</td>\n",
       "      <td>When siblings Judy and Peter discover an encha...</td>\n",
       "      <td>...</td>\n",
       "      <td>1995-12-15</td>\n",
       "      <td>262797249.0</td>\n",
       "      <td>104.0</td>\n",
       "      <td>[{'iso_639_1': 'en', 'name': 'English'}, {'iso...</td>\n",
       "      <td>Released</td>\n",
       "      <td>Roll the dice and unleash the excitement!</td>\n",
       "      <td>Jumanji</td>\n",
       "      <td>False</td>\n",
       "      <td>6.9</td>\n",
       "      <td>2413.0</td>\n",
       "    </tr>\n",
       "    <tr>\n",
       "      <th>2</th>\n",
       "      <td>False</td>\n",
       "      <td>{'id': 119050, 'name': 'Grumpy Old Men Collect...</td>\n",
       "      <td>0</td>\n",
       "      <td>[{'id': 10749, 'name': 'Romance'}, {'id': 35, ...</td>\n",
       "      <td>NaN</td>\n",
       "      <td>15602</td>\n",
       "      <td>tt0113228</td>\n",
       "      <td>en</td>\n",
       "      <td>Grumpier Old Men</td>\n",
       "      <td>A family wedding reignites the ancient feud be...</td>\n",
       "      <td>...</td>\n",
       "      <td>1995-12-22</td>\n",
       "      <td>0.0</td>\n",
       "      <td>101.0</td>\n",
       "      <td>[{'iso_639_1': 'en', 'name': 'English'}]</td>\n",
       "      <td>Released</td>\n",
       "      <td>Still Yelling. Still Fighting. Still Ready for...</td>\n",
       "      <td>Grumpier Old Men</td>\n",
       "      <td>False</td>\n",
       "      <td>6.5</td>\n",
       "      <td>92.0</td>\n",
       "    </tr>\n",
       "  </tbody>\n",
       "</table>\n",
       "<p>3 rows × 24 columns</p>\n",
       "</div>"
      ],
      "text/plain": [
       "   adult                              belongs_to_collection    budget  \\\n",
       "0  False  {'id': 10194, 'name': 'Toy Story Collection', ...  30000000   \n",
       "1  False                                                NaN  65000000   \n",
       "2  False  {'id': 119050, 'name': 'Grumpy Old Men Collect...         0   \n",
       "\n",
       "                                              genres  \\\n",
       "0  [{'id': 16, 'name': 'Animation'}, {'id': 35, '...   \n",
       "1  [{'id': 12, 'name': 'Adventure'}, {'id': 14, '...   \n",
       "2  [{'id': 10749, 'name': 'Romance'}, {'id': 35, ...   \n",
       "\n",
       "                               homepage     id    imdb_id original_language  \\\n",
       "0  http://toystory.disney.com/toy-story    862  tt0114709                en   \n",
       "1                                   NaN   8844  tt0113497                en   \n",
       "2                                   NaN  15602  tt0113228                en   \n",
       "\n",
       "     original_title                                           overview  ...  \\\n",
       "0         Toy Story  Led by Woody, Andy's toys live happily in his ...  ...   \n",
       "1           Jumanji  When siblings Judy and Peter discover an encha...  ...   \n",
       "2  Grumpier Old Men  A family wedding reignites the ancient feud be...  ...   \n",
       "\n",
       "  release_date      revenue runtime  \\\n",
       "0   1995-10-30  373554033.0    81.0   \n",
       "1   1995-12-15  262797249.0   104.0   \n",
       "2   1995-12-22          0.0   101.0   \n",
       "\n",
       "                                    spoken_languages    status  \\\n",
       "0           [{'iso_639_1': 'en', 'name': 'English'}]  Released   \n",
       "1  [{'iso_639_1': 'en', 'name': 'English'}, {'iso...  Released   \n",
       "2           [{'iso_639_1': 'en', 'name': 'English'}]  Released   \n",
       "\n",
       "                                             tagline             title  video  \\\n",
       "0                                                NaN         Toy Story  False   \n",
       "1          Roll the dice and unleash the excitement!           Jumanji  False   \n",
       "2  Still Yelling. Still Fighting. Still Ready for...  Grumpier Old Men  False   \n",
       "\n",
       "  vote_average vote_count  \n",
       "0          7.7     5415.0  \n",
       "1          6.9     2413.0  \n",
       "2          6.5       92.0  \n",
       "\n",
       "[3 rows x 24 columns]"
      ]
     },
     "execution_count": 4,
     "metadata": {},
     "output_type": "execute_result"
    }
   ],
   "source": [
    "import os\n",
    "import pandas as pd\n",
    "os.chdir('C:/Users/bki19/Desktop/recommender_system')\n",
    "metadata =  pd.read_csv('./data/the-movies-dataset/movies_metadata.csv', low_memory=False)\n",
    "metadata.head(3)"
   ]
  },
  {
   "cell_type": "code",
   "execution_count": 3,
   "metadata": {},
   "outputs": [
    {
     "name": "stdout",
     "output_type": "stream",
     "text": [
      "5.618207215134185\n"
     ]
    }
   ],
   "source": [
    "# Calculate C\n",
    "C = metadata['vote_average'].mean()\n",
    "print(C)"
   ]
  },
  {
   "cell_type": "markdown",
   "metadata": {},
   "source": [
    "10점 만점에서 평균 점수는 5.61점"
   ]
  },
  {
   "cell_type": "code",
   "execution_count": 24,
   "metadata": {
    "scrolled": true
   },
   "outputs": [
    {
     "name": "stdout",
     "output_type": "stream",
     "text": [
      "160.0\n"
     ]
    },
    {
     "data": {
      "text/plain": [
       "<matplotlib.lines.Line2D at 0x16ee8d926a0>"
      ]
     },
     "execution_count": 24,
     "metadata": {},
     "output_type": "execute_result"
    },
    {
     "data": {
      "image/png": "[encoded data removed]",
      "text/plain": [
       "<Figure size 432x288 with 1 Axes>"
      ]
     },
     "metadata": {
      "needs_background": "light"
     },
     "output_type": "display_data"
    }
   ],
   "source": [
    "# Calculate the minimum number of votes required to be in the chart, m\n",
    "m = metadata['vote_count'].quantile(0.90)\n",
    "print(m)\n",
    "\n",
    "import matplotlib.pyplot as plt\n",
    "plt.plot(metadata['vote_count'])\n",
    "plt.axhline(y=m,color='red')"
   ]
  },
  {
   "cell_type": "markdown",
   "metadata": {},
   "source": [
    "상위 10퍼센트의 투표 수를 가진 영화는 160표 이상<br>\n",
    "$m=160$으로 설정하여 상위 10퍼센트의 영화"
   ]
  },
  {
   "cell_type": "code",
   "execution_count": 25,
   "metadata": {},
   "outputs": [
    {
     "data": {
      "text/plain": [
       "(4555, 24)"
      ]
     },
     "execution_count": 25,
     "metadata": {},
     "output_type": "execute_result"
    }
   ],
   "source": [
    "# Filter out all qualified movies into a new DataFrame\n",
    "q_movies = metadata.copy().loc[metadata['vote_count'] >= m]\n",
    "q_movies.shape"
   ]
  },
  {
   "cell_type": "markdown",
   "metadata": {},
   "source": [
    "최소 투표 수를 받지 못한 영화는 모두 제거 (90퍼센트가 제거 됨)"
   ]
  },
  {
   "cell_type": "code",
   "execution_count": 27,
   "metadata": {},
   "outputs": [],
   "source": [
    "# Function that computes the weighted rating of each movie\n",
    "def weighted_rating(x, m=m, C=C):\n",
    "    v = x['vote_count']\n",
    "    R = x['vote_average']\n",
    "    # Calculation based on the IMDB formula\n",
    "    return (v/(v+m) * R) + (m/(m+v) * C)"
   ]
  },
  {
   "cell_type": "code",
   "execution_count": 28,
   "metadata": {},
   "outputs": [
    {
     "data": {
      "text/html": [
       "<div>\n",
       "<style scoped>\n",
       "    .dataframe tbody tr th:only-of-type {\n",
       "        vertical-align: middle;\n",
       "    }\n",
       "\n",
       "    .dataframe tbody tr th {\n",
       "        vertical-align: top;\n",
       "    }\n",
       "\n",
       "    .dataframe thead th {\n",
       "        text-align: right;\n",
       "    }\n",
       "</style>\n",
       "<table border=\"1\" class=\"dataframe\">\n",
       "  <thead>\n",
       "    <tr style=\"text-align: right;\">\n",
       "      <th></th>\n",
       "      <th>title</th>\n",
       "      <th>vote_count</th>\n",
       "      <th>vote_average</th>\n",
       "      <th>score</th>\n",
       "    </tr>\n",
       "  </thead>\n",
       "  <tbody>\n",
       "    <tr>\n",
       "      <th>314</th>\n",
       "      <td>The Shawshank Redemption</td>\n",
       "      <td>8358.0</td>\n",
       "      <td>8.5</td>\n",
       "      <td>8.445869</td>\n",
       "    </tr>\n",
       "    <tr>\n",
       "      <th>834</th>\n",
       "      <td>The Godfather</td>\n",
       "      <td>6024.0</td>\n",
       "      <td>8.5</td>\n",
       "      <td>8.425439</td>\n",
       "    </tr>\n",
       "    <tr>\n",
       "      <th>10309</th>\n",
       "      <td>Dilwale Dulhania Le Jayenge</td>\n",
       "      <td>661.0</td>\n",
       "      <td>9.1</td>\n",
       "      <td>8.421453</td>\n",
       "    </tr>\n",
       "    <tr>\n",
       "      <th>12481</th>\n",
       "      <td>The Dark Knight</td>\n",
       "      <td>12269.0</td>\n",
       "      <td>8.3</td>\n",
       "      <td>8.265477</td>\n",
       "    </tr>\n",
       "    <tr>\n",
       "      <th>2843</th>\n",
       "      <td>Fight Club</td>\n",
       "      <td>9678.0</td>\n",
       "      <td>8.3</td>\n",
       "      <td>8.256385</td>\n",
       "    </tr>\n",
       "    <tr>\n",
       "      <th>292</th>\n",
       "      <td>Pulp Fiction</td>\n",
       "      <td>8670.0</td>\n",
       "      <td>8.3</td>\n",
       "      <td>8.251406</td>\n",
       "    </tr>\n",
       "    <tr>\n",
       "      <th>522</th>\n",
       "      <td>Schindler's List</td>\n",
       "      <td>4436.0</td>\n",
       "      <td>8.3</td>\n",
       "      <td>8.206639</td>\n",
       "    </tr>\n",
       "    <tr>\n",
       "      <th>23673</th>\n",
       "      <td>Whiplash</td>\n",
       "      <td>4376.0</td>\n",
       "      <td>8.3</td>\n",
       "      <td>8.205404</td>\n",
       "    </tr>\n",
       "    <tr>\n",
       "      <th>5481</th>\n",
       "      <td>Spirited Away</td>\n",
       "      <td>3968.0</td>\n",
       "      <td>8.3</td>\n",
       "      <td>8.196055</td>\n",
       "    </tr>\n",
       "    <tr>\n",
       "      <th>2211</th>\n",
       "      <td>Life Is Beautiful</td>\n",
       "      <td>3643.0</td>\n",
       "      <td>8.3</td>\n",
       "      <td>8.187171</td>\n",
       "    </tr>\n",
       "  </tbody>\n",
       "</table>\n",
       "</div>"
      ],
      "text/plain": [
       "                             title  vote_count  vote_average     score\n",
       "314       The Shawshank Redemption      8358.0           8.5  8.445869\n",
       "834                  The Godfather      6024.0           8.5  8.425439\n",
       "10309  Dilwale Dulhania Le Jayenge       661.0           9.1  8.421453\n",
       "12481              The Dark Knight     12269.0           8.3  8.265477\n",
       "2843                    Fight Club      9678.0           8.3  8.256385\n",
       "292                   Pulp Fiction      8670.0           8.3  8.251406\n",
       "522               Schindler's List      4436.0           8.3  8.206639\n",
       "23673                     Whiplash      4376.0           8.3  8.205404\n",
       "5481                 Spirited Away      3968.0           8.3  8.196055\n",
       "2211             Life Is Beautiful      3643.0           8.3  8.187171"
      ]
     },
     "execution_count": 28,
     "metadata": {},
     "output_type": "execute_result"
    }
   ],
   "source": [
    "# Define a new feature 'score' and calculate its value with `weighted_rating()`\n",
    "q_movies['score'] = q_movies.apply(weighted_rating, axis=1)\n",
    "#Sort movies based on score calculated above\n",
    "q_movies = q_movies.sort_values('score', ascending=False)\n",
    "\n",
    "#Print the top 10 movies\n",
    "q_movies[['title', 'vote_count', 'vote_average', 'score']].head(10)"
   ]
  },
  {
   "cell_type": "markdown",
   "metadata": {},
   "source": [
    "- 인기 차트에 사람들이 많이 투표한 평점 높은 영화가 추천 됨\n",
    "- 쇼생크 탈출, 대부, Dilwale Dulhania Le Jayenge 등의 영화가 최상의 점수를 받음\n",
    "- 평점 상으로 Dilwale Dulhania Le Jayenge가 쇼생크 탈출 보다 높지만 투표수가 10분의 1도 안되기 때문에 점수는 더 낮게 책정 됨<br>\n",
    "=> 단순한 방식이지만 영화 인지도를 봤을 때 어느 정도 그럴듯한 추천 결과가 나옴"
   ]
  },
  {
   "cell_type": "markdown",
   "metadata": {},
   "source": [
    "# <b>2) 신뢰구간을 이용하여 평점과 투표수 반영</b>"
   ]
  },
  {
   "cell_type": "markdown",
   "metadata": {},
   "source": [
    "- 미국 커뮤니티 사이트 Reddit에서 인기 댓글을 보여줄 때 Wilson의 Score interval 사용하는 것으로 알려짐\n",
    "- 댓글 같은 경우 최신 글 보다는 '좋아요'가 많은 댓글이 이슈를 잘 반영할 수 있음<br>\n",
    "=> 보통 처음 달린 댓글들에 사람들이 좋아요를 많이 누르고 처음 댓글에 나중에 달리는 댓글이 영향을 많이 받기 때문에 최근 댓글이 중요하지 않을 수 있음<br>\n",
    "- 신뢰 구간은 샘플의 크기가 많아질 수록 줄어든 다는 성질을 이용하여 투표 수가 많은 댓글에 점수를 더 주는 방법"
   ]
  },
  {
   "cell_type": "markdown",
   "metadata": {},
   "source": [
    "<b>Wald test</b><br>\n",
    "<br>\n",
    "$X \\sim Bernoulli(p)$: 각각의 글은 $p$의 확률로 좋아요나 싫어요를 받게 됨<br>\n",
    "$H_{0}: p=p_{0}$: 좋아요를 받을 확률<br>\n",
    "<br>\n",
    "Confidence interval: $p_{0}\\in (\\hat{p}\\pm z_{\\alpha/2} \\sqrt{ \\frac{  \\hat{p}(1-\\hat{p}) }{2} } )$<br>\n",
    "- Binomial 분포를 Normal 분포에 근사한 것이기 때문에 sample의 숫자가 많아야 됨\n",
    "- 심플하기 때문에 일반적으로 가장 많이 씀\n",
    "- 하지만 $\\hat{p}$이 1이나 0이 되면 variance 부분이 0이 되서 좋아요만 받은 글이나 싫어요만 받은 글끼리 같은 신뢰구간을 갖게 됨<br>\n",
    "=> 투표수를 제대로 고려 못하게 됨"
   ]
  },
  {
   "cell_type": "markdown",
   "metadata": {},
   "source": [
    "<b>Wilson의 Score Interval</b><br>\n",
    "<br>\n",
    "Wilson의 방법은 $Var(p)$를 $\\frac{  \\hat{p}(1-\\hat{p}) }{2} $으로 MLE $\\hat{p}$의 함수로 추정하지 않고 <br>\n",
    "$p= (\\hat{p}\\pm z_{\\alpha/2} \\sqrt{ \\frac{  p(1-p) }{n} } )$로 두어 신뢰 구간을 직접 구함<br>\n",
    "이를 전개하면 신뢰구간은<br>\n",
    "Confidence interval: ($p_{0} \\in \\frac{\\hat{p}+\\frac{z^{2}}{2N} }{ 1+\\frac{z^{2}}{N} }\\pm \\frac{z}{ 1+\\frac{z^{2}}{N} } \\sqrt{\\frac{\\hat{p}(1-\\hat{p})  }{N }+\\frac{z^{2}}{4N^{2}}  })$<br>\n",
    "- 이 때의 신뢰 구간의 길이는 two sample proportional test보다 짧음"
   ]
  },
  {
   "cell_type": "markdown",
   "metadata": {},
   "source": [
    "<b>Wilson의 방법의 장점</b>\n",
    "- Wilson의 방법은 신뢰 구간의 하한을 통해 정렬하는 방식\n",
    "- 신뢰 구간은 샘플이 작아질 수록 줄어들기 때문에 투표를 조금 받은 글은 하한의 값이 작아지게 됨\n",
    "- 좋아요의 비중이 높은 글은 평균이 높아지기 때문에 신뢰 구간의 중심이 오른쪽으로 이동\n",
    "=> 투표의 수와 좋아요의 비중을 동시에 고려할 수 있게 됨\n",
    "- two sample proportional test보다 신뢰 구간이 짧아 귀무 가설의 기각을 더 잘하게 됨\n",
    "- 두 방법 모두 샘플이 커질 수록 Normal 분포에 수렴한다는 근사적 성질을 이용해야하지만 Wilson의 방법이 더 로버스트함 "
   ]
  },
  {
   "cell_type": "markdown",
   "metadata": {},
   "source": [
    "<b>Wilson과 Wald의 방법 비교</b>"
   ]
  },
  {
   "cell_type": "code",
   "execution_count": 2,
   "metadata": {},
   "outputs": [],
   "source": [
    "from scipy.stats import norm\n",
    "\n",
    "def Wald_test(XA,XB,alpha=0.05):\n",
    "    N=(XA+XB)\n",
    "    if N==0:\n",
    "        return 0\n",
    "    else:\n",
    "        p=XA/N\n",
    "        alpha=0.05\n",
    "        z=norm.ppf(1-alpha)\n",
    "        lower=p- z*(( p*(1-p)/N   )**0.5)\n",
    "        return lower"
   ]
  },
  {
   "cell_type": "code",
   "execution_count": 3,
   "metadata": {},
   "outputs": [],
   "source": [
    "from math import sqrt\n",
    "\n",
    "def Wilson_test(ups, downs,alpha=0.05):\n",
    "    n = ups + downs\n",
    "    if n==0:\n",
    "        return 0\n",
    "    else:\n",
    "\n",
    "        z=norm.ppf(1-alpha)\n",
    "        p = ups / n\n",
    "\n",
    "        left = p + 1/(2*n)*z*z\n",
    "        right = z*( (p*(1-p)/n + z*z/(4*n*n)) **0.5)\n",
    "        under = 1+1/n*z*z\n",
    "\n",
    "        return (left - right) / under\n"
   ]
  },
  {
   "cell_type": "code",
   "execution_count": 4,
   "metadata": {},
   "outputs": [
    {
     "data": {
      "text/plain": [
       "[<matplotlib.lines.Line2D at 0x223e3469ba8>]"
      ]
     },
     "execution_count": 4,
     "metadata": {},
     "output_type": "execute_result"
    },
    {
     "data": {
      "image/png": "[encoded data removed]",
      "text/plain": [
       "<Figure size 432x288 with 1 Axes>"
      ]
     },
     "metadata": {
      "needs_background": "light"
     },
     "output_type": "display_data"
    }
   ],
   "source": [
    "import numpy as np\n",
    "import matplotlib.pyplot as plt\n",
    "A=np.arange(0,300,10)\n",
    "B=np.repeat(0,len(A) )\n",
    "Wald=[Wald_test(x,0,0.1) for x in A ]\n",
    "Wilson=[Wilson_test(x,0,0.1) for x in A ]\n",
    "plt.plot(A,Wald )\n",
    "plt.plot(A,Wilson )"
   ]
  },
  {
   "cell_type": "markdown",
   "metadata": {},
   "source": [
    "- 좋아요만 10개, 20개,... 1000개 받았을 때 Wald와 Wilson의 방법 비교\n",
    "- 파란색은 Wald의 방법으로 샘플 수에 관계없이 획일된 점수를 부여함\n",
    "- 주황색은 Wilson의 방법으로 샘플 수가 커질 수록 조금씩 더 큰 점수를 줌"
   ]
  },
  {
   "cell_type": "code",
   "execution_count": 6,
   "metadata": {},
   "outputs": [],
   "source": [
    "import os\n",
    "import pandas as pd\n",
    "os.chdir('C:/Users/bki19/Desktop/recommender_system')\n",
    "df=pd.read_csv('./data/comment3.csv', encoding='cp949')\n",
    "XA=df['like']\n",
    "XB=df['hate']"
   ]
  },
  {
   "cell_type": "code",
   "execution_count": 5,
   "metadata": {},
   "outputs": [
    {
     "data": {
      "text/html": [
       "<div>\n",
       "<style scoped>\n",
       "    .dataframe tbody tr th:only-of-type {\n",
       "        vertical-align: middle;\n",
       "    }\n",
       "\n",
       "    .dataframe tbody tr th {\n",
       "        vertical-align: top;\n",
       "    }\n",
       "\n",
       "    .dataframe thead th {\n",
       "        text-align: right;\n",
       "    }\n",
       "</style>\n",
       "<table border=\"1\" class=\"dataframe\">\n",
       "  <thead>\n",
       "    <tr style=\"text-align: right;\">\n",
       "      <th></th>\n",
       "      <th>id</th>\n",
       "      <th>hour</th>\n",
       "      <th>comment</th>\n",
       "      <th>like</th>\n",
       "      <th>hate</th>\n",
       "      <th>num</th>\n",
       "    </tr>\n",
       "  </thead>\n",
       "  <tbody>\n",
       "    <tr>\n",
       "      <th>0</th>\n",
       "      <td>0</td>\n",
       "      <td>60</td>\n",
       "      <td>솔직히 다 알지ㅋㅋㅋ 그래도 레알 이적설 뜨는거는 기분 좋다</td>\n",
       "      <td>526</td>\n",
       "      <td>36</td>\n",
       "      <td>28</td>\n",
       "    </tr>\n",
       "    <tr>\n",
       "      <th>1</th>\n",
       "      <td>1</td>\n",
       "      <td>60</td>\n",
       "      <td>찌라시인거 모르는사람있음?ㅋㅋㅋㅋ 레알이적설 나올만큼 성장했다는게 중요한거지 ㅋㅋ</td>\n",
       "      <td>238</td>\n",
       "      <td>54</td>\n",
       "      <td>21</td>\n",
       "    </tr>\n",
       "    <tr>\n",
       "      <th>2</th>\n",
       "      <td>2</td>\n",
       "      <td>60</td>\n",
       "      <td>하 저도 레알마드리드 꼭가고 싶습니다.ㅠㅠ</td>\n",
       "      <td>89</td>\n",
       "      <td>36</td>\n",
       "      <td>12</td>\n",
       "    </tr>\n",
       "    <tr>\n",
       "      <th>3</th>\n",
       "      <td>3</td>\n",
       "      <td>60</td>\n",
       "      <td>베일정도는 정리해야 자리가있지.</td>\n",
       "      <td>66</td>\n",
       "      <td>8</td>\n",
       "      <td>12</td>\n",
       "    </tr>\n",
       "    <tr>\n",
       "      <th>4</th>\n",
       "      <td>4</td>\n",
       "      <td>60</td>\n",
       "      <td>논Eu 랑 이적자금등 이미 현재로 어려운건 알던건데 관심받는게 대단한거지</td>\n",
       "      <td>45</td>\n",
       "      <td>15</td>\n",
       "      <td>8</td>\n",
       "    </tr>\n",
       "  </tbody>\n",
       "</table>\n",
       "</div>"
      ],
      "text/plain": [
       "   id  hour                                        comment  like  hate  num\n",
       "0   0    60              솔직히 다 알지ㅋㅋㅋ 그래도 레알 이적설 뜨는거는 기분 좋다   526    36   28\n",
       "1   1    60  찌라시인거 모르는사람있음?ㅋㅋㅋㅋ 레알이적설 나올만큼 성장했다는게 중요한거지 ㅋㅋ   238    54   21\n",
       "2   2    60                        하 저도 레알마드리드 꼭가고 싶습니다.ㅠㅠ    89    36   12\n",
       "3   3    60                              베일정도는 정리해야 자리가있지.    66     8   12\n",
       "4   4    60       논Eu 랑 이적자금등 이미 현재로 어려운건 알던건데 관심받는게 대단한거지    45    15    8"
      ]
     },
     "execution_count": 5,
     "metadata": {},
     "output_type": "execute_result"
    }
   ],
   "source": [
    "df.head()"
   ]
  },
  {
   "cell_type": "markdown",
   "metadata": {},
   "source": [
    "데이터 소개<br>\n",
    "- 인터넷 축구 기사 댓글<br>\n",
    "- 해당 사이트에서는 좋아요가 많은 순으로 정렬 후 같은 수의 좋아요를 받은 경우 싫어요가 적은 순으로 위에 노출하는 방식(좋아요가 4개 이하이면 시간순으로 배열) \n",
    "- 위 사이트에 Wald와 Wilson의 방법을 적용 하면 댓글 순위가 많이 바뀔까?"
   ]
  },
  {
   "cell_type": "code",
   "execution_count": 6,
   "metadata": {},
   "outputs": [],
   "source": [
    "df['Wald_score']=[Wald_test(XA[x],XB[x],0.1)  for x in range(len(XA)  )  ]"
   ]
  },
  {
   "cell_type": "code",
   "execution_count": 7,
   "metadata": {},
   "outputs": [
    {
     "data": {
      "text/html": [
       "<div>\n",
       "<style scoped>\n",
       "    .dataframe tbody tr th:only-of-type {\n",
       "        vertical-align: middle;\n",
       "    }\n",
       "\n",
       "    .dataframe tbody tr th {\n",
       "        vertical-align: top;\n",
       "    }\n",
       "\n",
       "    .dataframe thead th {\n",
       "        text-align: right;\n",
       "    }\n",
       "</style>\n",
       "<table border=\"1\" class=\"dataframe\">\n",
       "  <thead>\n",
       "    <tr style=\"text-align: right;\">\n",
       "      <th></th>\n",
       "      <th>id</th>\n",
       "      <th>hour</th>\n",
       "      <th>comment</th>\n",
       "      <th>like</th>\n",
       "      <th>hate</th>\n",
       "      <th>num</th>\n",
       "      <th>Wald_score</th>\n",
       "    </tr>\n",
       "  </thead>\n",
       "  <tbody>\n",
       "    <tr>\n",
       "      <th>36</th>\n",
       "      <td>36</td>\n",
       "      <td>14</td>\n",
       "      <td>선수가 직접 아니라고 이미 확실히 말했구만 끈질기다. 레알 마드리드 내부 사정을 잘...</td>\n",
       "      <td>2</td>\n",
       "      <td>0</td>\n",
       "      <td>0</td>\n",
       "      <td>1.0</td>\n",
       "    </tr>\n",
       "    <tr>\n",
       "      <th>20</th>\n",
       "      <td>20</td>\n",
       "      <td>19</td>\n",
       "      <td>믿고 거르는 한준 기사</td>\n",
       "      <td>4</td>\n",
       "      <td>0</td>\n",
       "      <td>0</td>\n",
       "      <td>1.0</td>\n",
       "    </tr>\n",
       "    <tr>\n",
       "      <th>58</th>\n",
       "      <td>58</td>\n",
       "      <td>60</td>\n",
       "      <td>이게 팩트지</td>\n",
       "      <td>1</td>\n",
       "      <td>0</td>\n",
       "      <td>0</td>\n",
       "      <td>1.0</td>\n",
       "    </tr>\n",
       "    <tr>\n",
       "      <th>54</th>\n",
       "      <td>54</td>\n",
       "      <td>34</td>\n",
       "      <td>언젠간 가게될거양</td>\n",
       "      <td>1</td>\n",
       "      <td>0</td>\n",
       "      <td>0</td>\n",
       "      <td>1.0</td>\n",
       "    </tr>\n",
       "    <tr>\n",
       "      <th>52</th>\n",
       "      <td>52</td>\n",
       "      <td>26</td>\n",
       "      <td>자랑스럽당</td>\n",
       "      <td>1</td>\n",
       "      <td>0</td>\n",
       "      <td>0</td>\n",
       "      <td>1.0</td>\n",
       "    </tr>\n",
       "  </tbody>\n",
       "</table>\n",
       "</div>"
      ],
      "text/plain": [
       "    id  hour                                            comment  like  hate  \\\n",
       "36  36    14  선수가 직접 아니라고 이미 확실히 말했구만 끈질기다. 레알 마드리드 내부 사정을 잘...     2     0   \n",
       "20  20    19                                       믿고 거르는 한준 기사     4     0   \n",
       "58  58    60                                             이게 팩트지     1     0   \n",
       "54  54    34                                          언젠간 가게될거양     1     0   \n",
       "52  52    26                                              자랑스럽당     1     0   \n",
       "\n",
       "    num  Wald_score  \n",
       "36    0         1.0  \n",
       "20    0         1.0  \n",
       "58    0         1.0  \n",
       "54    0         1.0  \n",
       "52    0         1.0  "
      ]
     },
     "execution_count": 7,
     "metadata": {},
     "output_type": "execute_result"
    }
   ],
   "source": [
    "df = df.sort_values('Wald_score', ascending=False)\n",
    "df.head()"
   ]
  },
  {
   "cell_type": "markdown",
   "metadata": {},
   "source": [
    "Wald의 방식을 적용했을 때 좋아요만 받은 글은 모두 1점을 받아서 큰 의미가 없음"
   ]
  },
  {
   "cell_type": "code",
   "execution_count": 9,
   "metadata": {},
   "outputs": [],
   "source": [
    "df=pd.read_csv('./data/comment3.csv', encoding='cp949')\n",
    "XA=df['like']\n",
    "XB=df['hate']\n",
    "df['Wilson_score']=[Wilson_test(XA[x],XB[x],0.1)  for x in range(len(XA)  )  ]"
   ]
  },
  {
   "cell_type": "code",
   "execution_count": 10,
   "metadata": {},
   "outputs": [
    {
     "data": {
      "text/html": [
       "<div>\n",
       "<style scoped>\n",
       "    .dataframe tbody tr th:only-of-type {\n",
       "        vertical-align: middle;\n",
       "    }\n",
       "\n",
       "    .dataframe tbody tr th {\n",
       "        vertical-align: top;\n",
       "    }\n",
       "\n",
       "    .dataframe thead th {\n",
       "        text-align: right;\n",
       "    }\n",
       "</style>\n",
       "<table border=\"1\" class=\"dataframe\">\n",
       "  <thead>\n",
       "    <tr style=\"text-align: right;\">\n",
       "      <th></th>\n",
       "      <th>id</th>\n",
       "      <th>hour</th>\n",
       "      <th>comment</th>\n",
       "      <th>like</th>\n",
       "      <th>hate</th>\n",
       "      <th>num</th>\n",
       "      <th>Wilson_score</th>\n",
       "    </tr>\n",
       "  </thead>\n",
       "  <tbody>\n",
       "    <tr>\n",
       "      <th>0</th>\n",
       "      <td>0</td>\n",
       "      <td>60</td>\n",
       "      <td>솔직히 다 알지ㅋㅋㅋ 그래도 레알 이적설 뜨는거는 기분 좋다</td>\n",
       "      <td>526</td>\n",
       "      <td>36</td>\n",
       "      <td>28</td>\n",
       "      <td>0.921395</td>\n",
       "    </tr>\n",
       "    <tr>\n",
       "      <th>3</th>\n",
       "      <td>3</td>\n",
       "      <td>60</td>\n",
       "      <td>베일정도는 정리해야 자리가있지.</td>\n",
       "      <td>66</td>\n",
       "      <td>8</td>\n",
       "      <td>12</td>\n",
       "      <td>0.836844</td>\n",
       "    </tr>\n",
       "    <tr>\n",
       "      <th>7</th>\n",
       "      <td>7</td>\n",
       "      <td>19</td>\n",
       "      <td>이번 여름 이미 공격진 영입했고 기존 선수 안나가는데 올여름 어려운건 알던거아냐 손...</td>\n",
       "      <td>30</td>\n",
       "      <td>4</td>\n",
       "      <td>1</td>\n",
       "      <td>0.793364</td>\n",
       "    </tr>\n",
       "    <tr>\n",
       "      <th>1</th>\n",
       "      <td>1</td>\n",
       "      <td>60</td>\n",
       "      <td>찌라시인거 모르는사람있음?ㅋㅋㅋㅋ 레알이적설 나올만큼 성장했다는게 중요한거지 ㅋㅋ</td>\n",
       "      <td>238</td>\n",
       "      <td>54</td>\n",
       "      <td>21</td>\n",
       "      <td>0.784217</td>\n",
       "    </tr>\n",
       "    <tr>\n",
       "      <th>22</th>\n",
       "      <td>22</td>\n",
       "      <td>31</td>\n",
       "      <td>굳이 레알안가도 epl에서성공한것만봐도기쁘다</td>\n",
       "      <td>4</td>\n",
       "      <td>0</td>\n",
       "      <td>0</td>\n",
       "      <td>0.708921</td>\n",
       "    </tr>\n",
       "    <tr>\n",
       "      <th>20</th>\n",
       "      <td>20</td>\n",
       "      <td>19</td>\n",
       "      <td>믿고 거르는 한준 기사</td>\n",
       "      <td>4</td>\n",
       "      <td>0</td>\n",
       "      <td>0</td>\n",
       "      <td>0.708921</td>\n",
       "    </tr>\n",
       "    <tr>\n",
       "      <th>21</th>\n",
       "      <td>21</td>\n",
       "      <td>30</td>\n",
       "      <td>다들 못갈거 예상했지만 ..그래도 위상이 높아져서 기분좋다 ~</td>\n",
       "      <td>4</td>\n",
       "      <td>0</td>\n",
       "      <td>0</td>\n",
       "      <td>0.708921</td>\n",
       "    </tr>\n",
       "    <tr>\n",
       "      <th>11</th>\n",
       "      <td>11</td>\n",
       "      <td>8</td>\n",
       "      <td>논Eu 랑 이적자금등 이미 현재로 어려운건 알던건데 관심받는게 대단한거지 레알이던 ...</td>\n",
       "      <td>14</td>\n",
       "      <td>3</td>\n",
       "      <td>1</td>\n",
       "      <td>0.678340</td>\n",
       "    </tr>\n",
       "    <tr>\n",
       "      <th>4</th>\n",
       "      <td>4</td>\n",
       "      <td>60</td>\n",
       "      <td>논Eu 랑 이적자금등 이미 현재로 어려운건 알던건데 관심받는게 대단한거지</td>\n",
       "      <td>45</td>\n",
       "      <td>15</td>\n",
       "      <td>8</td>\n",
       "      <td>0.672346</td>\n",
       "    </tr>\n",
       "    <tr>\n",
       "      <th>2</th>\n",
       "      <td>2</td>\n",
       "      <td>60</td>\n",
       "      <td>하 저도 레알마드리드 꼭가고 싶습니다.ㅠㅠ</td>\n",
       "      <td>89</td>\n",
       "      <td>36</td>\n",
       "      <td>12</td>\n",
       "      <td>0.657609</td>\n",
       "    </tr>\n",
       "  </tbody>\n",
       "</table>\n",
       "</div>"
      ],
      "text/plain": [
       "    id  hour                                            comment  like  hate  \\\n",
       "0    0    60                  솔직히 다 알지ㅋㅋㅋ 그래도 레알 이적설 뜨는거는 기분 좋다   526    36   \n",
       "3    3    60                                  베일정도는 정리해야 자리가있지.    66     8   \n",
       "7    7    19  이번 여름 이미 공격진 영입했고 기존 선수 안나가는데 올여름 어려운건 알던거아냐 손...    30     4   \n",
       "1    1    60      찌라시인거 모르는사람있음?ㅋㅋㅋㅋ 레알이적설 나올만큼 성장했다는게 중요한거지 ㅋㅋ   238    54   \n",
       "22  22    31                           굳이 레알안가도 epl에서성공한것만봐도기쁘다     4     0   \n",
       "20  20    19                                       믿고 거르는 한준 기사     4     0   \n",
       "21  21    30                 다들 못갈거 예상했지만 ..그래도 위상이 높아져서 기분좋다 ~     4     0   \n",
       "11  11     8  논Eu 랑 이적자금등 이미 현재로 어려운건 알던건데 관심받는게 대단한거지 레알이던 ...    14     3   \n",
       "4    4    60           논Eu 랑 이적자금등 이미 현재로 어려운건 알던건데 관심받는게 대단한거지    45    15   \n",
       "2    2    60                            하 저도 레알마드리드 꼭가고 싶습니다.ㅠㅠ    89    36   \n",
       "\n",
       "    num  Wilson_score  \n",
       "0    28      0.921395  \n",
       "3    12      0.836844  \n",
       "7     1      0.793364  \n",
       "1    21      0.784217  \n",
       "22    0      0.708921  \n",
       "20    0      0.708921  \n",
       "21    0      0.708921  \n",
       "11    1      0.678340  \n",
       "4     8      0.672346  \n",
       "2    12      0.657609  "
      ]
     },
     "execution_count": 10,
     "metadata": {},
     "output_type": "execute_result"
    }
   ],
   "source": [
    "df = df.sort_values('Wilson_score', ascending=False)\n",
    "df.head(10)"
   ]
  },
  {
   "cell_type": "markdown",
   "metadata": {},
   "source": [
    "- 좋아요의 비중이 많은 글들이 상위 댓글이 됨\n",
    "- 66개의 좋아요를 받으면서 8개의 싫어요를 받은 글이 2등이 됨<br>\n",
    "=> 원래 2등 글은 4등으로 하락<br>\n",
    "- 4개의 좋아요를 받은 글들이 상위 권에 위치하게 됨<br>\n",
    "=> Sample 사이즈의 크기를 어느정도 반영<br>\n",
    "- 투표수에 대한 가중치가 영향을 주기는 하지만 큰 영향을 못 주는 것으로 보임"
   ]
  },
  {
   "cell_type": "markdown",
   "metadata": {},
   "source": [
    "# 2. 최신 글일 수록 상위권에 노출하는 방법"
   ]
  },
  {
   "cell_type": "markdown",
   "metadata": {},
   "source": [
    "- 사람들은 최근에 인기 있는 글에 관심이 많을 수 있음<br>\n",
    "ex) 위에서 쇼생크 탈출과 같은 고전 영화보다 최근에 인기 있었던 어벤저스 같은 영화를 상위권에 노출하고 싶을 수 있음\n",
    "- 특히 커뮤니티 사이트 게시글 같은 경우 최근에 이슈가 되는 글을 인기 글 목록에 추천함\n",
    "- 커뮤니티 사이트, 베스트 댓글 등에 이용되는 방법"
   ]
  },
  {
   "cell_type": "markdown",
   "metadata": {},
   "source": [
    "# <b>1) Hacker News 추천 방식</b>"
   ]
  },
  {
   "cell_type": "markdown",
   "metadata": {},
   "source": [
    "https://news.ycombinator.com/<br>"
   ]
  },
  {
   "cell_type": "markdown",
   "metadata": {},
   "source": [
    "- 컴퓨터 사이언스 관련 미국 웹 커뮤니티로 지적 호기심을 충족시켜주는 글이 올라옴\n",
    "- 사용자는 글에 댓글 및 좋아요를 누를 수 있지만 싫어요를 누르기 위해서는 어느 정도 포인트가 모여야 됨\n",
    "- 게시글 추천 알고리즘<br>\n",
    "$Score=\\frac{ (ups-downs-1)^{0.8}  }{ (age+2)^{gravity} }\\times penalty$<br>"
   ]
  },
  {
   "cell_type": "markdown",
   "metadata": {},
   "source": [
    "ups: 글에 사람들이 좋아요를 누른 횟 수<br>\n",
    "downs: 글에 사람들이 싫어요를 누른 횟 수<br>\n",
    "age: 글을 게시하고 지난 시간=> 글이 오래 될 수록 점수를 낮게 함<br>\n",
    "gravity: 오래 된 글의 점수가 감소하는 속도 (이 사이트에서는 1.8)로 설정됨<br>\n",
    "penalty: 관리자가 설정한 규칙에 위반 되면 점수를 낮게함 (예를 들어, 글이 논란이 되거나 자기 자신한테 쓴 글 등), 자세한 내용은 공개 되지 않음\n"
   ]
  },
  {
   "cell_type": "code",
   "execution_count": 86,
   "metadata": {
    "scrolled": false
   },
   "outputs": [
    {
     "data": {
      "text/plain": [
       "[<matplotlib.lines.Line2D at 0x1ab62e6f278>]"
      ]
     },
     "execution_count": 86,
     "metadata": {},
     "output_type": "execute_result"
    },
    {
     "data": {
      "image/png": "[encoded data removed]",
      "text/plain": [
       "<Figure size 432x288 with 1 Axes>"
      ]
     },
     "metadata": {
      "needs_background": "light"
     },
     "output_type": "display_data"
    }
   ],
   "source": [
    "import numpy as np\n",
    "import matplotlib.pyplot as plt\n",
    "A=np.arange(0,7,0.1)\n",
    "plt.plot(A,np.power(A,0.8) )\n",
    "plt.plot(A,np.power(A,1.8) )"
   ]
  },
  {
   "cell_type": "markdown",
   "metadata": {},
   "source": [
    "- 게시글은 특성상 대부분의 글이 0~2개의 적은 투표를 받고 극소수의 글이 수 천개의 투표를 받는 양극화 된 분포를 갖음<br>\n",
    "=> 분자가 linear하게 증가하면 양극화가 심해져 sublinear하게 증가하게 해서 이를 조절<br>\n",
    "- 분자의 증가 속도 (0.8)< 분모의 증가 속도(1.8) => 좋아요가 많아도 오래 된 글이면 더 빠르게 점수 감소<br>\n",
    "=> 최신 글일 수록 더 높은 점수<br>\n",
    "=> 모든 글의 점수는 시간이 지나면 언젠가는 0이 됨<br>\n",
    "- 그림에서 파랑색은 분자에 대한 함수, 주황색은 분모에 대한 함수로 분모에 대한 함수의 증가 속도가 훨씬 빠름을 알 수 있음"
   ]
  },
  {
   "cell_type": "markdown",
   "metadata": {},
   "source": [
    "데이터 설명:\n",
    "- 2015년 10월에서 2016년 9월까지 1년 간 Hacker news 게시글\n",
    "- 변수<br>\n",
    "title: 게시글 제목<br>\n",
    "url: 게시글이 연결된 link<br>\n",
    "num_points: 좋아요을 받은 수<br>\n",
    "num_comments: 댓글이 달린 수<br>\n",
    "author: 게시글 작성자<br>\n",
    "created_at: 게시글이 작성된 시간<br>\n",
    "- 출처: https://www.kaggle.com/hacker-news/hacker-news-posts"
   ]
  },
  {
   "cell_type": "code",
   "execution_count": 186,
   "metadata": {},
   "outputs": [],
   "source": [
    "import os\n",
    "import pandas as pd\n",
    "os.chdir('C:/Users/bki19/Desktop/recommender_system')\n",
    "df=pd.read_csv('./data/HN_posts_year_to_Sep_26_2016_2.csv', low_memory=False)\n",
    "#df=df.dropna()"
   ]
  },
  {
   "cell_type": "code",
   "execution_count": 187,
   "metadata": {},
   "outputs": [
    {
     "data": {
      "text/html": [
       "<div>\n",
       "<style scoped>\n",
       "    .dataframe tbody tr th:only-of-type {\n",
       "        vertical-align: middle;\n",
       "    }\n",
       "\n",
       "    .dataframe tbody tr th {\n",
       "        vertical-align: top;\n",
       "    }\n",
       "\n",
       "    .dataframe thead th {\n",
       "        text-align: right;\n",
       "    }\n",
       "</style>\n",
       "<table border=\"1\" class=\"dataframe\">\n",
       "  <thead>\n",
       "    <tr style=\"text-align: right;\">\n",
       "      <th></th>\n",
       "      <th>id</th>\n",
       "      <th>title</th>\n",
       "      <th>url</th>\n",
       "      <th>num_points</th>\n",
       "      <th>num_comments</th>\n",
       "      <th>author</th>\n",
       "      <th>created_at</th>\n",
       "    </tr>\n",
       "  </thead>\n",
       "  <tbody>\n",
       "    <tr>\n",
       "      <th>0</th>\n",
       "      <td>12579008</td>\n",
       "      <td>You have two days to comment if you want stem ...</td>\n",
       "      <td>http://www.regulations.gov/document?D=FDA-2015...</td>\n",
       "      <td>1</td>\n",
       "      <td>0</td>\n",
       "      <td>altstar</td>\n",
       "      <td>9/26/2016 3:26</td>\n",
       "    </tr>\n",
       "    <tr>\n",
       "      <th>1</th>\n",
       "      <td>12579005</td>\n",
       "      <td>SQLAR  the SQLite Archiver</td>\n",
       "      <td>https://www.sqlite.org/sqlar/doc/trunk/README.md</td>\n",
       "      <td>1</td>\n",
       "      <td>0</td>\n",
       "      <td>blacksqr</td>\n",
       "      <td>9/26/2016 3:24</td>\n",
       "    </tr>\n",
       "    <tr>\n",
       "      <th>2</th>\n",
       "      <td>12578997</td>\n",
       "      <td>What if we just printed a flatscreen televisio...</td>\n",
       "      <td>https://medium.com/vanmoof/our-secrets-out-f21...</td>\n",
       "      <td>1</td>\n",
       "      <td>0</td>\n",
       "      <td>pavel_lishin</td>\n",
       "      <td>9/26/2016 3:19</td>\n",
       "    </tr>\n",
       "  </tbody>\n",
       "</table>\n",
       "</div>"
      ],
      "text/plain": [
       "         id                                              title  \\\n",
       "0  12579008  You have two days to comment if you want stem ...   \n",
       "1  12579005                         SQLAR  the SQLite Archiver   \n",
       "2  12578997  What if we just printed a flatscreen televisio...   \n",
       "\n",
       "                                                 url  num_points  \\\n",
       "0  http://www.regulations.gov/document?D=FDA-2015...           1   \n",
       "1   https://www.sqlite.org/sqlar/doc/trunk/README.md           1   \n",
       "2  https://medium.com/vanmoof/our-secrets-out-f21...           1   \n",
       "\n",
       "   num_comments        author      created_at  \n",
       "0             0       altstar  9/26/2016 3:26  \n",
       "1             0      blacksqr  9/26/2016 3:24  \n",
       "2             0  pavel_lishin  9/26/2016 3:19  "
      ]
     },
     "execution_count": 187,
     "metadata": {},
     "output_type": "execute_result"
    }
   ],
   "source": [
    "df.head(3)"
   ]
  },
  {
   "cell_type": "code",
   "execution_count": 188,
   "metadata": {},
   "outputs": [
    {
     "data": {
      "text/plain": [
       "(22522, 7)"
      ]
     },
     "execution_count": 188,
     "metadata": {},
     "output_type": "execute_result"
    }
   ],
   "source": [
    "df.shape"
   ]
  },
  {
   "cell_type": "code",
   "execution_count": 189,
   "metadata": {},
   "outputs": [],
   "source": [
    "df['created_at']=pd.to_datetime(df['created_at'])\n",
    "A=df.iloc[0,6]-df['created_at']\n",
    "n=len(A)\n",
    "for i in range(n):\n",
    "    A[i]=(A[i].total_seconds())/7200\n",
    "\n",
    "df['time_span']=A"
   ]
  },
  {
   "cell_type": "code",
   "execution_count": 190,
   "metadata": {},
   "outputs": [],
   "source": [
    "def HN_rank(points,age):\n",
    "    Score= ((points-1)**0.8)/( (age+2)**1.8 )\n",
    "    return Score"
   ]
  },
  {
   "cell_type": "code",
   "execution_count": 191,
   "metadata": {},
   "outputs": [],
   "source": [
    "df['Score']=HN_rank(df['num_points'],df['time_span'])"
   ]
  },
  {
   "cell_type": "code",
   "execution_count": 192,
   "metadata": {},
   "outputs": [],
   "source": [
    "df2=df.sort_values('Score', ascending=False)"
   ]
  },
  {
   "cell_type": "code",
   "execution_count": 193,
   "metadata": {},
   "outputs": [
    {
     "data": {
      "text/html": [
       "<div>\n",
       "<style scoped>\n",
       "    .dataframe tbody tr th:only-of-type {\n",
       "        vertical-align: middle;\n",
       "    }\n",
       "\n",
       "    .dataframe tbody tr th {\n",
       "        vertical-align: top;\n",
       "    }\n",
       "\n",
       "    .dataframe thead th {\n",
       "        text-align: right;\n",
       "    }\n",
       "</style>\n",
       "<table border=\"1\" class=\"dataframe\">\n",
       "  <thead>\n",
       "    <tr style=\"text-align: right;\">\n",
       "      <th></th>\n",
       "      <th>id</th>\n",
       "      <th>title</th>\n",
       "      <th>url</th>\n",
       "      <th>num_points</th>\n",
       "      <th>num_comments</th>\n",
       "      <th>author</th>\n",
       "      <th>created_at</th>\n",
       "      <th>time_span</th>\n",
       "      <th>Score</th>\n",
       "    </tr>\n",
       "  </thead>\n",
       "  <tbody>\n",
       "    <tr>\n",
       "      <th>88</th>\n",
       "      <td>12577787</td>\n",
       "      <td>UnGoogled Chromium: Chromium with enhanced pri...</td>\n",
       "      <td>https://github.com/Eloston/ungoogled-chromium</td>\n",
       "      <td>251</td>\n",
       "      <td>120</td>\n",
       "      <td>kawera</td>\n",
       "      <td>2016-09-25 22:26:00</td>\n",
       "      <td>2.5</td>\n",
       "      <td>5.52802</td>\n",
       "    </tr>\n",
       "    <tr>\n",
       "      <th>67</th>\n",
       "      <td>12578028</td>\n",
       "      <td>Appropriate Uses for SQLite</td>\n",
       "      <td>https://sqlite.org/whentouse.html</td>\n",
       "      <td>125</td>\n",
       "      <td>56</td>\n",
       "      <td>ftclausen</td>\n",
       "      <td>2016-09-25 23:27:00</td>\n",
       "      <td>1.99167</td>\n",
       "      <td>3.91435</td>\n",
       "    </tr>\n",
       "    <tr>\n",
       "      <th>158</th>\n",
       "      <td>12577005</td>\n",
       "      <td>Finance is Not the Economy</td>\n",
       "      <td>http://www.unz.com/article/finance-is-not-the-...</td>\n",
       "      <td>237</td>\n",
       "      <td>115</td>\n",
       "      <td>the-enemy</td>\n",
       "      <td>2016-09-25 19:40:00</td>\n",
       "      <td>3.88333</td>\n",
       "      <td>3.25842</td>\n",
       "    </tr>\n",
       "    <tr>\n",
       "      <th>239</th>\n",
       "      <td>12576124</td>\n",
       "      <td>The decline of Stack Overflow (2015)</td>\n",
       "      <td>https://hackernoon.com/the-decline-of-stack-ov...</td>\n",
       "      <td>291</td>\n",
       "      <td>255</td>\n",
       "      <td>abaschin</td>\n",
       "      <td>2016-09-25 16:56:00</td>\n",
       "      <td>5.25</td>\n",
       "      <td>2.63821</td>\n",
       "    </tr>\n",
       "    <tr>\n",
       "      <th>127</th>\n",
       "      <td>12577331</td>\n",
       "      <td>Designing and producing 2FA tokens to sell on ...</td>\n",
       "      <td>https://conorpp.com/2016/09/23/designing-and-p...</td>\n",
       "      <td>138</td>\n",
       "      <td>52</td>\n",
       "      <td>conorpp</td>\n",
       "      <td>2016-09-25 20:45:00</td>\n",
       "      <td>3.34167</td>\n",
       "      <td>2.50933</td>\n",
       "    </tr>\n",
       "    <tr>\n",
       "      <th>282</th>\n",
       "      <td>12575665</td>\n",
       "      <td>Park.io  automating tasks to make $125k per month</td>\n",
       "      <td>https://www.indiehackers.com/businesses/park-io-1</td>\n",
       "      <td>342</td>\n",
       "      <td>146</td>\n",
       "      <td>csallen</td>\n",
       "      <td>2016-09-25 15:14:00</td>\n",
       "      <td>6.1</td>\n",
       "      <td>2.45997</td>\n",
       "    </tr>\n",
       "    <tr>\n",
       "      <th>327</th>\n",
       "      <td>12575166</td>\n",
       "      <td>Two years spent spamming spammers back</td>\n",
       "      <td>https://medium.com/@beweinreich/two-years-spam...</td>\n",
       "      <td>406</td>\n",
       "      <td>110</td>\n",
       "      <td>beweinreich</td>\n",
       "      <td>2016-09-25 13:16:00</td>\n",
       "      <td>7.08333</td>\n",
       "      <td>2.2968</td>\n",
       "    </tr>\n",
       "    <tr>\n",
       "      <th>37</th>\n",
       "      <td>12578556</td>\n",
       "      <td>OpenMW, Open Source Elderscrolls III: Morrowin...</td>\n",
       "      <td>https://openmw.org/en/</td>\n",
       "      <td>32</td>\n",
       "      <td>3</td>\n",
       "      <td>rocky1138</td>\n",
       "      <td>2016-09-26 01:24:00</td>\n",
       "      <td>1.01667</td>\n",
       "      <td>2.13767</td>\n",
       "    </tr>\n",
       "    <tr>\n",
       "      <th>63</th>\n",
       "      <td>12578100</td>\n",
       "      <td>Adobe and Berkeley's new deep learning image e...</td>\n",
       "      <td>https://github.com/junyanz/iGAN</td>\n",
       "      <td>52</td>\n",
       "      <td>8</td>\n",
       "      <td>visionp</td>\n",
       "      <td>2016-09-25 23:44:00</td>\n",
       "      <td>1.85</td>\n",
       "      <td>2.05223</td>\n",
       "    </tr>\n",
       "    <tr>\n",
       "      <th>96</th>\n",
       "      <td>12577685</td>\n",
       "      <td>What I Learned from a Stroke at 26: Make Time ...</td>\n",
       "      <td>http://www.nytimes.com/2016/09/25/jobs/what-i-...</td>\n",
       "      <td>81</td>\n",
       "      <td>28</td>\n",
       "      <td>allsystemsgo</td>\n",
       "      <td>2016-09-25 21:58:00</td>\n",
       "      <td>2.73333</td>\n",
       "      <td>2.02848</td>\n",
       "    </tr>\n",
       "  </tbody>\n",
       "</table>\n",
       "</div>"
      ],
      "text/plain": [
       "           id                                              title  \\\n",
       "88   12577787  UnGoogled Chromium: Chromium with enhanced pri...   \n",
       "67   12578028                        Appropriate Uses for SQLite   \n",
       "158  12577005                         Finance is Not the Economy   \n",
       "239  12576124               The decline of Stack Overflow (2015)   \n",
       "127  12577331  Designing and producing 2FA tokens to sell on ...   \n",
       "282  12575665  Park.io  automating tasks to make $125k per month   \n",
       "327  12575166             Two years spent spamming spammers back   \n",
       "37   12578556  OpenMW, Open Source Elderscrolls III: Morrowin...   \n",
       "63   12578100  Adobe and Berkeley's new deep learning image e...   \n",
       "96   12577685  What I Learned from a Stroke at 26: Make Time ...   \n",
       "\n",
       "                                                   url  num_points  \\\n",
       "88       https://github.com/Eloston/ungoogled-chromium         251   \n",
       "67                   https://sqlite.org/whentouse.html         125   \n",
       "158  http://www.unz.com/article/finance-is-not-the-...         237   \n",
       "239  https://hackernoon.com/the-decline-of-stack-ov...         291   \n",
       "127  https://conorpp.com/2016/09/23/designing-and-p...         138   \n",
       "282  https://www.indiehackers.com/businesses/park-io-1         342   \n",
       "327  https://medium.com/@beweinreich/two-years-spam...         406   \n",
       "37                              https://openmw.org/en/          32   \n",
       "63                     https://github.com/junyanz/iGAN          52   \n",
       "96   http://www.nytimes.com/2016/09/25/jobs/what-i-...          81   \n",
       "\n",
       "     num_comments        author          created_at time_span    Score  \n",
       "88            120        kawera 2016-09-25 22:26:00       2.5  5.52802  \n",
       "67             56     ftclausen 2016-09-25 23:27:00   1.99167  3.91435  \n",
       "158           115     the-enemy 2016-09-25 19:40:00   3.88333  3.25842  \n",
       "239           255      abaschin 2016-09-25 16:56:00      5.25  2.63821  \n",
       "127            52       conorpp 2016-09-25 20:45:00   3.34167  2.50933  \n",
       "282           146       csallen 2016-09-25 15:14:00       6.1  2.45997  \n",
       "327           110   beweinreich 2016-09-25 13:16:00   7.08333   2.2968  \n",
       "37              3     rocky1138 2016-09-26 01:24:00   1.01667  2.13767  \n",
       "63              8       visionp 2016-09-25 23:44:00      1.85  2.05223  \n",
       "96             28  allsystemsgo 2016-09-25 21:58:00   2.73333  2.02848  "
      ]
     },
     "execution_count": 193,
     "metadata": {},
     "output_type": "execute_result"
    }
   ],
   "source": [
    "df2.head(10)"
   ]
  },
  {
   "cell_type": "markdown",
   "metadata": {},
   "source": [
    "- 페널티를 적용 안하고 점수를 계산해 본 결과 \n",
    "- 2시간이 지날 때 마다 페널티 부여\n",
    "- '좋아요'를 125개 받은 글이 237개 받은 글이 순위가 더 높음 => 좋아요를 조금 받더라도 최신 글일 수록 훨씬 중요하기 때문"
   ]
  },
  {
   "cell_type": "markdown",
   "metadata": {},
   "source": [
    "Penalty 적용\n",
    "- Hacker's news에서 사용하는 penalty는 미리 운영자가 정해 놓은 rule based 방식을 따름\n",
    "- 이중에 알려진 몇몇 방법은 다음과 같음\n",
    "-  Url 이 없거나 \"Ask HN\"이라는 항목의 글은 0.4의 페널티\n",
    "- Url이 특정 사이트면 0.3의 penalty\n",
    "- 댓글이 20개 이상이면서 댓글이 좋아요 보다 많으면 $min [1, (\\frac{패널티 전 점수}{댓글 수})^{2}]$로 강한 패널티를 줌 => 논란이 되는 글을 추천하지 않기 위해"
   ]
  },
  {
   "cell_type": "code",
   "execution_count": 203,
   "metadata": {},
   "outputs": [
    {
     "name": "stderr",
     "output_type": "stream",
     "text": [
      "C:\\Users\\bki19\\Anaconda3\\envs\\tf36\\lib\\site-packages\\ipykernel_launcher.py:6: SettingWithCopyWarning: \n",
      "A value is trying to be set on a copy of a slice from a DataFrame\n",
      "\n",
      "See the caveats in the documentation: http://pandas.pydata.org/pandas-docs/stable/indexing.html#indexing-view-versus-copy\n",
      "  \n",
      "C:\\Users\\bki19\\Anaconda3\\envs\\tf36\\lib\\site-packages\\ipykernel_launcher.py:8: SettingWithCopyWarning: \n",
      "A value is trying to be set on a copy of a slice from a DataFrame\n",
      "\n",
      "See the caveats in the documentation: http://pandas.pydata.org/pandas-docs/stable/indexing.html#indexing-view-versus-copy\n",
      "  \n"
     ]
    }
   ],
   "source": [
    "df3=df\n",
    "n=df3.shape[0]\n",
    "\n",
    "for i in range(n):\n",
    "    if (('Ask HN' in df3['title'][i]) or ( pd.isna(df3['url'][i] )) ):\n",
    "        df3['Score'][i]=df3['Score'][i]*0.4\n",
    "    if (df3['num_points'][i]>20 and (df3['num_points'][i] < df3['num_comments'][i]) ):\n",
    "        df3['Score'][i]=df3['Score'][i]*min(1, (df3['Score'][i]/ df3['num_comments'][i])**2   )"
   ]
  },
  {
   "cell_type": "code",
   "execution_count": 206,
   "metadata": {},
   "outputs": [],
   "source": [
    "df4=df3.sort_values('Score', ascending=False)"
   ]
  },
  {
   "cell_type": "code",
   "execution_count": 207,
   "metadata": {},
   "outputs": [
    {
     "data": {
      "text/html": [
       "<div>\n",
       "<style scoped>\n",
       "    .dataframe tbody tr th:only-of-type {\n",
       "        vertical-align: middle;\n",
       "    }\n",
       "\n",
       "    .dataframe tbody tr th {\n",
       "        vertical-align: top;\n",
       "    }\n",
       "\n",
       "    .dataframe thead th {\n",
       "        text-align: right;\n",
       "    }\n",
       "</style>\n",
       "<table border=\"1\" class=\"dataframe\">\n",
       "  <thead>\n",
       "    <tr style=\"text-align: right;\">\n",
       "      <th></th>\n",
       "      <th>id</th>\n",
       "      <th>title</th>\n",
       "      <th>url</th>\n",
       "      <th>num_points</th>\n",
       "      <th>num_comments</th>\n",
       "      <th>author</th>\n",
       "      <th>created_at</th>\n",
       "      <th>time_span</th>\n",
       "      <th>Score</th>\n",
       "    </tr>\n",
       "  </thead>\n",
       "  <tbody>\n",
       "    <tr>\n",
       "      <th>88</th>\n",
       "      <td>12577787</td>\n",
       "      <td>UnGoogled Chromium: Chromium with enhanced pri...</td>\n",
       "      <td>https://github.com/Eloston/ungoogled-chromium</td>\n",
       "      <td>251</td>\n",
       "      <td>120</td>\n",
       "      <td>kawera</td>\n",
       "      <td>2016-09-25 22:26:00</td>\n",
       "      <td>2.5</td>\n",
       "      <td>5.52802</td>\n",
       "    </tr>\n",
       "    <tr>\n",
       "      <th>67</th>\n",
       "      <td>12578028</td>\n",
       "      <td>Appropriate Uses for SQLite</td>\n",
       "      <td>https://sqlite.org/whentouse.html</td>\n",
       "      <td>125</td>\n",
       "      <td>56</td>\n",
       "      <td>ftclausen</td>\n",
       "      <td>2016-09-25 23:27:00</td>\n",
       "      <td>1.99167</td>\n",
       "      <td>3.91435</td>\n",
       "    </tr>\n",
       "    <tr>\n",
       "      <th>158</th>\n",
       "      <td>12577005</td>\n",
       "      <td>Finance is Not the Economy</td>\n",
       "      <td>http://www.unz.com/article/finance-is-not-the-...</td>\n",
       "      <td>237</td>\n",
       "      <td>115</td>\n",
       "      <td>the-enemy</td>\n",
       "      <td>2016-09-25 19:40:00</td>\n",
       "      <td>3.88333</td>\n",
       "      <td>3.25842</td>\n",
       "    </tr>\n",
       "    <tr>\n",
       "      <th>239</th>\n",
       "      <td>12576124</td>\n",
       "      <td>The decline of Stack Overflow (2015)</td>\n",
       "      <td>https://hackernoon.com/the-decline-of-stack-ov...</td>\n",
       "      <td>291</td>\n",
       "      <td>255</td>\n",
       "      <td>abaschin</td>\n",
       "      <td>2016-09-25 16:56:00</td>\n",
       "      <td>5.25</td>\n",
       "      <td>2.63821</td>\n",
       "    </tr>\n",
       "    <tr>\n",
       "      <th>127</th>\n",
       "      <td>12577331</td>\n",
       "      <td>Designing and producing 2FA tokens to sell on ...</td>\n",
       "      <td>https://conorpp.com/2016/09/23/designing-and-p...</td>\n",
       "      <td>138</td>\n",
       "      <td>52</td>\n",
       "      <td>conorpp</td>\n",
       "      <td>2016-09-25 20:45:00</td>\n",
       "      <td>3.34167</td>\n",
       "      <td>2.50933</td>\n",
       "    </tr>\n",
       "  </tbody>\n",
       "</table>\n",
       "</div>"
      ],
      "text/plain": [
       "           id                                              title  \\\n",
       "88   12577787  UnGoogled Chromium: Chromium with enhanced pri...   \n",
       "67   12578028                        Appropriate Uses for SQLite   \n",
       "158  12577005                         Finance is Not the Economy   \n",
       "239  12576124               The decline of Stack Overflow (2015)   \n",
       "127  12577331  Designing and producing 2FA tokens to sell on ...   \n",
       "\n",
       "                                                   url  num_points  \\\n",
       "88       https://github.com/Eloston/ungoogled-chromium         251   \n",
       "67                   https://sqlite.org/whentouse.html         125   \n",
       "158  http://www.unz.com/article/finance-is-not-the-...         237   \n",
       "239  https://hackernoon.com/the-decline-of-stack-ov...         291   \n",
       "127  https://conorpp.com/2016/09/23/designing-and-p...         138   \n",
       "\n",
       "     num_comments     author          created_at time_span    Score  \n",
       "88            120     kawera 2016-09-25 22:26:00       2.5  5.52802  \n",
       "67             56  ftclausen 2016-09-25 23:27:00   1.99167  3.91435  \n",
       "158           115  the-enemy 2016-09-25 19:40:00   3.88333  3.25842  \n",
       "239           255   abaschin 2016-09-25 16:56:00      5.25  2.63821  \n",
       "127            52    conorpp 2016-09-25 20:45:00   3.34167  2.50933  "
      ]
     },
     "execution_count": 207,
     "metadata": {},
     "output_type": "execute_result"
    }
   ],
   "source": [
    "df4.head()"
   ]
  },
  {
   "cell_type": "markdown",
   "metadata": {},
   "source": [
    " - 상위 글에서 penalty를 받은 글이 없어 순위가 변하지는 않음\n",
    " - 페널티는 점수를 크게 감소시키기 때문에 원하지 않는 글을 노출 시키지 않는데 효과적\n",
    " - Ranking의 질을 높일 수 있지만 검열의 목적으로 악용 될 여지가 있음"
   ]
  },
  {
   "cell_type": "markdown",
   "metadata": {},
   "source": [
    "# <b>2) Reddit의 추천 방식</b>"
   ]
  },
  {
   "cell_type": "markdown",
   "metadata": {},
   "source": [
    "- 미국에서 가장 큰 커뮤니티 사이트로 다양한 분야의 정보들이 공유 됨<br>\n",
    "- Hacker news는 어느 정도 포인트가 쌓여야 싫어요를 누를 수 있지만 Reddit은 바로 가능<br>\n",
    "- 게시글 추천 알고리즘\n",
    "$Score=sign(ups-downs-)\\times \\log_{10}(max(1,|ups-downs|) ) +\\frac{age}{45000} $<br>"
   ]
  },
  {
   "cell_type": "markdown",
   "metadata": {},
   "source": [
    "sign=> 싫어요가 더 많으면 마이너스 점수를 받게 됨<br>\n",
    "log=> 좋아요와 싫어요의 차이가 클 수록 log 증가하게 됨 (처음 100개의 좋아요가 나중 100개의 좋아요 보다 상승폭이 큼)<br>\n",
    "age=> 기준점(2005.12.8과의 초 차이) linear하게 증가하기 때문에 앞에 것보다 증가 속도가 빠름\n"
   ]
  },
  {
   "cell_type": "code",
   "execution_count": 208,
   "metadata": {},
   "outputs": [
    {
     "name": "stderr",
     "output_type": "stream",
     "text": [
      "C:\\Users\\bki19\\Anaconda3\\envs\\tf36\\lib\\site-packages\\ipykernel_launcher.py:4: RuntimeWarning: divide by zero encountered in log\n",
      "  after removing the cwd from sys.path.\n"
     ]
    },
    {
     "data": {
      "text/plain": [
       "[<matplotlib.lines.Line2D at 0x1ab670c7128>]"
      ]
     },
     "execution_count": 208,
     "metadata": {},
     "output_type": "execute_result"
    },
    {
     "data": {
      "image/png": "[encoded data removed]",
      "text/plain": [
       "<Figure size 432x288 with 1 Axes>"
      ]
     },
     "metadata": {
      "needs_background": "light"
     },
     "output_type": "display_data"
    }
   ],
   "source": [
    "import numpy as np\n",
    "import matplotlib.pyplot as plt\n",
    "A=np.arange(0,7,0.1)\n",
    "plt.plot(A,np.log(A) )\n",
    "plt.plot(A,A )"
   ]
  },
  {
   "cell_type": "markdown",
   "metadata": {},
   "source": [
    "- Hacker News와 마찬가지로 최신글에 점수를 더 많이줌\n",
    "- Hacker News에서는 시간이 지나면 모든 글의 점수는 0으로 수렴\n",
    "- Reddit은 점수는 변하지 않고 최신 글일 수록 더 높은 점수를 받는 방식"
   ]
  },
  {
   "cell_type": "code",
   "execution_count": 209,
   "metadata": {},
   "outputs": [],
   "source": [
    "import os\n",
    "import pandas as pd\n",
    "os.chdir('C:/Users/bki19/Desktop/recommender_system')\n",
    "df=pd.read_csv('./data/HN_posts_year_to_Sep_26_2016_2.csv', low_memory=False)"
   ]
  },
  {
   "cell_type": "code",
   "execution_count": 210,
   "metadata": {},
   "outputs": [],
   "source": [
    "df['created_at']=pd.to_datetime(df['created_at'])\n",
    "A=df['created_at']-df.iloc[22521,6]\n",
    "n=len(A)\n",
    "for i in range(n):\n",
    "    A[i]=(A[i].total_seconds())\n",
    "\n",
    "df['time_span']=A"
   ]
  },
  {
   "cell_type": "code",
   "execution_count": 223,
   "metadata": {},
   "outputs": [],
   "source": [
    "def Reddit_rank(points,age):\n",
    "    \n",
    "    Score= points+np.log10(   points   ) + age/45000\n",
    "    return Score"
   ]
  },
  {
   "cell_type": "code",
   "execution_count": 224,
   "metadata": {},
   "outputs": [],
   "source": [
    "df['Score']=Reddit_rank(df['num_points'],df['time_span'])"
   ]
  },
  {
   "cell_type": "code",
   "execution_count": 225,
   "metadata": {},
   "outputs": [],
   "source": [
    "df2=df.sort_values('Score', ascending=False)"
   ]
  },
  {
   "cell_type": "code",
   "execution_count": 227,
   "metadata": {},
   "outputs": [
    {
     "data": {
      "text/html": [
       "<div>\n",
       "<style scoped>\n",
       "    .dataframe tbody tr th:only-of-type {\n",
       "        vertical-align: middle;\n",
       "    }\n",
       "\n",
       "    .dataframe tbody tr th {\n",
       "        vertical-align: top;\n",
       "    }\n",
       "\n",
       "    .dataframe thead th {\n",
       "        text-align: right;\n",
       "    }\n",
       "</style>\n",
       "<table border=\"1\" class=\"dataframe\">\n",
       "  <thead>\n",
       "    <tr style=\"text-align: right;\">\n",
       "      <th></th>\n",
       "      <th>id</th>\n",
       "      <th>title</th>\n",
       "      <th>url</th>\n",
       "      <th>num_points</th>\n",
       "      <th>num_comments</th>\n",
       "      <th>author</th>\n",
       "      <th>created_at</th>\n",
       "      <th>time_span</th>\n",
       "      <th>Score</th>\n",
       "    </tr>\n",
       "  </thead>\n",
       "  <tbody>\n",
       "    <tr>\n",
       "      <th>9263</th>\n",
       "      <td>12494998</td>\n",
       "      <td>Pardon Snowden</td>\n",
       "      <td>https://www.pardonsnowden.org/</td>\n",
       "      <td>2553</td>\n",
       "      <td>781</td>\n",
       "      <td>erlend_sh</td>\n",
       "      <td>2016-09-14 08:31:00</td>\n",
       "      <td>1.57338e+06</td>\n",
       "      <td>2591.37</td>\n",
       "    </tr>\n",
       "    <tr>\n",
       "      <th>19693</th>\n",
       "      <td>12396331</td>\n",
       "      <td>The Dropbox hack is real</td>\n",
       "      <td>https://www.troyhunt.com/the-dropbox-hack-is-real</td>\n",
       "      <td>1313</td>\n",
       "      <td>539</td>\n",
       "      <td>joshschreuder</td>\n",
       "      <td>2016-08-31 06:13:00</td>\n",
       "      <td>355500</td>\n",
       "      <td>1324.02</td>\n",
       "    </tr>\n",
       "    <tr>\n",
       "      <th>21607</th>\n",
       "      <td>12379518</td>\n",
       "      <td>Scammed By A Silicon Valley Startup</td>\n",
       "      <td>https://medium.com/@PennyKim/i-got-scammed-by-...</td>\n",
       "      <td>1311</td>\n",
       "      <td>558</td>\n",
       "      <td>davidkhess</td>\n",
       "      <td>2016-08-29 01:58:00</td>\n",
       "      <td>167400</td>\n",
       "      <td>1317.84</td>\n",
       "    </tr>\n",
       "    <tr>\n",
       "      <th>16061</th>\n",
       "      <td>12430298</td>\n",
       "      <td>Philae Found</td>\n",
       "      <td>http://www.esa.int/Our_Activities/Space_Scienc...</td>\n",
       "      <td>1238</td>\n",
       "      <td>125</td>\n",
       "      <td>de_dave</td>\n",
       "      <td>2016-09-05 13:53:00</td>\n",
       "      <td>815100</td>\n",
       "      <td>1259.21</td>\n",
       "    </tr>\n",
       "    <tr>\n",
       "      <th>15434</th>\n",
       "      <td>12435236</td>\n",
       "      <td>EU Announces That All Scientific Articles Shou...</td>\n",
       "      <td>http://futurism.com/eu-announces-that-all-euro...</td>\n",
       "      <td>1205</td>\n",
       "      <td>132</td>\n",
       "      <td>emartinelli</td>\n",
       "      <td>2016-09-06 11:41:00</td>\n",
       "      <td>893580</td>\n",
       "      <td>1227.94</td>\n",
       "    </tr>\n",
       "    <tr>\n",
       "      <th>8650</th>\n",
       "      <td>12499642</td>\n",
       "      <td>Announcing new tools, forums, and features</td>\n",
       "      <td>https://github.com/blog/2256-a-whole-new-githu...</td>\n",
       "      <td>1141</td>\n",
       "      <td>163</td>\n",
       "      <td>joshmanders</td>\n",
       "      <td>2016-09-14 18:06:00</td>\n",
       "      <td>1.60788e+06</td>\n",
       "      <td>1179.79</td>\n",
       "    </tr>\n",
       "    <tr>\n",
       "      <th>7721</th>\n",
       "      <td>12508356</td>\n",
       "      <td>Elon Musk on How to Build the Future</td>\n",
       "      <td>http://www.ycombinator.com/future/elon/</td>\n",
       "      <td>1104</td>\n",
       "      <td>513</td>\n",
       "      <td>sama</td>\n",
       "      <td>2016-09-15 18:05:00</td>\n",
       "      <td>1.69422e+06</td>\n",
       "      <td>1144.69</td>\n",
       "    </tr>\n",
       "    <tr>\n",
       "      <th>3524</th>\n",
       "      <td>12545878</td>\n",
       "      <td>Linux cant be installed on a recent Lenovo laptop</td>\n",
       "      <td>https://www.reddit.com/r/linux/comments/53ri0m...</td>\n",
       "      <td>1052</td>\n",
       "      <td>398</td>\n",
       "      <td>makaronin</td>\n",
       "      <td>2016-09-21 06:31:00</td>\n",
       "      <td>2.17098e+06</td>\n",
       "      <td>1103.27</td>\n",
       "    </tr>\n",
       "    <tr>\n",
       "      <th>12511</th>\n",
       "      <td>12463338</td>\n",
       "      <td>How Dropbox Hacks Your Mac</td>\n",
       "      <td>http://applehelpwriter.com/2016/08/29/discover...</td>\n",
       "      <td>1037</td>\n",
       "      <td>412</td>\n",
       "      <td>8bitben</td>\n",
       "      <td>2016-09-09 15:52:00</td>\n",
       "      <td>1.16784e+06</td>\n",
       "      <td>1065.97</td>\n",
       "    </tr>\n",
       "    <tr>\n",
       "      <th>18518</th>\n",
       "      <td>12405006</td>\n",
       "      <td>A SpaceX Falcon 9 rocket has exploded at Cape ...</td>\n",
       "      <td>https://techcrunch.com/2016/09/01/a-spacex-fal...</td>\n",
       "      <td>986</td>\n",
       "      <td>534</td>\n",
       "      <td>mariusz79</td>\n",
       "      <td>2016-09-01 13:21:00</td>\n",
       "      <td>467580</td>\n",
       "      <td>999.385</td>\n",
       "    </tr>\n",
       "  </tbody>\n",
       "</table>\n",
       "</div>"
      ],
      "text/plain": [
       "             id                                              title  \\\n",
       "9263   12494998                                     Pardon Snowden   \n",
       "19693  12396331                           The Dropbox hack is real   \n",
       "21607  12379518                Scammed By A Silicon Valley Startup   \n",
       "16061  12430298                                       Philae Found   \n",
       "15434  12435236  EU Announces That All Scientific Articles Shou...   \n",
       "8650   12499642         Announcing new tools, forums, and features   \n",
       "7721   12508356               Elon Musk on How to Build the Future   \n",
       "3524   12545878  Linux cant be installed on a recent Lenovo laptop   \n",
       "12511  12463338                         How Dropbox Hacks Your Mac   \n",
       "18518  12405006  A SpaceX Falcon 9 rocket has exploded at Cape ...   \n",
       "\n",
       "                                                     url  num_points  \\\n",
       "9263                      https://www.pardonsnowden.org/        2553   \n",
       "19693  https://www.troyhunt.com/the-dropbox-hack-is-real        1313   \n",
       "21607  https://medium.com/@PennyKim/i-got-scammed-by-...        1311   \n",
       "16061  http://www.esa.int/Our_Activities/Space_Scienc...        1238   \n",
       "15434  http://futurism.com/eu-announces-that-all-euro...        1205   \n",
       "8650   https://github.com/blog/2256-a-whole-new-githu...        1141   \n",
       "7721             http://www.ycombinator.com/future/elon/        1104   \n",
       "3524   https://www.reddit.com/r/linux/comments/53ri0m...        1052   \n",
       "12511  http://applehelpwriter.com/2016/08/29/discover...        1037   \n",
       "18518  https://techcrunch.com/2016/09/01/a-spacex-fal...         986   \n",
       "\n",
       "       num_comments         author          created_at    time_span    Score  \n",
       "9263            781      erlend_sh 2016-09-14 08:31:00  1.57338e+06  2591.37  \n",
       "19693           539  joshschreuder 2016-08-31 06:13:00       355500  1324.02  \n",
       "21607           558     davidkhess 2016-08-29 01:58:00       167400  1317.84  \n",
       "16061           125        de_dave 2016-09-05 13:53:00       815100  1259.21  \n",
       "15434           132    emartinelli 2016-09-06 11:41:00       893580  1227.94  \n",
       "8650            163    joshmanders 2016-09-14 18:06:00  1.60788e+06  1179.79  \n",
       "7721            513           sama 2016-09-15 18:05:00  1.69422e+06  1144.69  \n",
       "3524            398      makaronin 2016-09-21 06:31:00  2.17098e+06  1103.27  \n",
       "12511           412        8bitben 2016-09-09 15:52:00  1.16784e+06  1065.97  \n",
       "18518           534      mariusz79 2016-09-01 13:21:00       467580  999.385  "
      ]
     },
     "execution_count": 227,
     "metadata": {},
     "output_type": "execute_result"
    }
   ],
   "source": [
    "df2.head(10)"
   ]
  },
  {
   "cell_type": "markdown",
   "metadata": {},
   "source": [
    "- 상위 글에 HN보다 좋아요를 많이 받은 글이 많아짐\n",
    "- 시간에 따른 페널티가 HN 알고리즘 보다 약하고 좋아요의 영향력이 훨씬 커짐 (예전 글이 HN보다 많이 노출)\n",
    "- HN보다 훨씬 단순"
   ]
  },
  {
   "cell_type": "markdown",
   "metadata": {},
   "source": [
    "# 3. 연결성에 초점을 둔 추천 방식"
   ]
  },
  {
   "cell_type": "markdown",
   "metadata": {},
   "source": [
    "- 페이지로 연결 된 링크가 많을 수록 많은 방문자들이 유입될 것이다<br>\n",
    "=> 많이 연결 된 사이트일 수록 사람들이 관심이 많을 것이다<br>\n",
    "- Goolgle의 Page Rank 알고리즘은 페이지에 연결된 링크의 수에 따라 점수화하는 방법"
   ]
  },
  {
   "cell_type": "markdown",
   "metadata": {},
   "source": [
    "<b>예제 1</b>"
   ]
  },
  {
   "cell_type": "code",
   "execution_count": 12,
   "metadata": {},
   "outputs": [
    {
     "data": {
      "image/png": "[encoded data removed]",
      "text/plain": [
       "<IPython.core.display.Image object>"
      ]
     },
     "execution_count": 12,
     "metadata": {},
     "output_type": "execute_result"
    }
   ],
   "source": [
    "from IPython.display import Image\n",
    "Image(filename='./pagerank_ex1.png')"
   ]
  },
  {
   "cell_type": "markdown",
   "metadata": {},
   "source": [
    "- 페이지 A,B,C,D가 존재\n",
    "- 페이지 B,C,D는 페이지 A로만 연결 돼 있음\n",
    "- $PR(A)$은 A의 page rank로 B, C, D의 페이지 rank의 점수에 의존함\n",
    "- $PR(A)^{(0)}=PR(B)^{(0)}=PR(C)^{(0)}=PR(D)^{(0)}=0.25$로 초기의 점수가 동일하다면 다음 단계에서 B,C,D의 방문자는 각각 0.25의 확률로 A로 유입됨\n",
    "- $PR(A)^{(1)}=PR(B)^{(0)}+PR(C)^{(0)}+PR(D)^{(0)}=0.25+0.25+0.25=0.75$\n",
    "- 따라서 A로 유입될 확률은 0.75 (자기 자신으로 부터의 유입은 무시)"
   ]
  },
  {
   "cell_type": "markdown",
   "metadata": {},
   "source": [
    "이 과정이 지속 되면 \n",
    "- $PR(B)^{(1)}=0$,$PR(C)^{(1)}=0$,$PR(D)^{(1)}=0$\n",
    "- $PR(A)^{(2)}=0$로 두 번째 단계 부터 모든 Page rank가 0이 됨"
   ]
  },
  {
   "cell_type": "markdown",
   "metadata": {},
   "source": [
    "<b>예제 2</b>"
   ]
  },
  {
   "cell_type": "code",
   "execution_count": 13,
   "metadata": {},
   "outputs": [
    {
     "data": {
      "image/png": "[encoded data removed]",
      "text/plain": [
       "<IPython.core.display.Image object>"
      ]
     },
     "execution_count": 13,
     "metadata": {},
     "output_type": "execute_result"
    }
   ],
   "source": [
    "from IPython.display import Image\n",
    "Image(filename='./pagerank_ex2.png')"
   ]
  },
  {
   "cell_type": "markdown",
   "metadata": {},
   "source": [
    "- 이제 위와 같이 연결 구조가 더 복잡한 상황에서 보면\n",
    "- B는 총 2군데, D는 총 세군데와 연결\n",
    "- $PR(A)^{(1)}=\\frac{PR(B)^{(0)} }{2}+PR(C)^{(0)}+ \\frac{  PR(D)^{(0)} }{3}=0.25/2+0.25+0.25/3= 0.458$\n",
    "- B 페이지와 D 페이지 사용자가 A로 갈 확률이 줄어들어 A의 page rank도 감소함\n",
    "- $PR(B)^{(1)}=\\frac{  PR(D)^{(0)} }{3}=0.25/3= 0.083$\n",
    "- $PR(C)^{(1)}=\\frac{PR(B)^{(0)} }{2}+ \\frac{  PR(D)^{(0)} }{3}=0.25/2+0.25/3= 0.208$\n",
    "- $PR(D)^{(1)}=0$"
   ]
  },
  {
   "cell_type": "markdown",
   "metadata": {},
   "source": [
    "- $PR(A)^{(2)}=0.25$\n",
    "- $PR(B)^{(2)}=0$\n",
    "- $PR(C)^{(2)}=0.0416$\n",
    "- $PR(D)^{(2)}=0$<br>\n",
    "...<br>\n",
    "점점 모든 값이 0에 가까워짐"
   ]
  },
  {
   "cell_type": "markdown",
   "metadata": {},
   "source": [
    "<b>일반화</b>"
   ]
  },
  {
   "cell_type": "markdown",
   "metadata": {},
   "source": [
    "일반화 하면 다음과 같음<br>\n",
    "$PR(A)^{(t)}=\\sum_{v \\in B_{u}}\\frac{ PR(v) }{L(v)}^{(t)}$"
   ]
  },
  {
   "cell_type": "markdown",
   "metadata": {},
   "source": [
    "<b>Damping Factor</b>\n",
    "- 사용자는 언젠가는 클릭을 멈출 것이기 때문에 $0<d<1$인 damping factor를 도입해서 Page rank가 점차 감소하게 만들음\n",
    "- $PR(p_{i}^{(t+1)})= \\frac{1-d}{N}+ d\\sum_{p_{j} \\in M(p_{j})}\\frac{ PR(p_{j})^{(t)} }{L(p_{j})}$\n",
    "- damping factor는 솔루션을 unique하게 만드는 기능도 함"
   ]
  },
  {
   "cell_type": "markdown",
   "metadata": {},
   "source": [
    "<b>Markov Process</b>"
   ]
  },
  {
   "cell_type": "markdown",
   "metadata": {},
   "source": [
    "- 결국 이 과정은 이 전 시점의 상태가 다음 시점의 상태에 영향을 주는 형태이기 때문에 Markov process라고 할 수 있음<br>\n",
    "- 사이트간의 유입이 영원히 지속되다가 언젠가는 수렴한다는 가정\n",
    "- Transition Matrix $M_{(i \\times j)}$: 홈페이지 j가 홈페이지 i에 연결 \n",
    "- $R^{(t+1)}=\\begin{bmatrix}\n",
    "    PR(p_{1})\\\\\n",
    "    PR(p_{2})\\\\\n",
    "    ...\\\\\n",
    "    PR(p_{N})\\\\\n",
    "\\end{bmatrix}$ $=\\begin{bmatrix}\n",
    "    (1-d)/N \\\\\n",
    "    (1-d)/N \\\\\n",
    "    ...\\\\\n",
    "    (1-d)/N \\\\\n",
    "\\end{bmatrix}$+$d\\begin{bmatrix}\n",
    "    l(p_{1},p_{1}) & l(p_{1},p_{2}) &...& l(p_{1},p_{N})\\\\\n",
    "    l(p_{2},p_{1}) &...&&\\\\\n",
    "    ...\\\\\n",
    "    l(p_{N},p_{1}) & ...& &l(p_{N},p_{N})\\\\\n",
    "\\end{bmatrix}R^{(t)}=\\frac{1-d}{N} \\mathbf{1}+dMR^{(t)}  $"
   ]
  },
  {
   "cell_type": "markdown",
   "metadata": {},
   "source": [
    "<b>Updating Rule</b>"
   ]
  },
  {
   "cell_type": "markdown",
   "metadata": {},
   "source": [
    "Initial value: $PR(p_{i})^{(0)}=\\frac{1}{N}, i=1...,N  $<br>\n",
    "$R^{(t+1)}=\\frac{1-d}{N} \\mathbf{1}+dMR^{(t)}  $<br>\n",
    "Stoping rule: $|R^{(t+1)}-R^{(t)}|<\\epsilon$\n"
   ]
  },
  {
   "cell_type": "markdown",
   "metadata": {},
   "source": [
    "<b>예제 3: 구현</b>"
   ]
  },
  {
   "cell_type": "code",
   "execution_count": 40,
   "metadata": {},
   "outputs": [
    {
     "data": {
      "image/png": "[encoded data removed]",
      "text/plain": [
       "<IPython.core.display.Image object>"
      ]
     },
     "execution_count": 40,
     "metadata": {},
     "output_type": "execute_result"
    }
   ],
   "source": [
    "from IPython.display import Image\n",
    "Image(filename='./pagerank_ex3.png')"
   ]
  },
  {
   "cell_type": "code",
   "execution_count": 30,
   "metadata": {},
   "outputs": [],
   "source": [
    "M = np.array([[0, 0, 0, 0, 1],\n",
    "              [0.5, 0, 0, 0, 0],\n",
    "              [0.5, 0, 0, 0, 0],\n",
    "              [0, 1, 0.5, 0, 0],\n",
    "              [0, 0, 0.5, 1, 0]])\n",
    "N=M.shape[1]\n",
    "d=0.85\n",
    "eps=1.0e-8"
   ]
  },
  {
   "cell_type": "code",
   "execution_count": 55,
   "metadata": {},
   "outputs": [],
   "source": [
    "Rt=np.ones((N, 1), dtype=np.float32)/N\n",
    "R_stop = np.ones((N, 1), dtype=np.float32) * 100"
   ]
  },
  {
   "cell_type": "code",
   "execution_count": 56,
   "metadata": {},
   "outputs": [],
   "source": [
    "while np.linalg.norm(Rt - R_stop, 2) > eps:\n",
    "    R_stop = Rt\n",
    "    Rt = d * np.matmul(M, Rt) + (1 - d) / N\n"
   ]
  },
  {
   "cell_type": "code",
   "execution_count": 61,
   "metadata": {},
   "outputs": [
    {
     "data": {
      "text/html": [
       "<div>\n",
       "<style scoped>\n",
       "    .dataframe tbody tr th:only-of-type {\n",
       "        vertical-align: middle;\n",
       "    }\n",
       "\n",
       "    .dataframe tbody tr th {\n",
       "        vertical-align: top;\n",
       "    }\n",
       "\n",
       "    .dataframe thead th {\n",
       "        text-align: right;\n",
       "    }\n",
       "</style>\n",
       "<table border=\"1\" class=\"dataframe\">\n",
       "  <thead>\n",
       "    <tr style=\"text-align: right;\">\n",
       "      <th></th>\n",
       "      <th>Page Rank</th>\n",
       "    </tr>\n",
       "  </thead>\n",
       "  <tbody>\n",
       "    <tr>\n",
       "      <th>A</th>\n",
       "      <td>0.254192</td>\n",
       "    </tr>\n",
       "    <tr>\n",
       "      <th>B</th>\n",
       "      <td>0.138032</td>\n",
       "    </tr>\n",
       "    <tr>\n",
       "      <th>C</th>\n",
       "      <td>0.138032</td>\n",
       "    </tr>\n",
       "    <tr>\n",
       "      <th>D</th>\n",
       "      <td>0.205990</td>\n",
       "    </tr>\n",
       "    <tr>\n",
       "      <th>E</th>\n",
       "      <td>0.263755</td>\n",
       "    </tr>\n",
       "  </tbody>\n",
       "</table>\n",
       "</div>"
      ],
      "text/plain": [
       "   Page Rank\n",
       "A   0.254192\n",
       "B   0.138032\n",
       "C   0.138032\n",
       "D   0.205990\n",
       "E   0.263755"
      ]
     },
     "execution_count": 61,
     "metadata": {},
     "output_type": "execute_result"
    }
   ],
   "source": [
    "pd.DataFrame(Rt,columns=['Page Rank'],index=['A','B','C','D','E'])"
   ]
  },
  {
   "cell_type": "markdown",
   "metadata": {},
   "source": [
    "- B,C로 직접 연결 된 사이트가 하나씩 밖에 없어 낮음 점수를 받음\n",
    "- D,E로 직접 연결된 사이트가 두개 씩이어서 높은 점수\n",
    "- A는 직접 하나만 연결 됐지만 E와 연결 돼 있어서 높은 점수를 받은 것으로 보임"
   ]
  },
  {
   "cell_type": "markdown",
   "metadata": {},
   "source": [
    "<b>4) 실제 데이터에 적용</b>"
   ]
  },
  {
   "cell_type": "code",
   "execution_count": 9,
   "metadata": {},
   "outputs": [],
   "source": [
    "import os\n",
    "import pandas as pd\n",
    "os.chdir('C:/Users/bki19/Desktop/recommender_system')\n",
    "df = pd.read_csv(\"./data/hollins.dat\",sep=' ')\n",
    "df=df['6012']\n",
    "Ind=set(df.index)"
   ]
  },
  {
   "cell_type": "code",
   "execution_count": 10,
   "metadata": {},
   "outputs": [
    {
     "data": {
      "text/plain": [
       "1                             http://www1.hollins.edu/\n",
       "2                              http://www.hollins.edu/\n",
       "3    http://www1.hollins.edu/Docs/CompTech/Network/...\n",
       "4      http://www1.hollins.edu/Docs/Forms/GetForms.htm\n",
       "5         http://www1.hollins.edu/Docs/misc/travel.htm\n",
       "Name: 6012, dtype: object"
      ]
     },
     "execution_count": 10,
     "metadata": {},
     "output_type": "execute_result"
    }
   ],
   "source": [
    "df.head()"
   ]
  },
  {
   "cell_type": "markdown",
   "metadata": {},
   "source": [
    "데이터 소개:<br>\n",
    "- Hollins 대학교 홈페이지의 웹사이트 간의 연결 여부\n",
    "- 6012개의 웹사이트가 각각 교내 다른 웹사이트에 연결 되어있는지 표시됨\n",
    "- 출처: https://github.com/zHaytam/PageRank/tree/master/input"
   ]
  },
  {
   "cell_type": "code",
   "execution_count": 11,
   "metadata": {},
   "outputs": [],
   "source": [
    "##Outgoing Dataframe\n",
    "df2=[]\n",
    "for x in Ind:\n",
    "    A=df[df.index==x]\n",
    "    B=list(map(int,A.iloc[1:]))\n",
    "    df2.append([A.iloc[0],B])\n",
    "df2=pd.DataFrame(df2)\n",
    "df2.index=Ind\n",
    "    "
   ]
  },
  {
   "cell_type": "code",
   "execution_count": 12,
   "metadata": {},
   "outputs": [
    {
     "data": {
      "text/html": [
       "<div>\n",
       "<style scoped>\n",
       "    .dataframe tbody tr th:only-of-type {\n",
       "        vertical-align: middle;\n",
       "    }\n",
       "\n",
       "    .dataframe tbody tr th {\n",
       "        vertical-align: top;\n",
       "    }\n",
       "\n",
       "    .dataframe thead th {\n",
       "        text-align: right;\n",
       "    }\n",
       "</style>\n",
       "<table border=\"1\" class=\"dataframe\">\n",
       "  <thead>\n",
       "    <tr style=\"text-align: right;\">\n",
       "      <th></th>\n",
       "      <th>0</th>\n",
       "      <th>1</th>\n",
       "    </tr>\n",
       "  </thead>\n",
       "  <tbody>\n",
       "    <tr>\n",
       "      <th>1</th>\n",
       "      <td>http://www1.hollins.edu/</td>\n",
       "      <td>[2, 3, 4, 5, 6, 7, 8, 9, 10, 11, 12, 13, 14, 1...</td>\n",
       "    </tr>\n",
       "    <tr>\n",
       "      <th>2</th>\n",
       "      <td>http://www.hollins.edu/</td>\n",
       "      <td>[26, 27, 28, 29, 30, 31, 32, 33, 34, 35, 36, 3...</td>\n",
       "    </tr>\n",
       "    <tr>\n",
       "      <th>3</th>\n",
       "      <td>http://www1.hollins.edu/Docs/CompTech/Network/...</td>\n",
       "      <td>[]</td>\n",
       "    </tr>\n",
       "    <tr>\n",
       "      <th>4</th>\n",
       "      <td>http://www1.hollins.edu/Docs/Forms/GetForms.htm</td>\n",
       "      <td>[7, 19, 21, 85, 86, 87, 88, 89, 90, 91, 92, 93...</td>\n",
       "    </tr>\n",
       "    <tr>\n",
       "      <th>5</th>\n",
       "      <td>http://www1.hollins.edu/Docs/misc/travel.htm</td>\n",
       "      <td>[7, 19, 21, 85, 88, 89, 90, 91, 93, 154]</td>\n",
       "    </tr>\n",
       "  </tbody>\n",
       "</table>\n",
       "</div>"
      ],
      "text/plain": [
       "                                                   0  \\\n",
       "1                           http://www1.hollins.edu/   \n",
       "2                            http://www.hollins.edu/   \n",
       "3  http://www1.hollins.edu/Docs/CompTech/Network/...   \n",
       "4    http://www1.hollins.edu/Docs/Forms/GetForms.htm   \n",
       "5       http://www1.hollins.edu/Docs/misc/travel.htm   \n",
       "\n",
       "                                                   1  \n",
       "1  [2, 3, 4, 5, 6, 7, 8, 9, 10, 11, 12, 13, 14, 1...  \n",
       "2  [26, 27, 28, 29, 30, 31, 32, 33, 34, 35, 36, 3...  \n",
       "3                                                 []  \n",
       "4  [7, 19, 21, 85, 86, 87, 88, 89, 90, 91, 92, 93...  \n",
       "5           [7, 19, 21, 85, 88, 89, 90, 91, 93, 154]  "
      ]
     },
     "execution_count": 12,
     "metadata": {},
     "output_type": "execute_result"
    }
   ],
   "source": [
    "df2.head()"
   ]
  },
  {
   "cell_type": "markdown",
   "metadata": {},
   "source": [
    "Outgoing link connection\n",
    "- 해당 사이트가 다른 사이트로 향하는 연결이 있는지\n",
    "- 1번 사이트는 2,3,4,5, 등의 사이트와 연결\n",
    "- 2번 사이트는 26,27,.. 등의 사이트와 연결"
   ]
  },
  {
   "cell_type": "code",
   "execution_count": 15,
   "metadata": {},
   "outputs": [
    {
     "data": {
      "text/plain": [
       "(array([5.669e+03, 3.120e+02, 1.600e+01, 8.000e+00, 1.000e+00, 2.000e+00,\n",
       "        0.000e+00, 1.000e+00, 0.000e+00, 3.000e+00]),\n",
       " array([  0. ,  18.4,  36.8,  55.2,  73.6,  92. , 110.4, 128.8, 147.2,\n",
       "        165.6, 184. ]),\n",
       " <a list of 10 Patch objects>)"
      ]
     },
     "execution_count": 15,
     "metadata": {},
     "output_type": "execute_result"
    },
    {
     "data": {
      "image/png": "[encoded data removed]",
      "text/plain": [
       "<Figure size 432x288 with 1 Axes>"
      ]
     },
     "metadata": {
      "needs_background": "light"
     },
     "output_type": "display_data"
    }
   ],
   "source": [
    "import numpy as np\n",
    "import matplotlib.pyplot as plt\n",
    "a=[]\n",
    "for x in df2[1]:    \n",
    "        a.append(len(x))\n",
    "plt.hist(a )"
   ]
  },
  {
   "cell_type": "code",
   "execution_count": 17,
   "metadata": {},
   "outputs": [
    {
     "name": "stdout",
     "output_type": "stream",
     "text": [
      "184\n"
     ]
    }
   ],
   "source": [
    "a=0\n",
    "for x in df2[1]:\n",
    "    if len(x)>a:\n",
    "        a=len(x)\n",
    "print(a)"
   ]
  },
  {
   "cell_type": "markdown",
   "metadata": {},
   "source": [
    "- 다른 사이트로의 연결이 가장 많은 사이트는 184개\n",
    "- 다른 사이트로의 연결이 없는 사이트가 대부분인 skewed한 분포"
   ]
  },
  {
   "cell_type": "code",
   "execution_count": 18,
   "metadata": {},
   "outputs": [
    {
     "data": {
      "text/html": [
       "<div>\n",
       "<style scoped>\n",
       "    .dataframe tbody tr th:only-of-type {\n",
       "        vertical-align: middle;\n",
       "    }\n",
       "\n",
       "    .dataframe tbody tr th {\n",
       "        vertical-align: top;\n",
       "    }\n",
       "\n",
       "    .dataframe thead th {\n",
       "        text-align: right;\n",
       "    }\n",
       "</style>\n",
       "<table border=\"1\" class=\"dataframe\">\n",
       "  <thead>\n",
       "    <tr style=\"text-align: right;\">\n",
       "      <th></th>\n",
       "      <th>0</th>\n",
       "    </tr>\n",
       "  </thead>\n",
       "  <tbody>\n",
       "    <tr>\n",
       "      <th>1</th>\n",
       "      <td>0</td>\n",
       "    </tr>\n",
       "    <tr>\n",
       "      <th>2</th>\n",
       "      <td>[1, 8, 16, 18, 20, 23, 26, 27, 28, 29, 30, 31,...</td>\n",
       "    </tr>\n",
       "    <tr>\n",
       "      <th>3</th>\n",
       "      <td>[1, 351, 374, 377, 528, 1162, 1165, 1168, 1284...</td>\n",
       "    </tr>\n",
       "    <tr>\n",
       "      <th>4</th>\n",
       "      <td>[1]</td>\n",
       "    </tr>\n",
       "    <tr>\n",
       "      <th>5</th>\n",
       "      <td>[1]</td>\n",
       "    </tr>\n",
       "  </tbody>\n",
       "</table>\n",
       "</div>"
      ],
      "text/plain": [
       "                                                   0\n",
       "1                                                  0\n",
       "2  [1, 8, 16, 18, 20, 23, 26, 27, 28, 29, 30, 31,...\n",
       "3  [1, 351, 374, 377, 528, 1162, 1165, 1168, 1284...\n",
       "4                                                [1]\n",
       "5                                                [1]"
      ]
     },
     "execution_count": 18,
     "metadata": {},
     "output_type": "execute_result"
    }
   ],
   "source": [
    "##incoming\n",
    "df4=df.iloc[6012:]\n",
    "df5=[]\n",
    "for x in Ind:\n",
    "    A=df4[df4.values  == str(x) ]\n",
    "    if np.sum(A)==0:\n",
    "        df5.append(0)\n",
    "    else:\n",
    "        #B=list(map(int,A.iloc[1:]))\n",
    "        df5.append( list(map(int,A.index ) ) )\n",
    "df6=pd.DataFrame(df5)\n",
    "df6.index=Ind\n",
    "df6.head()"
   ]
  },
  {
   "cell_type": "markdown",
   "metadata": {},
   "source": [
    "Incoming connection\n",
    "- 해당 사이트로 연결하는 사이트의 목록\n",
    "- 1번 사이트로 연결하는 사이트는 하나도 없음\n",
    "- 2번 사이트로 연결하는 사이트는 1,8,... 등"
   ]
  },
  {
   "cell_type": "code",
   "execution_count": 21,
   "metadata": {},
   "outputs": [],
   "source": [
    "#transition matrix\n",
    "\n",
    "N=len(Ind)\n",
    "M=np.zeros((N,N))\n",
    "for i in range(N):\n",
    "    if df6.iloc[i,0]!=0:\n",
    "        for j in df6.iloc[i,0]:\n",
    "            M[i-1,j]+=1\n",
    "for j in range(N):\n",
    "    if np.sum(M[:,j])!=0:\n",
    "        M[:,j]=M[:,j]/np.sum(M[:,j])"
   ]
  },
  {
   "cell_type": "code",
   "execution_count": 22,
   "metadata": {},
   "outputs": [],
   "source": [
    "def pagerank(M, eps=1.0e-8, d=0.85):\n",
    "    N=M.shape[1]\n",
    "    d=0.85\n",
    "    eps=1.0e-8\n",
    "    Rt = np.random.rand(N, 1)\n",
    "    Rt = Rt / np.linalg.norm(Rt, 1)\n",
    "    R_stop = np.ones((N, 1), dtype=np.float32) * 100\n",
    "    \n",
    "    while np.linalg.norm(Rt - R_stop, 2) > eps:\n",
    "        R_stop = Rt\n",
    "        Rt = d * np.matmul(M, Rt) + (1 - d) / N\n",
    "    return Rt"
   ]
  },
  {
   "cell_type": "code",
   "execution_count": 23,
   "metadata": {},
   "outputs": [],
   "source": [
    "Result=pagerank(M)"
   ]
  },
  {
   "cell_type": "code",
   "execution_count": 25,
   "metadata": {},
   "outputs": [
    {
     "data": {
      "text/html": [
       "<div>\n",
       "<style scoped>\n",
       "    .dataframe tbody tr th:only-of-type {\n",
       "        vertical-align: middle;\n",
       "    }\n",
       "\n",
       "    .dataframe tbody tr th {\n",
       "        vertical-align: top;\n",
       "    }\n",
       "\n",
       "    .dataframe thead th {\n",
       "        text-align: right;\n",
       "    }\n",
       "</style>\n",
       "<table border=\"1\" class=\"dataframe\">\n",
       "  <thead>\n",
       "    <tr style=\"text-align: right;\">\n",
       "      <th></th>\n",
       "      <th>PageRank</th>\n",
       "      <th>Site</th>\n",
       "    </tr>\n",
       "  </thead>\n",
       "  <tbody>\n",
       "    <tr>\n",
       "      <th>1</th>\n",
       "      <td>0.007679</td>\n",
       "      <td>http://www1.hollins.edu/</td>\n",
       "    </tr>\n",
       "    <tr>\n",
       "      <th>36</th>\n",
       "      <td>0.002388</td>\n",
       "      <td>http://www.hollins.edu/news-events/news_events...</td>\n",
       "    </tr>\n",
       "    <tr>\n",
       "      <th>37</th>\n",
       "      <td>0.002288</td>\n",
       "      <td>http://www.hollins.edu/admissions/visit/visit.htm</td>\n",
       "    </tr>\n",
       "    <tr>\n",
       "      <th>51</th>\n",
       "      <td>0.002274</td>\n",
       "      <td>http://www.hollins.edu/academics/library/libto...</td>\n",
       "    </tr>\n",
       "    <tr>\n",
       "      <th>60</th>\n",
       "      <td>0.002228</td>\n",
       "      <td>http://www.hollins.edu/academics/library/infor...</td>\n",
       "    </tr>\n",
       "    <tr>\n",
       "      <th>5434</th>\n",
       "      <td>0.001808</td>\n",
       "      <td>http://www1.hollins.edu/classes/dance/website/...</td>\n",
       "    </tr>\n",
       "    <tr>\n",
       "      <th>27</th>\n",
       "      <td>0.001801</td>\n",
       "      <td>http://www.hollins.edu/admissions/admissions.htm</td>\n",
       "    </tr>\n",
       "    <tr>\n",
       "      <th>26</th>\n",
       "      <td>0.001738</td>\n",
       "      <td>http://www.hollins.edu/students/index.htm</td>\n",
       "    </tr>\n",
       "    <tr>\n",
       "      <th>42</th>\n",
       "      <td>0.001528</td>\n",
       "      <td>http://www.hollins.edu/community/index.htm</td>\n",
       "    </tr>\n",
       "    <tr>\n",
       "      <th>424</th>\n",
       "      <td>0.001448</td>\n",
       "      <td>http://www1.hollins.edu/Docs/academics/Divisio...</td>\n",
       "    </tr>\n",
       "  </tbody>\n",
       "</table>\n",
       "</div>"
      ],
      "text/plain": [
       "      PageRank                                               Site\n",
       "1     0.007679                           http://www1.hollins.edu/\n",
       "36    0.002388  http://www.hollins.edu/news-events/news_events...\n",
       "37    0.002288  http://www.hollins.edu/admissions/visit/visit.htm\n",
       "51    0.002274  http://www.hollins.edu/academics/library/libto...\n",
       "60    0.002228  http://www.hollins.edu/academics/library/infor...\n",
       "5434  0.001808  http://www1.hollins.edu/classes/dance/website/...\n",
       "27    0.001801   http://www.hollins.edu/admissions/admissions.htm\n",
       "26    0.001738          http://www.hollins.edu/students/index.htm\n",
       "42    0.001528         http://www.hollins.edu/community/index.htm\n",
       "424   0.001448  http://www1.hollins.edu/Docs/academics/Divisio..."
      ]
     },
     "execution_count": 25,
     "metadata": {},
     "output_type": "execute_result"
    }
   ],
   "source": [
    "HH=df2.loc[:,0]\n",
    "Result2=pd.DataFrame(Result,index=Ind)\n",
    "Result2=pd.concat([Result2, HH], axis=1)\n",
    "Result2.columns=['PageRank','Site']\n",
    "Result2=Result2.sort_values('PageRank', ascending=False)\n",
    "Result2.head(10)"
   ]
  },
  {
   "cell_type": "code",
   "execution_count": 32,
   "metadata": {},
   "outputs": [
    {
     "data": {
      "text/plain": [
       "[<matplotlib.lines.Line2D at 0x210b8bf4358>]"
      ]
     },
     "execution_count": 32,
     "metadata": {},
     "output_type": "execute_result"
    },
    {
     "data": {
      "image/png": "[encoded data removed]",
      "text/plain": [
       "<Figure size 432x288 with 1 Axes>"
      ]
     },
     "metadata": {
      "needs_background": "light"
     },
     "output_type": "display_data"
    }
   ],
   "source": [
    "import matplotlib.pyplot as plt\n",
    "#plt.xscale('log')\n",
    "plt.plot(np.arange(0,len(Result2.index),1),Result2['PageRank'])"
   ]
  },
  {
   "cell_type": "markdown",
   "metadata": {},
   "source": [
    "- 다른 사이트로 연결이 가장 많았던 1번 사이트가 가장 높은 rank를 받음\n",
    "- admission, news, 도서관 관련 사이트가 높은 점수를 받음\n",
    "- 점수의 편중이 심함<br>\n",
    "=> 상위 몇 개 사이트 말고는 사이트끼리 연결이 잘 안 되있음"
   ]
  },
  {
   "cell_type": "markdown",
   "metadata": {},
   "source": [
    "# 4. Simple Recommender의 한계"
   ]
  },
  {
   "cell_type": "markdown",
   "metadata": {},
   "source": [
    "단순 인기 기반 추천의 문제점\n",
    "- 개인적인 성향을 고려 못함\n",
    "- 사람들이 많이 이용한다고 추천할 만한 것은 아님 \n",
    "- 예를 들어, 해외 여행 중 맛집을 추천해달라고 했는데 맥도날드를 추천\n",
    "- 유저 그룹에 따라 성향이 다를 수 있음\n",
    "- 예를 들어 10대와 50대가 좋아하는 성향의 음악은 다름"
   ]
  },
  {
   "cell_type": "markdown",
   "metadata": {},
   "source": [
    "데이터 및 코드:<br>\n",
    "- https://github.com/datascienceabe/study_open/tree/master/recommender_system"
   ]
  },
  {
   "cell_type": "markdown",
   "metadata": {},
   "source": [
    "출처: \n",
    "- https://towardsdatascience.com/learning-to-make-recommendations-745d13883951\n",
    "- https://www.datacamp.com/community/tutorials/recommender-systems-python\n",
    "- http://www.righto.com/2013/11/how-hacker-news-ranking-really-works.html\n",
    "- https://medium.com/hacking-and-gonzo/how-reddit-ranking-algorithms-work-ef111e33d0d9\n",
    "- https://www.math.leidenuniv.nl/scripties/vanRestBach.pdf\n",
    "- https://github.com/zHaytam/PageRank/tree/master/input\n",
    "- Page, L., Brin, S., Motwani, R., & Winograd, T. (1999). The PageRank citation ranking: Bringing order to the web. Stanford InfoLab.\n",
    "\n",
    "데이터 출처:\n",
    "- https://nbviewer.jupyter.org/github/BadreeshShetty/Learnings-to-make-Recommedations/tree/master/Content%20Filtering/\n",
    "- https://www.kaggle.com/rounakbanik/the-movies-dataset/data"
   ]
  },
  {
   "cell_type": "code",
   "execution_count": null,
   "metadata": {},
   "outputs": [],
   "source": []
  }
 ],
 "metadata": {
  "kernelspec": {
   "display_name": "Python 3",
   "language": "python",
   "name": "python3"
  },
  "language_info": {
   "codemirror_mode": {
    "name": "ipython",
    "version": 3
   },
   "file_extension": ".py",
   "mimetype": "text/x-python",
   "name": "python",
   "nbconvert_exporter": "python",
   "pygments_lexer": "ipython3",
   "version": "3.6.8"
  }
 },
 "nbformat": 4,
 "nbformat_minor": 2
}
