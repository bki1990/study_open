{
 "cells": [
  {
   "cell_type": "code",
   "execution_count": 2,
   "metadata": {},
   "outputs": [],
   "source": [
    "setwd('C:/Users/bki19/OneDrive/deskto/Linear_Regression/data')"
   ]
  },
  {
   "cell_type": "code",
   "execution_count": 3,
   "metadata": {},
   "outputs": [],
   "source": [
    "df<-read.csv('./Restaurant_Food_Sales.csv')"
   ]
  },
  {
   "cell_type": "code",
   "execution_count": 4,
   "metadata": {},
   "outputs": [],
   "source": [
    "colnames(df)<-c('Income','Expense')"
   ]
  },
  {
   "cell_type": "code",
   "execution_count": 5,
   "metadata": {},
   "outputs": [
    {
     "data": {
      "text/html": [
       "<table>\n",
       "<thead><tr><th scope=col>Income</th><th scope=col>Expense</th></tr></thead>\n",
       "<tbody>\n",
       "\t<tr><td> 81464</td><td> 3000 </td></tr>\n",
       "\t<tr><td> 72661</td><td> 3150 </td></tr>\n",
       "\t<tr><td> 72344</td><td> 3085 </td></tr>\n",
       "\t<tr><td> 90743</td><td> 5225 </td></tr>\n",
       "\t<tr><td> 98588</td><td> 5350 </td></tr>\n",
       "\t<tr><td> 96507</td><td> 6090 </td></tr>\n",
       "\t<tr><td>126574</td><td> 8925 </td></tr>\n",
       "\t<tr><td>114133</td><td> 9015 </td></tr>\n",
       "\t<tr><td>115814</td><td> 8885 </td></tr>\n",
       "\t<tr><td>123181</td><td> 8950 </td></tr>\n",
       "\t<tr><td>131434</td><td> 9000 </td></tr>\n",
       "\t<tr><td>140564</td><td>11345 </td></tr>\n",
       "\t<tr><td>151352</td><td>12275 </td></tr>\n",
       "\t<tr><td>146926</td><td>12400 </td></tr>\n",
       "\t<tr><td>130963</td><td>12525 </td></tr>\n",
       "\t<tr><td>146630</td><td>12310 </td></tr>\n",
       "\t<tr><td>147041</td><td>13700 </td></tr>\n",
       "\t<tr><td>179021</td><td>15000 </td></tr>\n",
       "\t<tr><td>166200</td><td>15175 </td></tr>\n",
       "\t<tr><td>180732</td><td>14995 </td></tr>\n",
       "\t<tr><td>178187</td><td>15050 </td></tr>\n",
       "\t<tr><td>185304</td><td>15200 </td></tr>\n",
       "\t<tr><td>155931</td><td>15150 </td></tr>\n",
       "\t<tr><td>172579</td><td>16800 </td></tr>\n",
       "\t<tr><td>188851</td><td>16500 </td></tr>\n",
       "\t<tr><td>192424</td><td>17830 </td></tr>\n",
       "\t<tr><td>203112</td><td>19500 </td></tr>\n",
       "\t<tr><td>192482</td><td>19200 </td></tr>\n",
       "\t<tr><td>218715</td><td>19000 </td></tr>\n",
       "\t<tr><td>214317</td><td>19350 </td></tr>\n",
       "</tbody>\n",
       "</table>\n"
      ],
      "text/latex": [
       "\\begin{tabular}{r|ll}\n",
       " Income & Expense\\\\\n",
       "\\hline\n",
       "\t  81464 &  3000 \\\\\n",
       "\t  72661 &  3150 \\\\\n",
       "\t  72344 &  3085 \\\\\n",
       "\t  90743 &  5225 \\\\\n",
       "\t  98588 &  5350 \\\\\n",
       "\t  96507 &  6090 \\\\\n",
       "\t 126574 &  8925 \\\\\n",
       "\t 114133 &  9015 \\\\\n",
       "\t 115814 &  8885 \\\\\n",
       "\t 123181 &  8950 \\\\\n",
       "\t 131434 &  9000 \\\\\n",
       "\t 140564 & 11345 \\\\\n",
       "\t 151352 & 12275 \\\\\n",
       "\t 146926 & 12400 \\\\\n",
       "\t 130963 & 12525 \\\\\n",
       "\t 146630 & 12310 \\\\\n",
       "\t 147041 & 13700 \\\\\n",
       "\t 179021 & 15000 \\\\\n",
       "\t 166200 & 15175 \\\\\n",
       "\t 180732 & 14995 \\\\\n",
       "\t 178187 & 15050 \\\\\n",
       "\t 185304 & 15200 \\\\\n",
       "\t 155931 & 15150 \\\\\n",
       "\t 172579 & 16800 \\\\\n",
       "\t 188851 & 16500 \\\\\n",
       "\t 192424 & 17830 \\\\\n",
       "\t 203112 & 19500 \\\\\n",
       "\t 192482 & 19200 \\\\\n",
       "\t 218715 & 19000 \\\\\n",
       "\t 214317 & 19350 \\\\\n",
       "\\end{tabular}\n"
      ],
      "text/markdown": [
       "\n",
       "Income | Expense | \n",
       "|---|---|---|---|---|---|---|---|---|---|---|---|---|---|---|---|---|---|---|---|---|---|---|---|---|---|---|---|---|---|\n",
       "|  81464 |  3000  | \n",
       "|  72661 |  3150  | \n",
       "|  72344 |  3085  | \n",
       "|  90743 |  5225  | \n",
       "|  98588 |  5350  | \n",
       "|  96507 |  6090  | \n",
       "| 126574 |  8925  | \n",
       "| 114133 |  9015  | \n",
       "| 115814 |  8885  | \n",
       "| 123181 |  8950  | \n",
       "| 131434 |  9000  | \n",
       "| 140564 | 11345  | \n",
       "| 151352 | 12275  | \n",
       "| 146926 | 12400  | \n",
       "| 130963 | 12525  | \n",
       "| 146630 | 12310  | \n",
       "| 147041 | 13700  | \n",
       "| 179021 | 15000  | \n",
       "| 166200 | 15175  | \n",
       "| 180732 | 14995  | \n",
       "| 178187 | 15050  | \n",
       "| 185304 | 15200  | \n",
       "| 155931 | 15150  | \n",
       "| 172579 | 16800  | \n",
       "| 188851 | 16500  | \n",
       "| 192424 | 17830  | \n",
       "| 203112 | 19500  | \n",
       "| 192482 | 19200  | \n",
       "| 218715 | 19000  | \n",
       "| 214317 | 19350  | \n",
       "\n",
       "\n"
      ],
      "text/plain": [
       "   Income Expense\n",
       "1   81464  3000  \n",
       "2   72661  3150  \n",
       "3   72344  3085  \n",
       "4   90743  5225  \n",
       "5   98588  5350  \n",
       "6   96507  6090  \n",
       "7  126574  8925  \n",
       "8  114133  9015  \n",
       "9  115814  8885  \n",
       "10 123181  8950  \n",
       "11 131434  9000  \n",
       "12 140564 11345  \n",
       "13 151352 12275  \n",
       "14 146926 12400  \n",
       "15 130963 12525  \n",
       "16 146630 12310  \n",
       "17 147041 13700  \n",
       "18 179021 15000  \n",
       "19 166200 15175  \n",
       "20 180732 14995  \n",
       "21 178187 15050  \n",
       "22 185304 15200  \n",
       "23 155931 15150  \n",
       "24 172579 16800  \n",
       "25 188851 16500  \n",
       "26 192424 17830  \n",
       "27 203112 19500  \n",
       "28 192482 19200  \n",
       "29 218715 19000  \n",
       "30 214317 19350  "
      ]
     },
     "metadata": {},
     "output_type": "display_data"
    }
   ],
   "source": [
    "df"
   ]
  },
  {
   "cell_type": "markdown",
   "metadata": {},
   "source": [
    "Y:음식 판매로 매달 평균 수입<br>\n",
    "X:이에 상응하는 30개 음식점의 연 광고비 지출"
   ]
  },
  {
   "cell_type": "code",
   "execution_count": 6,
   "metadata": {},
   "outputs": [],
   "source": [
    "fit<-lm(Income~Expense,data=df)"
   ]
  },
  {
   "cell_type": "code",
   "execution_count": 7,
   "metadata": {},
   "outputs": [
    {
     "data": {
      "image/png": "[encoded data removed]",
      "text/plain": [
       "Plot with title \"\""
      ]
     },
     "metadata": {},
     "output_type": "display_data"
    }
   ],
   "source": [
    "par(mfrow=c(2,2))\n",
    "plot(fit)"
   ]
  },
  {
   "cell_type": "markdown",
   "metadata": {},
   "source": [
    "Fitted value와 residual이 점점 퍼지는 것으로 보다 constant variance assumption violated\n",
    "데이터의 몇개 군집이 near neighbor로 보임"
   ]
  },
  {
   "cell_type": "code",
   "execution_count": 8,
   "metadata": {},
   "outputs": [],
   "source": [
    "Cluster<-list(c(1:3),c(4:5),c(6),c(7:11),c(12:16),c(17:22),c(23),c(24:25),c(26),c(27:30))"
   ]
  },
  {
   "cell_type": "code",
   "execution_count": 9,
   "metadata": {},
   "outputs": [
    {
     "data": {
      "text/html": [
       "14895.7142857143"
      ],
      "text/latex": [
       "14895.7142857143"
      ],
      "text/markdown": [
       "14895.7142857143"
      ],
      "text/plain": [
       "[1] 14895.71"
      ]
     },
     "metadata": {},
     "output_type": "display_data"
    },
    {
     "data": {
      "text/html": [
       "<ol class=list-inline>\n",
       "\t<li>13700</li>\n",
       "\t<li>15000</li>\n",
       "\t<li>15175</li>\n",
       "\t<li>14995</li>\n",
       "\t<li>15050</li>\n",
       "\t<li>15200</li>\n",
       "</ol>\n"
      ],
      "text/latex": [
       "\\begin{enumerate*}\n",
       "\\item 13700\n",
       "\\item 15000\n",
       "\\item 15175\n",
       "\\item 14995\n",
       "\\item 15050\n",
       "\\item 15200\n",
       "\\end{enumerate*}\n"
      ],
      "text/markdown": [
       "1. 13700\n",
       "2. 15000\n",
       "3. 15175\n",
       "4. 14995\n",
       "5. 15050\n",
       "6. 15200\n",
       "\n",
       "\n"
      ],
      "text/plain": [
       "[1] 13700 15000 15175 14995 15050 15200"
      ]
     },
     "metadata": {},
     "output_type": "display_data"
    }
   ],
   "source": [
    "mean(df[c(17:23),2])\n",
    "df[c(17:22),2]"
   ]
  },
  {
   "cell_type": "code",
   "execution_count": 10,
   "metadata": {},
   "outputs": [
    {
     "data": {
      "text/html": [
       "10"
      ],
      "text/latex": [
       "10"
      ],
      "text/markdown": [
       "10"
      ],
      "text/plain": [
       "[1] 10"
      ]
     },
     "metadata": {},
     "output_type": "display_data"
    }
   ],
   "source": [
    "n<-length(Cluster)\n",
    "n"
   ]
  },
  {
   "cell_type": "code",
   "execution_count": 11,
   "metadata": {},
   "outputs": [],
   "source": [
    "Cluster_mean<-rep(0,n)\n",
    "Cluster_sd<-rep(0,n)\n",
    "\n",
    "for (i in 1:n){\n",
    "    Cluster_mean[i]<-mean(df$Expense[Cluster[[i]] ])\n",
    "    Cluster_sd[i]<-sd(df$Income[Cluster[[i]] ])^2\n",
    "       \n",
    "}\n"
   ]
  },
  {
   "cell_type": "code",
   "execution_count": 12,
   "metadata": {},
   "outputs": [
    {
     "data": {
      "text/html": [
       "<table>\n",
       "<thead><tr><th scope=col>Cluster_mean</th><th scope=col>Cluster_sd</th></tr></thead>\n",
       "<tbody>\n",
       "\t<tr><td> 3078.3  </td><td> 26794616</td></tr>\n",
       "\t<tr><td> 5287.5  </td><td> 30772013</td></tr>\n",
       "\t<tr><td> 8955.0  </td><td> 52803695</td></tr>\n",
       "\t<tr><td>12171.0  </td><td> 62189475</td></tr>\n",
       "\t<tr><td>14853.3  </td><td>198811359</td></tr>\n",
       "\t<tr><td>16650.0  </td><td>132388992</td></tr>\n",
       "\t<tr><td>19262.5  </td><td>138856871</td></tr>\n",
       "</tbody>\n",
       "</table>\n"
      ],
      "text/latex": [
       "\\begin{tabular}{r|ll}\n",
       " Cluster\\_mean & Cluster\\_sd\\\\\n",
       "\\hline\n",
       "\t  3078.3   &  26794616\\\\\n",
       "\t  5287.5   &  30772013\\\\\n",
       "\t  8955.0   &  52803695\\\\\n",
       "\t 12171.0   &  62189475\\\\\n",
       "\t 14853.3   & 198811359\\\\\n",
       "\t 16650.0   & 132388992\\\\\n",
       "\t 19262.5   & 138856871\\\\\n",
       "\\end{tabular}\n"
      ],
      "text/markdown": [
       "\n",
       "Cluster_mean | Cluster_sd | \n",
       "|---|---|---|---|---|---|---|\n",
       "|  3078.3   |  26794616 | \n",
       "|  5287.5   |  30772013 | \n",
       "|  8955.0   |  52803695 | \n",
       "| 12171.0   |  62189475 | \n",
       "| 14853.3   | 198811359 | \n",
       "| 16650.0   | 132388992 | \n",
       "| 19262.5   | 138856871 | \n",
       "\n",
       "\n"
      ],
      "text/plain": [
       "  Cluster_mean Cluster_sd\n",
       "1  3078.3       26794616 \n",
       "2  5287.5       30772013 \n",
       "3  8955.0       52803695 \n",
       "4 12171.0       62189475 \n",
       "5 14853.3      198811359 \n",
       "6 16650.0      132388992 \n",
       "7 19262.5      138856871 "
      ]
     },
     "metadata": {},
     "output_type": "display_data"
    }
   ],
   "source": [
    "df_sd_mean<-na.omit(cbind(Cluster_mean,Cluster_sd))\n",
    "df_sd_mean<-data.frame(df_sd_mean)\n",
    "df_sd_mean[,1]<-round(df_sd_mean[,1],1)\n",
    "df_sd_mean"
   ]
  },
  {
   "cell_type": "code",
   "execution_count": 13,
   "metadata": {},
   "outputs": [],
   "source": [
    "fit_sd<-lm( Cluster_sd ~Cluster_mean,data=df_sd_mean)"
   ]
  },
  {
   "cell_type": "code",
   "execution_count": 14,
   "metadata": {},
   "outputs": [
    {
     "data": {
      "text/plain": [
       "\n",
       "Call:\n",
       "lm(formula = Cluster_sd ~ Cluster_mean, data = df_sd_mean)\n",
       "\n",
       "Residuals:\n",
       "        1         2         3         4         5         6         7 \n",
       " 10826227  -5171474 -16300514 -35993094  76376028  -6291702 -23445470 \n",
       "\n",
       "Coefficients:\n",
       "              Estimate Std. Error t value Pr(>|t|)  \n",
       "(Intercept)  -11864917   35051378  -0.339   0.7487  \n",
       "Cluster_mean      9042       2753   3.284   0.0219 *\n",
       "---\n",
       "Signif. codes:  0 '***' 0.001 '**' 0.01 '*' 0.05 '.' 0.1 ' ' 1\n",
       "\n",
       "Residual standard error: 40320000 on 5 degrees of freedom\n",
       "Multiple R-squared:  0.6833,\tAdjusted R-squared:  0.6199 \n",
       "F-statistic: 10.79 on 1 and 5 DF,  p-value: 0.02185\n"
      ]
     },
     "metadata": {},
     "output_type": "display_data"
    }
   ],
   "source": [
    "summary(fit_sd)"
   ]
  },
  {
   "cell_type": "markdown",
   "metadata": {},
   "source": [
    "x 값에 따라 군집을 나눴을 때 y의 분산이 x값에 따라 어떻게 변하는지 살펴 봄 <br>\n",
    "x의 클러스터 평균이 sd에 따라 근사적으로 linear 함<br>"
   ]
  },
  {
   "cell_type": "code",
   "execution_count": 15,
   "metadata": {},
   "outputs": [],
   "source": [
    "Weights<-1/predict(fit_sd, newdata=data.frame(Cluster_mean=df$Expense))"
   ]
  },
  {
   "cell_type": "code",
   "execution_count": 16,
   "metadata": {},
   "outputs": [],
   "source": [
    "fit_wls<-lm(Income~Expense,data=df,weights=Weights)"
   ]
  },
  {
   "cell_type": "code",
   "execution_count": 17,
   "metadata": {},
   "outputs": [
    {
     "data": {
      "text/plain": [
       "\n",
       "Call:\n",
       "lm(formula = Income ~ Expense, data = df)\n",
       "\n",
       "Residuals:\n",
       "     Min       1Q   Median       3Q      Max \n",
       "-19354.0  -4740.3   -704.7   7294.8  16281.3 \n",
       "\n",
       "Coefficients:\n",
       "             Estimate Std. Error t value Pr(>|t|)    \n",
       "(Intercept) 4.950e+04  4.278e+03   11.57 3.49e-12 ***\n",
       "Expense     8.049e+00  3.257e-01   24.71  < 2e-16 ***\n",
       "---\n",
       "Signif. codes:  0 '***' 0.001 '**' 0.01 '*' 0.05 '.' 0.1 ' ' 1\n",
       "\n",
       "Residual standard error: 8976 on 28 degrees of freedom\n",
       "Multiple R-squared:  0.9562,\tAdjusted R-squared:  0.9546 \n",
       "F-statistic: 610.8 on 1 and 28 DF,  p-value: < 2.2e-16\n"
      ]
     },
     "metadata": {},
     "output_type": "display_data"
    },
    {
     "data": {
      "text/plain": [
       "\n",
       "Call:\n",
       "lm(formula = Income ~ Expense, data = df, weights = Weights)\n",
       "\n",
       "Weighted Residuals:\n",
       "    Min      1Q  Median      3Q     Max \n",
       "-1.9172 -0.7578 -0.1127  0.7638  1.7034 \n",
       "\n",
       "Coefficients:\n",
       "             Estimate Std. Error t value Pr(>|t|)    \n",
       "(Intercept) 5.104e+04  2.395e+03   21.31   <2e-16 ***\n",
       "Expense     7.922e+00  2.495e-01   31.75   <2e-16 ***\n",
       "---\n",
       "Signif. codes:  0 '***' 0.001 '**' 0.01 '*' 0.05 '.' 0.1 ' ' 1\n",
       "\n",
       "Residual standard error: 0.9192 on 28 degrees of freedom\n",
       "Multiple R-squared:  0.973,\tAdjusted R-squared:  0.972 \n",
       "F-statistic:  1008 on 1 and 28 DF,  p-value: < 2.2e-16\n"
      ]
     },
     "metadata": {},
     "output_type": "display_data"
    }
   ],
   "source": [
    "summary(fit)\n",
    "summary(fit_wls)"
   ]
  },
  {
   "cell_type": "code",
   "execution_count": 18,
   "metadata": {},
   "outputs": [
    {
     "data": {
      "image/png": "[encoded data removed]",
      "text/plain": [
       "plot without title"
      ]
     },
     "metadata": {},
     "output_type": "display_data"
    }
   ],
   "source": [
    "par(mfrow=c(2,1))\n",
    "plot(fitted(fit),resid(fit))\n",
    "plot((Weights^0.5)*fitted(fit_wls),((Weights)^0.5)*resid(fit_wls))"
   ]
  },
  {
   "cell_type": "markdown",
   "metadata": {},
   "source": [
    "OLS fit 보다 나음 <br>\n",
    "변수가 많으면 이러한 클러스터 분석 시각적으로 보기 어려움<br>\n",
    "weight 추정할 때 x 값이 작으면 음수가 생길 수 있는 등, 추정이 reasonable 한지 확인"
   ]
  }
 ],
 "metadata": {
  "kernelspec": {
   "display_name": "R",
   "language": "R",
   "name": "ir"
  },
  "language_info": {
   "codemirror_mode": "r",
   "file_extension": ".r",
   "mimetype": "text/x-r-source",
   "name": "R",
   "pygments_lexer": "r",
   "version": "3.5.1"
  }
 },
 "nbformat": 4,
 "nbformat_minor": 2
}
