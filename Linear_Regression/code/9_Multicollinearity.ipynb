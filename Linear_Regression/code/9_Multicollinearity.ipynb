{
 "cells": [
  {
   "cell_type": "code",
   "execution_count": 2,
   "metadata": {},
   "outputs": [],
   "source": [
    "setwd('C:/Users/bki19/OneDrive/deskto/Linear_Regression/data')"
   ]
  },
  {
   "cell_type": "code",
   "execution_count": 3,
   "metadata": {},
   "outputs": [],
   "source": [
    "df<-read.csv('./Acetylene.csv')"
   ]
  },
  {
   "cell_type": "code",
   "execution_count": 4,
   "metadata": {},
   "outputs": [],
   "source": [
    "colnames(df)<-c('y','x1','x2','x3')"
   ]
  },
  {
   "cell_type": "markdown",
   "metadata": {},
   "source": [
    "# Multicollinearity"
   ]
  },
  {
   "cell_type": "code",
   "execution_count": 5,
   "metadata": {},
   "outputs": [
    {
     "data": {
      "image/png": "[encoded data removed]",
      "text/plain": [
       "plot without title"
      ]
     },
     "metadata": {},
     "output_type": "display_data"
    }
   ],
   "source": [
    "plot(df[,'x1'],df[,'x3'])"
   ]
  },
  {
   "cell_type": "markdown",
   "metadata": {},
   "source": [
    "두 regressor가 highly correlated"
   ]
  },
  {
   "cell_type": "code",
   "execution_count": 6,
   "metadata": {},
   "outputs": [],
   "source": [
    "df2<-data.frame(P=df$y,T=(df$x1-1212.50)/80.623,H=(df$x2-12.44)/5.662,C=(df$x3-0.0403)/0.03164   )"
   ]
  },
  {
   "cell_type": "code",
   "execution_count": 7,
   "metadata": {},
   "outputs": [],
   "source": [
    "df2$TH<-df2$T*df2$H\n",
    "df2$TC<-df2$T*df2$C\n",
    "df2$HC<-df2$H*df2$C\n",
    "df2$T2<-df2$T^2\n",
    "df2$H2<-df2$H^2\n",
    "df2$C2<-df2$C^2"
   ]
  },
  {
   "cell_type": "markdown",
   "metadata": {},
   "source": [
    "Unit normal scailing"
   ]
  },
  {
   "cell_type": "code",
   "execution_count": 8,
   "metadata": {},
   "outputs": [],
   "source": [
    "P_hat<-lm(P~T+H+C+TH+TC+HC+T2+H2+C2,data=df2)"
   ]
  },
  {
   "cell_type": "code",
   "execution_count": 9,
   "metadata": {},
   "outputs": [
    {
     "data": {
      "text/plain": [
       "\n",
       "Call:\n",
       "lm(formula = P ~ T + H + C + TH + TC + HC + T2 + H2 + C2, data = df2)\n",
       "\n",
       "Residuals:\n",
       "    Min      1Q  Median      3Q     Max \n",
       "-1.3499 -0.3411  0.1297  0.5011  0.6720 \n",
       "\n",
       "Coefficients:\n",
       "            Estimate Std. Error t value Pr(>|t|)    \n",
       "(Intercept)  35.8971     1.0903  32.925 5.22e-08 ***\n",
       "T             4.0187     4.5012   0.893 0.406340    \n",
       "H             2.7811     0.3074   9.046 0.000102 ***\n",
       "C            -8.0311     6.0657  -1.324 0.233703    \n",
       "TH           -6.4568     1.4660  -4.404 0.004547 ** \n",
       "TC          -26.9818    21.0224  -1.283 0.246663    \n",
       "HC           -3.7683     1.6554  -2.276 0.063116 .  \n",
       "T2          -12.5237    12.3239  -1.016 0.348741    \n",
       "H2           -0.9727     0.3746  -2.597 0.040844 *  \n",
       "C2          -11.5943     7.7070  -1.504 0.183182    \n",
       "---\n",
       "Signif. codes:  0 '***' 0.001 '**' 0.01 '*' 0.05 '.' 0.1 ' ' 1\n",
       "\n",
       "Residual standard error: 0.9014 on 6 degrees of freedom\n",
       "Multiple R-squared:  0.9977,\tAdjusted R-squared:  0.9943 \n",
       "F-statistic: 289.7 on 9 and 6 DF,  p-value: 3.225e-07\n"
      ]
     },
     "metadata": {},
     "output_type": "display_data"
    }
   ],
   "source": [
    "summary(P_hat)"
   ]
  },
  {
   "cell_type": "code",
   "execution_count": 10,
   "metadata": {},
   "outputs": [
    {
     "data": {
      "text/html": [
       "<table>\n",
       "<thead><tr><th></th><th scope=col>T</th><th scope=col>H</th><th scope=col>C</th><th scope=col>TH</th><th scope=col>TC</th><th scope=col>HC</th><th scope=col>T2</th><th scope=col>H2</th><th scope=col>C2</th></tr></thead>\n",
       "<tbody>\n",
       "\t<tr><th scope=row>T</th><td> 1.00000000</td><td> 0.22362776</td><td>-0.95820405</td><td>-0.13168160</td><td> 0.4431776 </td><td> 0.20493411</td><td>-0.2707456 </td><td> 0.03120928</td><td>-0.5771841 </td></tr>\n",
       "\t<tr><th scope=row>H</th><td> 0.22362776</td><td> 1.00000000</td><td>-0.24023098</td><td> 0.03885892</td><td> 0.1923236 </td><td>-0.02278952</td><td>-0.1477108 </td><td> 0.49844734</td><td>-0.2239588 </td></tr>\n",
       "\t<tr><th scope=row>C</th><td>-0.95820405</td><td>-0.24023098</td><td> 1.00000000</td><td> 0.19428701</td><td>-0.6608196 </td><td>-0.27350468</td><td> 0.5009622 </td><td>-0.01778787</td><td> 0.7654718 </td></tr>\n",
       "\t<tr><th scope=row>TH</th><td>-0.13168160</td><td> 0.03885892</td><td> 0.19428701</td><td> 1.00000000</td><td>-0.2645513 </td><td>-0.97447326</td><td> 0.2461338 </td><td> 0.39776930</td><td> 0.2743512 </td></tr>\n",
       "\t<tr><th scope=row>TC</th><td> 0.44317757</td><td> 0.19232364</td><td>-0.66081962</td><td>-0.26455134</td><td> 1.0000000 </td><td> 0.32318565</td><td>-0.9721738 </td><td> 0.12597543</td><td>-0.9721673 </td></tr>\n",
       "\t<tr><th scope=row>HC</th><td> 0.20493411</td><td>-0.02278952</td><td>-0.27350468</td><td>-0.97447326</td><td> 0.3231856 </td><td> 1.00000000</td><td>-0.2790099 </td><td>-0.37427299</td><td>-0.3581116 </td></tr>\n",
       "\t<tr><th scope=row>T2</th><td>-0.27074558</td><td>-0.14771083</td><td> 0.50096224</td><td> 0.24613382</td><td>-0.9721738 </td><td>-0.27900992</td><td> 1.0000000 </td><td>-0.12369389</td><td> 0.8935237 </td></tr>\n",
       "\t<tr><th scope=row>H2</th><td> 0.03120928</td><td> 0.49844734</td><td>-0.01778787</td><td> 0.39776930</td><td> 0.1259754 </td><td>-0.37427299</td><td>-0.1236939 </td><td> 1.00000000</td><td>-0.1580735 </td></tr>\n",
       "\t<tr><th scope=row>C2</th><td>-0.57718413</td><td>-0.22395879</td><td> 0.76547178</td><td> 0.27435119</td><td>-0.9721673 </td><td>-0.35811161</td><td> 0.8935237 </td><td>-0.15807353</td><td> 1.0000000 </td></tr>\n",
       "</tbody>\n",
       "</table>\n"
      ],
      "text/latex": [
       "\\begin{tabular}{r|lllllllll}\n",
       "  & T & H & C & TH & TC & HC & T2 & H2 & C2\\\\\n",
       "\\hline\n",
       "\tT &  1.00000000 &  0.22362776 & -0.95820405 & -0.13168160 &  0.4431776  &  0.20493411 & -0.2707456  &  0.03120928 & -0.5771841 \\\\\n",
       "\tH &  0.22362776 &  1.00000000 & -0.24023098 &  0.03885892 &  0.1923236  & -0.02278952 & -0.1477108  &  0.49844734 & -0.2239588 \\\\\n",
       "\tC & -0.95820405 & -0.24023098 &  1.00000000 &  0.19428701 & -0.6608196  & -0.27350468 &  0.5009622  & -0.01778787 &  0.7654718 \\\\\n",
       "\tTH & -0.13168160 &  0.03885892 &  0.19428701 &  1.00000000 & -0.2645513  & -0.97447326 &  0.2461338  &  0.39776930 &  0.2743512 \\\\\n",
       "\tTC &  0.44317757 &  0.19232364 & -0.66081962 & -0.26455134 &  1.0000000  &  0.32318565 & -0.9721738  &  0.12597543 & -0.9721673 \\\\\n",
       "\tHC &  0.20493411 & -0.02278952 & -0.27350468 & -0.97447326 &  0.3231856  &  1.00000000 & -0.2790099  & -0.37427299 & -0.3581116 \\\\\n",
       "\tT2 & -0.27074558 & -0.14771083 &  0.50096224 &  0.24613382 & -0.9721738  & -0.27900992 &  1.0000000  & -0.12369389 &  0.8935237 \\\\\n",
       "\tH2 &  0.03120928 &  0.49844734 & -0.01778787 &  0.39776930 &  0.1259754  & -0.37427299 & -0.1236939  &  1.00000000 & -0.1580735 \\\\\n",
       "\tC2 & -0.57718413 & -0.22395879 &  0.76547178 &  0.27435119 & -0.9721673  & -0.35811161 &  0.8935237  & -0.15807353 &  1.0000000 \\\\\n",
       "\\end{tabular}\n"
      ],
      "text/markdown": [
       "\n",
       "| <!--/--> | T | H | C | TH | TC | HC | T2 | H2 | C2 | \n",
       "|---|---|---|---|---|---|---|---|---|\n",
       "| T |  1.00000000 |  0.22362776 | -0.95820405 | -0.13168160 |  0.4431776  |  0.20493411 | -0.2707456  |  0.03120928 | -0.5771841  | \n",
       "| H |  0.22362776 |  1.00000000 | -0.24023098 |  0.03885892 |  0.1923236  | -0.02278952 | -0.1477108  |  0.49844734 | -0.2239588  | \n",
       "| C | -0.95820405 | -0.24023098 |  1.00000000 |  0.19428701 | -0.6608196  | -0.27350468 |  0.5009622  | -0.01778787 |  0.7654718  | \n",
       "| TH | -0.13168160 |  0.03885892 |  0.19428701 |  1.00000000 | -0.2645513  | -0.97447326 |  0.2461338  |  0.39776930 |  0.2743512  | \n",
       "| TC |  0.44317757 |  0.19232364 | -0.66081962 | -0.26455134 |  1.0000000  |  0.32318565 | -0.9721738  |  0.12597543 | -0.9721673  | \n",
       "| HC |  0.20493411 | -0.02278952 | -0.27350468 | -0.97447326 |  0.3231856  |  1.00000000 | -0.2790099  | -0.37427299 | -0.3581116  | \n",
       "| T2 | -0.27074558 | -0.14771083 |  0.50096224 |  0.24613382 | -0.9721738  | -0.27900992 |  1.0000000  | -0.12369389 |  0.8935237  | \n",
       "| H2 |  0.03120928 |  0.49844734 | -0.01778787 |  0.39776930 |  0.1259754  | -0.37427299 | -0.1236939  |  1.00000000 | -0.1580735  | \n",
       "| C2 | -0.57718413 | -0.22395879 |  0.76547178 |  0.27435119 | -0.9721673  | -0.35811161 |  0.8935237  | -0.15807353 |  1.0000000  | \n",
       "\n",
       "\n"
      ],
      "text/plain": [
       "   T           H           C           TH          TC         HC         \n",
       "T   1.00000000  0.22362776 -0.95820405 -0.13168160  0.4431776  0.20493411\n",
       "H   0.22362776  1.00000000 -0.24023098  0.03885892  0.1923236 -0.02278952\n",
       "C  -0.95820405 -0.24023098  1.00000000  0.19428701 -0.6608196 -0.27350468\n",
       "TH -0.13168160  0.03885892  0.19428701  1.00000000 -0.2645513 -0.97447326\n",
       "TC  0.44317757  0.19232364 -0.66081962 -0.26455134  1.0000000  0.32318565\n",
       "HC  0.20493411 -0.02278952 -0.27350468 -0.97447326  0.3231856  1.00000000\n",
       "T2 -0.27074558 -0.14771083  0.50096224  0.24613382 -0.9721738 -0.27900992\n",
       "H2  0.03120928  0.49844734 -0.01778787  0.39776930  0.1259754 -0.37427299\n",
       "C2 -0.57718413 -0.22395879  0.76547178  0.27435119 -0.9721673 -0.35811161\n",
       "   T2         H2          C2        \n",
       "T  -0.2707456  0.03120928 -0.5771841\n",
       "H  -0.1477108  0.49844734 -0.2239588\n",
       "C   0.5009622 -0.01778787  0.7654718\n",
       "TH  0.2461338  0.39776930  0.2743512\n",
       "TC -0.9721738  0.12597543 -0.9721673\n",
       "HC -0.2790099 -0.37427299 -0.3581116\n",
       "T2  1.0000000 -0.12369389  0.8935237\n",
       "H2 -0.1236939  1.00000000 -0.1580735\n",
       "C2  0.8935237 -0.15807353  1.0000000"
      ]
     },
     "metadata": {},
     "output_type": "display_data"
    }
   ],
   "source": [
    "cor(df2[,-1])"
   ]
  },
  {
   "cell_type": "markdown",
   "metadata": {},
   "source": [
    "T와 C간의 높은 상관관계 등 regressor 간의 높은 상관관계<br>\n",
    "상관분석은 pair-wise correlation만 찾을 수 있을 뿐 여러 개의 regressor가 연관 된 near-linear dependence는 못 봄<br>"
   ]
  },
  {
   "cell_type": "markdown",
   "metadata": {},
   "source": [
    "<b>VIF <br></b>"
   ]
  },
  {
   "cell_type": "code",
   "execution_count": 11,
   "metadata": {},
   "outputs": [
    {
     "name": "stderr",
     "output_type": "stream",
     "text": [
      "Warning message:\n",
      "\"package 'car' was built under R version 3.5.3\"Loading required package: carData\n",
      "Warning message:\n",
      "\"package 'carData' was built under R version 3.5.2\""
     ]
    }
   ],
   "source": [
    "library(car)"
   ]
  },
  {
   "cell_type": "code",
   "execution_count": 12,
   "metadata": {},
   "outputs": [
    {
     "data": {
      "text/html": [
       "<dl class=dl-horizontal>\n",
       "\t<dt>T</dt>\n",
       "\t\t<dd>374.000311643442</dd>\n",
       "\t<dt>H</dt>\n",
       "\t\t<dd>1.74461023617487</dd>\n",
       "\t<dt>C</dt>\n",
       "\t\t<dd>679.106087299954</dd>\n",
       "\t<dt>TH</dt>\n",
       "\t\t<dd>31.0309210734711</dd>\n",
       "\t<dt>TC</dt>\n",
       "\t\t<dd>6565.90672850564</dd>\n",
       "\t<dt>HC</dt>\n",
       "\t\t<dd>35.5951261232966</dd>\n",
       "\t<dt>T2</dt>\n",
       "\t\t<dd>1762.5753652019</dd>\n",
       "\t<dt>H2</dt>\n",
       "\t\t<dd>3.16809645748802</dd>\n",
       "\t<dt>C2</dt>\n",
       "\t\t<dd>1158.12865688083</dd>\n",
       "</dl>\n"
      ],
      "text/latex": [
       "\\begin{description*}\n",
       "\\item[T] 374.000311643442\n",
       "\\item[H] 1.74461023617487\n",
       "\\item[C] 679.106087299954\n",
       "\\item[TH] 31.0309210734711\n",
       "\\item[TC] 6565.90672850564\n",
       "\\item[HC] 35.5951261232966\n",
       "\\item[T2] 1762.5753652019\n",
       "\\item[H2] 3.16809645748802\n",
       "\\item[C2] 1158.12865688083\n",
       "\\end{description*}\n"
      ],
      "text/markdown": [
       "T\n",
       ":   374.000311643442H\n",
       ":   1.74461023617487C\n",
       ":   679.106087299954TH\n",
       ":   31.0309210734711TC\n",
       ":   6565.90672850564HC\n",
       ":   35.5951261232966T2\n",
       ":   1762.5753652019H2\n",
       ":   3.16809645748802C2\n",
       ":   1158.12865688083\n",
       "\n"
      ],
      "text/plain": [
       "          T           H           C          TH          TC          HC \n",
       " 374.000312    1.744610  679.106087   31.030921 6565.906729   35.595126 \n",
       "         T2          H2          C2 \n",
       "1762.575365    3.168096 1158.128657 "
      ]
     },
     "metadata": {},
     "output_type": "display_data"
    }
   ],
   "source": [
    "vif(P_hat)"
   ]
  },
  {
   "cell_type": "markdown",
   "metadata": {},
   "source": [
    "<b>Eigensystem <br></b>"
   ]
  },
  {
   "cell_type": "code",
   "execution_count": 13,
   "metadata": {},
   "outputs": [],
   "source": [
    "X=as.matrix(df2[,-1])"
   ]
  },
  {
   "cell_type": "markdown",
   "metadata": {},
   "source": [
    "T와 C가 들어가는 변수의 VIF가 매우 높음 ; 어떤 regressor가 multicollinearity에 연관된지 알 수 있음\n",
    "polynomial term 같은 경우 centering 하면 VIF가 낮아질 수 있음"
   ]
  },
  {
   "cell_type": "code",
   "execution_count": 14,
   "metadata": {},
   "outputs": [
    {
     "data": {
      "text/plain": [
       "eigen() decomposition\n",
       "$values\n",
       "[1] 95.576825221 37.828260543 21.379950103 14.950983375  8.677445377\n",
       "[6]  0.620886979  0.405349960  0.147670207  0.001206493\n",
       "\n",
       "$vectors\n",
       "             [,1]          [,2]        [,3]         [,4]        [,5]\n",
       " [1,] -0.16172735 -0.3721760541  0.50656168 -0.319879302 -0.08153367\n",
       " [2,] -0.02965619 -0.4024037219 -0.09603629  0.474846424 -0.77575321\n",
       " [3,]  0.21115361  0.3828747368 -0.43164702  0.257988146 -0.01658086\n",
       " [4,]  0.18570715 -0.1853945620 -0.38331234 -0.535454012 -0.18328852\n",
       " [5,] -0.49267656 -0.0858077793 -0.25709868 -0.004816269  0.09189567\n",
       " [6,] -0.19779143  0.1473540866  0.37196628  0.478841737  0.18487261\n",
       " [7,]  0.46331591 -0.0009513821  0.35507528 -0.026371332 -0.06879143\n",
       " [8,]  0.32588459 -0.6794024665 -0.20527722  0.296877150  0.54489768\n",
       " [9,]  0.53960888  0.1671143418  0.16807430  0.028020128 -0.11584973\n",
       "             [,6]         [,7]         [,8]         [,9]\n",
       " [1,] -0.14385738  0.654339279  0.016859056 -0.143579041\n",
       " [2,]  0.01080286 -0.023290706  0.004742809  0.003867366\n",
       " [3,]  0.10118232  0.709154001 -0.065031235 -0.195711033\n",
       " [4,]  0.32894972  0.008786244  0.596330810 -0.003483040\n",
       " [5,] -0.10351771 -0.161364709  0.040230677 -0.798101562\n",
       " [6,]  0.30174238  0.050848276  0.666020827 -0.011016807\n",
       " [7,]  0.57835844 -0.150419048 -0.280711926 -0.466805888\n",
       " [8,] -0.04254176  0.055067094  0.012014811 -0.006059352\n",
       " [9,] -0.65013068 -0.118484870  0.340158774 -0.293297182\n"
      ]
     },
     "metadata": {},
     "output_type": "display_data"
    }
   ],
   "source": [
    "A<-eigen(t(X)%*%X )\n",
    "A"
   ]
  },
  {
   "cell_type": "code",
   "execution_count": 15,
   "metadata": {},
   "outputs": [
    {
     "data": {
      "text/html": [
       "79218.6970167388"
      ],
      "text/latex": [
       "79218.6970167388"
      ],
      "text/markdown": [
       "79218.6970167388"
      ],
      "text/plain": [
       "[1] 79218.7"
      ]
     },
     "metadata": {},
     "output_type": "display_data"
    }
   ],
   "source": [
    "max(A$values)/min(A$values)"
   ]
  },
  {
   "cell_type": "markdown",
   "metadata": {},
   "source": [
    "condition number가 1000을 넘어 심각한 multicollinearity"
   ]
  },
  {
   "cell_type": "code",
   "execution_count": 16,
   "metadata": {},
   "outputs": [
    {
     "data": {
      "text/html": [
       "<ol class=list-inline>\n",
       "\t<li>1</li>\n",
       "\t<li>2.52659847028322</li>\n",
       "\t<li>4.47039514880025</li>\n",
       "\t<li>6.39267818204553</li>\n",
       "\t<li>11.0143966417883</li>\n",
       "\t<li>153.935947247274</li>\n",
       "\t<li>235.788416595766</li>\n",
       "\t<li>647.23160556825</li>\n",
       "\t<li>79218.6970167388</li>\n",
       "</ol>\n"
      ],
      "text/latex": [
       "\\begin{enumerate*}\n",
       "\\item 1\n",
       "\\item 2.52659847028322\n",
       "\\item 4.47039514880025\n",
       "\\item 6.39267818204553\n",
       "\\item 11.0143966417883\n",
       "\\item 153.935947247274\n",
       "\\item 235.788416595766\n",
       "\\item 647.23160556825\n",
       "\\item 79218.6970167388\n",
       "\\end{enumerate*}\n"
      ],
      "text/markdown": [
       "1. 1\n",
       "2. 2.52659847028322\n",
       "3. 4.47039514880025\n",
       "4. 6.39267818204553\n",
       "5. 11.0143966417883\n",
       "6. 153.935947247274\n",
       "7. 235.788416595766\n",
       "8. 647.23160556825\n",
       "9. 79218.6970167388\n",
       "\n",
       "\n"
      ],
      "text/plain": [
       "[1]     1.000000     2.526598     4.470395     6.392678    11.014397\n",
       "[6]   153.935947   235.788417   647.231606 79218.697017"
      ]
     },
     "metadata": {},
     "output_type": "display_data"
    }
   ],
   "source": [
    "max(A$values)/A$values"
   ]
  },
  {
   "cell_type": "markdown",
   "metadata": {},
   "source": [
    "condition indices가 1000이 넘는게 하나 있는 것으로 보아 최소 한 개의 strong-near linear dependence 있음<br>\n",
    "아까 x1과 x3의 correlation이 높았던 것과 상응하는 결과"
   ]
  },
  {
   "cell_type": "markdown",
   "metadata": {},
   "source": [
    "Centering이 중요한 이유는 intercept를 다른 regressor들에 orthogonal하게 만들어줘 모형의 constant term 때문에 왜곡되는 것을 막아줌"
   ]
  },
  {
   "cell_type": "code",
   "execution_count": 17,
   "metadata": {},
   "outputs": [],
   "source": [
    "#library(peturb)\n",
    "#colldiag(P_hat)"
   ]
  },
  {
   "cell_type": "markdown",
   "metadata": {},
   "source": [
    "<b>Ridge Regression <br></b>"
   ]
  },
  {
   "cell_type": "markdown",
   "metadata": {},
   "source": [
    "Muticollinearity로 coef의 variance 커지고 estimates는 너무 길어짐. 따라서 coef의 estimates의 절대값 너무 커져 unstable 해짐<br>\n",
    "따라서 추정된 회귀계수의 크기나 sign이 왜곡될 수 있음"
   ]
  },
  {
   "cell_type": "code",
   "execution_count": 18,
   "metadata": {},
   "outputs": [
    {
     "name": "stderr",
     "output_type": "stream",
     "text": [
      "Loading required package: Matrix\n",
      "Loading required package: foreach\n",
      "Loaded glmnet 2.0-16\n",
      "\n"
     ]
    }
   ],
   "source": [
    "library(glmnet)"
   ]
  },
  {
   "cell_type": "code",
   "execution_count": 19,
   "metadata": {},
   "outputs": [
    {
     "data": {
      "text/plain": [
       "          Length Class     Mode   \n",
       "a0         51    -none-    numeric\n",
       "beta      459    dgCMatrix S4     \n",
       "df         51    -none-    numeric\n",
       "dim         2    -none-    numeric\n",
       "lambda     51    -none-    numeric\n",
       "dev.ratio  51    -none-    numeric\n",
       "nulldev     1    -none-    numeric\n",
       "npasses     1    -none-    numeric\n",
       "jerr        1    -none-    numeric\n",
       "offset      1    -none-    logical\n",
       "call        5    -none-    call   \n",
       "nobs        1    -none-    numeric"
      ]
     },
     "metadata": {},
     "output_type": "display_data"
    }
   ],
   "source": [
    "lambdas <- 10^seq(3, -2, by = -.1)\n",
    "fit_ridge <- glmnet(X, df2[,1], alpha = 0, lambda = lambdas)\n",
    "summary(fit_ridge)"
   ]
  },
  {
   "cell_type": "code",
   "execution_count": 20,
   "metadata": {},
   "outputs": [
    {
     "name": "stderr",
     "output_type": "stream",
     "text": [
      "Warning message:\n",
      "\"Option grouped=FALSE enforced in cv.glmnet, since < 3 observations per fold\""
     ]
    }
   ],
   "source": [
    "cv_fit <- cv.glmnet(X, df2[,1], alpha = 0, lambda = lambdas)"
   ]
  },
  {
   "cell_type": "code",
   "execution_count": 21,
   "metadata": {},
   "outputs": [
    {
     "data": {
      "image/png": "[encoded data removed]",
      "text/plain": [
       "plot without title"
      ]
     },
     "metadata": {},
     "output_type": "display_data"
    }
   ],
   "source": [
    "plot(cv_fit)"
   ]
  },
  {
   "cell_type": "code",
   "execution_count": 22,
   "metadata": {},
   "outputs": [
    {
     "data": {
      "text/html": [
       "0.630957344480193"
      ],
      "text/latex": [
       "0.630957344480193"
      ],
      "text/markdown": [
       "0.630957344480193"
      ],
      "text/plain": [
       "[1] 0.6309573"
      ]
     },
     "metadata": {},
     "output_type": "display_data"
    }
   ],
   "source": [
    "opt_lambda <- cv_fit$lambda.min\n",
    "opt_lambda"
   ]
  },
  {
   "cell_type": "code",
   "execution_count": 23,
   "metadata": {},
   "outputs": [],
   "source": [
    "fit_ridge <- glmnet(X, df2[,1], alpha = 0, lambda = opt_lambda)"
   ]
  },
  {
   "cell_type": "code",
   "execution_count": 24,
   "metadata": {},
   "outputs": [
    {
     "data": {
      "text/plain": [
       "10 x 1 sparse Matrix of class \"dgCMatrix\"\n",
       "                    s0\n",
       "(Intercept) 35.0730596\n",
       "T            6.1740883\n",
       "H            2.4759478\n",
       "C           -4.5111788\n",
       "TH          -2.6539748\n",
       "TC          -0.8085342\n",
       "HC           0.6524082\n",
       "T2           1.8866008\n",
       "H2          -0.5049942\n",
       "C2          -0.3038628"
      ]
     },
     "metadata": {},
     "output_type": "display_data"
    },
    {
     "data": {
      "text/html": [
       "<dl class=dl-horizontal>\n",
       "\t<dt>(Intercept)</dt>\n",
       "\t\t<dd>35.8971252932935</dd>\n",
       "\t<dt>T</dt>\n",
       "\t\t<dd>4.01873472943164</dd>\n",
       "\t<dt>H</dt>\n",
       "\t\t<dd>2.78107406011588</dd>\n",
       "\t<dt>C</dt>\n",
       "\t\t<dd>-8.03105090589702</dd>\n",
       "\t<dt>TH</dt>\n",
       "\t\t<dd>-6.45677078305354</dd>\n",
       "\t<dt>TC</dt>\n",
       "\t\t<dd>-26.9817888878815</dd>\n",
       "\t<dt>HC</dt>\n",
       "\t\t<dd>-3.76828994399242</dd>\n",
       "\t<dt>T2</dt>\n",
       "\t\t<dd>-12.5237238055602</dd>\n",
       "\t<dt>H2</dt>\n",
       "\t\t<dd>-0.972711607499598</dd>\n",
       "\t<dt>C2</dt>\n",
       "\t\t<dd>-11.5943027960126</dd>\n",
       "</dl>\n"
      ],
      "text/latex": [
       "\\begin{description*}\n",
       "\\item[(Intercept)] 35.8971252932935\n",
       "\\item[T] 4.01873472943164\n",
       "\\item[H] 2.78107406011588\n",
       "\\item[C] -8.03105090589702\n",
       "\\item[TH] -6.45677078305354\n",
       "\\item[TC] -26.9817888878815\n",
       "\\item[HC] -3.76828994399242\n",
       "\\item[T2] -12.5237238055602\n",
       "\\item[H2] -0.972711607499598\n",
       "\\item[C2] -11.5943027960126\n",
       "\\end{description*}\n"
      ],
      "text/markdown": [
       "(Intercept)\n",
       ":   35.8971252932935T\n",
       ":   4.01873472943164H\n",
       ":   2.78107406011588C\n",
       ":   -8.03105090589702TH\n",
       ":   -6.45677078305354TC\n",
       ":   -26.9817888878815HC\n",
       ":   -3.76828994399242T2\n",
       ":   -12.5237238055602H2\n",
       ":   -0.972711607499598C2\n",
       ":   -11.5943027960126\n",
       "\n"
      ],
      "text/plain": [
       "(Intercept)           T           H           C          TH          TC \n",
       " 35.8971253   4.0187347   2.7810741  -8.0310509  -6.4567708 -26.9817889 \n",
       "         HC          T2          H2          C2 \n",
       " -3.7682899 -12.5237238  -0.9727116 -11.5943028 "
      ]
     },
     "metadata": {},
     "output_type": "display_data"
    }
   ],
   "source": [
    "coef(fit_ridge);coef(P_hat)"
   ]
  },
  {
   "cell_type": "markdown",
   "metadata": {},
   "source": [
    "T,C에 관한 regressor들 작아지고 T2의 경우 부호가 바뀌었음"
   ]
  },
  {
   "cell_type": "markdown",
   "metadata": {},
   "source": [
    "<b>PCA <br></b>"
   ]
  },
  {
   "cell_type": "code",
   "execution_count": 26,
   "metadata": {},
   "outputs": [],
   "source": [
    "fit_pca<-prcomp(X)"
   ]
  },
  {
   "cell_type": "code",
   "execution_count": 27,
   "metadata": {},
   "outputs": [
    {
     "data": {
      "text/plain": [
       "Standard deviations (1, .., p=9):\n",
       "[1] 1.934172292 1.424859771 1.022420816 0.958246255 0.638063693 0.202599384\n",
       "[7] 0.102172721 0.071150275 0.008810393\n",
       "\n",
       "Rotation (n x k) = (9 x 9):\n",
       "           PC1         PC2        PC3         PC4         PC5         PC6\n",
       "T  -0.39047851  0.03215621 -0.6004482  0.19163180 -0.17693920 -0.22512570\n",
       "H  -0.16410601  0.40876403  0.1798330  0.64367101  0.59838054  0.01820555\n",
       "C   0.46114924 -0.01216581  0.4339286 -0.06315449  0.03529983  0.01697695\n",
       "TH  0.17078316  0.44486420 -0.3065162 -0.39192597  0.24217590  0.33120306\n",
       "TC -0.41790800  0.01669996  0.2422642 -0.29830418  0.13532281 -0.07892584\n",
       "HC -0.19421796 -0.40835287  0.2624698  0.35890624 -0.25123860  0.29376532\n",
       "T2  0.32640586 -0.01168714 -0.3185710  0.32593957 -0.16494421  0.58556703\n",
       "H2 -0.06261684  0.68234320  0.2662815  0.09892034 -0.66468964 -0.05842913\n",
       "C2  0.50590599 -0.03264955 -0.1577977  0.23989480 -0.01691171 -0.63259246\n",
       "            PC7         PC8          PC9\n",
       "T  -0.240723801 -0.53404326  0.155217445\n",
       "H  -0.011736834 -0.02813266 -0.002998862\n",
       "C  -0.215752494 -0.70864230  0.211313857\n",
       "TH -0.578962898  0.14772378  0.002408339\n",
       "TC  0.013858126  0.14055371  0.795554986\n",
       "HC -0.638711968  0.20093681  0.008702531\n",
       "T2  0.312858832  0.03770099  0.464974409\n",
       "H2  0.003638164  0.06737665  0.004085621\n",
       "C2 -0.232654702  0.35202018  0.286422488"
      ]
     },
     "metadata": {},
     "output_type": "display_data"
    }
   ],
   "source": [
    "fit_pca"
   ]
  },
  {
   "cell_type": "code",
   "execution_count": 28,
   "metadata": {},
   "outputs": [
    {
     "data": {
      "text/html": [
       "<table>\n",
       "<thead><tr><th></th><th scope=col>PC1</th><th scope=col>PC2</th><th scope=col>PC3</th><th scope=col>PC4</th><th scope=col>PC5</th><th scope=col>PC6</th><th scope=col>PC7</th><th scope=col>PC8</th><th scope=col>PC9</th></tr></thead>\n",
       "<tbody>\n",
       "\t<tr><th scope=row>T</th><td>-0.39047851 </td><td> 0.03215621 </td><td>-0.6004482  </td><td> 0.19163180 </td><td>-0.17693920 </td><td>-0.22512570 </td><td>-0.240723801</td><td>-0.53404326 </td><td> 0.155217445</td></tr>\n",
       "\t<tr><th scope=row>H</th><td>-0.16410601 </td><td> 0.40876403 </td><td> 0.1798330  </td><td> 0.64367101 </td><td> 0.59838054 </td><td> 0.01820555 </td><td>-0.011736834</td><td>-0.02813266 </td><td>-0.002998862</td></tr>\n",
       "\t<tr><th scope=row>C</th><td> 0.46114924 </td><td>-0.01216581 </td><td> 0.4339286  </td><td>-0.06315449 </td><td> 0.03529983 </td><td> 0.01697695 </td><td>-0.215752494</td><td>-0.70864230 </td><td> 0.211313857</td></tr>\n",
       "\t<tr><th scope=row>TH</th><td> 0.17078316 </td><td> 0.44486420 </td><td>-0.3065162  </td><td>-0.39192597 </td><td> 0.24217590 </td><td> 0.33120306 </td><td>-0.578962898</td><td> 0.14772378 </td><td> 0.002408339</td></tr>\n",
       "\t<tr><th scope=row>TC</th><td>-0.41790800 </td><td> 0.01669996 </td><td> 0.2422642  </td><td>-0.29830418 </td><td> 0.13532281 </td><td>-0.07892584 </td><td> 0.013858126</td><td> 0.14055371 </td><td> 0.795554986</td></tr>\n",
       "\t<tr><th scope=row>HC</th><td>-0.19421796 </td><td>-0.40835287 </td><td> 0.2624698  </td><td> 0.35890624 </td><td>-0.25123860 </td><td> 0.29376532 </td><td>-0.638711968</td><td> 0.20093681 </td><td> 0.008702531</td></tr>\n",
       "\t<tr><th scope=row>T2</th><td> 0.32640586 </td><td>-0.01168714 </td><td>-0.3185710  </td><td> 0.32593957 </td><td>-0.16494421 </td><td> 0.58556703 </td><td> 0.312858832</td><td> 0.03770099 </td><td> 0.464974409</td></tr>\n",
       "\t<tr><th scope=row>H2</th><td>-0.06261684 </td><td> 0.68234320 </td><td> 0.2662815  </td><td> 0.09892034 </td><td>-0.66468964 </td><td>-0.05842913 </td><td> 0.003638164</td><td> 0.06737665 </td><td> 0.004085621</td></tr>\n",
       "\t<tr><th scope=row>C2</th><td> 0.50590599 </td><td>-0.03264955 </td><td>-0.1577977  </td><td> 0.23989480 </td><td>-0.01691171 </td><td>-0.63259246 </td><td>-0.232654702</td><td> 0.35202018 </td><td> 0.286422488</td></tr>\n",
       "</tbody>\n",
       "</table>\n"
      ],
      "text/latex": [
       "\\begin{tabular}{r|lllllllll}\n",
       "  & PC1 & PC2 & PC3 & PC4 & PC5 & PC6 & PC7 & PC8 & PC9\\\\\n",
       "\\hline\n",
       "\tT & -0.39047851  &  0.03215621  & -0.6004482   &  0.19163180  & -0.17693920  & -0.22512570  & -0.240723801 & -0.53404326  &  0.155217445\\\\\n",
       "\tH & -0.16410601  &  0.40876403  &  0.1798330   &  0.64367101  &  0.59838054  &  0.01820555  & -0.011736834 & -0.02813266  & -0.002998862\\\\\n",
       "\tC &  0.46114924  & -0.01216581  &  0.4339286   & -0.06315449  &  0.03529983  &  0.01697695  & -0.215752494 & -0.70864230  &  0.211313857\\\\\n",
       "\tTH &  0.17078316  &  0.44486420  & -0.3065162   & -0.39192597  &  0.24217590  &  0.33120306  & -0.578962898 &  0.14772378  &  0.002408339\\\\\n",
       "\tTC & -0.41790800  &  0.01669996  &  0.2422642   & -0.29830418  &  0.13532281  & -0.07892584  &  0.013858126 &  0.14055371  &  0.795554986\\\\\n",
       "\tHC & -0.19421796  & -0.40835287  &  0.2624698   &  0.35890624  & -0.25123860  &  0.29376532  & -0.638711968 &  0.20093681  &  0.008702531\\\\\n",
       "\tT2 &  0.32640586  & -0.01168714  & -0.3185710   &  0.32593957  & -0.16494421  &  0.58556703  &  0.312858832 &  0.03770099  &  0.464974409\\\\\n",
       "\tH2 & -0.06261684  &  0.68234320  &  0.2662815   &  0.09892034  & -0.66468964  & -0.05842913  &  0.003638164 &  0.06737665  &  0.004085621\\\\\n",
       "\tC2 &  0.50590599  & -0.03264955  & -0.1577977   &  0.23989480  & -0.01691171  & -0.63259246  & -0.232654702 &  0.35202018  &  0.286422488\\\\\n",
       "\\end{tabular}\n"
      ],
      "text/markdown": [
       "\n",
       "| <!--/--> | PC1 | PC2 | PC3 | PC4 | PC5 | PC6 | PC7 | PC8 | PC9 | \n",
       "|---|---|---|---|---|---|---|---|---|\n",
       "| T | -0.39047851  |  0.03215621  | -0.6004482   |  0.19163180  | -0.17693920  | -0.22512570  | -0.240723801 | -0.53404326  |  0.155217445 | \n",
       "| H | -0.16410601  |  0.40876403  |  0.1798330   |  0.64367101  |  0.59838054  |  0.01820555  | -0.011736834 | -0.02813266  | -0.002998862 | \n",
       "| C |  0.46114924  | -0.01216581  |  0.4339286   | -0.06315449  |  0.03529983  |  0.01697695  | -0.215752494 | -0.70864230  |  0.211313857 | \n",
       "| TH |  0.17078316  |  0.44486420  | -0.3065162   | -0.39192597  |  0.24217590  |  0.33120306  | -0.578962898 |  0.14772378  |  0.002408339 | \n",
       "| TC | -0.41790800  |  0.01669996  |  0.2422642   | -0.29830418  |  0.13532281  | -0.07892584  |  0.013858126 |  0.14055371  |  0.795554986 | \n",
       "| HC | -0.19421796  | -0.40835287  |  0.2624698   |  0.35890624  | -0.25123860  |  0.29376532  | -0.638711968 |  0.20093681  |  0.008702531 | \n",
       "| T2 |  0.32640586  | -0.01168714  | -0.3185710   |  0.32593957  | -0.16494421  |  0.58556703  |  0.312858832 |  0.03770099  |  0.464974409 | \n",
       "| H2 | -0.06261684  |  0.68234320  |  0.2662815   |  0.09892034  | -0.66468964  | -0.05842913  |  0.003638164 |  0.06737665  |  0.004085621 | \n",
       "| C2 |  0.50590599  | -0.03264955  | -0.1577977   |  0.23989480  | -0.01691171  | -0.63259246  | -0.232654702 |  0.35202018  |  0.286422488 | \n",
       "\n",
       "\n"
      ],
      "text/plain": [
       "   PC1         PC2         PC3        PC4         PC5         PC6        \n",
       "T  -0.39047851  0.03215621 -0.6004482  0.19163180 -0.17693920 -0.22512570\n",
       "H  -0.16410601  0.40876403  0.1798330  0.64367101  0.59838054  0.01820555\n",
       "C   0.46114924 -0.01216581  0.4339286 -0.06315449  0.03529983  0.01697695\n",
       "TH  0.17078316  0.44486420 -0.3065162 -0.39192597  0.24217590  0.33120306\n",
       "TC -0.41790800  0.01669996  0.2422642 -0.29830418  0.13532281 -0.07892584\n",
       "HC -0.19421796 -0.40835287  0.2624698  0.35890624 -0.25123860  0.29376532\n",
       "T2  0.32640586 -0.01168714 -0.3185710  0.32593957 -0.16494421  0.58556703\n",
       "H2 -0.06261684  0.68234320  0.2662815  0.09892034 -0.66468964 -0.05842913\n",
       "C2  0.50590599 -0.03264955 -0.1577977  0.23989480 -0.01691171 -0.63259246\n",
       "   PC7          PC8         PC9         \n",
       "T  -0.240723801 -0.53404326  0.155217445\n",
       "H  -0.011736834 -0.02813266 -0.002998862\n",
       "C  -0.215752494 -0.70864230  0.211313857\n",
       "TH -0.578962898  0.14772378  0.002408339\n",
       "TC  0.013858126  0.14055371  0.795554986\n",
       "HC -0.638711968  0.20093681  0.008702531\n",
       "T2  0.312858832  0.03770099  0.464974409\n",
       "H2  0.003638164  0.06737665  0.004085621\n",
       "C2 -0.232654702  0.35202018  0.286422488"
      ]
     },
     "metadata": {},
     "output_type": "display_data"
    }
   ],
   "source": [
    "#loadings\n",
    "fit_pca$rotation"
   ]
  },
  {
   "cell_type": "markdown",
   "metadata": {},
   "source": [
    "T: orthogonal matrix (each column is Eigenvector), all called loadings"
   ]
  },
  {
   "cell_type": "code",
   "execution_count": 29,
   "metadata": {},
   "outputs": [
    {
     "data": {
      "text/html": [
       "<table>\n",
       "<thead><tr><th scope=col>PC1</th><th scope=col>PC2</th><th scope=col>PC3</th><th scope=col>PC4</th><th scope=col>PC5</th><th scope=col>PC6</th><th scope=col>PC7</th><th scope=col>PC8</th><th scope=col>PC9</th></tr></thead>\n",
       "<tbody>\n",
       "\t<tr><td>-1.0356977   </td><td>-1.356090537 </td><td>-0.6979339   </td><td> 0.5662356   </td><td>-1.20878239  </td><td>-0.11937031  </td><td> 0.074899960 </td><td> 0.048927777 </td><td> 0.0020021172</td></tr>\n",
       "\t<tr><td>-0.9594960   </td><td>-1.290674540 </td><td>-0.9050249   </td><td> 0.5002401   </td><td>-0.66046917  </td><td>-0.06601923  </td><td> 0.055247629 </td><td> 0.009916651 </td><td>-0.0017640057</td></tr>\n",
       "\t<tr><td>-0.8580390   </td><td>-1.057128312 </td><td>-1.1374605   </td><td> 0.4482438   </td><td>-0.07889233  </td><td>-0.02341744  </td><td> 0.023808642 </td><td>-0.007751581 </td><td>-0.0146736552</td></tr>\n",
       "\t<tr><td>-0.8126348   </td><td>-0.520160010 </td><td>-1.2696892   </td><td> 0.3621377   </td><td> 0.42986770  </td><td> 0.07952536  </td><td> 0.002153416 </td><td>-0.086308888 </td><td> 0.0084897329</td></tr>\n",
       "\t<tr><td>-0.7503548   </td><td> 0.663218242 </td><td>-1.3221542   </td><td> 0.3583284   </td><td> 0.68853805  </td><td> 0.14018992  </td><td>-0.055634118 </td><td>-0.086168427 </td><td> 0.0154720351</td></tr>\n",
       "\t<tr><td>-0.6721291   </td><td> 3.938607943 </td><td>-1.0354329   </td><td> 0.5538669   </td><td>-0.04211648  </td><td> 0.03642151  </td><td>-0.103547653 </td><td> 0.101880597 </td><td>-0.0092592033</td></tr>\n",
       "\t<tr><td>-0.9746688   </td><td>-0.122064400 </td><td> 0.7591802   </td><td>-1.4769666   </td><td>-0.93647260  </td><td> 0.02566089  </td><td>-0.141898812 </td><td>-0.023095361 </td><td> 0.0049181492</td></tr>\n",
       "\t<tr><td>-1.0374260   </td><td>-0.575946632 </td><td> 0.6144096   </td><td>-1.2644719   </td><td>-0.18145952  </td><td> 0.07120597  </td><td>-0.134903962 </td><td>-0.040438776 </td><td>-0.0034040540</td></tr>\n",
       "\t<tr><td>-1.1798570   </td><td>-0.841806290 </td><td> 0.4851491   </td><td>-0.8782944   </td><td> 0.62359164  </td><td> 0.04665415  </td><td>-0.064768140 </td><td> 0.042622645 </td><td>-0.0067909959</td></tr>\n",
       "\t<tr><td>-1.2639715   </td><td>-0.651823788 </td><td> 0.4413871   </td><td>-0.5888020   </td><td> 0.92393268  </td><td>-0.10193066  </td><td> 0.076039683 </td><td> 0.173880565 </td><td> 0.0123967671</td></tr>\n",
       "\t<tr><td>-1.3557915   </td><td> 0.009462136 </td><td> 0.8516256   </td><td>-0.1636082   </td><td> 0.88821633  </td><td>-0.06899780  </td><td> 0.158090957 </td><td>-0.074184072 </td><td>-0.0127487873</td></tr>\n",
       "\t<tr><td>-1.6775594   </td><td> 2.216146459 </td><td> 1.9928814   </td><td> 0.9220402   </td><td>-0.44526812  </td><td>-0.17900321  </td><td> 0.083193931 </td><td>-0.072472146 </td><td> 0.0052405864</td></tr>\n",
       "\t<tr><td> 3.1574210   </td><td> 1.116098882 </td><td>-0.2132212   </td><td>-1.3851467   </td><td>-0.45899699  </td><td> 0.40300034  </td><td> 0.202284043 </td><td> 0.005411974 </td><td> 0.0008885051</td></tr>\n",
       "\t<tr><td> 4.2031979   </td><td> 0.344579357 </td><td>-0.3397165   </td><td>-0.4540802   </td><td> 0.06347328  </td><td>-0.51762732  </td><td>-0.021519770 </td><td>-0.012361508 </td><td> 0.0048091487</td></tr>\n",
       "\t<tr><td> 3.2400031   </td><td>-0.713642022 </td><td> 0.2441853   </td><td> 0.4106169   </td><td> 0.43232524  </td><td>-0.01535327  </td><td>-0.085607937 </td><td>-0.027138298 </td><td>-0.0091001827</td></tr>\n",
       "\t<tr><td> 1.9770036   </td><td>-1.158776490 </td><td> 1.5318151   </td><td> 2.0896604   </td><td>-0.03748731  </td><td> 0.28906110  </td><td>-0.067837867 </td><td> 0.047278847 </td><td> 0.0035238426</td></tr>\n",
       "</tbody>\n",
       "</table>\n"
      ],
      "text/latex": [
       "\\begin{tabular}{lllllllll}\n",
       " PC1 & PC2 & PC3 & PC4 & PC5 & PC6 & PC7 & PC8 & PC9\\\\\n",
       "\\hline\n",
       "\t -1.0356977    & -1.356090537  & -0.6979339    &  0.5662356    & -1.20878239   & -0.11937031   &  0.074899960  &  0.048927777  &  0.0020021172\\\\\n",
       "\t -0.9594960    & -1.290674540  & -0.9050249    &  0.5002401    & -0.66046917   & -0.06601923   &  0.055247629  &  0.009916651  & -0.0017640057\\\\\n",
       "\t -0.8580390    & -1.057128312  & -1.1374605    &  0.4482438    & -0.07889233   & -0.02341744   &  0.023808642  & -0.007751581  & -0.0146736552\\\\\n",
       "\t -0.8126348    & -0.520160010  & -1.2696892    &  0.3621377    &  0.42986770   &  0.07952536   &  0.002153416  & -0.086308888  &  0.0084897329\\\\\n",
       "\t -0.7503548    &  0.663218242  & -1.3221542    &  0.3583284    &  0.68853805   &  0.14018992   & -0.055634118  & -0.086168427  &  0.0154720351\\\\\n",
       "\t -0.6721291    &  3.938607943  & -1.0354329    &  0.5538669    & -0.04211648   &  0.03642151   & -0.103547653  &  0.101880597  & -0.0092592033\\\\\n",
       "\t -0.9746688    & -0.122064400  &  0.7591802    & -1.4769666    & -0.93647260   &  0.02566089   & -0.141898812  & -0.023095361  &  0.0049181492\\\\\n",
       "\t -1.0374260    & -0.575946632  &  0.6144096    & -1.2644719    & -0.18145952   &  0.07120597   & -0.134903962  & -0.040438776  & -0.0034040540\\\\\n",
       "\t -1.1798570    & -0.841806290  &  0.4851491    & -0.8782944    &  0.62359164   &  0.04665415   & -0.064768140  &  0.042622645  & -0.0067909959\\\\\n",
       "\t -1.2639715    & -0.651823788  &  0.4413871    & -0.5888020    &  0.92393268   & -0.10193066   &  0.076039683  &  0.173880565  &  0.0123967671\\\\\n",
       "\t -1.3557915    &  0.009462136  &  0.8516256    & -0.1636082    &  0.88821633   & -0.06899780   &  0.158090957  & -0.074184072  & -0.0127487873\\\\\n",
       "\t -1.6775594    &  2.216146459  &  1.9928814    &  0.9220402    & -0.44526812   & -0.17900321   &  0.083193931  & -0.072472146  &  0.0052405864\\\\\n",
       "\t  3.1574210    &  1.116098882  & -0.2132212    & -1.3851467    & -0.45899699   &  0.40300034   &  0.202284043  &  0.005411974  &  0.0008885051\\\\\n",
       "\t  4.2031979    &  0.344579357  & -0.3397165    & -0.4540802    &  0.06347328   & -0.51762732   & -0.021519770  & -0.012361508  &  0.0048091487\\\\\n",
       "\t  3.2400031    & -0.713642022  &  0.2441853    &  0.4106169    &  0.43232524   & -0.01535327   & -0.085607937  & -0.027138298  & -0.0091001827\\\\\n",
       "\t  1.9770036    & -1.158776490  &  1.5318151    &  2.0896604    & -0.03748731   &  0.28906110   & -0.067837867  &  0.047278847  &  0.0035238426\\\\\n",
       "\\end{tabular}\n"
      ],
      "text/markdown": [
       "\n",
       "PC1 | PC2 | PC3 | PC4 | PC5 | PC6 | PC7 | PC8 | PC9 | \n",
       "|---|---|---|---|---|---|---|---|---|---|---|---|---|---|---|---|\n",
       "| -1.0356977    | -1.356090537  | -0.6979339    |  0.5662356    | -1.20878239   | -0.11937031   |  0.074899960  |  0.048927777  |  0.0020021172 | \n",
       "| -0.9594960    | -1.290674540  | -0.9050249    |  0.5002401    | -0.66046917   | -0.06601923   |  0.055247629  |  0.009916651  | -0.0017640057 | \n",
       "| -0.8580390    | -1.057128312  | -1.1374605    |  0.4482438    | -0.07889233   | -0.02341744   |  0.023808642  | -0.007751581  | -0.0146736552 | \n",
       "| -0.8126348    | -0.520160010  | -1.2696892    |  0.3621377    |  0.42986770   |  0.07952536   |  0.002153416  | -0.086308888  |  0.0084897329 | \n",
       "| -0.7503548    |  0.663218242  | -1.3221542    |  0.3583284    |  0.68853805   |  0.14018992   | -0.055634118  | -0.086168427  |  0.0154720351 | \n",
       "| -0.6721291    |  3.938607943  | -1.0354329    |  0.5538669    | -0.04211648   |  0.03642151   | -0.103547653  |  0.101880597  | -0.0092592033 | \n",
       "| -0.9746688    | -0.122064400  |  0.7591802    | -1.4769666    | -0.93647260   |  0.02566089   | -0.141898812  | -0.023095361  |  0.0049181492 | \n",
       "| -1.0374260    | -0.575946632  |  0.6144096    | -1.2644719    | -0.18145952   |  0.07120597   | -0.134903962  | -0.040438776  | -0.0034040540 | \n",
       "| -1.1798570    | -0.841806290  |  0.4851491    | -0.8782944    |  0.62359164   |  0.04665415   | -0.064768140  |  0.042622645  | -0.0067909959 | \n",
       "| -1.2639715    | -0.651823788  |  0.4413871    | -0.5888020    |  0.92393268   | -0.10193066   |  0.076039683  |  0.173880565  |  0.0123967671 | \n",
       "| -1.3557915    |  0.009462136  |  0.8516256    | -0.1636082    |  0.88821633   | -0.06899780   |  0.158090957  | -0.074184072  | -0.0127487873 | \n",
       "| -1.6775594    |  2.216146459  |  1.9928814    |  0.9220402    | -0.44526812   | -0.17900321   |  0.083193931  | -0.072472146  |  0.0052405864 | \n",
       "|  3.1574210    |  1.116098882  | -0.2132212    | -1.3851467    | -0.45899699   |  0.40300034   |  0.202284043  |  0.005411974  |  0.0008885051 | \n",
       "|  4.2031979    |  0.344579357  | -0.3397165    | -0.4540802    |  0.06347328   | -0.51762732   | -0.021519770  | -0.012361508  |  0.0048091487 | \n",
       "|  3.2400031    | -0.713642022  |  0.2441853    |  0.4106169    |  0.43232524   | -0.01535327   | -0.085607937  | -0.027138298  | -0.0091001827 | \n",
       "|  1.9770036    | -1.158776490  |  1.5318151    |  2.0896604    | -0.03748731   |  0.28906110   | -0.067837867  |  0.047278847  |  0.0035238426 | \n",
       "\n",
       "\n"
      ],
      "text/plain": [
       "      PC1        PC2          PC3        PC4        PC5         PC6        \n",
       " [1,] -1.0356977 -1.356090537 -0.6979339  0.5662356 -1.20878239 -0.11937031\n",
       " [2,] -0.9594960 -1.290674540 -0.9050249  0.5002401 -0.66046917 -0.06601923\n",
       " [3,] -0.8580390 -1.057128312 -1.1374605  0.4482438 -0.07889233 -0.02341744\n",
       " [4,] -0.8126348 -0.520160010 -1.2696892  0.3621377  0.42986770  0.07952536\n",
       " [5,] -0.7503548  0.663218242 -1.3221542  0.3583284  0.68853805  0.14018992\n",
       " [6,] -0.6721291  3.938607943 -1.0354329  0.5538669 -0.04211648  0.03642151\n",
       " [7,] -0.9746688 -0.122064400  0.7591802 -1.4769666 -0.93647260  0.02566089\n",
       " [8,] -1.0374260 -0.575946632  0.6144096 -1.2644719 -0.18145952  0.07120597\n",
       " [9,] -1.1798570 -0.841806290  0.4851491 -0.8782944  0.62359164  0.04665415\n",
       "[10,] -1.2639715 -0.651823788  0.4413871 -0.5888020  0.92393268 -0.10193066\n",
       "[11,] -1.3557915  0.009462136  0.8516256 -0.1636082  0.88821633 -0.06899780\n",
       "[12,] -1.6775594  2.216146459  1.9928814  0.9220402 -0.44526812 -0.17900321\n",
       "[13,]  3.1574210  1.116098882 -0.2132212 -1.3851467 -0.45899699  0.40300034\n",
       "[14,]  4.2031979  0.344579357 -0.3397165 -0.4540802  0.06347328 -0.51762732\n",
       "[15,]  3.2400031 -0.713642022  0.2441853  0.4106169  0.43232524 -0.01535327\n",
       "[16,]  1.9770036 -1.158776490  1.5318151  2.0896604 -0.03748731  0.28906110\n",
       "      PC7          PC8          PC9          \n",
       " [1,]  0.074899960  0.048927777  0.0020021172\n",
       " [2,]  0.055247629  0.009916651 -0.0017640057\n",
       " [3,]  0.023808642 -0.007751581 -0.0146736552\n",
       " [4,]  0.002153416 -0.086308888  0.0084897329\n",
       " [5,] -0.055634118 -0.086168427  0.0154720351\n",
       " [6,] -0.103547653  0.101880597 -0.0092592033\n",
       " [7,] -0.141898812 -0.023095361  0.0049181492\n",
       " [8,] -0.134903962 -0.040438776 -0.0034040540\n",
       " [9,] -0.064768140  0.042622645 -0.0067909959\n",
       "[10,]  0.076039683  0.173880565  0.0123967671\n",
       "[11,]  0.158090957 -0.074184072 -0.0127487873\n",
       "[12,]  0.083193931 -0.072472146  0.0052405864\n",
       "[13,]  0.202284043  0.005411974  0.0008885051\n",
       "[14,] -0.021519770 -0.012361508  0.0048091487\n",
       "[15,] -0.085607937 -0.027138298 -0.0091001827\n",
       "[16,] -0.067837867  0.047278847  0.0035238426"
      ]
     },
     "metadata": {},
     "output_type": "display_data"
    }
   ],
   "source": [
    "#Principal Component\n",
    "fit_pca$x"
   ]
  },
  {
   "cell_type": "markdown",
   "metadata": {},
   "source": [
    "Z: principal component or factor,pc scores<br>\n",
    "Z=XT<br>\n",
    "transform the original regressors into an orthogonal set of variables\n",
    "Principal component estimator는 위의 pricipal component의 subset을 이용해 multicollinearity 효과를 줄임"
   ]
  },
  {
   "cell_type": "code",
   "execution_count": 30,
   "metadata": {},
   "outputs": [
    {
     "data": {
      "text/html": [
       "<ol class=list-inline>\n",
       "\t<li>3.74102245564586</li>\n",
       "\t<li>2.03022536657066</li>\n",
       "\t<li>1.04534432420843</li>\n",
       "\t<li>0.918235884294264</li>\n",
       "\t<li>0.407125276730869</li>\n",
       "\t<li>0.0410465102824969</li>\n",
       "\t<li>0.0104392648170696</li>\n",
       "\t<li>0.00506236164741471</li>\n",
       "\t<li>7.7623022155579e-05</li>\n",
       "</ol>\n"
      ],
      "text/latex": [
       "\\begin{enumerate*}\n",
       "\\item 3.74102245564586\n",
       "\\item 2.03022536657066\n",
       "\\item 1.04534432420843\n",
       "\\item 0.918235884294264\n",
       "\\item 0.407125276730869\n",
       "\\item 0.0410465102824969\n",
       "\\item 0.0104392648170696\n",
       "\\item 0.00506236164741471\n",
       "\\item 7.7623022155579e-05\n",
       "\\end{enumerate*}\n"
      ],
      "text/markdown": [
       "1. 3.74102245564586\n",
       "2. 2.03022536657066\n",
       "3. 1.04534432420843\n",
       "4. 0.918235884294264\n",
       "5. 0.407125276730869\n",
       "6. 0.0410465102824969\n",
       "7. 0.0104392648170696\n",
       "8. 0.00506236164741471\n",
       "9. 7.7623022155579e-05\n",
       "\n",
       "\n"
      ],
      "text/plain": [
       "[1] 3.741022e+00 2.030225e+00 1.045344e+00 9.182359e-01 4.071253e-01\n",
       "[6] 4.104651e-02 1.043926e-02 5.062362e-03 7.762302e-05"
      ]
     },
     "metadata": {},
     "output_type": "display_data"
    }
   ],
   "source": [
    "#eigenvalue\n",
    "fit_pca$sdev^2"
   ]
  },
  {
   "cell_type": "markdown",
   "metadata": {},
   "source": [
    "eigen value: j번째 principal component의 variance로 6,7,8,9 eigen value가 매우 낮아 제거"
   ]
  },
  {
   "cell_type": "code",
   "execution_count": 31,
   "metadata": {},
   "outputs": [
    {
     "data": {
      "text/html": [
       "<table>\n",
       "<thead><tr><th scope=col>PC1</th><th scope=col>PC2</th><th scope=col>PC3</th><th scope=col>PC4</th><th scope=col>PC5</th><th scope=col>PC6</th><th scope=col>PC7</th><th scope=col>PC8</th><th scope=col>PC9</th></tr></thead>\n",
       "<tbody>\n",
       "\t<tr><td>-1.0356977   </td><td>-1.356090537 </td><td>-0.6979339   </td><td> 0.5662356   </td><td>-1.20878239  </td><td>-0.11937031  </td><td> 0.074899960 </td><td> 0.048927777 </td><td> 0.0020021172</td></tr>\n",
       "\t<tr><td>-0.9594960   </td><td>-1.290674540 </td><td>-0.9050249   </td><td> 0.5002401   </td><td>-0.66046917  </td><td>-0.06601923  </td><td> 0.055247629 </td><td> 0.009916651 </td><td>-0.0017640057</td></tr>\n",
       "\t<tr><td>-0.8580390   </td><td>-1.057128312 </td><td>-1.1374605   </td><td> 0.4482438   </td><td>-0.07889233  </td><td>-0.02341744  </td><td> 0.023808642 </td><td>-0.007751581 </td><td>-0.0146736552</td></tr>\n",
       "\t<tr><td>-0.8126348   </td><td>-0.520160010 </td><td>-1.2696892   </td><td> 0.3621377   </td><td> 0.42986770  </td><td> 0.07952536  </td><td> 0.002153416 </td><td>-0.086308888 </td><td> 0.0084897329</td></tr>\n",
       "\t<tr><td>-0.7503548   </td><td> 0.663218242 </td><td>-1.3221542   </td><td> 0.3583284   </td><td> 0.68853805  </td><td> 0.14018992  </td><td>-0.055634118 </td><td>-0.086168427 </td><td> 0.0154720351</td></tr>\n",
       "\t<tr><td>-0.6721291   </td><td> 3.938607943 </td><td>-1.0354329   </td><td> 0.5538669   </td><td>-0.04211648  </td><td> 0.03642151  </td><td>-0.103547653 </td><td> 0.101880597 </td><td>-0.0092592033</td></tr>\n",
       "\t<tr><td>-0.9746688   </td><td>-0.122064400 </td><td> 0.7591802   </td><td>-1.4769666   </td><td>-0.93647260  </td><td> 0.02566089  </td><td>-0.141898812 </td><td>-0.023095361 </td><td> 0.0049181492</td></tr>\n",
       "\t<tr><td>-1.0374260   </td><td>-0.575946632 </td><td> 0.6144096   </td><td>-1.2644719   </td><td>-0.18145952  </td><td> 0.07120597  </td><td>-0.134903962 </td><td>-0.040438776 </td><td>-0.0034040540</td></tr>\n",
       "\t<tr><td>-1.1798570   </td><td>-0.841806290 </td><td> 0.4851491   </td><td>-0.8782944   </td><td> 0.62359164  </td><td> 0.04665415  </td><td>-0.064768140 </td><td> 0.042622645 </td><td>-0.0067909959</td></tr>\n",
       "\t<tr><td>-1.2639715   </td><td>-0.651823788 </td><td> 0.4413871   </td><td>-0.5888020   </td><td> 0.92393268  </td><td>-0.10193066  </td><td> 0.076039683 </td><td> 0.173880565 </td><td> 0.0123967671</td></tr>\n",
       "\t<tr><td>-1.3557915   </td><td> 0.009462136 </td><td> 0.8516256   </td><td>-0.1636082   </td><td> 0.88821633  </td><td>-0.06899780  </td><td> 0.158090957 </td><td>-0.074184072 </td><td>-0.0127487873</td></tr>\n",
       "\t<tr><td>-1.6775594   </td><td> 2.216146459 </td><td> 1.9928814   </td><td> 0.9220402   </td><td>-0.44526812  </td><td>-0.17900321  </td><td> 0.083193931 </td><td>-0.072472146 </td><td> 0.0052405864</td></tr>\n",
       "\t<tr><td> 3.1574210   </td><td> 1.116098882 </td><td>-0.2132212   </td><td>-1.3851467   </td><td>-0.45899699  </td><td> 0.40300034  </td><td> 0.202284043 </td><td> 0.005411974 </td><td> 0.0008885051</td></tr>\n",
       "\t<tr><td> 4.2031979   </td><td> 0.344579357 </td><td>-0.3397165   </td><td>-0.4540802   </td><td> 0.06347328  </td><td>-0.51762732  </td><td>-0.021519770 </td><td>-0.012361508 </td><td> 0.0048091487</td></tr>\n",
       "\t<tr><td> 3.2400031   </td><td>-0.713642022 </td><td> 0.2441853   </td><td> 0.4106169   </td><td> 0.43232524  </td><td>-0.01535327  </td><td>-0.085607937 </td><td>-0.027138298 </td><td>-0.0091001827</td></tr>\n",
       "\t<tr><td> 1.9770036   </td><td>-1.158776490 </td><td> 1.5318151   </td><td> 2.0896604   </td><td>-0.03748731  </td><td> 0.28906110  </td><td>-0.067837867 </td><td> 0.047278847 </td><td> 0.0035238426</td></tr>\n",
       "</tbody>\n",
       "</table>\n"
      ],
      "text/latex": [
       "\\begin{tabular}{lllllllll}\n",
       " PC1 & PC2 & PC3 & PC4 & PC5 & PC6 & PC7 & PC8 & PC9\\\\\n",
       "\\hline\n",
       "\t -1.0356977    & -1.356090537  & -0.6979339    &  0.5662356    & -1.20878239   & -0.11937031   &  0.074899960  &  0.048927777  &  0.0020021172\\\\\n",
       "\t -0.9594960    & -1.290674540  & -0.9050249    &  0.5002401    & -0.66046917   & -0.06601923   &  0.055247629  &  0.009916651  & -0.0017640057\\\\\n",
       "\t -0.8580390    & -1.057128312  & -1.1374605    &  0.4482438    & -0.07889233   & -0.02341744   &  0.023808642  & -0.007751581  & -0.0146736552\\\\\n",
       "\t -0.8126348    & -0.520160010  & -1.2696892    &  0.3621377    &  0.42986770   &  0.07952536   &  0.002153416  & -0.086308888  &  0.0084897329\\\\\n",
       "\t -0.7503548    &  0.663218242  & -1.3221542    &  0.3583284    &  0.68853805   &  0.14018992   & -0.055634118  & -0.086168427  &  0.0154720351\\\\\n",
       "\t -0.6721291    &  3.938607943  & -1.0354329    &  0.5538669    & -0.04211648   &  0.03642151   & -0.103547653  &  0.101880597  & -0.0092592033\\\\\n",
       "\t -0.9746688    & -0.122064400  &  0.7591802    & -1.4769666    & -0.93647260   &  0.02566089   & -0.141898812  & -0.023095361  &  0.0049181492\\\\\n",
       "\t -1.0374260    & -0.575946632  &  0.6144096    & -1.2644719    & -0.18145952   &  0.07120597   & -0.134903962  & -0.040438776  & -0.0034040540\\\\\n",
       "\t -1.1798570    & -0.841806290  &  0.4851491    & -0.8782944    &  0.62359164   &  0.04665415   & -0.064768140  &  0.042622645  & -0.0067909959\\\\\n",
       "\t -1.2639715    & -0.651823788  &  0.4413871    & -0.5888020    &  0.92393268   & -0.10193066   &  0.076039683  &  0.173880565  &  0.0123967671\\\\\n",
       "\t -1.3557915    &  0.009462136  &  0.8516256    & -0.1636082    &  0.88821633   & -0.06899780   &  0.158090957  & -0.074184072  & -0.0127487873\\\\\n",
       "\t -1.6775594    &  2.216146459  &  1.9928814    &  0.9220402    & -0.44526812   & -0.17900321   &  0.083193931  & -0.072472146  &  0.0052405864\\\\\n",
       "\t  3.1574210    &  1.116098882  & -0.2132212    & -1.3851467    & -0.45899699   &  0.40300034   &  0.202284043  &  0.005411974  &  0.0008885051\\\\\n",
       "\t  4.2031979    &  0.344579357  & -0.3397165    & -0.4540802    &  0.06347328   & -0.51762732   & -0.021519770  & -0.012361508  &  0.0048091487\\\\\n",
       "\t  3.2400031    & -0.713642022  &  0.2441853    &  0.4106169    &  0.43232524   & -0.01535327   & -0.085607937  & -0.027138298  & -0.0091001827\\\\\n",
       "\t  1.9770036    & -1.158776490  &  1.5318151    &  2.0896604    & -0.03748731   &  0.28906110   & -0.067837867  &  0.047278847  &  0.0035238426\\\\\n",
       "\\end{tabular}\n"
      ],
      "text/markdown": [
       "\n",
       "PC1 | PC2 | PC3 | PC4 | PC5 | PC6 | PC7 | PC8 | PC9 | \n",
       "|---|---|---|---|---|---|---|---|---|---|---|---|---|---|---|---|\n",
       "| -1.0356977    | -1.356090537  | -0.6979339    |  0.5662356    | -1.20878239   | -0.11937031   |  0.074899960  |  0.048927777  |  0.0020021172 | \n",
       "| -0.9594960    | -1.290674540  | -0.9050249    |  0.5002401    | -0.66046917   | -0.06601923   |  0.055247629  |  0.009916651  | -0.0017640057 | \n",
       "| -0.8580390    | -1.057128312  | -1.1374605    |  0.4482438    | -0.07889233   | -0.02341744   |  0.023808642  | -0.007751581  | -0.0146736552 | \n",
       "| -0.8126348    | -0.520160010  | -1.2696892    |  0.3621377    |  0.42986770   |  0.07952536   |  0.002153416  | -0.086308888  |  0.0084897329 | \n",
       "| -0.7503548    |  0.663218242  | -1.3221542    |  0.3583284    |  0.68853805   |  0.14018992   | -0.055634118  | -0.086168427  |  0.0154720351 | \n",
       "| -0.6721291    |  3.938607943  | -1.0354329    |  0.5538669    | -0.04211648   |  0.03642151   | -0.103547653  |  0.101880597  | -0.0092592033 | \n",
       "| -0.9746688    | -0.122064400  |  0.7591802    | -1.4769666    | -0.93647260   |  0.02566089   | -0.141898812  | -0.023095361  |  0.0049181492 | \n",
       "| -1.0374260    | -0.575946632  |  0.6144096    | -1.2644719    | -0.18145952   |  0.07120597   | -0.134903962  | -0.040438776  | -0.0034040540 | \n",
       "| -1.1798570    | -0.841806290  |  0.4851491    | -0.8782944    |  0.62359164   |  0.04665415   | -0.064768140  |  0.042622645  | -0.0067909959 | \n",
       "| -1.2639715    | -0.651823788  |  0.4413871    | -0.5888020    |  0.92393268   | -0.10193066   |  0.076039683  |  0.173880565  |  0.0123967671 | \n",
       "| -1.3557915    |  0.009462136  |  0.8516256    | -0.1636082    |  0.88821633   | -0.06899780   |  0.158090957  | -0.074184072  | -0.0127487873 | \n",
       "| -1.6775594    |  2.216146459  |  1.9928814    |  0.9220402    | -0.44526812   | -0.17900321   |  0.083193931  | -0.072472146  |  0.0052405864 | \n",
       "|  3.1574210    |  1.116098882  | -0.2132212    | -1.3851467    | -0.45899699   |  0.40300034   |  0.202284043  |  0.005411974  |  0.0008885051 | \n",
       "|  4.2031979    |  0.344579357  | -0.3397165    | -0.4540802    |  0.06347328   | -0.51762732   | -0.021519770  | -0.012361508  |  0.0048091487 | \n",
       "|  3.2400031    | -0.713642022  |  0.2441853    |  0.4106169    |  0.43232524   | -0.01535327   | -0.085607937  | -0.027138298  | -0.0091001827 | \n",
       "|  1.9770036    | -1.158776490  |  1.5318151    |  2.0896604    | -0.03748731   |  0.28906110   | -0.067837867  |  0.047278847  |  0.0035238426 | \n",
       "\n",
       "\n"
      ],
      "text/plain": [
       "      PC1        PC2          PC3        PC4        PC5         PC6        \n",
       " [1,] -1.0356977 -1.356090537 -0.6979339  0.5662356 -1.20878239 -0.11937031\n",
       " [2,] -0.9594960 -1.290674540 -0.9050249  0.5002401 -0.66046917 -0.06601923\n",
       " [3,] -0.8580390 -1.057128312 -1.1374605  0.4482438 -0.07889233 -0.02341744\n",
       " [4,] -0.8126348 -0.520160010 -1.2696892  0.3621377  0.42986770  0.07952536\n",
       " [5,] -0.7503548  0.663218242 -1.3221542  0.3583284  0.68853805  0.14018992\n",
       " [6,] -0.6721291  3.938607943 -1.0354329  0.5538669 -0.04211648  0.03642151\n",
       " [7,] -0.9746688 -0.122064400  0.7591802 -1.4769666 -0.93647260  0.02566089\n",
       " [8,] -1.0374260 -0.575946632  0.6144096 -1.2644719 -0.18145952  0.07120597\n",
       " [9,] -1.1798570 -0.841806290  0.4851491 -0.8782944  0.62359164  0.04665415\n",
       "[10,] -1.2639715 -0.651823788  0.4413871 -0.5888020  0.92393268 -0.10193066\n",
       "[11,] -1.3557915  0.009462136  0.8516256 -0.1636082  0.88821633 -0.06899780\n",
       "[12,] -1.6775594  2.216146459  1.9928814  0.9220402 -0.44526812 -0.17900321\n",
       "[13,]  3.1574210  1.116098882 -0.2132212 -1.3851467 -0.45899699  0.40300034\n",
       "[14,]  4.2031979  0.344579357 -0.3397165 -0.4540802  0.06347328 -0.51762732\n",
       "[15,]  3.2400031 -0.713642022  0.2441853  0.4106169  0.43232524 -0.01535327\n",
       "[16,]  1.9770036 -1.158776490  1.5318151  2.0896604 -0.03748731  0.28906110\n",
       "      PC7          PC8          PC9          \n",
       " [1,]  0.074899960  0.048927777  0.0020021172\n",
       " [2,]  0.055247629  0.009916651 -0.0017640057\n",
       " [3,]  0.023808642 -0.007751581 -0.0146736552\n",
       " [4,]  0.002153416 -0.086308888  0.0084897329\n",
       " [5,] -0.055634118 -0.086168427  0.0154720351\n",
       " [6,] -0.103547653  0.101880597 -0.0092592033\n",
       " [7,] -0.141898812 -0.023095361  0.0049181492\n",
       " [8,] -0.134903962 -0.040438776 -0.0034040540\n",
       " [9,] -0.064768140  0.042622645 -0.0067909959\n",
       "[10,]  0.076039683  0.173880565  0.0123967671\n",
       "[11,]  0.158090957 -0.074184072 -0.0127487873\n",
       "[12,]  0.083193931 -0.072472146  0.0052405864\n",
       "[13,]  0.202284043  0.005411974  0.0008885051\n",
       "[14,] -0.021519770 -0.012361508  0.0048091487\n",
       "[15,] -0.085607937 -0.027138298 -0.0091001827\n",
       "[16,] -0.067837867  0.047278847  0.0035238426"
      ]
     },
     "metadata": {},
     "output_type": "display_data"
    }
   ],
   "source": [
    "fit_pca$x"
   ]
  },
  {
   "cell_type": "markdown",
   "metadata": {},
   "source": [
    "X%*%t(fit_pca$rotation)"
   ]
  },
  {
   "cell_type": "code",
   "execution_count": 141,
   "metadata": {},
   "outputs": [
    {
     "data": {
      "text/html": [
       "56.1153368346878"
      ],
      "text/latex": [
       "56.1153368346878"
      ],
      "text/markdown": [
       "56.1153368346878"
      ],
      "text/plain": [
       "[1] 56.11534"
      ]
     },
     "metadata": {},
     "output_type": "display_data"
    }
   ],
   "source": []
  },
  {
   "cell_type": "code",
   "execution_count": null,
   "metadata": {},
   "outputs": [],
   "source": []
  }
 ],
 "metadata": {
  "kernelspec": {
   "display_name": "R",
   "language": "R",
   "name": "ir"
  },
  "language_info": {
   "codemirror_mode": "r",
   "file_extension": ".r",
   "mimetype": "text/x-r-source",
   "name": "R",
   "pygments_lexer": "r",
   "version": "3.5.1"
  }
 },
 "nbformat": 4,
 "nbformat_minor": 2
}
