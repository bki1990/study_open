{
 "cells": [
  {
   "cell_type": "markdown",
   "metadata": {},
   "source": [
    "데이터 및 코드: https://github.com/datascienceabe/study_open/tree/master/Linear_Regression"
   ]
  },
  {
   "cell_type": "markdown",
   "metadata": {},
   "source": [
    "출처: Montgomery, D. C., Peck, E. A., & Vining, G. G. (2012). Introduction to linear regression analysis (Vol. 821). John Wiley & Sons.<br>\n",
    "<br>\n",
    "데이터: http://bcs.wiley.com/he-bcs/Books?action=resource&bcsId=9068&itemId=0470542810&resourceId=36322"
   ]
  },
  {
   "cell_type": "markdown",
   "metadata": {},
   "source": [
    "2장<br>\n",
    "목차<br>\n",
    "1. Regression through origin\n",
    "2. Hypothesis Testing\n",
    "3. $R^2$\n",
    "4. Regressor가 확률 변수 일 때\n",
    "5. 회귀 분석시 주의 사항"
   ]
  },
  {
   "cell_type": "markdown",
   "metadata": {},
   "source": [
    "# 1. Regression Through Origin"
   ]
  },
  {
   "cell_type": "code",
   "execution_count": 4,
   "metadata": {},
   "outputs": [],
   "source": [
    "setwd('C:/Users/bki19/desktop/Linear_Regression/data')"
   ]
  },
  {
   "cell_type": "code",
   "execution_count": 5,
   "metadata": {},
   "outputs": [],
   "source": [
    "df<-read.csv('./Shelf_Stocking.csv')\n",
    "colnames(df)<-c('Time','Case')"
   ]
  },
  {
   "cell_type": "markdown",
   "metadata": {},
   "source": [
    "Shelf-Stocking Data<br>\n",
    "편의점 알바생 A씨는 일을 효율적으로 하고 싶어합니다.<br>\n",
    "만약 선반에 있는 음료의 수를 보고 앞으로 언제쯤 다시 음료를 채워 넣어야 할지 안 다면 더 효율적으로 일 할 수 있지 않을까 생각했습니다."
   ]
  },
  {
   "cell_type": "code",
   "execution_count": 7,
   "metadata": {},
   "outputs": [
    {
     "data": {
      "image/png": "[encoded data removed]",
      "text/plain": [
       "plot without title"
      ]
     },
     "metadata": {},
     "output_type": "display_data"
    }
   ],
   "source": [
    "plot(df$Case,df$Time)"
   ]
  },
  {
   "cell_type": "markdown",
   "metadata": {},
   "source": [
    "데이터를 봤을 때 음료의 수가 많을 수록 채워 넣을 때까지 시간 역시 많아집니다. <br>\n",
    "이 두 데이터는 정확히 어떤 관계가 있을까요?"
   ]
  },
  {
   "cell_type": "markdown",
   "metadata": {},
   "source": [
    "<b>Regression through the origin<br></b>"
   ]
  },
  {
   "cell_type": "markdown",
   "metadata": {},
   "source": [
    "Plot을 봤을 때 Intercept가 필요 없어 보여서 Intercept가 있는 모델과 없는 모델을 고려했습니다.<br>\n",
    "<br>\n",
    "모델1: $y=\\beta_{1}x+\\epsilon$<br>\n",
    "모델2: $y=\\beta_{0}+\\beta_{1}x+\\epsilon$"
   ]
  },
  {
   "cell_type": "code",
   "execution_count": 8,
   "metadata": {},
   "outputs": [],
   "source": [
    "fit_or<-lm(Time~0+Case,data=df)\n",
    "fit<-lm(Time~Case,data=df)"
   ]
  },
  {
   "cell_type": "code",
   "execution_count": 6,
   "metadata": {},
   "outputs": [
    {
     "data": {
      "text/plain": [
       "\n",
       "Call:\n",
       "lm(formula = Time ~ 0 + Case, data = df)\n",
       "\n",
       "Residuals:\n",
       "    Min      1Q  Median      3Q     Max \n",
       "-0.5252 -0.2198 -0.1202  0.1070  0.5443 \n",
       "\n",
       "Coefficients:\n",
       "     Estimate Std. Error t value Pr(>|t|)    \n",
       "Case 0.402619   0.004418   91.13   <2e-16 ***\n",
       "---\n",
       "Signif. codes:  0 '***' 0.001 '**' 0.01 '*' 0.05 '.' 0.1 ' ' 1\n",
       "\n",
       "Residual standard error: 0.2988 on 14 degrees of freedom\n",
       "Multiple R-squared:  0.9983,\tAdjusted R-squared:  0.9982 \n",
       "F-statistic:  8305 on 1 and 14 DF,  p-value: < 2.2e-16\n"
      ]
     },
     "metadata": {},
     "output_type": "display_data"
    },
    {
     "data": {
      "text/html": [
       "<table>\n",
       "<thead><tr><th></th><th scope=col>Df</th><th scope=col>Sum Sq</th><th scope=col>Mean Sq</th><th scope=col>F value</th><th scope=col>Pr(&gt;F)</th></tr></thead>\n",
       "<tbody>\n",
       "\t<tr><th scope=row>Case</th><td> 1          </td><td>741.615371  </td><td>741.61537058</td><td>8305.232    </td><td>8.012367e-21</td></tr>\n",
       "\t<tr><th scope=row>Residuals</th><td>14          </td><td>  1.250129  </td><td>  0.08929496</td><td>      NA    </td><td>          NA</td></tr>\n",
       "</tbody>\n",
       "</table>\n"
      ],
      "text/latex": [
       "\\begin{tabular}{r|lllll}\n",
       "  & Df & Sum Sq & Mean Sq & F value & Pr(>F)\\\\\n",
       "\\hline\n",
       "\tCase &  1           & 741.615371   & 741.61537058 & 8305.232     & 8.012367e-21\\\\\n",
       "\tResiduals & 14           &   1.250129   &   0.08929496 &       NA     &           NA\\\\\n",
       "\\end{tabular}\n"
      ],
      "text/markdown": [
       "\n",
       "| <!--/--> | Df | Sum Sq | Mean Sq | F value | Pr(>F) | \n",
       "|---|---|\n",
       "| Case |  1           | 741.615371   | 741.61537058 | 8305.232     | 8.012367e-21 | \n",
       "| Residuals | 14           |   1.250129   |   0.08929496 |       NA     |           NA | \n",
       "\n",
       "\n"
      ],
      "text/plain": [
       "          Df Sum Sq     Mean Sq      F value  Pr(>F)      \n",
       "Case       1 741.615371 741.61537058 8305.232 8.012367e-21\n",
       "Residuals 14   1.250129   0.08929496       NA           NA"
      ]
     },
     "metadata": {},
     "output_type": "display_data"
    }
   ],
   "source": [
    "summary(fit_or)\n",
    "anova(fit_or)"
   ]
  },
  {
   "cell_type": "markdown",
   "metadata": {},
   "source": [
    "Intercept가 없는 모델을 적합 시켰을 때 p-value가 매우 낮아 회귀 계수가 유의했습니다."
   ]
  },
  {
   "cell_type": "code",
   "execution_count": 7,
   "metadata": {},
   "outputs": [
    {
     "data": {
      "text/plain": [
       "\n",
       "Call:\n",
       "lm(formula = Time ~ Case, data = df)\n",
       "\n",
       "Residuals:\n",
       "    Min      1Q  Median      3Q     Max \n",
       "-0.4405 -0.1582 -0.1018  0.1357  0.6111 \n",
       "\n",
       "Coefficients:\n",
       "             Estimate Std. Error t value Pr(>|t|)    \n",
       "(Intercept) -0.093756   0.143577  -0.653    0.525    \n",
       "Case         0.407107   0.008221  49.519  3.4e-16 ***\n",
       "---\n",
       "Signif. codes:  0 '***' 0.001 '**' 0.01 '*' 0.05 '.' 0.1 ' ' 1\n",
       "\n",
       "Residual standard error: 0.3051 on 13 degrees of freedom\n",
       "Multiple R-squared:  0.9947,\tAdjusted R-squared:  0.9943 \n",
       "F-statistic:  2452 on 1 and 13 DF,  p-value: 3.399e-16\n"
      ]
     },
     "metadata": {},
     "output_type": "display_data"
    },
    {
     "data": {
      "text/html": [
       "<table>\n",
       "<thead><tr><th></th><th scope=col>Df</th><th scope=col>Sum Sq</th><th scope=col>Mean Sq</th><th scope=col>F value</th><th scope=col>Pr(&gt;F)</th></tr></thead>\n",
       "<tbody>\n",
       "\t<tr><th scope=row>Case</th><td> 1          </td><td>228.317573  </td><td>228.31757324</td><td>2452.134    </td><td>3.398506e-16</td></tr>\n",
       "\t<tr><th scope=row>Residuals</th><td>13          </td><td>  1.210427  </td><td>  0.09310975</td><td>      NA    </td><td>          NA</td></tr>\n",
       "</tbody>\n",
       "</table>\n"
      ],
      "text/latex": [
       "\\begin{tabular}{r|lllll}\n",
       "  & Df & Sum Sq & Mean Sq & F value & Pr(>F)\\\\\n",
       "\\hline\n",
       "\tCase &  1           & 228.317573   & 228.31757324 & 2452.134     & 3.398506e-16\\\\\n",
       "\tResiduals & 13           &   1.210427   &   0.09310975 &       NA     &           NA\\\\\n",
       "\\end{tabular}\n"
      ],
      "text/markdown": [
       "\n",
       "| <!--/--> | Df | Sum Sq | Mean Sq | F value | Pr(>F) | \n",
       "|---|---|\n",
       "| Case |  1           | 228.317573   | 228.31757324 | 2452.134     | 3.398506e-16 | \n",
       "| Residuals | 13           |   1.210427   |   0.09310975 |       NA     |           NA | \n",
       "\n",
       "\n"
      ],
      "text/plain": [
       "          Df Sum Sq     Mean Sq      F value  Pr(>F)      \n",
       "Case       1 228.317573 228.31757324 2452.134 3.398506e-16\n",
       "Residuals 13   1.210427   0.09310975       NA           NA"
      ]
     },
     "metadata": {},
     "output_type": "display_data"
    }
   ],
   "source": [
    "summary(fit)\n",
    "anova(fit)"
   ]
  },
  {
   "cell_type": "markdown",
   "metadata": {},
   "source": [
    "Intercept가 있는 모델을 적합 시켰을 때 Intercept의 p-value가 매우 낮아 회귀 계수가 유의하지 않았습니다."
   ]
  },
  {
   "cell_type": "code",
   "execution_count": 12,
   "metadata": {},
   "outputs": [
    {
     "data": {
      "image/png": "[encoded data removed]",
      "text/plain": [
       "plot without title"
      ]
     },
     "metadata": {},
     "output_type": "display_data"
    }
   ],
   "source": [
    "plot(df$Case,df$Time)\n",
    "lines(df$Case,fitted(fit_or),col=2)\n",
    "lines(df$Case,fitted(fit),col=3)"
   ]
  },
  {
   "cell_type": "markdown",
   "metadata": {},
   "source": [
    "- 두 모델의 가설 검정을 통해 Intercept가 없을 때가 더 적합하다는 결론을 얻었습니다.\n",
    "- MSres를 보면 intercept 없을 때는 0.089로 Intercept있을 때의 0.093 보다 낮았져 intercept가 없는 모델이 더 좋음을 알 수 있습니다.\n",
    "- 주의할 것은 $R^2$를 통해 모델을 비교하면 안 된다는 것입니다."
   ]
  },
  {
   "cell_type": "markdown",
   "metadata": {},
   "source": [
    "# 2. Hypothesis Testing"
   ]
  },
  {
   "cell_type": "code",
   "execution_count": 14,
   "metadata": {},
   "outputs": [],
   "source": [
    "df<-read.csv('./Rocket_Prop.csv')"
   ]
  },
  {
   "cell_type": "code",
   "execution_count": 15,
   "metadata": {},
   "outputs": [],
   "source": [
    "df<-df[,c(2,3)]\n",
    "colnames(df)<-c('Shear_length','Age_Propellant')"
   ]
  },
  {
   "cell_type": "markdown",
   "metadata": {},
   "source": [
    "The Rocket Propellant Data<br>\n",
    "로켓 모터에서 Shear strength는 품질에 중요한 요소라고 합니다.<br> Shear strength가 Propellant의 age와 연관성이 있는 것 같아 서로 간의 관계를 확인해 보고자 합니다."
   ]
  },
  {
   "cell_type": "markdown",
   "metadata": {},
   "source": [
    "모델: $y=\\beta_{0}+\\beta_{1}x+\\epsilon$"
   ]
  },
  {
   "cell_type": "code",
   "execution_count": 19,
   "metadata": {},
   "outputs": [
    {
     "data": {
      "image/png": "[encoded data removed]",
      "text/plain": [
       "plot without title"
      ]
     },
     "metadata": {},
     "output_type": "display_data"
    }
   ],
   "source": [
    "plot(df[,'Age_Propellant'],df[,'Shear_length'] )"
   ]
  },
  {
   "cell_type": "code",
   "execution_count": 20,
   "metadata": {},
   "outputs": [],
   "source": [
    "fit<-lm(Shear_length~Age_Propellant,data=df)"
   ]
  },
  {
   "cell_type": "markdown",
   "metadata": {},
   "source": [
    "<b>1) T-test</b>"
   ]
  },
  {
   "cell_type": "markdown",
   "metadata": {},
   "source": [
    "$H_{0}: \\beta_{1}=0$<br>\n",
    "$H_{a}: \\beta_{1}\\neq 0$<br>\n",
    "$T_{0}=\\frac{\\hat{\\beta}_{1} }{\\sqrt {\\frac{MS_{Res}}{S_{xx}}  }  }\\sim t_{n-2} under H_{0}$<br>\n",
    "여기서 $MS_{Res}= \\frac{ \\sum(y_{i}-\\hat{y})^{2}}{n-2 } $<br>\n",
    "<br>\n",
    "Test: $|T_{0}|>t_{\\alpha/2 ,n-2}$이면 Reject Null"
   ]
  },
  {
   "cell_type": "code",
   "execution_count": 21,
   "metadata": {},
   "outputs": [
    {
     "data": {
      "text/plain": [
       "\n",
       "Call:\n",
       "lm(formula = Shear_length ~ Age_Propellant, data = df)\n",
       "\n",
       "Residuals:\n",
       "    Min      1Q  Median      3Q     Max \n",
       "-215.98  -50.68   28.74   66.61  106.76 \n",
       "\n",
       "Coefficients:\n",
       "               Estimate Std. Error t value Pr(>|t|)    \n",
       "(Intercept)    2627.822     44.184   59.48  < 2e-16 ***\n",
       "Age_Propellant  -37.154      2.889  -12.86 1.64e-10 ***\n",
       "---\n",
       "Signif. codes:  0 '***' 0.001 '**' 0.01 '*' 0.05 '.' 0.1 ' ' 1\n",
       "\n",
       "Residual standard error: 96.11 on 18 degrees of freedom\n",
       "Multiple R-squared:  0.9018,\tAdjusted R-squared:  0.8964 \n",
       "F-statistic: 165.4 on 1 and 18 DF,  p-value: 1.643e-10\n"
      ]
     },
     "metadata": {},
     "output_type": "display_data"
    },
    {
     "data": {
      "text/html": [
       "2.10092204024104"
      ],
      "text/latex": [
       "2.10092204024104"
      ],
      "text/markdown": [
       "2.10092204024104"
      ],
      "text/plain": [
       "[1] 2.100922"
      ]
     },
     "metadata": {},
     "output_type": "display_data"
    }
   ],
   "source": [
    "summary(fit)\n",
    "qt(0.975,18) # t-test"
   ]
  },
  {
   "cell_type": "markdown",
   "metadata": {},
   "source": [
    "- Coefficient: $\\hat{ \\beta}_{1}=-37.154$=> age of proplellant 때문에 propllant shear length가 평균적으로 감소하는 정도<br>\n",
    "- t value: $T_{0}=59.48$ => reject $H_{0}$<br>\n",
    "- p-value : 1.643e-10 => 결론 Shear strength가 Age of the propellant와 선형적인 연관성이 있다는 강한 증거가 있다"
   ]
  },
  {
   "cell_type": "markdown",
   "metadata": {},
   "source": [
    "<b>2) F-test</b>"
   ]
  },
  {
   "cell_type": "markdown",
   "metadata": {},
   "source": [
    "$H_{0}: \\beta_{1}=0$<br>\n",
    "$H_{a}: \\beta_{1}\\neq 0$<br>\n",
    "$F_{0}=\\frac{MS_{R} }{MS_{Res} }\\sim F_{1,n-2} under H_{0}$<br>\n",
    "여기서 $MS_{R}= \\frac{ \\sum(\\hat{y}-\\bar{y})^{2}}{1 } $<br>\n",
    "<br>\n",
    "Test: $F_{0}>F_{\\alpha,1 ,n-2}$이면 Reject Null"
   ]
  },
  {
   "cell_type": "code",
   "execution_count": 19,
   "metadata": {},
   "outputs": [
    {
     "data": {
      "text/html": [
       "<table>\n",
       "<thead><tr><th></th><th scope=col>Df</th><th scope=col>Sum Sq</th><th scope=col>Mean Sq</th><th scope=col>F value</th><th scope=col>Pr(&gt;F)</th></tr></thead>\n",
       "<tbody>\n",
       "\t<tr><th scope=row>Age_Propellant</th><td> 1          </td><td>1527482.7   </td><td>1527482.743 </td><td>165.3768    </td><td>1.643344e-10</td></tr>\n",
       "\t<tr><th scope=row>Residuals</th><td>18          </td><td> 166254.9   </td><td>   9236.381 </td><td>      NA    </td><td>          NA</td></tr>\n",
       "</tbody>\n",
       "</table>\n"
      ],
      "text/latex": [
       "\\begin{tabular}{r|lllll}\n",
       "  & Df & Sum Sq & Mean Sq & F value & Pr(>F)\\\\\n",
       "\\hline\n",
       "\tAge\\_Propellant &  1           & 1527482.7    & 1527482.743  & 165.3768     & 1.643344e-10\\\\\n",
       "\tResiduals & 18           &  166254.9    &    9236.381  &       NA     &           NA\\\\\n",
       "\\end{tabular}\n"
      ],
      "text/markdown": [
       "\n",
       "| <!--/--> | Df | Sum Sq | Mean Sq | F value | Pr(>F) | \n",
       "|---|---|\n",
       "| Age_Propellant |  1           | 1527482.7    | 1527482.743  | 165.3768     | 1.643344e-10 | \n",
       "| Residuals | 18           |  166254.9    |    9236.381  |       NA     |           NA | \n",
       "\n",
       "\n"
      ],
      "text/plain": [
       "               Df Sum Sq    Mean Sq     F value  Pr(>F)      \n",
       "Age_Propellant  1 1527482.7 1527482.743 165.3768 1.643344e-10\n",
       "Residuals      18  166254.9    9236.381       NA           NA"
      ]
     },
     "metadata": {},
     "output_type": "display_data"
    }
   ],
   "source": [
    "anova(fit) #F-test"
   ]
  },
  {
   "cell_type": "markdown",
   "metadata": {},
   "source": [
    "$F_{0}=165.3768$ (simple regression에서는 $T_{0}$의 제곱, 하지만 t와 달리 단측 검정에만 사용)<br>\n",
    "=>reject H0"
   ]
  },
  {
   "cell_type": "markdown",
   "metadata": {},
   "source": [
    "<b>3) CI for Coefficient <br></b>"
   ]
  },
  {
   "cell_type": "markdown",
   "metadata": {},
   "source": [
    "$\\hat{\\beta}_{j}- t_{\\alpha/2,n-2}se(\\hat{\\beta}_{j} ) <\\beta_{j}<\\hat{\\beta}_{j}+ t_{\\alpha/2,n-2}se(\\hat{\\beta}_{j} ) $"
   ]
  },
  {
   "cell_type": "code",
   "execution_count": 20,
   "metadata": {},
   "outputs": [
    {
     "data": {
      "text/html": [
       "<table>\n",
       "<thead><tr><th></th><th scope=col>2.5 %</th><th scope=col>97.5 %</th></tr></thead>\n",
       "<tbody>\n",
       "\t<tr><th scope=row>(Intercept)</th><td>2534.99540</td><td>2720.6493 </td></tr>\n",
       "\t<tr><th scope=row>Age_Propellant</th><td> -43.22338</td><td> -31.0838 </td></tr>\n",
       "</tbody>\n",
       "</table>\n"
      ],
      "text/latex": [
       "\\begin{tabular}{r|ll}\n",
       "  & 2.5 \\% & 97.5 \\%\\\\\n",
       "\\hline\n",
       "\t(Intercept) & 2534.99540 & 2720.6493 \\\\\n",
       "\tAge\\_Propellant &  -43.22338 &  -31.0838 \\\\\n",
       "\\end{tabular}\n"
      ],
      "text/markdown": [
       "\n",
       "| <!--/--> | 2.5 % | 97.5 % | \n",
       "|---|---|\n",
       "| (Intercept) | 2534.99540 | 2720.6493  | \n",
       "| Age_Propellant |  -43.22338 |  -31.0838  | \n",
       "\n",
       "\n"
      ],
      "text/plain": [
       "               2.5 %      97.5 %   \n",
       "(Intercept)    2534.99540 2720.6493\n",
       "Age_Propellant  -43.22338  -31.0838"
      ]
     },
     "metadata": {},
     "output_type": "display_data"
    }
   ],
   "source": [
    "confint(fit)"
   ]
  },
  {
   "cell_type": "markdown",
   "metadata": {},
   "source": [
    "신뢰구간을 무수히 많이 만들었을 때 그 중 95%의 구간이 실제 $\\beta_{j}$를 포함하고 있음"
   ]
  },
  {
   "cell_type": "markdown",
   "metadata": {},
   "source": [
    "<b>4) Confidence Interval for $\\sigma$ </b>"
   ]
  },
  {
   "cell_type": "markdown",
   "metadata": {},
   "source": [
    "$\\frac{(n-2)MS_{Res}}{\\chi_{\\alpha/2,n-2}^2}<\\sigma^2<\\frac{(n-2)MS_{Res}}{\\chi_{1-\\alpha/2,n-2}^2}$"
   ]
  },
  {
   "cell_type": "code",
   "execution_count": 21,
   "metadata": {},
   "outputs": [
    {
     "data": {
      "text/html": [
       "96.1060924381029"
      ],
      "text/latex": [
       "96.1060924381029"
      ],
      "text/markdown": [
       "96.1060924381029"
      ],
      "text/plain": [
       "[1] 96.10609"
      ]
     },
     "metadata": {},
     "output_type": "display_data"
    },
    {
     "data": {
      "text/html": [
       "<dl class=dl-horizontal>\n",
       "\t<dt>lower</dt>\n",
       "\t\t<dd>5273.51590292406</dd>\n",
       "\t<dt>upper</dt>\n",
       "\t\t<dd>20199.2448962759</dd>\n",
       "</dl>\n"
      ],
      "text/latex": [
       "\\begin{description*}\n",
       "\\item[lower] 5273.51590292406\n",
       "\\item[upper] 20199.2448962759\n",
       "\\end{description*}\n"
      ],
      "text/markdown": [
       "lower\n",
       ":   5273.51590292406upper\n",
       ":   20199.2448962759\n",
       "\n"
      ],
      "text/plain": [
       "    lower     upper \n",
       " 5273.516 20199.245 "
      ]
     },
     "metadata": {},
     "output_type": "display_data"
    }
   ],
   "source": [
    "sigma <- sigma(fit) \n",
    "sigma\n",
    "\n",
    "n <- dim(df)[1]\n",
    "k <- dim(df)[2]-1\n",
    "alpha <- 0.05\n",
    "\n",
    "lower <-  ((n-(k+1))*(sigma^2) )/( qchisq(alpha/2, df = n-(k+1), lower.tail = FALSE) )\n",
    "upper <- ((n-(k+1))*(sigma^2 ) )/qchisq(1-alpha/2, df = n-(k+1), lower.tail = FALSE)\n",
    "confint.sigma <- c(lower, upper)\n",
    "names(confint.sigma) <- c(\"lower\", \"upper\")\n",
    "confint.sigma"
   ]
  },
  {
   "cell_type": "markdown",
   "metadata": {},
   "source": [
    "<b>5)Interval Estimation for Mean response <br></b>"
   ]
  },
  {
   "cell_type": "markdown",
   "metadata": {},
   "source": [
    "$\\hat{E(y|x_{0})}=\\hat{\\beta}_{0}+\\hat{\\beta}_{1}x_{0}$<br>\n",
    "$Var(\\hat{E(y|x_{0})})=\\sigma^2 [\\frac{1}{n}+\\frac{(x_{0}-\\bar{x})^2}{S_{xx}}   ] $<br>\n",
    "$x_{0}$:mean response를 추정하고 싶은 regressor variable의 수준<br>\n",
    "<br>\n",
    "$\\hat{E(y|x_{0})}-t_{\\alpha/2,n-2}\\sqrt{MS_{Res} [\\frac{1}{n}+\\frac{(x_{0}-\\bar{x})^2}{S_{xx}}   ]  }<E(y|x_{0})<\\hat{E(y|x_{0})}+t_{\\alpha/2,n-2}\\sqrt{MS_{Res} [\\frac{1}{n}+\\frac{(x_{0}-\\bar{x})^2}{S_{xx}}   ]  }$\n"
   ]
  },
  {
   "cell_type": "code",
   "execution_count": 22,
   "metadata": {},
   "outputs": [
    {
     "data": {
      "text/html": [
       "<table>\n",
       "<thead><tr><th></th><th scope=col>fit</th><th scope=col>lwr</th><th scope=col>upr</th></tr></thead>\n",
       "<tbody>\n",
       "\t<tr><th scope=row>1</th><td>2131.357</td><td>2086.209</td><td>2176.506</td></tr>\n",
       "</tbody>\n",
       "</table>\n"
      ],
      "text/latex": [
       "\\begin{tabular}{r|lll}\n",
       "  & fit & lwr & upr\\\\\n",
       "\\hline\n",
       "\t1 & 2131.357 & 2086.209 & 2176.506\\\\\n",
       "\\end{tabular}\n"
      ],
      "text/markdown": [
       "\n",
       "| <!--/--> | fit | lwr | upr | \n",
       "|---|\n",
       "| 1 | 2131.357 | 2086.209 | 2176.506 | \n",
       "\n",
       "\n"
      ],
      "text/plain": [
       "  fit      lwr      upr     \n",
       "1 2131.357 2086.209 2176.506"
      ]
     },
     "metadata": {},
     "output_type": "display_data"
    }
   ],
   "source": [
    "x_0<-mean(df[,2])\n",
    "mean_response <- predict(fit, newdata=data.frame(Age_Propellant=x_0), interval=\"confidence\", level=0.95)\n",
    "mean_response "
   ]
  },
  {
   "cell_type": "markdown",
   "metadata": {},
   "source": [
    "$|x_{0}-\\bar{x}|$이 증가할 수록 신뢰 구간 길어짐 => $x_{0}=\\bar{x}$일 때 가장 작음<br>\n",
    "=>$x_0$와 $\\bar{x}$의 거리가 멀어질 수록 CI가 증가한다<br>\n",
    "=>Extrapolation의 위험성"
   ]
  },
  {
   "cell_type": "markdown",
   "metadata": {},
   "source": [
    "<b>6) Prediction Interval <br></b>"
   ]
  },
  {
   "cell_type": "markdown",
   "metadata": {},
   "source": [
    "$\\hat{E(y|x_{0})}-t_{\\alpha/2,n-2}\\sqrt{1+MS_{Res} [\\frac{1}{n}+\\frac{(x_{0}-\\bar{x})^2}{S_{xx}}   ]  }<E(y|x_{0})<\\hat{E(y|x_{0})}+t_{\\alpha/2,n-2}\\sqrt{1+MS_{Res} [\\frac{1}{n}+\\frac{(x_{0}-\\bar{x})^2}{S_{xx}}   ]  }$"
   ]
  },
  {
   "cell_type": "code",
   "execution_count": 23,
   "metadata": {},
   "outputs": [
    {
     "data": {
      "text/html": [
       "<table>\n",
       "<thead><tr><th></th><th scope=col>fit</th><th scope=col>lwr</th><th scope=col>upr</th></tr></thead>\n",
       "<tbody>\n",
       "\t<tr><th scope=row>1</th><td>2131.357</td><td>1924.46 </td><td>2338.255</td></tr>\n",
       "</tbody>\n",
       "</table>\n"
      ],
      "text/latex": [
       "\\begin{tabular}{r|lll}\n",
       "  & fit & lwr & upr\\\\\n",
       "\\hline\n",
       "\t1 & 2131.357 & 1924.46  & 2338.255\\\\\n",
       "\\end{tabular}\n"
      ],
      "text/markdown": [
       "\n",
       "| <!--/--> | fit | lwr | upr | \n",
       "|---|\n",
       "| 1 | 2131.357 | 1924.46  | 2338.255 | \n",
       "\n",
       "\n"
      ],
      "text/plain": [
       "  fit      lwr     upr     \n",
       "1 2131.357 1924.46 2338.255"
      ]
     },
     "metadata": {},
     "output_type": "display_data"
    }
   ],
   "source": [
    "pred <- predict(fit, newdata=data.frame(Age_Propellant=x_0), level=0.95, interval = 'prediction')\n",
    "pred"
   ]
  },
  {
   "cell_type": "markdown",
   "metadata": {},
   "source": [
    "CI와 마찬가지로 $|x_{0}-\\bar{x}|$이 증가할 수록 신뢰 구간 길어짐<br>\n",
    "PI가 CI보다 분산이 커 신뢰 구간이 더 넓어짐<br>\n",
    "$x_0$값을 가진 새로운 propellant는 길이가 1924에서 2338일 것으로 예상 됨"
   ]
  },
  {
   "cell_type": "markdown",
   "metadata": {},
   "source": [
    "# 3. Coefficient of Determination ($R^{2}$) "
   ]
  },
  {
   "cell_type": "markdown",
   "metadata": {},
   "source": [
    "$R^{2}=\\frac{SS_{R}}{SS_{T}}=1-\\frac{SS_{Res}}{SS_{T} } $"
   ]
  },
  {
   "cell_type": "code",
   "execution_count": 24,
   "metadata": {},
   "outputs": [
    {
     "data": {
      "text/html": [
       "0.901841431676304"
      ],
      "text/latex": [
       "0.901841431676304"
      ],
      "text/markdown": [
       "0.901841431676304"
      ],
      "text/plain": [
       "[1] 0.9018414"
      ]
     },
     "metadata": {},
     "output_type": "display_data"
    }
   ],
   "source": [
    "summary(fit)$r.squared "
   ]
  },
  {
   "cell_type": "markdown",
   "metadata": {},
   "source": [
    "$R^2$ 해석과 특징<br>\n",
    "shear length의 변동성의 90.18%가 회귀 모형에 의해 설명 됨<br>\n",
    "1. $R^2$은 변수를 추가할 수록 높아짐<br>\n",
    "2. 따라서 $R^2$가 높다고 더 좋은 모형이 아니고 모형 간의 비교에 사용 못함 <br>\n",
    "3. regressor의 range에 영향 받음 (x의 범위가 커질 수록 $R^2$ 커짐)<br>\n",
    "4. 모형의 적합성을 설명 못함 (비선형적으로 관계 있어도 $R^2$ 커짐)"
   ]
  },
  {
   "cell_type": "markdown",
   "metadata": {},
   "source": [
    "# 4. Regressor가 확률 변수 일 때"
   ]
  },
  {
   "cell_type": "code",
   "execution_count": 23,
   "metadata": {},
   "outputs": [],
   "source": [
    "df<-read.csv('./Delivery_Time.csv')"
   ]
  },
  {
   "cell_type": "code",
   "execution_count": 24,
   "metadata": {},
   "outputs": [],
   "source": [
    "colnames(df)<-c('Time','Case')"
   ]
  },
  {
   "cell_type": "markdown",
   "metadata": {},
   "source": [
    "전국에 음료 자판기를 소유한 유통 업자는 유통 과정을 보면서 원하는 시간에 음료 배달이 오지 않는 문제가 생겼습니다. <br>문제의 원인을 생각하다가 자판기 배달 물량이 많을 수록 배달 시간이 오래 걸리지 않을까 의문이 생겼습니다. <br>\n",
    "왜나하면 배달 물량이 적재 시간이 오래 걸릴 것이기 때문입니다. <br>\n",
    "<br>\n",
    "따라서 25개의 소매점을 랜덤으로 방문하여 배달 물량과 배달 시간에 대한 데이터를 수집했습니다.<br>\n",
    "이때 소매점을 랜덤으로 선택했는데 배달 물량 (X)를 여전히 컨트롤할 수 있다는 것은 비현실적일 수 있습니다.<br>\n",
    "X 역시 확률 변수로 취급하는게 맞지 않을까요?"
   ]
  },
  {
   "cell_type": "code",
   "execution_count": 25,
   "metadata": {},
   "outputs": [
    {
     "data": {
      "image/png": "[encoded data removed]",
      "text/plain": [
       "plot without title"
      ]
     },
     "metadata": {},
     "output_type": "display_data"
    }
   ],
   "source": [
    "plot(df[,'Case'],df[,'Time'])"
   ]
  },
  {
   "cell_type": "code",
   "execution_count": 27,
   "metadata": {},
   "outputs": [
    {
     "data": {
      "image/png": "[encoded data removed]",
      "text/plain": [
       "Plot with title \"Histogram of df[, \"Time\"]\""
      ]
     },
     "metadata": {},
     "output_type": "display_data"
    }
   ],
   "source": [
    "par(mfrow=c(1,2))\n",
    "hist(df[,'Case']);hist(df[,'Time'])\n"
   ]
  },
  {
   "cell_type": "markdown",
   "metadata": {},
   "source": [
    "$(X,Y) \\sim Bivariate Normal$이라고 가정하겠습니다<br>\n",
    "$Y|X$에 대한 분포는 기존과 똑같습니다.<br> \n",
    "다만 이제는 X와 Y의 correlation($\\rho$)을 추정해야 하는 문제가 생겼습니다.<br>\n",
    "이때 $\\rho$의 추정량 $r$의 제곱 $r^{2}=R^{2}$와 같습니다"
   ]
  },
  {
   "cell_type": "markdown",
   "metadata": {},
   "source": [
    "Correlation에 대한 가설 검정도 가능합니다<br>\n",
    "$H_{0}: \\rho =0$<br>\n",
    "$H_{a}: \\rho \\neq0$<br>\n",
    "<br>\n",
    "$T_{0}=\\frac{r\\sqrt{n-2}}{\\sqrt{1-r^2}  }\\sim t_{n-2} Under H_{0}  $<br>\n",
    "여기서 $|T_{0}|>t_{\\alpha/2,n-2}$면 reject Null"
   ]
  },
  {
   "cell_type": "code",
   "execution_count": 28,
   "metadata": {},
   "outputs": [
    {
     "data": {
      "text/html": [
       "0.964614593295522"
      ],
      "text/latex": [
       "0.964614593295522"
      ],
      "text/markdown": [
       "0.964614593295522"
      ],
      "text/plain": [
       "[1] 0.9646146"
      ]
     },
     "metadata": {},
     "output_type": "display_data"
    },
    {
     "data": {
      "text/html": [
       "17.5455492207491"
      ],
      "text/latex": [
       "17.5455492207491"
      ],
      "text/markdown": [
       "17.5455492207491"
      ],
      "text/plain": [
       "[1] 17.54555"
      ]
     },
     "metadata": {},
     "output_type": "display_data"
    },
    {
     "data": {
      "text/html": [
       "2.06865761041905"
      ],
      "text/latex": [
       "2.06865761041905"
      ],
      "text/markdown": [
       "2.06865761041905"
      ],
      "text/plain": [
       "[1] 2.068658"
      ]
     },
     "metadata": {},
     "output_type": "display_data"
    }
   ],
   "source": [
    "r=cor(df[,1],df[,2])\n",
    "r\n",
    "n=dim(df)[1]\n",
    "t=(r*(n-2)^0.5) / ((1-r^2)^0.5)\n",
    "t\n",
    "qt(0.975,23)"
   ]
  },
  {
   "cell_type": "markdown",
   "metadata": {},
   "source": [
    "reject H0=> x와 y의 상관관계가 존재함"
   ]
  },
  {
   "cell_type": "markdown",
   "metadata": {},
   "source": [
    "# 5. 회귀 분석 사용시 주의 사항"
   ]
  },
  {
   "cell_type": "markdown",
   "metadata": {},
   "source": [
    "[주의사항]<br>\n",
    "1.회귀모형은 주로 interpolation을 위해 사용 <br>\n",
    "2.회귀계수는 먼 x값에 의해 영향을 받음 <br>\n",
    "3.outlier는 나머지 데이터와 매우 다른 데이터 ::: 나쁜 값일 수도 있고 매우 중요한 데이터일 수도 있음 <br>\n",
    "4.회귀 분석은 인과관계를 설명하는 것이 아니라 연관성을 말하는 것 (상관관계의 문제를 설명할 수 있을 뿐) <br>"
   ]
  }
 ],
 "metadata": {
  "kernelspec": {
   "display_name": "R",
   "language": "R",
   "name": "ir"
  },
  "language_info": {
   "codemirror_mode": "r",
   "file_extension": ".r",
   "mimetype": "text/x-r-source",
   "name": "R",
   "pygments_lexer": "r",
   "version": "3.5.1"
  }
 },
 "nbformat": 4,
 "nbformat_minor": 2
}
