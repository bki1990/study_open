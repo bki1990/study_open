{
 "cells": [
  {
   "cell_type": "code",
   "execution_count": 2,
   "metadata": {},
   "outputs": [],
   "source": [
    "setwd('C:/Users/bki19/OneDrive/deskto/Linear_Regression/data')"
   ]
  },
  {
   "cell_type": "code",
   "execution_count": 3,
   "metadata": {},
   "outputs": [],
   "source": [
    "df<-read.csv('./Hardwood.csv')"
   ]
  },
  {
   "cell_type": "code",
   "execution_count": 4,
   "metadata": {},
   "outputs": [],
   "source": [
    "colnames(df)<-c('x','y')"
   ]
  },
  {
   "cell_type": "markdown",
   "metadata": {},
   "source": [
    "# Polynomial Regression"
   ]
  },
  {
   "cell_type": "markdown",
   "metadata": {},
   "source": [
    "Response가 curvilinear할 때 (x의 범위가 작은 복잡한 비선형 관계일 때도 사용 가능)<br>\n",
    "1. order는 2이하로 가능한 심플하게<br>\n",
    "2. t검정이나 Model selection으로 검증<br>\n",
    "3. Extrapolation에 극도로 취약<br>"
   ]
  },
  {
   "cell_type": "code",
   "execution_count": 5,
   "metadata": {},
   "outputs": [],
   "source": [
    "df2<-df\n",
    "df2$x<-df$x-mean(df$x)\n",
    "df2$x2<-(df$x-mean(df$x))^2\n",
    "df$x2<-df$x^2"
   ]
  },
  {
   "cell_type": "code",
   "execution_count": 6,
   "metadata": {},
   "outputs": [
    {
     "data": {
      "text/html": [
       "<table>\n",
       "<thead><tr><th scope=col>x</th><th scope=col>y</th><th scope=col>x2</th></tr></thead>\n",
       "<tbody>\n",
       "\t<tr><td>1.0  </td><td> 6.3 </td><td> 1.00</td></tr>\n",
       "\t<tr><td>1.5  </td><td>11.1 </td><td> 2.25</td></tr>\n",
       "\t<tr><td>2.0  </td><td>20.0 </td><td> 4.00</td></tr>\n",
       "\t<tr><td>3.0  </td><td>24.0 </td><td> 9.00</td></tr>\n",
       "\t<tr><td>4.0  </td><td>26.1 </td><td>16.00</td></tr>\n",
       "\t<tr><td>4.5  </td><td>30.0 </td><td>20.25</td></tr>\n",
       "</tbody>\n",
       "</table>\n"
      ],
      "text/latex": [
       "\\begin{tabular}{r|lll}\n",
       " x & y & x2\\\\\n",
       "\\hline\n",
       "\t 1.0   &  6.3  &  1.00\\\\\n",
       "\t 1.5   & 11.1  &  2.25\\\\\n",
       "\t 2.0   & 20.0  &  4.00\\\\\n",
       "\t 3.0   & 24.0  &  9.00\\\\\n",
       "\t 4.0   & 26.1  & 16.00\\\\\n",
       "\t 4.5   & 30.0  & 20.25\\\\\n",
       "\\end{tabular}\n"
      ],
      "text/markdown": [
       "\n",
       "x | y | x2 | \n",
       "|---|---|---|---|---|---|\n",
       "| 1.0   |  6.3  |  1.00 | \n",
       "| 1.5   | 11.1  |  2.25 | \n",
       "| 2.0   | 20.0  |  4.00 | \n",
       "| 3.0   | 24.0  |  9.00 | \n",
       "| 4.0   | 26.1  | 16.00 | \n",
       "| 4.5   | 30.0  | 20.25 | \n",
       "\n",
       "\n"
      ],
      "text/plain": [
       "  x   y    x2   \n",
       "1 1.0  6.3  1.00\n",
       "2 1.5 11.1  2.25\n",
       "3 2.0 20.0  4.00\n",
       "4 3.0 24.0  9.00\n",
       "5 4.0 26.1 16.00\n",
       "6 4.5 30.0 20.25"
      ]
     },
     "metadata": {},
     "output_type": "display_data"
    },
    {
     "data": {
      "text/html": [
       "7.26315789473684"
      ],
      "text/latex": [
       "7.26315789473684"
      ],
      "text/markdown": [
       "7.26315789473684"
      ],
      "text/plain": [
       "[1] 7.263158"
      ]
     },
     "metadata": {},
     "output_type": "display_data"
    }
   ],
   "source": [
    "head(df)\n",
    "mean(df$x)"
   ]
  },
  {
   "cell_type": "code",
   "execution_count": 7,
   "metadata": {},
   "outputs": [],
   "source": [
    "fit<-lm(y~.,data=df)\n",
    "fit2<-lm(y~.,data=df2)"
   ]
  },
  {
   "cell_type": "code",
   "execution_count": 8,
   "metadata": {},
   "outputs": [
    {
     "data": {
      "text/plain": [
       "\n",
       "Call:\n",
       "lm(formula = y ~ ., data = df)\n",
       "\n",
       "Residuals:\n",
       "    Min      1Q  Median      3Q     Max \n",
       "-5.8503 -3.2482 -0.7267  4.1350  6.5506 \n",
       "\n",
       "Coefficients:\n",
       "            Estimate Std. Error t value Pr(>|t|)    \n",
       "(Intercept) -6.67419    3.39971  -1.963   0.0673 .  \n",
       "x           11.76401    1.00278  11.731 2.85e-09 ***\n",
       "x2          -0.63455    0.06179 -10.270 1.89e-08 ***\n",
       "---\n",
       "Signif. codes:  0 '***' 0.001 '**' 0.01 '*' 0.05 '.' 0.1 ' ' 1\n",
       "\n",
       "Residual standard error: 4.42 on 16 degrees of freedom\n",
       "Multiple R-squared:  0.9085,\tAdjusted R-squared:  0.8971 \n",
       "F-statistic: 79.43 on 2 and 16 DF,  p-value: 4.912e-09\n"
      ]
     },
     "metadata": {},
     "output_type": "display_data"
    },
    {
     "data": {
      "text/plain": [
       "\n",
       "Call:\n",
       "lm(formula = y ~ ., data = df)\n",
       "\n",
       "Residuals:\n",
       "    Min      1Q  Median      3Q     Max \n",
       "-5.8503 -3.2482 -0.7267  4.1350  6.5506 \n",
       "\n",
       "Coefficients:\n",
       "            Estimate Std. Error t value Pr(>|t|)    \n",
       "(Intercept) -6.67419    3.39971  -1.963   0.0673 .  \n",
       "x           11.76401    1.00278  11.731 2.85e-09 ***\n",
       "x2          -0.63455    0.06179 -10.270 1.89e-08 ***\n",
       "---\n",
       "Signif. codes:  0 '***' 0.001 '**' 0.01 '*' 0.05 '.' 0.1 ' ' 1\n",
       "\n",
       "Residual standard error: 4.42 on 16 degrees of freedom\n",
       "Multiple R-squared:  0.9085,\tAdjusted R-squared:  0.8971 \n",
       "F-statistic: 79.43 on 2 and 16 DF,  p-value: 4.912e-09\n"
      ]
     },
     "metadata": {},
     "output_type": "display_data"
    }
   ],
   "source": [
    "summary(fit)\n",
    "summary(fit)"
   ]
  },
  {
   "cell_type": "code",
   "execution_count": 9,
   "metadata": {},
   "outputs": [
    {
     "data": {
      "text/html": [
       "<table>\n",
       "<thead><tr><th></th><th scope=col>Df</th><th scope=col>Sum Sq</th><th scope=col>Mean Sq</th><th scope=col>F value</th><th scope=col>Pr(&gt;F)</th></tr></thead>\n",
       "<tbody>\n",
       "\t<tr><th scope=row>x</th><td> 1          </td><td>1043.4274   </td><td>1043.42743  </td><td> 53.39985   </td><td>1.758404e-06</td></tr>\n",
       "\t<tr><th scope=row>x2</th><td> 1          </td><td>2060.8195   </td><td>2060.81954  </td><td>105.46729   </td><td>1.894349e-08</td></tr>\n",
       "\t<tr><th scope=row>Residuals</th><td>16          </td><td> 312.6383   </td><td>  19.53989  </td><td>       NA   </td><td>          NA</td></tr>\n",
       "</tbody>\n",
       "</table>\n"
      ],
      "text/latex": [
       "\\begin{tabular}{r|lllll}\n",
       "  & Df & Sum Sq & Mean Sq & F value & Pr(>F)\\\\\n",
       "\\hline\n",
       "\tx &  1           & 1043.4274    & 1043.42743   &  53.39985    & 1.758404e-06\\\\\n",
       "\tx2 &  1           & 2060.8195    & 2060.81954   & 105.46729    & 1.894349e-08\\\\\n",
       "\tResiduals & 16           &  312.6383    &   19.53989   &        NA    &           NA\\\\\n",
       "\\end{tabular}\n"
      ],
      "text/markdown": [
       "\n",
       "| <!--/--> | Df | Sum Sq | Mean Sq | F value | Pr(>F) | \n",
       "|---|---|---|\n",
       "| x |  1           | 1043.4274    | 1043.42743   |  53.39985    | 1.758404e-06 | \n",
       "| x2 |  1           | 2060.8195    | 2060.81954   | 105.46729    | 1.894349e-08 | \n",
       "| Residuals | 16           |  312.6383    |   19.53989   |        NA    |           NA | \n",
       "\n",
       "\n"
      ],
      "text/plain": [
       "          Df Sum Sq    Mean Sq    F value   Pr(>F)      \n",
       "x          1 1043.4274 1043.42743  53.39985 1.758404e-06\n",
       "x2         1 2060.8195 2060.81954 105.46729 1.894349e-08\n",
       "Residuals 16  312.6383   19.53989        NA           NA"
      ]
     },
     "metadata": {},
     "output_type": "display_data"
    }
   ],
   "source": [
    "anova(fit2)"
   ]
  },
  {
   "cell_type": "markdown",
   "metadata": {},
   "source": [
    "F값이 높아 H0:b1=b2=0 reject, linear나 quadratic term이 모형에 유의하게 기여"
   ]
  },
  {
   "cell_type": "code",
   "execution_count": 10,
   "metadata": {},
   "outputs": [
    {
     "data": {
      "image/png": "[encoded data removed]",
      "text/plain": [
       "Plot with title \"\""
      ]
     },
     "metadata": {},
     "output_type": "display_data"
    }
   ],
   "source": [
    "par(mfrow=c(2,2))\n",
    "plot(fit)"
   ]
  },
  {
   "cell_type": "markdown",
   "metadata": {},
   "source": [
    "Normal plot으로 봤을 떄 두꺼운 꼬리 존재 해보임 하지만 심각하지는 않아 보임<br>\n",
    "residual vs fitted로 봤을 때 이상 없어보임<br>\n",
    "partial test 봤을 때 회귀 계수 모두 유의"
   ]
  },
  {
   "cell_type": "code",
   "execution_count": null,
   "metadata": {},
   "outputs": [],
   "source": []
  }
 ],
 "metadata": {
  "kernelspec": {
   "display_name": "R",
   "language": "R",
   "name": "ir"
  },
  "language_info": {
   "codemirror_mode": "r",
   "file_extension": ".r",
   "mimetype": "text/x-r-source",
   "name": "R",
   "pygments_lexer": "r",
   "version": "3.5.1"
  }
 },
 "nbformat": 4,
 "nbformat_minor": 2
}
