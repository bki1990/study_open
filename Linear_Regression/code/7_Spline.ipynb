{
 "cells": [
  {
   "cell_type": "code",
   "execution_count": 2,
   "metadata": {},
   "outputs": [],
   "source": [
    "setwd('C:/Users/bki19/OneDrive/deskto/Linear_Regression/data')"
   ]
  },
  {
   "cell_type": "code",
   "execution_count": 3,
   "metadata": {},
   "outputs": [],
   "source": [
    "df<-read.csv('./Voltage_Drop.csv')"
   ]
  },
  {
   "cell_type": "code",
   "execution_count": 4,
   "metadata": {},
   "outputs": [],
   "source": [
    "colnames(df)<-c('x','y')"
   ]
  },
  {
   "cell_type": "markdown",
   "metadata": {},
   "source": [
    "# Spline"
   ]
  },
  {
   "cell_type": "markdown",
   "metadata": {},
   "source": [
    "Polynoial order를 높이는 것 만으로 fit이 잘 안될 수 있음 특히 x의 범위에 따라 함수가 다르게 움질일 때<br>\n",
    "x를 segment로 분할하여 세그먼트마다 적절한 fit"
   ]
  },
  {
   "cell_type": "code",
   "execution_count": 5,
   "metadata": {},
   "outputs": [
    {
     "data": {
      "image/png": "[encoded data removed]",
      "text/plain": [
       "plot without title"
      ]
     },
     "metadata": {},
     "output_type": "display_data"
    }
   ],
   "source": [
    "plot(df)"
   ]
  },
  {
   "cell_type": "code",
   "execution_count": 6,
   "metadata": {},
   "outputs": [],
   "source": [
    "library(splines)"
   ]
  },
  {
   "cell_type": "code",
   "execution_count": 7,
   "metadata": {},
   "outputs": [],
   "source": [
    "df2<-df\n",
    "df2$x2<-df$x^2\n",
    "df2$x3<-df$x^3\n",
    "fit_poly<-lm(y~.,data=df2)"
   ]
  },
  {
   "cell_type": "code",
   "execution_count": 8,
   "metadata": {},
   "outputs": [],
   "source": [
    "fit_cubic<-lm(y~bs(x,knots=c(6.5,13)), data=df)"
   ]
  },
  {
   "cell_type": "code",
   "execution_count": 9,
   "metadata": {},
   "outputs": [
    {
     "data": {
      "text/plain": [
       "\n",
       "Call:\n",
       "lm(formula = y ~ bs(x, knots = c(6.5, 13)), data = df)\n",
       "\n",
       "Residuals:\n",
       "     Min       1Q   Median       3Q      Max \n",
       "-0.45168 -0.18499 -0.03547  0.20577  0.61694 \n",
       "\n",
       "Coefficients:\n",
       "                           Estimate Std. Error t value Pr(>|t|)    \n",
       "(Intercept)                  8.4657     0.2005  42.219  < 2e-16 ***\n",
       "bs(x, knots = c(6.5, 13))1  -3.1484     0.3934  -8.002 2.04e-09 ***\n",
       "bs(x, knots = c(6.5, 13))2   4.3532     0.2843  15.312  < 2e-16 ***\n",
       "bs(x, knots = c(6.5, 13))3   8.5518     0.3691  23.169  < 2e-16 ***\n",
       "bs(x, knots = c(6.5, 13))4   0.5990     0.3059   1.958 0.058192 .  \n",
       "bs(x, knots = c(6.5, 13))5   1.2414     0.2871   4.324 0.000121 ***\n",
       "---\n",
       "Signif. codes:  0 '***' 0.001 '**' 0.01 '*' 0.05 '.' 0.1 ' ' 1\n",
       "\n",
       "Residual standard error: 0.2678 on 35 degrees of freedom\n",
       "Multiple R-squared:  0.9904,\tAdjusted R-squared:  0.9891 \n",
       "F-statistic: 725.5 on 5 and 35 DF,  p-value: < 2.2e-16\n"
      ]
     },
     "metadata": {},
     "output_type": "display_data"
    }
   ],
   "source": [
    "summary(fit_cubic)"
   ]
  },
  {
   "cell_type": "code",
   "execution_count": 10,
   "metadata": {},
   "outputs": [
    {
     "data": {
      "text/plain": [
       "\n",
       "Call:\n",
       "lm(formula = y ~ ., data = df2)\n",
       "\n",
       "Residuals:\n",
       "    Min      1Q  Median      3Q     Max \n",
       "-1.3503 -0.7340 -0.1859  0.6440  1.8390 \n",
       "\n",
       "Coefficients:\n",
       "              Estimate Std. Error t value Pr(>|t|)    \n",
       "(Intercept)  6.4910163  0.5336473  12.163 1.71e-14 ***\n",
       "x            0.7031952  0.2339552   3.006 0.004738 ** \n",
       "x2           0.0340179  0.0273762   1.243 0.221829    \n",
       "x3          -0.0033072  0.0008992  -3.678 0.000743 ***\n",
       "---\n",
       "Signif. codes:  0 '***' 0.001 '**' 0.01 '*' 0.05 '.' 0.1 ' ' 1\n",
       "\n",
       "Residual standard error: 0.9335 on 37 degrees of freedom\n",
       "Multiple R-squared:  0.8773,\tAdjusted R-squared:  0.8673 \n",
       "F-statistic: 88.14 on 3 and 37 DF,  p-value: < 2.2e-16\n"
      ]
     },
     "metadata": {},
     "output_type": "display_data"
    }
   ],
   "source": [
    "summary(fit_poly)"
   ]
  },
  {
   "cell_type": "code",
   "execution_count": 11,
   "metadata": {},
   "outputs": [
    {
     "data": {
      "image/png": "[encoded data removed]",
      "text/plain": [
       "plot without title"
      ]
     },
     "metadata": {},
     "output_type": "display_data"
    }
   ],
   "source": [
    "par(mfrow=c(2,1))\n",
    "plot(fitted(fit_cubic),resid(fit_cubic))\n",
    "plot(fitted(fit_poly),resid(fit_poly))"
   ]
  },
  {
   "cell_type": "markdown",
   "metadata": {},
   "source": [
    "파리미터가 더 적은 polynomial과 비교<br>\n",
    "poly의 경우 residual plot 봤을 때 강한 곡선의 관계가 나타나 적합하지 않음을 알 수 있음"
   ]
  },
  {
   "cell_type": "code",
   "execution_count": 12,
   "metadata": {},
   "outputs": [
    {
     "data": {
      "text/html": [
       "<table>\n",
       "<thead><tr><th scope=col>Res.Df</th><th scope=col>RSS</th><th scope=col>Df</th><th scope=col>Sum of Sq</th><th scope=col>F</th><th scope=col>Pr(&gt;F)</th></tr></thead>\n",
       "<tbody>\n",
       "\t<tr><td>37          </td><td>32.244231   </td><td>NA          </td><td>      NA    </td><td>      NA    </td><td>          NA</td></tr>\n",
       "\t<tr><td>35          </td><td> 2.510255   </td><td> 2          </td><td>29.73398    </td><td>207.2876    </td><td>3.955041e-20</td></tr>\n",
       "</tbody>\n",
       "</table>\n"
      ],
      "text/latex": [
       "\\begin{tabular}{r|llllll}\n",
       " Res.Df & RSS & Df & Sum of Sq & F & Pr(>F)\\\\\n",
       "\\hline\n",
       "\t 37           & 32.244231    & NA           &       NA     &       NA     &           NA\\\\\n",
       "\t 35           &  2.510255    &  2           & 29.73398     & 207.2876     & 3.955041e-20\\\\\n",
       "\\end{tabular}\n"
      ],
      "text/markdown": [
       "\n",
       "Res.Df | RSS | Df | Sum of Sq | F | Pr(>F) | \n",
       "|---|---|\n",
       "| 37           | 32.244231    | NA           |       NA     |       NA     |           NA | \n",
       "| 35           |  2.510255    |  2           | 29.73398     | 207.2876     | 3.955041e-20 | \n",
       "\n",
       "\n"
      ],
      "text/plain": [
       "  Res.Df RSS       Df Sum of Sq F        Pr(>F)      \n",
       "1 37     32.244231 NA       NA        NA           NA\n",
       "2 35      2.510255  2 29.73398  207.2876 3.955041e-20"
      ]
     },
     "metadata": {},
     "output_type": "display_data"
    }
   ],
   "source": [
    "anova(fit_poly,fit_cubic)"
   ]
  },
  {
   "cell_type": "markdown",
   "metadata": {},
   "source": [
    "extra sum of squares로 H0:B1=B2=0 검정 해봤을때, F0=207.29로 H0기각<br>\n",
    "Cubic spline이 더 좋은 fit"
   ]
  },
  {
   "cell_type": "code",
   "execution_count": null,
   "metadata": {},
   "outputs": [],
   "source": []
  }
 ],
 "metadata": {
  "kernelspec": {
   "display_name": "R",
   "language": "R",
   "name": "ir"
  },
  "language_info": {
   "codemirror_mode": "r",
   "file_extension": ".r",
   "mimetype": "text/x-r-source",
   "name": "R",
   "pygments_lexer": "r",
   "version": "3.5.1"
  }
 },
 "nbformat": 4,
 "nbformat_minor": 2
}
