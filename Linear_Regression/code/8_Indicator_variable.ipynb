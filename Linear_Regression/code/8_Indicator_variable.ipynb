{
 "cells": [
  {
   "cell_type": "code",
   "execution_count": 1,
   "metadata": {},
   "outputs": [],
   "source": [
    "setwd('C:/Users/bki19/OneDrive/deskto/Linear_Regression/data')"
   ]
  },
  {
   "cell_type": "code",
   "execution_count": 2,
   "metadata": {},
   "outputs": [],
   "source": [
    "df<-read.csv('./Tool_Life.csv')"
   ]
  },
  {
   "cell_type": "code",
   "execution_count": 3,
   "metadata": {},
   "outputs": [],
   "source": [
    "colnames(df)<-c('y','x','Type')"
   ]
  },
  {
   "cell_type": "markdown",
   "metadata": {},
   "source": [
    "# Indicator Variable"
   ]
  },
  {
   "cell_type": "code",
   "execution_count": 4,
   "metadata": {},
   "outputs": [],
   "source": [
    "df2<-df\n",
    "df2[,'Type']<-ifelse(df[,'Type']=='A',0,1)"
   ]
  },
  {
   "cell_type": "code",
   "execution_count": 5,
   "metadata": {},
   "outputs": [
    {
     "data": {
      "image/png": "[encoded data removed]",
      "text/plain": [
       "plot without title"
      ]
     },
     "metadata": {},
     "output_type": "display_data"
    }
   ],
   "source": [
    "plot(df2[,'x'],df2[,'y'],pch=(df2[,'Type']+1),col=(df2[,'Type']+1) )"
   ]
  },
  {
   "cell_type": "markdown",
   "metadata": {},
   "source": [
    "검정이 A, 빨강이 B로 카테고리별로 선형성이 보임"
   ]
  },
  {
   "cell_type": "code",
   "execution_count": 6,
   "metadata": {},
   "outputs": [],
   "source": [
    "fit<-lm(y~.,data=df2)"
   ]
  },
  {
   "cell_type": "code",
   "execution_count": 7,
   "metadata": {
    "scrolled": true
   },
   "outputs": [
    {
     "data": {
      "text/plain": [
       "\n",
       "Call:\n",
       "lm(formula = y ~ ., data = df2)\n",
       "\n",
       "Residuals:\n",
       "    Min      1Q  Median      3Q     Max \n",
       "-7.6255 -1.6308  0.0612  2.2218  5.5044 \n",
       "\n",
       "Coefficients:\n",
       "             Estimate Std. Error t value Pr(>|t|)    \n",
       "(Intercept) 35.208726   3.738882   9.417 3.71e-08 ***\n",
       "x           -0.024557   0.004865  -5.048 9.92e-05 ***\n",
       "Type        15.235474   1.501220  10.149 1.25e-08 ***\n",
       "---\n",
       "Signif. codes:  0 '***' 0.001 '**' 0.01 '*' 0.05 '.' 0.1 ' ' 1\n",
       "\n",
       "Residual standard error: 3.352 on 17 degrees of freedom\n",
       "Multiple R-squared:  0.8787,\tAdjusted R-squared:  0.8645 \n",
       "F-statistic:  61.6 on 2 and 17 DF,  p-value: 1.627e-08\n"
      ]
     },
     "metadata": {},
     "output_type": "display_data"
    }
   ],
   "source": [
    "summary(fit)"
   ]
  },
  {
   "cell_type": "markdown",
   "metadata": {},
   "source": [
    "F test에 대한 p-value가 매우 낮은 걸로 보아 모형은 유의하고, T test로 계수들을 보면 모두 유의하여 모든 regressor 들이 모형에 기여<br>\n",
    "B2의 회귀계수가 유의한것으로 보아, typeA에서 typeB로 바꾸는 것은 평균 tool life를 증가 시키는 것이 95% 정도로 확신"
   ]
  },
  {
   "cell_type": "code",
   "execution_count": 8,
   "metadata": {},
   "outputs": [
    {
     "data": {
      "image/png": "[encoded data removed]",
      "text/plain": [
       "Plot with title \"Normal Q-Q Plot\""
      ]
     },
     "metadata": {},
     "output_type": "display_data"
    }
   ],
   "source": [
    "par(mfrow=c(2,2))\n",
    "qqnorm(resid(fit)) \n",
    "plot(fitted(fit),resid(fit) ,pch=(df2[,'Type']+1),col=(df2[,'Type']+1)  )"
   ]
  },
  {
   "cell_type": "markdown",
   "metadata": {},
   "source": [
    "Normality 봤을 때 거의 normal<br>\n",
    "Residual plot 봤을 때 error의 constant variance가 두 집단이 달라 보임<br>\n",
    "->Inequality of Constant variance problem 존재 가능성<br>\n",
    "두 집단 마다 다른 직선을 적합시키면 어떨까? 이 방법은 두 개의 결과가 나온 다는 점과 두 데이터를 합쳐야 되는 당위성을 잃기 때문에 선호 되지 않음<br>\n",
    "또한 error의 variance에 대해 두 가지 추정량이 존재하고 자유도를 더 잃음\n"
   ]
  },
  {
   "cell_type": "code",
   "execution_count": 9,
   "metadata": {},
   "outputs": [],
   "source": [
    "fit2<-lm(y~x+x*Type,data=df2)"
   ]
  },
  {
   "cell_type": "markdown",
   "metadata": {},
   "source": [
    "Interaction term 추가<br>\n",
    "y=b0+b1*x1+b2*Type+b3*x1*Type<br>\n",
    "Type=0 ; y=b0+b1*x1<br>\n",
    "Type=1 ; y=b0+b2+(b1+b3)*x1<br>\n",
    "-> b3만큼 기울기 차이 발생:<br>\n",
    "<br>\n",
    "사실상 두 개의 다른 모형을 사용하는 것이기 떄문에 extra-sum-of square로 검정<br>\n",
    "H0:b2=b3=0<br>\n"
   ]
  },
  {
   "cell_type": "code",
   "execution_count": 10,
   "metadata": {},
   "outputs": [
    {
     "data": {
      "text/plain": [
       "\n",
       "Call:\n",
       "lm(formula = y ~ x + x * Type, data = df2)\n",
       "\n",
       "Residuals:\n",
       "    Min      1Q  Median      3Q     Max \n",
       "-6.5534 -1.7088  0.3283  2.0913  4.8652 \n",
       "\n",
       "Coefficients:\n",
       "             Estimate Std. Error t value Pr(>|t|)    \n",
       "(Intercept) 30.176013   4.724895   6.387 9.01e-06 ***\n",
       "x           -0.017729   0.006262  -2.831  0.01204 *  \n",
       "Type        26.569340   7.115681   3.734  0.00181 ** \n",
       "x:Type      -0.015186   0.009338  -1.626  0.12345    \n",
       "---\n",
       "Signif. codes:  0 '***' 0.001 '**' 0.01 '*' 0.05 '.' 0.1 ' ' 1\n",
       "\n",
       "Residual standard error: 3.201 on 16 degrees of freedom\n",
       "Multiple R-squared:  0.8959,\tAdjusted R-squared:  0.8764 \n",
       "F-statistic: 45.92 on 3 and 16 DF,  p-value: 4.37e-08\n"
      ]
     },
     "metadata": {},
     "output_type": "display_data"
    }
   ],
   "source": [
    "summary(fit2)"
   ]
  },
  {
   "cell_type": "code",
   "execution_count": 11,
   "metadata": {},
   "outputs": [
    {
     "data": {
      "text/html": [
       "<table>\n",
       "<thead><tr><th scope=col>Res.Df</th><th scope=col>RSS</th><th scope=col>Df</th><th scope=col>Sum of Sq</th><th scope=col>F</th><th scope=col>Pr(&gt;F)</th></tr></thead>\n",
       "<tbody>\n",
       "\t<tr><td>18          </td><td>1348.056    </td><td>NA          </td><td>      NA    </td><td>      NA    </td><td>          NA</td></tr>\n",
       "\t<tr><td>16          </td><td> 163.893    </td><td> 2          </td><td>1184.163    </td><td>57.80173    </td><td>4.773332e-08</td></tr>\n",
       "</tbody>\n",
       "</table>\n"
      ],
      "text/latex": [
       "\\begin{tabular}{r|llllll}\n",
       " Res.Df & RSS & Df & Sum of Sq & F & Pr(>F)\\\\\n",
       "\\hline\n",
       "\t 18           & 1348.056     & NA           &       NA     &       NA     &           NA\\\\\n",
       "\t 16           &  163.893     &  2           & 1184.163     & 57.80173     & 4.773332e-08\\\\\n",
       "\\end{tabular}\n"
      ],
      "text/markdown": [
       "\n",
       "Res.Df | RSS | Df | Sum of Sq | F | Pr(>F) | \n",
       "|---|---|\n",
       "| 18           | 1348.056     | NA           |       NA     |       NA     |           NA | \n",
       "| 16           |  163.893     |  2           | 1184.163     | 57.80173     | 4.773332e-08 | \n",
       "\n",
       "\n"
      ],
      "text/plain": [
       "  Res.Df RSS      Df Sum of Sq F        Pr(>F)      \n",
       "1 18     1348.056 NA       NA        NA           NA\n",
       "2 16      163.893  2 1184.163  57.80173 4.773332e-08"
      ]
     },
     "metadata": {},
     "output_type": "display_data"
    },
    {
     "data": {
      "text/html": [
       "<table>\n",
       "<thead><tr><th></th><th scope=col>Df</th><th scope=col>Sum Sq</th><th scope=col>Mean Sq</th><th scope=col>F value</th><th scope=col>Pr(&gt;F)</th></tr></thead>\n",
       "<tbody>\n",
       "\t<tr><th scope=row>x</th><td> 1          </td><td> 227.03260  </td><td> 227.03260  </td><td> 22.163977  </td><td>2.370008e-04</td></tr>\n",
       "\t<tr><th scope=row>Type</th><td> 1          </td><td>1157.07580  </td><td>1157.07580  </td><td>112.959117  </td><td>1.169088e-08</td></tr>\n",
       "\t<tr><th scope=row>x:Type</th><td> 1          </td><td>  27.08675  </td><td>  27.08675  </td><td>  2.644334  </td><td>1.234509e-01</td></tr>\n",
       "\t<tr><th scope=row>Residuals</th><td>16          </td><td> 163.89304  </td><td>  10.24331  </td><td>        NA  </td><td>          NA</td></tr>\n",
       "</tbody>\n",
       "</table>\n"
      ],
      "text/latex": [
       "\\begin{tabular}{r|lllll}\n",
       "  & Df & Sum Sq & Mean Sq & F value & Pr(>F)\\\\\n",
       "\\hline\n",
       "\tx &  1           &  227.03260   &  227.03260   &  22.163977   & 2.370008e-04\\\\\n",
       "\tType &  1           & 1157.07580   & 1157.07580   & 112.959117   & 1.169088e-08\\\\\n",
       "\tx:Type &  1           &   27.08675   &   27.08675   &   2.644334   & 1.234509e-01\\\\\n",
       "\tResiduals & 16           &  163.89304   &   10.24331   &         NA   &           NA\\\\\n",
       "\\end{tabular}\n"
      ],
      "text/markdown": [
       "\n",
       "| <!--/--> | Df | Sum Sq | Mean Sq | F value | Pr(>F) | \n",
       "|---|---|---|---|\n",
       "| x |  1           |  227.03260   |  227.03260   |  22.163977   | 2.370008e-04 | \n",
       "| Type |  1           | 1157.07580   | 1157.07580   | 112.959117   | 1.169088e-08 | \n",
       "| x:Type |  1           |   27.08675   |   27.08675   |   2.644334   | 1.234509e-01 | \n",
       "| Residuals | 16           |  163.89304   |   10.24331   |         NA   |           NA | \n",
       "\n",
       "\n"
      ],
      "text/plain": [
       "          Df Sum Sq     Mean Sq    F value    Pr(>F)      \n",
       "x          1  227.03260  227.03260  22.163977 2.370008e-04\n",
       "Type       1 1157.07580 1157.07580 112.959117 1.169088e-08\n",
       "x:Type     1   27.08675   27.08675   2.644334 1.234509e-01\n",
       "Residuals 16  163.89304   10.24331         NA           NA"
      ]
     },
     "metadata": {},
     "output_type": "display_data"
    }
   ],
   "source": [
    "anova(lm(y~x,data=df2),fit2)\n",
    "anova(fit2)"
   ]
  },
  {
   "cell_type": "markdown",
   "metadata": {},
   "source": [
    "F0은 57로 H0 기각 ; b2와 b3는 같지 않음 <br>\n",
    "둘이 서로 다른 constant 갖고 있는지 보기위해서는 H0:b3=0 <br>\n",
    "F0=2.64로 기각 못함 ; 두 절편은 같음 / t-test로 봐도 interaction term b3가 유의하지 않음"
   ]
  },
  {
   "cell_type": "code",
   "execution_count": null,
   "metadata": {},
   "outputs": [],
   "source": []
  }
 ],
 "metadata": {
  "kernelspec": {
   "display_name": "R",
   "language": "R",
   "name": "ir"
  },
  "language_info": {
   "codemirror_mode": "r",
   "file_extension": ".r",
   "mimetype": "text/x-r-source",
   "name": "R",
   "pygments_lexer": "r",
   "version": "3.5.1"
  }
 },
 "nbformat": 4,
 "nbformat_minor": 2
}
