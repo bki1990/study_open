{
 "cells": [
  {
   "cell_type": "code",
   "execution_count": 5,
   "metadata": {},
   "outputs": [],
   "source": [
    "setwd('C:/Users/bki19/OneDrive/deskto/Linear_Regression/data')"
   ]
  },
  {
   "cell_type": "code",
   "execution_count": 6,
   "metadata": {},
   "outputs": [],
   "source": [
    "df<-read.csv('./Delivery_Time2.csv')"
   ]
  },
  {
   "cell_type": "code",
   "execution_count": 7,
   "metadata": {},
   "outputs": [],
   "source": [
    "colnames(df)<-c('Time','Case','Distance')"
   ]
  },
  {
   "cell_type": "code",
   "execution_count": 8,
   "metadata": {},
   "outputs": [],
   "source": [
    "fit<-lm(Time~.,data=df)"
   ]
  },
  {
   "cell_type": "markdown",
   "metadata": {},
   "source": [
    "nonlinear regression이나 glm 같은 경우 asymtotic inference를 사용하기 떄문에 large sample에 기반함<br>\n",
    "bootstrapping은 이런 상황에서 신뢰할만한 estimates를 결정할 수 있음<br>\n",
    "원래 샘플에서 복원 추출(resampling)"
   ]
  },
  {
   "cell_type": "code",
   "execution_count": 9,
   "metadata": {},
   "outputs": [
    {
     "data": {
      "text/plain": [
       "\n",
       "Call:\n",
       "lm(formula = Time ~ ., data = df)\n",
       "\n",
       "Residuals:\n",
       "    Min      1Q  Median      3Q     Max \n",
       "-5.7880 -0.6629  0.4364  1.1566  7.4197 \n",
       "\n",
       "Coefficients:\n",
       "            Estimate Std. Error t value Pr(>|t|)    \n",
       "(Intercept) 2.341231   1.096730   2.135 0.044170 *  \n",
       "Case        1.615907   0.170735   9.464 3.25e-09 ***\n",
       "Distance    0.014385   0.003613   3.981 0.000631 ***\n",
       "---\n",
       "Signif. codes:  0 '***' 0.001 '**' 0.01 '*' 0.05 '.' 0.1 ' ' 1\n",
       "\n",
       "Residual standard error: 3.259 on 22 degrees of freedom\n",
       "Multiple R-squared:  0.9596,\tAdjusted R-squared:  0.9559 \n",
       "F-statistic: 261.2 on 2 and 22 DF,  p-value: 4.687e-16\n"
      ]
     },
     "metadata": {},
     "output_type": "display_data"
    }
   ],
   "source": [
    "summary(fit)"
   ]
  },
  {
   "cell_type": "code",
   "execution_count": 10,
   "metadata": {},
   "outputs": [
    {
     "data": {
      "text/html": [
       "<dl class=dl-horizontal>\n",
       "\t<dt>(Intercept)</dt>\n",
       "\t\t<dd>2.3412311451922</dd>\n",
       "\t<dt>Case</dt>\n",
       "\t\t<dd>1.61590721060925</dd>\n",
       "\t<dt>Distance</dt>\n",
       "\t\t<dd>0.0143848262555481</dd>\n",
       "</dl>\n"
      ],
      "text/latex": [
       "\\begin{description*}\n",
       "\\item[(Intercept)] 2.3412311451922\n",
       "\\item[Case] 1.61590721060925\n",
       "\\item[Distance] 0.0143848262555481\n",
       "\\end{description*}\n"
      ],
      "text/markdown": [
       "(Intercept)\n",
       ":   2.3412311451922Case\n",
       ":   1.61590721060925Distance\n",
       ":   0.0143848262555481\n",
       "\n"
      ],
      "text/plain": [
       "(Intercept)        Case    Distance \n",
       " 2.34123115  1.61590721  0.01438483 "
      ]
     },
     "metadata": {},
     "output_type": "display_data"
    },
    {
     "data": {
      "text/html": [
       "<table>\n",
       "<thead><tr><th></th><th scope=col>2.5 %</th><th scope=col>97.5 %</th></tr></thead>\n",
       "<tbody>\n",
       "\t<tr><th scope=row>(Intercept)</th><td>0.066751987</td><td>4.61571030 </td></tr>\n",
       "\t<tr><th scope=row>Case</th><td>1.261824662</td><td>1.96998976 </td></tr>\n",
       "\t<tr><th scope=row>Distance</th><td>0.006891745</td><td>0.02187791 </td></tr>\n",
       "</tbody>\n",
       "</table>\n"
      ],
      "text/latex": [
       "\\begin{tabular}{r|ll}\n",
       "  & 2.5 \\% & 97.5 \\%\\\\\n",
       "\\hline\n",
       "\t(Intercept) & 0.066751987 & 4.61571030 \\\\\n",
       "\tCase & 1.261824662 & 1.96998976 \\\\\n",
       "\tDistance & 0.006891745 & 0.02187791 \\\\\n",
       "\\end{tabular}\n"
      ],
      "text/markdown": [
       "\n",
       "| <!--/--> | 2.5 % | 97.5 % | \n",
       "|---|---|---|\n",
       "| (Intercept) | 0.066751987 | 4.61571030  | \n",
       "| Case | 1.261824662 | 1.96998976  | \n",
       "| Distance | 0.006891745 | 0.02187791  | \n",
       "\n",
       "\n"
      ],
      "text/plain": [
       "            2.5 %       97.5 %    \n",
       "(Intercept) 0.066751987 4.61571030\n",
       "Case        1.261824662 1.96998976\n",
       "Distance    0.006891745 0.02187791"
      ]
     },
     "metadata": {},
     "output_type": "display_data"
    }
   ],
   "source": [
    "fit$coefficients\n",
    "confint(fit)"
   ]
  },
  {
   "cell_type": "markdown",
   "metadata": {},
   "source": [
    "B1_hat의 estimate은 1.61591, sd는 0.17073"
   ]
  },
  {
   "cell_type": "code",
   "execution_count": 11,
   "metadata": {},
   "outputs": [],
   "source": [
    "set.seed(1)\n",
    "n<-dim(df)[1]\n",
    "m<-1000 #bootstrap iteration\n",
    "\n",
    "Beta_star<-rep(0,m)\n",
    "\n",
    "for (i in 1:m){\n",
    "        star<-sample((1:n),n,replace=TRUE)\n",
    "        e_star<-resid(fit)[star]\n",
    "        y_star<-fitted(fit)+e_star\n",
    "        df2<-df\n",
    "        df2$Time<-y_star\n",
    "        \n",
    "        fit_star<-lm(Time~.,data=df2)\n",
    "        Beta_star[i]<-coef(fit_star)[2]\n",
    "\n",
    "    \n",
    "}\n"
   ]
  },
  {
   "cell_type": "code",
   "execution_count": 12,
   "metadata": {},
   "outputs": [
    {
     "data": {
      "text/html": [
       "1.61097434742807"
      ],
      "text/latex": [
       "1.61097434742807"
      ],
      "text/markdown": [
       "1.61097434742807"
      ],
      "text/plain": [
       "[1] 1.610974"
      ]
     },
     "metadata": {},
     "output_type": "display_data"
    },
    {
     "data": {
      "text/html": [
       "0.162584986357888"
      ],
      "text/latex": [
       "0.162584986357888"
      ],
      "text/markdown": [
       "0.162584986357888"
      ],
      "text/plain": [
       "[1] 0.162585"
      ]
     },
     "metadata": {},
     "output_type": "display_data"
    },
    {
     "data": {
      "image/png": "[encoded data removed]",
      "text/plain": [
       "Plot with title \"Histogram of Beta_star\""
      ]
     },
     "metadata": {},
     "output_type": "display_data"
    }
   ],
   "source": [
    "hist(Beta_star)\n",
    "mean(Beta_star)\n",
    "sd(Beta_star)"
   ]
  },
  {
   "cell_type": "markdown",
   "metadata": {},
   "source": [
    "Normal 분포 모양<br>\n",
    "mean은 많이 안 바뀌고 variance 줄음"
   ]
  },
  {
   "cell_type": "code",
   "execution_count": null,
   "metadata": {},
   "outputs": [],
   "source": []
  },
  {
   "cell_type": "code",
   "execution_count": 13,
   "metadata": {},
   "outputs": [],
   "source": [
    "D1<-coef(fit)[2]-sort(Beta_star)[m*0.025]\n",
    "D2<-sort(Beta_star)[m*0.975]-coef(fit)[2]"
   ]
  },
  {
   "cell_type": "code",
   "execution_count": 14,
   "metadata": {},
   "outputs": [
    {
     "data": {
      "text/html": [
       "<dl class=dl-horizontal>\n",
       "\t<dt>Case</dt>\n",
       "\t\t<dd>1.30518386865444</dd>\n",
       "\t<dt>Case</dt>\n",
       "\t\t<dd>1.92242726338403</dd>\n",
       "</dl>\n"
      ],
      "text/latex": [
       "\\begin{description*}\n",
       "\\item[Case] 1.30518386865444\n",
       "\\item[Case] 1.92242726338403\n",
       "\\end{description*}\n"
      ],
      "text/markdown": [
       "Case\n",
       ":   1.30518386865444Case\n",
       ":   1.92242726338403\n",
       "\n"
      ],
      "text/plain": [
       "    Case     Case \n",
       "1.305184 1.922427 "
      ]
     },
     "metadata": {},
     "output_type": "display_data"
    }
   ],
   "source": [
    "c(coef(fit)[2]-D2,D1+coef(fit)[2] )"
   ]
  },
  {
   "cell_type": "markdown",
   "metadata": {},
   "source": [
    "CI 구간 짧아짐<br>"
   ]
  },
  {
   "cell_type": "code",
   "execution_count": null,
   "metadata": {},
   "outputs": [],
   "source": []
  }
 ],
 "metadata": {
  "kernelspec": {
   "display_name": "R",
   "language": "R",
   "name": "ir"
  },
  "language_info": {
   "codemirror_mode": "r",
   "file_extension": ".r",
   "mimetype": "text/x-r-source",
   "name": "R",
   "pygments_lexer": "r",
   "version": "3.5.1"
  }
 },
 "nbformat": 4,
 "nbformat_minor": 2
}
