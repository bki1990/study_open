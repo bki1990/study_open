{
 "cells": [
  {
   "cell_type": "markdown",
   "metadata": {},
   "source": [
    "출처: Montgomery, D. C., Peck, E. A., & Vining, G. G. (2012). Introduction to linear regression analysis (Vol. 821). John Wiley & Sons.<br>\n",
    "데이터: http://bcs.wiley.com/he-bcs/Books?action=resource&bcsId=9068&itemId=0470542810&resourceId=36322"
   ]
  },
  {
   "cell_type": "code",
   "execution_count": null,
   "metadata": {},
   "outputs": [],
   "source": []
  },
  {
   "cell_type": "code",
   "execution_count": null,
   "metadata": {},
   "outputs": [],
   "source": [
    "setwd('C:/Users/bki19/OneDrive/deskto/Linear_Regression/data')"
   ]
  },
  {
   "cell_type": "code",
   "execution_count": 2,
   "metadata": {},
   "outputs": [],
   "source": [
    "df<-read.csv('./Shelf_Stocking.csv')"
   ]
  },
  {
   "cell_type": "code",
   "execution_count": 3,
   "metadata": {},
   "outputs": [],
   "source": [
    "colnames(df)<-c('Time','Case')"
   ]
  },
  {
   "cell_type": "code",
   "execution_count": 4,
   "metadata": {},
   "outputs": [
    {
     "data": {
      "image/png": "[encoded data removed]",
      "text/plain": [
       "plot without title"
      ]
     },
     "metadata": {},
     "output_type": "display_data"
    }
   ],
   "source": [
    "plot(df$Case,df$Time)"
   ]
  },
  {
   "cell_type": "markdown",
   "metadata": {},
   "source": [
    "<b>Regression from origin<br></b>"
   ]
  },
  {
   "cell_type": "code",
   "execution_count": 5,
   "metadata": {},
   "outputs": [],
   "source": [
    "fit_or<-lm(Time~0+Case,data=df)\n",
    "fit<-lm(Time~Case,data=df)"
   ]
  },
  {
   "cell_type": "code",
   "execution_count": 6,
   "metadata": {},
   "outputs": [
    {
     "data": {
      "text/plain": [
       "\n",
       "Call:\n",
       "lm(formula = Time ~ 0 + Case, data = df)\n",
       "\n",
       "Residuals:\n",
       "    Min      1Q  Median      3Q     Max \n",
       "-0.5252 -0.2198 -0.1202  0.1070  0.5443 \n",
       "\n",
       "Coefficients:\n",
       "     Estimate Std. Error t value Pr(>|t|)    \n",
       "Case 0.402619   0.004418   91.13   <2e-16 ***\n",
       "---\n",
       "Signif. codes:  0 '***' 0.001 '**' 0.01 '*' 0.05 '.' 0.1 ' ' 1\n",
       "\n",
       "Residual standard error: 0.2988 on 14 degrees of freedom\n",
       "Multiple R-squared:  0.9983,\tAdjusted R-squared:  0.9982 \n",
       "F-statistic:  8305 on 1 and 14 DF,  p-value: < 2.2e-16\n"
      ]
     },
     "metadata": {},
     "output_type": "display_data"
    },
    {
     "data": {
      "text/html": [
       "<table>\n",
       "<thead><tr><th></th><th scope=col>Df</th><th scope=col>Sum Sq</th><th scope=col>Mean Sq</th><th scope=col>F value</th><th scope=col>Pr(&gt;F)</th></tr></thead>\n",
       "<tbody>\n",
       "\t<tr><th scope=row>Case</th><td> 1          </td><td>741.615371  </td><td>741.61537058</td><td>8305.232    </td><td>8.012367e-21</td></tr>\n",
       "\t<tr><th scope=row>Residuals</th><td>14          </td><td>  1.250129  </td><td>  0.08929496</td><td>      NA    </td><td>          NA</td></tr>\n",
       "</tbody>\n",
       "</table>\n"
      ],
      "text/latex": [
       "\\begin{tabular}{r|lllll}\n",
       "  & Df & Sum Sq & Mean Sq & F value & Pr(>F)\\\\\n",
       "\\hline\n",
       "\tCase &  1           & 741.615371   & 741.61537058 & 8305.232     & 8.012367e-21\\\\\n",
       "\tResiduals & 14           &   1.250129   &   0.08929496 &       NA     &           NA\\\\\n",
       "\\end{tabular}\n"
      ],
      "text/markdown": [
       "\n",
       "| <!--/--> | Df | Sum Sq | Mean Sq | F value | Pr(>F) | \n",
       "|---|---|\n",
       "| Case |  1           | 741.615371   | 741.61537058 | 8305.232     | 8.012367e-21 | \n",
       "| Residuals | 14           |   1.250129   |   0.08929496 |       NA     |           NA | \n",
       "\n",
       "\n"
      ],
      "text/plain": [
       "          Df Sum Sq     Mean Sq      F value  Pr(>F)      \n",
       "Case       1 741.615371 741.61537058 8305.232 8.012367e-21\n",
       "Residuals 14   1.250129   0.08929496       NA           NA"
      ]
     },
     "metadata": {},
     "output_type": "display_data"
    }
   ],
   "source": [
    "summary(fit_or)\n",
    "anova(fit_or)"
   ]
  },
  {
   "cell_type": "code",
   "execution_count": 7,
   "metadata": {},
   "outputs": [
    {
     "data": {
      "text/plain": [
       "\n",
       "Call:\n",
       "lm(formula = Time ~ Case, data = df)\n",
       "\n",
       "Residuals:\n",
       "    Min      1Q  Median      3Q     Max \n",
       "-0.4405 -0.1582 -0.1018  0.1357  0.6111 \n",
       "\n",
       "Coefficients:\n",
       "             Estimate Std. Error t value Pr(>|t|)    \n",
       "(Intercept) -0.093756   0.143577  -0.653    0.525    \n",
       "Case         0.407107   0.008221  49.519  3.4e-16 ***\n",
       "---\n",
       "Signif. codes:  0 '***' 0.001 '**' 0.01 '*' 0.05 '.' 0.1 ' ' 1\n",
       "\n",
       "Residual standard error: 0.3051 on 13 degrees of freedom\n",
       "Multiple R-squared:  0.9947,\tAdjusted R-squared:  0.9943 \n",
       "F-statistic:  2452 on 1 and 13 DF,  p-value: 3.399e-16\n"
      ]
     },
     "metadata": {},
     "output_type": "display_data"
    },
    {
     "data": {
      "text/html": [
       "<table>\n",
       "<thead><tr><th></th><th scope=col>Df</th><th scope=col>Sum Sq</th><th scope=col>Mean Sq</th><th scope=col>F value</th><th scope=col>Pr(&gt;F)</th></tr></thead>\n",
       "<tbody>\n",
       "\t<tr><th scope=row>Case</th><td> 1          </td><td>228.317573  </td><td>228.31757324</td><td>2452.134    </td><td>3.398506e-16</td></tr>\n",
       "\t<tr><th scope=row>Residuals</th><td>13          </td><td>  1.210427  </td><td>  0.09310975</td><td>      NA    </td><td>          NA</td></tr>\n",
       "</tbody>\n",
       "</table>\n"
      ],
      "text/latex": [
       "\\begin{tabular}{r|lllll}\n",
       "  & Df & Sum Sq & Mean Sq & F value & Pr(>F)\\\\\n",
       "\\hline\n",
       "\tCase &  1           & 228.317573   & 228.31757324 & 2452.134     & 3.398506e-16\\\\\n",
       "\tResiduals & 13           &   1.210427   &   0.09310975 &       NA     &           NA\\\\\n",
       "\\end{tabular}\n"
      ],
      "text/markdown": [
       "\n",
       "| <!--/--> | Df | Sum Sq | Mean Sq | F value | Pr(>F) | \n",
       "|---|---|\n",
       "| Case |  1           | 228.317573   | 228.31757324 | 2452.134     | 3.398506e-16 | \n",
       "| Residuals | 13           |   1.210427   |   0.09310975 |       NA     |           NA | \n",
       "\n",
       "\n"
      ],
      "text/plain": [
       "          Df Sum Sq     Mean Sq      F value  Pr(>F)      \n",
       "Case       1 228.317573 228.31757324 2452.134 3.398506e-16\n",
       "Residuals 13   1.210427   0.09310975       NA           NA"
      ]
     },
     "metadata": {},
     "output_type": "display_data"
    }
   ],
   "source": [
    "summary(fit)\n",
    "anova(fit)"
   ]
  },
  {
   "cell_type": "markdown",
   "metadata": {},
   "source": [
    "B0이 유의하지 않음 => constant가 없는 모형이 더 적합<br>\n",
    "MSres가 intercept 없을 때는 0.089로 있을 때 보다 낮지만, R^2는 더 낮은 것으로 보아 R^2가 비교의 척도 될수 없음"
   ]
  },
  {
   "cell_type": "markdown",
   "metadata": {},
   "source": [
    "# <b>Hypothesis Testing <br></b>"
   ]
  },
  {
   "cell_type": "code",
   "execution_count": 12,
   "metadata": {},
   "outputs": [],
   "source": [
    "df<-read.csv('./Rocket_Prop.csv')"
   ]
  },
  {
   "cell_type": "code",
   "execution_count": 13,
   "metadata": {},
   "outputs": [],
   "source": [
    "df<-df[,c(2,3)]\n",
    "colnames(df)<-c('Shear_length','Age_Propellant')"
   ]
  },
  {
   "cell_type": "markdown",
   "metadata": {},
   "source": [
    "shear length가 age of propellant와 관련 있을까?"
   ]
  },
  {
   "cell_type": "code",
   "execution_count": 15,
   "metadata": {},
   "outputs": [
    {
     "data": {
      "image/png": "[encoded data removed]",
      "text/plain": [
       "plot without title"
      ]
     },
     "metadata": {},
     "output_type": "display_data"
    }
   ],
   "source": [
    "plot(df[,'Age_Propellant'],df[,'Shear_length'] )"
   ]
  },
  {
   "cell_type": "code",
   "execution_count": 16,
   "metadata": {},
   "outputs": [],
   "source": [
    "fit<-lm(Shear_length~Age_Propellant,data=df)"
   ]
  },
  {
   "cell_type": "code",
   "execution_count": 18,
   "metadata": {},
   "outputs": [
    {
     "data": {
      "text/plain": [
       "\n",
       "Call:\n",
       "lm(formula = Shear_length ~ Age_Propellant, data = df)\n",
       "\n",
       "Residuals:\n",
       "    Min      1Q  Median      3Q     Max \n",
       "-215.98  -50.68   28.74   66.61  106.76 \n",
       "\n",
       "Coefficients:\n",
       "               Estimate Std. Error t value Pr(>|t|)    \n",
       "(Intercept)    2627.822     44.184   59.48  < 2e-16 ***\n",
       "Age_Propellant  -37.154      2.889  -12.86 1.64e-10 ***\n",
       "---\n",
       "Signif. codes:  0 '***' 0.001 '**' 0.01 '*' 0.05 '.' 0.1 ' ' 1\n",
       "\n",
       "Residual standard error: 96.11 on 18 degrees of freedom\n",
       "Multiple R-squared:  0.9018,\tAdjusted R-squared:  0.8964 \n",
       "F-statistic: 165.4 on 1 and 18 DF,  p-value: 1.643e-10\n"
      ]
     },
     "metadata": {},
     "output_type": "display_data"
    },
    {
     "data": {
      "text/html": [
       "2.10092204024104"
      ],
      "text/latex": [
       "2.10092204024104"
      ],
      "text/markdown": [
       "2.10092204024104"
      ],
      "text/plain": [
       "[1] 2.100922"
      ]
     },
     "metadata": {},
     "output_type": "display_data"
    }
   ],
   "source": [
    "summary(fit)\n",
    "qt(0.975,18) # t-test"
   ]
  },
  {
   "cell_type": "markdown",
   "metadata": {},
   "source": [
    "slope: -37.154 ::: age of proplellant 때문에 propllant shear length가 평균적으로 감소하는 정도<br>\n",
    "t value: 59.48 ::: reject H0 (H0: beta=0 )<br>\n",
    "p-value : 1.643e-10 :::: there is strong evidence that strength is lineary related to the age of the propellant"
   ]
  },
  {
   "cell_type": "code",
   "execution_count": 19,
   "metadata": {},
   "outputs": [
    {
     "data": {
      "text/html": [
       "<table>\n",
       "<thead><tr><th></th><th scope=col>Df</th><th scope=col>Sum Sq</th><th scope=col>Mean Sq</th><th scope=col>F value</th><th scope=col>Pr(&gt;F)</th></tr></thead>\n",
       "<tbody>\n",
       "\t<tr><th scope=row>Age_Propellant</th><td> 1          </td><td>1527482.7   </td><td>1527482.743 </td><td>165.3768    </td><td>1.643344e-10</td></tr>\n",
       "\t<tr><th scope=row>Residuals</th><td>18          </td><td> 166254.9   </td><td>   9236.381 </td><td>      NA    </td><td>          NA</td></tr>\n",
       "</tbody>\n",
       "</table>\n"
      ],
      "text/latex": [
       "\\begin{tabular}{r|lllll}\n",
       "  & Df & Sum Sq & Mean Sq & F value & Pr(>F)\\\\\n",
       "\\hline\n",
       "\tAge\\_Propellant &  1           & 1527482.7    & 1527482.743  & 165.3768     & 1.643344e-10\\\\\n",
       "\tResiduals & 18           &  166254.9    &    9236.381  &       NA     &           NA\\\\\n",
       "\\end{tabular}\n"
      ],
      "text/markdown": [
       "\n",
       "| <!--/--> | Df | Sum Sq | Mean Sq | F value | Pr(>F) | \n",
       "|---|---|\n",
       "| Age_Propellant |  1           | 1527482.7    | 1527482.743  | 165.3768     | 1.643344e-10 | \n",
       "| Residuals | 18           |  166254.9    |    9236.381  |       NA     |           NA | \n",
       "\n",
       "\n"
      ],
      "text/plain": [
       "               Df Sum Sq    Mean Sq     F value  Pr(>F)      \n",
       "Age_Propellant  1 1527482.7 1527482.743 165.3768 1.643344e-10\n",
       "Residuals      18  166254.9    9236.381       NA           NA"
      ]
     },
     "metadata": {},
     "output_type": "display_data"
    }
   ],
   "source": [
    "anova(fit) #F-test"
   ]
  },
  {
   "cell_type": "markdown",
   "metadata": {},
   "source": [
    "F0:165.3768 (t0의 제곱, 하지만 t와 달리 단측 검정에만 사용) ::: reject H0"
   ]
  },
  {
   "cell_type": "markdown",
   "metadata": {},
   "source": [
    "<b>CI for Coefficient <br></b>"
   ]
  },
  {
   "cell_type": "code",
   "execution_count": 20,
   "metadata": {},
   "outputs": [
    {
     "data": {
      "text/html": [
       "<table>\n",
       "<thead><tr><th></th><th scope=col>2.5 %</th><th scope=col>97.5 %</th></tr></thead>\n",
       "<tbody>\n",
       "\t<tr><th scope=row>(Intercept)</th><td>2534.99540</td><td>2720.6493 </td></tr>\n",
       "\t<tr><th scope=row>Age_Propellant</th><td> -43.22338</td><td> -31.0838 </td></tr>\n",
       "</tbody>\n",
       "</table>\n"
      ],
      "text/latex": [
       "\\begin{tabular}{r|ll}\n",
       "  & 2.5 \\% & 97.5 \\%\\\\\n",
       "\\hline\n",
       "\t(Intercept) & 2534.99540 & 2720.6493 \\\\\n",
       "\tAge\\_Propellant &  -43.22338 &  -31.0838 \\\\\n",
       "\\end{tabular}\n"
      ],
      "text/markdown": [
       "\n",
       "| <!--/--> | 2.5 % | 97.5 % | \n",
       "|---|---|\n",
       "| (Intercept) | 2534.99540 | 2720.6493  | \n",
       "| Age_Propellant |  -43.22338 |  -31.0838  | \n",
       "\n",
       "\n"
      ],
      "text/plain": [
       "               2.5 %      97.5 %   \n",
       "(Intercept)    2534.99540 2720.6493\n",
       "Age_Propellant  -43.22338  -31.0838"
      ]
     },
     "metadata": {},
     "output_type": "display_data"
    }
   ],
   "source": [
    "confint(fit)"
   ]
  },
  {
   "cell_type": "code",
   "execution_count": 21,
   "metadata": {},
   "outputs": [
    {
     "data": {
      "text/html": [
       "96.1060924381029"
      ],
      "text/latex": [
       "96.1060924381029"
      ],
      "text/markdown": [
       "96.1060924381029"
      ],
      "text/plain": [
       "[1] 96.10609"
      ]
     },
     "metadata": {},
     "output_type": "display_data"
    },
    {
     "data": {
      "text/html": [
       "<dl class=dl-horizontal>\n",
       "\t<dt>lower</dt>\n",
       "\t\t<dd>5273.51590292406</dd>\n",
       "\t<dt>upper</dt>\n",
       "\t\t<dd>20199.2448962759</dd>\n",
       "</dl>\n"
      ],
      "text/latex": [
       "\\begin{description*}\n",
       "\\item[lower] 5273.51590292406\n",
       "\\item[upper] 20199.2448962759\n",
       "\\end{description*}\n"
      ],
      "text/markdown": [
       "lower\n",
       ":   5273.51590292406upper\n",
       ":   20199.2448962759\n",
       "\n"
      ],
      "text/plain": [
       "    lower     upper \n",
       " 5273.516 20199.245 "
      ]
     },
     "metadata": {},
     "output_type": "display_data"
    }
   ],
   "source": [
    "sigma <- sigma(fit) \n",
    "sigma\n",
    "\n",
    "n <- dim(df)[1]\n",
    "k <- dim(df)[2]-1\n",
    "alpha <- 0.05\n",
    "\n",
    "lower <-  ((n-(k+1))*(sigma^2) )/( qchisq(alpha/2, df = n-(k+1), lower.tail = FALSE) )\n",
    "upper <- ((n-(k+1))*(sigma^2 ) )/qchisq(1-alpha/2, df = n-(k+1), lower.tail = FALSE)\n",
    "confint.sigma <- c(lower, upper)\n",
    "names(confint.sigma) <- c(\"lower\", \"upper\")\n",
    "confint.sigma"
   ]
  },
  {
   "cell_type": "markdown",
   "metadata": {},
   "source": [
    "<b>CI for Mean response <br></b>"
   ]
  },
  {
   "cell_type": "code",
   "execution_count": 22,
   "metadata": {},
   "outputs": [
    {
     "data": {
      "text/html": [
       "<table>\n",
       "<thead><tr><th></th><th scope=col>fit</th><th scope=col>lwr</th><th scope=col>upr</th></tr></thead>\n",
       "<tbody>\n",
       "\t<tr><th scope=row>1</th><td>2131.357</td><td>2086.209</td><td>2176.506</td></tr>\n",
       "</tbody>\n",
       "</table>\n"
      ],
      "text/latex": [
       "\\begin{tabular}{r|lll}\n",
       "  & fit & lwr & upr\\\\\n",
       "\\hline\n",
       "\t1 & 2131.357 & 2086.209 & 2176.506\\\\\n",
       "\\end{tabular}\n"
      ],
      "text/markdown": [
       "\n",
       "| <!--/--> | fit | lwr | upr | \n",
       "|---|\n",
       "| 1 | 2131.357 | 2086.209 | 2176.506 | \n",
       "\n",
       "\n"
      ],
      "text/plain": [
       "  fit      lwr      upr     \n",
       "1 2131.357 2086.209 2176.506"
      ]
     },
     "metadata": {},
     "output_type": "display_data"
    }
   ],
   "source": [
    "x_0<-mean(df[,2])\n",
    "mean_response <- predict(fit, newdata=data.frame(Age_Propellant=x_0), interval=\"confidence\", level=0.95)\n",
    "mean_response "
   ]
  },
  {
   "cell_type": "markdown",
   "metadata": {},
   "source": [
    "x_0와 x의 평균과의 거리가 멀어질 수록 CI가 증가한다 -> Extrapolation의 위험성"
   ]
  },
  {
   "cell_type": "markdown",
   "metadata": {},
   "source": [
    "<b>PI <br></b>"
   ]
  },
  {
   "cell_type": "code",
   "execution_count": 23,
   "metadata": {},
   "outputs": [
    {
     "data": {
      "text/html": [
       "<table>\n",
       "<thead><tr><th></th><th scope=col>fit</th><th scope=col>lwr</th><th scope=col>upr</th></tr></thead>\n",
       "<tbody>\n",
       "\t<tr><th scope=row>1</th><td>2131.357</td><td>1924.46 </td><td>2338.255</td></tr>\n",
       "</tbody>\n",
       "</table>\n"
      ],
      "text/latex": [
       "\\begin{tabular}{r|lll}\n",
       "  & fit & lwr & upr\\\\\n",
       "\\hline\n",
       "\t1 & 2131.357 & 1924.46  & 2338.255\\\\\n",
       "\\end{tabular}\n"
      ],
      "text/markdown": [
       "\n",
       "| <!--/--> | fit | lwr | upr | \n",
       "|---|\n",
       "| 1 | 2131.357 | 1924.46  | 2338.255 | \n",
       "\n",
       "\n"
      ],
      "text/plain": [
       "  fit      lwr     upr     \n",
       "1 2131.357 1924.46 2338.255"
      ]
     },
     "metadata": {},
     "output_type": "display_data"
    }
   ],
   "source": [
    "pred <- predict(fit, newdata=data.frame(Age_Propellant=x_0), level=0.95, interval = 'prediction')\n",
    "pred"
   ]
  },
  {
   "cell_type": "markdown",
   "metadata": {},
   "source": [
    "PI가 CI보다 넓어짐<br>\n",
    "x_0값을 가진 새로운 propellant는 길이가 1924에서 2338일 것으로 예상 됨"
   ]
  },
  {
   "cell_type": "code",
   "execution_count": 24,
   "metadata": {},
   "outputs": [
    {
     "data": {
      "text/html": [
       "0.901841431676304"
      ],
      "text/latex": [
       "0.901841431676304"
      ],
      "text/markdown": [
       "0.901841431676304"
      ],
      "text/plain": [
       "[1] 0.9018414"
      ]
     },
     "metadata": {},
     "output_type": "display_data"
    }
   ],
   "source": [
    "summary(fit)$r.squared "
   ]
  },
  {
   "cell_type": "markdown",
   "metadata": {},
   "source": [
    "shear length의 변동성의 90.18%가 회귀 모형에 의해 설명 됨<br>\n",
    "1.R^2은 변수를 추가할 수록 높아짐<br>\n",
    "2.R^2가 높다고 더 좋은 모형이 아니기 때문에 모형 간의 비교에 사용 못함 <br>\n",
    "3.regressor의 range에 영향 받음 (x의 범위가 커질 수록 R^2 커짐)<br>\n",
    "4.모형의 적합성을 설명 못함 (비선형적으로 관계 있어도 R^2 커짐)"
   ]
  },
  {
   "cell_type": "markdown",
   "metadata": {},
   "source": [
    "[주의사항]<br>\n",
    "1.회귀모형은 주로 interpolation을 위해 사용 <br>\n",
    "2.회귀계수는 먼 x값에 의해 영향을 받음 <br>\n",
    "3.outlier는 나머지 데이터와 매우 다른 데이터 ::: 나쁜 값일 수도 있고 매우 중요한 데이터일 수도 있음 <br>\n",
    "4.회귀 분석은 인과관계를 설명하는 것이 아니라 연관성을 말하는 것 (상관관계의 문제를 설명할 수 있을 뿐) <br>"
   ]
  },
  {
   "cell_type": "markdown",
   "metadata": {},
   "source": [
    "<b>Simultaneous C.I <br></b>\n",
    "Boneferoni: Scheffe 보다 신뢰 구간 짧지만 만들기 쉬움"
   ]
  },
  {
   "cell_type": "code",
   "execution_count": 25,
   "metadata": {},
   "outputs": [
    {
     "data": {
      "text/html": [
       "<table>\n",
       "<thead><tr><th></th><th scope=col>1.25 %</th><th scope=col>98.75 %</th></tr></thead>\n",
       "<tbody>\n",
       "\t<tr><th scope=row>(Intercept)</th><td>2519.79245</td><td>2735.85227</td></tr>\n",
       "\t<tr><th scope=row>Age_Propellant</th><td> -44.21747</td><td> -30.08971</td></tr>\n",
       "</tbody>\n",
       "</table>\n"
      ],
      "text/latex": [
       "\\begin{tabular}{r|ll}\n",
       "  & 1.25 \\% & 98.75 \\%\\\\\n",
       "\\hline\n",
       "\t(Intercept) & 2519.79245 & 2735.85227\\\\\n",
       "\tAge\\_Propellant &  -44.21747 &  -30.08971\\\\\n",
       "\\end{tabular}\n"
      ],
      "text/markdown": [
       "\n",
       "| <!--/--> | 1.25 % | 98.75 % | \n",
       "|---|---|\n",
       "| (Intercept) | 2519.79245 | 2735.85227 | \n",
       "| Age_Propellant |  -44.21747 |  -30.08971 | \n",
       "\n",
       "\n"
      ],
      "text/plain": [
       "               1.25 %     98.75 %   \n",
       "(Intercept)    2519.79245 2735.85227\n",
       "Age_Propellant  -44.21747  -30.08971"
      ]
     },
     "metadata": {},
     "output_type": "display_data"
    }
   ],
   "source": [
    "a=0.05\n",
    "confint(fit, level = (1-a/2))"
   ]
  },
  {
   "cell_type": "markdown",
   "metadata": {},
   "source": [
    "90% confidence로 두 파라미터에 대해 옳바른 추정을 함"
   ]
  },
  {
   "cell_type": "markdown",
   "metadata": {},
   "source": [
    "<b>Simple Residual Analysis <br></b>"
   ]
  },
  {
   "cell_type": "code",
   "execution_count": 26,
   "metadata": {},
   "outputs": [
    {
     "data": {
      "text/html": [
       "<dl class=dl-horizontal>\n",
       "\t<dt>1</dt>\n",
       "\t\t<dd>106.758300644735</dd>\n",
       "\t<dt>2</dt>\n",
       "\t\t<dd>-67.2745740597969</dd>\n",
       "\t<dt>3</dt>\n",
       "\t\t<dd>-14.5936314420544</dd>\n",
       "\t<dt>4</dt>\n",
       "\t\t<dd>65.088687062093</dd>\n",
       "\t<dt>5</dt>\n",
       "\t\t<dd>-215.977608804317</dd>\n",
       "\t<dt>6</dt>\n",
       "\t\t<dd>-213.604131048097</dd>\n",
       "\t<dt>7</dt>\n",
       "\t\t<dd>48.5638236764295</dd>\n",
       "\t<dt>8</dt>\n",
       "\t\t<dd>40.0616183609668</dd>\n",
       "\t<dt>9</dt>\n",
       "\t\t<dd>8.72957308549314</dd>\n",
       "\t<dt>10</dt>\n",
       "\t\t<dd>37.5671413926612</dd>\n",
       "\t<dt>11</dt>\n",
       "\t\t<dd>20.3743232824717</dd>\n",
       "\t<dt>12</dt>\n",
       "\t\t<dd>-88.9463929579014</dd>\n",
       "\t<dt>13</dt>\n",
       "\t\t<dd>80.8174146213346</dd>\n",
       "\t<dt>14</dt>\n",
       "\t\t<dd>71.1751527115298</dd>\n",
       "\t<dt>15</dt>\n",
       "\t\t<dd>-45.143358213381</dd>\n",
       "\t<dt>16</dt>\n",
       "\t\t<dd>94.442278006998</dd>\n",
       "\t<dt>17</dt>\n",
       "\t\t<dd>9.49918666813527</dd>\n",
       "\t<dt>18</dt>\n",
       "\t\t<dd>37.0975278100192</dd>\n",
       "\t<dt>19</dt>\n",
       "\t\t<dd>100.684822888514</dd>\n",
       "\t<dt>20</dt>\n",
       "\t\t<dd>-75.3201536858336</dd>\n",
       "</dl>\n"
      ],
      "text/latex": [
       "\\begin{description*}\n",
       "\\item[1] 106.758300644735\n",
       "\\item[2] -67.2745740597969\n",
       "\\item[3] -14.5936314420544\n",
       "\\item[4] 65.088687062093\n",
       "\\item[5] -215.977608804317\n",
       "\\item[6] -213.604131048097\n",
       "\\item[7] 48.5638236764295\n",
       "\\item[8] 40.0616183609668\n",
       "\\item[9] 8.72957308549314\n",
       "\\item[10] 37.5671413926612\n",
       "\\item[11] 20.3743232824717\n",
       "\\item[12] -88.9463929579014\n",
       "\\item[13] 80.8174146213346\n",
       "\\item[14] 71.1751527115298\n",
       "\\item[15] -45.143358213381\n",
       "\\item[16] 94.442278006998\n",
       "\\item[17] 9.49918666813527\n",
       "\\item[18] 37.0975278100192\n",
       "\\item[19] 100.684822888514\n",
       "\\item[20] -75.3201536858336\n",
       "\\end{description*}\n"
      ],
      "text/markdown": [
       "1\n",
       ":   106.7583006447352\n",
       ":   -67.27457405979693\n",
       ":   -14.59363144205444\n",
       ":   65.0886870620935\n",
       ":   -215.9776088043176\n",
       ":   -213.6041310480977\n",
       ":   48.56382367642958\n",
       ":   40.06161836096689\n",
       ":   8.7295730854931410\n",
       ":   37.567141392661211\n",
       ":   20.374323282471712\n",
       ":   -88.946392957901413\n",
       ":   80.817414621334614\n",
       ":   71.175152711529815\n",
       ":   -45.14335821338116\n",
       ":   94.44227800699817\n",
       ":   9.4991866681352718\n",
       ":   37.097527810019219\n",
       ":   100.68482288851420\n",
       ":   -75.3201536858336\n",
       "\n"
      ],
      "text/plain": [
       "          1           2           3           4           5           6 \n",
       " 106.758301  -67.274574  -14.593631   65.088687 -215.977609 -213.604131 \n",
       "          7           8           9          10          11          12 \n",
       "  48.563824   40.061618    8.729573   37.567141   20.374323  -88.946393 \n",
       "         13          14          15          16          17          18 \n",
       "  80.817415   71.175153  -45.143358   94.442278    9.499187   37.097528 \n",
       "         19          20 \n",
       " 100.684823  -75.320154 "
      ]
     },
     "metadata": {},
     "output_type": "display_data"
    }
   ],
   "source": [
    "resid(fit)"
   ]
  },
  {
   "cell_type": "markdown",
   "metadata": {},
   "source": [
    "5,6번이 outlier 가능성"
   ]
  },
  {
   "cell_type": "code",
   "execution_count": 27,
   "metadata": {},
   "outputs": [
    {
     "data": {
      "image/png": "[encoded data removed]",
      "text/plain": [
       "Plot with title \"\""
      ]
     },
     "metadata": {},
     "output_type": "display_data"
    }
   ],
   "source": [
    "par(mfrow=c(2,2))\n",
    "plot(fit)"
   ]
  },
  {
   "cell_type": "code",
   "execution_count": 28,
   "metadata": {},
   "outputs": [
    {
     "data": {
      "text/plain": [
       "\n",
       "Call:\n",
       "lm(formula = Shear_length ~ Age_Propellant, data = df)\n",
       "\n",
       "Residuals:\n",
       "    Min      1Q  Median      3Q     Max \n",
       "-215.98  -50.68   28.74   66.61  106.76 \n",
       "\n",
       "Coefficients:\n",
       "               Estimate Std. Error t value Pr(>|t|)    \n",
       "(Intercept)    2627.822     44.184   59.48  < 2e-16 ***\n",
       "Age_Propellant  -37.154      2.889  -12.86 1.64e-10 ***\n",
       "---\n",
       "Signif. codes:  0 '***' 0.001 '**' 0.01 '*' 0.05 '.' 0.1 ' ' 1\n",
       "\n",
       "Residual standard error: 96.11 on 18 degrees of freedom\n",
       "Multiple R-squared:  0.9018,\tAdjusted R-squared:  0.8964 \n",
       "F-statistic: 165.4 on 1 and 18 DF,  p-value: 1.643e-10\n"
      ]
     },
     "metadata": {},
     "output_type": "display_data"
    },
    {
     "data": {
      "text/plain": [
       "\n",
       "Call:\n",
       "lm(formula = Shear_length ~ Age_Propellant, data = df[-c(5, 6), \n",
       "    ])\n",
       "\n",
       "Residuals:\n",
       "    Min      1Q  Median      3Q     Max \n",
       "-118.07  -35.67   11.31   44.75   83.98 \n",
       "\n",
       "Coefficients:\n",
       "               Estimate Std. Error t value Pr(>|t|)    \n",
       "(Intercept)    2658.973     30.533   87.08  < 2e-16 ***\n",
       "Age_Propellant  -37.694      1.979  -19.05 2.02e-12 ***\n",
       "---\n",
       "Signif. codes:  0 '***' 0.001 '**' 0.01 '*' 0.05 '.' 0.1 ' ' 1\n",
       "\n",
       "Residual standard error: 62.97 on 16 degrees of freedom\n",
       "Multiple R-squared:  0.9578,\tAdjusted R-squared:  0.9551 \n",
       "F-statistic: 362.9 on 1 and 16 DF,  p-value: 2.023e-12\n"
      ]
     },
     "metadata": {},
     "output_type": "display_data"
    }
   ],
   "source": [
    "summary(fit)\n",
    "summary(lm(Shear_length~Age_Propellant,data=df[-c(5,6),]))"
   ]
  },
  {
   "cell_type": "markdown",
   "metadata": {},
   "source": [
    "5,6번 제거 후 MS_res 5000 이상이나 감소했지만 회귀 계수는 거의 변화 없음->influential point 아님<br>\n",
    "만약 진짜 나쁜 값이 었다면 제거 후 파라미터 추정 값의 정확성 향상 되거나, CI, PI 길이 줄어 들었어야 됨"
   ]
  },
  {
   "cell_type": "code",
   "execution_count": null,
   "metadata": {},
   "outputs": [],
   "source": []
  }
 ],
 "metadata": {
  "kernelspec": {
   "display_name": "R",
   "language": "R",
   "name": "ir"
  },
  "language_info": {
   "codemirror_mode": "r",
   "file_extension": ".r",
   "mimetype": "text/x-r-source",
   "name": "R",
   "pygments_lexer": "r",
   "version": "3.5.1"
  }
 },
 "nbformat": 4,
 "nbformat_minor": 2
}
