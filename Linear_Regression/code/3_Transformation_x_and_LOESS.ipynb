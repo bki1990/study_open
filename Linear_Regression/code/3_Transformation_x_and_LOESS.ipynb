{
 "cells": [
  {
   "cell_type": "code",
   "execution_count": 1,
   "metadata": {},
   "outputs": [],
   "source": [
    "setwd('C:/Users/bki19/OneDrive/deskto/Linear_Regression/data')"
   ]
  },
  {
   "cell_type": "code",
   "execution_count": 2,
   "metadata": {},
   "outputs": [],
   "source": [
    "df<-read.csv('./Windmill.csv')"
   ]
  },
  {
   "cell_type": "code",
   "execution_count": 3,
   "metadata": {},
   "outputs": [],
   "source": [
    "colnames(df)<-c('Velocity','Output')"
   ]
  },
  {
   "cell_type": "code",
   "execution_count": 4,
   "metadata": {},
   "outputs": [
    {
     "data": {
      "image/png": "[encoded data removed]",
      "text/plain": [
       "plot without title"
      ]
     },
     "metadata": {},
     "output_type": "display_data"
    }
   ],
   "source": [
    "plot(df)"
   ]
  },
  {
   "cell_type": "markdown",
   "metadata": {},
   "source": [
    "Plot 봤을 때 nonlinear 가능성"
   ]
  },
  {
   "cell_type": "code",
   "execution_count": 5,
   "metadata": {},
   "outputs": [],
   "source": [
    "fit<-lm(Output~Velocity,data=df)"
   ]
  },
  {
   "cell_type": "code",
   "execution_count": 6,
   "metadata": {},
   "outputs": [
    {
     "data": {
      "text/plain": [
       "\n",
       "Call:\n",
       "lm(formula = Output ~ Velocity, data = df)\n",
       "\n",
       "Residuals:\n",
       "     Min       1Q   Median       3Q      Max \n",
       "-0.59869 -0.14099  0.06059  0.17262  0.32184 \n",
       "\n",
       "Coefficients:\n",
       "            Estimate Std. Error t value Pr(>|t|)    \n",
       "(Intercept)  0.13088    0.12599   1.039     0.31    \n",
       "Velocity     0.24115    0.01905  12.659 7.55e-12 ***\n",
       "---\n",
       "Signif. codes:  0 '***' 0.001 '**' 0.01 '*' 0.05 '.' 0.1 ' ' 1\n",
       "\n",
       "Residual standard error: 0.2361 on 23 degrees of freedom\n",
       "Multiple R-squared:  0.8745,\tAdjusted R-squared:  0.869 \n",
       "F-statistic: 160.3 on 1 and 23 DF,  p-value: 7.546e-12\n"
      ]
     },
     "metadata": {},
     "output_type": "display_data"
    }
   ],
   "source": [
    "summary(fit)"
   ]
  },
  {
   "cell_type": "code",
   "execution_count": 7,
   "metadata": {},
   "outputs": [
    {
     "data": {
      "image/png": "[encoded data removed]",
      "text/plain": [
       "plot without title"
      ]
     },
     "metadata": {},
     "output_type": "display_data"
    }
   ],
   "source": [
    "plot(fitted(fit),resid(fit))"
   ]
  },
  {
   "cell_type": "markdown",
   "metadata": {},
   "source": [
    "residual plot 봤을 떄 활 모양으로 nonlinear<br>\n",
    "quadratic term 추가 고려<br>\n",
    "하지만 풍속이 중가할 수록 방앗간 생산량이 증가하다가 감소한다는 점에서 (1/ x) transformation"
   ]
  },
  {
   "cell_type": "code",
   "execution_count": 8,
   "metadata": {},
   "outputs": [],
   "source": [
    "df2<-df"
   ]
  },
  {
   "cell_type": "code",
   "execution_count": 9,
   "metadata": {},
   "outputs": [],
   "source": [
    "df2$Velocity<- (1/df$Velocity)"
   ]
  },
  {
   "cell_type": "code",
   "execution_count": 10,
   "metadata": {},
   "outputs": [],
   "source": [
    "fit2<-lm(Output~ Velocity,data=df2)"
   ]
  },
  {
   "cell_type": "code",
   "execution_count": 11,
   "metadata": {},
   "outputs": [
    {
     "data": {
      "text/plain": [
       "\n",
       "Call:\n",
       "lm(formula = Output ~ Velocity, data = df2)\n",
       "\n",
       "Residuals:\n",
       "     Min       1Q   Median       3Q      Max \n",
       "-0.20547 -0.04940  0.01100  0.08352  0.12204 \n",
       "\n",
       "Coefficients:\n",
       "            Estimate Std. Error t value Pr(>|t|)    \n",
       "(Intercept)   2.9789     0.0449   66.34   <2e-16 ***\n",
       "Velocity     -6.9345     0.2064  -33.59   <2e-16 ***\n",
       "---\n",
       "Signif. codes:  0 '***' 0.001 '**' 0.01 '*' 0.05 '.' 0.1 ' ' 1\n",
       "\n",
       "Residual standard error: 0.09417 on 23 degrees of freedom\n",
       "Multiple R-squared:   0.98,\tAdjusted R-squared:  0.9792 \n",
       "F-statistic:  1128 on 1 and 23 DF,  p-value: < 2.2e-16\n"
      ]
     },
     "metadata": {},
     "output_type": "display_data"
    }
   ],
   "source": [
    "summary(fit2)"
   ]
  },
  {
   "cell_type": "code",
   "execution_count": 12,
   "metadata": {},
   "outputs": [
    {
     "data": {
      "image/png": "[encoded data removed]",
      "text/plain": [
       "plot without title"
      ]
     },
     "metadata": {},
     "output_type": "display_data"
    }
   ],
   "source": [
    "par(mfrow=c(1,2))\n",
    "plot(df2)\n",
    "plot(fitted(fit2),rstudent(fit2))"
   ]
  },
  {
   "cell_type": "markdown",
   "metadata": {},
   "source": [
    "residual plot을 봤을 때 ienquality of varaince 문제 없어 보임<br>\n",
    "따라서 transformed model이 적합"
   ]
  },
  {
   "cell_type": "markdown",
   "metadata": {},
   "source": [
    "<b>Box Tidwell Procedure <br></b>"
   ]
  },
  {
   "cell_type": "code",
   "execution_count": 14,
   "metadata": {},
   "outputs": [],
   "source": [
    "alpha=1\n",
    "df3<-df\n",
    "df3$w<- df$Velocity*log(df$Velocity)"
   ]
  },
  {
   "cell_type": "code",
   "execution_count": 15,
   "metadata": {},
   "outputs": [],
   "source": [
    "fit3<-lm(Output~Velocity+w,data=df3)"
   ]
  },
  {
   "cell_type": "code",
   "execution_count": 16,
   "metadata": {},
   "outputs": [
    {
     "data": {
      "text/plain": [
       "\n",
       "Call:\n",
       "lm(formula = Output ~ Velocity + w, data = df3)\n",
       "\n",
       "Residuals:\n",
       "      Min        1Q    Median        3Q       Max \n",
       "-0.223004 -0.029442  0.009955  0.048323  0.181553 \n",
       "\n",
       "Coefficients:\n",
       "            Estimate Std. Error t value Pr(>|t|)    \n",
       "(Intercept) -2.41684    0.28512  -8.477 2.23e-08 ***\n",
       "Velocity     1.53443    0.14189  10.814 2.85e-10 ***\n",
       "w           -0.46260    0.05065  -9.132 6.13e-09 ***\n",
       "---\n",
       "Signif. codes:  0 '***' 0.001 '**' 0.01 '*' 0.05 '.' 0.1 ' ' 1\n",
       "\n",
       "Residual standard error: 0.1103 on 22 degrees of freedom\n",
       "Multiple R-squared:  0.9738,\tAdjusted R-squared:  0.9714 \n",
       "F-statistic: 408.9 on 2 and 22 DF,  p-value: < 2.2e-16\n"
      ]
     },
     "metadata": {},
     "output_type": "display_data"
    }
   ],
   "source": [
    "summary(fit3)"
   ]
  },
  {
   "cell_type": "code",
   "execution_count": 17,
   "metadata": {},
   "outputs": [
    {
     "data": {
      "text/html": [
       "<dl class=dl-horizontal>\n",
       "\t<dt>(Intercept)</dt>\n",
       "\t\t<dd>-2.41684376227917</dd>\n",
       "\t<dt>Velocity</dt>\n",
       "\t\t<dd>1.53443486900747</dd>\n",
       "\t<dt>w</dt>\n",
       "\t\t<dd>-0.462596342407934</dd>\n",
       "</dl>\n"
      ],
      "text/latex": [
       "\\begin{description*}\n",
       "\\item[(Intercept)] -2.41684376227917\n",
       "\\item[Velocity] 1.53443486900747\n",
       "\\item[w] -0.462596342407934\n",
       "\\end{description*}\n"
      ],
      "text/markdown": [
       "(Intercept)\n",
       ":   -2.41684376227917Velocity\n",
       ":   1.53443486900747w\n",
       ":   -0.462596342407934\n",
       "\n"
      ],
      "text/plain": [
       "(Intercept)    Velocity           w \n",
       " -2.4168438   1.5344349  -0.4625963 "
      ]
     },
     "metadata": {},
     "output_type": "display_data"
    }
   ],
   "source": [
    "coef(fit3)"
   ]
  },
  {
   "cell_type": "code",
   "execution_count": 18,
   "metadata": {},
   "outputs": [
    {
     "data": {
      "text/html": [
       "<strong>w:</strong> -0.918301930884909"
      ],
      "text/latex": [
       "\\textbf{w:} -0.918301930884909"
      ],
      "text/markdown": [
       "**w:** -0.918301930884909"
      ],
      "text/plain": [
       "         w \n",
       "-0.9183019 "
      ]
     },
     "metadata": {},
     "output_type": "display_data"
    }
   ],
   "source": [
    "alpha1=alpha+coef(fit3)[3]/coef(fit)[2]\n",
    "alpha1"
   ]
  },
  {
   "cell_type": "markdown",
   "metadata": {},
   "source": [
    "alpha가 -1로 가가ㅃ게 됨<br>\n",
    "1/x transformation 정당화<br>\n",
    "이 과정 계속"
   ]
  },
  {
   "cell_type": "markdown",
   "metadata": {},
   "source": [
    "# Locally Weighted Regression (Loess)"
   ]
  },
  {
   "cell_type": "code",
   "execution_count": 19,
   "metadata": {},
   "outputs": [],
   "source": [
    "fit_loess<-loess(Output~Velocity,data=df)"
   ]
  },
  {
   "cell_type": "code",
   "execution_count": 20,
   "metadata": {},
   "outputs": [
    {
     "data": {
      "text/plain": [
       "Call:\n",
       "loess(formula = Output ~ Velocity, data = df)\n",
       "\n",
       "Number of Observations: 25 \n",
       "Equivalent Number of Parameters: 4.41 \n",
       "Residual Standard Error: 0.1017 \n",
       "Trace of smoother matrix: 4.84  (exact)\n",
       "\n",
       "Control settings:\n",
       "  span     :  0.75 \n",
       "  degree   :  2 \n",
       "  family   :  gaussian\n",
       "  surface  :  interpolate\t  cell = 0.2\n",
       "  normalize:  TRUE\n",
       " parametric:  FALSE\n",
       "drop.square:  FALSE "
      ]
     },
     "metadata": {},
     "output_type": "display_data"
    }
   ],
   "source": [
    "summary(fit_loess)"
   ]
  },
  {
   "cell_type": "code",
   "execution_count": 21,
   "metadata": {},
   "outputs": [
    {
     "data": {
      "image/png": "[encoded data removed]",
      "text/plain": [
       "Plot with title \"Normal Q-Q Plot\""
      ]
     },
     "metadata": {},
     "output_type": "display_data"
    }
   ],
   "source": [
    "par(mfrow=c(2,2))\n",
    "plot(fit_loess)\n",
    "plot( fit_loess$y, resid(fit_loess))\n",
    "qqnorm(resid(fit_loess))"
   ]
  },
  {
   "cell_type": "markdown",
   "metadata": {},
   "source": [
    "Normality 봤을 때 완벽하지는 않지만 심각한 문제는 없어 보임 <br>\n",
    "위의 LSE와 1/x transformation 보다 나아 보임<br>\n",
    "Parameter 수 : Cubic spline>LOESS>Polynomial>simple linear<br>\n",
    "Loess는 복잡성 떄문에 black box의 경향 있음"
   ]
  },
  {
   "cell_type": "code",
   "execution_count": null,
   "metadata": {},
   "outputs": [],
   "source": []
  }
 ],
 "metadata": {
  "kernelspec": {
   "display_name": "R",
   "language": "R",
   "name": "ir"
  },
  "language_info": {
   "codemirror_mode": "r",
   "file_extension": ".r",
   "mimetype": "text/x-r-source",
   "name": "R",
   "pygments_lexer": "r",
   "version": "3.5.1"
  }
 },
 "nbformat": 4,
 "nbformat_minor": 2
}
