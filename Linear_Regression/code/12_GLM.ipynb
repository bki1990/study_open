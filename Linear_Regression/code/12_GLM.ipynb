{
 "cells": [
  {
   "cell_type": "code",
   "execution_count": 1,
   "metadata": {},
   "outputs": [],
   "source": [
    "setwd('C:/Users/bki19/OneDrive/deskto/Linear_Regression/data')"
   ]
  },
  {
   "cell_type": "code",
   "execution_count": 2,
   "metadata": {},
   "outputs": [],
   "source": [
    "df<-read.csv('./Pneumoconiosis.csv')"
   ]
  },
  {
   "cell_type": "code",
   "execution_count": 3,
   "metadata": {},
   "outputs": [],
   "source": [
    "colnames(df)<-c('x1','x2','x3','y')"
   ]
  },
  {
   "cell_type": "markdown",
   "metadata": {},
   "source": [
    "y: 광부 중에 폐결핵 심각한 케이스의 비율<br>\n",
    "x: 노출 된 시간\n"
   ]
  },
  {
   "cell_type": "code",
   "execution_count": 4,
   "metadata": {},
   "outputs": [
    {
     "data": {
      "image/png": "[encoded data removed]",
      "text/plain": [
       "plot without title"
      ]
     },
     "metadata": {},
     "output_type": "display_data"
    }
   ],
   "source": [
    "plot(df)"
   ]
  },
  {
   "cell_type": "code",
   "execution_count": 5,
   "metadata": {},
   "outputs": [
    {
     "name": "stderr",
     "output_type": "stream",
     "text": [
      "Warning message in eval(family$initialize):\n",
      "\"non-integer #successes in a binomial glm!\""
     ]
    }
   ],
   "source": [
    "fit<-glm(y~x1,family=binomial(link='logit'),data=df)"
   ]
  },
  {
   "cell_type": "code",
   "execution_count": 6,
   "metadata": {},
   "outputs": [
    {
     "data": {
      "text/plain": [
       "\n",
       "Call:\n",
       "glm(formula = y ~ x1, family = binomial(link = \"logit\"), data = df)\n",
       "\n",
       "Deviance Residuals: \n",
       "     Min        1Q    Median        3Q       Max  \n",
       "-0.19099  -0.08502  -0.01350   0.02465   0.19211  \n",
       "\n",
       "Coefficients:\n",
       "            Estimate Std. Error z value Pr(>|z|)\n",
       "(Intercept) -4.48626    3.65483  -1.227    0.220\n",
       "x1           0.08468    0.08912   0.950    0.342\n",
       "\n",
       "(Dispersion parameter for binomial family taken to be 1)\n",
       "\n",
       "    Null deviance: 1.348836  on 7  degrees of freedom\n",
       "Residual deviance: 0.095221  on 6  degrees of freedom\n",
       "AIC: 7.5204\n",
       "\n",
       "Number of Fisher Scoring iterations: 6\n"
      ]
     },
     "metadata": {},
     "output_type": "display_data"
    }
   ],
   "source": [
    "summary(fit)"
   ]
  },
  {
   "cell_type": "markdown",
   "metadata": {},
   "source": [
    "odds ratio: exp(beta_hat)<br>\n",
    "predictor가 한 단위 증가했을 때 성공 확률의 증가 추정 "
   ]
  },
  {
   "cell_type": "code",
   "execution_count": 7,
   "metadata": {},
   "outputs": [
    {
     "data": {
      "text/html": [
       "<strong>x1:</strong> 1.08836647192586"
      ],
      "text/latex": [
       "\\textbf{x1:} 1.08836647192586"
      ],
      "text/markdown": [
       "**x1:** 1.08836647192586"
      ],
      "text/plain": [
       "      x1 \n",
       "1.088366 "
      ]
     },
     "metadata": {},
     "output_type": "display_data"
    },
    {
     "data": {
      "text/html": [
       "<strong>x1:</strong> 2.33212349862964"
      ],
      "text/latex": [
       "\\textbf{x1:} 2.33212349862964"
      ],
      "text/markdown": [
       "**x1:** 2.33212349862964"
      ],
      "text/plain": [
       "      x1 \n",
       "2.332123 "
      ]
     },
     "metadata": {},
     "output_type": "display_data"
    }
   ],
   "source": [
    "exp(coef(fit)[2])\n",
    "exp(coef(fit)[2]*10)"
   ]
  },
  {
   "cell_type": "markdown",
   "metadata": {},
   "source": [
    "노출된 년 수가 한 단위 증가할 때 폐결핵 심각한 케이스의 비율의 odds는 10센트 증가<br>\n",
    "10년 증가시 2배 이상 증가"
   ]
  },
  {
   "cell_type": "code",
   "execution_count": 8,
   "metadata": {},
   "outputs": [
    {
     "name": "stderr",
     "output_type": "stream",
     "text": [
      "Warning message in eval(family$initialize):\n",
      "\"non-integer #successes in a binomial glm!\""
     ]
    }
   ],
   "source": [
    "fit2<-glm(y~poly(x1,2),family=binomial(link='logit'),data=df)"
   ]
  },
  {
   "cell_type": "code",
   "execution_count": 9,
   "metadata": {},
   "outputs": [
    {
     "data": {
      "text/plain": [
       "\n",
       "Call:\n",
       "glm(formula = y ~ poly(x1, 2), family = binomial(link = \"logit\"), \n",
       "    data = df)\n",
       "\n",
       "Deviance Residuals: \n",
       "        1          2          3          4          5          6          7  \n",
       "-0.121315  -0.059587   0.035543   0.160785  -0.021389  -0.137092  -0.009697  \n",
       "        8  \n",
       " 0.052521  \n",
       "\n",
       "Coefficients:\n",
       "             Estimate Std. Error z value Pr(>|z|)\n",
       "(Intercept)   -2.0747     1.7011  -1.220    0.223\n",
       "poly(x1, 2)1   4.1407     6.0251   0.687    0.492\n",
       "poly(x1, 2)2  -0.7012     4.4473  -0.158    0.875\n",
       "\n",
       "(Dispersion parameter for binomial family taken to be 1)\n",
       "\n",
       "    Null deviance: 1.348836  on 7  degrees of freedom\n",
       "Residual deviance: 0.067487  on 5  degrees of freedom\n",
       "AIC: 9.4904\n",
       "\n",
       "Number of Fisher Scoring iterations: 7\n"
      ]
     },
     "metadata": {},
     "output_type": "display_data"
    }
   ],
   "source": [
    "summary(fit2)"
   ]
  },
  {
   "cell_type": "code",
   "execution_count": 10,
   "metadata": {},
   "outputs": [
    {
     "data": {
      "text/html": [
       "<strong>poly(x1, 2)1:</strong> 62.8474122291633"
      ],
      "text/latex": [
       "\\textbf{poly(x1, 2)1:} 62.8474122291633"
      ],
      "text/markdown": [
       "**poly(x1, 2)1:** 62.8474122291633"
      ],
      "text/plain": [
       "poly(x1, 2)1 \n",
       "    62.84741 "
      ]
     },
     "metadata": {},
     "output_type": "display_data"
    }
   ],
   "source": [
    "Beta_hat1<-fit2$coefficients\n",
    "exp(Beta_hat1[2])"
   ]
  },
  {
   "cell_type": "code",
   "execution_count": 11,
   "metadata": {},
   "outputs": [
    {
     "data": {
      "text/html": [
       "1.28134895168541"
      ],
      "text/latex": [
       "1.28134895168541"
      ],
      "text/markdown": [
       "1.28134895168541"
      ],
      "text/plain": [
       "[1] 1.281349"
      ]
     },
     "metadata": {},
     "output_type": "display_data"
    }
   ],
   "source": [
    "G2<-fit2$null.deviance-fit2$deviance\n",
    "G2"
   ]
  },
  {
   "cell_type": "code",
   "execution_count": 12,
   "metadata": {},
   "outputs": [
    {
     "data": {
      "text/html": [
       "0.257648371162265"
      ],
      "text/latex": [
       "0.257648371162265"
      ],
      "text/markdown": [
       "0.257648371162265"
      ],
      "text/plain": [
       "[1] 0.2576484"
      ]
     },
     "metadata": {},
     "output_type": "display_data"
    }
   ],
   "source": [
    "1-pchisq(G2,1)"
   ]
  },
  {
   "cell_type": "code",
   "execution_count": 13,
   "metadata": {},
   "outputs": [
    {
     "data": {
      "text/html": [
       "<table>\n",
       "<thead><tr><th></th><th scope=col>Df</th><th scope=col>Deviance</th><th scope=col>Resid. Df</th><th scope=col>Resid. Dev</th></tr></thead>\n",
       "<tbody>\n",
       "\t<tr><th scope=row>NULL</th><td>NA        </td><td>      NA  </td><td>7         </td><td>1.34883632</td></tr>\n",
       "\t<tr><th scope=row>poly(x1, 2)</th><td> 2        </td><td>1.281349  </td><td>5         </td><td>0.06748737</td></tr>\n",
       "</tbody>\n",
       "</table>\n"
      ],
      "text/latex": [
       "\\begin{tabular}{r|llll}\n",
       "  & Df & Deviance & Resid. Df & Resid. Dev\\\\\n",
       "\\hline\n",
       "\tNULL & NA         &       NA   & 7          & 1.34883632\\\\\n",
       "\tpoly(x1, 2) &  2         & 1.281349   & 5          & 0.06748737\\\\\n",
       "\\end{tabular}\n"
      ],
      "text/markdown": [
       "\n",
       "| <!--/--> | Df | Deviance | Resid. Df | Resid. Dev | \n",
       "|---|---|\n",
       "| NULL | NA         |       NA   | 7          | 1.34883632 | \n",
       "| poly(x1, 2) |  2         | 1.281349   | 5          | 0.06748737 | \n",
       "\n",
       "\n"
      ],
      "text/plain": [
       "            Df Deviance Resid. Df Resid. Dev\n",
       "NULL        NA       NA 7         1.34883632\n",
       "poly(x1, 2)  2 1.281349 5         0.06748737"
      ]
     },
     "metadata": {},
     "output_type": "display_data"
    }
   ],
   "source": [
    "anova(fit2)"
   ]
  },
  {
   "cell_type": "code",
   "execution_count": null,
   "metadata": {},
   "outputs": [],
   "source": []
  }
 ],
 "metadata": {
  "kernelspec": {
   "display_name": "R",
   "language": "R",
   "name": "ir"
  },
  "language_info": {
   "codemirror_mode": "r",
   "file_extension": ".r",
   "mimetype": "text/x-r-source",
   "name": "R",
   "pygments_lexer": "r",
   "version": "3.5.1"
  }
 },
 "nbformat": 4,
 "nbformat_minor": 2
}
