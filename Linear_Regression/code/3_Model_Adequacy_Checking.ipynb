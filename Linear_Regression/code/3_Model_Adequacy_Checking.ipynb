{
 "cells": [
  {
   "cell_type": "markdown",
   "metadata": {},
   "source": [
    "데이터 및 코드: https://github.com/datascienceabe/study_open/tree/master/Linear_Regression"
   ]
  },
  {
   "cell_type": "markdown",
   "metadata": {},
   "source": [
    "출처: Montgomery, D. C., Peck, E. A., & Vining, G. G. (2012). Introduction to linear regression analysis (Vol. 821). John Wiley & Sons.<br>\n",
    "데이터: http://bcs.wiley.com/he-bcs/Books?action=resource&bcsId=9068&itemId=0470542810&resourceId=36322"
   ]
  },
  {
   "cell_type": "markdown",
   "metadata": {},
   "source": [
    "4장, 6장<br>\n",
    "목차<br>\n",
    "1. Multiple Linear Regression\n",
    "2. Lack of fit test\n",
    "3. Diagonostics for Leverage and Influence"
   ]
  },
  {
   "cell_type": "markdown",
   "metadata": {},
   "source": [
    "# Model Adequacy Checking"
   ]
  },
  {
   "cell_type": "markdown",
   "metadata": {},
   "source": [
    "<가정><br>\n",
    "1.y와 x의 관계가 근사하게 linear<br>\n",
    "2.error의 기댓값 0<br>\n",
    "3.error의 variance constant<br>\n",
    "4.error는 상관관계 없음<br>\n",
    "5.error는 normal 분포=> Residual Analysis를 위해 추가<br>"
   ]
  },
  {
   "cell_type": "code",
   "execution_count": 4,
   "metadata": {},
   "outputs": [],
   "source": [
    "setwd('C:/Users/bki19/desktop/Linear_Regression/data')"
   ]
  },
  {
   "cell_type": "code",
   "execution_count": 7,
   "metadata": {},
   "outputs": [],
   "source": [
    "df2<-read.csv('./Delivery_Time2.csv')\n",
    "colnames(df2)<-c('Time','Case','Distance')\n",
    "fit2<-lm(Time~.,data=df2)"
   ]
  },
  {
   "cell_type": "markdown",
   "metadata": {},
   "source": [
    "# 1. Residual Analysis"
   ]
  },
  {
   "cell_type": "markdown",
   "metadata": {},
   "source": [
    "<b>1) Methods of scaling residuals</b>"
   ]
  },
  {
   "cell_type": "markdown",
   "metadata": {},
   "source": [
    "1) Residual<br>\n",
    "$e_{i}=y_{i}-\\hat{y}_{i}$<br>\n",
    "데이터와 fit의 차이로 regression model로 설명 안되는 변동성을 측정할 수 있음<br>\n",
    "<br>\n",
    "2) Standarized Residual<br>\n",
    "$d_{i}=\\frac{e_{i}}{\\sqrt{MS_{res}}   } $<br>\n",
    "<br>\n",
    "3) Studentized Residual(Internally Studentized Residual)<br>\n",
    "$r_{i}=\\frac{e_{i}}{\\sqrt{MS_{res}}  [1-( \\frac{1}{n}+\\frac{(x_{i}-\\bar{x})^{2}  }{S_{xx}}   )]        } $<br>\n",
    "=> $x_{i}$가 평균 값에 가까워질 수록 커짐<br>\n",
    "=> 데이터가 많아질 수록 Standarized Residual과 차이가 없어짐<br>\n",
    "<br>\n",
    "3) PRESS residual<br>\n",
    "$\\frac{e_{(i)}}{\\sqrt{Var[e_{(i)}]}  }= \\frac{e_{(i)}}{\\sqrt{\\sigma^2(1-h_{ii}) }}$\n",
    "=> (i)번 째 관측치가 없다고 생각하고 나머지로 적합시켰을 때의 residual을 계산<br>\n",
    "<br>\n",
    "4) R-student (Externally Studentized residual)<br>\n",
    "$t_{i}=\\frac{e_{i}}{\\sqrt{S_{(i)}^{2}(1-h_{ii})  }  }$<br>\n",
    "=> Internally Studentized residual과 큰 차이가 없는 경우가 많지만 i번째 관측치가 influential하면 값이 확 커짐<br>\n",
    "<br>\n",
    "5) Hat element<br>\n",
    "=> x의 공간에서 i 번째 관측치의 위치를 측정\n",
    "=> 공간의 중심에서 멀어질 수록 variance 낮아져서 hat element의 값은 커짐\n"
   ]
  },
  {
   "cell_type": "code",
   "execution_count": 8,
   "metadata": {},
   "outputs": [],
   "source": [
    "PRESS <- function(linear.model) {\n",
    "    pr <- residuals(linear.model)/(1 - lm.influence(linear.model)$hat)\n",
    "    return (pr)\n",
    "}"
   ]
  },
  {
   "cell_type": "code",
   "execution_count": 9,
   "metadata": {},
   "outputs": [
    {
     "data": {
      "text/html": [
       "<table>\n",
       "<thead><tr><th scope=col>residual</th><th scope=col>stardardized</th><th scope=col>in_studentized</th><th scope=col>hat</th><th scope=col>PRESS</th><th scope=col>ex_studentized</th></tr></thead>\n",
       "<tbody>\n",
       "\t<tr><td>-5.0280843 </td><td>-1.54260631</td><td>-1.62767993</td><td>0.10180178 </td><td>-5.59796734</td><td>-1.69562881</td></tr>\n",
       "\t<tr><td> 1.1463854 </td><td> 0.35170879</td><td> 0.36484267</td><td>0.07070164 </td><td> 1.23360321</td><td> 0.35753764</td></tr>\n",
       "\t<tr><td>-0.0497937 </td><td>-0.01527661</td><td>-0.01609165</td><td>0.09873476 </td><td>-0.05524867</td><td>-0.01572177</td></tr>\n",
       "\t<tr><td> 4.9243539 </td><td> 1.51078203</td><td> 1.57972040</td><td>0.08537479 </td><td> 5.38401290</td><td> 1.63916491</td></tr>\n",
       "\t<tr><td>-0.4443983 </td><td>-0.13634053</td><td>-0.14176094</td><td>0.07501050 </td><td>-0.48043610</td><td>-0.13856493</td></tr>\n",
       "\t<tr><td>-0.2895743 </td><td>-0.08884082</td><td>-0.09080847</td><td>0.04286693 </td><td>-0.30254339</td><td>-0.08873728</td></tr>\n",
       "\t<tr><td> 0.8446235 </td><td> 0.25912883</td><td> 0.27042496</td><td>0.08179867 </td><td> 0.91986749</td><td> 0.26464769</td></tr>\n",
       "\t<tr><td> 1.1566049 </td><td> 0.35484408</td><td> 0.36672118</td><td>0.06372559 </td><td> 1.23532680</td><td> 0.35938983</td></tr>\n",
       "\t<tr><td> 7.4197062 </td><td> 2.27635117</td><td> 3.21376278</td><td>0.49829216 </td><td>14.78889824</td><td> 4.31078012</td></tr>\n",
       "\t<tr><td> 2.3764129 </td><td> 0.72907878</td><td> 0.81325432</td><td>0.19629595 </td><td> 2.95682585</td><td> 0.80677584</td></tr>\n",
       "\t<tr><td> 2.2374930 </td><td> 0.68645843</td><td> 0.71807970</td><td>0.08613260 </td><td> 2.44837821</td><td> 0.70993906</td></tr>\n",
       "\t<tr><td>-0.5930409 </td><td>-0.18194377</td><td>-0.19325733</td><td>0.11365570 </td><td>-0.66908638</td><td>-0.18897451</td></tr>\n",
       "\t<tr><td> 1.0270093 </td><td> 0.31508443</td><td> 0.32517935</td><td>0.06112463 </td><td> 1.09387183</td><td> 0.31846924</td></tr>\n",
       "\t<tr><td> 1.0675359 </td><td> 0.32751789</td><td> 0.34113547</td><td>0.07824332 </td><td> 1.15815364</td><td> 0.33417725</td></tr>\n",
       "\t<tr><td> 0.6712018 </td><td> 0.20592338</td><td> 0.21029137</td><td>0.04111077 </td><td> 0.69997845</td><td> 0.20566324</td></tr>\n",
       "\t<tr><td>-0.6629284 </td><td>-0.20338513</td><td>-0.22270023</td><td>0.16594043 </td><td>-0.79482144</td><td>-0.21782566</td></tr>\n",
       "\t<tr><td> 0.4363603 </td><td> 0.13387449</td><td> 0.13803929</td><td>0.05943202 </td><td> 0.46393280</td><td> 0.13492400</td></tr>\n",
       "\t<tr><td> 3.4486213 </td><td> 1.05803019</td><td> 1.11295196</td><td>0.09626046 </td><td> 3.81594602</td><td> 1.11933065</td></tr>\n",
       "\t<tr><td> 1.7931935 </td><td> 0.55014821</td><td> 0.57876634</td><td>0.09644857 </td><td> 1.98460588</td><td> 0.56981420</td></tr>\n",
       "\t<tr><td>-5.7879699 </td><td>-1.77573772</td><td>-1.87354643</td><td>0.10168486 </td><td>-6.44313971</td><td>-1.99667657</td></tr>\n",
       "\t<tr><td>-2.6141789 </td><td>-0.80202492</td><td>-0.87784258</td><td>0.16527689 </td><td>-3.13179171</td><td>-0.87308697</td></tr>\n",
       "\t<tr><td>-3.6865279 </td><td>-1.13101946</td><td>-1.44999541</td><td>0.39157522 </td><td>-6.05913500</td><td>-1.48962473</td></tr>\n",
       "\t<tr><td>-4.6075679 </td><td>-1.41359270</td><td>-1.44368977</td><td>0.04126005 </td><td>-4.80585779</td><td>-1.48246718</td></tr>\n",
       "\t<tr><td>-4.5728535 </td><td>-1.40294240</td><td>-1.49605875</td><td>0.12060826 </td><td>-5.20001871</td><td>-1.54221512</td></tr>\n",
       "\t<tr><td>-0.2125839 </td><td>-0.06522033</td><td>-0.06750861</td><td>0.06664345 </td><td>-0.22776283</td><td>-0.06596332</td></tr>\n",
       "</tbody>\n",
       "</table>\n"
      ],
      "text/latex": [
       "\\begin{tabular}{r|llllll}\n",
       " residual & stardardized & in\\_studentized & hat & PRESS & ex\\_studentized\\\\\n",
       "\\hline\n",
       "\t -5.0280843  & -1.54260631 & -1.62767993 & 0.10180178  & -5.59796734 & -1.69562881\\\\\n",
       "\t  1.1463854  &  0.35170879 &  0.36484267 & 0.07070164  &  1.23360321 &  0.35753764\\\\\n",
       "\t -0.0497937  & -0.01527661 & -0.01609165 & 0.09873476  & -0.05524867 & -0.01572177\\\\\n",
       "\t  4.9243539  &  1.51078203 &  1.57972040 & 0.08537479  &  5.38401290 &  1.63916491\\\\\n",
       "\t -0.4443983  & -0.13634053 & -0.14176094 & 0.07501050  & -0.48043610 & -0.13856493\\\\\n",
       "\t -0.2895743  & -0.08884082 & -0.09080847 & 0.04286693  & -0.30254339 & -0.08873728\\\\\n",
       "\t  0.8446235  &  0.25912883 &  0.27042496 & 0.08179867  &  0.91986749 &  0.26464769\\\\\n",
       "\t  1.1566049  &  0.35484408 &  0.36672118 & 0.06372559  &  1.23532680 &  0.35938983\\\\\n",
       "\t  7.4197062  &  2.27635117 &  3.21376278 & 0.49829216  & 14.78889824 &  4.31078012\\\\\n",
       "\t  2.3764129  &  0.72907878 &  0.81325432 & 0.19629595  &  2.95682585 &  0.80677584\\\\\n",
       "\t  2.2374930  &  0.68645843 &  0.71807970 & 0.08613260  &  2.44837821 &  0.70993906\\\\\n",
       "\t -0.5930409  & -0.18194377 & -0.19325733 & 0.11365570  & -0.66908638 & -0.18897451\\\\\n",
       "\t  1.0270093  &  0.31508443 &  0.32517935 & 0.06112463  &  1.09387183 &  0.31846924\\\\\n",
       "\t  1.0675359  &  0.32751789 &  0.34113547 & 0.07824332  &  1.15815364 &  0.33417725\\\\\n",
       "\t  0.6712018  &  0.20592338 &  0.21029137 & 0.04111077  &  0.69997845 &  0.20566324\\\\\n",
       "\t -0.6629284  & -0.20338513 & -0.22270023 & 0.16594043  & -0.79482144 & -0.21782566\\\\\n",
       "\t  0.4363603  &  0.13387449 &  0.13803929 & 0.05943202  &  0.46393280 &  0.13492400\\\\\n",
       "\t  3.4486213  &  1.05803019 &  1.11295196 & 0.09626046  &  3.81594602 &  1.11933065\\\\\n",
       "\t  1.7931935  &  0.55014821 &  0.57876634 & 0.09644857  &  1.98460588 &  0.56981420\\\\\n",
       "\t -5.7879699  & -1.77573772 & -1.87354643 & 0.10168486  & -6.44313971 & -1.99667657\\\\\n",
       "\t -2.6141789  & -0.80202492 & -0.87784258 & 0.16527689  & -3.13179171 & -0.87308697\\\\\n",
       "\t -3.6865279  & -1.13101946 & -1.44999541 & 0.39157522  & -6.05913500 & -1.48962473\\\\\n",
       "\t -4.6075679  & -1.41359270 & -1.44368977 & 0.04126005  & -4.80585779 & -1.48246718\\\\\n",
       "\t -4.5728535  & -1.40294240 & -1.49605875 & 0.12060826  & -5.20001871 & -1.54221512\\\\\n",
       "\t -0.2125839  & -0.06522033 & -0.06750861 & 0.06664345  & -0.22776283 & -0.06596332\\\\\n",
       "\\end{tabular}\n"
      ],
      "text/markdown": [
       "\n",
       "residual | stardardized | in_studentized | hat | PRESS | ex_studentized | \n",
       "|---|---|---|---|---|---|---|---|---|---|---|---|---|---|---|---|---|---|---|---|---|---|---|---|---|\n",
       "| -5.0280843  | -1.54260631 | -1.62767993 | 0.10180178  | -5.59796734 | -1.69562881 | \n",
       "|  1.1463854  |  0.35170879 |  0.36484267 | 0.07070164  |  1.23360321 |  0.35753764 | \n",
       "| -0.0497937  | -0.01527661 | -0.01609165 | 0.09873476  | -0.05524867 | -0.01572177 | \n",
       "|  4.9243539  |  1.51078203 |  1.57972040 | 0.08537479  |  5.38401290 |  1.63916491 | \n",
       "| -0.4443983  | -0.13634053 | -0.14176094 | 0.07501050  | -0.48043610 | -0.13856493 | \n",
       "| -0.2895743  | -0.08884082 | -0.09080847 | 0.04286693  | -0.30254339 | -0.08873728 | \n",
       "|  0.8446235  |  0.25912883 |  0.27042496 | 0.08179867  |  0.91986749 |  0.26464769 | \n",
       "|  1.1566049  |  0.35484408 |  0.36672118 | 0.06372559  |  1.23532680 |  0.35938983 | \n",
       "|  7.4197062  |  2.27635117 |  3.21376278 | 0.49829216  | 14.78889824 |  4.31078012 | \n",
       "|  2.3764129  |  0.72907878 |  0.81325432 | 0.19629595  |  2.95682585 |  0.80677584 | \n",
       "|  2.2374930  |  0.68645843 |  0.71807970 | 0.08613260  |  2.44837821 |  0.70993906 | \n",
       "| -0.5930409  | -0.18194377 | -0.19325733 | 0.11365570  | -0.66908638 | -0.18897451 | \n",
       "|  1.0270093  |  0.31508443 |  0.32517935 | 0.06112463  |  1.09387183 |  0.31846924 | \n",
       "|  1.0675359  |  0.32751789 |  0.34113547 | 0.07824332  |  1.15815364 |  0.33417725 | \n",
       "|  0.6712018  |  0.20592338 |  0.21029137 | 0.04111077  |  0.69997845 |  0.20566324 | \n",
       "| -0.6629284  | -0.20338513 | -0.22270023 | 0.16594043  | -0.79482144 | -0.21782566 | \n",
       "|  0.4363603  |  0.13387449 |  0.13803929 | 0.05943202  |  0.46393280 |  0.13492400 | \n",
       "|  3.4486213  |  1.05803019 |  1.11295196 | 0.09626046  |  3.81594602 |  1.11933065 | \n",
       "|  1.7931935  |  0.55014821 |  0.57876634 | 0.09644857  |  1.98460588 |  0.56981420 | \n",
       "| -5.7879699  | -1.77573772 | -1.87354643 | 0.10168486  | -6.44313971 | -1.99667657 | \n",
       "| -2.6141789  | -0.80202492 | -0.87784258 | 0.16527689  | -3.13179171 | -0.87308697 | \n",
       "| -3.6865279  | -1.13101946 | -1.44999541 | 0.39157522  | -6.05913500 | -1.48962473 | \n",
       "| -4.6075679  | -1.41359270 | -1.44368977 | 0.04126005  | -4.80585779 | -1.48246718 | \n",
       "| -4.5728535  | -1.40294240 | -1.49605875 | 0.12060826  | -5.20001871 | -1.54221512 | \n",
       "| -0.2125839  | -0.06522033 | -0.06750861 | 0.06664345  | -0.22776283 | -0.06596332 | \n",
       "\n",
       "\n"
      ],
      "text/plain": [
       "   residual   stardardized in_studentized hat        PRESS       ex_studentized\n",
       "1  -5.0280843 -1.54260631  -1.62767993    0.10180178 -5.59796734 -1.69562881   \n",
       "2   1.1463854  0.35170879   0.36484267    0.07070164  1.23360321  0.35753764   \n",
       "3  -0.0497937 -0.01527661  -0.01609165    0.09873476 -0.05524867 -0.01572177   \n",
       "4   4.9243539  1.51078203   1.57972040    0.08537479  5.38401290  1.63916491   \n",
       "5  -0.4443983 -0.13634053  -0.14176094    0.07501050 -0.48043610 -0.13856493   \n",
       "6  -0.2895743 -0.08884082  -0.09080847    0.04286693 -0.30254339 -0.08873728   \n",
       "7   0.8446235  0.25912883   0.27042496    0.08179867  0.91986749  0.26464769   \n",
       "8   1.1566049  0.35484408   0.36672118    0.06372559  1.23532680  0.35938983   \n",
       "9   7.4197062  2.27635117   3.21376278    0.49829216 14.78889824  4.31078012   \n",
       "10  2.3764129  0.72907878   0.81325432    0.19629595  2.95682585  0.80677584   \n",
       "11  2.2374930  0.68645843   0.71807970    0.08613260  2.44837821  0.70993906   \n",
       "12 -0.5930409 -0.18194377  -0.19325733    0.11365570 -0.66908638 -0.18897451   \n",
       "13  1.0270093  0.31508443   0.32517935    0.06112463  1.09387183  0.31846924   \n",
       "14  1.0675359  0.32751789   0.34113547    0.07824332  1.15815364  0.33417725   \n",
       "15  0.6712018  0.20592338   0.21029137    0.04111077  0.69997845  0.20566324   \n",
       "16 -0.6629284 -0.20338513  -0.22270023    0.16594043 -0.79482144 -0.21782566   \n",
       "17  0.4363603  0.13387449   0.13803929    0.05943202  0.46393280  0.13492400   \n",
       "18  3.4486213  1.05803019   1.11295196    0.09626046  3.81594602  1.11933065   \n",
       "19  1.7931935  0.55014821   0.57876634    0.09644857  1.98460588  0.56981420   \n",
       "20 -5.7879699 -1.77573772  -1.87354643    0.10168486 -6.44313971 -1.99667657   \n",
       "21 -2.6141789 -0.80202492  -0.87784258    0.16527689 -3.13179171 -0.87308697   \n",
       "22 -3.6865279 -1.13101946  -1.44999541    0.39157522 -6.05913500 -1.48962473   \n",
       "23 -4.6075679 -1.41359270  -1.44368977    0.04126005 -4.80585779 -1.48246718   \n",
       "24 -4.5728535 -1.40294240  -1.49605875    0.12060826 -5.20001871 -1.54221512   \n",
       "25 -0.2125839 -0.06522033  -0.06750861    0.06664345 -0.22776283 -0.06596332   "
      ]
     },
     "metadata": {},
     "output_type": "display_data"
    }
   ],
   "source": [
    "Resid<-data.frame(residual=resid(fit2), stardardized=rstandard(fit2) *(1-lm.influence(fit2)$hat)^0.5,in_studentized=rstandard(fit2),hat=lm.influence(fit2)$hat,PRESS=PRESS(fit2),ex_studentized=rstudent(fit2)   )\n",
    "Resid"
   ]
  },
  {
   "cell_type": "markdown",
   "metadata": {},
   "source": [
    "$e_{9}=7.4197$로 큼<br>\n",
    "standardized로 봐도 다른거는 +-2안에 있는데 이거는 밖에 있음 <br>\n",
    "internally studentized로 보면 3.2138로 확연히 큼 <br>\n",
    "모형이 이 점에 대해 fit이 잘 안됨을 알 수 있음"
   ]
  },
  {
   "cell_type": "code",
   "execution_count": 10,
   "metadata": {},
   "outputs": [
    {
     "data": {
      "text/html": [
       "<table>\n",
       "<thead><tr><th></th><th scope=col>Time</th><th scope=col>Case</th><th scope=col>Distance</th></tr></thead>\n",
       "<tbody>\n",
       "\t<tr><th scope=row>9</th><td>79.24</td><td>30   </td><td>1460 </td></tr>\n",
       "</tbody>\n",
       "</table>\n"
      ],
      "text/latex": [
       "\\begin{tabular}{r|lll}\n",
       "  & Time & Case & Distance\\\\\n",
       "\\hline\n",
       "\t9 & 79.24 & 30    & 1460 \\\\\n",
       "\\end{tabular}\n"
      ],
      "text/markdown": [
       "\n",
       "| <!--/--> | Time | Case | Distance | \n",
       "|---|\n",
       "| 9 | 79.24 | 30    | 1460  | \n",
       "\n",
       "\n"
      ],
      "text/plain": [
       "  Time  Case Distance\n",
       "9 79.24 30   1460    "
      ]
     },
     "metadata": {},
     "output_type": "display_data"
    }
   ],
   "source": [
    "df2[9,]"
   ]
  },
  {
   "cell_type": "markdown",
   "metadata": {},
   "source": [
    "<b>2) Residual Plot analysis</b>"
   ]
  },
  {
   "cell_type": "markdown",
   "metadata": {},
   "source": [
    "<b>Residuals vs Fitted values</b><br>\n",
    "$y$와 $\\epsilon$의 관계를 짐작하여 모델의 부적합성을 볼 수 있음<br>\n",
    "1) Fitted가 커질 수록 Residual이 퍼지는 경우 =>  $y$가 커질 수록 $Var[\\epsilon]$이 커져 분산이 constant가 아닐 가능성(variance가 y의 증가 함수)<br>\n",
    "2) Fitted가 커질 수록  Reisdual이 퍼지다가 감소하는 경우 => y의 값이 1보다 작아서 variance가 binomial처럼 증가 하다 감소<br>\n",
    "=>1),2)에 대해서는 x나 y에 transformation하거나 WLS 이용<br>\n",
    "3) Fitted와 Residual이 비선형 관계<br>\n",
    "=>x나 y에 transformation"
   ]
  },
  {
   "cell_type": "code",
   "execution_count": 29,
   "metadata": {},
   "outputs": [
    {
     "data": {
      "image/png": "[encoded data removed]",
      "text/plain": [
       "Plot with title \"\""
      ]
     },
     "metadata": {},
     "output_type": "display_data"
    }
   ],
   "source": [
    "par(mfrow=c(2,2))\n",
    "plot(fit2)"
   ]
  },
  {
   "cell_type": "markdown",
   "metadata": {},
   "source": [
    "Normality: plot을 보면 직선에 놓여 있지 않음(꼬리가 너무 두꺼워 보임) -> 한 개 이상의 아웃라이어 있을 듯<br>\n",
    "Residual vs Fitted value: Misspecification of regressor 없어 보임, inequality of variance 없어 보임<br>"
   ]
  },
  {
   "cell_type": "markdown",
   "metadata": {},
   "source": [
    "<b>Residuals vs Regressors</b><br>"
   ]
  },
  {
   "cell_type": "code",
   "execution_count": 11,
   "metadata": {},
   "outputs": [
    {
     "data": {
      "image/png": "[encoded data removed]",
      "text/plain": [
       "plot without title"
      ]
     },
     "metadata": {},
     "output_type": "display_data"
    }
   ],
   "source": [
    "par(mfrow=c(1,2))\n",
    "plot(df2$Case,rstudent(fit2) );abline(h=0, col=\"red\")\n",
    "plot(df2$Distance,rstudent(fit2) );abline(h=0, col=\"red\")"
   ]
  },
  {
   "cell_type": "markdown",
   "metadata": {},
   "source": [
    "regressor와 residual의 관계를 plotting 하는 것은 transformation의 필요성을 항상 볼 수 있는 것은 아님<br>\n",
    "Omitted variable과 residual의 관계를 보면 potentially include 할지 볼 수 있음<br>\n",
    "interation effect는 못봄<br>\n",
    "Multicollinearity가 강하면 잘 못 된 관계를 보여 줄 수 있음"
   ]
  },
  {
   "cell_type": "markdown",
   "metadata": {},
   "source": [
    "<b>Partial Regression Plot <br></b>\n",
    "다른 regressor가 주어졌을 때, marginal relationship을 볼 수 있음<br>\n",
    "이 관계를 보고 transformation을 판단"
   ]
  },
  {
   "cell_type": "code",
   "execution_count": 12,
   "metadata": {},
   "outputs": [
    {
     "data": {
      "image/png": "[encoded data removed]",
      "text/plain": [
       "plot without title"
      ]
     },
     "metadata": {},
     "output_type": "display_data"
    }
   ],
   "source": [
    "Y_1<-lm(Time~Distance,data=df2)\n",
    "X_1<-lm(Case~Distance,data=df2)\n",
    "Y_2<-lm(Time~Case,data=df2)\n",
    "X_2<-lm(Distance~Case,data=df2)\n",
    "\n",
    "par(mfrow=c(1,2))\n",
    "plot( resid(X_1),resid(Y_1) )\n",
    "plot( resid(X_2),resid(Y_2) )"
   ]
  },
  {
   "cell_type": "markdown",
   "metadata": {},
   "source": [
    "두 변수다 linear relationship이 명백"
   ]
  },
  {
   "cell_type": "markdown",
   "metadata": {},
   "source": [
    "<b>3. PRESS STATISTICS <br></b>"
   ]
  },
  {
   "cell_type": "markdown",
   "metadata": {},
   "source": [
    "Regression 모델이 새로운 데이터를 얼마나 잘 예측할 수 있을지 측정<br>\n",
    "작을 수록 좋음<br>\n",
    "$PRESS= \\sum[y_{i}-\\hat{y}_{(i)}  ]^{2}=\\sum(\\frac{e_{i}}{1-h_{ii}}) $<br>"
   ]
  },
  {
   "cell_type": "code",
   "execution_count": 32,
   "metadata": {},
   "outputs": [
    {
     "data": {
      "text/html": [
       "233.7317"
      ],
      "text/latex": [
       "233.7317"
      ],
      "text/markdown": [
       "233.7317"
      ],
      "text/plain": [
       "[1] 233.7317"
      ]
     },
     "metadata": {},
     "output_type": "display_data"
    },
    {
     "data": {
      "text/html": [
       "459.039314702539"
      ],
      "text/latex": [
       "459.039314702539"
      ],
      "text/markdown": [
       "459.039314702539"
      ],
      "text/plain": [
       "[1] 459.0393"
      ]
     },
     "metadata": {},
     "output_type": "display_data"
    }
   ],
   "source": [
    "233.7317\n",
    "sum( PRESS(fit2)^2)"
   ]
  },
  {
   "cell_type": "markdown",
   "metadata": {},
   "source": [
    "SSres에 비해 PRESS STAT이 2배가 넘음 -> 절반이 넘는 PRESS STAT이 point 9에 기여했기 때문<br>\n",
    "이 모델이 extrapolation에 취약함을 알 수 있음<br>\n",
    "PRESS STAT은 모델 간 비교에도 사용 가능"
   ]
  },
  {
   "cell_type": "markdown",
   "metadata": {},
   "source": [
    "$R_{prediction}^{2}=1-\\frac{PRESS}{SS_{T}}$<br>\n",
    "회귀 모형의 예측력에 대한 지표"
   ]
  },
  {
   "cell_type": "code",
   "execution_count": 33,
   "metadata": {},
   "outputs": [
    {
     "data": {
      "text/html": [
       "0.920643800824885"
      ],
      "text/latex": [
       "0.920643800824885"
      ],
      "text/markdown": [
       "0.920643800824885"
      ],
      "text/plain": [
       "[1] 0.9206438"
      ]
     },
     "metadata": {},
     "output_type": "display_data"
    }
   ],
   "source": [
    "1-(sum( PRESS(fit2)^2)/5784.5426)"
   ]
  },
  {
   "cell_type": "markdown",
   "metadata": {},
   "source": [
    "회귀 모형이 새로운 관측치를 예측하는데 있어 92.09%의 변동성을 설명할 수 있음<br>\n",
    "원래 데이터에서는 LSE 적합으로 95.96% 설명 가능<br>"
   ]
  },
  {
   "cell_type": "markdown",
   "metadata": {},
   "source": [
    "# <b>2. Lack of Fit Test<br></b>"
   ]
  },
  {
   "cell_type": "markdown",
   "metadata": {},
   "source": [
    "- Systematic lack of fit이 존재하는지 판단하는 절차\n",
    "- 예를 들어 Quadratic term을 추가할지, 혹은 다른 regressor를 추가해야 되는지<br>\n",
    "- Replicated observation 필요<br>"
   ]
  },
  {
   "cell_type": "markdown",
   "metadata": {},
   "source": [
    "$i$번째 regressor $x_{i}$에 대응하는 response가 $n_{i}$개 존재 (distinct response)<br>\n",
    "$y_{ij}$: $x_{i}$에 대한 $j$번째 관측치<br>\n",
    "총 $n= \\sum_{i=1}^{m}n_{i} $의 관측치 존재<br>\n",
    "<br>\n",
    "$SS_{Res}=SS_{PE}+SS_{LOF}$<br>\n",
    "$SS_{Res}$는 fit이 잘 안되서 발생하는 $SS_{LOF}$와 자연적으로 발생하는 $SS_{PE}$으로 나눠짐<br>\n",
    "$\\sum_{i=1}^{m}\\sum_{j=1}^{n_{i}}(y_{ij}-\\hat{y}_{i}  )^{2}=\\sum_{i=1}^{n}\\sum_{j=1}^{n_{i}}(y_{ij}-\\bar{y}_{i}  )^{2}+ \\sum_{i=1}^{m}n_{i}(\\bar{y}_{i} -\\hat{y}_{i}  )^{2}  $<br>\n",
    "=> pure error는 같은 x 값에 중복되는 y 값의 변동에 의한 값<br>\n",
    "=> Lack of fit error는 x 값에 대응 되는 y 값의 평균과 적합 된 y 값의 변동"
   ]
  },
  {
   "cell_type": "markdown",
   "metadata": {},
   "source": [
    "$H_{0}: E[y_{i}]=\\beta_{0}+\\beta_{1}x_{i}$<br>\n",
    "$H_{a}: not H_{0}$<br>\n",
    "<br>\n",
    "$F_{0}=\\frac{SS_{LOF}/(m-2)}{SS_{PE}/(n-m)} \\sim F_{m-2,n-m} Under H_{0}$<br>\n",
    "만약 $H_{0}$가 참이면 $E(MS_{LOF})=\\sigma^{2}$이지만 참이 아니면 $E(MS_{LOF})>\\sigma^{2}$가 되어 $F_{0}$ 값이 커짐<br>\n",
    "Reject H0면, 더 적합한 모형을 찾아야 됨<br>\n",
    "주의 할 것은 $H_{0}$를 기각 못해 적합한 모형을 찾아도 prediction 관점에서 좋은 모형이란 것은 아님"
   ]
  },
  {
   "cell_type": "code",
   "execution_count": 5,
   "metadata": {},
   "outputs": [],
   "source": [
    "df_lack<-read.csv('./ex4.8.csv')"
   ]
  },
  {
   "cell_type": "code",
   "execution_count": 18,
   "metadata": {},
   "outputs": [
    {
     "data": {
      "image/png": "[encoded data removed]",
      "text/plain": [
       "plot without title"
      ]
     },
     "metadata": {},
     "output_type": "display_data"
    }
   ],
   "source": [
    "fit_lack<-lm(y~x,data=df_lack)\n",
    "plot(df_lack)\n",
    "lines(df_lack[,1],fitted(fit_lack),col=4)"
   ]
  },
  {
   "cell_type": "code",
   "execution_count": 8,
   "metadata": {},
   "outputs": [
    {
     "data": {
      "text/plain": [
       "\n",
       "Call:\n",
       "lm(formula = y ~ x, data = df_lack)\n",
       "\n",
       "Residuals:\n",
       "    Min      1Q  Median      3Q     Max \n",
       "-6.4536 -1.6158  0.5638  2.6358  7.4246 \n",
       "\n",
       "Coefficients:\n",
       "            Estimate Std. Error t value Pr(>|t|)    \n",
       "(Intercept)  13.2139     2.6649   4.959 0.000172 ***\n",
       "x             2.1304     0.5645   3.774 0.001839 ** \n",
       "---\n",
       "Signif. codes:  0 '***' 0.001 '**' 0.01 '*' 0.05 '.' 0.1 ' ' 1\n",
       "\n",
       "Residual standard error: 4.084 on 15 degrees of freedom\n",
       "Multiple R-squared:  0.487,\tAdjusted R-squared:  0.4528 \n",
       "F-statistic: 14.24 on 1 and 15 DF,  p-value: 0.001839\n"
      ]
     },
     "metadata": {},
     "output_type": "display_data"
    }
   ],
   "source": [
    "summary(fit_lack)"
   ]
  },
  {
   "cell_type": "markdown",
   "metadata": {},
   "source": [
    "$i$번째 regressor $x_{i}$에 대응하는 response가 $n_{i}$개 존재 (distinct response)<br>\n",
    "$y_{ij}$: $x_{i}$에 대한 $j$번째 관측치<br>\n",
    "총 $n= \\sum_{i=1}^{m}n_{i} $의 관측치 존재<br>\n",
    "<br>\n",
    "$SS_{Res}=SS_{PE}+SS_{LOF}$<br>\n",
    "$SS_{Res}$는 fit이 잘 안되서 발생하는 $SS_{LOF}$와 자연적으로 발생하는 $SS_{PE}$으로 나눠짐<br>\n",
    "$\\sum_{i=1}^{m}\\sum_{j=1}^{n_{i}}(y_{ij}-\\hat{y}_{i}  )^{2}=\\sum_{i=1}^{n}\\sum_{j=1}^{n_{i}}(y_{ij}-\\bar{y}_{i}  )^{2}+ \\sum_{i=1}^{m}n_{i}(\\bar{y}_{i} -\\hat{y}_{i}  )^{2}  $<br>\n",
    "=> pure error는 같은 x 값에 중복되는 y 값의 변동에 의한 값<br>\n",
    "=> Lack of fit error는 x 값에 대응 되는 y 값의 평균과 적합 된 y 값의 변동\n"
   ]
  },
  {
   "cell_type": "code",
   "execution_count": 25,
   "metadata": {},
   "outputs": [
    {
     "data": {
      "text/html": [
       "<table>\n",
       "<thead><tr><th scope=col>Res.Df</th><th scope=col>RSS</th><th scope=col>Df</th><th scope=col>Sum of Sq</th><th scope=col>F</th><th scope=col>Pr(&gt;F)</th></tr></thead>\n",
       "<tbody>\n",
       "\t<tr><td>16         </td><td>487.6126   </td><td>NA         </td><td>      NA   </td><td>     NA    </td><td>         NA</td></tr>\n",
       "\t<tr><td>15         </td><td>250.1338   </td><td> 1         </td><td>237.4788   </td><td>14.2411    </td><td>0.001839409</td></tr>\n",
       "</tbody>\n",
       "</table>\n"
      ],
      "text/latex": [
       "\\begin{tabular}{r|llllll}\n",
       " Res.Df & RSS & Df & Sum of Sq & F & Pr(>F)\\\\\n",
       "\\hline\n",
       "\t 16          & 487.6126    & NA          &       NA    &      NA     &          NA\\\\\n",
       "\t 15          & 250.1338    &  1          & 237.4788    & 14.2411     & 0.001839409\\\\\n",
       "\\end{tabular}\n"
      ],
      "text/markdown": [
       "\n",
       "Res.Df | RSS | Df | Sum of Sq | F | Pr(>F) | \n",
       "|---|---|\n",
       "| 16          | 487.6126    | NA          |       NA    |      NA     |          NA | \n",
       "| 15          | 250.1338    |  1          | 237.4788    | 14.2411     | 0.001839409 | \n",
       "\n",
       "\n"
      ],
      "text/plain": [
       "  Res.Df RSS      Df Sum of Sq F       Pr(>F)     \n",
       "1 16     487.6126 NA       NA       NA          NA\n",
       "2 15     250.1338  1 237.4788  14.2411 0.001839409"
      ]
     },
     "metadata": {},
     "output_type": "display_data"
    }
   ],
   "source": [
    "fit0 <- lm(y ~ 1,data=df_lack) #  y is being predicted by no other variable so the natural prediction is the mean of y\n",
    "anova(fit0,fit_lack)"
   ]
  },
  {
   "cell_type": "markdown",
   "metadata": {},
   "source": [
    "$SS_{LOF}=237.4788$<br>\n",
    "P-value가 매우 작아 모델이 데이터에 잘 적합 됐다는 귀무가설 기각"
   ]
  },
  {
   "cell_type": "markdown",
   "metadata": {},
   "source": [
    "# 3. Diagonostics for Leverage and Influence "
   ]
  },
  {
   "cell_type": "markdown",
   "metadata": {},
   "source": [
    "- Leverage point: 일반적이지 않은 관측치가 regression coefficient를 추정할 때 영향은 없음\n",
    "- Influential point: 일반적이지 않은 관측치로 regression coefficient를 추정할 때 큰 영향을 줌"
   ]
  },
  {
   "cell_type": "code",
   "execution_count": 37,
   "metadata": {},
   "outputs": [
    {
     "data": {
      "text/html": [
       "<dl class=dl-horizontal>\n",
       "\t<dt>1</dt>\n",
       "\t\t<dd>106.758300644736</dd>\n",
       "\t<dt>2</dt>\n",
       "\t\t<dd>-67.2745740597968</dd>\n",
       "\t<dt>3</dt>\n",
       "\t\t<dd>-14.5936314420543</dd>\n",
       "\t<dt>4</dt>\n",
       "\t\t<dd>65.0886870620929</dd>\n",
       "\t<dt>5</dt>\n",
       "\t\t<dd>-215.977608804317</dd>\n",
       "\t<dt>6</dt>\n",
       "\t\t<dd>-213.604131048097</dd>\n",
       "\t<dt>7</dt>\n",
       "\t\t<dd>48.5638236764295</dd>\n",
       "\t<dt>8</dt>\n",
       "\t\t<dd>40.0616183609669</dd>\n",
       "\t<dt>9</dt>\n",
       "\t\t<dd>8.72957308549311</dd>\n",
       "\t<dt>10</dt>\n",
       "\t\t<dd>37.5671413926612</dd>\n",
       "\t<dt>11</dt>\n",
       "\t\t<dd>20.3743232824716</dd>\n",
       "\t<dt>12</dt>\n",
       "\t\t<dd>-88.9463929579014</dd>\n",
       "\t<dt>13</dt>\n",
       "\t\t<dd>80.8174146213346</dd>\n",
       "\t<dt>14</dt>\n",
       "\t\t<dd>71.1751527115298</dd>\n",
       "\t<dt>15</dt>\n",
       "\t\t<dd>-45.1433582133811</dd>\n",
       "\t<dt>16</dt>\n",
       "\t\t<dd>94.442278006998</dd>\n",
       "\t<dt>17</dt>\n",
       "\t\t<dd>9.49918666813523</dd>\n",
       "\t<dt>18</dt>\n",
       "\t\t<dd>37.0975278100191</dd>\n",
       "\t<dt>19</dt>\n",
       "\t\t<dd>100.684822888514</dd>\n",
       "\t<dt>20</dt>\n",
       "\t\t<dd>-75.3201536858338</dd>\n",
       "</dl>\n"
      ],
      "text/latex": [
       "\\begin{description*}\n",
       "\\item[1] 106.758300644736\n",
       "\\item[2] -67.2745740597968\n",
       "\\item[3] -14.5936314420543\n",
       "\\item[4] 65.0886870620929\n",
       "\\item[5] -215.977608804317\n",
       "\\item[6] -213.604131048097\n",
       "\\item[7] 48.5638236764295\n",
       "\\item[8] 40.0616183609669\n",
       "\\item[9] 8.72957308549311\n",
       "\\item[10] 37.5671413926612\n",
       "\\item[11] 20.3743232824716\n",
       "\\item[12] -88.9463929579014\n",
       "\\item[13] 80.8174146213346\n",
       "\\item[14] 71.1751527115298\n",
       "\\item[15] -45.1433582133811\n",
       "\\item[16] 94.442278006998\n",
       "\\item[17] 9.49918666813523\n",
       "\\item[18] 37.0975278100191\n",
       "\\item[19] 100.684822888514\n",
       "\\item[20] -75.3201536858338\n",
       "\\end{description*}\n"
      ],
      "text/markdown": [
       "1\n",
       ":   106.7583006447362\n",
       ":   -67.27457405979683\n",
       ":   -14.59363144205434\n",
       ":   65.08868706209295\n",
       ":   -215.9776088043176\n",
       ":   -213.6041310480977\n",
       ":   48.56382367642958\n",
       ":   40.06161836096699\n",
       ":   8.7295730854931110\n",
       ":   37.567141392661211\n",
       ":   20.374323282471612\n",
       ":   -88.946392957901413\n",
       ":   80.817414621334614\n",
       ":   71.175152711529815\n",
       ":   -45.143358213381116\n",
       ":   94.44227800699817\n",
       ":   9.4991866681352318\n",
       ":   37.097527810019119\n",
       ":   100.68482288851420\n",
       ":   -75.3201536858338\n",
       "\n"
      ],
      "text/plain": [
       "          1           2           3           4           5           6 \n",
       " 106.758301  -67.274574  -14.593631   65.088687 -215.977609 -213.604131 \n",
       "          7           8           9          10          11          12 \n",
       "  48.563824   40.061618    8.729573   37.567141   20.374323  -88.946393 \n",
       "         13          14          15          16          17          18 \n",
       "  80.817415   71.175153  -45.143358   94.442278    9.499187   37.097528 \n",
       "         19          20 \n",
       " 100.684823  -75.320154 "
      ]
     },
     "metadata": {},
     "output_type": "display_data"
    }
   ],
   "source": [
    "df<-read.csv('./Rocket_Prop.csv')\n",
    "df<-df[,c(2,3)]\n",
    "colnames(df)<-c('Shear_length','Age_Propellant')\n",
    "fit<-lm(Shear_length~Age_Propellant,data=df)\n",
    "resid(fit)"
   ]
  },
  {
   "cell_type": "markdown",
   "metadata": {},
   "source": [
    "5,6번의 절대값이 커 Outlier일 가능성이 큼"
   ]
  },
  {
   "cell_type": "code",
   "execution_count": 38,
   "metadata": {},
   "outputs": [
    {
     "data": {
      "image/png": "[encoded data removed]",
      "text/plain": [
       "Plot with title \"\""
      ]
     },
     "metadata": {},
     "output_type": "display_data"
    }
   ],
   "source": [
    "par(mfrow=c(2,2))\n",
    "plot(fit)"
   ]
  },
  {
   "cell_type": "code",
   "execution_count": 39,
   "metadata": {},
   "outputs": [
    {
     "data": {
      "text/plain": [
       "\n",
       "Call:\n",
       "lm(formula = Shear_length ~ Age_Propellant, data = df)\n",
       "\n",
       "Residuals:\n",
       "    Min      1Q  Median      3Q     Max \n",
       "-215.98  -50.68   28.74   66.61  106.76 \n",
       "\n",
       "Coefficients:\n",
       "               Estimate Std. Error t value Pr(>|t|)    \n",
       "(Intercept)    2627.822     44.184   59.48  < 2e-16 ***\n",
       "Age_Propellant  -37.154      2.889  -12.86 1.64e-10 ***\n",
       "---\n",
       "Signif. codes:  0 '***' 0.001 '**' 0.01 '*' 0.05 '.' 0.1 ' ' 1\n",
       "\n",
       "Residual standard error: 96.11 on 18 degrees of freedom\n",
       "Multiple R-squared:  0.9018,\tAdjusted R-squared:  0.8964 \n",
       "F-statistic: 165.4 on 1 and 18 DF,  p-value: 1.643e-10\n"
      ]
     },
     "metadata": {},
     "output_type": "display_data"
    },
    {
     "data": {
      "text/plain": [
       "\n",
       "Call:\n",
       "lm(formula = Shear_length ~ Age_Propellant, data = df[-c(5, 6), \n",
       "    ])\n",
       "\n",
       "Residuals:\n",
       "    Min      1Q  Median      3Q     Max \n",
       "-118.07  -35.67   11.31   44.75   83.98 \n",
       "\n",
       "Coefficients:\n",
       "               Estimate Std. Error t value Pr(>|t|)    \n",
       "(Intercept)    2658.973     30.533   87.08  < 2e-16 ***\n",
       "Age_Propellant  -37.694      1.979  -19.05 2.02e-12 ***\n",
       "---\n",
       "Signif. codes:  0 '***' 0.001 '**' 0.01 '*' 0.05 '.' 0.1 ' ' 1\n",
       "\n",
       "Residual standard error: 62.97 on 16 degrees of freedom\n",
       "Multiple R-squared:  0.9578,\tAdjusted R-squared:  0.9551 \n",
       "F-statistic: 362.9 on 1 and 16 DF,  p-value: 2.023e-12\n"
      ]
     },
     "metadata": {},
     "output_type": "display_data"
    }
   ],
   "source": [
    "summary(fit)\n",
    "summary(lm(Shear_length~Age_Propellant,data=df[-c(5,6),]))"
   ]
  },
  {
   "cell_type": "markdown",
   "metadata": {},
   "source": [
    "5,6번 제거 후 MS_res 5000 이상이나 감소했지만 회귀 계수는 거의 변화 없음->influential point 아님<br>\n",
    "만약 진짜 나쁜 값이 었다면 제거 후 파라미터 추정 값의 정확성 향상 되거나, CI, PI 길이 줄어 들었어야 됨<br>\n",
    "그렇다면 influential point는 어떻게 판별할까?\n"
   ]
  },
  {
   "cell_type": "markdown",
   "metadata": {},
   "source": [
    "<b>1) Hat element</b>"
   ]
  },
  {
   "cell_type": "code",
   "execution_count": 27,
   "metadata": {},
   "outputs": [],
   "source": [
    "df2<-read.csv('./Delivery_Time2.csv')\n",
    "colnames(df2)<-c('Time','Case','Distance')\n",
    "fit2<-lm(Time~.,data=df2)\n",
    "p=dim(df2)[2]\n",
    "n<-dim(df2)[1]\n",
    "Criterion=2*p/n #If h_ii> Criterion then leverage point\n",
    "hii<-lm.influence(fit2)$hat"
   ]
  },
  {
   "cell_type": "markdown",
   "metadata": {},
   "source": [
    "$\\bar{h}=\\frac{p}{n}$<br>\n",
    "$\\frac{2p}{n}$보다 크면 데이터 공간에서 먼 곳 있으므로 leverage point로 진단<br>\n",
    "Hat element은 x 공간에서의 위치만 보기 때문에 R-student 같은 다른 척도들과 같이 봐야 됨"
   ]
  },
  {
   "cell_type": "code",
   "execution_count": 28,
   "metadata": {},
   "outputs": [],
   "source": [
    "OUTLIERS<-rep(NA,n)\n",
    "for (i in 1:n){\n",
    "    if (hii[i]>Criterion){\n",
    "        OUTLIERS[i]<-i\n",
    "    }\n",
    "}"
   ]
  },
  {
   "cell_type": "code",
   "execution_count": 30,
   "metadata": {},
   "outputs": [
    {
     "data": {
      "text/html": [
       "<ol class=list-inline>\n",
       "\t<li>9</li>\n",
       "\t<li>22</li>\n",
       "</ol>\n"
      ],
      "text/latex": [
       "\\begin{enumerate*}\n",
       "\\item 9\n",
       "\\item 22\n",
       "\\end{enumerate*}\n"
      ],
      "text/markdown": [
       "1. 9\n",
       "2. 22\n",
       "\n",
       "\n"
      ],
      "text/plain": [
       "[1]  9 22\n",
       "attr(,\"na.action\")\n",
       " [1]  1  2  3  4  5  6  7  8 10 11 12 13 14 15 16 17 18 19 20 21 23 24 25\n",
       "attr(,\"class\")\n",
       "[1] \"omit\""
      ]
     },
     "metadata": {},
     "output_type": "display_data"
    }
   ],
   "source": [
    "na.omit(OUTLIERS) #hii that bigger than Criterion"
   ]
  },
  {
   "cell_type": "markdown",
   "metadata": {},
   "source": [
    "hat element로 봤을 때 포인트 9,22가 leverage point<br>\n",
    "위에서 internally나 externally studentized residual은 22에 대해 별로 크지 않았어서 influential point 아닐 가능성이 큼<br>\n",
    "하지만 포인트 9에 대해서는 커서 influential 가능성 높음"
   ]
  },
  {
   "cell_type": "code",
   "execution_count": 31,
   "metadata": {},
   "outputs": [
    {
     "data": {
      "text/html": [
       "<dl class=dl-horizontal>\n",
       "\t<dt>(Intercept)</dt>\n",
       "\t\t<dd>2.3412311451922</dd>\n",
       "\t<dt>Case</dt>\n",
       "\t\t<dd>1.61590721060925</dd>\n",
       "\t<dt>Distance</dt>\n",
       "\t\t<dd>0.0143848262555481</dd>\n",
       "</dl>\n"
      ],
      "text/latex": [
       "\\begin{description*}\n",
       "\\item[(Intercept)] 2.3412311451922\n",
       "\\item[Case] 1.61590721060925\n",
       "\\item[Distance] 0.0143848262555481\n",
       "\\end{description*}\n"
      ],
      "text/markdown": [
       "(Intercept)\n",
       ":   2.3412311451922Case\n",
       ":   1.61590721060925Distance\n",
       ":   0.0143848262555481\n",
       "\n"
      ],
      "text/plain": [
       "(Intercept)        Case    Distance \n",
       " 2.34123115  1.61590721  0.01438483 "
      ]
     },
     "metadata": {},
     "output_type": "display_data"
    },
    {
     "data": {
      "text/html": [
       "<dl class=dl-horizontal>\n",
       "\t<dt>(Intercept)</dt>\n",
       "\t\t<dd>4.44723773391617</dd>\n",
       "\t<dt>Case</dt>\n",
       "\t\t<dd>1.49769127861783</dd>\n",
       "\t<dt>Distance</dt>\n",
       "\t\t<dd>0.0103240586784362</dd>\n",
       "</dl>\n"
      ],
      "text/latex": [
       "\\begin{description*}\n",
       "\\item[(Intercept)] 4.44723773391617\n",
       "\\item[Case] 1.49769127861783\n",
       "\\item[Distance] 0.0103240586784362\n",
       "\\end{description*}\n"
      ],
      "text/markdown": [
       "(Intercept)\n",
       ":   4.44723773391617Case\n",
       ":   1.49769127861783Distance\n",
       ":   0.0103240586784362\n",
       "\n"
      ],
      "text/plain": [
       "(Intercept)        Case    Distance \n",
       " 4.44723773  1.49769128  0.01032406 "
      ]
     },
     "metadata": {},
     "output_type": "display_data"
    },
    {
     "data": {
      "text/html": [
       "<dl class=dl-horizontal>\n",
       "\t<dt>(Intercept)</dt>\n",
       "\t\t<dd>1.91574038969866</dd>\n",
       "\t<dt>Case</dt>\n",
       "\t\t<dd>1.78632360714493</dd>\n",
       "\t<dt>Distance</dt>\n",
       "\t\t<dd>0.0123691121278136</dd>\n",
       "</dl>\n"
      ],
      "text/latex": [
       "\\begin{description*}\n",
       "\\item[(Intercept)] 1.91574038969866\n",
       "\\item[Case] 1.78632360714493\n",
       "\\item[Distance] 0.0123691121278136\n",
       "\\end{description*}\n"
      ],
      "text/markdown": [
       "(Intercept)\n",
       ":   1.91574038969866Case\n",
       ":   1.78632360714493Distance\n",
       ":   0.0123691121278136\n",
       "\n"
      ],
      "text/plain": [
       "(Intercept)        Case    Distance \n",
       " 1.91574039  1.78632361  0.01236911 "
      ]
     },
     "metadata": {},
     "output_type": "display_data"
    },
    {
     "data": {
      "text/html": [
       "<dl class=dl-horizontal>\n",
       "\t<dt>(Intercept)</dt>\n",
       "\t\t<dd>4.64269199747137</dd>\n",
       "\t<dt>Case</dt>\n",
       "\t\t<dd>1.45560674648135</dd>\n",
       "\t<dt>Distance</dt>\n",
       "\t\t<dd>0.0105493826151341</dd>\n",
       "</dl>\n"
      ],
      "text/latex": [
       "\\begin{description*}\n",
       "\\item[(Intercept)] 4.64269199747137\n",
       "\\item[Case] 1.45560674648135\n",
       "\\item[Distance] 0.0105493826151341\n",
       "\\end{description*}\n"
      ],
      "text/markdown": [
       "(Intercept)\n",
       ":   4.64269199747137Case\n",
       ":   1.45560674648135Distance\n",
       ":   0.0105493826151341\n",
       "\n"
      ],
      "text/plain": [
       "(Intercept)        Case    Distance \n",
       " 4.64269200  1.45560675  0.01054938 "
      ]
     },
     "metadata": {},
     "output_type": "display_data"
    }
   ],
   "source": [
    "#deleting leverage point\n",
    "coef(lm(Time~.,data=df2)) #9,22 in\n",
    "coef(lm(Time~.,data=df2[-9,])) #22 in\n",
    "coef(lm(Time~.,data=df2[-22,])) #9 in\n",
    "coef(lm(Time~.,data=df2[-c(9,22),])) #no"
   ]
  },
  {
   "cell_type": "markdown",
   "metadata": {},
   "source": [
    "9번을 지웠을 때 $\\beta_{1}$은 28%정도 변화하지만 $\\beta_{2}$는 90퍼센트나 변화<br>\n",
    "이것은 $x_2$의 9번 관측치가 매우 크기 때문일 듯"
   ]
  },
  {
   "cell_type": "markdown",
   "metadata": {},
   "source": [
    "<b>2) Cook's D : Measure of Inlfuence</b>"
   ]
  },
  {
   "cell_type": "markdown",
   "metadata": {},
   "source": [
    "모든 관측치로 추정 된 $\\hat{\\beta}$와 $i$번째 관측치를 제거하고 계산한 $\\hat{\\beta}_{(i)}$의 거리의 제곱<br>\n",
    "$D_{i}=\\frac{(\\hat{\\beta}_{(i)}-\\hat{\\beta})^{'}\\mathbf{X^{'}X}(\\hat{\\beta}_{(i)}-\\hat{\\beta})   }{pMS_{res}}=\\frac{(\\hat{y}_{(i)}-\\hat{y})^{'}\\mathbf{X^{'}X}(\\hat{y}_{(i)}-\\hat{y})   }{pMS_{res}}$ <br>\n",
    "$D_{i}$가 큰 관측치는 $\\beta$에 상당한 영향을 주는 관측치<br>\n",
    "$F_{0.5,p,n-p}$는 1에 가까워 $D_{i}$가 1보다 크면 influential point라고 진단<br>\n",
    "가장 직관적인 해석은 i번째 관측치를 없다고 생각했을 떄 적합된 y값의 변화(Eulidean distance)"
   ]
  },
  {
   "cell_type": "code",
   "execution_count": 33,
   "metadata": {},
   "outputs": [],
   "source": [
    "#install.packages(\"car\", repos='http://cran.us.r-project.org')\n",
    "library(car)"
   ]
  },
  {
   "cell_type": "code",
   "execution_count": 34,
   "metadata": {},
   "outputs": [
    {
     "data": {
      "text/html": [
       "<dl class=dl-horizontal>\n",
       "\t<dt>1</dt>\n",
       "\t\t<dd>0.100092129125834</dd>\n",
       "\t<dt>2</dt>\n",
       "\t\t<dd>0.00337570356687418</dd>\n",
       "\t<dt>3</dt>\n",
       "\t\t<dd>9.4557846088084e-06</dd>\n",
       "\t<dt>4</dt>\n",
       "\t\t<dd>0.0776471813619868</dd>\n",
       "\t<dt>5</dt>\n",
       "\t\t<dd>0.000543221744489784</dd>\n",
       "\t<dt>6</dt>\n",
       "\t\t<dd>0.000123106661311344</dd>\n",
       "\t<dt>7</dt>\n",
       "\t\t<dd>0.00217160409706436</dd>\n",
       "\t<dt>8</dt>\n",
       "\t\t<dd>0.00305113518198245</dd>\n",
       "\t<dt>9</dt>\n",
       "\t\t<dd>3.41931841116537</dd>\n",
       "\t<dt>10</dt>\n",
       "\t\t<dd>0.0538451604192651</dd>\n",
       "\t<dt>11</dt>\n",
       "\t\t<dd>0.0161997543806557</dd>\n",
       "\t<dt>12</dt>\n",
       "\t\t<dd>0.00159639162530355</dd>\n",
       "\t<dt>13</dt>\n",
       "\t\t<dd>0.00229473737362302</dd>\n",
       "\t<dt>14</dt>\n",
       "\t\t<dd>0.00329278559791443</dd>\n",
       "\t<dt>15</dt>\n",
       "\t\t<dd>0.000631987963530509</dd>\n",
       "\t<dt>16</dt>\n",
       "\t\t<dd>0.00328908588518219</dd>\n",
       "\t<dt>17</dt>\n",
       "\t\t<dd>0.000401341900638193</dd>\n",
       "\t<dt>18</dt>\n",
       "\t\t<dd>0.0439780744349643</dd>\n",
       "\t<dt>19</dt>\n",
       "\t\t<dd>0.0119186813746299</dd>\n",
       "\t<dt>20</dt>\n",
       "\t\t<dd>0.132444901934547</dd>\n",
       "\t<dt>21</dt>\n",
       "\t\t<dd>0.050860627012911</dd>\n",
       "\t<dt>22</dt>\n",
       "\t\t<dd>0.451045450576813</dd>\n",
       "\t<dt>23</dt>\n",
       "\t\t<dd>0.0298989157155625</dd>\n",
       "\t<dt>24</dt>\n",
       "\t\t<dd>0.1023223997878</dd>\n",
       "\t<dt>25</dt>\n",
       "\t\t<dd>0.000108469351734737</dd>\n",
       "</dl>\n"
      ],
      "text/latex": [
       "\\begin{description*}\n",
       "\\item[1] 0.100092129125834\n",
       "\\item[2] 0.00337570356687418\n",
       "\\item[3] 9.4557846088084e-06\n",
       "\\item[4] 0.0776471813619868\n",
       "\\item[5] 0.000543221744489784\n",
       "\\item[6] 0.000123106661311344\n",
       "\\item[7] 0.00217160409706436\n",
       "\\item[8] 0.00305113518198245\n",
       "\\item[9] 3.41931841116537\n",
       "\\item[10] 0.0538451604192651\n",
       "\\item[11] 0.0161997543806557\n",
       "\\item[12] 0.00159639162530355\n",
       "\\item[13] 0.00229473737362302\n",
       "\\item[14] 0.00329278559791443\n",
       "\\item[15] 0.000631987963530509\n",
       "\\item[16] 0.00328908588518219\n",
       "\\item[17] 0.000401341900638193\n",
       "\\item[18] 0.0439780744349643\n",
       "\\item[19] 0.0119186813746299\n",
       "\\item[20] 0.132444901934547\n",
       "\\item[21] 0.050860627012911\n",
       "\\item[22] 0.451045450576813\n",
       "\\item[23] 0.0298989157155625\n",
       "\\item[24] 0.1023223997878\n",
       "\\item[25] 0.000108469351734737\n",
       "\\end{description*}\n"
      ],
      "text/markdown": [
       "1\n",
       ":   0.1000921291258342\n",
       ":   0.003375703566874183\n",
       ":   9.4557846088084e-064\n",
       ":   0.07764718136198685\n",
       ":   0.0005432217444897846\n",
       ":   0.0001231066613113447\n",
       ":   0.002171604097064368\n",
       ":   0.003051135181982459\n",
       ":   3.4193184111653710\n",
       ":   0.053845160419265111\n",
       ":   0.016199754380655712\n",
       ":   0.0015963916253035513\n",
       ":   0.0022947373736230214\n",
       ":   0.0032927855979144315\n",
       ":   0.00063198796353050916\n",
       ":   0.0032890858851821917\n",
       ":   0.00040134190063819318\n",
       ":   0.043978074434964319\n",
       ":   0.011918681374629920\n",
       ":   0.13244490193454721\n",
       ":   0.05086062701291122\n",
       ":   0.45104545057681323\n",
       ":   0.029898915715562524\n",
       ":   0.102322399787825\n",
       ":   0.000108469351734737\n",
       "\n"
      ],
      "text/plain": [
       "           1            2            3            4            5            6 \n",
       "1.000921e-01 3.375704e-03 9.455785e-06 7.764718e-02 5.432217e-04 1.231067e-04 \n",
       "           7            8            9           10           11           12 \n",
       "2.171604e-03 3.051135e-03 3.419318e+00 5.384516e-02 1.619975e-02 1.596392e-03 \n",
       "          13           14           15           16           17           18 \n",
       "2.294737e-03 3.292786e-03 6.319880e-04 3.289086e-03 4.013419e-04 4.397807e-02 \n",
       "          19           20           21           22           23           24 \n",
       "1.191868e-02 1.324449e-01 5.086063e-02 4.510455e-01 2.989892e-02 1.023224e-01 \n",
       "          25 \n",
       "1.084694e-04 "
      ]
     },
     "metadata": {},
     "output_type": "display_data"
    }
   ],
   "source": [
    "cooks.distance(fit2)"
   ]
  },
  {
   "cell_type": "code",
   "execution_count": 35,
   "metadata": {},
   "outputs": [
    {
     "data": {
      "text/html": [
       "<strong>9:</strong> 9"
      ],
      "text/latex": [
       "\\textbf{9:} 9"
      ],
      "text/markdown": [
       "**9:** 9"
      ],
      "text/plain": [
       "9 \n",
       "9 "
      ]
     },
     "metadata": {},
     "output_type": "display_data"
    }
   ],
   "source": [
    "which.max(cooks.distance(fit2))"
   ]
  },
  {
   "cell_type": "markdown",
   "metadata": {},
   "source": [
    "- Cook's distance로 봤을 때 가장 높은 것은 9번째 값으로 이 값을 지우면 LSE 추정값이 coefficient의 96% CI의 경계에서 벗어날 것이라는 것을 의미<br>\n",
    "- 두번째로 높은 22를 지우면 값을 지우면 LSE 추정값이 coefficient의 35% CI의 경계에서 벗어날 것이라는 것을 의미<br>\n",
    "- 이것으로 보아 9번은 influential but 22 is not\n"
   ]
  },
  {
   "cell_type": "markdown",
   "metadata": {},
   "source": [
    "<b>3) Influential point는 어떻게 다뤄야 할까?</b>"
   ]
  },
  {
   "cell_type": "markdown",
   "metadata": {},
   "source": [
    "- Influential point가 중요한 정보일 수 있지만 추정할 때에는 방해가 될 수 있음\n",
    "- robust estimation의 필요성"
   ]
  }
 ],
 "metadata": {
  "kernelspec": {
   "display_name": "R",
   "language": "R",
   "name": "ir"
  },
  "language_info": {
   "codemirror_mode": "r",
   "file_extension": ".r",
   "mimetype": "text/x-r-source",
   "name": "R",
   "pygments_lexer": "r",
   "version": "3.5.1"
  }
 },
 "nbformat": 4,
 "nbformat_minor": 2
}
