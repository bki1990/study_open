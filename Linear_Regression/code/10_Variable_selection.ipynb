{
 "cells": [
  {
   "cell_type": "code",
   "execution_count": 5,
   "metadata": {},
   "outputs": [],
   "source": [
    "setwd('C:/Users/bki19/OneDrive/deskto/Linear_Regression/data')"
   ]
  },
  {
   "cell_type": "markdown",
   "metadata": {},
   "source": [
    "1. Fit the largest model possible to the data <br>\n",
    "2. Perfrom a thorough analysis of this model (Residual Analysis, MultiCollinearity)\n",
    "3. Determine if a transformation of the response or of some of the regressor is necessary<br>\n",
    "4. Determine if 'All possible regression' are feasible. (if not stepwise selection)<br>\n",
    "5. Compare and contrast the best models recommended by each criterion<br>\n",
    "6. Perform a thorough analysis of the best models (3~5 models)<br>\n",
    "7. Explore further need for further transformation<br>\n",
    "8. Discuss with sibject-matter expert<br>\n"
   ]
  },
  {
   "cell_type": "markdown",
   "metadata": {},
   "source": [
    "# <b>Criteria <br></b>"
   ]
  },
  {
   "cell_type": "markdown",
   "metadata": {},
   "source": [
    "<b>Coefficient of Multiple Determination <br></b>"
   ]
  },
  {
   "cell_type": "markdown",
   "metadata": {},
   "source": [
    "p개의 regressor 고정 시켜 놓고 비교 (p가 커질 수록 R^2 커지기 때문에 p가 달라지면 비교 어려워짐\n"
   ]
  },
  {
   "cell_type": "markdown",
   "metadata": {},
   "source": [
    "<b> Adjusted R^2 <br></b>"
   ]
  },
  {
   "cell_type": "markdown",
   "metadata": {},
   "source": [
    "Regressor 추가 된다고 커지지 않음 (추가적인 regressor가 추가전 보다 커진 다는 것은 iff partial F-statistic이 1보다 크다는 것)<br>\n",
    "adj R^2 maximize 하는 모형 찾기<br>\n",
    "결국 MSres를 minimize 하는것과 같아짐"
   ]
  },
  {
   "cell_type": "markdown",
   "metadata": {},
   "source": [
    "<b> Mellow's Cp Statistic<br></b>"
   ]
  },
  {
   "cell_type": "markdown",
   "metadata": {},
   "source": [
    "yhat과 E(yi)의 MSE를 계산했을 때 bias term과 var(yhat)을 simultaneous 하게 풀음<br>\n",
    "SSres(p)/sima^2  -n+2p<br>\n",
    "bias가 0일 때 단순히 p가 됨<br>\n",
    "bias 허용하면서 variance 볼 때 sigma의 estimate로 Full model의 MSres 사용했을 때 영향력 없는 변수들 사용하면(zero regression coeff) sigma^2 overestimate 하게 됨->따라서 Cp는 증가<br>\n"
   ]
  },
  {
   "cell_type": "markdown",
   "metadata": {},
   "source": [
    "<b> Information Criteria<br></b>"
   ]
  },
  {
   "cell_type": "markdown",
   "metadata": {},
   "source": [
    "based on miximizing expected entropy of the model such as Kullback-Leibler information measure"
   ]
  },
  {
   "cell_type": "markdown",
   "metadata": {},
   "source": [
    "<b> PRESS STATISTICS<br></b>"
   ]
  },
  {
   "cell_type": "markdown",
   "metadata": {},
   "source": [
    "# Variable Selection Techniques"
   ]
  },
  {
   "cell_type": "markdown",
   "metadata": {},
   "source": [
    "<b> All possible Regression<br></b>"
   ]
  },
  {
   "cell_type": "markdown",
   "metadata": {},
   "source": [
    "변수를 하나 하나 넣었다 뺐다 하면서 2^p번 계산 -> Computationally intensive"
   ]
  },
  {
   "cell_type": "code",
   "execution_count": 6,
   "metadata": {},
   "outputs": [],
   "source": [
    "df<-read.csv('./Hald_Cement.csv')"
   ]
  },
  {
   "cell_type": "code",
   "execution_count": 8,
   "metadata": {},
   "outputs": [
    {
     "name": "stderr",
     "output_type": "stream",
     "text": [
      "also installing the dependencies 'checkmate', 'goftest', 'gridExtra', 'nortest'\n",
      "\n"
     ]
    },
    {
     "name": "stdout",
     "output_type": "stream",
     "text": [
      "package 'checkmate' successfully unpacked and MD5 sums checked\n",
      "package 'goftest' successfully unpacked and MD5 sums checked\n",
      "package 'gridExtra' successfully unpacked and MD5 sums checked\n",
      "package 'nortest' successfully unpacked and MD5 sums checked\n",
      "package 'olsrr' successfully unpacked and MD5 sums checked\n",
      "\n",
      "The downloaded binary packages are in\n",
      "\tC:\\Users\\bki19\\AppData\\Local\\Temp\\Rtmpgd8WUA\\downloaded_packages\n"
     ]
    },
    {
     "name": "stderr",
     "output_type": "stream",
     "text": [
      "Warning message:\n",
      "\"package 'olsrr' was built under R version 3.5.3\"\n",
      "Attaching package: 'olsrr'\n",
      "\n",
      "The following object is masked from 'package:datasets':\n",
      "\n",
      "    rivers\n",
      "\n"
     ]
    }
   ],
   "source": [
    "#install.packages(\"olsrr\", repos='http://cran.us.r-project.org')\n",
    "library(olsrr)"
   ]
  },
  {
   "cell_type": "code",
   "execution_count": 23,
   "metadata": {},
   "outputs": [
    {
     "data": {
      "text/html": [
       "<table>\n",
       "<thead><tr><th></th><th scope=col>mindex</th><th scope=col>n</th><th scope=col>predictors</th><th scope=col>rsquare</th><th scope=col>adjr</th><th scope=col>predrsq</th><th scope=col>cp</th><th scope=col>aic</th><th scope=col>sbic</th><th scope=col>sbc</th><th scope=col>msep</th><th scope=col>fpe</th><th scope=col>apc</th><th scope=col>hsp</th></tr></thead>\n",
       "<tbody>\n",
       "\t<tr><th scope=row>4</th><td> 1         </td><td>1          </td><td>x4         </td><td>0.6745420  </td><td>0.6449549  </td><td>0.56026422 </td><td>138.730833 </td><td> 97.74404  </td><td>55.54014   </td><td> 99.43889  </td><td> 95.185668 </td><td> 92.713313 </td><td>0.44380641 </td><td> 8.0351538 </td></tr>\n",
       "\t<tr><th scope=row>2</th><td> 2         </td><td>1          </td><td>x2         </td><td>0.6662683  </td><td>0.6359290  </td><td>0.55736686 </td><td>142.486407 </td><td> 98.07040  </td><td>55.84980   </td><td> 99.76524  </td><td> 97.605452 </td><td> 95.070246 </td><td>0.45508874 </td><td> 8.2394213 </td></tr>\n",
       "\t<tr><th scope=row>1</th><td> 3         </td><td>1          </td><td>x1         </td><td>0.5339480  </td><td>0.4915797  </td><td>0.37416794 </td><td>202.548769 </td><td>102.41187  </td><td>60.00353   </td><td>104.10672  </td><td>136.304727 </td><td>132.764344 </td><td>0.63552542 </td><td>11.5062432 </td></tr>\n",
       "\t<tr><th scope=row>3</th><td> 4         </td><td>1          </td><td>x3         </td><td>0.2858727  </td><td>0.2209521  </td><td>0.03660085 </td><td>315.154284 </td><td>107.95980  </td><td>65.38502   </td><td>109.65465  </td><td>208.858512 </td><td>203.433616 </td><td>0.97380991 </td><td>17.6309134 </td></tr>\n",
       "\t<tr><th scope=row>5</th><td> 5         </td><td>2          </td><td>x1 x2      </td><td>0.9786784  </td><td>0.9744140  </td><td>0.96543051 </td><td>  2.678242 </td><td> 64.31239  </td><td>29.24371   </td><td> 66.57219  </td><td>  7.621616 </td><td>  7.126706 </td><td>0.03411460 </td><td> 0.6433831 </td></tr>\n",
       "\t<tr><th scope=row>7</th><td> 6         </td><td>2          </td><td>x1 x4      </td><td>0.9724710  </td><td>0.9669653  </td><td>0.95536268 </td><td>  5.495851 </td><td> 67.63411  </td><td>30.98052   </td><td> 69.89390  </td><td>  9.840483 </td><td>  9.201491 </td><td>0.04404632 </td><td> 0.8306901 </td></tr>\n",
       "\t<tr><th scope=row>10</th><td> 7         </td><td>2          </td><td>x3 x4      </td><td>0.9352896  </td><td>0.9223476  </td><td>0.89173803 </td><td> 22.373112 </td><td> 78.74499  </td><td>37.88664   </td><td> 81.00478  </td><td> 23.131327 </td><td> 21.629293 </td><td>0.10353658 </td><td> 1.9526445 </td></tr>\n",
       "\t<tr><th scope=row>8</th><td> 8         </td><td>2          </td><td>x2 x3      </td><td>0.8470254  </td><td>0.8164305  </td><td>0.74160368 </td><td> 62.437716 </td><td> 89.92954  </td><td>46.83922   </td><td> 92.18934  </td><td> 54.682205 </td><td> 51.131412 </td><td>0.24475933 </td><td> 4.6160303 </td></tr>\n",
       "\t<tr><th scope=row>9</th><td> 9         </td><td>2          </td><td>x2 x4      </td><td>0.6800604  </td><td>0.6160725  </td><td>0.46172985 </td><td>138.225920 </td><td> 99.52173  </td><td>55.50846   </td><td>101.78152  </td><td>114.365419 </td><td>106.939093 </td><td>0.51190335 </td><td> 9.6542237 </td></tr>\n",
       "\t<tr><th scope=row>6</th><td>10         </td><td>2          </td><td>x1 x3      </td><td>0.5481667  </td><td>0.4578001  </td><td>0.18324307 </td><td>198.094653 </td><td>104.00908  </td><td>59.74250   </td><td>106.26888  </td><td>161.512049 </td><td>151.024254 </td><td>0.72293320 </td><td>13.6341340 </td></tr>\n",
       "\t<tr><th scope=row>12</th><td>11         </td><td>3          </td><td>x1 x2 x4   </td><td>0.9823355  </td><td>0.9764473  </td><td>0.96857196 </td><td>  3.018233 </td><td> 63.86629  </td><td>31.17228   </td><td> 66.69103  </td><td>  7.892949 </td><td>  6.970397 </td><td>0.03336637 </td><td> 0.6662879 </td></tr>\n",
       "\t<tr><th scope=row>11</th><td>12         </td><td>3          </td><td>x1 x2 x3   </td><td>0.9822847  </td><td>0.9763796  </td><td>0.96686014 </td><td>  3.041280 </td><td> 63.90360  </td><td>31.18393   </td><td> 66.72834  </td><td>  7.915635 </td><td>  6.990431 </td><td>0.03346227 </td><td> 0.6682030 </td></tr>\n",
       "\t<tr><th scope=row>13</th><td>13         </td><td>3          </td><td>x1 x3 x4   </td><td>0.9812811  </td><td>0.9750415  </td><td>0.96518950 </td><td>  3.496824 </td><td> 64.61995  </td><td>31.40565   </td><td> 67.44470  </td><td>  8.364062 </td><td>  7.386444 </td><td>0.03535794 </td><td> 0.7060572 </td></tr>\n",
       "\t<tr><th scope=row>14</th><td>14         </td><td>3          </td><td>x2 x3 x4   </td><td>0.9728200  </td><td>0.9637599  </td><td>0.94592581 </td><td>  7.337474 </td><td> 69.46829  </td><td>32.99972   </td><td> 72.29303  </td><td> 12.144702 </td><td> 10.725191 </td><td>0.05134008 </td><td> 1.0252021 </td></tr>\n",
       "\t<tr><th scope=row>15</th><td>15         </td><td>4          </td><td>x1 x2 x3 x4</td><td>0.9823756  </td><td>0.9735634  </td><td>0.95936812 </td><td>  5.000000 </td><td> 65.83669  </td><td>34.41304   </td><td> 69.22639  </td><td> 10.125001 </td><td>  8.284091 </td><td>0.03965485 </td><td> 0.8547078 </td></tr>\n",
       "</tbody>\n",
       "</table>\n"
      ],
      "text/latex": [
       "\\begin{tabular}{r|llllllllllllll}\n",
       "  & mindex & n & predictors & rsquare & adjr & predrsq & cp & aic & sbic & sbc & msep & fpe & apc & hsp\\\\\n",
       "\\hline\n",
       "\t4 &  1          & 1           & x4          & 0.6745420   & 0.6449549   & 0.56026422  & 138.730833  &  97.74404   & 55.54014    &  99.43889   &  95.185668  &  92.713313  & 0.44380641  &  8.0351538 \\\\\n",
       "\t2 &  2          & 1           & x2          & 0.6662683   & 0.6359290   & 0.55736686  & 142.486407  &  98.07040   & 55.84980    &  99.76524   &  97.605452  &  95.070246  & 0.45508874  &  8.2394213 \\\\\n",
       "\t1 &  3          & 1           & x1          & 0.5339480   & 0.4915797   & 0.37416794  & 202.548769  & 102.41187   & 60.00353    & 104.10672   & 136.304727  & 132.764344  & 0.63552542  & 11.5062432 \\\\\n",
       "\t3 &  4          & 1           & x3          & 0.2858727   & 0.2209521   & 0.03660085  & 315.154284  & 107.95980   & 65.38502    & 109.65465   & 208.858512  & 203.433616  & 0.97380991  & 17.6309134 \\\\\n",
       "\t5 &  5          & 2           & x1 x2       & 0.9786784   & 0.9744140   & 0.96543051  &   2.678242  &  64.31239   & 29.24371    &  66.57219   &   7.621616  &   7.126706  & 0.03411460  &  0.6433831 \\\\\n",
       "\t7 &  6          & 2           & x1 x4       & 0.9724710   & 0.9669653   & 0.95536268  &   5.495851  &  67.63411   & 30.98052    &  69.89390   &   9.840483  &   9.201491  & 0.04404632  &  0.8306901 \\\\\n",
       "\t10 &  7          & 2           & x3 x4       & 0.9352896   & 0.9223476   & 0.89173803  &  22.373112  &  78.74499   & 37.88664    &  81.00478   &  23.131327  &  21.629293  & 0.10353658  &  1.9526445 \\\\\n",
       "\t8 &  8          & 2           & x2 x3       & 0.8470254   & 0.8164305   & 0.74160368  &  62.437716  &  89.92954   & 46.83922    &  92.18934   &  54.682205  &  51.131412  & 0.24475933  &  4.6160303 \\\\\n",
       "\t9 &  9          & 2           & x2 x4       & 0.6800604   & 0.6160725   & 0.46172985  & 138.225920  &  99.52173   & 55.50846    & 101.78152   & 114.365419  & 106.939093  & 0.51190335  &  9.6542237 \\\\\n",
       "\t6 & 10          & 2           & x1 x3       & 0.5481667   & 0.4578001   & 0.18324307  & 198.094653  & 104.00908   & 59.74250    & 106.26888   & 161.512049  & 151.024254  & 0.72293320  & 13.6341340 \\\\\n",
       "\t12 & 11          & 3           & x1 x2 x4    & 0.9823355   & 0.9764473   & 0.96857196  &   3.018233  &  63.86629   & 31.17228    &  66.69103   &   7.892949  &   6.970397  & 0.03336637  &  0.6662879 \\\\\n",
       "\t11 & 12          & 3           & x1 x2 x3    & 0.9822847   & 0.9763796   & 0.96686014  &   3.041280  &  63.90360   & 31.18393    &  66.72834   &   7.915635  &   6.990431  & 0.03346227  &  0.6682030 \\\\\n",
       "\t13 & 13          & 3           & x1 x3 x4    & 0.9812811   & 0.9750415   & 0.96518950  &   3.496824  &  64.61995   & 31.40565    &  67.44470   &   8.364062  &   7.386444  & 0.03535794  &  0.7060572 \\\\\n",
       "\t14 & 14          & 3           & x2 x3 x4    & 0.9728200   & 0.9637599   & 0.94592581  &   7.337474  &  69.46829   & 32.99972    &  72.29303   &  12.144702  &  10.725191  & 0.05134008  &  1.0252021 \\\\\n",
       "\t15 & 15          & 4           & x1 x2 x3 x4 & 0.9823756   & 0.9735634   & 0.95936812  &   5.000000  &  65.83669   & 34.41304    &  69.22639   &  10.125001  &   8.284091  & 0.03965485  &  0.8547078 \\\\\n",
       "\\end{tabular}\n"
      ],
      "text/markdown": [
       "\n",
       "| <!--/--> | mindex | n | predictors | rsquare | adjr | predrsq | cp | aic | sbic | sbc | msep | fpe | apc | hsp | \n",
       "|---|---|---|---|---|---|---|---|---|---|---|---|---|---|---|\n",
       "| 4 |  1          | 1           | x4          | 0.6745420   | 0.6449549   | 0.56026422  | 138.730833  |  97.74404   | 55.54014    |  99.43889   |  95.185668  |  92.713313  | 0.44380641  |  8.0351538  | \n",
       "| 2 |  2          | 1           | x2          | 0.6662683   | 0.6359290   | 0.55736686  | 142.486407  |  98.07040   | 55.84980    |  99.76524   |  97.605452  |  95.070246  | 0.45508874  |  8.2394213  | \n",
       "| 1 |  3          | 1           | x1          | 0.5339480   | 0.4915797   | 0.37416794  | 202.548769  | 102.41187   | 60.00353    | 104.10672   | 136.304727  | 132.764344  | 0.63552542  | 11.5062432  | \n",
       "| 3 |  4          | 1           | x3          | 0.2858727   | 0.2209521   | 0.03660085  | 315.154284  | 107.95980   | 65.38502    | 109.65465   | 208.858512  | 203.433616  | 0.97380991  | 17.6309134  | \n",
       "| 5 |  5          | 2           | x1 x2       | 0.9786784   | 0.9744140   | 0.96543051  |   2.678242  |  64.31239   | 29.24371    |  66.57219   |   7.621616  |   7.126706  | 0.03411460  |  0.6433831  | \n",
       "| 7 |  6          | 2           | x1 x4       | 0.9724710   | 0.9669653   | 0.95536268  |   5.495851  |  67.63411   | 30.98052    |  69.89390   |   9.840483  |   9.201491  | 0.04404632  |  0.8306901  | \n",
       "| 10 |  7          | 2           | x3 x4       | 0.9352896   | 0.9223476   | 0.89173803  |  22.373112  |  78.74499   | 37.88664    |  81.00478   |  23.131327  |  21.629293  | 0.10353658  |  1.9526445  | \n",
       "| 8 |  8          | 2           | x2 x3       | 0.8470254   | 0.8164305   | 0.74160368  |  62.437716  |  89.92954   | 46.83922    |  92.18934   |  54.682205  |  51.131412  | 0.24475933  |  4.6160303  | \n",
       "| 9 |  9          | 2           | x2 x4       | 0.6800604   | 0.6160725   | 0.46172985  | 138.225920  |  99.52173   | 55.50846    | 101.78152   | 114.365419  | 106.939093  | 0.51190335  |  9.6542237  | \n",
       "| 6 | 10          | 2           | x1 x3       | 0.5481667   | 0.4578001   | 0.18324307  | 198.094653  | 104.00908   | 59.74250    | 106.26888   | 161.512049  | 151.024254  | 0.72293320  | 13.6341340  | \n",
       "| 12 | 11          | 3           | x1 x2 x4    | 0.9823355   | 0.9764473   | 0.96857196  |   3.018233  |  63.86629   | 31.17228    |  66.69103   |   7.892949  |   6.970397  | 0.03336637  |  0.6662879  | \n",
       "| 11 | 12          | 3           | x1 x2 x3    | 0.9822847   | 0.9763796   | 0.96686014  |   3.041280  |  63.90360   | 31.18393    |  66.72834   |   7.915635  |   6.990431  | 0.03346227  |  0.6682030  | \n",
       "| 13 | 13          | 3           | x1 x3 x4    | 0.9812811   | 0.9750415   | 0.96518950  |   3.496824  |  64.61995   | 31.40565    |  67.44470   |   8.364062  |   7.386444  | 0.03535794  |  0.7060572  | \n",
       "| 14 | 14          | 3           | x2 x3 x4    | 0.9728200   | 0.9637599   | 0.94592581  |   7.337474  |  69.46829   | 32.99972    |  72.29303   |  12.144702  |  10.725191  | 0.05134008  |  1.0252021  | \n",
       "| 15 | 15          | 4           | x1 x2 x3 x4 | 0.9823756   | 0.9735634   | 0.95936812  |   5.000000  |  65.83669   | 34.41304    |  69.22639   |  10.125001  |   8.284091  | 0.03965485  |  0.8547078  | \n",
       "\n",
       "\n"
      ],
      "text/plain": [
       "   mindex n predictors  rsquare   adjr      predrsq    cp         aic      \n",
       "4   1     1 x4          0.6745420 0.6449549 0.56026422 138.730833  97.74404\n",
       "2   2     1 x2          0.6662683 0.6359290 0.55736686 142.486407  98.07040\n",
       "1   3     1 x1          0.5339480 0.4915797 0.37416794 202.548769 102.41187\n",
       "3   4     1 x3          0.2858727 0.2209521 0.03660085 315.154284 107.95980\n",
       "5   5     2 x1 x2       0.9786784 0.9744140 0.96543051   2.678242  64.31239\n",
       "7   6     2 x1 x4       0.9724710 0.9669653 0.95536268   5.495851  67.63411\n",
       "10  7     2 x3 x4       0.9352896 0.9223476 0.89173803  22.373112  78.74499\n",
       "8   8     2 x2 x3       0.8470254 0.8164305 0.74160368  62.437716  89.92954\n",
       "9   9     2 x2 x4       0.6800604 0.6160725 0.46172985 138.225920  99.52173\n",
       "6  10     2 x1 x3       0.5481667 0.4578001 0.18324307 198.094653 104.00908\n",
       "12 11     3 x1 x2 x4    0.9823355 0.9764473 0.96857196   3.018233  63.86629\n",
       "11 12     3 x1 x2 x3    0.9822847 0.9763796 0.96686014   3.041280  63.90360\n",
       "13 13     3 x1 x3 x4    0.9812811 0.9750415 0.96518950   3.496824  64.61995\n",
       "14 14     3 x2 x3 x4    0.9728200 0.9637599 0.94592581   7.337474  69.46829\n",
       "15 15     4 x1 x2 x3 x4 0.9823756 0.9735634 0.95936812   5.000000  65.83669\n",
       "   sbic     sbc       msep       fpe        apc        hsp       \n",
       "4  55.54014  99.43889  95.185668  92.713313 0.44380641  8.0351538\n",
       "2  55.84980  99.76524  97.605452  95.070246 0.45508874  8.2394213\n",
       "1  60.00353 104.10672 136.304727 132.764344 0.63552542 11.5062432\n",
       "3  65.38502 109.65465 208.858512 203.433616 0.97380991 17.6309134\n",
       "5  29.24371  66.57219   7.621616   7.126706 0.03411460  0.6433831\n",
       "7  30.98052  69.89390   9.840483   9.201491 0.04404632  0.8306901\n",
       "10 37.88664  81.00478  23.131327  21.629293 0.10353658  1.9526445\n",
       "8  46.83922  92.18934  54.682205  51.131412 0.24475933  4.6160303\n",
       "9  55.50846 101.78152 114.365419 106.939093 0.51190335  9.6542237\n",
       "6  59.74250 106.26888 161.512049 151.024254 0.72293320 13.6341340\n",
       "12 31.17228  66.69103   7.892949   6.970397 0.03336637  0.6662879\n",
       "11 31.18393  66.72834   7.915635   6.990431 0.03346227  0.6682030\n",
       "13 31.40565  67.44470   8.364062   7.386444 0.03535794  0.7060572\n",
       "14 32.99972  72.29303  12.144702  10.725191 0.05134008  1.0252021\n",
       "15 34.41304  69.22639  10.125001   8.284091 0.03965485  0.8547078"
      ]
     },
     "metadata": {},
     "output_type": "display_data"
    }
   ],
   "source": [
    "fit <- lm(y ~ ., data = df)\n",
    "ALL<-ols_step_all_possible(fit)\n",
    "ALL"
   ]
  },
  {
   "cell_type": "code",
   "execution_count": 14,
   "metadata": {},
   "outputs": [
    {
     "data": {
      "text/plain": [
       "[[1]]\n",
       "NULL\n",
       "\n",
       "[[2]]\n",
       "NULL\n"
      ]
     },
     "metadata": {},
     "output_type": "display_data"
    },
    {
     "data": {
      "image/png": "[encoded data removed]",
      "text/plain": [
       "plot without title"
      ]
     },
     "metadata": {},
     "output_type": "display_data"
    },
    {
     "data": {
      "image/png": "[encoded data removed]",
      "text/plain": [
       "plot without title"
      ]
     },
     "metadata": {},
     "output_type": "display_data"
    }
   ],
   "source": [
    "plot(ALL)"
   ]
  },
  {
   "cell_type": "markdown",
   "metadata": {},
   "source": [
    "x2만 있을 때 coeff estimate은 0.789이지만 x4가 들어오면 0.311로 50퍼센트나 감소<br>\n",
    "x3까지 들어오면 -0.923으로 아예 마이너스가 되어 버림<br>\n",
    "=>이것으로 보아 각 regression coeff는 다른 regressor에 굉장히 의존<br>"
   ]
  },
  {
   "cell_type": "markdown",
   "metadata": {},
   "source": [
    "R^2로 봤을때: (x1,x2)와 (x1,x4)는 거의 같음. 하지만 regressor 하나일 때 x4가 가장 높았기 때문에 (x1,x4)를 선택하는 것이 나아 보임"
   ]
  },
  {
   "cell_type": "code",
   "execution_count": 16,
   "metadata": {},
   "outputs": [
    {
     "data": {
      "text/html": [
       "<table>\n",
       "<thead><tr><th></th><th scope=col>x1</th><th scope=col>x2</th><th scope=col>x3</th><th scope=col>x4</th></tr></thead>\n",
       "<tbody>\n",
       "\t<tr><th scope=row>x1</th><td> 1.0000000</td><td> 0.2285795</td><td>-0.8241338</td><td>-0.2454451</td></tr>\n",
       "\t<tr><th scope=row>x2</th><td> 0.2285795</td><td> 1.0000000</td><td>-0.1392424</td><td>-0.9729550</td></tr>\n",
       "\t<tr><th scope=row>x3</th><td>-0.8241338</td><td>-0.1392424</td><td> 1.0000000</td><td> 0.0295370</td></tr>\n",
       "\t<tr><th scope=row>x4</th><td>-0.2454451</td><td>-0.9729550</td><td> 0.0295370</td><td> 1.0000000</td></tr>\n",
       "</tbody>\n",
       "</table>\n"
      ],
      "text/latex": [
       "\\begin{tabular}{r|llll}\n",
       "  & x1 & x2 & x3 & x4\\\\\n",
       "\\hline\n",
       "\tx1 &  1.0000000 &  0.2285795 & -0.8241338 & -0.2454451\\\\\n",
       "\tx2 &  0.2285795 &  1.0000000 & -0.1392424 & -0.9729550\\\\\n",
       "\tx3 & -0.8241338 & -0.1392424 &  1.0000000 &  0.0295370\\\\\n",
       "\tx4 & -0.2454451 & -0.9729550 &  0.0295370 &  1.0000000\\\\\n",
       "\\end{tabular}\n"
      ],
      "text/markdown": [
       "\n",
       "| <!--/--> | x1 | x2 | x3 | x4 | \n",
       "|---|---|---|---|\n",
       "| x1 |  1.0000000 |  0.2285795 | -0.8241338 | -0.2454451 | \n",
       "| x2 |  0.2285795 |  1.0000000 | -0.1392424 | -0.9729550 | \n",
       "| x3 | -0.8241338 | -0.1392424 |  1.0000000 |  0.0295370 | \n",
       "| x4 | -0.2454451 | -0.9729550 |  0.0295370 |  1.0000000 | \n",
       "\n",
       "\n"
      ],
      "text/plain": [
       "   x1         x2         x3         x4        \n",
       "x1  1.0000000  0.2285795 -0.8241338 -0.2454451\n",
       "x2  0.2285795  1.0000000 -0.1392424 -0.9729550\n",
       "x3 -0.8241338 -0.1392424  1.0000000  0.0295370\n",
       "x4 -0.2454451 -0.9729550  0.0295370  1.0000000"
      ]
     },
     "metadata": {},
     "output_type": "display_data"
    }
   ],
   "source": [
    "cor(df[,-1])"
   ]
  },
  {
   "cell_type": "markdown",
   "metadata": {},
   "source": [
    "Simple Correlation으로 봤을 때: (x1,x3)과 (x2,x4)가 매우 높음\n",
    "=> (x1과 x2) 혹은 (x3과 x4)가 이미 model에 들어가 있으면 더 이상 변수 추가 필요 없어 보임"
   ]
  },
  {
   "cell_type": "markdown",
   "metadata": {},
   "source": [
    "MSres로 봤을 때: (x1,x2,x4)가 가장 낮고, 역시 이 때 adj R2 가장 높음<br>\n",
    "(x1,x2,x3),(x1,x3,x4), (x1,x2), (x1,x4) 역시 좋아 보임<br>\n",
    "=> 이 후보들 중에 봤을 때 regressor 추가 한다고해서 MSres 큰 차이 없음<br>\n",
    "(x1,x2), (x1,x4) 중에는 MSres 더 낮은 (x1,x2)가 좋아보임"
   ]
  },
  {
   "cell_type": "markdown",
   "metadata": {},
   "source": [
    "Cp:(x1,x2,x4), (x1,x2,x3),(x1,x3,x4), (x1,x2)가 좋아 보임<br>\n",
    "가장 심플한 (x1,x2)를 선택하자"
   ]
  },
  {
   "cell_type": "markdown",
   "metadata": {},
   "source": [
    "<b> Stepwise Regression<br></b>"
   ]
  },
  {
   "cell_type": "markdown",
   "metadata": {},
   "source": [
    "1. Forward Selection"
   ]
  },
  {
   "cell_type": "markdown",
   "metadata": {},
   "source": [
    "모형에 regressor가 없는 것처럼 보고 시작\n",
    "처음에 y와 simple correlation 가장 높은 것 추가\n",
    "두번 째 x는 yhat =b0+b1x1과 xhat1=a0+a1x1의 partial correlation이 높은 x2 선택후 partial F statistic이 기존 보다 높아지면 추가"
   ]
  },
  {
   "cell_type": "code",
   "execution_count": 18,
   "metadata": {},
   "outputs": [
    {
     "name": "stdout",
     "output_type": "stream",
     "text": [
      "Forward Selection Method    \n",
      "---------------------------\n",
      "\n",
      "Candidate Terms: \n",
      "\n",
      "1. x1 \n",
      "2. x2 \n",
      "3. x3 \n",
      "4. x4 \n",
      "\n",
      "We are selecting variables based on p value...\n",
      "\n",
      "Variables Entered: \n",
      "\n",
      "- x4 \n",
      "- x1 \n",
      "- x2 \n",
      "\n",
      "No more variables to be added.\n",
      "\n",
      "Final Model Output \n",
      "------------------\n",
      "\n",
      "                        Model Summary                         \n",
      "-------------------------------------------------------------\n",
      "R                       0.991       RMSE               2.309 \n",
      "R-Squared               0.982       Coef. Var          2.419 \n",
      "Adj. R-Squared          0.976       MSE                5.330 \n",
      "Pred R-Squared          0.969       MAE                1.606 \n",
      "-------------------------------------------------------------\n",
      " RMSE: Root Mean Square Error \n",
      " MSE: Mean Square Error \n",
      " MAE: Mean Absolute Error \n",
      "\n",
      "                                ANOVA                                 \n",
      "---------------------------------------------------------------------\n",
      "                Sum of                                               \n",
      "               Squares        DF    Mean Square       F         Sig. \n",
      "---------------------------------------------------------------------\n",
      "Regression    2667.790         3        889.263    166.832    0.0000 \n",
      "Residual        47.973         9          5.330                      \n",
      "Total         2715.763        12                                     \n",
      "---------------------------------------------------------------------\n",
      "\n",
      "                                   Parameter Estimates                                    \n",
      "-----------------------------------------------------------------------------------------\n",
      "      model      Beta    Std. Error    Std. Beta      t        Sig      lower      upper \n",
      "-----------------------------------------------------------------------------------------\n",
      "(Intercept)    71.648        14.142                  5.066    0.001    39.656    103.641 \n",
      "         x4    -0.237         0.173       -0.263    -1.365    0.205    -0.629      0.155 \n",
      "         x1     1.452         0.117        0.568    12.410    0.000     1.187      1.717 \n",
      "         x2     0.416         0.186        0.430     2.242    0.052    -0.004      0.836 \n",
      "-----------------------------------------------------------------------------------------\n"
     ]
    },
    {
     "data": {
      "text/plain": [
       "\n",
       "                            Selection Summary                             \n",
       "-------------------------------------------------------------------------\n",
       "        Variable                  Adj.                                       \n",
       "Step    Entered     R-Square    R-Square      C(p)        AIC       RMSE     \n",
       "-------------------------------------------------------------------------\n",
       "   1    x4            0.6745      0.6450    138.7308    97.7440    8.9639    \n",
       "   2    x1            0.9725      0.9670      5.4959    67.6341    2.7343    \n",
       "   3    x2            0.9823      0.9764      3.0182    63.8663    2.3087    \n",
       "-------------------------------------------------------------------------"
      ]
     },
     "metadata": {},
     "output_type": "display_data"
    }
   ],
   "source": [
    "FORWARD<-ols_step_forward_p(fit)\n",
    "FORWARD"
   ]
  },
  {
   "cell_type": "code",
   "execution_count": 19,
   "metadata": {},
   "outputs": [
    {
     "data": {
      "text/plain": [
       "[[1]]\n",
       "NULL\n",
       "\n",
       "[[2]]\n",
       "NULL\n"
      ]
     },
     "metadata": {},
     "output_type": "display_data"
    },
    {
     "data": {
      "image/png": "[encoded data removed]",
      "text/plain": [
       "plot without title"
      ]
     },
     "metadata": {},
     "output_type": "display_data"
    },
    {
     "data": {
      "image/png": "[encoded data removed]",
      "text/plain": [
       "plot without title"
      ]
     },
     "metadata": {},
     "output_type": "display_data"
    }
   ],
   "source": [
    "plot(FORWARD)"
   ]
  },
  {
   "cell_type": "markdown",
   "metadata": {},
   "source": [
    "(x1,x2,x4)가 최종 후보"
   ]
  },
  {
   "cell_type": "markdown",
   "metadata": {},
   "source": [
    "1. Backward Selection"
   ]
  },
  {
   "cell_type": "markdown",
   "metadata": {},
   "source": [
    "Forward와 반대 방향<br>\n",
    "모든 regressor의 partial F-statistic을 구함<br>\n",
    "이중 가장 낮은 것이 미리 정해전 Fout 보다 작으면 그 변수 제거"
   ]
  },
  {
   "cell_type": "code",
   "execution_count": 25,
   "metadata": {},
   "outputs": [
    {
     "name": "stdout",
     "output_type": "stream",
     "text": [
      "Backward Elimination Method \n",
      "---------------------------\n",
      "\n",
      "Candidate Terms: \n",
      "\n",
      "1 . x1 \n",
      "2 . x2 \n",
      "3 . x3 \n",
      "4 . x4 \n",
      "\n",
      "We are eliminating variables based on p value...\n",
      "\n",
      "Variables Removed: \n",
      "\n",
      "- x3 \n",
      "\n",
      "No more variables satisfy the condition of p value = 0.3\n",
      "\n",
      "\n",
      "Final Model Output \n",
      "------------------\n",
      "\n",
      "                        Model Summary                         \n",
      "-------------------------------------------------------------\n",
      "R                       0.991       RMSE               2.309 \n",
      "R-Squared               0.982       Coef. Var          2.419 \n",
      "Adj. R-Squared          0.976       MSE                5.330 \n",
      "Pred R-Squared          0.969       MAE                1.606 \n",
      "-------------------------------------------------------------\n",
      " RMSE: Root Mean Square Error \n",
      " MSE: Mean Square Error \n",
      " MAE: Mean Absolute Error \n",
      "\n",
      "                                ANOVA                                 \n",
      "---------------------------------------------------------------------\n",
      "                Sum of                                               \n",
      "               Squares        DF    Mean Square       F         Sig. \n",
      "---------------------------------------------------------------------\n",
      "Regression    2667.790         3        889.263    166.832    0.0000 \n",
      "Residual        47.973         9          5.330                      \n",
      "Total         2715.763        12                                     \n",
      "---------------------------------------------------------------------\n",
      "\n",
      "                                   Parameter Estimates                                    \n",
      "-----------------------------------------------------------------------------------------\n",
      "      model      Beta    Std. Error    Std. Beta      t        Sig      lower      upper \n",
      "-----------------------------------------------------------------------------------------\n",
      "(Intercept)    71.648        14.142                  5.066    0.001    39.656    103.641 \n",
      "         x1     1.452         0.117        0.568    12.410    0.000     1.187      1.717 \n",
      "         x2     0.416         0.186        0.430     2.242    0.052    -0.004      0.836 \n",
      "         x4    -0.237         0.173       -0.263    -1.365    0.205    -0.629      0.155 \n",
      "-----------------------------------------------------------------------------------------\n"
     ]
    },
    {
     "data": {
      "text/plain": [
       "\n",
       "\n",
       "                          Elimination Summary                           \n",
       "-----------------------------------------------------------------------\n",
       "        Variable                  Adj.                                     \n",
       "Step    Removed     R-Square    R-Square     C(p)       AIC       RMSE     \n",
       "-----------------------------------------------------------------------\n",
       "   1    x3            0.9823      0.9764    3.0182    63.8663    2.3087    \n",
       "-----------------------------------------------------------------------"
      ]
     },
     "metadata": {},
     "output_type": "display_data"
    }
   ],
   "source": [
    "BACKWARD<-ols_step_backward_p(fit)\n",
    "BACKWARD"
   ]
  },
  {
   "cell_type": "markdown",
   "metadata": {},
   "source": [
    "(x1,x2)가 최종 후보"
   ]
  },
  {
   "cell_type": "markdown",
   "metadata": {},
   "source": [
    "3. Stepwise"
   ]
  },
  {
   "cell_type": "markdown",
   "metadata": {},
   "source": [
    "forward의 변형으로 forward가 한번 선택되면 못나간다는 것을 개선<br>\n",
    "새로운 변수를 추가할지 정할 때 이미 선택 됐던 변수가 필요하지 않게 될 수 있음<br>\n",
    "선택됐던 변수에 대한 Partial F를 계산해서 drop 결정<br>"
   ]
  },
  {
   "cell_type": "code",
   "execution_count": 26,
   "metadata": {},
   "outputs": [
    {
     "name": "stdout",
     "output_type": "stream",
     "text": [
      "Stepwise Selection Method   \n",
      "---------------------------\n",
      "\n",
      "Candidate Terms: \n",
      "\n",
      "1. x1 \n",
      "2. x2 \n",
      "3. x3 \n",
      "4. x4 \n",
      "\n",
      "We are selecting variables based on p value...\n",
      "\n",
      "Variables Entered/Removed: \n",
      "\n",
      "- x4 added \n",
      "- x1 added \n",
      "- x2 added \n",
      "\n",
      "No more variables to be added/removed.\n",
      "\n",
      "\n",
      "Final Model Output \n",
      "------------------\n",
      "\n",
      "                        Model Summary                         \n",
      "-------------------------------------------------------------\n",
      "R                       0.991       RMSE               2.309 \n",
      "R-Squared               0.982       Coef. Var          2.419 \n",
      "Adj. R-Squared          0.976       MSE                5.330 \n",
      "Pred R-Squared          0.969       MAE                1.606 \n",
      "-------------------------------------------------------------\n",
      " RMSE: Root Mean Square Error \n",
      " MSE: Mean Square Error \n",
      " MAE: Mean Absolute Error \n",
      "\n",
      "                                ANOVA                                 \n",
      "---------------------------------------------------------------------\n",
      "                Sum of                                               \n",
      "               Squares        DF    Mean Square       F         Sig. \n",
      "---------------------------------------------------------------------\n",
      "Regression    2667.790         3        889.263    166.832    0.0000 \n",
      "Residual        47.973         9          5.330                      \n",
      "Total         2715.763        12                                     \n",
      "---------------------------------------------------------------------\n",
      "\n",
      "                                   Parameter Estimates                                    \n",
      "-----------------------------------------------------------------------------------------\n",
      "      model      Beta    Std. Error    Std. Beta      t        Sig      lower      upper \n",
      "-----------------------------------------------------------------------------------------\n",
      "(Intercept)    71.648        14.142                  5.066    0.001    39.656    103.641 \n",
      "         x4    -0.237         0.173       -0.263    -1.365    0.205    -0.629      0.155 \n",
      "         x1     1.452         0.117        0.568    12.410    0.000     1.187      1.717 \n",
      "         x2     0.416         0.186        0.430     2.242    0.052    -0.004      0.836 \n",
      "-----------------------------------------------------------------------------------------\n"
     ]
    },
    {
     "data": {
      "text/plain": [
       "\n",
       "                             Stepwise Selection Summary                               \n",
       "-------------------------------------------------------------------------------------\n",
       "                     Added/                   Adj.                                       \n",
       "Step    Variable    Removed     R-Square    R-Square      C(p)        AIC       RMSE     \n",
       "-------------------------------------------------------------------------------------\n",
       "   1       x4       addition       0.675       0.645    138.7310    97.7440    8.9639    \n",
       "   2       x1       addition       0.972       0.967      5.4960    67.6341    2.7343    \n",
       "   3       x2       addition       0.982       0.976      3.0180    63.8663    2.3087    \n",
       "-------------------------------------------------------------------------------------"
      ]
     },
     "metadata": {},
     "output_type": "display_data"
    }
   ],
   "source": [
    "BOTH<-ols_step_both_p(fit)\n",
    "BOTH"
   ]
  },
  {
   "cell_type": "code",
   "execution_count": 27,
   "metadata": {},
   "outputs": [
    {
     "data": {
      "text/plain": [
       "[[1]]\n",
       "NULL\n",
       "\n",
       "[[2]]\n",
       "NULL\n"
      ]
     },
     "metadata": {},
     "output_type": "display_data"
    },
    {
     "data": {
      "image/png": "[encoded data removed]",
      "text/plain": [
       "plot without title"
      ]
     },
     "metadata": {},
     "output_type": "display_data"
    },
    {
     "data": {
      "image/png": "[encoded data removed]",
      "text/plain": [
       "plot without title"
      ]
     },
     "metadata": {},
     "output_type": "display_data"
    }
   ],
   "source": [
    "plot(BOTH)"
   ]
  },
  {
   "cell_type": "markdown",
   "metadata": {},
   "source": [
    "<stepwise 문제점><br>\n",
    "1. 변수가 몇개가 적당한지 알 수 없음<br>\n",
    "2. 하나의 Final equation으로 끝나, 비슷하게 좋은 다른 후보들을 고려할 수 없음<br>\n",
    "<br>\n",
    "<주의사항><br>\n",
    "1. 변수에서 나가는 순서가 중요한 순서 아님<br>\n",
    "2. forward에서는 이미 선택 된 변수가 안 중요해져도 뺼 수가 없음<br>\n",
    "3. 세 방법이 같은 결론에 도달하지 않을 수 있음<br>"
   ]
  },
  {
   "cell_type": "code",
   "execution_count": null,
   "metadata": {},
   "outputs": [],
   "source": []
  }
 ],
 "metadata": {
  "kernelspec": {
   "display_name": "R",
   "language": "R",
   "name": "ir"
  },
  "language_info": {
   "codemirror_mode": "r",
   "file_extension": ".r",
   "mimetype": "text/x-r-source",
   "name": "R",
   "pygments_lexer": "r",
   "version": "3.5.1"
  }
 },
 "nbformat": 4,
 "nbformat_minor": 2
}
