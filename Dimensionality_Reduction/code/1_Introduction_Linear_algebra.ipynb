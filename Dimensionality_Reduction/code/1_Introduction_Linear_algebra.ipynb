{
 "cells": [
  {
   "cell_type": "markdown",
   "metadata": {},
   "source": [
    "데이터 및 코드: https://github.com/datascienceabe/study_open/tree/master/Linear_Regression"
   ]
  },
  {
   "cell_type": "markdown",
   "metadata": {},
   "source": [
    "참고:Rencher, A. C., & Schaalje, G. B. (2008). Linear models in statistics. John Wiley & Sons."
   ]
  },
  {
   "cell_type": "markdown",
   "metadata": {},
   "source": [
    "2장<br>\n",
    "목차<br>\n",
    "1. Regression through origin\n",
    "2. Hypothesis Testing\n",
    "3. $R^2$\n",
    "4. Regressor가 확률 변수 일 때\n",
    "5. 회귀 분석시 주의 사항"
   ]
  },
  {
   "cell_type": "markdown",
   "metadata": {},
   "source": [
    "# 1. Regression Through Origin"
   ]
  },
  {
   "cell_type": "code",
   "execution_count": 4,
   "metadata": {},
   "outputs": [],
   "source": []
  },
  {
   "cell_type": "code",
   "execution_count": 5,
   "metadata": {},
   "outputs": [],
   "source": [
    "df<-read.csv('./Shelf_Stocking.csv')\n",
    "colnames(df)<-c('Time','Case')"
   ]
  },
  {
   "cell_type": "markdown",
   "metadata": {},
   "source": [
    "# 1. Vector"
   ]
  },
  {
   "cell_type": "markdown",
   "metadata": {},
   "source": [
    "Definition 2.2) Vector space<br>\n",
    "$u_{1},...,u_{n}$이 vector space $V$의 element라고 할 때, 이 것의 linear combination으로 만들 수 있는 모든 경우의 합집합을 linear span of $u_{1},...,u_{n}$라고 함 <br>\n",
    "=>$L(u_{1},...,u_{n})$"
   ]
  },
  {
   "cell_type": "markdown",
   "metadata": {},
   "source": [
    "Definition 2.3) Column space<br>\n",
    "matrix $U$의 column들로 span 되는 공간 <br>\n",
    "=>$C(U)$"
   ]
  },
  {
   "cell_type": "markdown",
   "metadata": {},
   "source": [
    "Definition 2.5) Basis<br>\n",
    "$V=L(u_{1},...,u_{n})$할 수 있는 $u_{1},...,u_{n}$<br>\n",
    "ex) $R^3$의 basis<br>\n",
    "(1,0,0),(0,1,0),(0,0,1) or (1,1,0),(0,1,0),(0,0,1) "
   ]
  },
  {
   "cell_type": "markdown",
   "metadata": {},
   "source": [
    "Definition 2.6) Dot product<br>\n",
    "$u \\cdot v=<u,v>=\\sum u_{i}v_{i}$<br>\n",
    "$||u||=\\sqrt{<u,u>}$=>length of a vector $u$"
   ]
  },
  {
   "cell_type": "markdown",
   "metadata": {},
   "source": [
    "<b>Orthogonal Projection</b>"
   ]
  },
  {
   "cell_type": "markdown",
   "metadata": {},
   "source": [
    "Definition 2.9) Othogonal Projection<br>\n",
    "다음을 만족하면 vector $y$가 vector $x$에 orthogonal projection 했다고 함<br>\n",
    "1) $\\hat{y}=bx$ for some constant b<br>\n",
    "2) $(y-\\hat{y})\\perp x$<br>\n",
    "이때 $\\hat{y}=p(y|x) $은 orthogonal projection"
   ]
  },
  {
   "cell_type": "markdown",
   "metadata": {},
   "source": [
    "Orthogonal Projection 구하기<br>\n",
    "\n",
    "$\\hat{y}  = bx $  from (1)<br>\n",
    "$y^{T}x-\\hat{y}^{T}x  = 0$  from (2)<br>\n",
    "$y^{T}x  =\\hat{y}^{T}x $<br>\n",
    "$\\hat{y}^{T}x=(bx)^{T}x=bx^{T}x=b||x||^{2} $<br>\n",
    "$b||x||^{2}=y^{T}x \\Rightarrow b=\\frac{y^{T}x}{||x||^{2}}$"
   ]
  },
  {
   "cell_type": "markdown",
   "metadata": {},
   "source": [
    "Definition 2.10) Orthonormal basis<br>\n",
    "$U$는 $R^{n}$의 subspace라고 할 때 $e_{1},...,e_{m}$이 다음의 조건을 만족하면 $U$에 대한 orthonormal basis라고 함<br>\n",
    "1) $e_{1},...,e_{m}$은 $U$의 basis<br>\n",
    "2) $e_{i} \\cdot e_{j}=0$ for all $i \\neq j$<br>\n",
    "3) $||e_{i}||=1$ for all $i$"
   ]
  },
  {
   "cell_type": "markdown",
   "metadata": {},
   "source": [
    "Orthonormalization 찾는 방법<br>\n",
    "Theorm 2.11) Gram-Schmidt orthonormalization procedure<br>\n",
    "$U$가 $R^{n}$의 subspace이고 $v_{1},..,v_{m}$이 $U$의 basis라고 할 때 orthnormal basis는 다음과 같음<br>\n",
    "\\begin{align}\n",
    "e_{1}=\\frac{u_{1}}{||u_{1}||}, & where &u_{1}=v_{1}\\\\\n",
    "e_{2}=\\frac{u_{2}}{||u_{2}||}, & where &u_{2}=v_{2}-p(v_{2}|u_{1})\\\\\n",
    "e_{m}=\\frac{u_{m}}{||u_{m}||}, & where &u_{m}=v_{m}-\\sum_{i=1}^{m-1} p(v_{m}|u_{i})\n",
    "\\end{align}"
   ]
  },
  {
   "cell_type": "markdown",
   "metadata": {},
   "source": [
    "Definition 2.12) Orthgonal Complement<br>\n",
    "$U$는 $R^{n}$의 subspace라고 할 때 $U$의 orthogonal complement는 $u \\cdot v =0$이 되는 모든 벡터 $v$로 구성 된 $R^{n}$의 subspace<br>\n",
    "=>$U^{\\perp}$"
   ]
  },
  {
   "cell_type": "markdown",
   "metadata": {},
   "source": [
    "# 2. Matrix"
   ]
  },
  {
   "cell_type": "markdown",
   "metadata": {},
   "source": [
    "<b>Trace</b><br>\n",
    "A,B가 square matrix일 때<br>\n",
    "1) tr(AB)=tr(BA)<br>\n",
    "2) tr(A+B)=tr(A)+tr(B)"
   ]
  },
  {
   "cell_type": "markdown",
   "metadata": {},
   "source": [
    "<b>Determinant</b><br>\n",
    "A,B가 square matrix일 때<br>\n",
    "1) det(AB)=det(A)det(B)<br>\n",
    "2) det($A^{T}$)=det(A)"
   ]
  },
  {
   "cell_type": "markdown",
   "metadata": {},
   "source": [
    "<b>Rank</b>"
   ]
  },
  {
   "cell_type": "markdown",
   "metadata": {},
   "source": [
    "Definition 2.18) Rank<br>\n",
    "Linearly independent한 Column 혹은 row의 수"
   ]
  },
  {
   "cell_type": "markdown",
   "metadata": {},
   "source": [
    "1) r(A)=r($A^{T}$)<br>\n",
    "2) r(A)=r($AA^{T}$)=r($A^{T}A$)<br>\n",
    "3) r($A \\perp B$)=r(A)r(B)"
   ]
  },
  {
   "cell_type": "markdown",
   "metadata": {},
   "source": [
    "Definition 2.19) Rank의 특징<br>\n",
    "A는 $(nxp)$ 행렬에 rank가 $r$<br>\n",
    "1) $r=n<p$ 이면 A는 Full row rank를 가짐<br>\n",
    "2) $r=n>p$ 이면 A는 Full column rank를 가짐<br>\n",
    "3) $r=n=p$ 이면 A는 nonsingular"
   ]
  },
  {
   "cell_type": "markdown",
   "metadata": {},
   "source": [
    "# 3. Projection Matrix"
   ]
  },
  {
   "cell_type": "markdown",
   "metadata": {},
   "source": [
    "Definition 2.20) Orthogonal Projection Matrix<br>\n",
    "P는 다음 조건을 만족하면 V로의 projection matrix<br>\n",
    "1) $v \\in V$ 면 $Pv=v$ (projection)<br>\n",
    "2) $w \\perp V$ 면 $Pw=0$ (orthogonality)<br>"
   ]
  },
  {
   "cell_type": "markdown",
   "metadata": {},
   "source": [
    "Theorem 2.21) P는 $C(P) \\subset R^{n}$로의 projection matrix iff<br>\n",
    "1) $PP=P$ (idempotent)<br>\n",
    "2) $P=P^{T}$ (symmetric)"
   ]
  },
  {
   "cell_type": "markdown",
   "metadata": {},
   "source": [
    "Theorem 2.22) Projection Matrices are unique"
   ]
  },
  {
   "cell_type": "markdown",
   "metadata": {},
   "source": [
    "Theorem 2.23) $V_{1},...,V_{k}$가 $R^{n}$의 서로 간의 orthogonal인 subspace면서 linear independent 하면 <br>\n",
    "모든 $y \\in R^{n}$에 대해 $p(y|V)=\\sum _{i=1}^{k}p(y|V_{i})$"
   ]
  },
  {
   "cell_type": "markdown",
   "metadata": {},
   "source": [
    "Theorem 2.24) $u_{1},...,u_{k}$가 $V \\in R^{n}$의 orthonormal basis이고 $U=(u_{1},...,u_{k})$면 <br>\n",
    "$UU^{T}$는 $V$로의 projection matrix"
   ]
  },
  {
   "cell_type": "markdown",
   "metadata": {},
   "source": [
    "<b>Projection Matrix with Regression</b>"
   ]
  },
  {
   "cell_type": "code",
   "execution_count": 3,
   "metadata": {},
   "outputs": [
    {
     "data": {
      "image/png": "[encoded data removed]",
      "text/plain": [
       "Plot with title \"\""
      ]
     },
     "metadata": {},
     "output_type": "display_data"
    }
   ],
   "source": [
    "setwd('C:/Users/bki19/desktop/Dimensionality_Reduction')\n",
    "library(imager)\n",
    "im<-load.image(\"./projection.jpg\")\n",
    "plot(im)"
   ]
  },
  {
   "cell_type": "markdown",
   "metadata": {},
   "source": [
    "출처: https://www.google.com/url?sa=i&source=images&cd=&ved=2ahUKEwiQ7oqdjsDiAhVSGKYKHaL1CK8QjRx6BAgBEAU&url=https%3A%2F%2Fmedium.com%2F%40andrew.chamberlain%2Fthe-linear-algebra-view-of-least-squares-regression-f67044b7f39b&psig=AOvVaw0BzTnzhFsTqwbc2-FYdrDX&ust=1559197696770872"
   ]
  },
  {
   "cell_type": "markdown",
   "metadata": {},
   "source": [
    "모델: $y=X\\beta$<br>\n",
    "Projection matrix:$\\hat{y}=X\\hat{\\beta}=p(y|c(X) )=p(y|X )$<br>\n",
    "Error:$e=y-\\hat{y}$<br>"
   ]
  },
  {
   "cell_type": "markdown",
   "metadata": {},
   "source": [
    "Projection Matrix<br>\n",
    "$\\hat{y}=X\\hat{\\beta}=p(y|c(X) )=p(y|X )$<br>\n",
    "$=X(X^{T}X)^{-1}X^{T}y$<br>\n",
    "$=Hy$<br>\n",
    "=> H는 Orthogonal projection Matrix onto $C(X)$, y에 hat 모자를 씌우기 때문에 hat matrix라고 불리움\n",
    "$\\hat{y}$는 $C(X)$에서 $y$에 가장 가까운 점 => LSE랑 같은 의미<br>\n"
   ]
  },
  {
   "cell_type": "markdown",
   "metadata": {},
   "source": [
    "$X^{T}e =0$<br>\n",
    "$X^{T}(y-\\hat{y}) =0$<br>\n",
    "$X^{T}y-X^{T}\\hat{y} =0$<br>\n",
    "$X^{T}y-X^{T}X\\hat{\\beta} =0$<br>\n",
    "$X^{T}y=X^{T}X\\hat{\\beta}$<br>\n",
    "$\\hat{\\beta}=(X^{T}X)^{-1}X^{T}y$<br>\n"
   ]
  },
  {
   "cell_type": "markdown",
   "metadata": {},
   "source": [
    "$rank(X^{T}X)=rank(X)$<br>\n",
    "$(X^{T}X)$가 nonsingular <=> $X$가 full column rank"
   ]
  },
  {
   "cell_type": "markdown",
   "metadata": {},
   "source": [
    "# 4. Eigenvalue and SVD"
   ]
  },
  {
   "cell_type": "markdown",
   "metadata": {},
   "source": [
    "<b>Eigenvalue and eigenvector</b>"
   ]
  },
  {
   "cell_type": "markdown",
   "metadata": {},
   "source": [
    "def 2.25) Eigenvalue<br>\n",
    "$nxn$ matrix $A$에 대해 scalar $\\lambda$는 다음을 만족하면 $A$의 eigen value이다<br>\n",
    "$det(A-\\lambda I_{n})=0$<br>\n",
    "=> 따라서 $A-\\lambda I_{n}$는 singular이기 때문에 $rank(A-\\lambda I_{n})<n$<br>\n",
    "=> $A-\\lambda I_{n}$의 columns는 linearly related"
   ]
  },
  {
   "cell_type": "markdown",
   "metadata": {},
   "source": [
    "Eigen Vector<br>\n",
    "$(A-\\lambda I_{n})v=0$이게 하는 0이 아닌 벡터 $v$\n"
   ]
  },
  {
   "cell_type": "markdown",
   "metadata": {},
   "source": [
    "Theorem 2.25) A와 eigenvector의 관계 <br>\n",
    "$A$가 square matrix, $\\lambda_{1},...,\\lambda_{k}$가 $A$의 서로 다른 eigen value, $v_{1},...,v_{k}$가 대응되는 eigenvector면 eigenvector는 서로 linearly independent<br>\n",
    "$A$가 symmetric이면 $v_{1},...,v_{k}$는 서로 orthogonal"
   ]
  },
  {
   "cell_type": "markdown",
   "metadata": {},
   "source": [
    "Theorem 2.25) eigenvalue의 특징 <br>\n",
    "$A$가 square matrix, $\\lambda_{1},...,\\lambda_{n}$가 $A$의 eigen value면 다음이 성립<br>\n",
    "1) $tr(A)=\\sum_{i=1}^{n} \\lambda_{i}$<br>\n",
    "2) $det(A)=\\prod_{i=1}^{n} \\lambda_{i}$"
   ]
  },
  {
   "cell_type": "markdown",
   "metadata": {},
   "source": [
    "<b>Spectral Decomposition and SVD</b>"
   ]
  },
  {
   "cell_type": "markdown",
   "metadata": {},
   "source": [
    "Theorem 2.27 Spectral Decomposition<br>\n",
    "$nxn$ matrix A가 symmetric이면 $A=P\\Lambda P^{T}$가 되게 하는 $P$가 존재<br>\n",
    "여기서 $\\Lambda=Diag(\\lambda_{1},...,\\lambda_{n})$<br>\n",
    "$P$의 columns는 $A$의 eigenvalue에 대응되는 orthonormal eigenvector"
   ]
  },
  {
   "cell_type": "markdown",
   "metadata": {},
   "source": [
    "Theorem 2.28 Singular Value Decomposition<br>\n",
    "$mxn(m \\leq n)$ matrix A가 $rank(A)=r$이면 $A=P[D:0] Q^{T}$가 되게 하는 $P,Q$가 존재<br>\n",
    "여기서 $D=Diag(\\lambda_{1},...,\\lambda_{m})$이면서 nonnegative element은 A의 singular value라고 함<br>\n",
    "$0$는 $(mx(n-m))$<br>\n",
    "singular value는 $A^{T}A$나 $AA^{T}$의 square root"
   ]
  },
  {
   "cell_type": "markdown",
   "metadata": {},
   "source": [
    "# 5. Positivie Definite"
   ]
  },
  {
   "cell_type": "markdown",
   "metadata": {},
   "source": [
    "Quadratic Form<br>\n",
    "$A$가 symmetric matrix이고 $x$가 vector 일 때 <br>\n",
    "$x^{T}Ax= \\sum_{i} a_{ii}y_{i}^{2}+\\sum _{i \\neq j} a_{ij}x_{i}x_{j}$를 quadratic form이라고 함<br>\n",
    "여기서 $a_{ii}$는 $A$의 diagonal element, $a_{ij}$는 off-diagonal element"
   ]
  },
  {
   "cell_type": "markdown",
   "metadata": {},
   "source": [
    "Definition 2.29) Positive Definite and Positive Semi-Definite<br>\n",
    "$A$가 $(nxn)$ symmetric matrix이고 모든 $x \\neq 0$에 대해 $x^{T}Ax>0$이면 positive definite이라고 함<br>\n",
    "$x^{T}Ax \\geq 0$이면 positive semi definite이라고 함"
   ]
  },
  {
   "cell_type": "markdown",
   "metadata": {},
   "source": [
    "<b>positive definite 성질들</b>"
   ]
  },
  {
   "cell_type": "markdown",
   "metadata": {},
   "source": [
    "1.<br>\n",
    "$A$ 가 p.d.면 모든 $a_{ii}>0$<br>\n",
    "$A$ 가 p.s.d.면 모든 $a_{ii}\\geq 0$<br>"
   ]
  },
  {
   "cell_type": "markdown",
   "metadata": {},
   "source": [
    "2.<br>\n",
    "$M$이 nonsigular matrix일 때\n",
    "1) $A$가 p.d.이면 $M^{T}AM$도 p.d.\n",
    "2) $A$가 p.s.d.이면 $M^{T}AM$도 p.s.d."
   ]
  },
  {
   "cell_type": "markdown",
   "metadata": {},
   "source": [
    "3.<br>\n",
    "$A$가 $(pxp)$인 p.d.이고 $B$가 $(kxp)$면서 $r\\leq p$이면<br>\n",
    "$BAB^{T}$도 p.d."
   ]
  },
  {
   "cell_type": "markdown",
   "metadata": {},
   "source": [
    "4.<br>\n",
    "$A$가 $(pxp)$인 p.d.이고 $B$가 $(kxp)$일때 $k>p$이거나 $rank (B)<min(k,p)$이면<br>\n",
    "$BAB^{T}$은 p.s.d."
   ]
  },
  {
   "cell_type": "markdown",
   "metadata": {},
   "source": [
    "5.<br>\n",
    "symmetric matrix A는 p.d. iff $A=M^{T}M$이 되게 하는 nonsingular matrix $M$이 존재할 때"
   ]
  },
  {
   "cell_type": "markdown",
   "metadata": {},
   "source": [
    "6.<br>\n",
    "p.d. matrix는 non sigular"
   ]
  },
  {
   "cell_type": "markdown",
   "metadata": {},
   "source": [
    "7.<br>\n",
    "B가 $(nxp)$ 행렬일 때<br>\n",
    "a. rank(B)=p이면 $B^{T}B$는 p.d.<br>\n",
    "b. rank(B)<p이면 $B^{T}B$는 p.s.d."
   ]
  },
  {
   "cell_type": "markdown",
   "metadata": {},
   "source": [
    "8.<br>\n",
    "만약 $A$가 p.d.면 $A^{-1}$도 p.d."
   ]
  },
  {
   "cell_type": "code",
   "execution_count": null,
   "metadata": {},
   "outputs": [],
   "source": []
  },
  {
   "cell_type": "code",
   "execution_count": null,
   "metadata": {},
   "outputs": [],
   "source": []
  }
 ],
 "metadata": {
  "kernelspec": {
   "display_name": "R",
   "language": "R",
   "name": "ir"
  },
  "language_info": {
   "codemirror_mode": "r",
   "file_extension": ".r",
   "mimetype": "text/x-r-source",
   "name": "R",
   "pygments_lexer": "r",
   "version": "3.5.1"
  }
 },
 "nbformat": 4,
 "nbformat_minor": 2
}
