{
 "cells": [
  {
   "cell_type": "markdown",
   "metadata": {},
   "source": [
    "데이터 및 코드: https://github.com/datascienceabe/study_open/tree/master/Multivariate_data_analysis"
   ]
  },
  {
   "cell_type": "markdown",
   "metadata": {},
   "source": [
    "데이터: http://www-bcf.usc.edu/~gareth/ISL/<br>\n",
    "참고:http://web.mit.edu/be.400/www/SVD/Singular_Value_Decomposition.htm<br>\n",
    "Rencher, A. C., & Schaalje, G. B. (2008). Linear models in statistics. John Wiley & Sons.<br>\n",
    "James, G., Witten, D., Hastie, T., & Tibshirani, R. (2013). An introduction to statistical learning (Vol. 112, p. 18). New York: springer.<br>\n",
    "http://genomicsclass.github.io/book/pages/pca_svd.html"
   ]
  },
  {
   "cell_type": "code",
   "execution_count": null,
   "metadata": {},
   "outputs": [],
   "source": []
  },
  {
   "cell_type": "markdown",
   "metadata": {},
   "source": [
    "# 1. Singular Value Decomposition"
   ]
  },
  {
   "cell_type": "markdown",
   "metadata": {},
   "source": [
    "$A_{(mxn)}$은 <br>\n",
    "$A_{(mxn)}=U_{(mxm)}\\Sigma_{(mxn)} V_{(nxn)}$으로 분해 될 수 있다<br>"
   ]
  },
  {
   "cell_type": "markdown",
   "metadata": {},
   "source": [
    "$\\Sigma$: scaling matrix<br>\n",
    "$U,V$: rotation matrix<br>"
   ]
  },
  {
   "cell_type": "code",
   "execution_count": 5,
   "metadata": {},
   "outputs": [
    {
     "data": {
      "text/html": [
       "<table>\n",
       "<tbody>\n",
       "\t<tr><td>2</td><td>4</td></tr>\n",
       "\t<tr><td>1</td><td>3</td></tr>\n",
       "\t<tr><td>0</td><td>0</td></tr>\n",
       "\t<tr><td>0</td><td>0</td></tr>\n",
       "</tbody>\n",
       "</table>\n"
      ],
      "text/latex": [
       "\\begin{tabular}{ll}\n",
       "\t 2 & 4\\\\\n",
       "\t 1 & 3\\\\\n",
       "\t 0 & 0\\\\\n",
       "\t 0 & 0\\\\\n",
       "\\end{tabular}\n"
      ],
      "text/markdown": [
       "\n",
       "| 2 | 4 | \n",
       "| 1 | 3 | \n",
       "| 0 | 0 | \n",
       "| 0 | 0 | \n",
       "\n",
       "\n"
      ],
      "text/plain": [
       "     [,1] [,2]\n",
       "[1,] 2    4   \n",
       "[2,] 1    3   \n",
       "[3,] 0    0   \n",
       "[4,] 0    0   "
      ]
     },
     "metadata": {},
     "output_type": "display_data"
    }
   ],
   "source": [
    "A=matrix(c(2,1,0,0,4,3,0,0),ncol=2)\n",
    "A"
   ]
  },
  {
   "cell_type": "markdown",
   "metadata": {},
   "source": [
    "$W=AA^{'}$<br>\n",
    "$W=P\\Lambda P^{'} $"
   ]
  },
  {
   "cell_type": "code",
   "execution_count": 6,
   "metadata": {},
   "outputs": [
    {
     "data": {
      "text/html": [
       "<table>\n",
       "<tbody>\n",
       "\t<tr><td>20</td><td>14</td><td>0 </td><td>0 </td></tr>\n",
       "\t<tr><td>14</td><td>10</td><td>0 </td><td>0 </td></tr>\n",
       "\t<tr><td> 0</td><td> 0</td><td>0 </td><td>0 </td></tr>\n",
       "\t<tr><td> 0</td><td> 0</td><td>0 </td><td>0 </td></tr>\n",
       "</tbody>\n",
       "</table>\n"
      ],
      "text/latex": [
       "\\begin{tabular}{llll}\n",
       "\t 20 & 14 & 0  & 0 \\\\\n",
       "\t 14 & 10 & 0  & 0 \\\\\n",
       "\t  0 &  0 & 0  & 0 \\\\\n",
       "\t  0 &  0 & 0  & 0 \\\\\n",
       "\\end{tabular}\n"
      ],
      "text/markdown": [
       "\n",
       "| 20 | 14 | 0  | 0  | \n",
       "| 14 | 10 | 0  | 0  | \n",
       "|  0 |  0 | 0  | 0  | \n",
       "|  0 |  0 | 0  | 0  | \n",
       "\n",
       "\n"
      ],
      "text/plain": [
       "     [,1] [,2] [,3] [,4]\n",
       "[1,] 20   14   0    0   \n",
       "[2,] 14   10   0    0   \n",
       "[3,]  0    0   0    0   \n",
       "[4,]  0    0   0    0   "
      ]
     },
     "metadata": {},
     "output_type": "display_data"
    }
   ],
   "source": [
    "W=A%*%t(A)\n",
    "W"
   ]
  },
  {
   "cell_type": "code",
   "execution_count": 7,
   "metadata": {},
   "outputs": [
    {
     "data": {
      "text/plain": [
       "eigen() decomposition\n",
       "$values\n",
       "[1] 29.8660687  0.1339313  0.0000000  0.0000000\n",
       "\n",
       "$vectors\n",
       "          [,1]       [,2] [,3] [,4]\n",
       "[1,] 0.8174156 -0.5760484    0    0\n",
       "[2,] 0.5760484  0.8174156    0    0\n",
       "[3,] 0.0000000  0.0000000    0    1\n",
       "[4,] 0.0000000  0.0000000    1    0\n"
      ]
     },
     "metadata": {},
     "output_type": "display_data"
    }
   ],
   "source": [
    "eigen(W)"
   ]
  },
  {
   "cell_type": "code",
   "execution_count": 24,
   "metadata": {},
   "outputs": [
    {
     "data": {
      "text/html": [
       "<table>\n",
       "<tbody>\n",
       "\t<tr><td>0.8174156 </td><td>-0.5760484</td><td>0         </td><td>0         </td></tr>\n",
       "\t<tr><td>0.5760484 </td><td> 0.8174156</td><td>0         </td><td>0         </td></tr>\n",
       "\t<tr><td>0.0000000 </td><td> 0.0000000</td><td>0         </td><td>1         </td></tr>\n",
       "\t<tr><td>0.0000000 </td><td> 0.0000000</td><td>1         </td><td>0         </td></tr>\n",
       "</tbody>\n",
       "</table>\n"
      ],
      "text/latex": [
       "\\begin{tabular}{llll}\n",
       "\t 0.8174156  & -0.5760484 & 0          & 0         \\\\\n",
       "\t 0.5760484  &  0.8174156 & 0          & 0         \\\\\n",
       "\t 0.0000000  &  0.0000000 & 0          & 1         \\\\\n",
       "\t 0.0000000  &  0.0000000 & 1          & 0         \\\\\n",
       "\\end{tabular}\n"
      ],
      "text/markdown": [
       "\n",
       "| 0.8174156  | -0.5760484 | 0          | 0          | \n",
       "| 0.5760484  |  0.8174156 | 0          | 0          | \n",
       "| 0.0000000  |  0.0000000 | 0          | 1          | \n",
       "| 0.0000000  |  0.0000000 | 1          | 0          | \n",
       "\n",
       "\n"
      ],
      "text/plain": [
       "     [,1]      [,2]       [,3] [,4]\n",
       "[1,] 0.8174156 -0.5760484 0    0   \n",
       "[2,] 0.5760484  0.8174156 0    0   \n",
       "[3,] 0.0000000  0.0000000 0    1   \n",
       "[4,] 0.0000000  0.0000000 1    0   "
      ]
     },
     "metadata": {},
     "output_type": "display_data"
    }
   ],
   "source": [
    "U=eigen(W)$vectors"
   ]
  },
  {
   "cell_type": "markdown",
   "metadata": {},
   "source": [
    "$W2=A^{'}A$<br>\n",
    "$W2=R\\Lambda R^{'} $"
   ]
  },
  {
   "cell_type": "code",
   "execution_count": 16,
   "metadata": {},
   "outputs": [
    {
     "data": {
      "text/html": [
       "<table>\n",
       "<tbody>\n",
       "\t<tr><td>0.4045536 </td><td>-0.9145143</td></tr>\n",
       "\t<tr><td>0.9145143 </td><td> 0.4045536</td></tr>\n",
       "</tbody>\n",
       "</table>\n"
      ],
      "text/latex": [
       "\\begin{tabular}{ll}\n",
       "\t 0.4045536  & -0.9145143\\\\\n",
       "\t 0.9145143  &  0.4045536\\\\\n",
       "\\end{tabular}\n"
      ],
      "text/markdown": [
       "\n",
       "| 0.4045536  | -0.9145143 | \n",
       "| 0.9145143  |  0.4045536 | \n",
       "\n",
       "\n"
      ],
      "text/plain": [
       "     [,1]      [,2]      \n",
       "[1,] 0.4045536 -0.9145143\n",
       "[2,] 0.9145143  0.4045536"
      ]
     },
     "metadata": {},
     "output_type": "display_data"
    }
   ],
   "source": [
    "W2=t(A)%*%A\n",
    "V=eigen(W2)$vectors\n",
    "V"
   ]
  },
  {
   "cell_type": "code",
   "execution_count": 21,
   "metadata": {},
   "outputs": [
    {
     "data": {
      "text/html": [
       "<table>\n",
       "<tbody>\n",
       "\t<tr><td>5.464986 </td><td>0.0000000</td></tr>\n",
       "\t<tr><td>0.000000 </td><td>0.3659662</td></tr>\n",
       "\t<tr><td>0.000000 </td><td>0.0000000</td></tr>\n",
       "\t<tr><td>0.000000 </td><td>0.0000000</td></tr>\n",
       "</tbody>\n",
       "</table>\n"
      ],
      "text/latex": [
       "\\begin{tabular}{ll}\n",
       "\t 5.464986  & 0.0000000\\\\\n",
       "\t 0.000000  & 0.3659662\\\\\n",
       "\t 0.000000  & 0.0000000\\\\\n",
       "\t 0.000000  & 0.0000000\\\\\n",
       "\\end{tabular}\n"
      ],
      "text/markdown": [
       "\n",
       "| 5.464986  | 0.0000000 | \n",
       "| 0.000000  | 0.3659662 | \n",
       "| 0.000000  | 0.0000000 | \n",
       "| 0.000000  | 0.0000000 | \n",
       "\n",
       "\n"
      ],
      "text/plain": [
       "     [,1]     [,2]     \n",
       "[1,] 5.464986 0.0000000\n",
       "[2,] 0.000000 0.3659662\n",
       "[3,] 0.000000 0.0000000\n",
       "[4,] 0.000000 0.0000000"
      ]
     },
     "metadata": {},
     "output_type": "display_data"
    }
   ],
   "source": [
    "S=sqrt(rbind(diag(c(eigen(W2)$values)),diag(c(0,0) ) ))\n",
    "S"
   ]
  },
  {
   "cell_type": "code",
   "execution_count": 25,
   "metadata": {},
   "outputs": [
    {
     "data": {
      "text/html": [
       "<table>\n",
       "<tbody>\n",
       "\t<tr><td>1.614415 </td><td>-4.170571</td></tr>\n",
       "\t<tr><td>1.547147 </td><td>-2.757958</td></tr>\n",
       "\t<tr><td>0.000000 </td><td> 0.000000</td></tr>\n",
       "\t<tr><td>0.000000 </td><td> 0.000000</td></tr>\n",
       "</tbody>\n",
       "</table>\n"
      ],
      "text/latex": [
       "\\begin{tabular}{ll}\n",
       "\t 1.614415  & -4.170571\\\\\n",
       "\t 1.547147  & -2.757958\\\\\n",
       "\t 0.000000  &  0.000000\\\\\n",
       "\t 0.000000  &  0.000000\\\\\n",
       "\\end{tabular}\n"
      ],
      "text/markdown": [
       "\n",
       "| 1.614415  | -4.170571 | \n",
       "| 1.547147  | -2.757958 | \n",
       "| 0.000000  |  0.000000 | \n",
       "| 0.000000  |  0.000000 | \n",
       "\n",
       "\n"
      ],
      "text/plain": [
       "     [,1]     [,2]     \n",
       "[1,] 1.614415 -4.170571\n",
       "[2,] 1.547147 -2.757958\n",
       "[3,] 0.000000  0.000000\n",
       "[4,] 0.000000  0.000000"
      ]
     },
     "metadata": {},
     "output_type": "display_data"
    }
   ],
   "source": [
    "U%*%S%*%V"
   ]
  },
  {
   "cell_type": "code",
   "execution_count": 26,
   "metadata": {},
   "outputs": [
    {
     "data": {
      "text/html": [
       "<dl>\n",
       "\t<dt>$d</dt>\n",
       "\t\t<dd><ol class=list-inline>\n",
       "\t<li>5.46498570421904</li>\n",
       "\t<li>0.365966190626258</li>\n",
       "</ol>\n",
       "</dd>\n",
       "\t<dt>$u</dt>\n",
       "\t\t<dd><table>\n",
       "<tbody>\n",
       "\t<tr><td>-0.8174156</td><td>-0.5760484</td></tr>\n",
       "\t<tr><td>-0.5760484</td><td> 0.8174156</td></tr>\n",
       "\t<tr><td> 0.0000000</td><td> 0.0000000</td></tr>\n",
       "\t<tr><td> 0.0000000</td><td> 0.0000000</td></tr>\n",
       "</tbody>\n",
       "</table>\n",
       "</dd>\n",
       "\t<dt>$v</dt>\n",
       "\t\t<dd><table>\n",
       "<tbody>\n",
       "\t<tr><td>-0.4045536</td><td>-0.9145143</td></tr>\n",
       "\t<tr><td>-0.9145143</td><td> 0.4045536</td></tr>\n",
       "</tbody>\n",
       "</table>\n",
       "</dd>\n",
       "</dl>\n"
      ],
      "text/latex": [
       "\\begin{description}\n",
       "\\item[\\$d] \\begin{enumerate*}\n",
       "\\item 5.46498570421904\n",
       "\\item 0.365966190626258\n",
       "\\end{enumerate*}\n",
       "\n",
       "\\item[\\$u] \\begin{tabular}{ll}\n",
       "\t -0.8174156 & -0.5760484\\\\\n",
       "\t -0.5760484 &  0.8174156\\\\\n",
       "\t  0.0000000 &  0.0000000\\\\\n",
       "\t  0.0000000 &  0.0000000\\\\\n",
       "\\end{tabular}\n",
       "\n",
       "\\item[\\$v] \\begin{tabular}{ll}\n",
       "\t -0.4045536 & -0.9145143\\\\\n",
       "\t -0.9145143 &  0.4045536\\\\\n",
       "\\end{tabular}\n",
       "\n",
       "\\end{description}\n"
      ],
      "text/markdown": [
       "$d\n",
       ":   1. 5.46498570421904\n",
       "2. 0.365966190626258\n",
       "\n",
       "\n",
       "\n",
       "$u\n",
       ":   \n",
       "| -0.8174156 | -0.5760484 | \n",
       "| -0.5760484 |  0.8174156 | \n",
       "|  0.0000000 |  0.0000000 | \n",
       "|  0.0000000 |  0.0000000 | \n",
       "\n",
       "\n",
       "\n",
       "$v\n",
       ":   \n",
       "| -0.4045536 | -0.9145143 | \n",
       "| -0.9145143 |  0.4045536 | \n",
       "\n",
       "\n",
       "\n",
       "\n",
       "\n"
      ],
      "text/plain": [
       "$d\n",
       "[1] 5.4649857 0.3659662\n",
       "\n",
       "$u\n",
       "           [,1]       [,2]\n",
       "[1,] -0.8174156 -0.5760484\n",
       "[2,] -0.5760484  0.8174156\n",
       "[3,]  0.0000000  0.0000000\n",
       "[4,]  0.0000000  0.0000000\n",
       "\n",
       "$v\n",
       "           [,1]       [,2]\n",
       "[1,] -0.4045536 -0.9145143\n",
       "[2,] -0.9145143  0.4045536\n"
      ]
     },
     "metadata": {},
     "output_type": "display_data"
    }
   ],
   "source": [
    "svd(A)"
   ]
  },
  {
   "cell_type": "code",
   "execution_count": 28,
   "metadata": {},
   "outputs": [
    {
     "data": {
      "text/plain": [
       "Standard deviations (1, .., p=2):\n",
       "[1] 2.2634690 0.2082664\n",
       "\n",
       "Rotation (n x k) = (2 x 2):\n",
       "            PC1        PC2\n",
       "[1,] -0.4146211  0.9099942\n",
       "[2,] -0.9099942 -0.4146211"
      ]
     },
     "metadata": {},
     "output_type": "display_data"
    }
   ],
   "source": []
  },
  {
   "cell_type": "markdown",
   "metadata": {},
   "source": [
    "- pca는 변수 내의 관계를 봤다면 cca는 두 변수 간의 관계를 보는 것\n",
    "- 예를 들어 적성에 관계된 변수들과 성취도에 관한 변수들이 있을 때 정석과 성취도의 관계를 보고 싶을 때 사용가능"
   ]
  }
 ],
 "metadata": {
  "kernelspec": {
   "display_name": "R",
   "language": "R",
   "name": "ir"
  },
  "language_info": {
   "codemirror_mode": "r",
   "file_extension": ".r",
   "mimetype": "text/x-r-source",
   "name": "R",
   "pygments_lexer": "r",
   "version": "3.5.1"
  }
 },
 "nbformat": 4,
 "nbformat_minor": 2
}
