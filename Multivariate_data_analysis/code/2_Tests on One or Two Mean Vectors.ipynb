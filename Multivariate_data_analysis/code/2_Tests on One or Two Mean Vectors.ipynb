{
 "cells": [
  {
   "cell_type": "markdown",
   "metadata": {},
   "source": [
    "# Tests on One or Two Mean Vectors"
   ]
  },
  {
   "cell_type": "markdown",
   "metadata": {},
   "source": [
    "- Rencher의 다변량 통계학의 정리 및 R로의 구현<br>\n",
    "- 다변량 통계학에서의 두 집단 간의 비교"
   ]
  },
  {
   "cell_type": "markdown",
   "metadata": {},
   "source": [
    "목차<br>\n",
    "    1. 평균 수준 검정\n",
    "    2. 두 집단의 비교\n",
    "    3. 가설을 기각하는데의 기여도\n",
    "    4. Paired Observation Test\n",
    "    5. TEST FOR ADDITIONAL INFORMATION\n",
    "    6. PROFILE ANALYSIS"
   ]
  },
  {
   "cell_type": "markdown",
   "metadata": {},
   "source": [
    " MULTIVARIATE VERSUS UNIVARIATE TESTS"
   ]
  },
  {
   "cell_type": "markdown",
   "metadata": {},
   "source": [
    "1. Multivariate test에서는 변수 간에 correlation까지 고려해야 되서 parameter의 갯수가 훨씬 많아 Univariate일 때 보다 복잡<br>\n",
    "Mulitivariate Normal의 파라미터 수 = Mean +Variance + Correlation= $p+p+pC_{2}$<br>\n",
    "2. p번의 Univariate test 보다 power가 높음<br>"
   ]
  },
  {
   "cell_type": "markdown",
   "metadata": {},
   "source": [
    "# 1. 평균 수준 검정"
   ]
  },
  {
   "cell_type": "markdown",
   "metadata": {},
   "source": [
    "<b>1.TESTS ON $\\mu$ WITH $\\Sigma$ KNOWN</b>"
   ]
  },
  {
   "cell_type": "markdown",
   "metadata": {},
   "source": [
    "<b>1) 일변량</b>"
   ]
  },
  {
   "cell_type": "markdown",
   "metadata": {},
   "source": [
    "$H_{0}:\\mu=\\mu_{0}$<br>\n",
    "$H_{1}:\\mu\\neq \\mu_{0}$<br>\n",
    "<br>\n",
    "Random samples of n observation: $y_{1},...,y_{n} \\sim N(\\mu,\\sigma^{2})$<br>\n",
    "Test statistic: $z=\\frac{\\bar{y}-\\mu_{0} }{\\sigma /\\sqrt{n}} \\sim N(0,1) $ Under $H_{0}$<br>\n",
    "<=> $z \\sim \\chi^{2}_{1}$<br>"
   ]
  },
  {
   "cell_type": "markdown",
   "metadata": {},
   "source": [
    "<b>2) 다변량</b>"
   ]
  },
  {
   "cell_type": "markdown",
   "metadata": {},
   "source": [
    "$\\mu=\\begin{bmatrix}\\mu_{1} \\\\\n",
    "... \\\\ \\mu_{p}\\end{bmatrix}$ $\\mu_{0}=\\begin{bmatrix}\\mu_{01} \\\\\n",
    "... \\\\ \\mu_{0p}\\end{bmatrix}$\n",
    "<br>\n",
    "$H_{0}:\\mu=\\mu_{0}$<br>\n",
    "$H_{1}:\\mu\\neq \\mu_{0}$<br>\n",
    "<=><br>\n",
    "$H_{0}: \\mu_{j}=\\mu_{0j}$ for all $j$<br>\n",
    "$H_{1}: \\mu_{j}\\neq \\mu_{0j}$ at least one $j$<br>\n",
    "<br>\n",
    "Random samples of n observation: $y\\sim N_{p}(\\mu, \\Sigma)$<br>\n",
    "Test statistic: $Z^{2}= n(\\bar{y}-\\mu_{0})^{'}\\Sigma^{-1}(\\bar{y}-\\mu_{0}) \\sim \\chi^{2}_{p}$ Under $H_{0}$<br>\n",
    "\n",
    "   \n"
   ]
  },
  {
   "cell_type": "markdown",
   "metadata": {},
   "source": [
    "<b>2. TESTS ON $\\mu$ WITH $\\Sigma$ UNKNOWN</b>"
   ]
  },
  {
   "cell_type": "markdown",
   "metadata": {},
   "source": [
    "<b>1) 일변량</b>"
   ]
  },
  {
   "cell_type": "markdown",
   "metadata": {},
   "source": [
    "$H_{0}:\\mu=\\mu_{0}$<br>\n",
    "$H_{1}:\\mu\\neq \\mu_{0}$<br>\n",
    "<br>\n",
    "Random samples of n observation: $y_{1},...,y_{n} \\sim N(\\mu,\\sigma^{2})$<br>\n",
    "Test statistic: $t=\\frac{\\bar{y}-\\mu_{0} }{s /\\sqrt{n}} \\sim t_{n-1} $ Under $H_{0}$<br>\n",
    "<=> $t^{2}_{n-1} =F_{1, n-1}$<br>\n",
    "Reject $H_{0}$ if $|t|>t_{\\alpha/2, n-1}$"
   ]
  },
  {
   "cell_type": "markdown",
   "metadata": {},
   "source": [
    "<b>2) 다변량: Hotelling's $T^{2}$-Test</b>"
   ]
  },
  {
   "cell_type": "markdown",
   "metadata": {},
   "source": [
    "$\\mu=\\begin{bmatrix}\\mu_{1} \\\\\n",
    "... \\\\ \\mu_{p}\\end{bmatrix}$ $\\mu_{0}=\\begin{bmatrix}\\mu_{01} \\\\\n",
    "... \\\\ \\mu_{0p}\\end{bmatrix}$\n",
    "<br>\n",
    "$H_{0}:\\mu=\\mu_{0}$<br>\n",
    "$H_{1}:\\mu\\neq \\mu_{0}$<br>\n",
    "<=><br>\n",
    "$H_{0}: \\mu_{j}=\\mu_{0j}$ for all $j$<br>\n",
    "$H_{1}: \\mu_{j}\\neq \\mu_{0j}$ at least one $j$<br>\n",
    "<br>\n",
    "Random samples of n observation: $y\\sim N_{p}(\\mu, \\Sigma)$<br>\n",
    "Test statistic: $T^{2}= n(\\bar{y}-\\mu_{0})^{'}S^{-1}(\\bar{y}-\\mu_{0}) \\sim T^{2}$ Under $H_{0}$<br>\n",
    "$T^{2}$는 $p$, $v=n-1$을 파라미터로 하는 Hotelling's t distribution<br>\n",
    "$\\frac{v-p+1}{vp}T^{2}_{p,v}=F_{p,v-p+1}, v=n-1$\n",
    "\n",
    "Reject $H_{0}$ if $T^{2}>T^{2}_{\\alpha, p, n-1}$<br>\n",
    "\n",
    "   \n"
   ]
  },
  {
   "cell_type": "markdown",
   "metadata": {},
   "source": [
    "$S^{-1}$이 nonsingular해야 되기 때문에 $n-1>p$여야 됨"
   ]
  },
  {
   "cell_type": "markdown",
   "metadata": {},
   "source": [
    "<b>3) 예제</b>"
   ]
  },
  {
   "cell_type": "code",
   "execution_count": 1,
   "metadata": {},
   "outputs": [],
   "source": [
    "setwd('C:/Users/bki19/desktop/Multivariate_data_analysis/data')"
   ]
  },
  {
   "cell_type": "markdown",
   "metadata": {},
   "source": [
    "Calcium Data<br>\n",
    "<br>\n",
    "남부에서 10개지역의 토양과 turnip 등에서 calcium 측정<br>\n",
    "변수1: available soil calcium<br>\n",
    "변수2: exchangeable soil calcium<br>\n",
    "변수3: turnip green calcium<br>\n",
    "변수1, 2, 3의 바람직한 수준이 15,6,2.85일 때 바람직한 수준을 만족할까?"
   ]
  },
  {
   "cell_type": "code",
   "execution_count": 6,
   "metadata": {},
   "outputs": [
    {
     "data": {
      "text/html": [
       "<table>\n",
       "<thead><tr><th scope=col>V2</th><th scope=col>V3</th><th scope=col>V4</th></tr></thead>\n",
       "<tbody>\n",
       "\t<tr><td>35  </td><td> 3.5</td><td>2.80</td></tr>\n",
       "\t<tr><td>35  </td><td> 4.9</td><td>2.70</td></tr>\n",
       "\t<tr><td>40  </td><td>30.0</td><td>4.38</td></tr>\n",
       "\t<tr><td>10  </td><td> 2.8</td><td>3.21</td></tr>\n",
       "\t<tr><td> 6  </td><td> 2.7</td><td>2.73</td></tr>\n",
       "\t<tr><td>20  </td><td> 2.8</td><td>2.81</td></tr>\n",
       "\t<tr><td>35  </td><td> 4.6</td><td>2.88</td></tr>\n",
       "\t<tr><td>35  </td><td>10.9</td><td>2.90</td></tr>\n",
       "\t<tr><td>35  </td><td> 8.0</td><td>3.28</td></tr>\n",
       "\t<tr><td>30  </td><td> 1.6</td><td>3.20</td></tr>\n",
       "</tbody>\n",
       "</table>\n"
      ],
      "text/latex": [
       "\\begin{tabular}{r|lll}\n",
       " V2 & V3 & V4\\\\\n",
       "\\hline\n",
       "\t 35   &  3.5 & 2.80\\\\\n",
       "\t 35   &  4.9 & 2.70\\\\\n",
       "\t 40   & 30.0 & 4.38\\\\\n",
       "\t 10   &  2.8 & 3.21\\\\\n",
       "\t  6   &  2.7 & 2.73\\\\\n",
       "\t 20   &  2.8 & 2.81\\\\\n",
       "\t 35   &  4.6 & 2.88\\\\\n",
       "\t 35   & 10.9 & 2.90\\\\\n",
       "\t 35   &  8.0 & 3.28\\\\\n",
       "\t 30   &  1.6 & 3.20\\\\\n",
       "\\end{tabular}\n"
      ],
      "text/markdown": [
       "\n",
       "V2 | V3 | V4 | \n",
       "|---|---|---|---|---|---|---|---|---|---|\n",
       "| 35   |  3.5 | 2.80 | \n",
       "| 35   |  4.9 | 2.70 | \n",
       "| 40   | 30.0 | 4.38 | \n",
       "| 10   |  2.8 | 3.21 | \n",
       "|  6   |  2.7 | 2.73 | \n",
       "| 20   |  2.8 | 2.81 | \n",
       "| 35   |  4.6 | 2.88 | \n",
       "| 35   | 10.9 | 2.90 | \n",
       "| 35   |  8.0 | 3.28 | \n",
       "| 30   |  1.6 | 3.20 | \n",
       "\n",
       "\n"
      ],
      "text/plain": [
       "   V2 V3   V4  \n",
       "1  35  3.5 2.80\n",
       "2  35  4.9 2.70\n",
       "3  40 30.0 4.38\n",
       "4  10  2.8 3.21\n",
       "5   6  2.7 2.73\n",
       "6  20  2.8 2.81\n",
       "7  35  4.6 2.88\n",
       "8  35 10.9 2.90\n",
       "9  35  8.0 3.28\n",
       "10 30  1.6 3.20"
      ]
     },
     "metadata": {},
     "output_type": "display_data"
    }
   ],
   "source": [
    "#load data\n",
    "df<-read.table('./T3_4_CALCIUM.DAT',row.names=1)\n",
    "df"
   ]
  },
  {
   "cell_type": "code",
   "execution_count": 88,
   "metadata": {},
   "outputs": [],
   "source": [
    "OneSampleHotelling<-function(df,mu,alpha=0.05){\n",
    "n<-dim(df)[1]\n",
    "p=dim(df)[2]\n",
    "yhat=apply(df,2,mean)\n",
    "\n",
    "T=n*t(yhat-mu)%*%solve(cov(df)  )%*%(yhat-mu)\n",
    "v=n-1\n",
    "F=((v*p)/(v-p+1))*qf(1-alpha,p,v-p+1)\n",
    "Pval=((v*p)/(v-p+1))*(1-pf(F,p,v-p+1))\n",
    "RESULT=data.frame(TestStatistic=T,CriticalValue=F ,  Pvalue=Pval   )\n",
    "return (RESULT)\n",
    "    }"
   ]
  },
  {
   "cell_type": "code",
   "execution_count": 51,
   "metadata": {},
   "outputs": [
    {
     "data": {
      "text/html": [
       "<table>\n",
       "<thead><tr><th scope=col>TestStatistic</th><th scope=col>CriticalValue</th><th scope=col>Pvalue</th></tr></thead>\n",
       "<tbody>\n",
       "\t<tr><td>24.55891   </td><td>16.76635   </td><td>0.005443825</td></tr>\n",
       "</tbody>\n",
       "</table>\n"
      ],
      "text/latex": [
       "\\begin{tabular}{r|lll}\n",
       " TestStatistic & CriticalValue & Pvalue\\\\\n",
       "\\hline\n",
       "\t 24.55891    & 16.76635    & 0.005443825\\\\\n",
       "\\end{tabular}\n"
      ],
      "text/markdown": [
       "\n",
       "TestStatistic | CriticalValue | Pvalue | \n",
       "|---|\n",
       "| 24.55891    | 16.76635    | 0.005443825 | \n",
       "\n",
       "\n"
      ],
      "text/plain": [
       "  TestStatistic CriticalValue Pvalue     \n",
       "1 24.55891      16.76635      0.005443825"
      ]
     },
     "metadata": {},
     "output_type": "display_data"
    }
   ],
   "source": [
    "mu <- c(15, 6,2.85)\n",
    "alpha=0.05\n",
    "OneSampleHotelling(df,mu,alpha)"
   ]
  },
  {
   "cell_type": "markdown",
   "metadata": {},
   "source": [
    "$T^{2}=24.55891$, $T^{2}_{0.05,3,9}=16.766$으로 $H_{0}$를 기각<br>\n",
    "=>변수 중에 바람직한 수준이 아닌 것이 최소 하나는 존재"
   ]
  },
  {
   "cell_type": "markdown",
   "metadata": {},
   "source": [
    "# 2. 두 집단의 비교"
   ]
  },
  {
   "cell_type": "markdown",
   "metadata": {},
   "source": [
    "<b>1) 일변량</b>"
   ]
  },
  {
   "cell_type": "markdown",
   "metadata": {},
   "source": [
    "$H_{0}:\\mu_{1}=\\mu_{2}$<br>\n",
    "$H_{1}:\\mu_{1} \\neq \\mu_{2}$<br>\n",
    "<br>\n",
    "가정<br>\n",
    "(1)Random samples of n observation:<br> \n",
    "$y_{11},...,y_{n_{1}} \\sim N(\\mu_{1},\\sigma_{1}^{2})$<br>\n",
    "$y_{21},...,y_{n_{2}} \\sim N(\\mu_{2},\\sigma_{2}^{2})$<br>\n",
    "(2) Two samples are independent<br>\n",
    "(3) $\\sigma_{1}^{2}=\\sigma_{2}^{2}$<br>\n",
    "Test statistic: $t=\\frac{\\bar{y}_{1}-\\bar{y}_{2} }{s_{pl} \\sqrt{\\frac{1}{n_{1}}+\\frac{1}{n_{2}}       }   } \\sim t_{n_{1}+n_{2}-2} $ Under $H_{0}$<br>\n",
    "pooled variance: $s_{pl}=\\frac{(n_{1}-1  )s^{2}_{1}+(n_{2}-1  )s^{2}_{2}      }{  n_{1}+n_{2}-2      }  $\n",
    "\n",
    "<=> $t^{2}_{n-1} =F_{1, n-1}$<br>\n",
    "Reject $H_{0}$ if $|t|>t_{\\alpha/2, n_{1}+n_{2}-2 }$"
   ]
  },
  {
   "cell_type": "markdown",
   "metadata": {},
   "source": [
    "<b>2) 다변량</b>"
   ]
  },
  {
   "cell_type": "markdown",
   "metadata": {},
   "source": [
    "$H_{0}:\\mu=\\mu_{0}$<br>\n",
    "$H_{1}:\\mu\\neq \\mu_{0}$<br>\n",
    "<br>\n",
    "(1) Random samples of n observation: <br>\n",
    "$y_{11},..., y_{1n_{1}}\\sim N_{p}(\\mu_{1}, \\Sigma_{1})$<br>\n",
    "$y_{21},..., y_{2n_{2}}\\sim N_{p}(\\mu_{2}, \\Sigma_{2})$<br>\n",
    "(2) Two samples are independent<br>\n",
    "(3) $\\Sigma_{1}=\\Sigma_{2}$<br>\n",
    "\n",
    "Test statistic: $T^{2}= \\frac{n_{1}n_{2}}{n_{1}+n_{2}}(\\bar{y}_{1}-\\bar{y}_{2})^{'}S^{-1}_{pl}(\\bar{y}_{1}-\\bar{y}_{2}) \\sim T^{2}_{p,n_{1}+n_{2}+2}$ Under $H_{0}$<br>\n",
    "$T^{2}$는 $p$, $v=n-1$을 파라미터로 하는 Hotelling's t distribution<br>\n",
    "Reject $H_{0}$ if $T^{2}>T^{2}_{\\alpha, p, n_{1}+n_{2}+2}$\n",
    "   \n"
   ]
  },
  {
   "cell_type": "markdown",
   "metadata": {},
   "source": [
    "$S^{-1}_{pl}$이 nonsingular해야 되기 때문에 $n_{1}+n_{2}+2>p$여야 됨"
   ]
  },
  {
   "cell_type": "markdown",
   "metadata": {},
   "source": [
    "<b>3) 예제</b>"
   ]
  },
  {
   "cell_type": "markdown",
   "metadata": {},
   "source": [
    "Psychological tests data<br>\n",
    "32명의 남성과 32명의 여성에 대해 심리 실험을 진행<br>\n",
    "변수1: pictorial inconsistencies <br>\n",
    "변수2: paper form board <br>\n",
    "변수3: tool recognitiony<br>\n",
    "변수4: vocabulary<br>\n",
    "남녀의 각각의 심리적 변수는 서로 같을까?"
   ]
  },
  {
   "cell_type": "code",
   "execution_count": 91,
   "metadata": {},
   "outputs": [],
   "source": [
    "#load data\n",
    "df<-read.table('./T5_1_PSYCH.DAT')\n",
    "MEN<-df[df$V1==1,][,-1]\n",
    "WOMEN<-df[df$V1==2,][,-1]"
   ]
  },
  {
   "cell_type": "code",
   "execution_count": 23,
   "metadata": {},
   "outputs": [],
   "source": [
    "TwoSampleHotelling<-function(df1,df2,alpha=0.05){\n",
    "    n1<-dim(df1)[1]\n",
    "    n2<-dim(df2)[1]\n",
    "    p=dim(df1)[2] ##same for both\n",
    "    \n",
    "    yhat1=apply(df1,2,mean)\n",
    "    yhat2=apply(df2,2,mean)\n",
    "    \n",
    "    W1=(n1-1)*cov(df1)\n",
    "    W2=(n2-1)*cov(df2)\n",
    "    \n",
    "    Sp=(1/(n1+n2-2))*(W1+W2)\n",
    "    \n",
    "    T=((n1*n2)/(n1+n2))*t(yhat1-yhat2)%*%solve(Sp)%*%(yhat1-yhat2)\n",
    "    \n",
    "    F=(((n1+n2-2)*p)/(n1+n2-p-1    ))*qf(1-alpha,p,n1+n2-p-1)\n",
    "    Pval=(((n1+n2-2)*p)/(n1+n2-p-1    ))*(1-pf(F,p,n1+n2-p-1))\n",
    "    RESULT=data.frame(TestStatistic=T,CriticalValue=F ,  Pvalue=Pval   )\n",
    "    return (RESULT)\n",
    "        }"
   ]
  },
  {
   "cell_type": "code",
   "execution_count": 24,
   "metadata": {},
   "outputs": [
    {
     "data": {
      "text/html": [
       "<table>\n",
       "<thead><tr><th scope=col>TestStatistic</th><th scope=col>CriticalValue</th><th scope=col>Pvalue</th></tr></thead>\n",
       "<tbody>\n",
       "\t<tr><td>97.6015     </td><td>15.36323    </td><td>4.842945e-08</td></tr>\n",
       "</tbody>\n",
       "</table>\n"
      ],
      "text/latex": [
       "\\begin{tabular}{r|lll}\n",
       " TestStatistic & CriticalValue & Pvalue\\\\\n",
       "\\hline\n",
       "\t 97.6015      & 15.36323     & 4.842945e-08\\\\\n",
       "\\end{tabular}\n"
      ],
      "text/markdown": [
       "\n",
       "TestStatistic | CriticalValue | Pvalue | \n",
       "|---|\n",
       "| 97.6015      | 15.36323     | 4.842945e-08 | \n",
       "\n",
       "\n"
      ],
      "text/plain": [
       "  TestStatistic CriticalValue Pvalue      \n",
       "1 97.6015       15.36323      4.842945e-08"
      ]
     },
     "metadata": {},
     "output_type": "display_data"
    }
   ],
   "source": [
    "alpha=0.01\n",
    "TwoSampleHotelling(MEN,WOMEN,alpha)"
   ]
  },
  {
   "cell_type": "markdown",
   "metadata": {},
   "source": [
    "$T^{2}=97.6015$, $T^{2}_{0.01,4,62}=15.36323$으로 $H_{0}$ 기각<br>\n",
    "남녀간의 심리적 차이가 있는 변수가 최소한 하나는 있다"
   ]
  },
  {
   "cell_type": "markdown",
   "metadata": {},
   "source": [
    "# 3. $H_{0}$ 기각하는데의 기여"
   ]
  },
  {
   "cell_type": "markdown",
   "metadata": {},
   "source": [
    "$H_{0}:\\mu_{1}=\\mu_{2}$ 기각했을 때, $\\mu_{1j}=\\mu_{2j}$인 서로 같은 변수는 없을까?<br>\n",
    "어떤 변수 간의 차이가 두 그룹의 차이에 기여하는지 보고 싶을때"
   ]
  },
  {
   "cell_type": "markdown",
   "metadata": {},
   "source": [
    "$\\alpha=\\begin{bmatrix}\\alpha_{1}\\\\\n",
    "...\\\\\n",
    "\\alpha_{p}  \\end{bmatrix}   $<br>\n",
    "$\\alpha^{'}y=\\alpha_{1}y_{1}+...+\\alpha_{p}y_{p}=z$<br>\n",
    "<br>\n",
    "$H_{0}: \\alpha^{'}\\mu_{z1}=\\alpha^{'}\\mu_{z2}$<br>\n",
    "$H_{a}:$ 두 집단의 변수간의 linear combination을 다르게 하는 $\\alpha$가 최소 하나 존재<br>\n",
    "$t(\\alpha)=\\frac{\\bar{z}_{1}-\\bar{z}_{2} }{ \\sqrt{ ( \\frac{1}{n_{1}}+\\frac{1}{n_{2}})s_{z}^{2}       }   } $<br>\n",
    "$t(\\alpha)=\\frac{\\alpha^{'}\\bar{y}_{1}-\\alpha^{'}\\bar{y}_{2} }{ \\sqrt{ ( \\frac{(n_{1}+n_{2})}{n_{1}n_{2}  }  )\\alpha^{'}S_{pl} \\alpha       }   } $<br>\n",
    "$t(\\alpha)$가 음수가 될 수 있기 때문에 $t^{2}(\\alpha)$에 대해서 보면 $\\bar{y}_{1}-\\bar{y}_{2}$가 최대가 되기 위해서는 같은 방향으로 projection해야 되므로<br>\n",
    "$\\alpha=S^{-1}_{pl}(\\bar{y}_{1}-\\bar{y}_{2}  )$ 이때 $z=\\alpha^{'}y$를 discriminant function이라고 함<br>\n",
    "<br>\n",
    "따라서 만약 $H_{0}:\\mu=\\mu_{0}$이 기각 되면 discriminant function $\\alpha^{'}y$은 $H_{0}: \\alpha^{'}\\mu_{z1}=\\alpha^{'}\\mu_{z2}$를 기각하게 만듦<br>\n",
    "이 때 $\\alpha_{j}$를 보고 $H_{0}$를 기각하는데 기여한 $y_{j}$를 볼 수 있음\n"
   ]
  },
  {
   "cell_type": "code",
   "execution_count": 2,
   "metadata": {},
   "outputs": [],
   "source": [
    "#load data\n",
    "df<-read.table('./T5_1_PSYCH.DAT')\n",
    "MEN<-df[df$V1==1,][,-1]\n",
    "WOMEN<-df[df$V1==2,][,-1]"
   ]
  },
  {
   "cell_type": "code",
   "execution_count": 3,
   "metadata": {},
   "outputs": [],
   "source": [
    "Contribution<-function(df1,df2){\n",
    "    n1<-dim(df1)[1]\n",
    "    n2<-dim(df2)[1]\n",
    "    p=dim(df1)[2] ##same for both\n",
    "    \n",
    "    yhat1=apply(df1,2,mean)\n",
    "    yhat2=apply(df2,2,mean)\n",
    "    \n",
    "    W1=(n1-1)*cov(df1)\n",
    "    W2=(n2-1)*cov(df2)\n",
    "    \n",
    "    Sp=(1/(n1+n2-2))*(W1+W2)\n",
    "    \n",
    "    A=solve(Sp)%*%(yhat1-yhat2)\n",
    "    RESULT=data.frame(alpha=A  )\n",
    "    return (RESULT)\n",
    "        }"
   ]
  },
  {
   "cell_type": "code",
   "execution_count": 4,
   "metadata": {},
   "outputs": [
    {
     "data": {
      "text/html": [
       "<table>\n",
       "<thead><tr><th></th><th scope=col>alpha</th></tr></thead>\n",
       "<tbody>\n",
       "\t<tr><th scope=row>V2</th><td> 0.5104227</td></tr>\n",
       "\t<tr><th scope=row>V3</th><td>-0.2032933</td></tr>\n",
       "\t<tr><th scope=row>V4</th><td> 0.4660420</td></tr>\n",
       "\t<tr><th scope=row>V5</th><td>-0.3096697</td></tr>\n",
       "</tbody>\n",
       "</table>\n"
      ],
      "text/latex": [
       "\\begin{tabular}{r|l}\n",
       "  & alpha\\\\\n",
       "\\hline\n",
       "\tV2 &  0.5104227\\\\\n",
       "\tV3 & -0.2032933\\\\\n",
       "\tV4 &  0.4660420\\\\\n",
       "\tV5 & -0.3096697\\\\\n",
       "\\end{tabular}\n"
      ],
      "text/markdown": [
       "\n",
       "| <!--/--> | alpha | \n",
       "|---|---|---|---|\n",
       "| V2 |  0.5104227 | \n",
       "| V3 | -0.2032933 | \n",
       "| V4 |  0.4660420 | \n",
       "| V5 | -0.3096697 | \n",
       "\n",
       "\n"
      ],
      "text/plain": [
       "   alpha     \n",
       "V2  0.5104227\n",
       "V3 -0.2032933\n",
       "V4  0.4660420\n",
       "V5 -0.3096697"
      ]
     },
     "metadata": {},
     "output_type": "display_data"
    }
   ],
   "source": [
    "Contribution(MEN,WOMEN)"
   ]
  },
  {
   "cell_type": "markdown",
   "metadata": {},
   "source": [
    "$\\alpha_{'}y=0.5104227y_{1}-0.2032933y_{2}+0.4660420y_{3}-0.3096697y_{4}$<br>\n",
    "남녀의 차이가 발생하는데 변수 1과 변수 3이 크게 기여"
   ]
  },
  {
   "cell_type": "markdown",
   "metadata": {},
   "source": [
    "# 4. Paired Observation Test"
   ]
  },
  {
   "cell_type": "markdown",
   "metadata": {},
   "source": [
    "- 두 표본이 independent 하지 않은 paired observation인 경우\n",
    "- 같은 대상에 대해 두 번 측정 했을 때\n",
    "- 같은 기준에 의해 두 대상을 비교할 때 (예를 들어, IQ, 집안 배경)\n",
    "- sampling pairing 간에 correlation이 있을 때 Two-sample test로 independent 하다고 가정해버리면 Test statistic이 t분포를 따르지 않게 되어 실제 t-value를 underestimate 해버림\n",
    "- 두 집단의 variance가 같다는 가정 필요 없어짐"
   ]
  },
  {
   "cell_type": "markdown",
   "metadata": {},
   "source": [
    "<b>1) 일변량</b>"
   ]
  },
  {
   "cell_type": "markdown",
   "metadata": {},
   "source": [
    "$(y,x)\\sim N_{2}(\\mu=\\begin{bmatrix}\\mu_{y} \\\\\n",
    "\\mu_{x}\\end{bmatrix}$,$\\Sigma=\\begin{bmatrix}\\sigma_{y}^{2} &\\sigma_{yx}\\\\\n",
    "\\sigma_{yx} & \\sigma_{x}^{2}  \\end{bmatrix}   $  )<br>\n",
    "<br>\n",
    "$d_{i}=y_{i}-x_{i}\\sim N(\\mu_{y}-\\mu_{x}, \\sigma^{2}_{d} )$, 여기서 $\\sigma^{2}_{d}=\\sigma^{2}_{y}-2\\sigma_{y}\\sigma_{x}+\\sigma^{2}_{x}$<br>\n",
    "<br>\n",
    "$H_{0}:\\mu_{x}=\\mu_{y}$<br>\n",
    "$H_{1}:\\mu_{x} \\neq \\mu_{y}$<br>\n",
    "<=><br>\n",
    "$H_{0}:\\mu_{d}=0$<br>\n",
    "$H_{1}:\\mu_{d} \\neq 0$<br>\n",
    "<br>\n",
    "Test statistic: $t=\\frac{\\bar{y}_{1}-\\bar{y}_{2} }{\\sqrt{ (s_{y}^{2}+s_{x}^{2}-2s_{yx})/n      }   }= \\frac{\\bar{d} }{s_{d}/\\sqrt{n}  }  \\sim t_{n-1} $ Under $H_{0}$<br>\n"
   ]
  },
  {
   "cell_type": "markdown",
   "metadata": {},
   "source": [
    "<b>2) 다변량</b>"
   ]
  },
  {
   "cell_type": "markdown",
   "metadata": {},
   "source": [
    "$(y,x)\\sim N_{2p}(\\begin{bmatrix}\\mu_{y} \\\\\n",
    "\\mu_{x}\\end{bmatrix}$,$\\begin{bmatrix}\\Sigma_{yy} &\\Sigma_{yx}\\\\\n",
    "\\Sigma_{xy} & \\Sigma_{xx}  \\end{bmatrix}   $  )<br>\n",
    "<br>\n",
    "$H_{0}:\\mu_{d}=0$<br>\n",
    "$H_{1}:\\mu_{d} \\neq 0$<br>\n",
    "<br>\n",
    "$\\bar{d}= \\frac{1}{n} \\sum_{i=1}^{n}d_{i}$, $S_{d}= \\frac{1}{n-1} \\sum_{i=1}^{n}(d_{i}-\\bar{d})(d_{i}-\\bar{d})^{'}$<br>\n",
    "<br>\n",
    "Test statistic: $T^{2}=\\bar{d}^{'}(\\frac{S_{d}  }{n})^{-1}\\bar{d}  \\sim T^{2}_{p,n-1} $ Under $H_{0}$<br>\n",
    "Reject $H_{0}$ if $T^{2}>T^{2}_{\\alpha, p, n-1}$"
   ]
  },
  {
   "cell_type": "markdown",
   "metadata": {},
   "source": [
    "<b>3) 예제 </b> "
   ]
  },
  {
   "cell_type": "markdown",
   "metadata": {},
   "source": [
    "coating for resistance to corrosion data<br>\n",
    "부식에 대해 두 종류의 코팅이 얼마나 버티는지 보고 싶어함<br>\n",
    "15개의 장소에 파이프를 2개씩 묻고 같은 시간 동안 두 종류의 변수를 측정<br>\n",
    "<br>\n",
    "y1 = maximum depth of pit in thousandths of an inch,<br>\n",
    "y2 = number of pits "
   ]
  },
  {
   "cell_type": "code",
   "execution_count": 11,
   "metadata": {},
   "outputs": [],
   "source": [
    "#load data\n",
    "df<-read.table('./T5_3_PIPE.txt',sep=' ',row.names=1)\n",
    "X<-df[,c(1,2)]\n",
    "Y<-df[,c(3,4)]"
   ]
  },
  {
   "cell_type": "code",
   "execution_count": 16,
   "metadata": {},
   "outputs": [],
   "source": [
    "Pairwise<-function(df1,df2,alpha=0.05){\n",
    "    n<-dim(df1)[1]\n",
    "    p=dim(df1)[2] ##same for both\n",
    "    \n",
    "    D=df1-df2\n",
    "    dhat=apply(D,2,mean)\n",
    "        \n",
    "    T=n*t(dhat)%*%solve(cov(D))%*%dhat\n",
    "    \n",
    "    \n",
    "    v=n-1\n",
    "    F=((v*p)/(v-p+1))*qf(1-alpha,p,v-p+1)\n",
    "    Pval=((v*p)/(v-p+1))*(1-pf(F,p,v-p+1))\n",
    "    RESULT=data.frame(TestStatistic=T,CriticalValue=F ,  Pvalue=Pval   )\n",
    "    return (RESULT)\n",
    "        }"
   ]
  },
  {
   "cell_type": "code",
   "execution_count": 17,
   "metadata": {},
   "outputs": [
    {
     "data": {
      "text/html": [
       "<table>\n",
       "<thead><tr><th scope=col>TestStatistic</th><th scope=col>CriticalValue</th><th scope=col>Pvalue</th></tr></thead>\n",
       "<tbody>\n",
       "\t<tr><td>10.8189   </td><td>8.196602  </td><td>0.01072115</td></tr>\n",
       "</tbody>\n",
       "</table>\n"
      ],
      "text/latex": [
       "\\begin{tabular}{r|lll}\n",
       " TestStatistic & CriticalValue & Pvalue\\\\\n",
       "\\hline\n",
       "\t 10.8189    & 8.196602   & 0.01072115\\\\\n",
       "\\end{tabular}\n"
      ],
      "text/markdown": [
       "\n",
       "TestStatistic | CriticalValue | Pvalue | \n",
       "|---|\n",
       "| 10.8189    | 8.196602   | 0.01072115 | \n",
       "\n",
       "\n"
      ],
      "text/plain": [
       "  TestStatistic CriticalValue Pvalue    \n",
       "1 10.8189       8.196602      0.01072115"
      ]
     },
     "metadata": {},
     "output_type": "display_data"
    }
   ],
   "source": [
    "Pairwise(X,Y,0.05)"
   ]
  },
  {
   "cell_type": "markdown",
   "metadata": {},
   "source": [
    "$T^{2}=10.8189$, $T^{2}_{0.05,2,14}=8.196602$으로 $H_{0}$ 기각<br>\n",
    "두 코팅 방법은 부식한 효과에 차이가 있음"
   ]
  },
  {
   "cell_type": "markdown",
   "metadata": {},
   "source": [
    "#  5. TEST FOR ADDITIONAL INFORMATION"
   ]
  },
  {
   "cell_type": "markdown",
   "metadata": {},
   "source": [
    "두 그룹을 나누는데 필요 없는 변수가 있을까?"
   ]
  },
  {
   "cell_type": "markdown",
   "metadata": {},
   "source": [
    "$y\\in R^{p}$, $x\\in R^{q}$<br>\n",
    "두 샘플이 같은 covariance matrix를 가진 MVN에서 나왔다고 가정<br>\n",
    "$\\begin{bmatrix}y_{11} \\\\\n",
    "x_{11}\\end{bmatrix},...,\\begin{bmatrix}y_{n1} \\\\\n",
    "x_{n1}\\end{bmatrix}\\sim N_{p+q}(\\mu_{1},\\Sigma)$<br>\n",
    "$\\begin{bmatrix}y_{21} \\\\\n",
    "x_{21}\\end{bmatrix},...,\\begin{bmatrix}y_{n2} \\\\\n",
    "x_{n2}\\end{bmatrix}\\sim N_{p+q}(\\mu_{2},\\Sigma)$<br>\n",
    "\n",
    "$H_{0}:x_{1},x_{2} $  redundant for separating two groups<br>\n",
    "$x$가 스스로 두 그룹을 나눌 수 있는지 보는게 아니라 $y$로 이미 두 그룹을 나눌 수 있을 때 $x$가 추가적인 정보를 줄 수 있는지 보는 것"
   ]
  },
  {
   "cell_type": "markdown",
   "metadata": {},
   "source": [
    "Full set of $p+q$ variables<br>\n",
    "$T^{2}_{p+q}= \\frac{n_{1}n_{2}}{n_{1}+n_{2}}(\\begin{bmatrix} \\bar{y}_{1} \\\\\n",
    "\\bar{x}_{1} \\end{bmatrix}  -\\begin{bmatrix} \\bar{y}_{2} \\\\\n",
    "\\bar{x}_{2} \\end{bmatrix}  )^{'}S^{-1}_{pl}(\\begin{bmatrix} \\bar{y}_{1} \\\\\n",
    "\\bar{x}_{1} \\end{bmatrix}  -\\begin{bmatrix} \\bar{y}_{2} \\\\\n",
    "\\bar{x}_{2} \\end{bmatrix}  )$<br>\n",
    "<br>\n",
    "Reduced set of $p$ variables<br>\n",
    "$T^{2}_{p}= \\frac{n_{1}n_{2}}{n_{1}+n_{2}}(\\bar{y}_{1}-\\bar{y}_{2})^{'}S^{-1}_{yy}(\\bar{y}_{1}-\\bar{y}_{2})$<br>\n",
    "<br>\n",
    "$T^{2}_{p}$에서 $T^{2}_{p+q}$으로의 the significance of the increase <br>\n",
    "$T^{2}(x|y)=(v-p)\\frac{T^{2}_{p+q}-T^{2}_{p}  }{v+T^{2}_{p}} \\sim T^{2}_{q,v-p}$<br>\n",
    "Reject $H_{0}$ if $T^{2}(x|y)>T^{2}_{\\alpha,q,v-p}$\n"
   ]
  },
  {
   "cell_type": "code",
   "execution_count": 21,
   "metadata": {},
   "outputs": [],
   "source": [
    "#load data\n",
    "df<-read.table('./T5_1_PSYCH.DAT')\n",
    "MEN<-df[df$V1==1,][,-1]\n",
    "WOMEN<-df[df$V1==2,][,-1]"
   ]
  },
  {
   "cell_type": "markdown",
   "metadata": {},
   "source": [
    "3번째 4번째 변수가 추가 됐을 때 유의한지 검증"
   ]
  },
  {
   "cell_type": "markdown",
   "metadata": {},
   "source": [
    "<b>예제</b>"
   ]
  },
  {
   "cell_type": "code",
   "execution_count": 117,
   "metadata": {},
   "outputs": [],
   "source": [
    "Additional_info<-function(df1,df2,Test,alpha=0.05){\n",
    "    T1<-TwoSampleHotelling(df1,df2,alpha)[1,1]\n",
    "    T2<-TwoSampleHotelling(df1[,-Test],df2[,-Test],alpha )[1,1]\n",
    "    \n",
    "    n=dim(df1)[1]\n",
    "    p=dim(df1[,-Test])[2]\n",
    "    q=dim(df1)[2]-dim(df1[,-Test])[2]\n",
    "    v=n*2-2\n",
    "    \n",
    "    T<-(v-p)*(T1-T2  )/(v+T2)\n",
    "    F= (v-p)*( q/(v-p-q+1) )*(qf(1-alpha,q,v-p-q+1))\n",
    "    Pval=(v-p)*( q/(v-p-q+1) )*(1-pf(F,q,v-p-q+1 ))\n",
    "    \n",
    "    RESULT=data.frame(TestStatistic=T,CriticalValue=F, Tp=T2,P_val=Pval   )\n",
    "    return (RESULT)\n",
    "        }"
   ]
  },
  {
   "cell_type": "code",
   "execution_count": 118,
   "metadata": {},
   "outputs": [
    {
     "data": {
      "text/html": [
       "<table>\n",
       "<thead><tr><th scope=col>TestStatistic</th><th scope=col>CriticalValue</th><th scope=col>Tp</th><th scope=col>P_val</th></tr></thead>\n",
       "<tbody>\n",
       "\t<tr><td>42.95478    </td><td>10.13711    </td><td>31.01258    </td><td>0.0003342493</td></tr>\n",
       "</tbody>\n",
       "</table>\n"
      ],
      "text/latex": [
       "\\begin{tabular}{r|llll}\n",
       " TestStatistic & CriticalValue & Tp & P\\_val\\\\\n",
       "\\hline\n",
       "\t 42.95478     & 10.13711     & 31.01258     & 0.0003342493\\\\\n",
       "\\end{tabular}\n"
      ],
      "text/markdown": [
       "\n",
       "TestStatistic | CriticalValue | Tp | P_val | \n",
       "|---|\n",
       "| 42.95478     | 10.13711     | 31.01258     | 0.0003342493 | \n",
       "\n",
       "\n"
      ],
      "text/plain": [
       "  TestStatistic CriticalValue Tp       P_val       \n",
       "1 42.95478      10.13711      31.01258 0.0003342493"
      ]
     },
     "metadata": {},
     "output_type": "display_data"
    }
   ],
   "source": [
    "Additional_info(MEN,WOMEN,c(3,4),0.01)"
   ]
  },
  {
   "cell_type": "markdown",
   "metadata": {},
   "source": [
    "$T^{2}=42.95478$, $T^{2}_{0.01,2,60}=10.13711$으로 $H_{0}$ 기각<br>\n",
    "3번째 4번째 변수는 두 그룹을 나누는데 추가적인 정보를 제공"
   ]
  },
  {
   "cell_type": "markdown",
   "metadata": {},
   "source": [
    "각 변수 하나하나는 추가적인 정보를 제공할까?"
   ]
  },
  {
   "cell_type": "code",
   "execution_count": 122,
   "metadata": {},
   "outputs": [
    {
     "data": {
      "text/html": [
       "<table>\n",
       "<thead><tr><th scope=col>Tp</th><th scope=col>TestStatistic</th></tr></thead>\n",
       "<tbody>\n",
       "\t<tr><td>78.87327 </td><td> 7.843683</td></tr>\n",
       "\t<tr><td>90.83479 </td><td> 2.612203</td></tr>\n",
       "\t<tr><td>32.62530 </td><td>40.513431</td></tr>\n",
       "\t<tr><td>74.59261 </td><td> 9.938490</td></tr>\n",
       "</tbody>\n",
       "</table>\n"
      ],
      "text/latex": [
       "\\begin{tabular}{r|ll}\n",
       " Tp & TestStatistic\\\\\n",
       "\\hline\n",
       "\t 78.87327  &  7.843683\\\\\n",
       "\t 90.83479  &  2.612203\\\\\n",
       "\t 32.62530  & 40.513431\\\\\n",
       "\t 74.59261  &  9.938490\\\\\n",
       "\\end{tabular}\n"
      ],
      "text/markdown": [
       "\n",
       "Tp | TestStatistic | \n",
       "|---|---|---|---|\n",
       "| 78.87327  |  7.843683 | \n",
       "| 90.83479  |  2.612203 | \n",
       "| 32.62530  | 40.513431 | \n",
       "| 74.59261  |  9.938490 | \n",
       "\n",
       "\n"
      ],
      "text/plain": [
       "  Tp       TestStatistic\n",
       "1 78.87327  7.843683    \n",
       "2 90.83479  2.612203    \n",
       "3 32.62530 40.513431    \n",
       "4 74.59261  9.938490    "
      ]
     },
     "metadata": {},
     "output_type": "display_data"
    }
   ],
   "source": [
    "ADD=c()\n",
    "for (i in 1:4){\n",
    "    ADD=rbind(ADD,Additional_info(MEN,WOMEN,i,0.01)[,c('Tp', 'TestStatistic')] )\n",
    "\n",
    "}\n",
    "\n",
    "ADD"
   ]
  },
  {
   "cell_type": "markdown",
   "metadata": {},
   "source": [
    "2번째 변수를 뺐을 때만 통계량이 작아짐<br>\n",
    "3번째 변수가 가장 크게 기여"
   ]
  },
  {
   "cell_type": "markdown",
   "metadata": {},
   "source": [
    "# 6. PROFILE ANALYSIS"
   ]
  },
  {
   "cell_type": "markdown",
   "metadata": {},
   "source": [
    "<b>1) One-sample</b>"
   ]
  },
  {
   "cell_type": "markdown",
   "metadata": {},
   "source": [
    "$y\\sim N_{p}(\\mu, \\Sigma)$일 때, 만약 y가 $p$번 연속 측정 됐다면 (Repeated measurement) $\\mu_{1},..\\mu_{p}$를 비교해보고 싶음<br>\n",
    "Profile: $(1,\\mu_{1}),..(p,\\mu_{p})$를 plot에 찍고 연결한 점"
   ]
  },
  {
   "cell_type": "markdown",
   "metadata": {},
   "source": [
    "Profile이 같은지 검정(flat한지 혹은 level인지)<br>\n",
    "$H_{0}:\\mu_{1}=,..=\\mu_{p}$<br>\n",
    "$y_{1},..,y_{p}$는 independent할 수 없음<br>\n"
   ]
  },
  {
   "cell_type": "markdown",
   "metadata": {},
   "source": [
    "$H_{0}: \\begin{bmatrix} \\mu_{1}-\\mu_{2} \\\\\n",
    "...\\\\\n",
    "\\mu_{p-1}-\\mu_{p} \\end{bmatrix}$=$\\begin{bmatrix} 0 \\\\\n",
    "...\\\\\n",
    "0 \\end{bmatrix}$<br>\n",
    "<br>\n",
    "$H_{0}:C\\mu=0$<br>\n",
    "where $C=\\begin{bmatrix} 1 & -1 & 0 &... \\\\\n",
    " 0 & 1 & -1 &...\\\\ \n",
    "...\\\\\n",
    " 0 & 0 & 0 &..-1  \\end{bmatrix}$"
   ]
  },
  {
   "cell_type": "markdown",
   "metadata": {},
   "source": [
    "<b>2) Two-sample</b>"
   ]
  },
  {
   "cell_type": "markdown",
   "metadata": {},
   "source": [
    "Parellelism Hypothesis<br>\n",
    "<br>\n",
    "두 profile이 평행인지 (기울기가 같은지)<br>\n",
    "$H_{01}$: $\\begin{bmatrix} \\mu_{12}-\\mu_{11} \\\\\n",
    "\\mu_{13}-\\mu_{12}\\\\\n",
    "...\\\\\n",
    "\\mu_{1p}-\\mu_{1,p-1} \\end{bmatrix}$=$\\begin{bmatrix} \\mu_{22}-\\mu_{21} \\\\\n",
    "\\mu_{23}-\\mu_{22}\\\\\n",
    "...\\\\\n",
    "\\mu_{2p}-\\mu_{2,p-1} \\end{bmatrix}$<br>\n",
    "<br>\n",
    "$H_{0}:C\\mu_{1}=C\\mu_{2}$<br>\n",
    "where $C=\\begin{bmatrix} -1 & 1 & 0 &... \\\\\n",
    " 0 & -1 & 1 &...\\\\ \n",
    "...\\\\\n",
    " 0 & 0 & 0 &..1  \\end{bmatrix}$<br>\n",
    " <br>\n",
    "Test Statistic: $T^{2}= \\frac{n_{1}n_{2}}{n_{1}+n_{2}}(\\bar{y}_{1}-\\bar{y}_{2})^{'}C^{'}[CS_{pl}C^{'}]^{-1}C(\\bar{y}_{1}-\\bar{y}_{2})\\sim T^{2}_{p-1,n_{1}+n_{2}-2 }$<br>\n",
    "$p$는 $C$의 row의 갯수"
   ]
  },
  {
   "cell_type": "markdown",
   "metadata": {},
   "source": [
    "두 그룹의 level은 같을까?<br>\n",
    "$H_{02}:\\frac{\\mu_{11}=,..=\\mu_{1p}}{p}=\\frac{\\mu_{21}=,..=\\mu_{2p}}{p}  $<br>\n",
    "<=><br>\n",
    "$H_{02}: j^{'}\\mu_{1}=j^{'}\\mu_{2}$<br>\n",
    "<br>\n",
    "Test statistic: $t=\\frac{j^{'}( \\bar{y}_{1}-\\bar{y}_{2} )   }{ \\sqrt{j^{'}S_{pl}j(1/n_{1}+1/n_{2}  )  }     }$<br>\n",
    "reject $H_{02}$ if $|t|>t_{\\alpha/2, n_{1}+n_{2} }$<br>"
   ]
  },
  {
   "cell_type": "markdown",
   "metadata": {},
   "source": [
    "Profile은 flat 할까?<br>\n",
    "$H_{03}:\\frac{\\mu_{11}+\\mu_{21}}{2}=...=\\frac{\\mu_{1p}=,..=\\mu_{2p}}{2}  $<br>\n",
    "<=><br>\n",
    "$H_{03}: \\frac{1}{2} C(\\mu_{1}+\\mu_{2})=0$<br>\n",
    "<br>\n",
    "Test statistic: $T^{2}=(n_{1}+n_{2})(C\\bar{y} )^{'} (CS_{pl}C^{'}   )^{-1}C\\bar{y}  \\sim T^{2}_{p-1,n_{1}+n_{2}+2}$ when $H_{01}$,$H_{03}$ both true"
   ]
  },
  {
   "cell_type": "markdown",
   "metadata": {},
   "source": [
    "<b> 3) 예제</b>"
   ]
  },
  {
   "cell_type": "code",
   "execution_count": 123,
   "metadata": {},
   "outputs": [],
   "source": [
    "#load data\n",
    "df<-read.table('./T5_1_PSYCH.DAT')\n",
    "MEN<-df[df$V1==1,][,-1]\n",
    "WOMEN<-df[df$V1==2,][,-1]"
   ]
  },
  {
   "cell_type": "code",
   "execution_count": 127,
   "metadata": {},
   "outputs": [
    {
     "data": {
      "image/png": "[encoded data removed]",
      "text/plain": [
       "plot without title"
      ]
     },
     "metadata": {},
     "output_type": "display_data"
    }
   ],
   "source": [
    "plot(c(1:4),apply(MEN,2,mean),type='l',ylim=c(10,35))\n",
    "lines(c(1:4),apply(WOMEN,2,mean),col='red')"
   ]
  },
  {
   "cell_type": "markdown",
   "metadata": {},
   "source": [
    "검정색은 남자의 평균, 빨강색은 여자의 평균으로 plot을 봤을 때는 parallelism이 없어 보임"
   ]
  },
  {
   "cell_type": "markdown",
   "metadata": {},
   "source": [
    "<b>Parallel test</b>"
   ]
  },
  {
   "cell_type": "code",
   "execution_count": 140,
   "metadata": {},
   "outputs": [],
   "source": [
    "ContrastMatrix=function(a,b){\n",
    "    A=matrix(0,nrow=a,ncol=b)\n",
    "    for (i in 1:a){\n",
    "        A[i,i]<-1\n",
    "        A[i,i+1]<- -1\n",
    "    }\n",
    "    return (A)\n",
    "}\n"
   ]
  },
  {
   "cell_type": "code",
   "execution_count": 153,
   "metadata": {},
   "outputs": [],
   "source": [
    "Parellelism<-function(df1,df2,alpha=0.05){\n",
    "    n1<-dim(df1)[1]\n",
    "    n2<-dim(df2)[1]\n",
    "    p=dim(df1)[2] ##same for both\n",
    "    \n",
    "    yhat1=apply(df1,2,mean)\n",
    "    yhat2=apply(df2,2,mean)\n",
    "    \n",
    "    W1=(n1-1)*cov(df1)\n",
    "    W2=(n2-1)*cov(df2)\n",
    "    \n",
    "    Sp=(1/(n1+n2-2))*(W1+W2)\n",
    "    \n",
    "    C=ContrastMatrix(p-1,p)\n",
    "    \n",
    "    \n",
    "    T=((n1*n2)/(n1+n2))*t(yhat1-yhat2)%*%t(C)%*%solve(C%*%Sp%*%t(C))%*%C%*%(yhat1-yhat2)\n",
    "    p=p-1\n",
    "    F=(((n1+n2-2)*p)/(n1+n2-p-1    ))*qf(1-alpha,p,n1+n2-p-1)\n",
    "    Pval=(((n1+n2-2)*p)/(n1+n2-p-1    ))*(1-pf(F,p,n1+n2-p-1))\n",
    "    RESULT=data.frame(TestStatistic=T,CriticalValue=F ,  Pvalue=Pval   )\n",
    "    return (RESULT)\n",
    "        }"
   ]
  },
  {
   "cell_type": "code",
   "execution_count": 154,
   "metadata": {},
   "outputs": [
    {
     "data": {
      "text/html": [
       "<table>\n",
       "<thead><tr><th scope=col>TestStatistic</th><th scope=col>CriticalValue</th><th scope=col>Pvalue</th></tr></thead>\n",
       "<tbody>\n",
       "\t<tr><td>74.24037    </td><td>12.79026    </td><td>4.491991e-06</td></tr>\n",
       "</tbody>\n",
       "</table>\n"
      ],
      "text/latex": [
       "\\begin{tabular}{r|lll}\n",
       " TestStatistic & CriticalValue & Pvalue\\\\\n",
       "\\hline\n",
       "\t 74.24037     & 12.79026     & 4.491991e-06\\\\\n",
       "\\end{tabular}\n"
      ],
      "text/markdown": [
       "\n",
       "TestStatistic | CriticalValue | Pvalue | \n",
       "|---|\n",
       "| 74.24037     | 12.79026     | 4.491991e-06 | \n",
       "\n",
       "\n"
      ],
      "text/plain": [
       "  TestStatistic CriticalValue Pvalue      \n",
       "1 74.24037      12.79026      4.491991e-06"
      ]
     },
     "metadata": {},
     "output_type": "display_data"
    }
   ],
   "source": [
    "Parellelism(MEN,WOMEN,0.01)"
   ]
  },
  {
   "cell_type": "markdown",
   "metadata": {},
   "source": [
    "$T^{2}=74.24037$, $T^{2}_{0.01,3,62}=12.79026$으로 $H_{0}$ 기각하여 두 집단의 차이는 평행하지 않다"
   ]
  },
  {
   "cell_type": "code",
   "execution_count": 161,
   "metadata": {},
   "outputs": [
    {
     "data": {
      "text/html": [
       "<table>\n",
       "<thead><tr><th scope=col>alpha</th></tr></thead>\n",
       "<tbody>\n",
       "\t<tr><td>-0.1356086</td></tr>\n",
       "\t<tr><td> 0.1043403</td></tr>\n",
       "\t<tr><td>-0.3631646</td></tr>\n",
       "</tbody>\n",
       "</table>\n"
      ],
      "text/latex": [
       "\\begin{tabular}{r|l}\n",
       " alpha\\\\\n",
       "\\hline\n",
       "\t -0.1356086\\\\\n",
       "\t  0.1043403\\\\\n",
       "\t -0.3631646\\\\\n",
       "\\end{tabular}\n"
      ],
      "text/markdown": [
       "\n",
       "alpha | \n",
       "|---|---|---|\n",
       "| -0.1356086 | \n",
       "|  0.1043403 | \n",
       "| -0.3631646 | \n",
       "\n",
       "\n"
      ],
      "text/plain": [
       "  alpha     \n",
       "1 -0.1356086\n",
       "2  0.1043403\n",
       "3 -0.3631646"
      ]
     },
     "metadata": {},
     "output_type": "display_data"
    }
   ],
   "source": [
    "Contribution ( as.matrix(WOMEN)%*%t(ContrastMatrix(3,4)),as.matrix(MEN)%*%t(ContrastMatrix(3,4)) )"
   ]
  },
  {
   "cell_type": "markdown",
   "metadata": {},
   "source": [
    "Contribution을 봤을 때 가설을 기각하는데 세 번째 부분에서의 기여도가 높음<br>\n",
    "즉 3번째와 4번째의 기울기가 같지 않음"
   ]
  },
  {
   "cell_type": "markdown",
   "metadata": {},
   "source": [
    "<b>Equal level test</b>"
   ]
  },
  {
   "cell_type": "code",
   "execution_count": 169,
   "metadata": {},
   "outputs": [
    {
     "data": {
      "text/html": [
       "<table>\n",
       "<thead><tr><th scope=col>TestStatistic</th><th scope=col>CriticalValue</th></tr></thead>\n",
       "<tbody>\n",
       "\t<tr><td>5.295698</td><td>2.657479</td></tr>\n",
       "</tbody>\n",
       "</table>\n"
      ],
      "text/latex": [
       "\\begin{tabular}{r|ll}\n",
       " TestStatistic & CriticalValue\\\\\n",
       "\\hline\n",
       "\t 5.295698 & 2.657479\\\\\n",
       "\\end{tabular}\n"
      ],
      "text/markdown": [
       "\n",
       "TestStatistic | CriticalValue | \n",
       "|---|\n",
       "| 5.295698 | 2.657479 | \n",
       "\n",
       "\n"
      ],
      "text/plain": [
       "  TestStatistic CriticalValue\n",
       "1 5.295698      2.657479     "
      ]
     },
     "metadata": {},
     "output_type": "display_data"
    }
   ],
   "source": [
    "alpha=0.01\n",
    "sqrt(TwoSampleHotelling(as.matrix(MEN)%*%matrix(1,nrow=4),as.matrix(WOMEN)%*%matrix(1,nrow=4),alpha)[,c(1,2)])"
   ]
  },
  {
   "cell_type": "markdown",
   "metadata": {},
   "source": [
    "$t=5.295698$, $t_{0.005,62}=2.657479$로 $H_{0}$을 기각하여 두 집단의 level은 같지 않음"
   ]
  },
  {
   "cell_type": "markdown",
   "metadata": {},
   "source": [
    "<b>Flatness test</b>"
   ]
  },
  {
   "cell_type": "markdown",
   "metadata": {},
   "source": [
    "$H_{01}$을 기각하지만 해보면"
   ]
  },
  {
   "cell_type": "code",
   "execution_count": 177,
   "metadata": {},
   "outputs": [],
   "source": [
    "Flatness<-function(df1,df2,alpha=0.05){\n",
    "    n1<-dim(df1)[1]\n",
    "    n2<-dim(df2)[1]\n",
    "    p=dim(df1)[2] ##same for both\n",
    "    \n",
    "    yhat1=apply(df1,2,mean)\n",
    "    yhat2=apply(df2,2,mean)\n",
    "    yhat=(yhat1+yhat2)/2\n",
    "    \n",
    "    W1=(n1-1)*cov(df1)\n",
    "    W2=(n2-1)*cov(df2)\n",
    "    \n",
    "    Sp=(1/(n1+n2-2))*(W1+W2)\n",
    "    \n",
    "    C=ContrastMatrix(p-1,p)\n",
    "    \n",
    "    \n",
    "    T=(n1+n2)*t(C%*%yhat)%*%solve(C%*%Sp%*%t(C))%*%C%*%(yhat)\n",
    "    p=p-1\n",
    "    F=(((n1+n2-2)*p)/(n1+n2-p-1    ))*qf(1-alpha,p,n1+n2-p-1)\n",
    "    Pval=(((n1+n2-2)*p)/(n1+n2-p-1    ))*(1-pf(F,p,n1+n2-p-1))\n",
    "    RESULT=data.frame(TestStatistic=T,CriticalValue=F ,  Pvalue=Pval   )\n",
    "    return (RESULT)\n",
    "        }"
   ]
  },
  {
   "cell_type": "code",
   "execution_count": 178,
   "metadata": {},
   "outputs": [
    {
     "data": {
      "text/html": [
       "<table>\n",
       "<thead><tr><th scope=col>TestStatistic</th><th scope=col>CriticalValue</th><th scope=col>Pvalue</th></tr></thead>\n",
       "<tbody>\n",
       "\t<tr><td>254.0038    </td><td>12.79026    </td><td>4.491991e-06</td></tr>\n",
       "</tbody>\n",
       "</table>\n"
      ],
      "text/latex": [
       "\\begin{tabular}{r|lll}\n",
       " TestStatistic & CriticalValue & Pvalue\\\\\n",
       "\\hline\n",
       "\t 254.0038     & 12.79026     & 4.491991e-06\\\\\n",
       "\\end{tabular}\n"
      ],
      "text/markdown": [
       "\n",
       "TestStatistic | CriticalValue | Pvalue | \n",
       "|---|\n",
       "| 254.0038     | 12.79026     | 4.491991e-06 | \n",
       "\n",
       "\n"
      ],
      "text/plain": [
       "  TestStatistic CriticalValue Pvalue      \n",
       "1 254.0038      12.79026      4.491991e-06"
      ]
     },
     "metadata": {},
     "output_type": "display_data"
    }
   ],
   "source": [
    "Flatness(MEN,WOMEN,0.01)"
   ]
  },
  {
   "cell_type": "markdown",
   "metadata": {},
   "source": [
    "$T^{2}=254.0038$, $T^{2}_{0.01,3,62}=12.79026$으로 $H_{0}$ 기각하여 두 집단의 차이는 flat하지 않다"
   ]
  },
  {
   "cell_type": "code",
   "execution_count": null,
   "metadata": {},
   "outputs": [],
   "source": []
  },
  {
   "cell_type": "markdown",
   "metadata": {},
   "source": [
    "출처: Rencher, A. C. (2003). Methods of multivariate analysis (Vol. 492). John Wiley & Sons."
   ]
  },
  {
   "cell_type": "markdown",
   "metadata": {},
   "source": [
    "데이터 및 코드 :https://github.com/datascienceabe/study_open/upload/master/Multivariate_data_analysis/code"
   ]
  }
 ],
 "metadata": {
  "kernelspec": {
   "display_name": "R",
   "language": "R",
   "name": "ir"
  },
  "language_info": {
   "codemirror_mode": "r",
   "file_extension": ".r",
   "mimetype": "text/x-r-source",
   "name": "R",
   "pygments_lexer": "r",
   "version": "3.5.1"
  }
 },
 "nbformat": 4,
 "nbformat_minor": 2
}
