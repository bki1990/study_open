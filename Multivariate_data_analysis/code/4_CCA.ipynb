{
 "cells": [
  {
   "cell_type": "markdown",
   "metadata": {},
   "source": [
    "데이터 및 코드: https://github.com/datascienceabe/study_open/tree/master/Multivariate_data_analysis"
   ]
  },
  {
   "cell_type": "markdown",
   "metadata": {},
   "source": [
    "데이터: https://onlinecourses.science.psu.edu/onlinecourses/sites/stat505/files/data/sales.txt<br>\n",
    "참고:<br>\n",
    "Borga, M. (2001). Canonical correlation: a tutorial. On line tutorial http://people.imt.liu.se/magnus/cca, 4(5).<br>\n",
    "Friederichs, P., & Hense, A. (2003). Statistical inference in canonical correlation analyses exemplified by the influence of North Atlantic SST on European climate. Journal of climate, 16(3), 522-534.<br>\n",
    "https://math.stackexchange.com/questions/222689/eigenvalue-decomposition-of-block-covariance-matrix-for-canonical-correlation-an<br>\n",
    "http://www.statpower.net/Content/312/Lecture%20Slides/CanonicalCorrelation.pdf<br>\n",
    "https://onlinecourses.science.psu.edu/stat505/lesson/13/13.3<br>\n"
   ]
  },
  {
   "cell_type": "markdown",
   "metadata": {},
   "source": [
    "목차<br>\n",
    "1. Conanical Correlation Analysis 서론\n",
    "2. CCA 학습 과정\n",
    "3. CCA 추정\n",
    "4. Scaling\n",
    "5. 실습 : CCA R로 직접 구현\n",
    "6. Wilks Lambda Test\n",
    "7. 데이터 예제"
   ]
  },
  {
   "cell_type": "markdown",
   "metadata": {},
   "source": [
    "# 1. Conanical Correlation Analysis 서론"
   ]
  },
  {
   "cell_type": "markdown",
   "metadata": {},
   "source": [
    "- pca는 변수 내의 관계를 봤다면 cca는 두 변수 간의 관계를 보는 것\n",
    "- 예를 들어 적성에 관계된 변수들과 성취도에 관한 변수들이 있을 때 정석과 성취도의 관계를 보고 싶을 때 사용가능"
   ]
  },
  {
   "cell_type": "markdown",
   "metadata": {},
   "source": [
    "<b>기본적 가정과 Notation</b><br>\n",
    "X와 Y가 Randomvector라고 가정: \n",
    "$X_{(px1)}= \\begin{bmatrix}X_{1} \\\\\n",
    "... \\\\X_{p}\\end{bmatrix}\\sim (\\mu_{X}, \\Sigma_{X})$\n",
    "$Y_{(qx1)}=\\begin{bmatrix}X_{1} \\\\\n",
    "... \\\\X_{q}\\end{bmatrix}\\sim (\\mu_{Y}, \\Sigma_{Y})$<br>\n",
    "\n",
    "$Z=(X,Y) \\sim (\\mu, \\Sigma)$라고 할 때 $\\mu_{((p+q)x1)}=\\begin{bmatrix}\\mu_{X} \\\\\n",
    "\\mu_{Y}\\end{bmatrix}$ 이고<br>\n",
    "$\\Sigma_{((p+q)x(p+q) )}=\\begin{bmatrix}\n",
    "    \\Sigma_{XX}       & \\Sigma_{XY} \\\\\n",
    "    \\Sigma_{YX}       & \\Sigma_{YY} \\\\\n",
    "\\end{bmatrix}$\n",
    "\n",
    "$\\Sigma_{XX}(pxp),\\Sigma_{YY}(qxq)$: X와 Y 각각의 variance matrix<br>\n",
    "$\\Sigma_{XY}(pxq),\\Sigma_{YX}(qxp)$: X와 Y의 covariance matrix<br>"
   ]
  },
  {
   "cell_type": "markdown",
   "metadata": {},
   "source": [
    "<b>Cononical variate</b><br>\n",
    "\n",
    "X와 Y의 linear combination의 집합 U,V를 Canonical variate이라고 함 <br>\n",
    "Canonical variate: $U_{(1x1)}=\\alpha^{'}X$<br>\n",
    "Canonical variate: $V_{(1x1)}=\\beta^{'}X$<br>\n",
    "가중치 벡터: $\\alpha_{(px1)}= \\begin{bmatrix} \\alpha_{1} \\\\\n",
    "... \\\\ \\alpha_{p}\\end{bmatrix}$\n",
    "$\\beta_{(qx1)}=\\begin{bmatrix} \\beta_{1} \\\\\n",
    "... \\\\ \\beta_{q}\\end{bmatrix}$<br>\n",
    "$Var(U)=\\alpha^{'} \\Sigma_{XX} \\alpha$<br>\n",
    "$Var(V)=\\beta^{'} \\Sigma_{YY} \\beta$<br>\n",
    "$Cov(U,V)=\\alpha^{'} \\Sigma_{XY} \\beta$<br>"
   ]
  },
  {
   "cell_type": "markdown",
   "metadata": {},
   "source": [
    "<b>CCA의 목적함수</b><br>\n",
    "$(\\hat{\\alpha},\\hat{\\beta})=\\arg\\max_{\\alpha,\\beta} Corr(U,V)=\\arg\\max_{\\alpha,\\beta} \\frac{Cov(U,V)}{\\sqrt{Var(U)}\\sqrt{Var(V)}}=\\frac{\\alpha^{'}\\Sigma_{XY}\\beta}{\\sqrt{\\alpha^{'} \\Sigma_{XX} \\alpha} \\sqrt{\\beta^{'} \\Sigma_{YY} \\beta}  }$<br>\n",
    "CCA는 $X$의 linear combination과 $Y$의 linear combination을 최대화하는 $\\alpha,\\beta$를 찾는 문제로 볼 수 있음<br>\n",
    "이 때 unique한 $(\\hat{\\alpha},\\hat{\\beta})$를 구하기 위해 $Var(U)=Var(V)=1$로 Unit variance라는 constraint를 줘서 목적함 수는 다음과 같아짐<br>\n",
    "$(\\hat{\\alpha},\\hat{\\beta})=\\arg\\max_{\\alpha,\\beta} Cov(U,V)=\\alpha^{'}\\Sigma_{XY}\\beta$<br>\n",
    "=> 즉 CCA는 $X$의 basis vector $\\alpha$로의 projection과 $Y$의 basis vector $\\beta$로의 projection의 correlation을 최대화하는 문제"
   ]
  },
  {
   "cell_type": "markdown",
   "metadata": {},
   "source": [
    "# 2. CCA 학습 과정"
   ]
  },
  {
   "cell_type": "markdown",
   "metadata": {},
   "source": [
    "<b>Canonical pair와 CCA의 $\\alpha$, $\\beta$를 찾는 과정</b>\n",
    "\n",
    "$(U_{l},V_{l})$을 $l$번째 canonical pair라고 부름, ($min(p,q)=p$이기 때문에 p개의 pair 존재)<br>\n",
    "$U_{1}=\\alpha_{11}X_{1}+,,,+\\alpha_{1p}X_{p}=\\alpha_{1}X $<br>\n",
    "...<br>\n",
    "$U_{p}=\\alpha_{p1}X_{1}+,,,+\\alpha_{pp}X_{p}=\\alpha_{p}^{'}X $<br>\n",
    "Canonical variate: $V_{(qx1)}=\\beta^{'}Y$<br>\n",
    "$V_{1}=\\beta_{11}Y_{1}+,,,+\\beta_{1p}Y_{q}=\\beta_{1}Y $<br>\n",
    "...<br>\n",
    "$V_{q}=\\beta_{q1}Y_{1}+,,,+\\beta_{qq}Y_{q}=\\beta_{q}^{'}Y $<br>"
   ]
  },
  {
   "cell_type": "markdown",
   "metadata": {},
   "source": [
    "이러한 $\\alpha$, $\\beta$를 찾을 때 \n",
    "1번째 canonical variate pair를 먼저 최대화 함<br>\n",
    "$(\\hat{\\alpha_{1}}^{'},\\hat{\\beta}_{1}^{'})=\\arg\\max_{\\alpha_{1}^{'},\\beta_{1}^{'}}Corr(U_{1},V_{1}) $ subject to $ Var(U_{1})=Var(V_{1})=1 $<br>\n",
    "이 후 2번 째 pair에 대해서는<br>\n",
    "$(\\hat{\\alpha_{2}}^{'},\\hat{\\beta}_{2}^{'})=\\arg\\max_{\\alpha_{2}^{'},\\beta_{2}^{'}}Corr(U_{2},V_{2}) $ subject to $ Var(U_{2})=Var(V_{2})=1 $<br>\n",
    "$Cov(U_{1},U_{2})=Cov(V_{1},V_{2})=Cov(U_{1},V_{2})=Cov(U_{2},U_{2})=0$으로 1번째 canonical variate pair와 2번째 canonical variate pair를 uncorrelate하게 만듬"
   ]
  },
  {
   "cell_type": "markdown",
   "metadata": {},
   "source": [
    "따라서 $l$번째 canonical variate pair의 제약 조건은 <br>\n",
    "$ Var(U_{l})=...=Var(V_{l})=1 $<br>\n",
    "$Cov(U_{1},U_{i})=Cov(V_{1},V_{l})=0$<br>\n",
    "...<br>\n",
    "$Cov(U_{l-1},V_{i})=Cov(U_{l},V_{l-1})=0$으로 제약 조건이 점점 많아짐"
   ]
  },
  {
   "cell_type": "markdown",
   "metadata": {},
   "source": [
    "https://www.cs.cmu.edu/~tom/10701_sp11/slides/CCA_tutorial.pdf\n",
    "https://math.stackexchange.com/questions/222689/eigenvalue-decomposition-of-block-covariance-matrix-for-canonical-correlation-an\n",
    "http://www.statpower.net/Content/312/Lecture%20Slides/CanonicalCorrelation.pdf"
   ]
  },
  {
   "cell_type": "markdown",
   "metadata": {},
   "source": [
    "# 3. CCA 추정"
   ]
  },
  {
   "cell_type": "markdown",
   "metadata": {},
   "source": [
    "<b>$\\alpha,beta$는 어떻게 추정할까?</b><br>\n",
    "<br>\n",
    "$(\\hat{\\alpha},\\hat{\\beta})=\\arg\\max_{\\alpha,\\beta} \\alpha^{'}\\Sigma_{XY}\\beta$, subject to $Var(U)=\\alpha^{'} \\Sigma_{XX} \\alpha=1$,\n",
    "$Var(V)=\\beta^{'} \\Sigma_{YY} \\beta=1$<br>\n",
    "<br>\n",
    "제약 조건하에 최대화 하는 것이기 때문에 lagrange를 이용<br>\n",
    "A=$\\alpha^{'}\\Sigma_{XY}\\beta-\\frac{1}{2}\\lambda_{1}(\\alpha^{'} \\Sigma_{XX} \\alpha)-\\frac{1}{2}\\lambda_{2} \\beta^{'} \\Sigma_{YY} \\beta$라고 하면<br>\n",
    "$\\frac{\\partial A}{\\partial \\alpha}$=>$\\Sigma_{xy}\\beta-\\lambda_{1}\\Sigma_{xx}\\alpha=0$<br>\n",
    "$\\frac{\\partial A}{\\partial \\beta}$=>$\\Sigma_{yx}\\alpha-\\lambda_{2}\\Sigma_{yy}\\beta=0$<br>\n",
    "여기서 $\\lambda_{1},\\lambda_{2}$는 lagrange multiplier이고 $\\alpha^{'}$, $\\beta^{'}$를 각각 곱하면<br>\n",
    "$\\alpha^{'}\\Sigma_{xy}\\beta-\\lambda_{1}=0$<br>\n",
    "$\\beta^{'}\\Sigma_{yx}\\alpha-\\lambda_{2}=0$<br>\n",
    "=>$\\lambda_{1}=\\lambda_{2}$이 됨<br>\n",
    "<br>\n",
    "만약 $\\Sigma_{xx},\\Sigma_{yy}$가 non-singular이고 각각의 inverse를 곱하면<br>\n",
    "$\\Sigma_{xx}^{-1}\\Sigma_{xy}\\beta-\\lambda_{1}\\alpha=0$<br>\n",
    "$\\Sigma_{yy}^{-1}\\Sigma_{yx}\\alpha-\\lambda_{1}\\beta=0$<br>\n",
    "$\\lambda$를 서로 대입하면<br>\n",
    "$\\frac{1}{\\lambda_{1}}\\Sigma_{xx}^{-1}\\Sigma_{xy}\\Sigma_{yy}^{-1}\\Sigma_{yx}\\alpha-\\lambda_{1}\\alpha $<br>\n",
    "$\\frac{1}{\\lambda_{1}}\\Sigma_{yy}^{-1}\\Sigma_{yx}\\Sigma_{xx}^{-1}\\Sigma_{xy}\\beta-\\lambda_{1}\\beta $<br>\n",
    "=> $\\Sigma_{xx}^{-1}\\Sigma_{xy}\\Sigma_{yy}^{-1}\\Sigma_{yx} \\hat{\\alpha}=\\lambda^{2}\\hat{\\alpha}$<br>\n",
    "$\\Sigma_{yy}^{-1}\\Sigma_{yx}\\Sigma_{xx}^{-1}\\Sigma_{xy}\\hat{\\beta}=\\lambda^{2}\\hat{\\beta}$"
   ]
  },
  {
   "cell_type": "markdown",
   "metadata": {},
   "source": [
    "$(\\Sigma_{xx}^{-1}\\Sigma_{xy}\\Sigma_{yy}^{-1}\\Sigma_{yx} - \\lambda^{2})\\hat{\\alpha}=0$<br>\n",
    "$(\\Sigma_{yy}^{-1}\\Sigma_{yx}\\Sigma_{xx}^{-1}\\Sigma_{xy} - \\lambda^{2})\\hat{\\beta}=0$<br>\n",
    "=>여기서 왼쪽을 0으로 만들면 되기 때문에 결국 $\\Sigma_{xx}^{-1}\\Sigma_{xy}\\Sigma_{yy}^{-1}\\Sigma_{yx}$의 eigenvalue의 root, $\\Sigma_{yy}^{-1}\\Sigma_{yx}\\Sigma_{xx}^{-1}\\Sigma_{xy}$의 root를 각각 구하면 됨"
   ]
  },
  {
   "cell_type": "markdown",
   "metadata": {},
   "source": [
    "# 4. Scaling"
   ]
  },
  {
   "cell_type": "markdown",
   "metadata": {},
   "source": [
    "소프트웨어마다 결과 값이 다른 이유는 scaling이 달라서일 가능성이 큼"
   ]
  },
  {
   "cell_type": "markdown",
   "metadata": {},
   "source": [
    "<b>Scaling 방법</b><br>\n",
    "- Completely Raw: Covariance matrix에서 eigenvalue 구하고 scaling 안함(앞의 과정)<br>\n",
    "- Partially Standardized: Weight에 constant 곱해서 canonical variates이 unit variance 갖게 만듬<br>\n",
    "- Fully Standardized: standardized variable에 계산 후 (Correlation Matrix) Weight에 constant 곱해서 canonical variates이 unit variance 갖게 만듬"
   ]
  },
  {
   "cell_type": "markdown",
   "metadata": {},
   "source": [
    "첫 번째 pair부터 eigen vector $\\alpha,\\beta$를 정렬하면 다음과 같음(모자 생략)<br>\n",
    "$A_{(pxp)}=\\begin{bmatrix}\n",
    "    \\alpha_{11} & \\alpha_{12} & ... & \\alpha_{1p} \\\\\n",
    "    \\alpha_{21} & \\alpha_{22} & ... & \\alpha_{2p} \\\\\n",
    "    ... \\\\\n",
    "    \\alpha_{p1} & \\alpha_{p2} & ... & \\alpha_{pp} \\\\\n",
    "\\end{bmatrix}$<br>\n",
    "$B_{(pxq)}=\\begin{bmatrix}\n",
    "    \\beta_{11} & \\beta_{12} & ... & \\beta_{1q} \\\\\n",
    "    \\beta_{21} & \\beta_{22} & ... & \\beta_{2q} \\\\\n",
    "    ... \\\\\n",
    "    \\beta_{p1} & \\beta_{p2} & ... & \\beta_{pq} \\\\\n",
    "\\end{bmatrix}$\n"
   ]
  },
  {
   "cell_type": "markdown",
   "metadata": {},
   "source": [
    "<b>1) Partially Standardized Weights</b><br>\n",
    "$U=XA, V=YB$, $Var(U)=A^{'}\\Sigma_{xx}A$ $Var(V)=B^{'}\\Sigma_{yy}B$<br>\n",
    "각각을 표준편차로 나눠주면<br>\n",
    "$U^{*}=XA Var(U)^{-1/2}$<br>\n",
    "$V^{*}=YB Var(V)^{-1/2}$"
   ]
  },
  {
   "cell_type": "markdown",
   "metadata": {},
   "source": [
    "<b>2) Fully Standardized Weights</b><br>\n",
    "X와 Y를 각각 표준화<br>\n",
    "$\\Sigma_{xx}^{-1}\\Sigma_{xy}\\Sigma_{yy}^{-1}\\Sigma_{yx}$, $\\Sigma_{yy}^{-1}\\Sigma_{yx}\\Sigma_{xx}^{-1}\\Sigma_{xy}$를 구한다음 다시 표준화<br>"
   ]
  },
  {
   "cell_type": "markdown",
   "metadata": {},
   "source": [
    "# 5. 실습 : CCA R로 직접 구현"
   ]
  },
  {
   "cell_type": "code",
   "execution_count": 30,
   "metadata": {},
   "outputs": [],
   "source": [
    "source(\"http://www.statpower.net/R312/Steiger R Library Functions.txt\")\n",
    "source(\"http://www.statpower.net/R312/Data 1.txt\")\n",
    "source(\"http://www.statpower.net/R312/CanCorr.r\")\n",
    "## SAS output\n",
    "output <- canonical.cor(X, Y)"
   ]
  },
  {
   "cell_type": "code",
   "execution_count": 4,
   "metadata": {},
   "outputs": [
    {
     "data": {
      "text/html": [
       "<ol class=list-inline>\n",
       "\t<li>9</li>\n",
       "\t<li>3</li>\n",
       "</ol>\n"
      ],
      "text/latex": [
       "\\begin{enumerate*}\n",
       "\\item 9\n",
       "\\item 3\n",
       "\\end{enumerate*}\n"
      ],
      "text/markdown": [
       "1. 9\n",
       "2. 3\n",
       "\n",
       "\n"
      ],
      "text/plain": [
       "[1] 9 3"
      ]
     },
     "metadata": {},
     "output_type": "display_data"
    },
    {
     "data": {
      "text/html": [
       "<ol class=list-inline>\n",
       "\t<li>9</li>\n",
       "\t<li>3</li>\n",
       "</ol>\n"
      ],
      "text/latex": [
       "\\begin{enumerate*}\n",
       "\\item 9\n",
       "\\item 3\n",
       "\\end{enumerate*}\n"
      ],
      "text/markdown": [
       "1. 9\n",
       "2. 3\n",
       "\n",
       "\n"
      ],
      "text/plain": [
       "[1] 9 3"
      ]
     },
     "metadata": {},
     "output_type": "display_data"
    }
   ],
   "source": [
    "dim(X)\n",
    "dim(Y)"
   ]
  },
  {
   "cell_type": "markdown",
   "metadata": {},
   "source": [
    "임의의 데이터<br>\n",
    "$X_{(9x3)},Y_{(9x3)}$"
   ]
  },
  {
   "cell_type": "markdown",
   "metadata": {},
   "source": [
    "1) $\\Sigma_{xx},\\Sigma_{xy},\\Sigma_{yx},\\Sigma_{yy}$ 계산"
   ]
  },
  {
   "cell_type": "code",
   "execution_count": 5,
   "metadata": {},
   "outputs": [],
   "source": [
    "S.xx <- var(X)\n",
    "S.xy <- cov(X, Y)\n",
    "S.yx <- cov(Y, X)\n",
    "S.yy <- var(Y)"
   ]
  },
  {
   "cell_type": "markdown",
   "metadata": {},
   "source": [
    "$\\Sigma_{xx}^{-1}\\Sigma_{xy}\\Sigma_{yy}^{-1}\\Sigma_{yx}$ $\\Sigma_{yy}^{-1}\\Sigma_{yx}\\Sigma_{xx}^{-1}\\Sigma_{xy}$의 eigenvector,eigenvalue 계산"
   ]
  },
  {
   "cell_type": "code",
   "execution_count": 6,
   "metadata": {},
   "outputs": [],
   "source": [
    "A <- eigen(solve(S.xx) %*% S.xy %*% solve(S.yy) %*% S.yx)$vectors\n",
    "B <- eigen(solve(S.yy) %*% S.yx %*% solve(S.xx) %*% S.xy)$vectors\n",
    "R <- sqrt(eigen(solve(S.yy) %*% S.yx %*% solve(S.xx) %*% S.xy)$values)"
   ]
  },
  {
   "cell_type": "markdown",
   "metadata": {},
   "source": [
    "<b> 1) Raw scaling </b>"
   ]
  },
  {
   "cell_type": "code",
   "execution_count": 7,
   "metadata": {},
   "outputs": [
    {
     "data": {
      "text/html": [
       "<table>\n",
       "<tbody>\n",
       "\t<tr><td> 0.4000005</td><td> 0.7960601</td><td>-0.5776411</td></tr>\n",
       "\t<tr><td> 0.5999997</td><td>-0.5837796</td><td> 0.4286259</td></tr>\n",
       "\t<tr><td>-0.6928203</td><td>-0.1596549</td><td> 0.6947018</td></tr>\n",
       "</tbody>\n",
       "</table>\n"
      ],
      "text/latex": [
       "\\begin{tabular}{lll}\n",
       "\t  0.4000005 &  0.7960601 & -0.5776411\\\\\n",
       "\t  0.5999997 & -0.5837796 &  0.4286259\\\\\n",
       "\t -0.6928203 & -0.1596549 &  0.6947018\\\\\n",
       "\\end{tabular}\n"
      ],
      "text/markdown": [
       "\n",
       "|  0.4000005 |  0.7960601 | -0.5776411 | \n",
       "|  0.5999997 | -0.5837796 |  0.4286259 | \n",
       "| -0.6928203 | -0.1596549 |  0.6947018 | \n",
       "\n",
       "\n"
      ],
      "text/plain": [
       "     [,1]       [,2]       [,3]      \n",
       "[1,]  0.4000005  0.7960601 -0.5776411\n",
       "[2,]  0.5999997 -0.5837796  0.4286259\n",
       "[3,] -0.6928203 -0.1596549  0.6947018"
      ]
     },
     "metadata": {},
     "output_type": "display_data"
    },
    {
     "data": {
      "text/html": [
       "<table>\n",
       "<tbody>\n",
       "\t<tr><td> 1.940668e-07</td><td>-0.5365309   </td><td>-0.8347746   </td></tr>\n",
       "\t<tr><td>-4.335515e-07</td><td> 0.8437704   </td><td> 0.1385922   </td></tr>\n",
       "\t<tr><td> 1.000000e+00</td><td> 0.0136431   </td><td>-0.5328635   </td></tr>\n",
       "</tbody>\n",
       "</table>\n"
      ],
      "text/latex": [
       "\\begin{tabular}{lll}\n",
       "\t  1.940668e-07 & -0.5365309    & -0.8347746   \\\\\n",
       "\t -4.335515e-07 &  0.8437704    &  0.1385922   \\\\\n",
       "\t  1.000000e+00 &  0.0136431    & -0.5328635   \\\\\n",
       "\\end{tabular}\n"
      ],
      "text/markdown": [
       "\n",
       "|  1.940668e-07 | -0.5365309    | -0.8347746    | \n",
       "| -4.335515e-07 |  0.8437704    |  0.1385922    | \n",
       "|  1.000000e+00 |  0.0136431    | -0.5328635    | \n",
       "\n",
       "\n"
      ],
      "text/plain": [
       "     [,1]          [,2]       [,3]      \n",
       "[1,]  1.940668e-07 -0.5365309 -0.8347746\n",
       "[2,] -4.335515e-07  0.8437704  0.1385922\n",
       "[3,]  1.000000e+00  0.0136431 -0.5328635"
      ]
     },
     "metadata": {},
     "output_type": "display_data"
    }
   ],
   "source": [
    "A\n",
    "B"
   ]
  },
  {
   "cell_type": "markdown",
   "metadata": {},
   "source": [
    "<b>2) Partially Standardized Weights</b>"
   ]
  },
  {
   "cell_type": "markdown",
   "metadata": {},
   "source": [
    "$A^{*}=AVar(U)^{-1/2}$<br>\n",
    "$B^{*}=BVar(V)^{-1/2}$"
   ]
  },
  {
   "cell_type": "code",
   "execution_count": 10,
   "metadata": {},
   "outputs": [
    {
     "data": {
      "text/html": [
       "<table>\n",
       "<tbody>\n",
       "\t<tr><td> 0.4323655</td><td> 1.4467842</td><td>-0.8180369</td></tr>\n",
       "\t<tr><td> 0.6485470</td><td>-1.0609791</td><td> 0.6070064</td></tr>\n",
       "\t<tr><td>-0.7488779</td><td>-0.2901618</td><td> 0.9838146</td></tr>\n",
       "</tbody>\n",
       "</table>\n"
      ],
      "text/latex": [
       "\\begin{tabular}{lll}\n",
       "\t  0.4323655 &  1.4467842 & -0.8180369\\\\\n",
       "\t  0.6485470 & -1.0609791 &  0.6070064\\\\\n",
       "\t -0.7488779 & -0.2901618 &  0.9838146\\\\\n",
       "\\end{tabular}\n"
      ],
      "text/markdown": [
       "\n",
       "|  0.4323655 |  1.4467842 | -0.8180369 | \n",
       "|  0.6485470 | -1.0609791 |  0.6070064 | \n",
       "| -0.7488779 | -0.2901618 |  0.9838146 | \n",
       "\n",
       "\n"
      ],
      "text/plain": [
       "     [,1]       [,2]       [,3]      \n",
       "[1,]  0.4323655  1.4467842 -0.8180369\n",
       "[2,]  0.6485470 -1.0609791  0.6070064\n",
       "[3,] -0.7488779 -0.2901618  0.9838146"
      ]
     },
     "metadata": {},
     "output_type": "display_data"
    },
    {
     "data": {
      "text/html": [
       "<table>\n",
       "<tbody>\n",
       "\t<tr><td> 2.097691e-07</td><td>-0.84865163  </td><td>-1.5199701   </td></tr>\n",
       "\t<tr><td>-4.686311e-07</td><td> 1.33462432  </td><td> 0.2523508   </td></tr>\n",
       "\t<tr><td> 1.080912e+00</td><td> 0.02157982  </td><td>-0.9702457   </td></tr>\n",
       "</tbody>\n",
       "</table>\n"
      ],
      "text/latex": [
       "\\begin{tabular}{lll}\n",
       "\t  2.097691e-07 & -0.84865163   & -1.5199701   \\\\\n",
       "\t -4.686311e-07 &  1.33462432   &  0.2523508   \\\\\n",
       "\t  1.080912e+00 &  0.02157982   & -0.9702457   \\\\\n",
       "\\end{tabular}\n"
      ],
      "text/markdown": [
       "\n",
       "|  2.097691e-07 | -0.84865163   | -1.5199701    | \n",
       "| -4.686311e-07 |  1.33462432   |  0.2523508    | \n",
       "|  1.080912e+00 |  0.02157982   | -0.9702457    | \n",
       "\n",
       "\n"
      ],
      "text/plain": [
       "     [,1]          [,2]        [,3]      \n",
       "[1,]  2.097691e-07 -0.84865163 -1.5199701\n",
       "[2,] -4.686311e-07  1.33462432  0.2523508\n",
       "[3,]  1.080912e+00  0.02157982 -0.9702457"
      ]
     },
     "metadata": {},
     "output_type": "display_data"
    }
   ],
   "source": [
    "A.single <- A %*% solve(sqrt(diag(diag(var(X %*% A)))))\n",
    "B.single <- B %*% solve(sqrt(diag(diag(var(Y %*% B)))))\n",
    "A.single\n",
    "B.single"
   ]
  },
  {
   "cell_type": "code",
   "execution_count": 29,
   "metadata": {},
   "outputs": [
    {
     "data": {
      "text/html": [
       "<strong>$`X (SAS) Raw Weights`</strong> = <table>\n",
       "<tbody>\n",
       "\t<tr><td> 0.4323655</td><td>-1.4467842</td><td>-0.8180369</td></tr>\n",
       "\t<tr><td> 0.6485470</td><td> 1.0609791</td><td> 0.6070064</td></tr>\n",
       "\t<tr><td>-0.7488779</td><td> 0.2901618</td><td> 0.9838146</td></tr>\n",
       "</tbody>\n",
       "</table>\n"
      ],
      "text/latex": [
       "\\textbf{\\$`X (SAS) Raw Weights`} = \\begin{tabular}{lll}\n",
       "\t  0.4323655 & -1.4467842 & -0.8180369\\\\\n",
       "\t  0.6485470 &  1.0609791 &  0.6070064\\\\\n",
       "\t -0.7488779 &  0.2901618 &  0.9838146\\\\\n",
       "\\end{tabular}\n"
      ],
      "text/markdown": [
       "**$`X (SAS) Raw Weights`** = \n",
       "|  0.4323655 | -1.4467842 | -0.8180369 | \n",
       "|  0.6485470 |  1.0609791 |  0.6070064 | \n",
       "| -0.7488779 |  0.2901618 |  0.9838146 | \n",
       "\n",
       "\n"
      ],
      "text/plain": [
       "$`X (SAS) Raw Weights`\n",
       "           [,1]       [,2]       [,3]\n",
       "[1,]  0.4323655 -1.4467842 -0.8180369\n",
       "[2,]  0.6485470  1.0609791  0.6070064\n",
       "[3,] -0.7488779  0.2901618  0.9838146\n"
      ]
     },
     "metadata": {},
     "output_type": "display_data"
    },
    {
     "data": {
      "text/html": [
       "<strong>$`Y (SAS) Raw Weights`</strong> = <table>\n",
       "<tbody>\n",
       "\t<tr><td> 2.097691e-07</td><td>-0.84865163  </td><td>-1.5199701   </td></tr>\n",
       "\t<tr><td>-4.686311e-07</td><td> 1.33462432  </td><td> 0.2523508   </td></tr>\n",
       "\t<tr><td> 1.080912e+00</td><td> 0.02157982  </td><td>-0.9702457   </td></tr>\n",
       "</tbody>\n",
       "</table>\n"
      ],
      "text/latex": [
       "\\textbf{\\$`Y (SAS) Raw Weights`} = \\begin{tabular}{lll}\n",
       "\t  2.097691e-07 & -0.84865163   & -1.5199701   \\\\\n",
       "\t -4.686311e-07 &  1.33462432   &  0.2523508   \\\\\n",
       "\t  1.080912e+00 &  0.02157982   & -0.9702457   \\\\\n",
       "\\end{tabular}\n"
      ],
      "text/markdown": [
       "**$`Y (SAS) Raw Weights`** = \n",
       "|  2.097691e-07 | -0.84865163   | -1.5199701    | \n",
       "| -4.686311e-07 |  1.33462432   |  0.2523508    | \n",
       "|  1.080912e+00 |  0.02157982   | -0.9702457    | \n",
       "\n",
       "\n"
      ],
      "text/plain": [
       "$`Y (SAS) Raw Weights`\n",
       "              [,1]        [,2]       [,3]\n",
       "[1,]  2.097691e-07 -0.84865163 -1.5199701\n",
       "[2,] -4.686311e-07  1.33462432  0.2523508\n",
       "[3,]  1.080912e+00  0.02157982 -0.9702457\n"
      ]
     },
     "metadata": {},
     "output_type": "display_data"
    }
   ],
   "source": [
    "output[2]\n",
    "output[3]"
   ]
  },
  {
   "cell_type": "markdown",
   "metadata": {},
   "source": [
    "SAS 결과와 같음"
   ]
  },
  {
   "cell_type": "markdown",
   "metadata": {},
   "source": [
    "<b>3) Fully Standardized Weights</b>"
   ]
  },
  {
   "cell_type": "markdown",
   "metadata": {},
   "source": [
    "Z score 이용<br>\n",
    "Q operator로 score을 deivation score로 변환<br>\n",
    "Q1은 vector $1$의 complementary orthogonal projector<br>\n",
    "Original vecotr $-$orthognal projection $Q= 1-1(1^{'}1)1$"
   ]
  },
  {
   "cell_type": "code",
   "execution_count": 18,
   "metadata": {},
   "outputs": [],
   "source": [
    "X.dev <- Q(UnitVector(9)) %*% X\n",
    "Y.dev <- Q(UnitVector(9)) %*% Y"
   ]
  },
  {
   "cell_type": "markdown",
   "metadata": {},
   "source": [
    "$Z_{x}=Q\\Sigma_{xx}^{-1/2}$<br>\n",
    "$Z_{y}=Q\\Sigma_{yy}^{-1/2}$"
   ]
  },
  {
   "cell_type": "code",
   "execution_count": 15,
   "metadata": {},
   "outputs": [],
   "source": [
    "## Z-score X,Y Create diagonal matrices with standard\n",
    "## deviations Then invert using solve\n",
    "D.x <- solve(sqrt(diag(diag(var(X)))))\n",
    "D.y <- solve(sqrt(diag(diag(var(Y)))))\n",
    "## Postmultiply the deviation score matrix to create\n",
    "## Z-scores\n",
    "Z.x <- X.dev %*% D.x\n",
    "Z.y <- Y.dev %*% D.y"
   ]
  },
  {
   "cell_type": "markdown",
   "metadata": {},
   "source": [
    "correlation에 대해 계산<br>\n",
    "$R_{xx}^{-1}R_{xy}R_{yy}^{-1}R_{yx}$, $R_{yy}^{-1}R_{yx}R_{xx}^{-1}R_{xy}$<br>\n",
    "$A^{*}=ACov(Z_{x}A)^{-1/2}$<br>\n",
    "$B^{*}=BCov(Z_{x}A)^{-1/2}$"
   ]
  },
  {
   "cell_type": "code",
   "execution_count": 36,
   "metadata": {},
   "outputs": [],
   "source": [
    "R.xy <- cor(X, Y)\n",
    "R.xx <- cor(X)\n",
    "R.yx <- cor(Y, X)\n",
    "R.yy <- cor(Y)\n",
    "A.s <- eigen(solve(R.xx) %*% R.xy %*% solve(R.yy) %*% R.yx)$vectors\n",
    "B.s <- eigen(solve(R.yy) %*% R.yx %*% solve(R.xx) %*% R.xy)$vectors\n",
    "A.fully <- A.s %*% solve(sqrt(diag(diag(var(Z.x %*% A.s)))))\n",
    "B.fully <- B.s %*% solve(sqrt(diag(diag(var(Z.y %*% B.s)))))"
   ]
  },
  {
   "cell_type": "code",
   "execution_count": 17,
   "metadata": {},
   "outputs": [
    {
     "data": {
      "text/html": [
       "<table>\n",
       "<tbody>\n",
       "\t<tr><td> 0.6404914</td><td> 2.1432165</td><td>-1.2118119</td></tr>\n",
       "\t<tr><td> 0.8647293</td><td>-1.4146388</td><td> 0.8093419</td></tr>\n",
       "\t<tr><td>-1.0442604</td><td>-0.4046112</td><td> 1.3718640</td></tr>\n",
       "</tbody>\n",
       "</table>\n"
      ],
      "text/latex": [
       "\\begin{tabular}{lll}\n",
       "\t  0.6404914 &  2.1432165 & -1.2118119\\\\\n",
       "\t  0.8647293 & -1.4146388 &  0.8093419\\\\\n",
       "\t -1.0442604 & -0.4046112 &  1.3718640\\\\\n",
       "\\end{tabular}\n"
      ],
      "text/markdown": [
       "\n",
       "|  0.6404914 |  2.1432165 | -1.2118119 | \n",
       "|  0.8647293 | -1.4146388 |  0.8093419 | \n",
       "| -1.0442604 | -0.4046112 |  1.3718640 | \n",
       "\n",
       "\n"
      ],
      "text/plain": [
       "     [,1]       [,2]       [,3]      \n",
       "[1,]  0.6404914  2.1432165 -1.2118119\n",
       "[2,]  0.8647293 -1.4146388  0.8093419\n",
       "[3,] -1.0442604 -0.4046112  1.3718640"
      ]
     },
     "metadata": {},
     "output_type": "display_data"
    },
    {
     "data": {
      "text/html": [
       "<table>\n",
       "<tbody>\n",
       "\t<tr><td> 2.097691e-07</td><td>-0.84865163  </td><td>-1.5199701   </td></tr>\n",
       "\t<tr><td>-4.939805e-07</td><td> 1.40681755  </td><td> 0.2660011   </td></tr>\n",
       "\t<tr><td> 9.999999e-01</td><td> 0.01996446  </td><td>-0.8976176   </td></tr>\n",
       "</tbody>\n",
       "</table>\n"
      ],
      "text/latex": [
       "\\begin{tabular}{lll}\n",
       "\t  2.097691e-07 & -0.84865163   & -1.5199701   \\\\\n",
       "\t -4.939805e-07 &  1.40681755   &  0.2660011   \\\\\n",
       "\t  9.999999e-01 &  0.01996446   & -0.8976176   \\\\\n",
       "\\end{tabular}\n"
      ],
      "text/markdown": [
       "\n",
       "|  2.097691e-07 | -0.84865163   | -1.5199701    | \n",
       "| -4.939805e-07 |  1.40681755   |  0.2660011    | \n",
       "|  9.999999e-01 |  0.01996446   | -0.8976176    | \n",
       "\n",
       "\n"
      ],
      "text/plain": [
       "     [,1]          [,2]        [,3]      \n",
       "[1,]  2.097691e-07 -0.84865163 -1.5199701\n",
       "[2,] -4.939805e-07  1.40681755  0.2660011\n",
       "[3,]  9.999999e-01  0.01996446 -0.8976176"
      ]
     },
     "metadata": {},
     "output_type": "display_data"
    }
   ],
   "source": [
    "A.fully\n",
    "B.fully"
   ]
  },
  {
   "cell_type": "code",
   "execution_count": 32,
   "metadata": {},
   "outputs": [
    {
     "data": {
      "text/html": [
       "<strong>$`X Fully Standardized Weights`</strong> = <table>\n",
       "<tbody>\n",
       "\t<tr><td> 0.6404914</td><td>-2.1432165</td><td>-1.2118119</td></tr>\n",
       "\t<tr><td> 0.8647293</td><td> 1.4146388</td><td> 0.8093419</td></tr>\n",
       "\t<tr><td>-1.0442604</td><td> 0.4046112</td><td> 1.3718640</td></tr>\n",
       "</tbody>\n",
       "</table>\n"
      ],
      "text/latex": [
       "\\textbf{\\$`X Fully Standardized Weights`} = \\begin{tabular}{lll}\n",
       "\t  0.6404914 & -2.1432165 & -1.2118119\\\\\n",
       "\t  0.8647293 &  1.4146388 &  0.8093419\\\\\n",
       "\t -1.0442604 &  0.4046112 &  1.3718640\\\\\n",
       "\\end{tabular}\n"
      ],
      "text/markdown": [
       "**$`X Fully Standardized Weights`** = \n",
       "|  0.6404914 | -2.1432165 | -1.2118119 | \n",
       "|  0.8647293 |  1.4146388 |  0.8093419 | \n",
       "| -1.0442604 |  0.4046112 |  1.3718640 | \n",
       "\n",
       "\n"
      ],
      "text/plain": [
       "$`X Fully Standardized Weights`\n",
       "           [,1]       [,2]       [,3]\n",
       "[1,]  0.6404914 -2.1432165 -1.2118119\n",
       "[2,]  0.8647293  1.4146388  0.8093419\n",
       "[3,] -1.0442604  0.4046112  1.3718640\n"
      ]
     },
     "metadata": {},
     "output_type": "display_data"
    },
    {
     "data": {
      "text/html": [
       "<strong>$`Y Fully Standardized Weights`</strong> = <table>\n",
       "<tbody>\n",
       "\t<tr><td> 2.097691e-07</td><td>-0.84865163  </td><td>-1.5199701   </td></tr>\n",
       "\t<tr><td>-4.939805e-07</td><td> 1.40681755  </td><td> 0.2660011   </td></tr>\n",
       "\t<tr><td> 9.999999e-01</td><td> 0.01996446  </td><td>-0.8976176   </td></tr>\n",
       "</tbody>\n",
       "</table>\n"
      ],
      "text/latex": [
       "\\textbf{\\$`Y Fully Standardized Weights`} = \\begin{tabular}{lll}\n",
       "\t  2.097691e-07 & -0.84865163   & -1.5199701   \\\\\n",
       "\t -4.939805e-07 &  1.40681755   &  0.2660011   \\\\\n",
       "\t  9.999999e-01 &  0.01996446   & -0.8976176   \\\\\n",
       "\\end{tabular}\n"
      ],
      "text/markdown": [
       "**$`Y Fully Standardized Weights`** = \n",
       "|  2.097691e-07 | -0.84865163   | -1.5199701    | \n",
       "| -4.939805e-07 |  1.40681755   |  0.2660011    | \n",
       "|  9.999999e-01 |  0.01996446   | -0.8976176    | \n",
       "\n",
       "\n"
      ],
      "text/plain": [
       "$`Y Fully Standardized Weights`\n",
       "              [,1]        [,2]       [,3]\n",
       "[1,]  2.097691e-07 -0.84865163 -1.5199701\n",
       "[2,] -4.939805e-07  1.40681755  0.2660011\n",
       "[3,]  9.999999e-01  0.01996446 -0.8976176\n"
      ]
     },
     "metadata": {},
     "output_type": "display_data"
    }
   ],
   "source": [
    "output[4]\n",
    "output[5]"
   ]
  },
  {
   "cell_type": "markdown",
   "metadata": {},
   "source": [
    "Loading<br>\n",
    "$corr(X,U)$, $corr(Y,V)$"
   ]
  },
  {
   "cell_type": "code",
   "execution_count": 50,
   "metadata": {},
   "outputs": [
    {
     "data": {
      "text/html": [
       "<table>\n",
       "<tbody>\n",
       "\t<tr><td> 0.508427758</td><td>0.6402387   </td><td>0.5758434   </td></tr>\n",
       "\t<tr><td> 0.772113573</td><td>0.1218987   </td><td>0.6236837   </td></tr>\n",
       "\t<tr><td>-0.006403743</td><td>0.4936286   </td><td>0.8696493   </td></tr>\n",
       "</tbody>\n",
       "</table>\n"
      ],
      "text/latex": [
       "\\begin{tabular}{lll}\n",
       "\t  0.508427758 & 0.6402387    & 0.5758434   \\\\\n",
       "\t  0.772113573 & 0.1218987    & 0.6236837   \\\\\n",
       "\t -0.006403743 & 0.4936286    & 0.8696493   \\\\\n",
       "\\end{tabular}\n"
      ],
      "text/markdown": [
       "\n",
       "|  0.508427758 | 0.6402387    | 0.5758434    | \n",
       "|  0.772113573 | 0.1218987    | 0.6236837    | \n",
       "| -0.006403743 | 0.4936286    | 0.8696493    | \n",
       "\n",
       "\n"
      ],
      "text/plain": [
       "     [,1]         [,2]      [,3]     \n",
       "[1,]  0.508427758 0.6402387 0.5758434\n",
       "[2,]  0.772113573 0.1218987 0.6236837\n",
       "[3,] -0.006403743 0.4936286 0.8696493"
      ]
     },
     "metadata": {},
     "output_type": "display_data"
    },
    {
     "data": {
      "text/html": [
       "<table>\n",
       "<tbody>\n",
       "\t<tr><td>-0.6630289   </td><td>1.390796e-01 </td><td>-7.355607e-01</td></tr>\n",
       "\t<tr><td>-0.4141582   </td><td>7.947229e-01 </td><td>-4.437212e-01</td></tr>\n",
       "\t<tr><td> 1.0000000   </td><td>3.634030e-07 </td><td>-6.489173e-08</td></tr>\n",
       "</tbody>\n",
       "</table>\n"
      ],
      "text/latex": [
       "\\begin{tabular}{lll}\n",
       "\t -0.6630289    & 1.390796e-01  & -7.355607e-01\\\\\n",
       "\t -0.4141582    & 7.947229e-01  & -4.437212e-01\\\\\n",
       "\t  1.0000000    & 3.634030e-07  & -6.489173e-08\\\\\n",
       "\\end{tabular}\n"
      ],
      "text/markdown": [
       "\n",
       "| -0.6630289    | 1.390796e-01  | -7.355607e-01 | \n",
       "| -0.4141582    | 7.947229e-01  | -4.437212e-01 | \n",
       "|  1.0000000    | 3.634030e-07  | -6.489173e-08 | \n",
       "\n",
       "\n"
      ],
      "text/plain": [
       "     [,1]       [,2]         [,3]         \n",
       "[1,] -0.6630289 1.390796e-01 -7.355607e-01\n",
       "[2,] -0.4141582 7.947229e-01 -4.437212e-01\n",
       "[3,]  1.0000000 3.634030e-07 -6.489173e-08"
      ]
     },
     "metadata": {},
     "output_type": "display_data"
    }
   ],
   "source": [
    "cor(X,X%*%A)\n",
    "cor(Y,Y%*%B)"
   ]
  },
  {
   "cell_type": "code",
   "execution_count": 34,
   "metadata": {},
   "outputs": [
    {
     "data": {
      "text/html": [
       "<strong>$`X Canonical Loadings`</strong> = <table>\n",
       "<tbody>\n",
       "\t<tr><td> 0.508427758</td><td>-0.6402387  </td><td>0.5758434   </td></tr>\n",
       "\t<tr><td> 0.772113573</td><td>-0.1218987  </td><td>0.6236837   </td></tr>\n",
       "\t<tr><td>-0.006403743</td><td>-0.4936286  </td><td>0.8696493   </td></tr>\n",
       "</tbody>\n",
       "</table>\n"
      ],
      "text/latex": [
       "\\textbf{\\$`X Canonical Loadings`} = \\begin{tabular}{lll}\n",
       "\t  0.508427758 & -0.6402387   & 0.5758434   \\\\\n",
       "\t  0.772113573 & -0.1218987   & 0.6236837   \\\\\n",
       "\t -0.006403743 & -0.4936286   & 0.8696493   \\\\\n",
       "\\end{tabular}\n"
      ],
      "text/markdown": [
       "**$`X Canonical Loadings`** = \n",
       "|  0.508427758 | -0.6402387   | 0.5758434    | \n",
       "|  0.772113573 | -0.1218987   | 0.6236837    | \n",
       "| -0.006403743 | -0.4936286   | 0.8696493    | \n",
       "\n",
       "\n"
      ],
      "text/plain": [
       "$`X Canonical Loadings`\n",
       "             [,1]       [,2]      [,3]\n",
       "[1,]  0.508427758 -0.6402387 0.5758434\n",
       "[2,]  0.772113573 -0.1218987 0.6236837\n",
       "[3,] -0.006403743 -0.4936286 0.8696493\n"
      ]
     },
     "metadata": {},
     "output_type": "display_data"
    },
    {
     "data": {
      "text/html": [
       "<strong>$`Y Canonical Loadings`</strong> = <table>\n",
       "<tbody>\n",
       "\t<tr><td>-0.6630289   </td><td>1.390796e-01 </td><td>-7.355607e-01</td></tr>\n",
       "\t<tr><td>-0.4141582   </td><td>7.947229e-01 </td><td>-4.437212e-01</td></tr>\n",
       "\t<tr><td> 1.0000000   </td><td>3.634030e-07 </td><td>-6.489173e-08</td></tr>\n",
       "</tbody>\n",
       "</table>\n"
      ],
      "text/latex": [
       "\\textbf{\\$`Y Canonical Loadings`} = \\begin{tabular}{lll}\n",
       "\t -0.6630289    & 1.390796e-01  & -7.355607e-01\\\\\n",
       "\t -0.4141582    & 7.947229e-01  & -4.437212e-01\\\\\n",
       "\t  1.0000000    & 3.634030e-07  & -6.489173e-08\\\\\n",
       "\\end{tabular}\n"
      ],
      "text/markdown": [
       "**$`Y Canonical Loadings`** = \n",
       "| -0.6630289    | 1.390796e-01  | -7.355607e-01 | \n",
       "| -0.4141582    | 7.947229e-01  | -4.437212e-01 | \n",
       "|  1.0000000    | 3.634030e-07  | -6.489173e-08 | \n",
       "\n",
       "\n"
      ],
      "text/plain": [
       "$`Y Canonical Loadings`\n",
       "           [,1]         [,2]          [,3]\n",
       "[1,] -0.6630289 1.390796e-01 -7.355607e-01\n",
       "[2,] -0.4141582 7.947229e-01 -4.437212e-01\n",
       "[3,]  1.0000000 3.634030e-07 -6.489173e-08\n"
      ]
     },
     "metadata": {},
     "output_type": "display_data"
    }
   ],
   "source": [
    "output[6]\n",
    "output[7]"
   ]
  },
  {
   "cell_type": "markdown",
   "metadata": {},
   "source": [
    "Canonical Loading: 관측된 변수와 Canonical variable간의 correlation"
   ]
  },
  {
   "cell_type": "code",
   "execution_count": 51,
   "metadata": {},
   "outputs": [
    {
     "data": {
      "text/html": [
       "<table>\n",
       "<tbody>\n",
       "\t<tr><td>1.000000e+00 </td><td> 2.972265e-16</td><td>-7.249799e-17</td></tr>\n",
       "\t<tr><td>3.480917e-16 </td><td>-5.193831e-01</td><td> 8.753114e-16</td></tr>\n",
       "\t<tr><td>2.586973e-16 </td><td>-4.072115e-16</td><td> 9.103064e-02</td></tr>\n",
       "</tbody>\n",
       "</table>\n"
      ],
      "text/latex": [
       "\\begin{tabular}{lll}\n",
       "\t 1.000000e+00  &  2.972265e-16 & -7.249799e-17\\\\\n",
       "\t 3.480917e-16  & -5.193831e-01 &  8.753114e-16\\\\\n",
       "\t 2.586973e-16  & -4.072115e-16 &  9.103064e-02\\\\\n",
       "\\end{tabular}\n"
      ],
      "text/markdown": [
       "\n",
       "| 1.000000e+00  |  2.972265e-16 | -7.249799e-17 | \n",
       "| 3.480917e-16  | -5.193831e-01 |  8.753114e-16 | \n",
       "| 2.586973e-16  | -4.072115e-16 |  9.103064e-02 | \n",
       "\n",
       "\n"
      ],
      "text/plain": [
       "     [,1]         [,2]          [,3]         \n",
       "[1,] 1.000000e+00  2.972265e-16 -7.249799e-17\n",
       "[2,] 3.480917e-16 -5.193831e-01  8.753114e-16\n",
       "[3,] 2.586973e-16 -4.072115e-16  9.103064e-02"
      ]
     },
     "metadata": {},
     "output_type": "display_data"
    }
   ],
   "source": [
    "cor(X%*%A,Y%*%B)"
   ]
  },
  {
   "cell_type": "markdown",
   "metadata": {},
   "source": [
    "# 6. Wilks Lambda Test"
   ]
  },
  {
   "cell_type": "markdown",
   "metadata": {},
   "source": [
    "- 여러 개의  다변량 데이터의 독립성 테스트\n",
    "- Multivaraite Normal 가정\n",
    "- Likelihood Ratio Test<br>\n",
    "$H_{0}:\\rho_{0}=\\rho_{1}=...=\\rho_{p} =0$<br>\n",
    "$\\Lambda=\\sum_{i=1}^{p}(1-\\lambda_{i})$<br>\n",
    "$\\frac{1-\\Lambda^{1/v}}{\\Lambda^{1/v}}>\\frac{pq}{\\delta v - pq/2 +1}F $<br>\n",
    "서로 Correlate 하지 않으면 eigen value의 값이 작아짐=> Test statistic 커짐 => 기각\n",
    "\n"
   ]
  },
  {
   "cell_type": "markdown",
   "metadata": {},
   "source": [
    "# 7. 데이터 예제"
   ]
  },
  {
   "cell_type": "code",
   "execution_count": 78,
   "metadata": {},
   "outputs": [],
   "source": [
    "setwd('C:/Users/bki19/desktop/Multivariate_data_analysis/data')"
   ]
  },
  {
   "cell_type": "code",
   "execution_count": 79,
   "metadata": {},
   "outputs": [],
   "source": [
    "df<-read.table('./sales.txt')"
   ]
  },
  {
   "cell_type": "markdown",
   "metadata": {},
   "source": [
    "기업에서 50명의 직원들을 대상으로 설문조사해서 어떤 요인이 판매 실적에 영향을 주는지 알고 싶음<br>\n",
    "판매 실적에 관한 변수(전 년도 대비 성장률인듯)<br>\n",
    "V1: 판매 성장<br>\n",
    "V2: 판매 이익<br>\n",
    "V3: 새 계정 판매<br>\n",
    "지능 테스트 점수<br>\n",
    "V4: 창의성<br>\n",
    "V5: 기계적 추론 능력<br>\n",
    "V6: 추상적 추론 능력<br>\n",
    "V7: 수학<br>\n"
   ]
  },
  {
   "cell_type": "code",
   "execution_count": 98,
   "metadata": {},
   "outputs": [],
   "source": [
    "CCA<-canonical.cor(df[,c(1:3)],df[,c(4:7)])"
   ]
  },
  {
   "cell_type": "markdown",
   "metadata": {},
   "source": [
    "<b>1) Test for Relationship Between Canonical Variate Pairs</b>"
   ]
  },
  {
   "cell_type": "code",
   "execution_count": 105,
   "metadata": {},
   "outputs": [
    {
     "data": {
      "text/html": [
       "<strong>$`Canonical Correlations`</strong> = <table>\n",
       "<thead><tr><th scope=col>Canonical R</th><th scope=col>Wilk's Lambda</th><th scope=col>F</th><th scope=col>df1</th><th scope=col>df2</th><th scope=col>p value</th></tr></thead>\n",
       "<tbody>\n",
       "\t<tr><td>0.9944827   </td><td>0.002148472 </td><td>87.39152    </td><td>12          </td><td>114.0588    </td><td>1.218273e-51</td></tr>\n",
       "\t<tr><td>0.8781065   </td><td>0.195241267 </td><td>18.52627    </td><td> 6          </td><td> 88.0000    </td><td>8.246554e-14</td></tr>\n",
       "\t<tr><td>0.3836057   </td><td>0.852846693 </td><td>     NaN    </td><td> 2          </td><td>     NaN    </td><td>         NaN</td></tr>\n",
       "</tbody>\n",
       "</table>\n"
      ],
      "text/latex": [
       "\\textbf{\\$`Canonical Correlations`} = \\begin{tabular}{llllll}\n",
       " Canonical R & Wilk's Lambda & F & df1 & df2 & p value\\\\\n",
       "\\hline\n",
       "\t 0.9944827    & 0.002148472  & 87.39152     & 12           & 114.0588     & 1.218273e-51\\\\\n",
       "\t 0.8781065    & 0.195241267  & 18.52627     &  6           &  88.0000     & 8.246554e-14\\\\\n",
       "\t 0.3836057    & 0.852846693  &      NaN     &  2           &      NaN     &          NaN\\\\\n",
       "\\end{tabular}\n"
      ],
      "text/markdown": [
       "**$`Canonical Correlations`** = \n",
       "Canonical R | Wilk's Lambda | F | df1 | df2 | p value | \n",
       "|---|---|---|\n",
       "| 0.9944827    | 0.002148472  | 87.39152     | 12           | 114.0588     | 1.218273e-51 | \n",
       "| 0.8781065    | 0.195241267  | 18.52627     |  6           |  88.0000     | 8.246554e-14 | \n",
       "| 0.3836057    | 0.852846693  |      NaN     |  2           |      NaN     |          NaN | \n",
       "\n",
       "\n"
      ],
      "text/plain": [
       "$`Canonical Correlations`\n",
       "     Canonical R Wilk's Lambda        F df1      df2      p value\n",
       "[1,]   0.9944827   0.002148472 87.39152  12 114.0588 1.218273e-51\n",
       "[2,]   0.8781065   0.195241267 18.52627   6  88.0000 8.246554e-14\n",
       "[3,]   0.3836057   0.852846693      NaN   2      NaN          NaN\n"
      ]
     },
     "metadata": {},
     "output_type": "display_data"
    }
   ],
   "source": [
    "CCA[1]"
   ]
  },
  {
   "cell_type": "markdown",
   "metadata": {},
   "source": [
    "먼저 Wilk's lambda test를 통해 두 변수가 연관성이 있는지 확인<br>\n",
    "$H_{0}:\\rho_{0}=\\rho_{1}=\\rho_{3}=0 $<br>\n",
    "모든 p개의 canonical variate pair가 모두 uncorrelated 한지<br>\n",
    "$H_{0}$ 기각=> 최소 하나의 correlated한 canonical variate pair가 있음<br>\n",
    "<br>\n",
    "$H_{0}:\\rho_{2}=\\rho_{3}=0$<br>\n",
    "$H_{0}$ 기각=> 두 번째나 세 번째 canonical variate pair 중 하나는 correlated한 것이 있음<br>\n",
    "<br>\n",
    "$H_{0}:\\rho_{3}=0$<br>\n",
    "$H_{0}$ 기각=> 세 번째 canonical variate pair는 correlated함<br>\n",
    "=> 모든 세 개의 canonical variate pairs는 유의하게 correlated하고 서로 독립적이지 않음<br>\n",
    "=> Wilk 테스트는 위와 같이 순차적으로 유의하지 않은 결과가 나올 때까지 진행<br>"
   ]
  },
  {
   "cell_type": "markdown",
   "metadata": {},
   "source": [
    "<b>2) Obtain Estimates of Canonical Correlation</b>"
   ]
  },
  {
   "cell_type": "markdown",
   "metadata": {},
   "source": [
    "Canonical Correlation<br> \n",
    "$Cov(U_{1},V_{1})=\\sqrt{\\lambda_{1}}=\\rho_{1}=0.994483$<br>\n",
    "$Cov(U_{2},V_{2})=\\sqrt{\\lambda_{2}}=\\rho_{2}=0.878107$<br>\n",
    "$Cov(U_{3},V_{3})=\\sqrt{\\lambda_{3}}=\\rho_{3}=0.383606$<br>\n",
    "=>각각을 제곱한 결과를 $R^2$처럼 해석 가능<br>\n",
    "=>$U_{1}$의 변동성의 98.9퍼센트가  $V_{1}$에 의해 설명 됨"
   ]
  },
  {
   "cell_type": "code",
   "execution_count": 123,
   "metadata": {},
   "outputs": [
    {
     "data": {
      "text/html": [
       "<strong>$`X (SAS) Raw Weights`</strong> = <table>\n",
       "<tbody>\n",
       "\t<tr><th scope=row>V1</th><td>0.06237788</td><td>-0.1740703</td><td>-0.3771529</td></tr>\n",
       "\t<tr><th scope=row>V2</th><td>0.02092564</td><td> 0.2421641</td><td> 0.1035150</td></tr>\n",
       "\t<tr><th scope=row>V3</th><td>0.07825817</td><td>-0.2382940</td><td> 0.3834151</td></tr>\n",
       "</tbody>\n",
       "</table>\n"
      ],
      "text/latex": [
       "\\textbf{\\$`X (SAS) Raw Weights`} = \\begin{tabular}{r|lll}\n",
       "\tV1 & 0.06237788 & -0.1740703 & -0.3771529\\\\\n",
       "\tV2 & 0.02092564 &  0.2421641 &  0.1035150\\\\\n",
       "\tV3 & 0.07825817 & -0.2382940 &  0.3834151\\\\\n",
       "\\end{tabular}\n"
      ],
      "text/markdown": [
       "**$`X (SAS) Raw Weights`** = \n",
       "| V1 | 0.06237788 | -0.1740703 | -0.3771529 | \n",
       "| V2 | 0.02092564 |  0.2421641 |  0.1035150 | \n",
       "| V3 | 0.07825817 | -0.2382940 |  0.3834151 | \n",
       "\n",
       "\n"
      ],
      "text/plain": [
       "$`X (SAS) Raw Weights`\n",
       "         [,1]       [,2]       [,3]\n",
       "V1 0.06237788 -0.1740703 -0.3771529\n",
       "V2 0.02092564  0.2421641  0.1035150\n",
       "V3 0.07825817 -0.2382940  0.3834151\n"
      ]
     },
     "metadata": {},
     "output_type": "display_data"
    }
   ],
   "source": [
    "CCA[2]"
   ]
  },
  {
   "cell_type": "markdown",
   "metadata": {},
   "source": [
    "Estimated canonical coefficients<br>\n",
    "$U_{1}=\\hat{\\alpha}^{'}_{1}X =0.0624X_{growth}+0.0209X_{profit}+0.0783X_{new}$"
   ]
  },
  {
   "cell_type": "code",
   "execution_count": 124,
   "metadata": {},
   "outputs": [
    {
     "data": {
      "text/html": [
       "<strong>$`Y (SAS) Raw Weights`</strong> = <table>\n",
       "<tbody>\n",
       "\t<tr><th scope=row>V4</th><td>0.06974814 </td><td>-0.19239132</td><td> 0.24655659</td></tr>\n",
       "\t<tr><th scope=row>V5</th><td>0.03073830 </td><td> 0.20157438</td><td>-0.14189528</td></tr>\n",
       "\t<tr><th scope=row>V6</th><td>0.08956418 </td><td>-0.49576326</td><td>-0.28022405</td></tr>\n",
       "\t<tr><th scope=row>V7</th><td>0.06282997 </td><td> 0.06831607</td><td> 0.01133259</td></tr>\n",
       "</tbody>\n",
       "</table>\n"
      ],
      "text/latex": [
       "\\textbf{\\$`Y (SAS) Raw Weights`} = \\begin{tabular}{r|lll}\n",
       "\tV4 & 0.06974814  & -0.19239132 &  0.24655659\\\\\n",
       "\tV5 & 0.03073830  &  0.20157438 & -0.14189528\\\\\n",
       "\tV6 & 0.08956418  & -0.49576326 & -0.28022405\\\\\n",
       "\tV7 & 0.06282997  &  0.06831607 &  0.01133259\\\\\n",
       "\\end{tabular}\n"
      ],
      "text/markdown": [
       "**$`Y (SAS) Raw Weights`** = \n",
       "| V4 | 0.06974814  | -0.19239132 |  0.24655659 | \n",
       "| V5 | 0.03073830  |  0.20157438 | -0.14189528 | \n",
       "| V6 | 0.08956418  | -0.49576326 | -0.28022405 | \n",
       "| V7 | 0.06282997  |  0.06831607 |  0.01133259 | \n",
       "\n",
       "\n"
      ],
      "text/plain": [
       "$`Y (SAS) Raw Weights`\n",
       "         [,1]        [,2]        [,3]\n",
       "V4 0.06974814 -0.19239132  0.24655659\n",
       "V5 0.03073830  0.20157438 -0.14189528\n",
       "V6 0.08956418 -0.49576326 -0.28022405\n",
       "V7 0.06282997  0.06831607  0.01133259\n"
      ]
     },
     "metadata": {},
     "output_type": "display_data"
    }
   ],
   "source": [
    "CCA[3]"
   ]
  },
  {
   "cell_type": "markdown",
   "metadata": {},
   "source": [
    "Estimated canonical coefficients<br>\n",
    "$U_{1}=\\hat{\\beta}^{'}_{1}Y =0.0697Y_{create}+0.0307Y_{mech}+0.0896Y_{abstract}+0.0628Y_{math}$"
   ]
  },
  {
   "cell_type": "code",
   "execution_count": 125,
   "metadata": {},
   "outputs": [
    {
     "data": {
      "text/html": [
       "<strong>$`X Canonical Loadings`</strong> = <table>\n",
       "<tbody>\n",
       "\t<tr><th scope=row>V1</th><td>0.9798776    </td><td> 0.0006477883</td><td>-0.199598477 </td></tr>\n",
       "\t<tr><th scope=row>V2</th><td>0.9464085    </td><td> 0.3228847489</td><td> 0.007504408 </td></tr>\n",
       "\t<tr><th scope=row>V3</th><td>0.9518620    </td><td>-0.1863009724</td><td> 0.243414776 </td></tr>\n",
       "</tbody>\n",
       "</table>\n"
      ],
      "text/latex": [
       "\\textbf{\\$`X Canonical Loadings`} = \\begin{tabular}{r|lll}\n",
       "\tV1 & 0.9798776     &  0.0006477883 & -0.199598477 \\\\\n",
       "\tV2 & 0.9464085     &  0.3228847489 &  0.007504408 \\\\\n",
       "\tV3 & 0.9518620     & -0.1863009724 &  0.243414776 \\\\\n",
       "\\end{tabular}\n"
      ],
      "text/markdown": [
       "**$`X Canonical Loadings`** = \n",
       "| V1 | 0.9798776     |  0.0006477883 | -0.199598477  | \n",
       "| V2 | 0.9464085     |  0.3228847489 |  0.007504408  | \n",
       "| V3 | 0.9518620     | -0.1863009724 |  0.243414776  | \n",
       "\n",
       "\n"
      ],
      "text/plain": [
       "$`X Canonical Loadings`\n",
       "        [,1]          [,2]         [,3]\n",
       "V1 0.9798776  0.0006477883 -0.199598477\n",
       "V2 0.9464085  0.3228847489  0.007504408\n",
       "V3 0.9518620 -0.1863009724  0.243414776\n"
      ]
     },
     "metadata": {},
     "output_type": "display_data"
    }
   ],
   "source": [
    "CCA[6]"
   ]
  },
  {
   "cell_type": "markdown",
   "metadata": {},
   "source": [
    "$corr(X,U)$<br>\n",
    "각 변수와 대응 되는 Canonical variable 사이의 correlation<br>\n",
    "sales1과 각 변수의 correlation은 모두 1에 가까움 => 첫 번째 canonical variable은 판매 능력을 측정하는 전체적인 척도<br>\n",
    "sales2과 각 변수의 correlation은 모두 매우 낮음 => 두 번째 canonical variable은 데이터에 대한 정보가 많이 없음<br>"
   ]
  },
  {
   "cell_type": "code",
   "execution_count": 127,
   "metadata": {},
   "outputs": [
    {
     "data": {
      "text/html": [
       "<strong>$`Y Canonical Loadings`</strong> = <table>\n",
       "<tbody>\n",
       "\t<tr><th scope=row>V4</th><td>0.6383313  </td><td>-0.2156981 </td><td> 0.65140953</td></tr>\n",
       "\t<tr><th scope=row>V5</th><td>0.7211626  </td><td> 0.2375644 </td><td>-0.06773775</td></tr>\n",
       "\t<tr><th scope=row>V6</th><td>0.6472493  </td><td>-0.5013329 </td><td>-0.57422365</td></tr>\n",
       "\t<tr><th scope=row>V7</th><td>0.9440859  </td><td> 0.1975329 </td><td>-0.09422619</td></tr>\n",
       "</tbody>\n",
       "</table>\n"
      ],
      "text/latex": [
       "\\textbf{\\$`Y Canonical Loadings`} = \\begin{tabular}{r|lll}\n",
       "\tV4 & 0.6383313   & -0.2156981  &  0.65140953\\\\\n",
       "\tV5 & 0.7211626   &  0.2375644  & -0.06773775\\\\\n",
       "\tV6 & 0.6472493   & -0.5013329  & -0.57422365\\\\\n",
       "\tV7 & 0.9440859   &  0.1975329  & -0.09422619\\\\\n",
       "\\end{tabular}\n"
      ],
      "text/markdown": [
       "**$`Y Canonical Loadings`** = \n",
       "| V4 | 0.6383313   | -0.2156981  |  0.65140953 | \n",
       "| V5 | 0.7211626   |  0.2375644  | -0.06773775 | \n",
       "| V6 | 0.6472493   | -0.5013329  | -0.57422365 | \n",
       "| V7 | 0.9440859   |  0.1975329  | -0.09422619 | \n",
       "\n",
       "\n"
      ],
      "text/plain": [
       "$`Y Canonical Loadings`\n",
       "        [,1]       [,2]        [,3]\n",
       "V4 0.6383313 -0.2156981  0.65140953\n",
       "V5 0.7211626  0.2375644 -0.06773775\n",
       "V6 0.6472493 -0.5013329 -0.57422365\n",
       "V7 0.9440859  0.1975329 -0.09422619\n"
      ]
     },
     "metadata": {},
     "output_type": "display_data"
    }
   ],
   "source": [
    "CCA[7]"
   ]
  },
  {
   "cell_type": "markdown",
   "metadata": {},
   "source": [
    "$corr(Y,V)$<br>\n",
    "각 변수와 대응 되는 Canonical variable 사이의 correlation<br>\n",
    "위와 마찬가지<br>\n",
    "=>첫 번째 canonical variable에서 math에 대해 압도적으로 큼<br>\n",
    "=>두 번째 canonical variable에서 abstract reasoning에 대해 상당히 negative"
   ]
  },
  {
   "cell_type": "code",
   "execution_count": 139,
   "metadata": {},
   "outputs": [
    {
     "data": {
      "text/html": [
       "<table>\n",
       "<tbody>\n",
       "\t<tr><th scope=row>V1</th><td>0.9744713    </td><td> 0.0005688272</td><td>-0.076567107 </td><td>3.407532e-16 </td></tr>\n",
       "\t<tr><th scope=row>V2</th><td>0.9411869    </td><td> 0.2835272081</td><td> 0.002878734 </td><td>2.826325e-16 </td></tr>\n",
       "\t<tr><th scope=row>V3</th><td>0.9466102    </td><td>-0.1635921013</td><td> 0.093375287 </td><td>3.163043e-16 </td></tr>\n",
       "</tbody>\n",
       "</table>\n"
      ],
      "text/latex": [
       "\\begin{tabular}{r|llll}\n",
       "\tV1 & 0.9744713     &  0.0005688272 & -0.076567107  & 3.407532e-16 \\\\\n",
       "\tV2 & 0.9411869     &  0.2835272081 &  0.002878734  & 2.826325e-16 \\\\\n",
       "\tV3 & 0.9466102     & -0.1635921013 &  0.093375287  & 3.163043e-16 \\\\\n",
       "\\end{tabular}\n"
      ],
      "text/markdown": [
       "\n",
       "| V1 | 0.9744713     |  0.0005688272 | -0.076567107  | 3.407532e-16  | \n",
       "| V2 | 0.9411869     |  0.2835272081 |  0.002878734  | 2.826325e-16  | \n",
       "| V3 | 0.9466102     | -0.1635921013 |  0.093375287  | 3.163043e-16  | \n",
       "\n",
       "\n"
      ],
      "text/plain": [
       "   [,1]      [,2]          [,3]         [,4]        \n",
       "V1 0.9744713  0.0005688272 -0.076567107 3.407532e-16\n",
       "V2 0.9411869  0.2835272081  0.002878734 2.826325e-16\n",
       "V3 0.9466102 -0.1635921013  0.093375287 3.163043e-16"
      ]
     },
     "metadata": {},
     "output_type": "display_data"
    }
   ],
   "source": [
    "X<-as.matrix(df[,c(1,2,3)] )\n",
    "Y<-as.matrix(df[,c(4,5,6,7)])\n",
    "S.xx <- var(X)\n",
    "S.xy <- cov(X, Y)\n",
    "S.yx <- cov(Y, X)\n",
    "S.yy <- var(Y)\n",
    "A <- eigen(solve(S.xx) %*% S.xy %*% solve(S.yy) %*% S.yx)$vectors\n",
    "B <- eigen(solve(S.yy) %*% S.yx %*% solve(S.xx) %*% S.xy)$vectors\n",
    "cor(X,Y%*%B)"
   ]
  },
  {
   "cell_type": "markdown",
   "metadata": {},
   "source": [
    "cor(X,V)<br>\n",
    "sales 변수와 테스트 점수의 canonical covariate의 correlation<br>\n",
    "0.9744, 0.9411, 0.9466 등으로 sales의 canonical covariate와 유사한 결과 => 첫 번째 Canonical Correlation이 매우 높았기 때문"
   ]
  },
  {
   "cell_type": "code",
   "execution_count": 140,
   "metadata": {},
   "outputs": [
    {
     "data": {
      "text/html": [
       "<table>\n",
       "<tbody>\n",
       "\t<tr><th scope=row>V4</th><td>0.6348095  </td><td> 0.1894059 </td><td> 0.24988439</td></tr>\n",
       "\t<tr><th scope=row>V5</th><td>0.7171837  </td><td>-0.2086069 </td><td>-0.02598458</td></tr>\n",
       "\t<tr><th scope=row>V6</th><td>0.6436782  </td><td> 0.4402237 </td><td>-0.22027544</td></tr>\n",
       "\t<tr><th scope=row>V7</th><td>0.9388771  </td><td>-0.1734549 </td><td>-0.03614570</td></tr>\n",
       "</tbody>\n",
       "</table>\n"
      ],
      "text/latex": [
       "\\begin{tabular}{r|lll}\n",
       "\tV4 & 0.6348095   &  0.1894059  &  0.24988439\\\\\n",
       "\tV5 & 0.7171837   & -0.2086069  & -0.02598458\\\\\n",
       "\tV6 & 0.6436782   &  0.4402237  & -0.22027544\\\\\n",
       "\tV7 & 0.9388771   & -0.1734549  & -0.03614570\\\\\n",
       "\\end{tabular}\n"
      ],
      "text/markdown": [
       "\n",
       "| V4 | 0.6348095   |  0.1894059  |  0.24988439 | \n",
       "| V5 | 0.7171837   | -0.2086069  | -0.02598458 | \n",
       "| V6 | 0.6436782   |  0.4402237  | -0.22027544 | \n",
       "| V7 | 0.9388771   | -0.1734549  | -0.03614570 | \n",
       "\n",
       "\n"
      ],
      "text/plain": [
       "   [,1]      [,2]       [,3]       \n",
       "V4 0.6348095  0.1894059  0.24988439\n",
       "V5 0.7171837 -0.2086069 -0.02598458\n",
       "V6 0.6436782  0.4402237 -0.22027544\n",
       "V7 0.9388771 -0.1734549 -0.03614570"
      ]
     },
     "metadata": {},
     "output_type": "display_data"
    }
   ],
   "source": [
    "cor(Y,X%*%A)"
   ]
  },
  {
   "cell_type": "markdown",
   "metadata": {},
   "source": [
    "앞선 결과와 비슷하게 Math가 앞도적으로 높음 => 역시 첫 번째 Canonical Correlation이 매우 높았기 때문"
   ]
  },
  {
   "cell_type": "code",
   "execution_count": 142,
   "metadata": {},
   "outputs": [
    {
     "data": {
      "image/png": "[encoded data removed]",
      "text/plain": [
       "plot without title"
      ]
     },
     "metadata": {},
     "output_type": "display_data"
    }
   ],
   "source": [
    "par(mfrow=c(2,2))\n",
    "plot(X%*%A[,1], Y%*%B[,1] )\n",
    "plot(X%*%A[,2], Y%*%B[,2] )\n",
    "plot(X%*%A[,3], Y%*%B[,3] )"
   ]
  },
  {
   "cell_type": "markdown",
   "metadata": {},
   "source": [
    "$(U_{1},V_{1})$,$(U_{2},V_{2})$,$(U_{3},V_{3})$의 plot으로 뒤로 갈 수록 correlation이 약해짐"
   ]
  }
 ],
 "metadata": {
  "kernelspec": {
   "display_name": "R",
   "language": "R",
   "name": "ir"
  },
  "language_info": {
   "codemirror_mode": "r",
   "file_extension": ".r",
   "mimetype": "text/x-r-source",
   "name": "R",
   "pygments_lexer": "r",
   "version": "3.5.1"
  }
 },
 "nbformat": 4,
 "nbformat_minor": 2
}
