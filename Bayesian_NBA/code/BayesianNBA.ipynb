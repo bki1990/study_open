{
 "cells": [
  {
   "cell_type": "code",
   "execution_count": 1,
   "metadata": {},
   "outputs": [],
   "source": [
    "setwd('C:/Users/bki19/desktop/Bayesian_NBA')"
   ]
  },
  {
   "cell_type": "markdown",
   "metadata": {},
   "source": [
    "# 베이지안 기법을 이용한 NBA 우승 팀 예측"
   ]
  },
  {
   "cell_type": "markdown",
   "metadata": {},
   "source": [
    "NBA 리그팀 중에 어떤 팀이 2019 플레이오프에서 우승할까? <br>\n",
    "- 시즌 동안 강했던 상대한테 플레이오프에서도 강하지 않을까?<br>\n",
    "- 베이지안과 Frequentist 방법을 비교<br>"
   ]
  },
  {
   "cell_type": "markdown",
   "metadata": {},
   "source": [
    "<b>목차</b>\n",
    "1. 모델링\n",
    "2. 데이터 소개\n",
    "3. 전처리\n",
    "4. MLE\n",
    "5. Independence Sampler\n",
    "6. Conjugacy\n",
    "7. Monte-carlo Simulation"
   ]
  },
  {
   "cell_type": "markdown",
   "metadata": {},
   "source": [
    "# 1. 모델링"
   ]
  },
  {
   "cell_type": "markdown",
   "metadata": {},
   "source": [
    "- 매년 선수 영입에 따라 팀의 실력 변화가 크기 때문에 리그 경기 결과만 이용<br>\n",
    "- NBA는 리그 동안 팀당 약 82경기를 치르게 됨\n",
    "- 팀 간에 비기는 경우는 없음\n",
    "- 팀 간의 상대 전적을 이용해서 모델링"
   ]
  },
  {
   "cell_type": "markdown",
   "metadata": {},
   "source": [
    "<b>Bernoulli 분포 가정과 사후 분포</b>"
   ]
  },
  {
   "cell_type": "markdown",
   "metadata": {},
   "source": [
    "팀 $i$가 팀 $j$를 이기는 경우는 이기고 지고 두 결과 밖에 없기 때문에 Bernoulli 분포를 따른다고 가정<br>\n",
    "사후 분포로는 Conjugacy를 이용하기 위해 Beta 분포 가정"
   ]
  },
  {
   "cell_type": "markdown",
   "metadata": {},
   "source": [
    "데이터의 분포: $X_{i,j} \\sim iid  Bernoulli(p_{i,j})$ ;   팀 i가 팀 j이기면 $X_{i,j}=1$  <br>\n",
    "사전 분포: $p_{i,j} \\sim Beta(\\alpha, \\beta)$<br>\n",
    "사후 분포: $p_{i,j}|X_{i,j} \\sim Beta(x_{i,j}+\\alpha,1-x_{i,j}+\\beta)$"
   ]
  },
  {
   "cell_type": "markdown",
   "metadata": {},
   "source": [
    "- $p_{i,j}$: 팀 i가 팀 j를 이길 확률<br>\n",
    "- $p_{j,i}=1-p_{i,j}$ : 비길 확률 없음<br>\n",
    "- $X_{ij}$는 팀 i가 팀 j를 이길 확률에 대한 확률 변수로 비기는 경우가 없이 이기고 지는 경우만 고려해 Beroulli 분포를 따른다고 가정<br>\n",
    "- 모수 $p_{ij}$는 conjugate prior인 Beta 분포를 가정,이를 통해 사후 분포도 Beta로 쉽게 구할 수 있음"
   ]
  },
  {
   "cell_type": "markdown",
   "metadata": {},
   "source": [
    "<b>Binomial 분포 가정과 사후 분포</b>"
   ]
  },
  {
   "cell_type": "markdown",
   "metadata": {},
   "source": [
    "- 팀마다 상대팀을 만나는 횟수는 다름\n",
    "- 팀$i$가 팀 $j$을 이길 확률은 이전 결과가 영향을 주지 않는다고 단순화 (Independency)\n",
    "- 따라서 팀 i가 팀 j를 이긴 횟수에 대한 분포 $Y_{ij}$는 iid 가정에 의해 Binomial 분포를 따르게 됨"
   ]
  },
  {
   "cell_type": "markdown",
   "metadata": {},
   "source": [
    "$Y_{i,j} \\sim iid Binomial(n_{i,j},p_{i,j})$<br>\n",
    "$p_{i,j} \\sim Beta (\\alpha,\\beta)$<br>\n",
    "$p_{i,j}|Y_{i,j} \\sim Beta (y_{i,j}+\\alpha,n_{i,j}-y_{i,j}+\\beta $<br>"
   ]
  },
  {
   "cell_type": "markdown",
   "metadata": {},
   "source": [
    "MLE<br>\n",
    "$\\hat{p}_{i,j}=\\frac{y_{i,j}}{n_{i,j}}$"
   ]
  },
  {
   "cell_type": "markdown",
   "metadata": {},
   "source": [
    "Bayesian Poseterior Mean<br>\n",
    "$E[p_{i,j}|Y_{i,j}]=\\frac{y_{i,j}+\\alpha}{n_{i,j}+\\alpha+\\beta} $"
   ]
  },
  {
   "cell_type": "markdown",
   "metadata": {},
   "source": [
    "- MLE:Binomial 분포를 가정했기 때문에 MLE는 해당 팀의 총 경기 수 중에 이긴 경기의 수의 비율로 쉽게 구할 수 있음<br>\n",
    "- Posterior Mean: 확률 변수이기 때문에 확률적 기댓값을 갖게 됨\n"
   ]
  },
  {
   "cell_type": "markdown",
   "metadata": {},
   "source": [
    "# 2. 데이터 소개"
   ]
  },
  {
   "cell_type": "code",
   "execution_count": 3,
   "metadata": {},
   "outputs": [
    {
     "data": {
      "text/html": [
       "<ol class=list-inline>\n",
       "\t<li>'Atlantic Division'</li>\n",
       "\t<li>'Central Division'</li>\n",
       "\t<li>'Northwest Division'</li>\n",
       "\t<li>'Pacific Division'</li>\n",
       "\t<li>'Southeast Division'</li>\n",
       "\t<li>'Southwest Division'</li>\n",
       "</ol>\n"
      ],
      "text/latex": [
       "\\begin{enumerate*}\n",
       "\\item 'Atlantic Division'\n",
       "\\item 'Central Division'\n",
       "\\item 'Northwest Division'\n",
       "\\item 'Pacific Division'\n",
       "\\item 'Southeast Division'\n",
       "\\item 'Southwest Division'\n",
       "\\end{enumerate*}\n"
      ],
      "text/markdown": [
       "1. 'Atlantic Division'\n",
       "2. 'Central Division'\n",
       "3. 'Northwest Division'\n",
       "4. 'Pacific Division'\n",
       "5. 'Southeast Division'\n",
       "6. 'Southwest Division'\n",
       "\n",
       "\n"
      ],
      "text/plain": [
       "[1] \"Atlantic Division\"  \"Central Division\"   \"Northwest Division\"\n",
       "[4] \"Pacific Division\"   \"Southeast Division\" \"Southwest Division\""
      ]
     },
     "metadata": {},
     "output_type": "display_data"
    },
    {
     "data": {
      "text/html": [
       "6"
      ],
      "text/latex": [
       "6"
      ],
      "text/markdown": [
       "6"
      ],
      "text/plain": [
       "[1] 6"
      ]
     },
     "metadata": {},
     "output_type": "display_data"
    }
   ],
   "source": [
    "#Division Folder\n",
    "Leagues<-list.files('./data')\n",
    "Leagues\n",
    "length(Leagues)"
   ]
  },
  {
   "cell_type": "markdown",
   "metadata": {},
   "source": [
    "데이터는 6개의 디비전으로 구성되어 있음"
   ]
  },
  {
   "cell_type": "code",
   "execution_count": 4,
   "metadata": {},
   "outputs": [
    {
     "data": {
      "text/html": [
       "<ol class=list-inline>\n",
       "\t<li>'Boston Celtics'</li>\n",
       "\t<li>'Philadelphia 76ers'</li>\n",
       "\t<li>'Toronto Raptors'</li>\n",
       "\t<li>'Detroit Pistons'</li>\n",
       "\t<li>'Indiana Pacers'</li>\n",
       "\t<li>'Milwaukee Bucks'</li>\n",
       "\t<li>'Denver Nuggets'</li>\n",
       "\t<li>'Oklahoma City'</li>\n",
       "\t<li>'Portland Trail Blazers'</li>\n",
       "\t<li>'Utah Jazz'</li>\n",
       "\t<li>'Golden State Warriors'</li>\n",
       "\t<li>'Los Angeles Clippers'</li>\n",
       "\t<li>'Orlando Magic'</li>\n",
       "\t<li>'Houston Rockets'</li>\n",
       "\t<li>'San Antonio Spurs'</li>\n",
       "</ol>\n"
      ],
      "text/latex": [
       "\\begin{enumerate*}\n",
       "\\item 'Boston Celtics'\n",
       "\\item 'Philadelphia 76ers'\n",
       "\\item 'Toronto Raptors'\n",
       "\\item 'Detroit Pistons'\n",
       "\\item 'Indiana Pacers'\n",
       "\\item 'Milwaukee Bucks'\n",
       "\\item 'Denver Nuggets'\n",
       "\\item 'Oklahoma City'\n",
       "\\item 'Portland Trail Blazers'\n",
       "\\item 'Utah Jazz'\n",
       "\\item 'Golden State Warriors'\n",
       "\\item 'Los Angeles Clippers'\n",
       "\\item 'Orlando Magic'\n",
       "\\item 'Houston Rockets'\n",
       "\\item 'San Antonio Spurs'\n",
       "\\end{enumerate*}\n"
      ],
      "text/markdown": [
       "1. 'Boston Celtics'\n",
       "2. 'Philadelphia 76ers'\n",
       "3. 'Toronto Raptors'\n",
       "4. 'Detroit Pistons'\n",
       "5. 'Indiana Pacers'\n",
       "6. 'Milwaukee Bucks'\n",
       "7. 'Denver Nuggets'\n",
       "8. 'Oklahoma City'\n",
       "9. 'Portland Trail Blazers'\n",
       "10. 'Utah Jazz'\n",
       "11. 'Golden State Warriors'\n",
       "12. 'Los Angeles Clippers'\n",
       "13. 'Orlando Magic'\n",
       "14. 'Houston Rockets'\n",
       "15. 'San Antonio Spurs'\n",
       "\n",
       "\n"
      ],
      "text/plain": [
       " [1] \"Boston Celtics\"         \"Philadelphia 76ers\"     \"Toronto Raptors\"       \n",
       " [4] \"Detroit Pistons\"        \"Indiana Pacers\"         \"Milwaukee Bucks\"       \n",
       " [7] \"Denver Nuggets\"         \"Oklahoma City\"          \"Portland Trail Blazers\"\n",
       "[10] \"Utah Jazz\"              \"Golden State Warriors\"  \"Los Angeles Clippers\"  \n",
       "[13] \"Orlando Magic\"          \"Houston Rockets\"        \"San Antonio Spurs\"     "
      ]
     },
     "metadata": {},
     "output_type": "display_data"
    }
   ],
   "source": [
    "#Team Name List\n",
    "TEAMS=c()\n",
    "for (i in 1:6){\n",
    "    a<-paste0('./data/',Leagues[i])\n",
    "    TEAMS=c(TEAMS, list.files(a)  )\n",
    "}\n",
    "TEAMS2<-gsub('.{4}$', '', TEAMS)\n",
    "TEAMS2"
   ]
  },
  {
   "cell_type": "markdown",
   "metadata": {},
   "source": [
    "폴더: 속한 리그<br>\n",
    "파일: 해당 리그에서 파이널에 진출한 팀 => 폴더마다 다른 숫자의 csv 파일이 들어 있음<br>\n",
    "<br>\n",
    "파일마다 해당 팀이 리그 내에서 어떤 팀에게 이기고 졌는지에 대한 기록이 있음=> 파이널에 진출 안한 팀에 대한 기록까지 있음<br>"
   ]
  },
  {
   "cell_type": "code",
   "execution_count": 5,
   "metadata": {},
   "outputs": [],
   "source": [
    "#Number of Playoff teams in data\n",
    "NUM_TEAMS=c()\n",
    "for (i in 1:6){\n",
    "    b<-paste0('./data/',Leagues[i])\n",
    "    NUM_TEAMS=c(NUM_TEAMS, length(list.files(b) )  )\n",
    "}"
   ]
  },
  {
   "cell_type": "code",
   "execution_count": 6,
   "metadata": {},
   "outputs": [
    {
     "data": {
      "text/html": [
       "<table>\n",
       "<thead><tr><th scope=col>League</th><th scope=col>Teams</th></tr></thead>\n",
       "<tbody>\n",
       "\t<tr><td>Atlantic Division </td><td>3                 </td></tr>\n",
       "\t<tr><td>Central Division  </td><td>3                 </td></tr>\n",
       "\t<tr><td>Northwest Division</td><td>4                 </td></tr>\n",
       "\t<tr><td>Pacific Division  </td><td>2                 </td></tr>\n",
       "\t<tr><td>Southeast Division</td><td>1                 </td></tr>\n",
       "\t<tr><td>Southwest Division</td><td>2                 </td></tr>\n",
       "</tbody>\n",
       "</table>\n"
      ],
      "text/latex": [
       "\\begin{tabular}{r|ll}\n",
       " League & Teams\\\\\n",
       "\\hline\n",
       "\t Atlantic Division  & 3                 \\\\\n",
       "\t Central Division   & 3                 \\\\\n",
       "\t Northwest Division & 4                 \\\\\n",
       "\t Pacific Division   & 2                 \\\\\n",
       "\t Southeast Division & 1                 \\\\\n",
       "\t Southwest Division & 2                 \\\\\n",
       "\\end{tabular}\n"
      ],
      "text/markdown": [
       "\n",
       "League | Teams | \n",
       "|---|---|---|---|---|---|\n",
       "| Atlantic Division  | 3                  | \n",
       "| Central Division   | 3                  | \n",
       "| Northwest Division | 4                  | \n",
       "| Pacific Division   | 2                  | \n",
       "| Southeast Division | 1                  | \n",
       "| Southwest Division | 2                  | \n",
       "\n",
       "\n"
      ],
      "text/plain": [
       "  League             Teams\n",
       "1 Atlantic Division  3    \n",
       "2 Central Division   3    \n",
       "3 Northwest Division 4    \n",
       "4 Pacific Division   2    \n",
       "5 Southeast Division 1    \n",
       "6 Southwest Division 2    "
      ]
     },
     "metadata": {},
     "output_type": "display_data"
    },
    {
     "data": {
      "text/html": [
       "15"
      ],
      "text/latex": [
       "15"
      ],
      "text/markdown": [
       "15"
      ],
      "text/plain": [
       "[1] 15"
      ]
     },
     "metadata": {},
     "output_type": "display_data"
    },
    {
     "data": {
      "text/html": [
       "<ol class=list-inline>\n",
       "\t<li>'Boston Celtics'</li>\n",
       "\t<li>'Philadelphia 76ers'</li>\n",
       "\t<li>'Toronto Raptors'</li>\n",
       "\t<li>'Detroit Pistons'</li>\n",
       "\t<li>'Indiana Pacers'</li>\n",
       "\t<li>'Milwaukee Bucks'</li>\n",
       "\t<li>'Denver Nuggets'</li>\n",
       "\t<li>'Oklahoma City'</li>\n",
       "\t<li>'Portland Trail Blazers'</li>\n",
       "\t<li>'Utah Jazz'</li>\n",
       "\t<li>'Golden State Warriors'</li>\n",
       "\t<li>'Los Angeles Clippers'</li>\n",
       "\t<li>'Orlando Magic'</li>\n",
       "\t<li>'Houston Rockets'</li>\n",
       "\t<li>'San Antonio Spurs'</li>\n",
       "</ol>\n"
      ],
      "text/latex": [
       "\\begin{enumerate*}\n",
       "\\item 'Boston Celtics'\n",
       "\\item 'Philadelphia 76ers'\n",
       "\\item 'Toronto Raptors'\n",
       "\\item 'Detroit Pistons'\n",
       "\\item 'Indiana Pacers'\n",
       "\\item 'Milwaukee Bucks'\n",
       "\\item 'Denver Nuggets'\n",
       "\\item 'Oklahoma City'\n",
       "\\item 'Portland Trail Blazers'\n",
       "\\item 'Utah Jazz'\n",
       "\\item 'Golden State Warriors'\n",
       "\\item 'Los Angeles Clippers'\n",
       "\\item 'Orlando Magic'\n",
       "\\item 'Houston Rockets'\n",
       "\\item 'San Antonio Spurs'\n",
       "\\end{enumerate*}\n"
      ],
      "text/markdown": [
       "1. 'Boston Celtics'\n",
       "2. 'Philadelphia 76ers'\n",
       "3. 'Toronto Raptors'\n",
       "4. 'Detroit Pistons'\n",
       "5. 'Indiana Pacers'\n",
       "6. 'Milwaukee Bucks'\n",
       "7. 'Denver Nuggets'\n",
       "8. 'Oklahoma City'\n",
       "9. 'Portland Trail Blazers'\n",
       "10. 'Utah Jazz'\n",
       "11. 'Golden State Warriors'\n",
       "12. 'Los Angeles Clippers'\n",
       "13. 'Orlando Magic'\n",
       "14. 'Houston Rockets'\n",
       "15. 'San Antonio Spurs'\n",
       "\n",
       "\n"
      ],
      "text/plain": [
       " [1] \"Boston Celtics\"         \"Philadelphia 76ers\"     \"Toronto Raptors\"       \n",
       " [4] \"Detroit Pistons\"        \"Indiana Pacers\"         \"Milwaukee Bucks\"       \n",
       " [7] \"Denver Nuggets\"         \"Oklahoma City\"          \"Portland Trail Blazers\"\n",
       "[10] \"Utah Jazz\"              \"Golden State Warriors\"  \"Los Angeles Clippers\"  \n",
       "[13] \"Orlando Magic\"          \"Houston Rockets\"        \"San Antonio Spurs\"     "
      ]
     },
     "metadata": {},
     "output_type": "display_data"
    }
   ],
   "source": [
    "data.frame(League=Leagues, Teams= NUM_TEAMS)\n",
    "length(TEAMS2)\n",
    "TEAMS2"
   ]
  },
  {
   "cell_type": "markdown",
   "metadata": {},
   "source": [
    "- 총 15개의 팀의 경기 기록 (Brooklyn Nets 누락)<br>\n",
    "- 플레이오프 진출하지 않은 팀과의 경기 기록도 있음 => 플레이오프 팀 간 상대 전적만 고려하기 때문에 제거<br>\n",
    "- Oklahoma City가 다른 팀과 경기한 기록은 있지만 다른 팀이 Oklahoma City와 경기한 기록은 누락 됨<br>\n",
    "- Oklahoma City 경기 기록을 바탕으로 다른 팀과 Oklahoma City가 경기한 기록 복원<br>\n",
    "- Brooklyn Nets와 경기한 데이터를 바탕으로 Brooklyn Nets 데이터 복원"
   ]
  },
  {
   "cell_type": "code",
   "execution_count": 7,
   "metadata": {},
   "outputs": [],
   "source": [
    "#Add Brooklyn Nets\n",
    "TEAMS2<-c(TEAMS2,'Brooklyn Nets')"
   ]
  },
  {
   "cell_type": "markdown",
   "metadata": {},
   "source": [
    "# 3. 데이터 전처리"
   ]
  },
  {
   "cell_type": "code",
   "execution_count": 8,
   "metadata": {},
   "outputs": [],
   "source": [
    "#Load Multiple Data from Multiple Folders\n",
    "\n",
    "Read_Function<-function(H){\n",
    "    #Make path for loading multiple files\n",
    "    Leagues<-list.files('./data')\n",
    "    TEAMS=c()\n",
    "    PATH<-c()\n",
    "    for (i in 1:6){\n",
    "        a<-paste0('./data/',Leagues[i])\n",
    "        b<-list.files(a) #list of files in the folder\n",
    "        for (j in 1:length(b)){\n",
    "            c<-paste0 (paste0(a,'/'),b[j])\n",
    "            PATH<-c(PATH,c)\n",
    "        }\n",
    "\n",
    "    }\n",
    "    \n",
    "    #Make derived variable win Frequency, Total Frequency, Mean\n",
    "    df<-read.csv(PATH[H])\n",
    "    df$WIN<-ifelse(df[,'X']=='W',1,0)\n",
    "    df$COUNT<-ifelse(df[,'X']=='W',1,1)\n",
    "\n",
    "    df2<-df[,c('Opponent','COUNT')]\n",
    "    df2<-aggregate(COUNT~.,FUN=sum,data=df2)\n",
    "    \n",
    "    df<-df[,c('Opponent','WIN')]\n",
    "    df<-aggregate(WIN~.,FUN=sum,data=df)\n",
    "    \n",
    "    df$Freq<-df2$COUNT\n",
    "    df$MEAN<-df$WIN/df$Freq\n",
    "    \n",
    "    #remain variable of interest\n",
    "\n",
    "    df3<-data.frame(Opponent=c(),WIN=c(),Freq=c(),MEAN=c())\n",
    "    NOT<-c()\n",
    "    for (i in 1:16){\n",
    "        if ( TEAMS2[i]  %in%  unique(df[,'Opponent']) ){\n",
    "            df3=rbind(df3, df[df[,'Opponent']== TEAMS2[i],]  )\n",
    "\n",
    "        }\n",
    "        else{\n",
    "            NOT<-data.frame(Opponent=TEAMS2[i],WIN=NA,Freq=NA,MEAN=NA)\n",
    "            names(NOT)<-names(df)\n",
    "            df3<-rbind(df3,NOT)\n",
    "            }\n",
    "        }\n",
    "    return (df3)\n",
    "    \n",
    "}"
   ]
  },
  {
   "cell_type": "code",
   "execution_count": 9,
   "metadata": {},
   "outputs": [],
   "source": [
    "## fill missing data and drop useless data\n",
    "B<-Read_Function(8)# oklahoma\n",
    "df<-list()\n",
    "for (i in 1:15){\n",
    "    df[[i]]<-Read_Function(i)\n",
    "    df[[i]][8,c('WIN','Freq','MEAN')]<-c((B[i,]$Freq-B[i,]$WIN),B[i,]$Freq,((B[i,]$Freq-B[i,]$WIN)/B[i,]$Freq))\n",
    "    df[[i]]<-na.omit(df[[i]])\n",
    "}"
   ]
  },
  {
   "cell_type": "markdown",
   "metadata": {},
   "source": [
    "Oklahoma City와의 경기 기록 복원<br>\n",
    "Oklahoma City와 경기한 상대팀의 기록은 모두 결측 되어 있음<br>\n",
    "다행히도 Oklahoma City의 csv 파일 안에는 상대팀에 대한 기록들이 기록되어 있어 이것을 토대로 결측치 처리"
   ]
  },
  {
   "cell_type": "code",
   "execution_count": 10,
   "metadata": {},
   "outputs": [],
   "source": [
    "D<-data.frame(Opponent= NA,WIN= NA,Freq=NA,MEAN= NA)\n",
    "for (i in 1:15){\n",
    "    C<-data.frame(Opponent= TEAMS2[i],WIN= (df[[i]][15,'Freq']-df[[i]][15,'WIN']),Freq=df[[i]][15,'Freq'],MEAN= (df[[i]][15,'Freq']-df[[i]][15,'WIN'])/  df[[i]][15,'Freq'])\n",
    "    D<-rbind(D,C)\n",
    "}\n",
    "df[[16]]<-D[-1,]"
   ]
  },
  {
   "cell_type": "code",
   "execution_count": 11,
   "metadata": {},
   "outputs": [
    {
     "data": {
      "text/html": [
       "<table>\n",
       "<thead><tr><th></th><th scope=col>Opponent</th><th scope=col>WIN</th><th scope=col>Freq</th><th scope=col>MEAN</th></tr></thead>\n",
       "<tbody>\n",
       "\t<tr><th scope=row>2</th><td>Boston Celtics        </td><td>2                     </td><td>4                     </td><td>0.5000000             </td></tr>\n",
       "\t<tr><th scope=row>3</th><td>Philadelphia 76ers    </td><td>2                     </td><td>4                     </td><td>0.5000000             </td></tr>\n",
       "\t<tr><th scope=row>4</th><td>Toronto Raptors       </td><td>1                     </td><td>4                     </td><td>0.2500000             </td></tr>\n",
       "\t<tr><th scope=row>5</th><td>Detroit Pistons       </td><td>2                     </td><td>3                     </td><td>0.6666667             </td></tr>\n",
       "\t<tr><th scope=row>6</th><td>Indiana Pacers        </td><td>1                     </td><td>3                     </td><td>0.3333333             </td></tr>\n",
       "\t<tr><th scope=row>7</th><td>Milwaukee Bucks       </td><td>1                     </td><td>4                     </td><td>0.2500000             </td></tr>\n",
       "\t<tr><th scope=row>8</th><td>Denver Nuggets        </td><td>2                     </td><td>2                     </td><td>1.0000000             </td></tr>\n",
       "\t<tr><th scope=row>9</th><td>Oklahoma City         </td><td>0                     </td><td>2                     </td><td>0.0000000             </td></tr>\n",
       "\t<tr><th scope=row>10</th><td>Portland Trail Blazers</td><td>0                     </td><td>2                     </td><td>0.0000000             </td></tr>\n",
       "\t<tr><th scope=row>11</th><td>Utah Jazz             </td><td>0                     </td><td>2                     </td><td>0.0000000             </td></tr>\n",
       "\t<tr><th scope=row>12</th><td>Golden State Warriors </td><td>0                     </td><td>2                     </td><td>0.0000000             </td></tr>\n",
       "\t<tr><th scope=row>13</th><td>Los Angeles Clippers  </td><td>0                     </td><td>2                     </td><td>0.0000000             </td></tr>\n",
       "\t<tr><th scope=row>14</th><td>Orlando Magic         </td><td>2                     </td><td>3                     </td><td>0.6666667             </td></tr>\n",
       "\t<tr><th scope=row>15</th><td>Houston Rockets       </td><td>1                     </td><td>2                     </td><td>0.5000000             </td></tr>\n",
       "\t<tr><th scope=row>16</th><td>San Antonio Spurs     </td><td>1                     </td><td>2                     </td><td>0.5000000             </td></tr>\n",
       "</tbody>\n",
       "</table>\n"
      ],
      "text/latex": [
       "\\begin{tabular}{r|llll}\n",
       "  & Opponent & WIN & Freq & MEAN\\\\\n",
       "\\hline\n",
       "\t2 & Boston Celtics         & 2                      & 4                      & 0.5000000             \\\\\n",
       "\t3 & Philadelphia 76ers     & 2                      & 4                      & 0.5000000             \\\\\n",
       "\t4 & Toronto Raptors        & 1                      & 4                      & 0.2500000             \\\\\n",
       "\t5 & Detroit Pistons        & 2                      & 3                      & 0.6666667             \\\\\n",
       "\t6 & Indiana Pacers         & 1                      & 3                      & 0.3333333             \\\\\n",
       "\t7 & Milwaukee Bucks        & 1                      & 4                      & 0.2500000             \\\\\n",
       "\t8 & Denver Nuggets         & 2                      & 2                      & 1.0000000             \\\\\n",
       "\t9 & Oklahoma City          & 0                      & 2                      & 0.0000000             \\\\\n",
       "\t10 & Portland Trail Blazers & 0                      & 2                      & 0.0000000             \\\\\n",
       "\t11 & Utah Jazz              & 0                      & 2                      & 0.0000000             \\\\\n",
       "\t12 & Golden State Warriors  & 0                      & 2                      & 0.0000000             \\\\\n",
       "\t13 & Los Angeles Clippers   & 0                      & 2                      & 0.0000000             \\\\\n",
       "\t14 & Orlando Magic          & 2                      & 3                      & 0.6666667             \\\\\n",
       "\t15 & Houston Rockets        & 1                      & 2                      & 0.5000000             \\\\\n",
       "\t16 & San Antonio Spurs      & 1                      & 2                      & 0.5000000             \\\\\n",
       "\\end{tabular}\n"
      ],
      "text/markdown": [
       "\n",
       "| <!--/--> | Opponent | WIN | Freq | MEAN | \n",
       "|---|---|---|---|---|---|---|---|---|---|---|---|---|---|---|\n",
       "| 2 | Boston Celtics         | 2                      | 4                      | 0.5000000              | \n",
       "| 3 | Philadelphia 76ers     | 2                      | 4                      | 0.5000000              | \n",
       "| 4 | Toronto Raptors        | 1                      | 4                      | 0.2500000              | \n",
       "| 5 | Detroit Pistons        | 2                      | 3                      | 0.6666667              | \n",
       "| 6 | Indiana Pacers         | 1                      | 3                      | 0.3333333              | \n",
       "| 7 | Milwaukee Bucks        | 1                      | 4                      | 0.2500000              | \n",
       "| 8 | Denver Nuggets         | 2                      | 2                      | 1.0000000              | \n",
       "| 9 | Oklahoma City          | 0                      | 2                      | 0.0000000              | \n",
       "| 10 | Portland Trail Blazers | 0                      | 2                      | 0.0000000              | \n",
       "| 11 | Utah Jazz              | 0                      | 2                      | 0.0000000              | \n",
       "| 12 | Golden State Warriors  | 0                      | 2                      | 0.0000000              | \n",
       "| 13 | Los Angeles Clippers   | 0                      | 2                      | 0.0000000              | \n",
       "| 14 | Orlando Magic          | 2                      | 3                      | 0.6666667              | \n",
       "| 15 | Houston Rockets        | 1                      | 2                      | 0.5000000              | \n",
       "| 16 | San Antonio Spurs      | 1                      | 2                      | 0.5000000              | \n",
       "\n",
       "\n"
      ],
      "text/plain": [
       "   Opponent               WIN Freq MEAN     \n",
       "2  Boston Celtics         2   4    0.5000000\n",
       "3  Philadelphia 76ers     2   4    0.5000000\n",
       "4  Toronto Raptors        1   4    0.2500000\n",
       "5  Detroit Pistons        2   3    0.6666667\n",
       "6  Indiana Pacers         1   3    0.3333333\n",
       "7  Milwaukee Bucks        1   4    0.2500000\n",
       "8  Denver Nuggets         2   2    1.0000000\n",
       "9  Oklahoma City          0   2    0.0000000\n",
       "10 Portland Trail Blazers 0   2    0.0000000\n",
       "11 Utah Jazz              0   2    0.0000000\n",
       "12 Golden State Warriors  0   2    0.0000000\n",
       "13 Los Angeles Clippers   0   2    0.0000000\n",
       "14 Orlando Magic          2   3    0.6666667\n",
       "15 Houston Rockets        1   2    0.5000000\n",
       "16 San Antonio Spurs      1   2    0.5000000"
      ]
     },
     "metadata": {},
     "output_type": "display_data"
    }
   ],
   "source": [
    "#Brooklyn Nets\n",
    "df[[16]]"
   ]
  },
  {
   "cell_type": "markdown",
   "metadata": {},
   "source": [
    "Brooklyn Nets 복구"
   ]
  },
  {
   "cell_type": "code",
   "execution_count": 12,
   "metadata": {},
   "outputs": [],
   "source": [
    "Count_matrix=matrix(0,16,16)\n",
    "colnames(Count_matrix)=TEAMS2\n",
    "rownames(Count_matrix)=TEAMS2\n",
    "\n",
    "Mean_matrix=matrix(0,16,16)\n",
    "colnames(Mean_matrix)=TEAMS2\n",
    "rownames(Mean_matrix)=TEAMS2\n",
    "\n",
    "Win_matrix=matrix(0,16,16)\n",
    "colnames(Win_matrix)=TEAMS2\n",
    "rownames(Win_matrix)=TEAMS2"
   ]
  },
  {
   "cell_type": "markdown",
   "metadata": {},
   "source": [
    "Count_matrix: 팀 간 경기 횟수을 기록한 행렬<br>\n",
    "Mean_matrix: 팀 간 승률을 기록한 행렬<br>\n",
    "Win_matrix: 팀 간 승리 횟수를 기록한 행렬"
   ]
  },
  {
   "cell_type": "code",
   "execution_count": 13,
   "metadata": {},
   "outputs": [],
   "source": [
    "for (i in 1:16){\n",
    "    c<-df[[i]][,'WIN']\n",
    "    c<-append(c,NA,(i-1))\n",
    "    Win_matrix[i,]<-c\n",
    "    \n",
    "    d<-df[[i]][,'MEAN']\n",
    "    d<-append(d,NA,(i-1))\n",
    "    Mean_matrix[i,]<-d\n",
    "    \n",
    "    e<-df[[i]][,'Freq']\n",
    "    e<-append(e,NA,(i-1))\n",
    "    Count_matrix[i,]<-e\n",
    "}"
   ]
  },
  {
   "cell_type": "code",
   "execution_count": 14,
   "metadata": {},
   "outputs": [
    {
     "data": {
      "text/html": [
       "<table>\n",
       "<thead><tr><th></th><th scope=col>Boston Celtics</th><th scope=col>Philadelphia 76ers</th><th scope=col>Toronto Raptors</th><th scope=col>Detroit Pistons</th><th scope=col>Indiana Pacers</th><th scope=col>Milwaukee Bucks</th><th scope=col>Denver Nuggets</th><th scope=col>Oklahoma City</th><th scope=col>Portland Trail Blazers</th><th scope=col>Utah Jazz</th><th scope=col>Golden State Warriors</th><th scope=col>Los Angeles Clippers</th><th scope=col>Orlando Magic</th><th scope=col>Houston Rockets</th><th scope=col>San Antonio Spurs</th><th scope=col>Brooklyn Nets</th></tr></thead>\n",
       "<tbody>\n",
       "\t<tr><th scope=row>Boston Celtics</th><td>       NA</td><td>0.7500000</td><td>0.5000000</td><td>0.7500000</td><td>0.7500000</td><td>0.3333333</td><td>0.00     </td><td>1.0000000</td><td>0.0000000</td><td>0.0000000</td><td>0.5000000</td><td>0.0000000</td><td>0.0000000</td><td>0.0000000</td><td>0.0000000</td><td>0.5000000</td></tr>\n",
       "\t<tr><th scope=row>Philadelphia 76ers</th><td>0.2500000</td><td>       NA</td><td>0.2500000</td><td>0.7500000</td><td>0.7500000</td><td>0.3333333</td><td>0.50     </td><td>0.5000000</td><td>0.0000000</td><td>1.0000000</td><td>0.5000000</td><td>1.0000000</td><td>0.5000000</td><td>0.5000000</td><td>0.5000000</td><td>0.5000000</td></tr>\n",
       "\t<tr><th scope=row>Toronto Raptors</th><td>0.5000000</td><td>0.7500000</td><td>       NA</td><td>0.0000000</td><td>0.6666667</td><td>0.2500000</td><td>0.00     </td><td>0.5000000</td><td>0.5000000</td><td>1.0000000</td><td>1.0000000</td><td>1.0000000</td><td>0.5000000</td><td>0.0000000</td><td>0.5000000</td><td>0.7500000</td></tr>\n",
       "\t<tr><th scope=row>Detroit Pistons</th><td>0.2500000</td><td>0.2500000</td><td>1.0000000</td><td>       NA</td><td>0.2500000</td><td>0.0000000</td><td>0.50     </td><td>0.0000000</td><td>0.5000000</td><td>0.0000000</td><td>0.5000000</td><td>0.5000000</td><td>0.7500000</td><td>0.5000000</td><td>0.0000000</td><td>0.3333333</td></tr>\n",
       "\t<tr><th scope=row>Indiana Pacers</th><td>0.2500000</td><td>0.2500000</td><td>0.3333333</td><td>0.7500000</td><td>       NA</td><td>0.2500000</td><td>0.50     </td><td>0.5000000</td><td>0.0000000</td><td>1.0000000</td><td>0.0000000</td><td>0.5000000</td><td>0.2500000</td><td>0.0000000</td><td>0.5000000</td><td>0.6666667</td></tr>\n",
       "\t<tr><th scope=row>Milwaukee Bucks</th><td>0.6666667</td><td>0.6666667</td><td>0.7500000</td><td>1.0000000</td><td>0.7500000</td><td>       NA</td><td>1.00     </td><td>0.0000000</td><td>0.5000000</td><td>0.5000000</td><td>0.5000000</td><td>0.5000000</td><td>0.6666667</td><td>1.0000000</td><td>0.5000000</td><td>0.7500000</td></tr>\n",
       "\t<tr><th scope=row>Denver Nuggets</th><td>1.0000000</td><td>0.5000000</td><td>1.0000000</td><td>0.5000000</td><td>0.5000000</td><td>0.0000000</td><td>  NA     </td><td>1.0000000</td><td>0.7500000</td><td>0.2500000</td><td>0.2500000</td><td>0.7500000</td><td>1.0000000</td><td>0.2500000</td><td>0.5000000</td><td>0.0000000</td></tr>\n",
       "\t<tr><th scope=row>Oklahoma City</th><td>0.0000000</td><td>0.5000000</td><td>0.5000000</td><td>1.0000000</td><td>0.5000000</td><td>1.0000000</td><td>0.00     </td><td>       NA</td><td>1.0000000</td><td>1.0000000</td><td>0.3333333</td><td>0.5000000</td><td>1.0000000</td><td>0.7500000</td><td>0.3333333</td><td>1.0000000</td></tr>\n",
       "\t<tr><th scope=row>Portland Trail Blazers</th><td>1.0000000</td><td>1.0000000</td><td>0.5000000</td><td>0.5000000</td><td>1.0000000</td><td>0.5000000</td><td>0.25     </td><td>0.0000000</td><td>       NA</td><td>0.5000000</td><td>0.5000000</td><td>0.7500000</td><td>1.0000000</td><td>0.6666667</td><td>0.5000000</td><td>1.0000000</td></tr>\n",
       "\t<tr><th scope=row>Utah Jazz</th><td>1.0000000</td><td>0.0000000</td><td>0.0000000</td><td>1.0000000</td><td>0.0000000</td><td>0.5000000</td><td>0.75     </td><td>0.0000000</td><td>0.5000000</td><td>       NA</td><td>0.3333333</td><td>0.6666667</td><td>0.5000000</td><td>0.5000000</td><td>0.6666667</td><td>1.0000000</td></tr>\n",
       "\t<tr><th scope=row>Golden State Warriors</th><td>0.5000000</td><td>0.5000000</td><td>0.0000000</td><td>0.5000000</td><td>1.0000000</td><td>0.5000000</td><td>0.75     </td><td>0.6666667</td><td>0.5000000</td><td>0.6666667</td><td>       NA</td><td>0.7500000</td><td>0.5000000</td><td>0.2500000</td><td>0.3333333</td><td>1.0000000</td></tr>\n",
       "\t<tr><th scope=row>Los Angeles Clippers</th><td>1.0000000</td><td>0.0000000</td><td>0.0000000</td><td>0.5000000</td><td>0.5000000</td><td>0.5000000</td><td>0.25     </td><td>0.5000000</td><td>0.2500000</td><td>0.3333333</td><td>0.2500000</td><td>       NA</td><td>1.0000000</td><td>0.6666667</td><td>0.5000000</td><td>1.0000000</td></tr>\n",
       "\t<tr><th scope=row>Orlando Magic</th><td>1.0000000</td><td>0.5000000</td><td>0.5000000</td><td>0.2500000</td><td>0.7500000</td><td>0.3333333</td><td>0.00     </td><td>0.0000000</td><td>0.0000000</td><td>0.5000000</td><td>0.5000000</td><td>0.0000000</td><td>       NA</td><td>0.5000000</td><td>0.5000000</td><td>0.3333333</td></tr>\n",
       "\t<tr><th scope=row>Houston Rockets</th><td>1.0000000</td><td>0.5000000</td><td>1.0000000</td><td>0.5000000</td><td>1.0000000</td><td>0.0000000</td><td>0.75     </td><td>0.2500000</td><td>0.3333333</td><td>0.5000000</td><td>0.7500000</td><td>0.3333333</td><td>0.5000000</td><td>       NA</td><td>0.7500000</td><td>0.5000000</td></tr>\n",
       "\t<tr><th scope=row>San Antonio Spurs</th><td>1.0000000</td><td>0.5000000</td><td>0.5000000</td><td>1.0000000</td><td>0.5000000</td><td>0.5000000</td><td>0.50     </td><td>0.6666667</td><td>0.5000000</td><td>0.3333333</td><td>0.6666667</td><td>0.5000000</td><td>0.5000000</td><td>0.2500000</td><td>       NA</td><td>0.5000000</td></tr>\n",
       "\t<tr><th scope=row>Brooklyn Nets</th><td>0.5000000</td><td>0.5000000</td><td>0.2500000</td><td>0.6666667</td><td>0.3333333</td><td>0.2500000</td><td>1.00     </td><td>0.0000000</td><td>0.0000000</td><td>0.0000000</td><td>0.0000000</td><td>0.0000000</td><td>0.6666667</td><td>0.5000000</td><td>0.5000000</td><td>       NA</td></tr>\n",
       "</tbody>\n",
       "</table>\n"
      ],
      "text/latex": [
       "\\begin{tabular}{r|llllllllllllllll}\n",
       "  & Boston Celtics & Philadelphia 76ers & Toronto Raptors & Detroit Pistons & Indiana Pacers & Milwaukee Bucks & Denver Nuggets & Oklahoma City & Portland Trail Blazers & Utah Jazz & Golden State Warriors & Los Angeles Clippers & Orlando Magic & Houston Rockets & San Antonio Spurs & Brooklyn Nets\\\\\n",
       "\\hline\n",
       "\tBoston Celtics &        NA & 0.7500000 & 0.5000000 & 0.7500000 & 0.7500000 & 0.3333333 & 0.00      & 1.0000000 & 0.0000000 & 0.0000000 & 0.5000000 & 0.0000000 & 0.0000000 & 0.0000000 & 0.0000000 & 0.5000000\\\\\n",
       "\tPhiladelphia 76ers & 0.2500000 &        NA & 0.2500000 & 0.7500000 & 0.7500000 & 0.3333333 & 0.50      & 0.5000000 & 0.0000000 & 1.0000000 & 0.5000000 & 1.0000000 & 0.5000000 & 0.5000000 & 0.5000000 & 0.5000000\\\\\n",
       "\tToronto Raptors & 0.5000000 & 0.7500000 &        NA & 0.0000000 & 0.6666667 & 0.2500000 & 0.00      & 0.5000000 & 0.5000000 & 1.0000000 & 1.0000000 & 1.0000000 & 0.5000000 & 0.0000000 & 0.5000000 & 0.7500000\\\\\n",
       "\tDetroit Pistons & 0.2500000 & 0.2500000 & 1.0000000 &        NA & 0.2500000 & 0.0000000 & 0.50      & 0.0000000 & 0.5000000 & 0.0000000 & 0.5000000 & 0.5000000 & 0.7500000 & 0.5000000 & 0.0000000 & 0.3333333\\\\\n",
       "\tIndiana Pacers & 0.2500000 & 0.2500000 & 0.3333333 & 0.7500000 &        NA & 0.2500000 & 0.50      & 0.5000000 & 0.0000000 & 1.0000000 & 0.0000000 & 0.5000000 & 0.2500000 & 0.0000000 & 0.5000000 & 0.6666667\\\\\n",
       "\tMilwaukee Bucks & 0.6666667 & 0.6666667 & 0.7500000 & 1.0000000 & 0.7500000 &        NA & 1.00      & 0.0000000 & 0.5000000 & 0.5000000 & 0.5000000 & 0.5000000 & 0.6666667 & 1.0000000 & 0.5000000 & 0.7500000\\\\\n",
       "\tDenver Nuggets & 1.0000000 & 0.5000000 & 1.0000000 & 0.5000000 & 0.5000000 & 0.0000000 &   NA      & 1.0000000 & 0.7500000 & 0.2500000 & 0.2500000 & 0.7500000 & 1.0000000 & 0.2500000 & 0.5000000 & 0.0000000\\\\\n",
       "\tOklahoma City & 0.0000000 & 0.5000000 & 0.5000000 & 1.0000000 & 0.5000000 & 1.0000000 & 0.00      &        NA & 1.0000000 & 1.0000000 & 0.3333333 & 0.5000000 & 1.0000000 & 0.7500000 & 0.3333333 & 1.0000000\\\\\n",
       "\tPortland Trail Blazers & 1.0000000 & 1.0000000 & 0.5000000 & 0.5000000 & 1.0000000 & 0.5000000 & 0.25      & 0.0000000 &        NA & 0.5000000 & 0.5000000 & 0.7500000 & 1.0000000 & 0.6666667 & 0.5000000 & 1.0000000\\\\\n",
       "\tUtah Jazz & 1.0000000 & 0.0000000 & 0.0000000 & 1.0000000 & 0.0000000 & 0.5000000 & 0.75      & 0.0000000 & 0.5000000 &        NA & 0.3333333 & 0.6666667 & 0.5000000 & 0.5000000 & 0.6666667 & 1.0000000\\\\\n",
       "\tGolden State Warriors & 0.5000000 & 0.5000000 & 0.0000000 & 0.5000000 & 1.0000000 & 0.5000000 & 0.75      & 0.6666667 & 0.5000000 & 0.6666667 &        NA & 0.7500000 & 0.5000000 & 0.2500000 & 0.3333333 & 1.0000000\\\\\n",
       "\tLos Angeles Clippers & 1.0000000 & 0.0000000 & 0.0000000 & 0.5000000 & 0.5000000 & 0.5000000 & 0.25      & 0.5000000 & 0.2500000 & 0.3333333 & 0.2500000 &        NA & 1.0000000 & 0.6666667 & 0.5000000 & 1.0000000\\\\\n",
       "\tOrlando Magic & 1.0000000 & 0.5000000 & 0.5000000 & 0.2500000 & 0.7500000 & 0.3333333 & 0.00      & 0.0000000 & 0.0000000 & 0.5000000 & 0.5000000 & 0.0000000 &        NA & 0.5000000 & 0.5000000 & 0.3333333\\\\\n",
       "\tHouston Rockets & 1.0000000 & 0.5000000 & 1.0000000 & 0.5000000 & 1.0000000 & 0.0000000 & 0.75      & 0.2500000 & 0.3333333 & 0.5000000 & 0.7500000 & 0.3333333 & 0.5000000 &        NA & 0.7500000 & 0.5000000\\\\\n",
       "\tSan Antonio Spurs & 1.0000000 & 0.5000000 & 0.5000000 & 1.0000000 & 0.5000000 & 0.5000000 & 0.50      & 0.6666667 & 0.5000000 & 0.3333333 & 0.6666667 & 0.5000000 & 0.5000000 & 0.2500000 &        NA & 0.5000000\\\\\n",
       "\tBrooklyn Nets & 0.5000000 & 0.5000000 & 0.2500000 & 0.6666667 & 0.3333333 & 0.2500000 & 1.00      & 0.0000000 & 0.0000000 & 0.0000000 & 0.0000000 & 0.0000000 & 0.6666667 & 0.5000000 & 0.5000000 &        NA\\\\\n",
       "\\end{tabular}\n"
      ],
      "text/markdown": [
       "\n",
       "| <!--/--> | Boston Celtics | Philadelphia 76ers | Toronto Raptors | Detroit Pistons | Indiana Pacers | Milwaukee Bucks | Denver Nuggets | Oklahoma City | Portland Trail Blazers | Utah Jazz | Golden State Warriors | Los Angeles Clippers | Orlando Magic | Houston Rockets | San Antonio Spurs | Brooklyn Nets | \n",
       "|---|---|---|---|---|---|---|---|---|---|---|---|---|---|---|---|\n",
       "| Boston Celtics |        NA | 0.7500000 | 0.5000000 | 0.7500000 | 0.7500000 | 0.3333333 | 0.00      | 1.0000000 | 0.0000000 | 0.0000000 | 0.5000000 | 0.0000000 | 0.0000000 | 0.0000000 | 0.0000000 | 0.5000000 | \n",
       "| Philadelphia 76ers | 0.2500000 |        NA | 0.2500000 | 0.7500000 | 0.7500000 | 0.3333333 | 0.50      | 0.5000000 | 0.0000000 | 1.0000000 | 0.5000000 | 1.0000000 | 0.5000000 | 0.5000000 | 0.5000000 | 0.5000000 | \n",
       "| Toronto Raptors | 0.5000000 | 0.7500000 |        NA | 0.0000000 | 0.6666667 | 0.2500000 | 0.00      | 0.5000000 | 0.5000000 | 1.0000000 | 1.0000000 | 1.0000000 | 0.5000000 | 0.0000000 | 0.5000000 | 0.7500000 | \n",
       "| Detroit Pistons | 0.2500000 | 0.2500000 | 1.0000000 |        NA | 0.2500000 | 0.0000000 | 0.50      | 0.0000000 | 0.5000000 | 0.0000000 | 0.5000000 | 0.5000000 | 0.7500000 | 0.5000000 | 0.0000000 | 0.3333333 | \n",
       "| Indiana Pacers | 0.2500000 | 0.2500000 | 0.3333333 | 0.7500000 |        NA | 0.2500000 | 0.50      | 0.5000000 | 0.0000000 | 1.0000000 | 0.0000000 | 0.5000000 | 0.2500000 | 0.0000000 | 0.5000000 | 0.6666667 | \n",
       "| Milwaukee Bucks | 0.6666667 | 0.6666667 | 0.7500000 | 1.0000000 | 0.7500000 |        NA | 1.00      | 0.0000000 | 0.5000000 | 0.5000000 | 0.5000000 | 0.5000000 | 0.6666667 | 1.0000000 | 0.5000000 | 0.7500000 | \n",
       "| Denver Nuggets | 1.0000000 | 0.5000000 | 1.0000000 | 0.5000000 | 0.5000000 | 0.0000000 |   NA      | 1.0000000 | 0.7500000 | 0.2500000 | 0.2500000 | 0.7500000 | 1.0000000 | 0.2500000 | 0.5000000 | 0.0000000 | \n",
       "| Oklahoma City | 0.0000000 | 0.5000000 | 0.5000000 | 1.0000000 | 0.5000000 | 1.0000000 | 0.00      |        NA | 1.0000000 | 1.0000000 | 0.3333333 | 0.5000000 | 1.0000000 | 0.7500000 | 0.3333333 | 1.0000000 | \n",
       "| Portland Trail Blazers | 1.0000000 | 1.0000000 | 0.5000000 | 0.5000000 | 1.0000000 | 0.5000000 | 0.25      | 0.0000000 |        NA | 0.5000000 | 0.5000000 | 0.7500000 | 1.0000000 | 0.6666667 | 0.5000000 | 1.0000000 | \n",
       "| Utah Jazz | 1.0000000 | 0.0000000 | 0.0000000 | 1.0000000 | 0.0000000 | 0.5000000 | 0.75      | 0.0000000 | 0.5000000 |        NA | 0.3333333 | 0.6666667 | 0.5000000 | 0.5000000 | 0.6666667 | 1.0000000 | \n",
       "| Golden State Warriors | 0.5000000 | 0.5000000 | 0.0000000 | 0.5000000 | 1.0000000 | 0.5000000 | 0.75      | 0.6666667 | 0.5000000 | 0.6666667 |        NA | 0.7500000 | 0.5000000 | 0.2500000 | 0.3333333 | 1.0000000 | \n",
       "| Los Angeles Clippers | 1.0000000 | 0.0000000 | 0.0000000 | 0.5000000 | 0.5000000 | 0.5000000 | 0.25      | 0.5000000 | 0.2500000 | 0.3333333 | 0.2500000 |        NA | 1.0000000 | 0.6666667 | 0.5000000 | 1.0000000 | \n",
       "| Orlando Magic | 1.0000000 | 0.5000000 | 0.5000000 | 0.2500000 | 0.7500000 | 0.3333333 | 0.00      | 0.0000000 | 0.0000000 | 0.5000000 | 0.5000000 | 0.0000000 |        NA | 0.5000000 | 0.5000000 | 0.3333333 | \n",
       "| Houston Rockets | 1.0000000 | 0.5000000 | 1.0000000 | 0.5000000 | 1.0000000 | 0.0000000 | 0.75      | 0.2500000 | 0.3333333 | 0.5000000 | 0.7500000 | 0.3333333 | 0.5000000 |        NA | 0.7500000 | 0.5000000 | \n",
       "| San Antonio Spurs | 1.0000000 | 0.5000000 | 0.5000000 | 1.0000000 | 0.5000000 | 0.5000000 | 0.50      | 0.6666667 | 0.5000000 | 0.3333333 | 0.6666667 | 0.5000000 | 0.5000000 | 0.2500000 |        NA | 0.5000000 | \n",
       "| Brooklyn Nets | 0.5000000 | 0.5000000 | 0.2500000 | 0.6666667 | 0.3333333 | 0.2500000 | 1.00      | 0.0000000 | 0.0000000 | 0.0000000 | 0.0000000 | 0.0000000 | 0.6666667 | 0.5000000 | 0.5000000 |        NA | \n",
       "\n",
       "\n"
      ],
      "text/plain": [
       "                       Boston Celtics Philadelphia 76ers Toronto Raptors\n",
       "Boston Celtics                NA      0.7500000          0.5000000      \n",
       "Philadelphia 76ers     0.2500000             NA          0.2500000      \n",
       "Toronto Raptors        0.5000000      0.7500000                 NA      \n",
       "Detroit Pistons        0.2500000      0.2500000          1.0000000      \n",
       "Indiana Pacers         0.2500000      0.2500000          0.3333333      \n",
       "Milwaukee Bucks        0.6666667      0.6666667          0.7500000      \n",
       "Denver Nuggets         1.0000000      0.5000000          1.0000000      \n",
       "Oklahoma City          0.0000000      0.5000000          0.5000000      \n",
       "Portland Trail Blazers 1.0000000      1.0000000          0.5000000      \n",
       "Utah Jazz              1.0000000      0.0000000          0.0000000      \n",
       "Golden State Warriors  0.5000000      0.5000000          0.0000000      \n",
       "Los Angeles Clippers   1.0000000      0.0000000          0.0000000      \n",
       "Orlando Magic          1.0000000      0.5000000          0.5000000      \n",
       "Houston Rockets        1.0000000      0.5000000          1.0000000      \n",
       "San Antonio Spurs      1.0000000      0.5000000          0.5000000      \n",
       "Brooklyn Nets          0.5000000      0.5000000          0.2500000      \n",
       "                       Detroit Pistons Indiana Pacers Milwaukee Bucks\n",
       "Boston Celtics         0.7500000       0.7500000      0.3333333      \n",
       "Philadelphia 76ers     0.7500000       0.7500000      0.3333333      \n",
       "Toronto Raptors        0.0000000       0.6666667      0.2500000      \n",
       "Detroit Pistons               NA       0.2500000      0.0000000      \n",
       "Indiana Pacers         0.7500000              NA      0.2500000      \n",
       "Milwaukee Bucks        1.0000000       0.7500000             NA      \n",
       "Denver Nuggets         0.5000000       0.5000000      0.0000000      \n",
       "Oklahoma City          1.0000000       0.5000000      1.0000000      \n",
       "Portland Trail Blazers 0.5000000       1.0000000      0.5000000      \n",
       "Utah Jazz              1.0000000       0.0000000      0.5000000      \n",
       "Golden State Warriors  0.5000000       1.0000000      0.5000000      \n",
       "Los Angeles Clippers   0.5000000       0.5000000      0.5000000      \n",
       "Orlando Magic          0.2500000       0.7500000      0.3333333      \n",
       "Houston Rockets        0.5000000       1.0000000      0.0000000      \n",
       "San Antonio Spurs      1.0000000       0.5000000      0.5000000      \n",
       "Brooklyn Nets          0.6666667       0.3333333      0.2500000      \n",
       "                       Denver Nuggets Oklahoma City Portland Trail Blazers\n",
       "Boston Celtics         0.00           1.0000000     0.0000000             \n",
       "Philadelphia 76ers     0.50           0.5000000     0.0000000             \n",
       "Toronto Raptors        0.00           0.5000000     0.5000000             \n",
       "Detroit Pistons        0.50           0.0000000     0.5000000             \n",
       "Indiana Pacers         0.50           0.5000000     0.0000000             \n",
       "Milwaukee Bucks        1.00           0.0000000     0.5000000             \n",
       "Denver Nuggets           NA           1.0000000     0.7500000             \n",
       "Oklahoma City          0.00                  NA     1.0000000             \n",
       "Portland Trail Blazers 0.25           0.0000000            NA             \n",
       "Utah Jazz              0.75           0.0000000     0.5000000             \n",
       "Golden State Warriors  0.75           0.6666667     0.5000000             \n",
       "Los Angeles Clippers   0.25           0.5000000     0.2500000             \n",
       "Orlando Magic          0.00           0.0000000     0.0000000             \n",
       "Houston Rockets        0.75           0.2500000     0.3333333             \n",
       "San Antonio Spurs      0.50           0.6666667     0.5000000             \n",
       "Brooklyn Nets          1.00           0.0000000     0.0000000             \n",
       "                       Utah Jazz Golden State Warriors Los Angeles Clippers\n",
       "Boston Celtics         0.0000000 0.5000000             0.0000000           \n",
       "Philadelphia 76ers     1.0000000 0.5000000             1.0000000           \n",
       "Toronto Raptors        1.0000000 1.0000000             1.0000000           \n",
       "Detroit Pistons        0.0000000 0.5000000             0.5000000           \n",
       "Indiana Pacers         1.0000000 0.0000000             0.5000000           \n",
       "Milwaukee Bucks        0.5000000 0.5000000             0.5000000           \n",
       "Denver Nuggets         0.2500000 0.2500000             0.7500000           \n",
       "Oklahoma City          1.0000000 0.3333333             0.5000000           \n",
       "Portland Trail Blazers 0.5000000 0.5000000             0.7500000           \n",
       "Utah Jazz                     NA 0.3333333             0.6666667           \n",
       "Golden State Warriors  0.6666667        NA             0.7500000           \n",
       "Los Angeles Clippers   0.3333333 0.2500000                    NA           \n",
       "Orlando Magic          0.5000000 0.5000000             0.0000000           \n",
       "Houston Rockets        0.5000000 0.7500000             0.3333333           \n",
       "San Antonio Spurs      0.3333333 0.6666667             0.5000000           \n",
       "Brooklyn Nets          0.0000000 0.0000000             0.0000000           \n",
       "                       Orlando Magic Houston Rockets San Antonio Spurs\n",
       "Boston Celtics         0.0000000     0.0000000       0.0000000        \n",
       "Philadelphia 76ers     0.5000000     0.5000000       0.5000000        \n",
       "Toronto Raptors        0.5000000     0.0000000       0.5000000        \n",
       "Detroit Pistons        0.7500000     0.5000000       0.0000000        \n",
       "Indiana Pacers         0.2500000     0.0000000       0.5000000        \n",
       "Milwaukee Bucks        0.6666667     1.0000000       0.5000000        \n",
       "Denver Nuggets         1.0000000     0.2500000       0.5000000        \n",
       "Oklahoma City          1.0000000     0.7500000       0.3333333        \n",
       "Portland Trail Blazers 1.0000000     0.6666667       0.5000000        \n",
       "Utah Jazz              0.5000000     0.5000000       0.6666667        \n",
       "Golden State Warriors  0.5000000     0.2500000       0.3333333        \n",
       "Los Angeles Clippers   1.0000000     0.6666667       0.5000000        \n",
       "Orlando Magic                 NA     0.5000000       0.5000000        \n",
       "Houston Rockets        0.5000000            NA       0.7500000        \n",
       "San Antonio Spurs      0.5000000     0.2500000              NA        \n",
       "Brooklyn Nets          0.6666667     0.5000000       0.5000000        \n",
       "                       Brooklyn Nets\n",
       "Boston Celtics         0.5000000    \n",
       "Philadelphia 76ers     0.5000000    \n",
       "Toronto Raptors        0.7500000    \n",
       "Detroit Pistons        0.3333333    \n",
       "Indiana Pacers         0.6666667    \n",
       "Milwaukee Bucks        0.7500000    \n",
       "Denver Nuggets         0.0000000    \n",
       "Oklahoma City          1.0000000    \n",
       "Portland Trail Blazers 1.0000000    \n",
       "Utah Jazz              1.0000000    \n",
       "Golden State Warriors  1.0000000    \n",
       "Los Angeles Clippers   1.0000000    \n",
       "Orlando Magic          0.3333333    \n",
       "Houston Rockets        0.5000000    \n",
       "San Antonio Spurs      0.5000000    \n",
       "Brooklyn Nets                 NA    "
      ]
     },
     "metadata": {},
     "output_type": "display_data"
    }
   ],
   "source": [
    "Mean_matrix"
   ]
  },
  {
   "cell_type": "markdown",
   "metadata": {},
   "source": [
    "# 4. MLE"
   ]
  },
  {
   "cell_type": "markdown",
   "metadata": {},
   "source": [
    "팀 간 이길 확률은 MLE로 봤을 때 단순히 상대 팀에 대한 시즌 내 승률임 "
   ]
  },
  {
   "cell_type": "code",
   "execution_count": 15,
   "metadata": {},
   "outputs": [
    {
     "data": {
      "image/png": "[encoded data removed]",
      "text/plain": [
       "Plot with title \"Brooklyn Nets\""
      ]
     },
     "metadata": {},
     "output_type": "display_data"
    }
   ],
   "source": [
    "##save barplot\n",
    "\n",
    "par(mfrow=c(4,4))\n",
    "for (i in 1:16){\n",
    "#    plot_name<-paste0('./analysis/plot',i)\n",
    "#    plot_name<-paste0(plot_name,'.jpg')    \n",
    "#    jpeg(plot_name)\n",
    "    barplot(Mean_matrix[i,-i],main=TEAMS2[i] ,las=2,col=i)\n",
    "\n",
    "#    dev.off() \n",
    "}"
   ]
  },
  {
   "cell_type": "markdown",
   "metadata": {},
   "source": [
    "시즌 내 플레이오프 진출 팀에 대한 승률<br>\n",
    "<br>\n",
    "- Boston, Detroit, Orlando Brooklyn 등은 여러 팀에게 시즌 동안 한번도 못 이김\n",
    "- Philadelphia, Portland, Golden State는 Toronto, Denver는 Milwaukee를 제외하고 한 번씩은 이겼음\n",
    "- San Antonio는 모든 상대에게 승리를 한 경험이 있음\n",
    "- Milwaukee는 Oklahoma City를 제외하고 모든 상대에게 승률이 50퍼센트 이상"
   ]
  },
  {
   "cell_type": "code",
   "execution_count": 16,
   "metadata": {},
   "outputs": [
    {
     "data": {
      "text/html": [
       "<table>\n",
       "<thead><tr><th></th><th scope=col>Team</th><th scope=col>Wins</th><th scope=col>Mean</th></tr></thead>\n",
       "<tbody>\n",
       "\t<tr><th scope=row>Total</th><td>Milwaukee Bucks       </td><td>28                    </td><td>1.86666666666667      </td></tr>\n",
       "\t<tr><th scope=row>Total</th><td>Oklahoma City         </td><td>26                    </td><td>1.73333333333333      </td></tr>\n",
       "\t<tr><th scope=row>Total</th><td>Portland Trail Blazers</td><td>25                    </td><td>1.66666666666667      </td></tr>\n",
       "\t<tr><th scope=row>Total</th><td>Denver Nuggets        </td><td>24                    </td><td>1.6                   </td></tr>\n",
       "\t<tr><th scope=row>Total</th><td>Houston Rockets       </td><td>24                    </td><td>1.6                   </td></tr>\n",
       "\t<tr><th scope=row>Total</th><td>Golden State Warriors </td><td>23                    </td><td>1.53333333333333      </td></tr>\n",
       "\t<tr><th scope=row>Total</th><td>Philadelphia 76ers    </td><td>22                    </td><td>1.46666666666667      </td></tr>\n",
       "\t<tr><th scope=row>Total</th><td>Toronto Raptors       </td><td>22                    </td><td>1.46666666666667      </td></tr>\n",
       "\t<tr><th scope=row>Total</th><td>San Antonio Spurs     </td><td>22                    </td><td>1.46666666666667      </td></tr>\n",
       "\t<tr><th scope=row>Total</th><td>Utah Jazz             </td><td>20                    </td><td>1.33333333333333      </td></tr>\n",
       "\t<tr><th scope=row>Total</th><td>Los Angeles Clippers  </td><td>19                    </td><td>1.26666666666667      </td></tr>\n",
       "\t<tr><th scope=row>Total</th><td>Boston Celtics        </td><td>17                    </td><td>1.13333333333333      </td></tr>\n",
       "\t<tr><th scope=row>Total</th><td>Orlando Magic         </td><td>17                    </td><td>1.13333333333333      </td></tr>\n",
       "\t<tr><th scope=row>Total</th><td>Indiana Pacers        </td><td>16                    </td><td>1.06666666666667      </td></tr>\n",
       "\t<tr><th scope=row>Total</th><td>Detroit Pistons       </td><td>15                    </td><td>1                     </td></tr>\n",
       "\t<tr><th scope=row>Total</th><td>Brooklyn Nets         </td><td>15                    </td><td>1                     </td></tr>\n",
       "</tbody>\n",
       "</table>\n"
      ],
      "text/latex": [
       "\\begin{tabular}{r|lll}\n",
       "  & Team & Wins & Mean\\\\\n",
       "\\hline\n",
       "\tTotal & Milwaukee Bucks        & 28                     & 1.86666666666667      \\\\\n",
       "\tTotal & Oklahoma City          & 26                     & 1.73333333333333      \\\\\n",
       "\tTotal & Portland Trail Blazers & 25                     & 1.66666666666667      \\\\\n",
       "\tTotal & Denver Nuggets         & 24                     & 1.6                   \\\\\n",
       "\tTotal & Houston Rockets        & 24                     & 1.6                   \\\\\n",
       "\tTotal & Golden State Warriors  & 23                     & 1.53333333333333      \\\\\n",
       "\tTotal & Philadelphia 76ers     & 22                     & 1.46666666666667      \\\\\n",
       "\tTotal & Toronto Raptors        & 22                     & 1.46666666666667      \\\\\n",
       "\tTotal & San Antonio Spurs      & 22                     & 1.46666666666667      \\\\\n",
       "\tTotal & Utah Jazz              & 20                     & 1.33333333333333      \\\\\n",
       "\tTotal & Los Angeles Clippers   & 19                     & 1.26666666666667      \\\\\n",
       "\tTotal & Boston Celtics         & 17                     & 1.13333333333333      \\\\\n",
       "\tTotal & Orlando Magic          & 17                     & 1.13333333333333      \\\\\n",
       "\tTotal & Indiana Pacers         & 16                     & 1.06666666666667      \\\\\n",
       "\tTotal & Detroit Pistons        & 15                     & 1                     \\\\\n",
       "\tTotal & Brooklyn Nets          & 15                     & 1                     \\\\\n",
       "\\end{tabular}\n"
      ],
      "text/markdown": [
       "\n",
       "| <!--/--> | Team | Wins | Mean | \n",
       "|---|---|---|---|---|---|---|---|---|---|---|---|---|---|---|---|\n",
       "| Total | Milwaukee Bucks        | 28                     | 1.86666666666667       | \n",
       "| Total | Oklahoma City          | 26                     | 1.73333333333333       | \n",
       "| Total | Portland Trail Blazers | 25                     | 1.66666666666667       | \n",
       "| Total | Denver Nuggets         | 24                     | 1.6                    | \n",
       "| Total | Houston Rockets        | 24                     | 1.6                    | \n",
       "| Total | Golden State Warriors  | 23                     | 1.53333333333333       | \n",
       "| Total | Philadelphia 76ers     | 22                     | 1.46666666666667       | \n",
       "| Total | Toronto Raptors        | 22                     | 1.46666666666667       | \n",
       "| Total | San Antonio Spurs      | 22                     | 1.46666666666667       | \n",
       "| Total | Utah Jazz              | 20                     | 1.33333333333333       | \n",
       "| Total | Los Angeles Clippers   | 19                     | 1.26666666666667       | \n",
       "| Total | Boston Celtics         | 17                     | 1.13333333333333       | \n",
       "| Total | Orlando Magic          | 17                     | 1.13333333333333       | \n",
       "| Total | Indiana Pacers         | 16                     | 1.06666666666667       | \n",
       "| Total | Detroit Pistons        | 15                     | 1                      | \n",
       "| Total | Brooklyn Nets          | 15                     | 1                      | \n",
       "\n",
       "\n"
      ],
      "text/plain": [
       "      Team                   Wins Mean            \n",
       "Total Milwaukee Bucks        28   1.86666666666667\n",
       "Total Oklahoma City          26   1.73333333333333\n",
       "Total Portland Trail Blazers 25   1.66666666666667\n",
       "Total Denver Nuggets         24   1.6             \n",
       "Total Houston Rockets        24   1.6             \n",
       "Total Golden State Warriors  23   1.53333333333333\n",
       "Total Philadelphia 76ers     22   1.46666666666667\n",
       "Total Toronto Raptors        22   1.46666666666667\n",
       "Total San Antonio Spurs      22   1.46666666666667\n",
       "Total Utah Jazz              20   1.33333333333333\n",
       "Total Los Angeles Clippers   19   1.26666666666667\n",
       "Total Boston Celtics         17   1.13333333333333\n",
       "Total Orlando Magic          17   1.13333333333333\n",
       "Total Indiana Pacers         16   1.06666666666667\n",
       "Total Detroit Pistons        15   1               \n",
       "Total Brooklyn Nets          15   1               "
      ]
     },
     "metadata": {},
     "output_type": "display_data"
    }
   ],
   "source": [
    "#Data Frame\n",
    "\n",
    "Total2<-c()\n",
    "for (i in 1:16){\n",
    "    Total<-c(TEAMS2[i],sum(df[[i]][,2]),mean(df[[i]][,2]))\n",
    "    Total2<-rbind(Total2,Total)    \n",
    "}\n",
    "Total3<-Total2[order(Total2[,2], decreasing=TRUE),]\n",
    "colnames(Total3)<-c('Team','Wins','Mean')\n",
    "Total3"
   ]
  },
  {
   "cell_type": "markdown",
   "metadata": {},
   "source": [
    "요약 테이블 <br>\n",
    "- Milwaukee와 Oklahoma, Denver, Houston 등이 이긴 횟수가 가장 많음\n",
    "- 하지만 특정 팀을 대상로만 강했을 수도 있고, 시즌 동안 강했던 상대를 플레이오프 동안 못 만날 수도 있음\n",
    "- 따라서 이긴 횟수만으로 예측하기는 어려움"
   ]
  },
  {
   "cell_type": "markdown",
   "metadata": {},
   "source": [
    "# 5. Independence Sampling"
   ]
  },
  {
   "cell_type": "markdown",
   "metadata": {},
   "source": [
    "MCMC는 언제 사용할까?<br>\n",
    "- Expected Posterior Mean이 intractable 한 경우\n",
    "- Numerical methods로 계산하기 어려울 때 <br>"
   ]
  },
  {
   "cell_type": "markdown",
   "metadata": {},
   "source": [
    "<b>Monte-Carlo Integration</b><br>\n",
    "- $f_{\\theta|x}$의 random sample $x_{1},...,x_{m}$이 independent 하면 목표 함수 $g(\\theta)$의 기댓 값을 추정할 수 있음<br>\n",
    "- 추정량이 $\\bar{g}=\\frac{1}{m}\\sum g(x_{i})$라고 할 때 데이터가 많아지면 $\\bar{g} -> E[g(\\theta)]$로 수렴\n",
    "- Monte-Carlo Integration은 시뮬레이션을 통해 이러한 수렴하는 성질을 이용<br>\n",
    "- 직접 계산이 어려울 때 시뮬레이션을 통해 계산이 가능<br>"
   ]
  },
  {
   "cell_type": "markdown",
   "metadata": {},
   "source": [
    "<b>Markov-Chain</b><br>\n",
    "- 타겟 분포(사후 분포)로부터 random observation을 생성하여 sampler 역할을 함\n",
    "- 타겟 분포가 복잡하여 할때 MCMC를 통해 타겟 분포에서 Sampling 할 수 있음"
   ]
  },
  {
   "cell_type": "markdown",
   "metadata": {},
   "source": [
    "<b>Metropolis-Hastings</b><br>\n",
    "- stationary distribution이 target distribution인 Markov chain을 생성함<br>\n",
    "- $X_{t}$가 주어졌을 때 다음 $X_{t+1}$를 어떻게 생성할까?\n",
    "- proposal distirbution $g(·|X_{t})$에서 생성된 후보군 $Y$가 accept 되면 $X_{t+1}$로 인정"
   ]
  },
  {
   "cell_type": "markdown",
   "metadata": {},
   "source": [
    "1. proposal distribution 선택 $g(·|X_{t})$ \n",
    "2. g에서 X0 생성.\n",
    "3. 반복 (chain이 stationary distribution에 수렴할 때까지):<br>\n",
    "(a) $g(·|X_{t})$로부터 Y를 생성<br>\n",
    "(b) Uniform(0,1)에서 U를 생성<br>\n",
    "(c) If $U ≤ \\frac{f(Y )g(X_{t}|Y )}{f(X_{t})g(Y |X_{t})}$<br>\n",
    "<br>\n",
    "accept $Y$ and set $X_{t+1} = Y$ ; otherwise set $X_{t+1} = X_{t}$<br>\n",
    "(d) Increment t.<br>\n",
    "<br>\n",
    "참고로 step (3c)에서 후보 Y는 확률 $α(X_{t}, Y) =min(1,\\frac{f(Y )g(X_{t}|Y )}{f(X_{t})g(Y |X_{t})})$로 accept\n"
   ]
  },
  {
   "cell_type": "markdown",
   "metadata": {},
   "source": [
    "<b>Independence Sampler</b><br>\n",
    "- proposal distribution은 이전 chain의 값에 영향 받지 않음 => $g(Y|X_{t})$<br>\n",
    "- $α(X_{t}, Y) =min(1,\\frac{f(Y )g(X_{t})}{f(X_{t})g(Y)})$\n"
   ]
  },
  {
   "cell_type": "markdown",
   "metadata": {},
   "source": [
    "특징<br>\n",
    "- 구현하기 쉬움\n",
    "- proposal이 target density와 가깝게 설정되면 잘 작동함 but 그렇지 않으면 잘 작동 안함 => “it is rare for the independence sampler to be useful as a stand-alone algorithm.”"
   ]
  },
  {
   "cell_type": "code",
   "execution_count": 17,
   "metadata": {},
   "outputs": [],
   "source": [
    "m <- 10000 #length of chain\n",
    "independence.sampler<-function(win,n,a,b){\n",
    "\n",
    "\n",
    "    xt <- numeric(m)\n",
    "\n",
    "    # generate the independence sampler chain\n",
    "    u <- runif(m)\n",
    "    y <- rbeta(m, a, b) #proposal distribution\n",
    "    for (i in 2:m) {\n",
    "        fy <- (y[i]^win)*(1-y[i])^(n-win)\n",
    "        fx <- (xt[i-1]^3)*(1-xt[i-1])\n",
    "\n",
    "        r <- (fy / fx) *(xt[i-1]^(a-1) * (1-xt[i-1])^(b-1)) /(y[i]^(a-1) * (1-y[i])^(b-1))\n",
    "\n",
    "        if (u[i] <= r) {xt[i] <- y[i]}\n",
    "        else {\n",
    "        xt[i] <- xt[i-1]}\n",
    "    }\n",
    "    return(xt)\n",
    "}"
   ]
  },
  {
   "cell_type": "code",
   "execution_count": 18,
   "metadata": {},
   "outputs": [],
   "source": [
    "sim_exp<-independence.sampler(Win_matrix[1,2],Count_matrix[1,2],1,1)"
   ]
  },
  {
   "cell_type": "code",
   "execution_count": 19,
   "metadata": {},
   "outputs": [
    {
     "data": {
      "image/png": "[encoded data removed]",
      "text/plain": [
       "plot without title"
      ]
     },
     "metadata": {},
     "output_type": "display_data"
    },
    {
     "name": "stdout",
     "output_type": "stream",
     "text": [
      "[1] 0.6653813\n"
     ]
    },
    {
     "data": {
      "image/png": "[encoded data removed]",
      "text/plain": [
       "Plot with title \"\""
      ]
     },
     "metadata": {},
     "output_type": "display_data"
    }
   ],
   "source": [
    "#convergence check\n",
    "plot(sim_exp, type=\"l\", ylab=\"p\")\n",
    "hist(sim_exp[((m/2) +1):m], main=\"\", xlab=\"p\", prob=TRUE)\n",
    "print(mean(sim_exp[((m/2) +1):m]))"
   ]
  },
  {
   "cell_type": "markdown",
   "metadata": {},
   "source": [
    "Independence Sampler를 이용해 사후 확률을 추정<br>\n",
    "Trace plot: Markov-chain의 수렴성을 파악"
   ]
  },
  {
   "cell_type": "code",
   "execution_count": 25,
   "metadata": {},
   "outputs": [],
   "source": [
    "Sim_matrix=matrix(0,16,16)\n",
    "colnames(Sim_matrix)=TEAMS2\n",
    "rownames(Sim_matrix)=TEAMS2"
   ]
  },
  {
   "cell_type": "code",
   "execution_count": 28,
   "metadata": {},
   "outputs": [],
   "source": [
    "set.seed(0)\n",
    "for (i in 1:16){\n",
    "    for (j in 1:16){\n",
    "                if ( is.na(Count_matrix[i,j])==TRUE){\n",
    "                    Sim_matrix[i,j]<-NA\n",
    "                }\n",
    "                else{\n",
    "                    BB<-independence.sampler(Win_matrix[i,j],Count_matrix[i,j],1,1)\n",
    "                    Sim_matrix[i,j]<-mean(BB[((m/2) +1):m])\n",
    "                   }\n",
    "    }\n",
    "}"
   ]
  },
  {
   "cell_type": "code",
   "execution_count": 29,
   "metadata": {},
   "outputs": [
    {
     "data": {
      "text/html": [
       "<table>\n",
       "<thead><tr><th></th><th scope=col>Boston Celtics</th><th scope=col>Philadelphia 76ers</th><th scope=col>Toronto Raptors</th><th scope=col>Detroit Pistons</th><th scope=col>Indiana Pacers</th><th scope=col>Milwaukee Bucks</th><th scope=col>Denver Nuggets</th><th scope=col>Oklahoma City</th><th scope=col>Portland Trail Blazers</th><th scope=col>Utah Jazz</th><th scope=col>Golden State Warriors</th><th scope=col>Los Angeles Clippers</th><th scope=col>Orlando Magic</th><th scope=col>Houston Rockets</th><th scope=col>San Antonio Spurs</th><th scope=col>Brooklyn Nets</th></tr></thead>\n",
       "<tbody>\n",
       "\t<tr><th scope=row>Boston Celtics</th><td>       NA</td><td>0.6653813</td><td>0.5635705</td><td>0.6653813</td><td>0.6653813</td><td>0.4670037</td><td>0.4542285</td><td>0.5839276</td><td>0.4542285</td><td>0.4542285</td><td>0.5068196</td><td>0.4542285</td><td>0.4244410</td><td>0.4542285</td><td>0.4542285</td><td>0.5635705</td></tr>\n",
       "\t<tr><th scope=row>Philadelphia 76ers</th><td>0.4396191</td><td>       NA</td><td>0.4396191</td><td>0.6653813</td><td>0.6653813</td><td>0.4670037</td><td>0.5068196</td><td>0.5068196</td><td>0.4542285</td><td>0.5839276</td><td>0.5068196</td><td>0.5839276</td><td>0.5635705</td><td>0.5068196</td><td>0.5068196</td><td>0.5635705</td></tr>\n",
       "\t<tr><th scope=row>Toronto Raptors</th><td>0.5635705</td><td>0.6653813</td><td>       NA</td><td>0.4244410</td><td>0.5863357</td><td>0.4396191</td><td>0.4542285</td><td>0.5068196</td><td>0.5068196</td><td>0.5839276</td><td>0.5839276</td><td>0.5839276</td><td>0.5635705</td><td>0.4542285</td><td>0.5068196</td><td>0.6653813</td></tr>\n",
       "\t<tr><th scope=row>Detroit Pistons</th><td>0.4396191</td><td>0.4396191</td><td>0.6503997</td><td>       NA</td><td>0.4396191</td><td>0.3910442</td><td>0.5068196</td><td>0.4542285</td><td>0.5068196</td><td>0.4542285</td><td>0.5068196</td><td>0.5068196</td><td>0.6653813</td><td>0.5068196</td><td>0.4542285</td><td>0.4670037</td></tr>\n",
       "\t<tr><th scope=row>Indiana Pacers</th><td>0.4396191</td><td>0.4396191</td><td>0.4670037</td><td>0.6653813</td><td>       NA</td><td>0.4396191</td><td>0.5068196</td><td>0.5068196</td><td>0.4542285</td><td>0.5839276</td><td>0.4542285</td><td>0.5068196</td><td>0.4396191</td><td>0.4542285</td><td>0.5068196</td><td>0.5863357</td></tr>\n",
       "\t<tr><th scope=row>Milwaukee Bucks</th><td>0.5863357</td><td>0.5863357</td><td>0.6653813</td><td>0.7007858</td><td>0.6653813</td><td>       NA</td><td>0.5839276</td><td>0.4542285</td><td>0.5068196</td><td>0.5068196</td><td>0.5068196</td><td>0.5068196</td><td>0.5863357</td><td>0.5839276</td><td>0.5068196</td><td>0.6653813</td></tr>\n",
       "\t<tr><th scope=row>Denver Nuggets</th><td>0.5839276</td><td>0.5068196</td><td>0.5839276</td><td>0.5068196</td><td>0.5068196</td><td>0.4542285</td><td>       NA</td><td>0.7007858</td><td>0.6653813</td><td>0.4396191</td><td>0.4396191</td><td>0.6653813</td><td>0.5839276</td><td>0.4396191</td><td>0.5635705</td><td>0.4542285</td></tr>\n",
       "\t<tr><th scope=row>Oklahoma City</th><td>0.4542285</td><td>0.5068196</td><td>0.5068196</td><td>0.5839276</td><td>0.5068196</td><td>0.5839276</td><td>0.3910442</td><td>       NA</td><td>0.7007858</td><td>0.7007858</td><td>0.4670037</td><td>0.5635705</td><td>0.5839276</td><td>0.6653813</td><td>0.4670037</td><td>0.5839276</td></tr>\n",
       "\t<tr><th scope=row>Portland Trail Blazers</th><td>0.5839276</td><td>0.5839276</td><td>0.5068196</td><td>0.5068196</td><td>0.5839276</td><td>0.5068196</td><td>0.4396191</td><td>0.3910442</td><td>       NA</td><td>0.5635705</td><td>0.5635705</td><td>0.6653813</td><td>0.5839276</td><td>0.5863357</td><td>0.5635705</td><td>0.5839276</td></tr>\n",
       "\t<tr><th scope=row>Utah Jazz</th><td>0.5839276</td><td>0.4542285</td><td>0.4542285</td><td>0.5839276</td><td>0.4542285</td><td>0.5068196</td><td>0.6653813</td><td>0.3910442</td><td>0.5635705</td><td>       NA</td><td>0.4670037</td><td>0.5863357</td><td>0.5068196</td><td>0.5635705</td><td>0.5863357</td><td>0.5839276</td></tr>\n",
       "\t<tr><th scope=row>Golden State Warriors</th><td>0.5068196</td><td>0.5068196</td><td>0.4542285</td><td>0.5068196</td><td>0.5839276</td><td>0.5068196</td><td>0.6653813</td><td>0.5863357</td><td>0.5635705</td><td>0.5863357</td><td>       NA</td><td>0.6653813</td><td>0.5068196</td><td>0.4396191</td><td>0.4670037</td><td>0.5839276</td></tr>\n",
       "\t<tr><th scope=row>Los Angeles Clippers</th><td>0.5839276</td><td>0.4542285</td><td>0.4542285</td><td>0.5068196</td><td>0.5068196</td><td>0.5068196</td><td>0.4396191</td><td>0.5635705</td><td>0.4396191</td><td>0.4670037</td><td>0.4396191</td><td>       NA</td><td>0.5839276</td><td>0.5863357</td><td>0.5635705</td><td>0.5839276</td></tr>\n",
       "\t<tr><th scope=row>Orlando Magic</th><td>0.6503997</td><td>0.5635705</td><td>0.5635705</td><td>0.4396191</td><td>0.6653813</td><td>0.4670037</td><td>0.4542285</td><td>0.4542285</td><td>0.4542285</td><td>0.5068196</td><td>0.5068196</td><td>0.4542285</td><td>       NA</td><td>0.5068196</td><td>0.5068196</td><td>0.4670037</td></tr>\n",
       "\t<tr><th scope=row>Houston Rockets</th><td>0.5839276</td><td>0.5068196</td><td>0.5839276</td><td>0.5068196</td><td>0.5839276</td><td>0.4542285</td><td>0.6653813</td><td>0.4396191</td><td>0.4670037</td><td>0.5635705</td><td>0.6653813</td><td>0.4670037</td><td>0.5068196</td><td>       NA</td><td>0.6653813</td><td>0.5068196</td></tr>\n",
       "\t<tr><th scope=row>San Antonio Spurs</th><td>0.5839276</td><td>0.5068196</td><td>0.5068196</td><td>0.5839276</td><td>0.5068196</td><td>0.5068196</td><td>0.5635705</td><td>0.5863357</td><td>0.5635705</td><td>0.4670037</td><td>0.5863357</td><td>0.5635705</td><td>0.5068196</td><td>0.4396191</td><td>       NA</td><td>0.5068196</td></tr>\n",
       "\t<tr><th scope=row>Brooklyn Nets</th><td>0.5635705</td><td>0.5635705</td><td>0.4396191</td><td>0.5863357</td><td>0.4670037</td><td>0.4396191</td><td>0.5839276</td><td>0.4542285</td><td>0.4542285</td><td>0.4542285</td><td>0.4542285</td><td>0.4542285</td><td>0.5863357</td><td>0.5068196</td><td>0.5068196</td><td>       NA</td></tr>\n",
       "</tbody>\n",
       "</table>\n"
      ],
      "text/latex": [
       "\\begin{tabular}{r|llllllllllllllll}\n",
       "  & Boston Celtics & Philadelphia 76ers & Toronto Raptors & Detroit Pistons & Indiana Pacers & Milwaukee Bucks & Denver Nuggets & Oklahoma City & Portland Trail Blazers & Utah Jazz & Golden State Warriors & Los Angeles Clippers & Orlando Magic & Houston Rockets & San Antonio Spurs & Brooklyn Nets\\\\\n",
       "\\hline\n",
       "\tBoston Celtics &        NA & 0.6653813 & 0.5635705 & 0.6653813 & 0.6653813 & 0.4670037 & 0.4542285 & 0.5839276 & 0.4542285 & 0.4542285 & 0.5068196 & 0.4542285 & 0.4244410 & 0.4542285 & 0.4542285 & 0.5635705\\\\\n",
       "\tPhiladelphia 76ers & 0.4396191 &        NA & 0.4396191 & 0.6653813 & 0.6653813 & 0.4670037 & 0.5068196 & 0.5068196 & 0.4542285 & 0.5839276 & 0.5068196 & 0.5839276 & 0.5635705 & 0.5068196 & 0.5068196 & 0.5635705\\\\\n",
       "\tToronto Raptors & 0.5635705 & 0.6653813 &        NA & 0.4244410 & 0.5863357 & 0.4396191 & 0.4542285 & 0.5068196 & 0.5068196 & 0.5839276 & 0.5839276 & 0.5839276 & 0.5635705 & 0.4542285 & 0.5068196 & 0.6653813\\\\\n",
       "\tDetroit Pistons & 0.4396191 & 0.4396191 & 0.6503997 &        NA & 0.4396191 & 0.3910442 & 0.5068196 & 0.4542285 & 0.5068196 & 0.4542285 & 0.5068196 & 0.5068196 & 0.6653813 & 0.5068196 & 0.4542285 & 0.4670037\\\\\n",
       "\tIndiana Pacers & 0.4396191 & 0.4396191 & 0.4670037 & 0.6653813 &        NA & 0.4396191 & 0.5068196 & 0.5068196 & 0.4542285 & 0.5839276 & 0.4542285 & 0.5068196 & 0.4396191 & 0.4542285 & 0.5068196 & 0.5863357\\\\\n",
       "\tMilwaukee Bucks & 0.5863357 & 0.5863357 & 0.6653813 & 0.7007858 & 0.6653813 &        NA & 0.5839276 & 0.4542285 & 0.5068196 & 0.5068196 & 0.5068196 & 0.5068196 & 0.5863357 & 0.5839276 & 0.5068196 & 0.6653813\\\\\n",
       "\tDenver Nuggets & 0.5839276 & 0.5068196 & 0.5839276 & 0.5068196 & 0.5068196 & 0.4542285 &        NA & 0.7007858 & 0.6653813 & 0.4396191 & 0.4396191 & 0.6653813 & 0.5839276 & 0.4396191 & 0.5635705 & 0.4542285\\\\\n",
       "\tOklahoma City & 0.4542285 & 0.5068196 & 0.5068196 & 0.5839276 & 0.5068196 & 0.5839276 & 0.3910442 &        NA & 0.7007858 & 0.7007858 & 0.4670037 & 0.5635705 & 0.5839276 & 0.6653813 & 0.4670037 & 0.5839276\\\\\n",
       "\tPortland Trail Blazers & 0.5839276 & 0.5839276 & 0.5068196 & 0.5068196 & 0.5839276 & 0.5068196 & 0.4396191 & 0.3910442 &        NA & 0.5635705 & 0.5635705 & 0.6653813 & 0.5839276 & 0.5863357 & 0.5635705 & 0.5839276\\\\\n",
       "\tUtah Jazz & 0.5839276 & 0.4542285 & 0.4542285 & 0.5839276 & 0.4542285 & 0.5068196 & 0.6653813 & 0.3910442 & 0.5635705 &        NA & 0.4670037 & 0.5863357 & 0.5068196 & 0.5635705 & 0.5863357 & 0.5839276\\\\\n",
       "\tGolden State Warriors & 0.5068196 & 0.5068196 & 0.4542285 & 0.5068196 & 0.5839276 & 0.5068196 & 0.6653813 & 0.5863357 & 0.5635705 & 0.5863357 &        NA & 0.6653813 & 0.5068196 & 0.4396191 & 0.4670037 & 0.5839276\\\\\n",
       "\tLos Angeles Clippers & 0.5839276 & 0.4542285 & 0.4542285 & 0.5068196 & 0.5068196 & 0.5068196 & 0.4396191 & 0.5635705 & 0.4396191 & 0.4670037 & 0.4396191 &        NA & 0.5839276 & 0.5863357 & 0.5635705 & 0.5839276\\\\\n",
       "\tOrlando Magic & 0.6503997 & 0.5635705 & 0.5635705 & 0.4396191 & 0.6653813 & 0.4670037 & 0.4542285 & 0.4542285 & 0.4542285 & 0.5068196 & 0.5068196 & 0.4542285 &        NA & 0.5068196 & 0.5068196 & 0.4670037\\\\\n",
       "\tHouston Rockets & 0.5839276 & 0.5068196 & 0.5839276 & 0.5068196 & 0.5839276 & 0.4542285 & 0.6653813 & 0.4396191 & 0.4670037 & 0.5635705 & 0.6653813 & 0.4670037 & 0.5068196 &        NA & 0.6653813 & 0.5068196\\\\\n",
       "\tSan Antonio Spurs & 0.5839276 & 0.5068196 & 0.5068196 & 0.5839276 & 0.5068196 & 0.5068196 & 0.5635705 & 0.5863357 & 0.5635705 & 0.4670037 & 0.5863357 & 0.5635705 & 0.5068196 & 0.4396191 &        NA & 0.5068196\\\\\n",
       "\tBrooklyn Nets & 0.5635705 & 0.5635705 & 0.4396191 & 0.5863357 & 0.4670037 & 0.4396191 & 0.5839276 & 0.4542285 & 0.4542285 & 0.4542285 & 0.4542285 & 0.4542285 & 0.5863357 & 0.5068196 & 0.5068196 &        NA\\\\\n",
       "\\end{tabular}\n"
      ],
      "text/markdown": [
       "\n",
       "| <!--/--> | Boston Celtics | Philadelphia 76ers | Toronto Raptors | Detroit Pistons | Indiana Pacers | Milwaukee Bucks | Denver Nuggets | Oklahoma City | Portland Trail Blazers | Utah Jazz | Golden State Warriors | Los Angeles Clippers | Orlando Magic | Houston Rockets | San Antonio Spurs | Brooklyn Nets | \n",
       "|---|---|---|---|---|---|---|---|---|---|---|---|---|---|---|---|\n",
       "| Boston Celtics |        NA | 0.6653813 | 0.5635705 | 0.6653813 | 0.6653813 | 0.4670037 | 0.4542285 | 0.5839276 | 0.4542285 | 0.4542285 | 0.5068196 | 0.4542285 | 0.4244410 | 0.4542285 | 0.4542285 | 0.5635705 | \n",
       "| Philadelphia 76ers | 0.4396191 |        NA | 0.4396191 | 0.6653813 | 0.6653813 | 0.4670037 | 0.5068196 | 0.5068196 | 0.4542285 | 0.5839276 | 0.5068196 | 0.5839276 | 0.5635705 | 0.5068196 | 0.5068196 | 0.5635705 | \n",
       "| Toronto Raptors | 0.5635705 | 0.6653813 |        NA | 0.4244410 | 0.5863357 | 0.4396191 | 0.4542285 | 0.5068196 | 0.5068196 | 0.5839276 | 0.5839276 | 0.5839276 | 0.5635705 | 0.4542285 | 0.5068196 | 0.6653813 | \n",
       "| Detroit Pistons | 0.4396191 | 0.4396191 | 0.6503997 |        NA | 0.4396191 | 0.3910442 | 0.5068196 | 0.4542285 | 0.5068196 | 0.4542285 | 0.5068196 | 0.5068196 | 0.6653813 | 0.5068196 | 0.4542285 | 0.4670037 | \n",
       "| Indiana Pacers | 0.4396191 | 0.4396191 | 0.4670037 | 0.6653813 |        NA | 0.4396191 | 0.5068196 | 0.5068196 | 0.4542285 | 0.5839276 | 0.4542285 | 0.5068196 | 0.4396191 | 0.4542285 | 0.5068196 | 0.5863357 | \n",
       "| Milwaukee Bucks | 0.5863357 | 0.5863357 | 0.6653813 | 0.7007858 | 0.6653813 |        NA | 0.5839276 | 0.4542285 | 0.5068196 | 0.5068196 | 0.5068196 | 0.5068196 | 0.5863357 | 0.5839276 | 0.5068196 | 0.6653813 | \n",
       "| Denver Nuggets | 0.5839276 | 0.5068196 | 0.5839276 | 0.5068196 | 0.5068196 | 0.4542285 |        NA | 0.7007858 | 0.6653813 | 0.4396191 | 0.4396191 | 0.6653813 | 0.5839276 | 0.4396191 | 0.5635705 | 0.4542285 | \n",
       "| Oklahoma City | 0.4542285 | 0.5068196 | 0.5068196 | 0.5839276 | 0.5068196 | 0.5839276 | 0.3910442 |        NA | 0.7007858 | 0.7007858 | 0.4670037 | 0.5635705 | 0.5839276 | 0.6653813 | 0.4670037 | 0.5839276 | \n",
       "| Portland Trail Blazers | 0.5839276 | 0.5839276 | 0.5068196 | 0.5068196 | 0.5839276 | 0.5068196 | 0.4396191 | 0.3910442 |        NA | 0.5635705 | 0.5635705 | 0.6653813 | 0.5839276 | 0.5863357 | 0.5635705 | 0.5839276 | \n",
       "| Utah Jazz | 0.5839276 | 0.4542285 | 0.4542285 | 0.5839276 | 0.4542285 | 0.5068196 | 0.6653813 | 0.3910442 | 0.5635705 |        NA | 0.4670037 | 0.5863357 | 0.5068196 | 0.5635705 | 0.5863357 | 0.5839276 | \n",
       "| Golden State Warriors | 0.5068196 | 0.5068196 | 0.4542285 | 0.5068196 | 0.5839276 | 0.5068196 | 0.6653813 | 0.5863357 | 0.5635705 | 0.5863357 |        NA | 0.6653813 | 0.5068196 | 0.4396191 | 0.4670037 | 0.5839276 | \n",
       "| Los Angeles Clippers | 0.5839276 | 0.4542285 | 0.4542285 | 0.5068196 | 0.5068196 | 0.5068196 | 0.4396191 | 0.5635705 | 0.4396191 | 0.4670037 | 0.4396191 |        NA | 0.5839276 | 0.5863357 | 0.5635705 | 0.5839276 | \n",
       "| Orlando Magic | 0.6503997 | 0.5635705 | 0.5635705 | 0.4396191 | 0.6653813 | 0.4670037 | 0.4542285 | 0.4542285 | 0.4542285 | 0.5068196 | 0.5068196 | 0.4542285 |        NA | 0.5068196 | 0.5068196 | 0.4670037 | \n",
       "| Houston Rockets | 0.5839276 | 0.5068196 | 0.5839276 | 0.5068196 | 0.5839276 | 0.4542285 | 0.6653813 | 0.4396191 | 0.4670037 | 0.5635705 | 0.6653813 | 0.4670037 | 0.5068196 |        NA | 0.6653813 | 0.5068196 | \n",
       "| San Antonio Spurs | 0.5839276 | 0.5068196 | 0.5068196 | 0.5839276 | 0.5068196 | 0.5068196 | 0.5635705 | 0.5863357 | 0.5635705 | 0.4670037 | 0.5863357 | 0.5635705 | 0.5068196 | 0.4396191 |        NA | 0.5068196 | \n",
       "| Brooklyn Nets | 0.5635705 | 0.5635705 | 0.4396191 | 0.5863357 | 0.4670037 | 0.4396191 | 0.5839276 | 0.4542285 | 0.4542285 | 0.4542285 | 0.4542285 | 0.4542285 | 0.5863357 | 0.5068196 | 0.5068196 |        NA | \n",
       "\n",
       "\n"
      ],
      "text/plain": [
       "                       Boston Celtics Philadelphia 76ers Toronto Raptors\n",
       "Boston Celtics                NA      0.6653813          0.5635705      \n",
       "Philadelphia 76ers     0.4396191             NA          0.4396191      \n",
       "Toronto Raptors        0.5635705      0.6653813                 NA      \n",
       "Detroit Pistons        0.4396191      0.4396191          0.6503997      \n",
       "Indiana Pacers         0.4396191      0.4396191          0.4670037      \n",
       "Milwaukee Bucks        0.5863357      0.5863357          0.6653813      \n",
       "Denver Nuggets         0.5839276      0.5068196          0.5839276      \n",
       "Oklahoma City          0.4542285      0.5068196          0.5068196      \n",
       "Portland Trail Blazers 0.5839276      0.5839276          0.5068196      \n",
       "Utah Jazz              0.5839276      0.4542285          0.4542285      \n",
       "Golden State Warriors  0.5068196      0.5068196          0.4542285      \n",
       "Los Angeles Clippers   0.5839276      0.4542285          0.4542285      \n",
       "Orlando Magic          0.6503997      0.5635705          0.5635705      \n",
       "Houston Rockets        0.5839276      0.5068196          0.5839276      \n",
       "San Antonio Spurs      0.5839276      0.5068196          0.5068196      \n",
       "Brooklyn Nets          0.5635705      0.5635705          0.4396191      \n",
       "                       Detroit Pistons Indiana Pacers Milwaukee Bucks\n",
       "Boston Celtics         0.6653813       0.6653813      0.4670037      \n",
       "Philadelphia 76ers     0.6653813       0.6653813      0.4670037      \n",
       "Toronto Raptors        0.4244410       0.5863357      0.4396191      \n",
       "Detroit Pistons               NA       0.4396191      0.3910442      \n",
       "Indiana Pacers         0.6653813              NA      0.4396191      \n",
       "Milwaukee Bucks        0.7007858       0.6653813             NA      \n",
       "Denver Nuggets         0.5068196       0.5068196      0.4542285      \n",
       "Oklahoma City          0.5839276       0.5068196      0.5839276      \n",
       "Portland Trail Blazers 0.5068196       0.5839276      0.5068196      \n",
       "Utah Jazz              0.5839276       0.4542285      0.5068196      \n",
       "Golden State Warriors  0.5068196       0.5839276      0.5068196      \n",
       "Los Angeles Clippers   0.5068196       0.5068196      0.5068196      \n",
       "Orlando Magic          0.4396191       0.6653813      0.4670037      \n",
       "Houston Rockets        0.5068196       0.5839276      0.4542285      \n",
       "San Antonio Spurs      0.5839276       0.5068196      0.5068196      \n",
       "Brooklyn Nets          0.5863357       0.4670037      0.4396191      \n",
       "                       Denver Nuggets Oklahoma City Portland Trail Blazers\n",
       "Boston Celtics         0.4542285      0.5839276     0.4542285             \n",
       "Philadelphia 76ers     0.5068196      0.5068196     0.4542285             \n",
       "Toronto Raptors        0.4542285      0.5068196     0.5068196             \n",
       "Detroit Pistons        0.5068196      0.4542285     0.5068196             \n",
       "Indiana Pacers         0.5068196      0.5068196     0.4542285             \n",
       "Milwaukee Bucks        0.5839276      0.4542285     0.5068196             \n",
       "Denver Nuggets                NA      0.7007858     0.6653813             \n",
       "Oklahoma City          0.3910442             NA     0.7007858             \n",
       "Portland Trail Blazers 0.4396191      0.3910442            NA             \n",
       "Utah Jazz              0.6653813      0.3910442     0.5635705             \n",
       "Golden State Warriors  0.6653813      0.5863357     0.5635705             \n",
       "Los Angeles Clippers   0.4396191      0.5635705     0.4396191             \n",
       "Orlando Magic          0.4542285      0.4542285     0.4542285             \n",
       "Houston Rockets        0.6653813      0.4396191     0.4670037             \n",
       "San Antonio Spurs      0.5635705      0.5863357     0.5635705             \n",
       "Brooklyn Nets          0.5839276      0.4542285     0.4542285             \n",
       "                       Utah Jazz Golden State Warriors Los Angeles Clippers\n",
       "Boston Celtics         0.4542285 0.5068196             0.4542285           \n",
       "Philadelphia 76ers     0.5839276 0.5068196             0.5839276           \n",
       "Toronto Raptors        0.5839276 0.5839276             0.5839276           \n",
       "Detroit Pistons        0.4542285 0.5068196             0.5068196           \n",
       "Indiana Pacers         0.5839276 0.4542285             0.5068196           \n",
       "Milwaukee Bucks        0.5068196 0.5068196             0.5068196           \n",
       "Denver Nuggets         0.4396191 0.4396191             0.6653813           \n",
       "Oklahoma City          0.7007858 0.4670037             0.5635705           \n",
       "Portland Trail Blazers 0.5635705 0.5635705             0.6653813           \n",
       "Utah Jazz                     NA 0.4670037             0.5863357           \n",
       "Golden State Warriors  0.5863357        NA             0.6653813           \n",
       "Los Angeles Clippers   0.4670037 0.4396191                    NA           \n",
       "Orlando Magic          0.5068196 0.5068196             0.4542285           \n",
       "Houston Rockets        0.5635705 0.6653813             0.4670037           \n",
       "San Antonio Spurs      0.4670037 0.5863357             0.5635705           \n",
       "Brooklyn Nets          0.4542285 0.4542285             0.4542285           \n",
       "                       Orlando Magic Houston Rockets San Antonio Spurs\n",
       "Boston Celtics         0.4244410     0.4542285       0.4542285        \n",
       "Philadelphia 76ers     0.5635705     0.5068196       0.5068196        \n",
       "Toronto Raptors        0.5635705     0.4542285       0.5068196        \n",
       "Detroit Pistons        0.6653813     0.5068196       0.4542285        \n",
       "Indiana Pacers         0.4396191     0.4542285       0.5068196        \n",
       "Milwaukee Bucks        0.5863357     0.5839276       0.5068196        \n",
       "Denver Nuggets         0.5839276     0.4396191       0.5635705        \n",
       "Oklahoma City          0.5839276     0.6653813       0.4670037        \n",
       "Portland Trail Blazers 0.5839276     0.5863357       0.5635705        \n",
       "Utah Jazz              0.5068196     0.5635705       0.5863357        \n",
       "Golden State Warriors  0.5068196     0.4396191       0.4670037        \n",
       "Los Angeles Clippers   0.5839276     0.5863357       0.5635705        \n",
       "Orlando Magic                 NA     0.5068196       0.5068196        \n",
       "Houston Rockets        0.5068196            NA       0.6653813        \n",
       "San Antonio Spurs      0.5068196     0.4396191              NA        \n",
       "Brooklyn Nets          0.5863357     0.5068196       0.5068196        \n",
       "                       Brooklyn Nets\n",
       "Boston Celtics         0.5635705    \n",
       "Philadelphia 76ers     0.5635705    \n",
       "Toronto Raptors        0.6653813    \n",
       "Detroit Pistons        0.4670037    \n",
       "Indiana Pacers         0.5863357    \n",
       "Milwaukee Bucks        0.6653813    \n",
       "Denver Nuggets         0.4542285    \n",
       "Oklahoma City          0.5839276    \n",
       "Portland Trail Blazers 0.5839276    \n",
       "Utah Jazz              0.5839276    \n",
       "Golden State Warriors  0.5839276    \n",
       "Los Angeles Clippers   0.5839276    \n",
       "Orlando Magic          0.4670037    \n",
       "Houston Rockets        0.5068196    \n",
       "San Antonio Spurs      0.5068196    \n",
       "Brooklyn Nets                 NA    "
      ]
     },
     "metadata": {},
     "output_type": "display_data"
    }
   ],
   "source": [
    "#posterior mean\n",
    "Sim_matrix"
   ]
  },
  {
   "cell_type": "code",
   "execution_count": 30,
   "metadata": {},
   "outputs": [],
   "source": [
    "Sim_matrix2<-Sim_matrix"
   ]
  },
  {
   "cell_type": "code",
   "execution_count": 31,
   "metadata": {},
   "outputs": [],
   "source": [
    "Sim_matrix2[lower.tri(Sim_matrix2)] = 1-t(Sim_matrix2)[lower.tri(Sim_matrix2)]"
   ]
  },
  {
   "cell_type": "code",
   "execution_count": 32,
   "metadata": {},
   "outputs": [
    {
     "data": {
      "text/html": [
       "<table>\n",
       "<thead><tr><th></th><th scope=col>Boston Celtics</th><th scope=col>Philadelphia 76ers</th><th scope=col>Toronto Raptors</th><th scope=col>Detroit Pistons</th><th scope=col>Indiana Pacers</th><th scope=col>Milwaukee Bucks</th><th scope=col>Denver Nuggets</th><th scope=col>Oklahoma City</th><th scope=col>Portland Trail Blazers</th><th scope=col>Utah Jazz</th><th scope=col>Golden State Warriors</th><th scope=col>Los Angeles Clippers</th><th scope=col>Orlando Magic</th><th scope=col>Houston Rockets</th><th scope=col>San Antonio Spurs</th><th scope=col>Brooklyn Nets</th></tr></thead>\n",
       "<tbody>\n",
       "\t<tr><th scope=row>Boston Celtics</th><td>       NA</td><td>0.6653813</td><td>0.5635705</td><td>0.6653813</td><td>0.6653813</td><td>0.4670037</td><td>0.4542285</td><td>0.5839276</td><td>0.4542285</td><td>0.4542285</td><td>0.5068196</td><td>0.4542285</td><td>0.4244410</td><td>0.4542285</td><td>0.4542285</td><td>0.5635705</td></tr>\n",
       "\t<tr><th scope=row>Philadelphia 76ers</th><td>0.3346187</td><td>       NA</td><td>0.4396191</td><td>0.6653813</td><td>0.6653813</td><td>0.4670037</td><td>0.5068196</td><td>0.5068196</td><td>0.4542285</td><td>0.5839276</td><td>0.5068196</td><td>0.5839276</td><td>0.5635705</td><td>0.5068196</td><td>0.5068196</td><td>0.5635705</td></tr>\n",
       "\t<tr><th scope=row>Toronto Raptors</th><td>0.4364295</td><td>0.5603809</td><td>       NA</td><td>0.4244410</td><td>0.5863357</td><td>0.4396191</td><td>0.4542285</td><td>0.5068196</td><td>0.5068196</td><td>0.5839276</td><td>0.5839276</td><td>0.5839276</td><td>0.5635705</td><td>0.4542285</td><td>0.5068196</td><td>0.6653813</td></tr>\n",
       "\t<tr><th scope=row>Detroit Pistons</th><td>0.3346187</td><td>0.3346187</td><td>0.5755590</td><td>       NA</td><td>0.4396191</td><td>0.3910442</td><td>0.5068196</td><td>0.4542285</td><td>0.5068196</td><td>0.4542285</td><td>0.5068196</td><td>0.5068196</td><td>0.6653813</td><td>0.5068196</td><td>0.4542285</td><td>0.4670037</td></tr>\n",
       "\t<tr><th scope=row>Indiana Pacers</th><td>0.3346187</td><td>0.3346187</td><td>0.4136643</td><td>0.5603809</td><td>       NA</td><td>0.4396191</td><td>0.5068196</td><td>0.5068196</td><td>0.4542285</td><td>0.5839276</td><td>0.4542285</td><td>0.5068196</td><td>0.4396191</td><td>0.4542285</td><td>0.5068196</td><td>0.5863357</td></tr>\n",
       "\t<tr><th scope=row>Milwaukee Bucks</th><td>0.5329963</td><td>0.5329963</td><td>0.5603809</td><td>0.6089558</td><td>0.5603809</td><td>       NA</td><td>0.5839276</td><td>0.4542285</td><td>0.5068196</td><td>0.5068196</td><td>0.5068196</td><td>0.5068196</td><td>0.5863357</td><td>0.5839276</td><td>0.5068196</td><td>0.6653813</td></tr>\n",
       "\t<tr><th scope=row>Denver Nuggets</th><td>0.5457715</td><td>0.4931804</td><td>0.5457715</td><td>0.4931804</td><td>0.4931804</td><td>0.4160724</td><td>       NA</td><td>0.7007858</td><td>0.6653813</td><td>0.4396191</td><td>0.4396191</td><td>0.6653813</td><td>0.5839276</td><td>0.4396191</td><td>0.5635705</td><td>0.4542285</td></tr>\n",
       "\t<tr><th scope=row>Oklahoma City</th><td>0.4160724</td><td>0.4931804</td><td>0.4931804</td><td>0.5457715</td><td>0.4931804</td><td>0.5457715</td><td>0.2992142</td><td>       NA</td><td>0.7007858</td><td>0.7007858</td><td>0.4670037</td><td>0.5635705</td><td>0.5839276</td><td>0.6653813</td><td>0.4670037</td><td>0.5839276</td></tr>\n",
       "\t<tr><th scope=row>Portland Trail Blazers</th><td>0.5457715</td><td>0.5457715</td><td>0.4931804</td><td>0.4931804</td><td>0.5457715</td><td>0.4931804</td><td>0.3346187</td><td>0.2992142</td><td>       NA</td><td>0.5635705</td><td>0.5635705</td><td>0.6653813</td><td>0.5839276</td><td>0.5863357</td><td>0.5635705</td><td>0.5839276</td></tr>\n",
       "\t<tr><th scope=row>Utah Jazz</th><td>0.5457715</td><td>0.4160724</td><td>0.4160724</td><td>0.5457715</td><td>0.4160724</td><td>0.4931804</td><td>0.5603809</td><td>0.2992142</td><td>0.4364295</td><td>       NA</td><td>0.4670037</td><td>0.5863357</td><td>0.5068196</td><td>0.5635705</td><td>0.5863357</td><td>0.5839276</td></tr>\n",
       "\t<tr><th scope=row>Golden State Warriors</th><td>0.4931804</td><td>0.4931804</td><td>0.4160724</td><td>0.4931804</td><td>0.5457715</td><td>0.4931804</td><td>0.5603809</td><td>0.5329963</td><td>0.4364295</td><td>0.5329963</td><td>       NA</td><td>0.6653813</td><td>0.5068196</td><td>0.4396191</td><td>0.4670037</td><td>0.5839276</td></tr>\n",
       "\t<tr><th scope=row>Los Angeles Clippers</th><td>0.5457715</td><td>0.4160724</td><td>0.4160724</td><td>0.4931804</td><td>0.4931804</td><td>0.4931804</td><td>0.3346187</td><td>0.4364295</td><td>0.3346187</td><td>0.4136643</td><td>0.3346187</td><td>       NA</td><td>0.5839276</td><td>0.5863357</td><td>0.5635705</td><td>0.5839276</td></tr>\n",
       "\t<tr><th scope=row>Orlando Magic</th><td>0.5755590</td><td>0.4364295</td><td>0.4364295</td><td>0.3346187</td><td>0.5603809</td><td>0.4136643</td><td>0.4160724</td><td>0.4160724</td><td>0.4160724</td><td>0.4931804</td><td>0.4931804</td><td>0.4160724</td><td>       NA</td><td>0.5068196</td><td>0.5068196</td><td>0.4670037</td></tr>\n",
       "\t<tr><th scope=row>Houston Rockets</th><td>0.5457715</td><td>0.4931804</td><td>0.5457715</td><td>0.4931804</td><td>0.5457715</td><td>0.4160724</td><td>0.5603809</td><td>0.3346187</td><td>0.4136643</td><td>0.4364295</td><td>0.5603809</td><td>0.4136643</td><td>0.4931804</td><td>       NA</td><td>0.6653813</td><td>0.5068196</td></tr>\n",
       "\t<tr><th scope=row>San Antonio Spurs</th><td>0.5457715</td><td>0.4931804</td><td>0.4931804</td><td>0.5457715</td><td>0.4931804</td><td>0.4931804</td><td>0.4364295</td><td>0.5329963</td><td>0.4364295</td><td>0.4136643</td><td>0.5329963</td><td>0.4364295</td><td>0.4931804</td><td>0.3346187</td><td>       NA</td><td>0.5068196</td></tr>\n",
       "\t<tr><th scope=row>Brooklyn Nets</th><td>0.4364295</td><td>0.4364295</td><td>0.3346187</td><td>0.5329963</td><td>0.4136643</td><td>0.3346187</td><td>0.5457715</td><td>0.4160724</td><td>0.4160724</td><td>0.4160724</td><td>0.4160724</td><td>0.4160724</td><td>0.5329963</td><td>0.4931804</td><td>0.4931804</td><td>       NA</td></tr>\n",
       "</tbody>\n",
       "</table>\n"
      ],
      "text/latex": [
       "\\begin{tabular}{r|llllllllllllllll}\n",
       "  & Boston Celtics & Philadelphia 76ers & Toronto Raptors & Detroit Pistons & Indiana Pacers & Milwaukee Bucks & Denver Nuggets & Oklahoma City & Portland Trail Blazers & Utah Jazz & Golden State Warriors & Los Angeles Clippers & Orlando Magic & Houston Rockets & San Antonio Spurs & Brooklyn Nets\\\\\n",
       "\\hline\n",
       "\tBoston Celtics &        NA & 0.6653813 & 0.5635705 & 0.6653813 & 0.6653813 & 0.4670037 & 0.4542285 & 0.5839276 & 0.4542285 & 0.4542285 & 0.5068196 & 0.4542285 & 0.4244410 & 0.4542285 & 0.4542285 & 0.5635705\\\\\n",
       "\tPhiladelphia 76ers & 0.3346187 &        NA & 0.4396191 & 0.6653813 & 0.6653813 & 0.4670037 & 0.5068196 & 0.5068196 & 0.4542285 & 0.5839276 & 0.5068196 & 0.5839276 & 0.5635705 & 0.5068196 & 0.5068196 & 0.5635705\\\\\n",
       "\tToronto Raptors & 0.4364295 & 0.5603809 &        NA & 0.4244410 & 0.5863357 & 0.4396191 & 0.4542285 & 0.5068196 & 0.5068196 & 0.5839276 & 0.5839276 & 0.5839276 & 0.5635705 & 0.4542285 & 0.5068196 & 0.6653813\\\\\n",
       "\tDetroit Pistons & 0.3346187 & 0.3346187 & 0.5755590 &        NA & 0.4396191 & 0.3910442 & 0.5068196 & 0.4542285 & 0.5068196 & 0.4542285 & 0.5068196 & 0.5068196 & 0.6653813 & 0.5068196 & 0.4542285 & 0.4670037\\\\\n",
       "\tIndiana Pacers & 0.3346187 & 0.3346187 & 0.4136643 & 0.5603809 &        NA & 0.4396191 & 0.5068196 & 0.5068196 & 0.4542285 & 0.5839276 & 0.4542285 & 0.5068196 & 0.4396191 & 0.4542285 & 0.5068196 & 0.5863357\\\\\n",
       "\tMilwaukee Bucks & 0.5329963 & 0.5329963 & 0.5603809 & 0.6089558 & 0.5603809 &        NA & 0.5839276 & 0.4542285 & 0.5068196 & 0.5068196 & 0.5068196 & 0.5068196 & 0.5863357 & 0.5839276 & 0.5068196 & 0.6653813\\\\\n",
       "\tDenver Nuggets & 0.5457715 & 0.4931804 & 0.5457715 & 0.4931804 & 0.4931804 & 0.4160724 &        NA & 0.7007858 & 0.6653813 & 0.4396191 & 0.4396191 & 0.6653813 & 0.5839276 & 0.4396191 & 0.5635705 & 0.4542285\\\\\n",
       "\tOklahoma City & 0.4160724 & 0.4931804 & 0.4931804 & 0.5457715 & 0.4931804 & 0.5457715 & 0.2992142 &        NA & 0.7007858 & 0.7007858 & 0.4670037 & 0.5635705 & 0.5839276 & 0.6653813 & 0.4670037 & 0.5839276\\\\\n",
       "\tPortland Trail Blazers & 0.5457715 & 0.5457715 & 0.4931804 & 0.4931804 & 0.5457715 & 0.4931804 & 0.3346187 & 0.2992142 &        NA & 0.5635705 & 0.5635705 & 0.6653813 & 0.5839276 & 0.5863357 & 0.5635705 & 0.5839276\\\\\n",
       "\tUtah Jazz & 0.5457715 & 0.4160724 & 0.4160724 & 0.5457715 & 0.4160724 & 0.4931804 & 0.5603809 & 0.2992142 & 0.4364295 &        NA & 0.4670037 & 0.5863357 & 0.5068196 & 0.5635705 & 0.5863357 & 0.5839276\\\\\n",
       "\tGolden State Warriors & 0.4931804 & 0.4931804 & 0.4160724 & 0.4931804 & 0.5457715 & 0.4931804 & 0.5603809 & 0.5329963 & 0.4364295 & 0.5329963 &        NA & 0.6653813 & 0.5068196 & 0.4396191 & 0.4670037 & 0.5839276\\\\\n",
       "\tLos Angeles Clippers & 0.5457715 & 0.4160724 & 0.4160724 & 0.4931804 & 0.4931804 & 0.4931804 & 0.3346187 & 0.4364295 & 0.3346187 & 0.4136643 & 0.3346187 &        NA & 0.5839276 & 0.5863357 & 0.5635705 & 0.5839276\\\\\n",
       "\tOrlando Magic & 0.5755590 & 0.4364295 & 0.4364295 & 0.3346187 & 0.5603809 & 0.4136643 & 0.4160724 & 0.4160724 & 0.4160724 & 0.4931804 & 0.4931804 & 0.4160724 &        NA & 0.5068196 & 0.5068196 & 0.4670037\\\\\n",
       "\tHouston Rockets & 0.5457715 & 0.4931804 & 0.5457715 & 0.4931804 & 0.5457715 & 0.4160724 & 0.5603809 & 0.3346187 & 0.4136643 & 0.4364295 & 0.5603809 & 0.4136643 & 0.4931804 &        NA & 0.6653813 & 0.5068196\\\\\n",
       "\tSan Antonio Spurs & 0.5457715 & 0.4931804 & 0.4931804 & 0.5457715 & 0.4931804 & 0.4931804 & 0.4364295 & 0.5329963 & 0.4364295 & 0.4136643 & 0.5329963 & 0.4364295 & 0.4931804 & 0.3346187 &        NA & 0.5068196\\\\\n",
       "\tBrooklyn Nets & 0.4364295 & 0.4364295 & 0.3346187 & 0.5329963 & 0.4136643 & 0.3346187 & 0.5457715 & 0.4160724 & 0.4160724 & 0.4160724 & 0.4160724 & 0.4160724 & 0.5329963 & 0.4931804 & 0.4931804 &        NA\\\\\n",
       "\\end{tabular}\n"
      ],
      "text/markdown": [
       "\n",
       "| <!--/--> | Boston Celtics | Philadelphia 76ers | Toronto Raptors | Detroit Pistons | Indiana Pacers | Milwaukee Bucks | Denver Nuggets | Oklahoma City | Portland Trail Blazers | Utah Jazz | Golden State Warriors | Los Angeles Clippers | Orlando Magic | Houston Rockets | San Antonio Spurs | Brooklyn Nets | \n",
       "|---|---|---|---|---|---|---|---|---|---|---|---|---|---|---|---|\n",
       "| Boston Celtics |        NA | 0.6653813 | 0.5635705 | 0.6653813 | 0.6653813 | 0.4670037 | 0.4542285 | 0.5839276 | 0.4542285 | 0.4542285 | 0.5068196 | 0.4542285 | 0.4244410 | 0.4542285 | 0.4542285 | 0.5635705 | \n",
       "| Philadelphia 76ers | 0.3346187 |        NA | 0.4396191 | 0.6653813 | 0.6653813 | 0.4670037 | 0.5068196 | 0.5068196 | 0.4542285 | 0.5839276 | 0.5068196 | 0.5839276 | 0.5635705 | 0.5068196 | 0.5068196 | 0.5635705 | \n",
       "| Toronto Raptors | 0.4364295 | 0.5603809 |        NA | 0.4244410 | 0.5863357 | 0.4396191 | 0.4542285 | 0.5068196 | 0.5068196 | 0.5839276 | 0.5839276 | 0.5839276 | 0.5635705 | 0.4542285 | 0.5068196 | 0.6653813 | \n",
       "| Detroit Pistons | 0.3346187 | 0.3346187 | 0.5755590 |        NA | 0.4396191 | 0.3910442 | 0.5068196 | 0.4542285 | 0.5068196 | 0.4542285 | 0.5068196 | 0.5068196 | 0.6653813 | 0.5068196 | 0.4542285 | 0.4670037 | \n",
       "| Indiana Pacers | 0.3346187 | 0.3346187 | 0.4136643 | 0.5603809 |        NA | 0.4396191 | 0.5068196 | 0.5068196 | 0.4542285 | 0.5839276 | 0.4542285 | 0.5068196 | 0.4396191 | 0.4542285 | 0.5068196 | 0.5863357 | \n",
       "| Milwaukee Bucks | 0.5329963 | 0.5329963 | 0.5603809 | 0.6089558 | 0.5603809 |        NA | 0.5839276 | 0.4542285 | 0.5068196 | 0.5068196 | 0.5068196 | 0.5068196 | 0.5863357 | 0.5839276 | 0.5068196 | 0.6653813 | \n",
       "| Denver Nuggets | 0.5457715 | 0.4931804 | 0.5457715 | 0.4931804 | 0.4931804 | 0.4160724 |        NA | 0.7007858 | 0.6653813 | 0.4396191 | 0.4396191 | 0.6653813 | 0.5839276 | 0.4396191 | 0.5635705 | 0.4542285 | \n",
       "| Oklahoma City | 0.4160724 | 0.4931804 | 0.4931804 | 0.5457715 | 0.4931804 | 0.5457715 | 0.2992142 |        NA | 0.7007858 | 0.7007858 | 0.4670037 | 0.5635705 | 0.5839276 | 0.6653813 | 0.4670037 | 0.5839276 | \n",
       "| Portland Trail Blazers | 0.5457715 | 0.5457715 | 0.4931804 | 0.4931804 | 0.5457715 | 0.4931804 | 0.3346187 | 0.2992142 |        NA | 0.5635705 | 0.5635705 | 0.6653813 | 0.5839276 | 0.5863357 | 0.5635705 | 0.5839276 | \n",
       "| Utah Jazz | 0.5457715 | 0.4160724 | 0.4160724 | 0.5457715 | 0.4160724 | 0.4931804 | 0.5603809 | 0.2992142 | 0.4364295 |        NA | 0.4670037 | 0.5863357 | 0.5068196 | 0.5635705 | 0.5863357 | 0.5839276 | \n",
       "| Golden State Warriors | 0.4931804 | 0.4931804 | 0.4160724 | 0.4931804 | 0.5457715 | 0.4931804 | 0.5603809 | 0.5329963 | 0.4364295 | 0.5329963 |        NA | 0.6653813 | 0.5068196 | 0.4396191 | 0.4670037 | 0.5839276 | \n",
       "| Los Angeles Clippers | 0.5457715 | 0.4160724 | 0.4160724 | 0.4931804 | 0.4931804 | 0.4931804 | 0.3346187 | 0.4364295 | 0.3346187 | 0.4136643 | 0.3346187 |        NA | 0.5839276 | 0.5863357 | 0.5635705 | 0.5839276 | \n",
       "| Orlando Magic | 0.5755590 | 0.4364295 | 0.4364295 | 0.3346187 | 0.5603809 | 0.4136643 | 0.4160724 | 0.4160724 | 0.4160724 | 0.4931804 | 0.4931804 | 0.4160724 |        NA | 0.5068196 | 0.5068196 | 0.4670037 | \n",
       "| Houston Rockets | 0.5457715 | 0.4931804 | 0.5457715 | 0.4931804 | 0.5457715 | 0.4160724 | 0.5603809 | 0.3346187 | 0.4136643 | 0.4364295 | 0.5603809 | 0.4136643 | 0.4931804 |        NA | 0.6653813 | 0.5068196 | \n",
       "| San Antonio Spurs | 0.5457715 | 0.4931804 | 0.4931804 | 0.5457715 | 0.4931804 | 0.4931804 | 0.4364295 | 0.5329963 | 0.4364295 | 0.4136643 | 0.5329963 | 0.4364295 | 0.4931804 | 0.3346187 |        NA | 0.5068196 | \n",
       "| Brooklyn Nets | 0.4364295 | 0.4364295 | 0.3346187 | 0.5329963 | 0.4136643 | 0.3346187 | 0.5457715 | 0.4160724 | 0.4160724 | 0.4160724 | 0.4160724 | 0.4160724 | 0.5329963 | 0.4931804 | 0.4931804 |        NA | \n",
       "\n",
       "\n"
      ],
      "text/plain": [
       "                       Boston Celtics Philadelphia 76ers Toronto Raptors\n",
       "Boston Celtics                NA      0.6653813          0.5635705      \n",
       "Philadelphia 76ers     0.3346187             NA          0.4396191      \n",
       "Toronto Raptors        0.4364295      0.5603809                 NA      \n",
       "Detroit Pistons        0.3346187      0.3346187          0.5755590      \n",
       "Indiana Pacers         0.3346187      0.3346187          0.4136643      \n",
       "Milwaukee Bucks        0.5329963      0.5329963          0.5603809      \n",
       "Denver Nuggets         0.5457715      0.4931804          0.5457715      \n",
       "Oklahoma City          0.4160724      0.4931804          0.4931804      \n",
       "Portland Trail Blazers 0.5457715      0.5457715          0.4931804      \n",
       "Utah Jazz              0.5457715      0.4160724          0.4160724      \n",
       "Golden State Warriors  0.4931804      0.4931804          0.4160724      \n",
       "Los Angeles Clippers   0.5457715      0.4160724          0.4160724      \n",
       "Orlando Magic          0.5755590      0.4364295          0.4364295      \n",
       "Houston Rockets        0.5457715      0.4931804          0.5457715      \n",
       "San Antonio Spurs      0.5457715      0.4931804          0.4931804      \n",
       "Brooklyn Nets          0.4364295      0.4364295          0.3346187      \n",
       "                       Detroit Pistons Indiana Pacers Milwaukee Bucks\n",
       "Boston Celtics         0.6653813       0.6653813      0.4670037      \n",
       "Philadelphia 76ers     0.6653813       0.6653813      0.4670037      \n",
       "Toronto Raptors        0.4244410       0.5863357      0.4396191      \n",
       "Detroit Pistons               NA       0.4396191      0.3910442      \n",
       "Indiana Pacers         0.5603809              NA      0.4396191      \n",
       "Milwaukee Bucks        0.6089558       0.5603809             NA      \n",
       "Denver Nuggets         0.4931804       0.4931804      0.4160724      \n",
       "Oklahoma City          0.5457715       0.4931804      0.5457715      \n",
       "Portland Trail Blazers 0.4931804       0.5457715      0.4931804      \n",
       "Utah Jazz              0.5457715       0.4160724      0.4931804      \n",
       "Golden State Warriors  0.4931804       0.5457715      0.4931804      \n",
       "Los Angeles Clippers   0.4931804       0.4931804      0.4931804      \n",
       "Orlando Magic          0.3346187       0.5603809      0.4136643      \n",
       "Houston Rockets        0.4931804       0.5457715      0.4160724      \n",
       "San Antonio Spurs      0.5457715       0.4931804      0.4931804      \n",
       "Brooklyn Nets          0.5329963       0.4136643      0.3346187      \n",
       "                       Denver Nuggets Oklahoma City Portland Trail Blazers\n",
       "Boston Celtics         0.4542285      0.5839276     0.4542285             \n",
       "Philadelphia 76ers     0.5068196      0.5068196     0.4542285             \n",
       "Toronto Raptors        0.4542285      0.5068196     0.5068196             \n",
       "Detroit Pistons        0.5068196      0.4542285     0.5068196             \n",
       "Indiana Pacers         0.5068196      0.5068196     0.4542285             \n",
       "Milwaukee Bucks        0.5839276      0.4542285     0.5068196             \n",
       "Denver Nuggets                NA      0.7007858     0.6653813             \n",
       "Oklahoma City          0.2992142             NA     0.7007858             \n",
       "Portland Trail Blazers 0.3346187      0.2992142            NA             \n",
       "Utah Jazz              0.5603809      0.2992142     0.4364295             \n",
       "Golden State Warriors  0.5603809      0.5329963     0.4364295             \n",
       "Los Angeles Clippers   0.3346187      0.4364295     0.3346187             \n",
       "Orlando Magic          0.4160724      0.4160724     0.4160724             \n",
       "Houston Rockets        0.5603809      0.3346187     0.4136643             \n",
       "San Antonio Spurs      0.4364295      0.5329963     0.4364295             \n",
       "Brooklyn Nets          0.5457715      0.4160724     0.4160724             \n",
       "                       Utah Jazz Golden State Warriors Los Angeles Clippers\n",
       "Boston Celtics         0.4542285 0.5068196             0.4542285           \n",
       "Philadelphia 76ers     0.5839276 0.5068196             0.5839276           \n",
       "Toronto Raptors        0.5839276 0.5839276             0.5839276           \n",
       "Detroit Pistons        0.4542285 0.5068196             0.5068196           \n",
       "Indiana Pacers         0.5839276 0.4542285             0.5068196           \n",
       "Milwaukee Bucks        0.5068196 0.5068196             0.5068196           \n",
       "Denver Nuggets         0.4396191 0.4396191             0.6653813           \n",
       "Oklahoma City          0.7007858 0.4670037             0.5635705           \n",
       "Portland Trail Blazers 0.5635705 0.5635705             0.6653813           \n",
       "Utah Jazz                     NA 0.4670037             0.5863357           \n",
       "Golden State Warriors  0.5329963        NA             0.6653813           \n",
       "Los Angeles Clippers   0.4136643 0.3346187                    NA           \n",
       "Orlando Magic          0.4931804 0.4931804             0.4160724           \n",
       "Houston Rockets        0.4364295 0.5603809             0.4136643           \n",
       "San Antonio Spurs      0.4136643 0.5329963             0.4364295           \n",
       "Brooklyn Nets          0.4160724 0.4160724             0.4160724           \n",
       "                       Orlando Magic Houston Rockets San Antonio Spurs\n",
       "Boston Celtics         0.4244410     0.4542285       0.4542285        \n",
       "Philadelphia 76ers     0.5635705     0.5068196       0.5068196        \n",
       "Toronto Raptors        0.5635705     0.4542285       0.5068196        \n",
       "Detroit Pistons        0.6653813     0.5068196       0.4542285        \n",
       "Indiana Pacers         0.4396191     0.4542285       0.5068196        \n",
       "Milwaukee Bucks        0.5863357     0.5839276       0.5068196        \n",
       "Denver Nuggets         0.5839276     0.4396191       0.5635705        \n",
       "Oklahoma City          0.5839276     0.6653813       0.4670037        \n",
       "Portland Trail Blazers 0.5839276     0.5863357       0.5635705        \n",
       "Utah Jazz              0.5068196     0.5635705       0.5863357        \n",
       "Golden State Warriors  0.5068196     0.4396191       0.4670037        \n",
       "Los Angeles Clippers   0.5839276     0.5863357       0.5635705        \n",
       "Orlando Magic                 NA     0.5068196       0.5068196        \n",
       "Houston Rockets        0.4931804            NA       0.6653813        \n",
       "San Antonio Spurs      0.4931804     0.3346187              NA        \n",
       "Brooklyn Nets          0.5329963     0.4931804       0.4931804        \n",
       "                       Brooklyn Nets\n",
       "Boston Celtics         0.5635705    \n",
       "Philadelphia 76ers     0.5635705    \n",
       "Toronto Raptors        0.6653813    \n",
       "Detroit Pistons        0.4670037    \n",
       "Indiana Pacers         0.5863357    \n",
       "Milwaukee Bucks        0.6653813    \n",
       "Denver Nuggets         0.4542285    \n",
       "Oklahoma City          0.5839276    \n",
       "Portland Trail Blazers 0.5839276    \n",
       "Utah Jazz              0.5839276    \n",
       "Golden State Warriors  0.5839276    \n",
       "Los Angeles Clippers   0.5839276    \n",
       "Orlando Magic          0.4670037    \n",
       "Houston Rockets        0.5068196    \n",
       "San Antonio Spurs      0.5068196    \n",
       "Brooklyn Nets                 NA    "
      ]
     },
     "metadata": {},
     "output_type": "display_data"
    }
   ],
   "source": [
    "Sim_matrix2"
   ]
  },
  {
   "cell_type": "markdown",
   "metadata": {},
   "source": [
    "# 6. Conjugacy"
   ]
  },
  {
   "cell_type": "markdown",
   "metadata": {},
   "source": [
    "위 모델링은 Conjugacy를 이용하여 simulation 없이 사후 기대 확률을 쉽게 구할 수 있음"
   ]
  },
  {
   "cell_type": "code",
   "execution_count": 33,
   "metadata": {},
   "outputs": [],
   "source": [
    "post_exp<-function(y,n,a,b){\n",
    "    A<-(y+a)/(n+a+b)\n",
    "    return(A)\n",
    "}"
   ]
  },
  {
   "cell_type": "markdown",
   "metadata": {},
   "source": [
    "먼저 $\\alpha, \\beta$를 1로 두어 Noninformative prior를 사용해 분석"
   ]
  },
  {
   "cell_type": "code",
   "execution_count": 34,
   "metadata": {},
   "outputs": [
    {
     "data": {
      "text/html": [
       "<table>\n",
       "<thead><tr><th></th><th scope=col>Boston Celtics</th><th scope=col>Philadelphia 76ers</th><th scope=col>Toronto Raptors</th><th scope=col>Detroit Pistons</th><th scope=col>Indiana Pacers</th><th scope=col>Milwaukee Bucks</th><th scope=col>Denver Nuggets</th><th scope=col>Oklahoma City</th><th scope=col>Portland Trail Blazers</th><th scope=col>Utah Jazz</th><th scope=col>Golden State Warriors</th><th scope=col>Los Angeles Clippers</th><th scope=col>Orlando Magic</th><th scope=col>Houston Rockets</th><th scope=col>San Antonio Spurs</th><th scope=col>Brooklyn Nets</th></tr></thead>\n",
       "<tbody>\n",
       "\t<tr><th scope=row>Boston Celtics</th><td>       NA</td><td>0.6666667</td><td>0.5000000</td><td>0.6666667</td><td>0.6666667</td><td>0.4000000</td><td>0.2500000</td><td>0.7500000</td><td>0.2500000</td><td>0.2500000</td><td>0.5000000</td><td>0.2500000</td><td>0.2000000</td><td>0.2500000</td><td>0.2500000</td><td>0.5000000</td></tr>\n",
       "\t<tr><th scope=row>Philadelphia 76ers</th><td>0.3333333</td><td>       NA</td><td>0.3333333</td><td>0.6666667</td><td>0.6666667</td><td>0.4000000</td><td>0.5000000</td><td>0.5000000</td><td>0.2500000</td><td>0.7500000</td><td>0.5000000</td><td>0.7500000</td><td>0.5000000</td><td>0.5000000</td><td>0.5000000</td><td>0.5000000</td></tr>\n",
       "\t<tr><th scope=row>Toronto Raptors</th><td>0.5000000</td><td>0.6666667</td><td>       NA</td><td>0.2000000</td><td>0.6000000</td><td>0.3333333</td><td>0.2500000</td><td>0.5000000</td><td>0.5000000</td><td>0.7500000</td><td>0.7500000</td><td>0.7500000</td><td>0.5000000</td><td>0.2500000</td><td>0.5000000</td><td>0.6666667</td></tr>\n",
       "\t<tr><th scope=row>Detroit Pistons</th><td>0.3333333</td><td>0.3333333</td><td>0.8000000</td><td>       NA</td><td>0.3333333</td><td>0.1666667</td><td>0.5000000</td><td>0.2500000</td><td>0.5000000</td><td>0.2500000</td><td>0.5000000</td><td>0.5000000</td><td>0.6666667</td><td>0.5000000</td><td>0.2500000</td><td>0.4000000</td></tr>\n",
       "\t<tr><th scope=row>Indiana Pacers</th><td>0.3333333</td><td>0.3333333</td><td>0.4000000</td><td>0.6666667</td><td>       NA</td><td>0.3333333</td><td>0.5000000</td><td>0.5000000</td><td>0.2500000</td><td>0.7500000</td><td>0.2500000</td><td>0.5000000</td><td>0.3333333</td><td>0.2500000</td><td>0.5000000</td><td>0.6000000</td></tr>\n",
       "\t<tr><th scope=row>Milwaukee Bucks</th><td>0.6000000</td><td>0.6000000</td><td>0.6666667</td><td>0.8333333</td><td>0.6666667</td><td>       NA</td><td>0.7500000</td><td>0.2500000</td><td>0.5000000</td><td>0.5000000</td><td>0.5000000</td><td>0.5000000</td><td>0.6000000</td><td>0.7500000</td><td>0.5000000</td><td>0.6666667</td></tr>\n",
       "\t<tr><th scope=row>Denver Nuggets</th><td>0.7500000</td><td>0.5000000</td><td>0.7500000</td><td>0.5000000</td><td>0.5000000</td><td>0.2500000</td><td>       NA</td><td>0.8333333</td><td>0.6666667</td><td>0.3333333</td><td>0.3333333</td><td>0.6666667</td><td>0.7500000</td><td>0.3333333</td><td>0.5000000</td><td>0.2500000</td></tr>\n",
       "\t<tr><th scope=row>Oklahoma City</th><td>0.2500000</td><td>0.5000000</td><td>0.5000000</td><td>0.7500000</td><td>0.5000000</td><td>0.7500000</td><td>0.1666667</td><td>       NA</td><td>0.8333333</td><td>0.8333333</td><td>0.4000000</td><td>0.5000000</td><td>0.7500000</td><td>0.6666667</td><td>0.4000000</td><td>0.7500000</td></tr>\n",
       "\t<tr><th scope=row>Portland Trail Blazers</th><td>0.7500000</td><td>0.7500000</td><td>0.5000000</td><td>0.5000000</td><td>0.7500000</td><td>0.5000000</td><td>0.3333333</td><td>0.1666667</td><td>       NA</td><td>0.5000000</td><td>0.5000000</td><td>0.6666667</td><td>0.7500000</td><td>0.6000000</td><td>0.5000000</td><td>0.7500000</td></tr>\n",
       "\t<tr><th scope=row>Utah Jazz</th><td>0.7500000</td><td>0.2500000</td><td>0.2500000</td><td>0.7500000</td><td>0.2500000</td><td>0.5000000</td><td>0.6666667</td><td>0.1666667</td><td>0.5000000</td><td>       NA</td><td>0.4000000</td><td>0.6000000</td><td>0.5000000</td><td>0.5000000</td><td>0.6000000</td><td>0.7500000</td></tr>\n",
       "\t<tr><th scope=row>Golden State Warriors</th><td>0.5000000</td><td>0.5000000</td><td>0.2500000</td><td>0.5000000</td><td>0.7500000</td><td>0.5000000</td><td>0.6666667</td><td>0.6000000</td><td>0.5000000</td><td>0.6000000</td><td>       NA</td><td>0.6666667</td><td>0.5000000</td><td>0.3333333</td><td>0.4000000</td><td>0.7500000</td></tr>\n",
       "\t<tr><th scope=row>Los Angeles Clippers</th><td>0.7500000</td><td>0.2500000</td><td>0.2500000</td><td>0.5000000</td><td>0.5000000</td><td>0.5000000</td><td>0.3333333</td><td>0.5000000</td><td>0.3333333</td><td>0.4000000</td><td>0.3333333</td><td>       NA</td><td>0.7500000</td><td>0.6000000</td><td>0.5000000</td><td>0.7500000</td></tr>\n",
       "\t<tr><th scope=row>Orlando Magic</th><td>0.8000000</td><td>0.5000000</td><td>0.5000000</td><td>0.3333333</td><td>0.6666667</td><td>0.4000000</td><td>0.2500000</td><td>0.2500000</td><td>0.2500000</td><td>0.5000000</td><td>0.5000000</td><td>0.2500000</td><td>       NA</td><td>0.5000000</td><td>0.5000000</td><td>0.4000000</td></tr>\n",
       "\t<tr><th scope=row>Houston Rockets</th><td>0.7500000</td><td>0.5000000</td><td>0.7500000</td><td>0.5000000</td><td>0.7500000</td><td>0.2500000</td><td>0.6666667</td><td>0.3333333</td><td>0.4000000</td><td>0.5000000</td><td>0.6666667</td><td>0.4000000</td><td>0.5000000</td><td>       NA</td><td>0.6666667</td><td>0.5000000</td></tr>\n",
       "\t<tr><th scope=row>San Antonio Spurs</th><td>0.7500000</td><td>0.5000000</td><td>0.5000000</td><td>0.7500000</td><td>0.5000000</td><td>0.5000000</td><td>0.5000000</td><td>0.6000000</td><td>0.5000000</td><td>0.4000000</td><td>0.6000000</td><td>0.5000000</td><td>0.5000000</td><td>0.3333333</td><td>       NA</td><td>0.5000000</td></tr>\n",
       "\t<tr><th scope=row>Brooklyn Nets</th><td>0.5000000</td><td>0.5000000</td><td>0.3333333</td><td>0.6000000</td><td>0.4000000</td><td>0.3333333</td><td>0.7500000</td><td>0.2500000</td><td>0.2500000</td><td>0.2500000</td><td>0.2500000</td><td>0.2500000</td><td>0.6000000</td><td>0.5000000</td><td>0.5000000</td><td>       NA</td></tr>\n",
       "</tbody>\n",
       "</table>\n"
      ],
      "text/latex": [
       "\\begin{tabular}{r|llllllllllllllll}\n",
       "  & Boston Celtics & Philadelphia 76ers & Toronto Raptors & Detroit Pistons & Indiana Pacers & Milwaukee Bucks & Denver Nuggets & Oklahoma City & Portland Trail Blazers & Utah Jazz & Golden State Warriors & Los Angeles Clippers & Orlando Magic & Houston Rockets & San Antonio Spurs & Brooklyn Nets\\\\\n",
       "\\hline\n",
       "\tBoston Celtics &        NA & 0.6666667 & 0.5000000 & 0.6666667 & 0.6666667 & 0.4000000 & 0.2500000 & 0.7500000 & 0.2500000 & 0.2500000 & 0.5000000 & 0.2500000 & 0.2000000 & 0.2500000 & 0.2500000 & 0.5000000\\\\\n",
       "\tPhiladelphia 76ers & 0.3333333 &        NA & 0.3333333 & 0.6666667 & 0.6666667 & 0.4000000 & 0.5000000 & 0.5000000 & 0.2500000 & 0.7500000 & 0.5000000 & 0.7500000 & 0.5000000 & 0.5000000 & 0.5000000 & 0.5000000\\\\\n",
       "\tToronto Raptors & 0.5000000 & 0.6666667 &        NA & 0.2000000 & 0.6000000 & 0.3333333 & 0.2500000 & 0.5000000 & 0.5000000 & 0.7500000 & 0.7500000 & 0.7500000 & 0.5000000 & 0.2500000 & 0.5000000 & 0.6666667\\\\\n",
       "\tDetroit Pistons & 0.3333333 & 0.3333333 & 0.8000000 &        NA & 0.3333333 & 0.1666667 & 0.5000000 & 0.2500000 & 0.5000000 & 0.2500000 & 0.5000000 & 0.5000000 & 0.6666667 & 0.5000000 & 0.2500000 & 0.4000000\\\\\n",
       "\tIndiana Pacers & 0.3333333 & 0.3333333 & 0.4000000 & 0.6666667 &        NA & 0.3333333 & 0.5000000 & 0.5000000 & 0.2500000 & 0.7500000 & 0.2500000 & 0.5000000 & 0.3333333 & 0.2500000 & 0.5000000 & 0.6000000\\\\\n",
       "\tMilwaukee Bucks & 0.6000000 & 0.6000000 & 0.6666667 & 0.8333333 & 0.6666667 &        NA & 0.7500000 & 0.2500000 & 0.5000000 & 0.5000000 & 0.5000000 & 0.5000000 & 0.6000000 & 0.7500000 & 0.5000000 & 0.6666667\\\\\n",
       "\tDenver Nuggets & 0.7500000 & 0.5000000 & 0.7500000 & 0.5000000 & 0.5000000 & 0.2500000 &        NA & 0.8333333 & 0.6666667 & 0.3333333 & 0.3333333 & 0.6666667 & 0.7500000 & 0.3333333 & 0.5000000 & 0.2500000\\\\\n",
       "\tOklahoma City & 0.2500000 & 0.5000000 & 0.5000000 & 0.7500000 & 0.5000000 & 0.7500000 & 0.1666667 &        NA & 0.8333333 & 0.8333333 & 0.4000000 & 0.5000000 & 0.7500000 & 0.6666667 & 0.4000000 & 0.7500000\\\\\n",
       "\tPortland Trail Blazers & 0.7500000 & 0.7500000 & 0.5000000 & 0.5000000 & 0.7500000 & 0.5000000 & 0.3333333 & 0.1666667 &        NA & 0.5000000 & 0.5000000 & 0.6666667 & 0.7500000 & 0.6000000 & 0.5000000 & 0.7500000\\\\\n",
       "\tUtah Jazz & 0.7500000 & 0.2500000 & 0.2500000 & 0.7500000 & 0.2500000 & 0.5000000 & 0.6666667 & 0.1666667 & 0.5000000 &        NA & 0.4000000 & 0.6000000 & 0.5000000 & 0.5000000 & 0.6000000 & 0.7500000\\\\\n",
       "\tGolden State Warriors & 0.5000000 & 0.5000000 & 0.2500000 & 0.5000000 & 0.7500000 & 0.5000000 & 0.6666667 & 0.6000000 & 0.5000000 & 0.6000000 &        NA & 0.6666667 & 0.5000000 & 0.3333333 & 0.4000000 & 0.7500000\\\\\n",
       "\tLos Angeles Clippers & 0.7500000 & 0.2500000 & 0.2500000 & 0.5000000 & 0.5000000 & 0.5000000 & 0.3333333 & 0.5000000 & 0.3333333 & 0.4000000 & 0.3333333 &        NA & 0.7500000 & 0.6000000 & 0.5000000 & 0.7500000\\\\\n",
       "\tOrlando Magic & 0.8000000 & 0.5000000 & 0.5000000 & 0.3333333 & 0.6666667 & 0.4000000 & 0.2500000 & 0.2500000 & 0.2500000 & 0.5000000 & 0.5000000 & 0.2500000 &        NA & 0.5000000 & 0.5000000 & 0.4000000\\\\\n",
       "\tHouston Rockets & 0.7500000 & 0.5000000 & 0.7500000 & 0.5000000 & 0.7500000 & 0.2500000 & 0.6666667 & 0.3333333 & 0.4000000 & 0.5000000 & 0.6666667 & 0.4000000 & 0.5000000 &        NA & 0.6666667 & 0.5000000\\\\\n",
       "\tSan Antonio Spurs & 0.7500000 & 0.5000000 & 0.5000000 & 0.7500000 & 0.5000000 & 0.5000000 & 0.5000000 & 0.6000000 & 0.5000000 & 0.4000000 & 0.6000000 & 0.5000000 & 0.5000000 & 0.3333333 &        NA & 0.5000000\\\\\n",
       "\tBrooklyn Nets & 0.5000000 & 0.5000000 & 0.3333333 & 0.6000000 & 0.4000000 & 0.3333333 & 0.7500000 & 0.2500000 & 0.2500000 & 0.2500000 & 0.2500000 & 0.2500000 & 0.6000000 & 0.5000000 & 0.5000000 &        NA\\\\\n",
       "\\end{tabular}\n"
      ],
      "text/markdown": [
       "\n",
       "| <!--/--> | Boston Celtics | Philadelphia 76ers | Toronto Raptors | Detroit Pistons | Indiana Pacers | Milwaukee Bucks | Denver Nuggets | Oklahoma City | Portland Trail Blazers | Utah Jazz | Golden State Warriors | Los Angeles Clippers | Orlando Magic | Houston Rockets | San Antonio Spurs | Brooklyn Nets | \n",
       "|---|---|---|---|---|---|---|---|---|---|---|---|---|---|---|---|\n",
       "| Boston Celtics |        NA | 0.6666667 | 0.5000000 | 0.6666667 | 0.6666667 | 0.4000000 | 0.2500000 | 0.7500000 | 0.2500000 | 0.2500000 | 0.5000000 | 0.2500000 | 0.2000000 | 0.2500000 | 0.2500000 | 0.5000000 | \n",
       "| Philadelphia 76ers | 0.3333333 |        NA | 0.3333333 | 0.6666667 | 0.6666667 | 0.4000000 | 0.5000000 | 0.5000000 | 0.2500000 | 0.7500000 | 0.5000000 | 0.7500000 | 0.5000000 | 0.5000000 | 0.5000000 | 0.5000000 | \n",
       "| Toronto Raptors | 0.5000000 | 0.6666667 |        NA | 0.2000000 | 0.6000000 | 0.3333333 | 0.2500000 | 0.5000000 | 0.5000000 | 0.7500000 | 0.7500000 | 0.7500000 | 0.5000000 | 0.2500000 | 0.5000000 | 0.6666667 | \n",
       "| Detroit Pistons | 0.3333333 | 0.3333333 | 0.8000000 |        NA | 0.3333333 | 0.1666667 | 0.5000000 | 0.2500000 | 0.5000000 | 0.2500000 | 0.5000000 | 0.5000000 | 0.6666667 | 0.5000000 | 0.2500000 | 0.4000000 | \n",
       "| Indiana Pacers | 0.3333333 | 0.3333333 | 0.4000000 | 0.6666667 |        NA | 0.3333333 | 0.5000000 | 0.5000000 | 0.2500000 | 0.7500000 | 0.2500000 | 0.5000000 | 0.3333333 | 0.2500000 | 0.5000000 | 0.6000000 | \n",
       "| Milwaukee Bucks | 0.6000000 | 0.6000000 | 0.6666667 | 0.8333333 | 0.6666667 |        NA | 0.7500000 | 0.2500000 | 0.5000000 | 0.5000000 | 0.5000000 | 0.5000000 | 0.6000000 | 0.7500000 | 0.5000000 | 0.6666667 | \n",
       "| Denver Nuggets | 0.7500000 | 0.5000000 | 0.7500000 | 0.5000000 | 0.5000000 | 0.2500000 |        NA | 0.8333333 | 0.6666667 | 0.3333333 | 0.3333333 | 0.6666667 | 0.7500000 | 0.3333333 | 0.5000000 | 0.2500000 | \n",
       "| Oklahoma City | 0.2500000 | 0.5000000 | 0.5000000 | 0.7500000 | 0.5000000 | 0.7500000 | 0.1666667 |        NA | 0.8333333 | 0.8333333 | 0.4000000 | 0.5000000 | 0.7500000 | 0.6666667 | 0.4000000 | 0.7500000 | \n",
       "| Portland Trail Blazers | 0.7500000 | 0.7500000 | 0.5000000 | 0.5000000 | 0.7500000 | 0.5000000 | 0.3333333 | 0.1666667 |        NA | 0.5000000 | 0.5000000 | 0.6666667 | 0.7500000 | 0.6000000 | 0.5000000 | 0.7500000 | \n",
       "| Utah Jazz | 0.7500000 | 0.2500000 | 0.2500000 | 0.7500000 | 0.2500000 | 0.5000000 | 0.6666667 | 0.1666667 | 0.5000000 |        NA | 0.4000000 | 0.6000000 | 0.5000000 | 0.5000000 | 0.6000000 | 0.7500000 | \n",
       "| Golden State Warriors | 0.5000000 | 0.5000000 | 0.2500000 | 0.5000000 | 0.7500000 | 0.5000000 | 0.6666667 | 0.6000000 | 0.5000000 | 0.6000000 |        NA | 0.6666667 | 0.5000000 | 0.3333333 | 0.4000000 | 0.7500000 | \n",
       "| Los Angeles Clippers | 0.7500000 | 0.2500000 | 0.2500000 | 0.5000000 | 0.5000000 | 0.5000000 | 0.3333333 | 0.5000000 | 0.3333333 | 0.4000000 | 0.3333333 |        NA | 0.7500000 | 0.6000000 | 0.5000000 | 0.7500000 | \n",
       "| Orlando Magic | 0.8000000 | 0.5000000 | 0.5000000 | 0.3333333 | 0.6666667 | 0.4000000 | 0.2500000 | 0.2500000 | 0.2500000 | 0.5000000 | 0.5000000 | 0.2500000 |        NA | 0.5000000 | 0.5000000 | 0.4000000 | \n",
       "| Houston Rockets | 0.7500000 | 0.5000000 | 0.7500000 | 0.5000000 | 0.7500000 | 0.2500000 | 0.6666667 | 0.3333333 | 0.4000000 | 0.5000000 | 0.6666667 | 0.4000000 | 0.5000000 |        NA | 0.6666667 | 0.5000000 | \n",
       "| San Antonio Spurs | 0.7500000 | 0.5000000 | 0.5000000 | 0.7500000 | 0.5000000 | 0.5000000 | 0.5000000 | 0.6000000 | 0.5000000 | 0.4000000 | 0.6000000 | 0.5000000 | 0.5000000 | 0.3333333 |        NA | 0.5000000 | \n",
       "| Brooklyn Nets | 0.5000000 | 0.5000000 | 0.3333333 | 0.6000000 | 0.4000000 | 0.3333333 | 0.7500000 | 0.2500000 | 0.2500000 | 0.2500000 | 0.2500000 | 0.2500000 | 0.6000000 | 0.5000000 | 0.5000000 |        NA | \n",
       "\n",
       "\n"
      ],
      "text/plain": [
       "                       Boston Celtics Philadelphia 76ers Toronto Raptors\n",
       "Boston Celtics                NA      0.6666667          0.5000000      \n",
       "Philadelphia 76ers     0.3333333             NA          0.3333333      \n",
       "Toronto Raptors        0.5000000      0.6666667                 NA      \n",
       "Detroit Pistons        0.3333333      0.3333333          0.8000000      \n",
       "Indiana Pacers         0.3333333      0.3333333          0.4000000      \n",
       "Milwaukee Bucks        0.6000000      0.6000000          0.6666667      \n",
       "Denver Nuggets         0.7500000      0.5000000          0.7500000      \n",
       "Oklahoma City          0.2500000      0.5000000          0.5000000      \n",
       "Portland Trail Blazers 0.7500000      0.7500000          0.5000000      \n",
       "Utah Jazz              0.7500000      0.2500000          0.2500000      \n",
       "Golden State Warriors  0.5000000      0.5000000          0.2500000      \n",
       "Los Angeles Clippers   0.7500000      0.2500000          0.2500000      \n",
       "Orlando Magic          0.8000000      0.5000000          0.5000000      \n",
       "Houston Rockets        0.7500000      0.5000000          0.7500000      \n",
       "San Antonio Spurs      0.7500000      0.5000000          0.5000000      \n",
       "Brooklyn Nets          0.5000000      0.5000000          0.3333333      \n",
       "                       Detroit Pistons Indiana Pacers Milwaukee Bucks\n",
       "Boston Celtics         0.6666667       0.6666667      0.4000000      \n",
       "Philadelphia 76ers     0.6666667       0.6666667      0.4000000      \n",
       "Toronto Raptors        0.2000000       0.6000000      0.3333333      \n",
       "Detroit Pistons               NA       0.3333333      0.1666667      \n",
       "Indiana Pacers         0.6666667              NA      0.3333333      \n",
       "Milwaukee Bucks        0.8333333       0.6666667             NA      \n",
       "Denver Nuggets         0.5000000       0.5000000      0.2500000      \n",
       "Oklahoma City          0.7500000       0.5000000      0.7500000      \n",
       "Portland Trail Blazers 0.5000000       0.7500000      0.5000000      \n",
       "Utah Jazz              0.7500000       0.2500000      0.5000000      \n",
       "Golden State Warriors  0.5000000       0.7500000      0.5000000      \n",
       "Los Angeles Clippers   0.5000000       0.5000000      0.5000000      \n",
       "Orlando Magic          0.3333333       0.6666667      0.4000000      \n",
       "Houston Rockets        0.5000000       0.7500000      0.2500000      \n",
       "San Antonio Spurs      0.7500000       0.5000000      0.5000000      \n",
       "Brooklyn Nets          0.6000000       0.4000000      0.3333333      \n",
       "                       Denver Nuggets Oklahoma City Portland Trail Blazers\n",
       "Boston Celtics         0.2500000      0.7500000     0.2500000             \n",
       "Philadelphia 76ers     0.5000000      0.5000000     0.2500000             \n",
       "Toronto Raptors        0.2500000      0.5000000     0.5000000             \n",
       "Detroit Pistons        0.5000000      0.2500000     0.5000000             \n",
       "Indiana Pacers         0.5000000      0.5000000     0.2500000             \n",
       "Milwaukee Bucks        0.7500000      0.2500000     0.5000000             \n",
       "Denver Nuggets                NA      0.8333333     0.6666667             \n",
       "Oklahoma City          0.1666667             NA     0.8333333             \n",
       "Portland Trail Blazers 0.3333333      0.1666667            NA             \n",
       "Utah Jazz              0.6666667      0.1666667     0.5000000             \n",
       "Golden State Warriors  0.6666667      0.6000000     0.5000000             \n",
       "Los Angeles Clippers   0.3333333      0.5000000     0.3333333             \n",
       "Orlando Magic          0.2500000      0.2500000     0.2500000             \n",
       "Houston Rockets        0.6666667      0.3333333     0.4000000             \n",
       "San Antonio Spurs      0.5000000      0.6000000     0.5000000             \n",
       "Brooklyn Nets          0.7500000      0.2500000     0.2500000             \n",
       "                       Utah Jazz Golden State Warriors Los Angeles Clippers\n",
       "Boston Celtics         0.2500000 0.5000000             0.2500000           \n",
       "Philadelphia 76ers     0.7500000 0.5000000             0.7500000           \n",
       "Toronto Raptors        0.7500000 0.7500000             0.7500000           \n",
       "Detroit Pistons        0.2500000 0.5000000             0.5000000           \n",
       "Indiana Pacers         0.7500000 0.2500000             0.5000000           \n",
       "Milwaukee Bucks        0.5000000 0.5000000             0.5000000           \n",
       "Denver Nuggets         0.3333333 0.3333333             0.6666667           \n",
       "Oklahoma City          0.8333333 0.4000000             0.5000000           \n",
       "Portland Trail Blazers 0.5000000 0.5000000             0.6666667           \n",
       "Utah Jazz                     NA 0.4000000             0.6000000           \n",
       "Golden State Warriors  0.6000000        NA             0.6666667           \n",
       "Los Angeles Clippers   0.4000000 0.3333333                    NA           \n",
       "Orlando Magic          0.5000000 0.5000000             0.2500000           \n",
       "Houston Rockets        0.5000000 0.6666667             0.4000000           \n",
       "San Antonio Spurs      0.4000000 0.6000000             0.5000000           \n",
       "Brooklyn Nets          0.2500000 0.2500000             0.2500000           \n",
       "                       Orlando Magic Houston Rockets San Antonio Spurs\n",
       "Boston Celtics         0.2000000     0.2500000       0.2500000        \n",
       "Philadelphia 76ers     0.5000000     0.5000000       0.5000000        \n",
       "Toronto Raptors        0.5000000     0.2500000       0.5000000        \n",
       "Detroit Pistons        0.6666667     0.5000000       0.2500000        \n",
       "Indiana Pacers         0.3333333     0.2500000       0.5000000        \n",
       "Milwaukee Bucks        0.6000000     0.7500000       0.5000000        \n",
       "Denver Nuggets         0.7500000     0.3333333       0.5000000        \n",
       "Oklahoma City          0.7500000     0.6666667       0.4000000        \n",
       "Portland Trail Blazers 0.7500000     0.6000000       0.5000000        \n",
       "Utah Jazz              0.5000000     0.5000000       0.6000000        \n",
       "Golden State Warriors  0.5000000     0.3333333       0.4000000        \n",
       "Los Angeles Clippers   0.7500000     0.6000000       0.5000000        \n",
       "Orlando Magic                 NA     0.5000000       0.5000000        \n",
       "Houston Rockets        0.5000000            NA       0.6666667        \n",
       "San Antonio Spurs      0.5000000     0.3333333              NA        \n",
       "Brooklyn Nets          0.6000000     0.5000000       0.5000000        \n",
       "                       Brooklyn Nets\n",
       "Boston Celtics         0.5000000    \n",
       "Philadelphia 76ers     0.5000000    \n",
       "Toronto Raptors        0.6666667    \n",
       "Detroit Pistons        0.4000000    \n",
       "Indiana Pacers         0.6000000    \n",
       "Milwaukee Bucks        0.6666667    \n",
       "Denver Nuggets         0.2500000    \n",
       "Oklahoma City          0.7500000    \n",
       "Portland Trail Blazers 0.7500000    \n",
       "Utah Jazz              0.7500000    \n",
       "Golden State Warriors  0.7500000    \n",
       "Los Angeles Clippers   0.7500000    \n",
       "Orlando Magic          0.4000000    \n",
       "Houston Rockets        0.5000000    \n",
       "San Antonio Spurs      0.5000000    \n",
       "Brooklyn Nets                 NA    "
      ]
     },
     "metadata": {},
     "output_type": "display_data"
    }
   ],
   "source": [
    "Posterior_expectation<-post_exp(Win_matrix,Count_matrix,1,1)\n",
    "Posterior_expectation"
   ]
  },
  {
   "cell_type": "code",
   "execution_count": 36,
   "metadata": {},
   "outputs": [
    {
     "data": {
      "image/png": "[encoded data removed]",
      "text/plain": [
       "Plot with title \"Brooklyn Nets\""
      ]
     },
     "metadata": {},
     "output_type": "display_data"
    }
   ],
   "source": [
    "par(mfrow=c(4,4))\n",
    "for (i in 1:16){\n",
    "#    jpeg(plot_name)\n",
    "    barplot(Posterior_expectation[i,-i],main=TEAMS2[i] ,las=2,col=i,ylim=c(0,1))\n",
    "#    plot_name<-paste0('./analysis/plot',i)\n",
    "#    plot_name<-paste0(plot_name,'.jpg')\n",
    "\n",
    "#    dev.off() \n",
    "}"
   ]
  },
  {
   "cell_type": "markdown",
   "metadata": {},
   "source": [
    "- $\\alpha, \\beta$를 1로 두어 Uniform 사전 분포 사용 (많이 사용되는 하이퍼 파라미터)\n",
    "- 베이지안 사후 기대 확률(기대 승률)을 팀별로 분석\n",
    "- 사후 기대 승률은 과거 상대 전적 데이터가 주어졌을 때의 업데이트 된 승률을 계산\n",
    "- 모든 팀들이 상대 팀들을 이길 가능성이 존재하게 됨 (모두 0값이 아님)\n",
    "- 다른 팀에 대해 극단적으로 이길 가능성이 줄어들음"
   ]
  },
  {
   "cell_type": "markdown",
   "metadata": {},
   "source": [
    "# 7. Monte Carlo Simulation"
   ]
  },
  {
   "cell_type": "code",
   "execution_count": 39,
   "metadata": {},
   "outputs": [
    {
     "data": {
      "image/png": "[encoded data removed]",
      "text/plain": [
       "Plot with title \"\""
      ]
     },
     "metadata": {},
     "output_type": "display_data"
    }
   ],
   "source": [
    "#install.packages('imager',repo=\"https://cloud.r-project.org\")\n",
    "library(imager)\n",
    "im<-load.image(\"./NBA_playoff.png\")\n",
    "plot(im)"
   ]
  },
  {
   "cell_type": "markdown",
   "metadata": {},
   "source": [
    "출처 :https://www.nba.com/playoffs#/ <br>\n",
    "위 사진은 이미 16강이 진행된 대진표이지만 실제 분석에서는 경기가 하나도 진행 안 됐다고 가정"
   ]
  },
  {
   "cell_type": "markdown",
   "metadata": {},
   "source": [
    "Simulation 절차:\n",
    "1. 플레이오프 대진표 대로 경기를 하게 함\n",
    "2. 계산된 MLE 혹은 사후 기대확률을 통해 7번의 경기를 치루게함\n",
    "3. 7번 중 4회 이상 이긴 팀이 다음 라운드로 진출\n",
    "4. 위와 같은 절차를 10,000번 반복해 평균 우승 확률을 추정"
   ]
  },
  {
   "cell_type": "code",
   "execution_count": 40,
   "metadata": {},
   "outputs": [],
   "source": [
    "set.seed(0)\n",
    "\n",
    "finalwinner<-function(R,Posterior_expectation){\n",
    "    final <- numeric(R)\n",
    "    for (i in 1:R){\n",
    "\n",
    "\n",
    "\n",
    "    # Golden state defeats Clippers (11,12)\n",
    "    v11<-sample(c(1,0),7,replace=TRUE,prob=c(Posterior_expectation[11,12],1-Posterior_expectation[11,12]))\n",
    "    if (sum(v11)>=4){\n",
    "    w11 <- 11\n",
    "    } else{\n",
    "    w11 <- 12\n",
    "    }\n",
    "\n",
    "    # Houston defeats Utah (14,10)\n",
    "    v12<-sample(c(1,0),7,replace=TRUE,prob=c(Posterior_expectation[14,10],1-Posterior_expectation[14,10]))\n",
    "    if (sum(v12)>=4){\n",
    "    w12 <- 14\n",
    "    } else{\n",
    "    w12 <- 10\n",
    "    }\n",
    "\n",
    "\n",
    "    # Portland defeats Oklahoma (9,8)\n",
    "    v13<-sample(c(1,0),7,replace=TRUE,prob=c(Posterior_expectation[9,8],1-Posterior_expectation[9,8]))\n",
    "    if (sum(v13)>=4){\n",
    "    w13 <- 9\n",
    "    } else{\n",
    "    w13 <- 8\n",
    "    }\n",
    "\n",
    "    # Denver defeats San Antonio(7,15)\n",
    "    v14<-sample(c(1,0),7,replace=TRUE,prob=c(Posterior_expectation[7,15],1-Posterior_expectation[7,15]))\n",
    "    if (sum(v14)>=4){\n",
    "    w14 <- 7\n",
    "    } else{\n",
    "    w14 <- 15\n",
    "    }\n",
    "\n",
    "    # Milwaukee defeats Detroit (6,4)\n",
    "    v15<-sample(c(1,0),7,replace=TRUE,prob=c(Posterior_expectation[6,4],1-Posterior_expectation[6,4]))\n",
    "    if (sum(v15)>=4){\n",
    "    w15 <- 6\n",
    "    } else{\n",
    "    w15 <- 4\n",
    "    }\n",
    "\n",
    "    # Boston defeats Indiana(1,5)\n",
    "    v16<-sample(c(1,0),7,replace=TRUE,prob=c(Posterior_expectation[1,5],1-Posterior_expectation[1,5]))\n",
    "    if (sum(v16)>=4){\n",
    "    w16 <- 1\n",
    "    } else{\n",
    "    w16 <- 5\n",
    "    }\n",
    "\n",
    "\n",
    "\n",
    "    # Philadelphia defeats Brooklyn(2,16)\n",
    "    v17<-sample(c(1,0),7,replace=TRUE,prob=c(Posterior_expectation[2,16],1-Posterior_expectation[2,16]))\n",
    "    if (sum(v17)>=4){\n",
    "    w17 <- 2\n",
    "    } else{\n",
    "    w17 <- 16\n",
    "    }\n",
    "\n",
    "\n",
    "    # Torront defeats Orlando (3,13)\n",
    "    v18<-sample(c(1,0),7,replace=TRUE,prob=c(Posterior_expectation[3,13],1-Posterior_expectation[3,13]))\n",
    "    if (sum(v18)>=4){\n",
    "    w18 <- 3\n",
    "    } else{\n",
    "    w18 <- 13\n",
    "    }\n",
    "\n",
    "\n",
    "    ####8\n",
    "    v21<-sample(c(1,0),7,replace=TRUE,prob=c(Posterior_expectation[w11,w12],1-Posterior_expectation[w11,w12]))\n",
    "    if (sum(v21)>=4){\n",
    "    w21 <- w11\n",
    "    } else{\n",
    "    w21 <- w12\n",
    "    }\n",
    "\n",
    "    v22<-sample(c(1,0),7,replace=TRUE,prob=c(Posterior_expectation[w13,w14],1-Posterior_expectation[w13,w14]))\n",
    "    if (sum(v22)>=4){\n",
    "    w22 <- w13\n",
    "    } else{\n",
    "    w22 <- w14\n",
    "    }\n",
    "\n",
    "    v23<-sample(c(1,0),7,replace=TRUE,prob=c(Posterior_expectation[w15,w16],1-Posterior_expectation[w15,w16]))\n",
    "    if (sum(v23)>=4){\n",
    "    w23 <- w15\n",
    "    } else{\n",
    "    w23 <- w16\n",
    "    }\n",
    "\n",
    "    v24<-sample(c(1,0),7,replace=TRUE,prob=c(Posterior_expectation[w11,w12],1-Posterior_expectation[w11,w12]))\n",
    "    if (sum(v24)>=4){\n",
    "    w24 <- w17\n",
    "    } else{\n",
    "    w24 <- w18\n",
    "    }\n",
    "\n",
    "\n",
    "    #######semi-final\n",
    "\n",
    "    v31<-sample(c(1,0),7,replace=TRUE,prob=c(Posterior_expectation[w21,w22],1-Posterior_expectation[w21,w22]))\n",
    "    if (sum(v31)>=4){\n",
    "    w31 <- w21\n",
    "    } else{\n",
    "    w31 <- w22\n",
    "    }\n",
    "\n",
    "    v32<-sample(c(1,0),7,replace=TRUE,prob=c(Posterior_expectation[w23,w24],1-Posterior_expectation[w23,w24]))\n",
    "    if (sum(v32)>=4){\n",
    "    w32 <- w23\n",
    "    } else{\n",
    "    w32 <- w24\n",
    "    }\n",
    "\n",
    "    #######Final\n",
    "\n",
    "\n",
    "    v41<-sample(c(1,0),7,replace=TRUE,prob=c(Posterior_expectation[w31,w32],1-Posterior_expectation[w31,w32]))\n",
    "    if (sum(v41)>=4){\n",
    "    final[i] <- w31\n",
    "    } else{\n",
    "    final[i] <- w32\n",
    "    }\n",
    "    \n",
    "    }#end of for loop    \n",
    "    out <- data.frame(mean(final==1),mean(final==2),mean(final==3),mean(final==4),mean(final==5),mean(final==6),mean(final==7),mean(final==8),mean(final==9),mean(final==10),mean(final==11),mean(final==12),mean(final==13),mean(final==14),mean(final==15),mean(final==16))\n",
    "    colnames(out) <- TEAMS2\n",
    "        return(out)\n",
    "}"
   ]
  },
  {
   "cell_type": "markdown",
   "metadata": {},
   "source": [
    "<b>MLE</b>"
   ]
  },
  {
   "cell_type": "code",
   "execution_count": 41,
   "metadata": {},
   "outputs": [
    {
     "data": {
      "text/html": [
       "<table>\n",
       "<thead><tr><th scope=col>Boston Celtics</th><th scope=col>Philadelphia 76ers</th><th scope=col>Toronto Raptors</th><th scope=col>Detroit Pistons</th><th scope=col>Indiana Pacers</th><th scope=col>Milwaukee Bucks</th><th scope=col>Denver Nuggets</th><th scope=col>Oklahoma City</th><th scope=col>Portland Trail Blazers</th><th scope=col>Utah Jazz</th><th scope=col>Golden State Warriors</th><th scope=col>Los Angeles Clippers</th><th scope=col>Orlando Magic</th><th scope=col>Houston Rockets</th><th scope=col>San Antonio Spurs</th><th scope=col>Brooklyn Nets</th></tr></thead>\n",
       "<tbody>\n",
       "\t<tr><td>0.0151</td><td>0.0249</td><td>0.0098</td><td>0     </td><td>3e-04 </td><td>0.5069</td><td>0.0102</td><td>0.0466</td><td>0     </td><td>0.047 </td><td>0.1245</td><td>0.0055</td><td>0.0362</td><td>0.0713</td><td>0.0943</td><td>0.0074</td></tr>\n",
       "</tbody>\n",
       "</table>\n"
      ],
      "text/latex": [
       "\\begin{tabular}{r|llllllllllllllll}\n",
       " Boston Celtics & Philadelphia 76ers & Toronto Raptors & Detroit Pistons & Indiana Pacers & Milwaukee Bucks & Denver Nuggets & Oklahoma City & Portland Trail Blazers & Utah Jazz & Golden State Warriors & Los Angeles Clippers & Orlando Magic & Houston Rockets & San Antonio Spurs & Brooklyn Nets\\\\\n",
       "\\hline\n",
       "\t 0.0151 & 0.0249 & 0.0098 & 0      & 3e-04  & 0.5069 & 0.0102 & 0.0466 & 0      & 0.047  & 0.1245 & 0.0055 & 0.0362 & 0.0713 & 0.0943 & 0.0074\\\\\n",
       "\\end{tabular}\n"
      ],
      "text/markdown": [
       "\n",
       "Boston Celtics | Philadelphia 76ers | Toronto Raptors | Detroit Pistons | Indiana Pacers | Milwaukee Bucks | Denver Nuggets | Oklahoma City | Portland Trail Blazers | Utah Jazz | Golden State Warriors | Los Angeles Clippers | Orlando Magic | Houston Rockets | San Antonio Spurs | Brooklyn Nets | \n",
       "|---|\n",
       "| 0.0151 | 0.0249 | 0.0098 | 0      | 3e-04  | 0.5069 | 0.0102 | 0.0466 | 0      | 0.047  | 0.1245 | 0.0055 | 0.0362 | 0.0713 | 0.0943 | 0.0074 | \n",
       "\n",
       "\n"
      ],
      "text/plain": [
       "  Boston Celtics Philadelphia 76ers Toronto Raptors Detroit Pistons\n",
       "1 0.0151         0.0249             0.0098          0              \n",
       "  Indiana Pacers Milwaukee Bucks Denver Nuggets Oklahoma City\n",
       "1 3e-04          0.5069          0.0102         0.0466       \n",
       "  Portland Trail Blazers Utah Jazz Golden State Warriors Los Angeles Clippers\n",
       "1 0                      0.047     0.1245                0.0055              \n",
       "  Orlando Magic Houston Rockets San Antonio Spurs Brooklyn Nets\n",
       "1 0.0362        0.0713          0.0943            0.0074       "
      ]
     },
     "metadata": {},
     "output_type": "display_data"
    }
   ],
   "source": [
    "Frequentist<-finalwinner(10000,Mean_matrix)\n",
    "Frequentist"
   ]
  },
  {
   "cell_type": "code",
   "execution_count": 42,
   "metadata": {},
   "outputs": [
    {
     "data": {
      "image/png": "[encoded data removed]",
      "text/plain": [
       "plot without title"
      ]
     },
     "metadata": {},
     "output_type": "display_data"
    }
   ],
   "source": [
    "###MLE\n",
    "\n",
    "par(mfrow=c(2,2))\n",
    "barplot(as.matrix(Frequentist[1,]),las=2 ,col=2,ylim=c(0,1))"
   ]
  },
  {
   "cell_type": "markdown",
   "metadata": {},
   "source": [
    "- 10,000번 중 Milwaukee가 5,000번을 넘게 우승\n",
    "- 다른 팀들의 우승 횟수가 전반적으로 너무 낮아 비현실적 (2등인 Golden state가 1,300번)\n",
    "- Detroit, Indiana, Oklahoma, Portland, Brooklyn은 거의 0%"
   ]
  },
  {
   "cell_type": "markdown",
   "metadata": {},
   "source": [
    "<b>Bayesian with Independence Sampler vs Conjugacy</b>"
   ]
  },
  {
   "cell_type": "markdown",
   "metadata": {},
   "source": [
    "Independence Sampler를 이용해서 추정된 확률과 Conjugacy를 이용해 바로 계산한 결과를 비교<br>\n",
    "Conjugacy를 이용한 결과가 더 정확한 계산이지만 Independence Sampler를 이용하면 더 많은 randomness가 반영될 수 있음"
   ]
  },
  {
   "cell_type": "code",
   "execution_count": 46,
   "metadata": {},
   "outputs": [
    {
     "data": {
      "text/html": [
       "<table>\n",
       "<thead><tr><th scope=col>Boston Celtics</th><th scope=col>Philadelphia 76ers</th><th scope=col>Toronto Raptors</th><th scope=col>Detroit Pistons</th><th scope=col>Indiana Pacers</th><th scope=col>Milwaukee Bucks</th><th scope=col>Denver Nuggets</th><th scope=col>Oklahoma City</th><th scope=col>Portland Trail Blazers</th><th scope=col>Utah Jazz</th><th scope=col>Golden State Warriors</th><th scope=col>Los Angeles Clippers</th><th scope=col>Orlando Magic</th><th scope=col>Houston Rockets</th><th scope=col>San Antonio Spurs</th><th scope=col>Brooklyn Nets</th></tr></thead>\n",
       "<tbody>\n",
       "\t<tr><td>0.1343</td><td>0.0626</td><td>0.0685</td><td>0.0113</td><td>0.0142</td><td>0.1579</td><td>0.1143</td><td>0.0694</td><td>0.0156</td><td>0.0752</td><td>0.1088</td><td>0.0121</td><td>0.0373</td><td>0.0562</td><td>0.0415</td><td>0.0208</td></tr>\n",
       "</tbody>\n",
       "</table>\n"
      ],
      "text/latex": [
       "\\begin{tabular}{r|llllllllllllllll}\n",
       " Boston Celtics & Philadelphia 76ers & Toronto Raptors & Detroit Pistons & Indiana Pacers & Milwaukee Bucks & Denver Nuggets & Oklahoma City & Portland Trail Blazers & Utah Jazz & Golden State Warriors & Los Angeles Clippers & Orlando Magic & Houston Rockets & San Antonio Spurs & Brooklyn Nets\\\\\n",
       "\\hline\n",
       "\t 0.1343 & 0.0626 & 0.0685 & 0.0113 & 0.0142 & 0.1579 & 0.1143 & 0.0694 & 0.0156 & 0.0752 & 0.1088 & 0.0121 & 0.0373 & 0.0562 & 0.0415 & 0.0208\\\\\n",
       "\\end{tabular}\n"
      ],
      "text/markdown": [
       "\n",
       "Boston Celtics | Philadelphia 76ers | Toronto Raptors | Detroit Pistons | Indiana Pacers | Milwaukee Bucks | Denver Nuggets | Oklahoma City | Portland Trail Blazers | Utah Jazz | Golden State Warriors | Los Angeles Clippers | Orlando Magic | Houston Rockets | San Antonio Spurs | Brooklyn Nets | \n",
       "|---|\n",
       "| 0.1343 | 0.0626 | 0.0685 | 0.0113 | 0.0142 | 0.1579 | 0.1143 | 0.0694 | 0.0156 | 0.0752 | 0.1088 | 0.0121 | 0.0373 | 0.0562 | 0.0415 | 0.0208 | \n",
       "\n",
       "\n"
      ],
      "text/plain": [
       "  Boston Celtics Philadelphia 76ers Toronto Raptors Detroit Pistons\n",
       "1 0.1343         0.0626             0.0685          0.0113         \n",
       "  Indiana Pacers Milwaukee Bucks Denver Nuggets Oklahoma City\n",
       "1 0.0142         0.1579          0.1143         0.0694       \n",
       "  Portland Trail Blazers Utah Jazz Golden State Warriors Los Angeles Clippers\n",
       "1 0.0156                 0.0752    0.1088                0.0121              \n",
       "  Orlando Magic Houston Rockets San Antonio Spurs Brooklyn Nets\n",
       "1 0.0373        0.0562          0.0415            0.0208       "
      ]
     },
     "metadata": {},
     "output_type": "display_data"
    }
   ],
   "source": [
    "Bayes_sim<-finalwinner(10000,Sim_matrix2)\n",
    "Bayes_sim"
   ]
  },
  {
   "cell_type": "code",
   "execution_count": 47,
   "metadata": {},
   "outputs": [
    {
     "data": {
      "text/html": [
       "<table>\n",
       "<thead><tr><th scope=col>Boston Celtics</th><th scope=col>Philadelphia 76ers</th><th scope=col>Toronto Raptors</th><th scope=col>Detroit Pistons</th><th scope=col>Indiana Pacers</th><th scope=col>Milwaukee Bucks</th><th scope=col>Denver Nuggets</th><th scope=col>Oklahoma City</th><th scope=col>Portland Trail Blazers</th><th scope=col>Utah Jazz</th><th scope=col>Golden State Warriors</th><th scope=col>Los Angeles Clippers</th><th scope=col>Orlando Magic</th><th scope=col>Houston Rockets</th><th scope=col>San Antonio Spurs</th><th scope=col>Brooklyn Nets</th></tr></thead>\n",
       "<tbody>\n",
       "\t<tr><td>0.0278</td><td>0.0374</td><td>0.0318</td><td>8e-04 </td><td>0.0028</td><td>0.3383</td><td>0.0411</td><td>0.0777</td><td>0.0019</td><td>0.0612</td><td>0.1175</td><td>0.0172</td><td>0.0552</td><td>0.0932</td><td>0.0793</td><td>0.0168</td></tr>\n",
       "</tbody>\n",
       "</table>\n"
      ],
      "text/latex": [
       "\\begin{tabular}{r|llllllllllllllll}\n",
       " Boston Celtics & Philadelphia 76ers & Toronto Raptors & Detroit Pistons & Indiana Pacers & Milwaukee Bucks & Denver Nuggets & Oklahoma City & Portland Trail Blazers & Utah Jazz & Golden State Warriors & Los Angeles Clippers & Orlando Magic & Houston Rockets & San Antonio Spurs & Brooklyn Nets\\\\\n",
       "\\hline\n",
       "\t 0.0278 & 0.0374 & 0.0318 & 8e-04  & 0.0028 & 0.3383 & 0.0411 & 0.0777 & 0.0019 & 0.0612 & 0.1175 & 0.0172 & 0.0552 & 0.0932 & 0.0793 & 0.0168\\\\\n",
       "\\end{tabular}\n"
      ],
      "text/markdown": [
       "\n",
       "Boston Celtics | Philadelphia 76ers | Toronto Raptors | Detroit Pistons | Indiana Pacers | Milwaukee Bucks | Denver Nuggets | Oklahoma City | Portland Trail Blazers | Utah Jazz | Golden State Warriors | Los Angeles Clippers | Orlando Magic | Houston Rockets | San Antonio Spurs | Brooklyn Nets | \n",
       "|---|\n",
       "| 0.0278 | 0.0374 | 0.0318 | 8e-04  | 0.0028 | 0.3383 | 0.0411 | 0.0777 | 0.0019 | 0.0612 | 0.1175 | 0.0172 | 0.0552 | 0.0932 | 0.0793 | 0.0168 | \n",
       "\n",
       "\n"
      ],
      "text/plain": [
       "  Boston Celtics Philadelphia 76ers Toronto Raptors Detroit Pistons\n",
       "1 0.0278         0.0374             0.0318          8e-04          \n",
       "  Indiana Pacers Milwaukee Bucks Denver Nuggets Oklahoma City\n",
       "1 0.0028         0.3383          0.0411         0.0777       \n",
       "  Portland Trail Blazers Utah Jazz Golden State Warriors Los Angeles Clippers\n",
       "1 0.0019                 0.0612    0.1175                0.0172              \n",
       "  Orlando Magic Houston Rockets San Antonio Spurs Brooklyn Nets\n",
       "1 0.0552        0.0932          0.0793            0.0168       "
      ]
     },
     "metadata": {},
     "output_type": "display_data"
    }
   ],
   "source": [
    "### Bayesian\n",
    "Bayesian<-finalwinner(10000,Posterior_expectation)\n",
    "Bayesian"
   ]
  },
  {
   "cell_type": "code",
   "execution_count": 48,
   "metadata": {},
   "outputs": [
    {
     "data": {
      "image/png": "[encoded data removed]",
      "text/plain": [
       "plot without title"
      ]
     },
     "metadata": {},
     "output_type": "display_data"
    }
   ],
   "source": [
    "par(mfrow=c(2,2))\n",
    "barplot(as.matrix(Bayesian[1,]),las=2,ylim=c(0,1))\n",
    "barplot(as.matrix(Bayes_sim[1,]),las=2,ylim=c(0,1),col=1)"
   ]
  },
  {
   "cell_type": "markdown",
   "metadata": {},
   "source": [
    "Conjugacy 이용했을 때 (왼쪽 그림 )\n",
    "- Milwaukee의 우승 확률이 34.6%로 하향 조정, 2위 Golden State도 하향 됨\n",
    "- Toronto, Houston 등의 우승 확률 소폭 증가\n",
    "- 전체적인 우승 예측 경향이 MLE 방식과 큰 차이가 있지는 않음\n",
    "- Detroit의 우승 확률은 여전히 0"
   ]
  },
  {
   "cell_type": "markdown",
   "metadata": {},
   "source": [
    "Independency 이용했을 때 (오른쪽 그림 )\n",
    "- Independence sampler로 sampling 한 후 시뮬레이션 했을 때 왼쪽과 같이 Boston, Golden State, Denver, Utah의 우승 확률이 높아짐"
   ]
  },
  {
   "cell_type": "markdown",
   "metadata": {},
   "source": [
    "# <b>8. 하이퍼 파리미터 조절</b>"
   ]
  },
  {
   "cell_type": "markdown",
   "metadata": {},
   "source": [
    "Bayesian Poseterior Mean<br>\n",
    "$E[p_{i,j}|Y_{i,j}]=\\frac{y_{i,j}+\\alpha}{n_{i,j}+\\alpha+\\beta} $<br>\n",
    "$=\\frac{n_{i,j}y_{i,j}}{n_{i,j}(n_{i,j}+\\alpha+\\beta)}+\\frac{(\\alpha+\\beta)\\alpha}{(\\alpha+\\beta)(n_{i,j}+\\alpha+\\beta) } $<br>\n",
    "$=\\frac{n_{i,j}} {n_{i,j}+\\alpha+\\beta}\\hat{y}_{MLE}+\\frac{\\alpha+\\beta}{n_{i,j}+\\alpha+\\beta}E[p] $"
   ]
  },
  {
   "cell_type": "markdown",
   "metadata": {},
   "source": [
    "$(\\alpha +\\beta)$를 감소 시킬 수록 MLE에 가까워지고 증가시킬수록 prior mean에 가까워짐<br>\n",
    "$\\alpha, \\beta$의 값에 따라 beta 분포의 모양이 달라지기 때문에 어떤 값을 설정하느냐가 중요"
   ]
  },
  {
   "cell_type": "code",
   "execution_count": 49,
   "metadata": {},
   "outputs": [],
   "source": [
    "Posterior_expectation2<-post_exp(Win_matrix,Count_matrix,0.5,0.5) #Non informative\n",
    "Posterior_expectation3<-post_exp(Win_matrix,Count_matrix,3,3) # stronger uniform prior\n",
    "Posterior_expectation4<-post_exp(Win_matrix,Count_matrix,100,1) #biased for winning\n",
    "Posterior_expectation5<-post_exp(Win_matrix,Count_matrix,1,100) #biased for losing\n",
    "Posterior_expectation6<-post_exp(Win_matrix,Count_matrix,0.01,0.01) #unfair coin"
   ]
  },
  {
   "cell_type": "markdown",
   "metadata": {},
   "source": [
    "출처: https://www.cs.ubc.ca/labs/lci/mlrg/slides/Conjugate.pdf"
   ]
  },
  {
   "cell_type": "code",
   "execution_count": 50,
   "metadata": {},
   "outputs": [],
   "source": [
    "Bayesian2<-finalwinner(10000,Posterior_expectation2)\n",
    "Bayesian3<-finalwinner(10000,Posterior_expectation3)\n",
    "Bayesian4<-finalwinner(10000,Posterior_expectation4)\n",
    "Bayesian5<-finalwinner(10000,Posterior_expectation5)\n",
    "Bayesian6<-finalwinner(10000,Posterior_expectation6)\n"
   ]
  },
  {
   "cell_type": "code",
   "execution_count": 51,
   "metadata": {},
   "outputs": [
    {
     "data": {
      "text/html": [
       "<table>\n",
       "<thead><tr><th scope=col>Boston Celtics</th><th scope=col>Philadelphia 76ers</th><th scope=col>Toronto Raptors</th><th scope=col>Detroit Pistons</th><th scope=col>Indiana Pacers</th><th scope=col>Milwaukee Bucks</th><th scope=col>Denver Nuggets</th><th scope=col>Oklahoma City</th><th scope=col>Portland Trail Blazers</th><th scope=col>Utah Jazz</th><th scope=col>Golden State Warriors</th><th scope=col>Los Angeles Clippers</th><th scope=col>Orlando Magic</th><th scope=col>Houston Rockets</th><th scope=col>San Antonio Spurs</th><th scope=col>Brooklyn Nets</th></tr></thead>\n",
       "<tbody>\n",
       "\t<tr><td>0.0278</td><td>0.0374</td><td>0.0318</td><td>8e-04 </td><td>0.0028</td><td>0.3383</td><td>0.0411</td><td>0.0777</td><td>0.0019</td><td>0.0612</td><td>0.1175</td><td>0.0172</td><td>0.0552</td><td>0.0932</td><td>0.0793</td><td>0.0168</td></tr>\n",
       "</tbody>\n",
       "</table>\n"
      ],
      "text/latex": [
       "\\begin{tabular}{r|llllllllllllllll}\n",
       " Boston Celtics & Philadelphia 76ers & Toronto Raptors & Detroit Pistons & Indiana Pacers & Milwaukee Bucks & Denver Nuggets & Oklahoma City & Portland Trail Blazers & Utah Jazz & Golden State Warriors & Los Angeles Clippers & Orlando Magic & Houston Rockets & San Antonio Spurs & Brooklyn Nets\\\\\n",
       "\\hline\n",
       "\t 0.0278 & 0.0374 & 0.0318 & 8e-04  & 0.0028 & 0.3383 & 0.0411 & 0.0777 & 0.0019 & 0.0612 & 0.1175 & 0.0172 & 0.0552 & 0.0932 & 0.0793 & 0.0168\\\\\n",
       "\\end{tabular}\n"
      ],
      "text/markdown": [
       "\n",
       "Boston Celtics | Philadelphia 76ers | Toronto Raptors | Detroit Pistons | Indiana Pacers | Milwaukee Bucks | Denver Nuggets | Oklahoma City | Portland Trail Blazers | Utah Jazz | Golden State Warriors | Los Angeles Clippers | Orlando Magic | Houston Rockets | San Antonio Spurs | Brooklyn Nets | \n",
       "|---|\n",
       "| 0.0278 | 0.0374 | 0.0318 | 8e-04  | 0.0028 | 0.3383 | 0.0411 | 0.0777 | 0.0019 | 0.0612 | 0.1175 | 0.0172 | 0.0552 | 0.0932 | 0.0793 | 0.0168 | \n",
       "\n",
       "\n"
      ],
      "text/plain": [
       "  Boston Celtics Philadelphia 76ers Toronto Raptors Detroit Pistons\n",
       "1 0.0278         0.0374             0.0318          8e-04          \n",
       "  Indiana Pacers Milwaukee Bucks Denver Nuggets Oklahoma City\n",
       "1 0.0028         0.3383          0.0411         0.0777       \n",
       "  Portland Trail Blazers Utah Jazz Golden State Warriors Los Angeles Clippers\n",
       "1 0.0019                 0.0612    0.1175                0.0172              \n",
       "  Orlando Magic Houston Rockets San Antonio Spurs Brooklyn Nets\n",
       "1 0.0552        0.0932          0.0793            0.0168       "
      ]
     },
     "metadata": {},
     "output_type": "display_data"
    },
    {
     "data": {
      "text/html": [
       "<table>\n",
       "<thead><tr><th scope=col>Boston Celtics</th><th scope=col>Philadelphia 76ers</th><th scope=col>Toronto Raptors</th><th scope=col>Detroit Pistons</th><th scope=col>Indiana Pacers</th><th scope=col>Milwaukee Bucks</th><th scope=col>Denver Nuggets</th><th scope=col>Oklahoma City</th><th scope=col>Portland Trail Blazers</th><th scope=col>Utah Jazz</th><th scope=col>Golden State Warriors</th><th scope=col>Los Angeles Clippers</th><th scope=col>Orlando Magic</th><th scope=col>Houston Rockets</th><th scope=col>San Antonio Spurs</th><th scope=col>Brooklyn Nets</th></tr></thead>\n",
       "<tbody>\n",
       "\t<tr><td>0.0218</td><td>0.0296</td><td>0.0212</td><td>0     </td><td>0.0023</td><td>0.4113</td><td>0.025 </td><td>0.065 </td><td>3e-04 </td><td>0.0565</td><td>0.124 </td><td>0.011 </td><td>0.0462</td><td>0.086 </td><td>0.0873</td><td>0.0125</td></tr>\n",
       "</tbody>\n",
       "</table>\n"
      ],
      "text/latex": [
       "\\begin{tabular}{r|llllllllllllllll}\n",
       " Boston Celtics & Philadelphia 76ers & Toronto Raptors & Detroit Pistons & Indiana Pacers & Milwaukee Bucks & Denver Nuggets & Oklahoma City & Portland Trail Blazers & Utah Jazz & Golden State Warriors & Los Angeles Clippers & Orlando Magic & Houston Rockets & San Antonio Spurs & Brooklyn Nets\\\\\n",
       "\\hline\n",
       "\t 0.0218 & 0.0296 & 0.0212 & 0      & 0.0023 & 0.4113 & 0.025  & 0.065  & 3e-04  & 0.0565 & 0.124  & 0.011  & 0.0462 & 0.086  & 0.0873 & 0.0125\\\\\n",
       "\\end{tabular}\n"
      ],
      "text/markdown": [
       "\n",
       "Boston Celtics | Philadelphia 76ers | Toronto Raptors | Detroit Pistons | Indiana Pacers | Milwaukee Bucks | Denver Nuggets | Oklahoma City | Portland Trail Blazers | Utah Jazz | Golden State Warriors | Los Angeles Clippers | Orlando Magic | Houston Rockets | San Antonio Spurs | Brooklyn Nets | \n",
       "|---|\n",
       "| 0.0218 | 0.0296 | 0.0212 | 0      | 0.0023 | 0.4113 | 0.025  | 0.065  | 3e-04  | 0.0565 | 0.124  | 0.011  | 0.0462 | 0.086  | 0.0873 | 0.0125 | \n",
       "\n",
       "\n"
      ],
      "text/plain": [
       "  Boston Celtics Philadelphia 76ers Toronto Raptors Detroit Pistons\n",
       "1 0.0218         0.0296             0.0212          0              \n",
       "  Indiana Pacers Milwaukee Bucks Denver Nuggets Oklahoma City\n",
       "1 0.0023         0.4113          0.025          0.065        \n",
       "  Portland Trail Blazers Utah Jazz Golden State Warriors Los Angeles Clippers\n",
       "1 3e-04                  0.0565    0.124                 0.011               \n",
       "  Orlando Magic Houston Rockets San Antonio Spurs Brooklyn Nets\n",
       "1 0.0462        0.086           0.0873            0.0125       "
      ]
     },
     "metadata": {},
     "output_type": "display_data"
    },
    {
     "data": {
      "text/html": [
       "<table>\n",
       "<thead><tr><th scope=col>Boston Celtics</th><th scope=col>Philadelphia 76ers</th><th scope=col>Toronto Raptors</th><th scope=col>Detroit Pistons</th><th scope=col>Indiana Pacers</th><th scope=col>Milwaukee Bucks</th><th scope=col>Denver Nuggets</th><th scope=col>Oklahoma City</th><th scope=col>Portland Trail Blazers</th><th scope=col>Utah Jazz</th><th scope=col>Golden State Warriors</th><th scope=col>Los Angeles Clippers</th><th scope=col>Orlando Magic</th><th scope=col>Houston Rockets</th><th scope=col>San Antonio Spurs</th><th scope=col>Brooklyn Nets</th></tr></thead>\n",
       "<tbody>\n",
       "\t<tr><td>0.0494</td><td>0.0503</td><td>0.0496</td><td>0.0085</td><td>0.0167</td><td>0.2057</td><td>0.0706</td><td>0.0859</td><td>0.0188</td><td>0.0654</td><td>0.0971</td><td>0.0287</td><td>0.0596</td><td>0.087 </td><td>0.0712</td><td>0.0355</td></tr>\n",
       "</tbody>\n",
       "</table>\n"
      ],
      "text/latex": [
       "\\begin{tabular}{r|llllllllllllllll}\n",
       " Boston Celtics & Philadelphia 76ers & Toronto Raptors & Detroit Pistons & Indiana Pacers & Milwaukee Bucks & Denver Nuggets & Oklahoma City & Portland Trail Blazers & Utah Jazz & Golden State Warriors & Los Angeles Clippers & Orlando Magic & Houston Rockets & San Antonio Spurs & Brooklyn Nets\\\\\n",
       "\\hline\n",
       "\t 0.0494 & 0.0503 & 0.0496 & 0.0085 & 0.0167 & 0.2057 & 0.0706 & 0.0859 & 0.0188 & 0.0654 & 0.0971 & 0.0287 & 0.0596 & 0.087  & 0.0712 & 0.0355\\\\\n",
       "\\end{tabular}\n"
      ],
      "text/markdown": [
       "\n",
       "Boston Celtics | Philadelphia 76ers | Toronto Raptors | Detroit Pistons | Indiana Pacers | Milwaukee Bucks | Denver Nuggets | Oklahoma City | Portland Trail Blazers | Utah Jazz | Golden State Warriors | Los Angeles Clippers | Orlando Magic | Houston Rockets | San Antonio Spurs | Brooklyn Nets | \n",
       "|---|\n",
       "| 0.0494 | 0.0503 | 0.0496 | 0.0085 | 0.0167 | 0.2057 | 0.0706 | 0.0859 | 0.0188 | 0.0654 | 0.0971 | 0.0287 | 0.0596 | 0.087  | 0.0712 | 0.0355 | \n",
       "\n",
       "\n"
      ],
      "text/plain": [
       "  Boston Celtics Philadelphia 76ers Toronto Raptors Detroit Pistons\n",
       "1 0.0494         0.0503             0.0496          0.0085         \n",
       "  Indiana Pacers Milwaukee Bucks Denver Nuggets Oklahoma City\n",
       "1 0.0167         0.2057          0.0706         0.0859       \n",
       "  Portland Trail Blazers Utah Jazz Golden State Warriors Los Angeles Clippers\n",
       "1 0.0188                 0.0654    0.0971                0.0287              \n",
       "  Orlando Magic Houston Rockets San Antonio Spurs Brooklyn Nets\n",
       "1 0.0596        0.087           0.0712            0.0355       "
      ]
     },
     "metadata": {},
     "output_type": "display_data"
    },
    {
     "data": {
      "text/html": [
       "<table>\n",
       "<thead><tr><th scope=col>Boston Celtics</th><th scope=col>Philadelphia 76ers</th><th scope=col>Toronto Raptors</th><th scope=col>Detroit Pistons</th><th scope=col>Indiana Pacers</th><th scope=col>Milwaukee Bucks</th><th scope=col>Denver Nuggets</th><th scope=col>Oklahoma City</th><th scope=col>Portland Trail Blazers</th><th scope=col>Utah Jazz</th><th scope=col>Golden State Warriors</th><th scope=col>Los Angeles Clippers</th><th scope=col>Orlando Magic</th><th scope=col>Houston Rockets</th><th scope=col>San Antonio Spurs</th><th scope=col>Brooklyn Nets</th></tr></thead>\n",
       "<tbody>\n",
       "\t<tr><td>0</td><td>0</td><td>0</td><td>0</td><td>0</td><td>0</td><td>0</td><td>0</td><td>0</td><td>0</td><td>1</td><td>0</td><td>0</td><td>0</td><td>0</td><td>0</td></tr>\n",
       "</tbody>\n",
       "</table>\n"
      ],
      "text/latex": [
       "\\begin{tabular}{r|llllllllllllllll}\n",
       " Boston Celtics & Philadelphia 76ers & Toronto Raptors & Detroit Pistons & Indiana Pacers & Milwaukee Bucks & Denver Nuggets & Oklahoma City & Portland Trail Blazers & Utah Jazz & Golden State Warriors & Los Angeles Clippers & Orlando Magic & Houston Rockets & San Antonio Spurs & Brooklyn Nets\\\\\n",
       "\\hline\n",
       "\t 0 & 0 & 0 & 0 & 0 & 0 & 0 & 0 & 0 & 0 & 1 & 0 & 0 & 0 & 0 & 0\\\\\n",
       "\\end{tabular}\n"
      ],
      "text/markdown": [
       "\n",
       "Boston Celtics | Philadelphia 76ers | Toronto Raptors | Detroit Pistons | Indiana Pacers | Milwaukee Bucks | Denver Nuggets | Oklahoma City | Portland Trail Blazers | Utah Jazz | Golden State Warriors | Los Angeles Clippers | Orlando Magic | Houston Rockets | San Antonio Spurs | Brooklyn Nets | \n",
       "|---|\n",
       "| 0 | 0 | 0 | 0 | 0 | 0 | 0 | 0 | 0 | 0 | 1 | 0 | 0 | 0 | 0 | 0 | \n",
       "\n",
       "\n"
      ],
      "text/plain": [
       "  Boston Celtics Philadelphia 76ers Toronto Raptors Detroit Pistons\n",
       "1 0              0                  0               0              \n",
       "  Indiana Pacers Milwaukee Bucks Denver Nuggets Oklahoma City\n",
       "1 0              0               0              0            \n",
       "  Portland Trail Blazers Utah Jazz Golden State Warriors Los Angeles Clippers\n",
       "1 0                      0         1                     0                   \n",
       "  Orlando Magic Houston Rockets San Antonio Spurs Brooklyn Nets\n",
       "1 0             0               0                 0            "
      ]
     },
     "metadata": {},
     "output_type": "display_data"
    },
    {
     "data": {
      "text/html": [
       "<table>\n",
       "<thead><tr><th scope=col>Boston Celtics</th><th scope=col>Philadelphia 76ers</th><th scope=col>Toronto Raptors</th><th scope=col>Detroit Pistons</th><th scope=col>Indiana Pacers</th><th scope=col>Milwaukee Bucks</th><th scope=col>Denver Nuggets</th><th scope=col>Oklahoma City</th><th scope=col>Portland Trail Blazers</th><th scope=col>Utah Jazz</th><th scope=col>Golden State Warriors</th><th scope=col>Los Angeles Clippers</th><th scope=col>Orlando Magic</th><th scope=col>Houston Rockets</th><th scope=col>San Antonio Spurs</th><th scope=col>Brooklyn Nets</th></tr></thead>\n",
       "<tbody>\n",
       "\t<tr><td>0</td><td>0</td><td>0</td><td>0</td><td>0</td><td>0</td><td>0</td><td>0</td><td>0</td><td>0</td><td>0</td><td>0</td><td>1</td><td>0</td><td>0</td><td>0</td></tr>\n",
       "</tbody>\n",
       "</table>\n"
      ],
      "text/latex": [
       "\\begin{tabular}{r|llllllllllllllll}\n",
       " Boston Celtics & Philadelphia 76ers & Toronto Raptors & Detroit Pistons & Indiana Pacers & Milwaukee Bucks & Denver Nuggets & Oklahoma City & Portland Trail Blazers & Utah Jazz & Golden State Warriors & Los Angeles Clippers & Orlando Magic & Houston Rockets & San Antonio Spurs & Brooklyn Nets\\\\\n",
       "\\hline\n",
       "\t 0 & 0 & 0 & 0 & 0 & 0 & 0 & 0 & 0 & 0 & 0 & 0 & 1 & 0 & 0 & 0\\\\\n",
       "\\end{tabular}\n"
      ],
      "text/markdown": [
       "\n",
       "Boston Celtics | Philadelphia 76ers | Toronto Raptors | Detroit Pistons | Indiana Pacers | Milwaukee Bucks | Denver Nuggets | Oklahoma City | Portland Trail Blazers | Utah Jazz | Golden State Warriors | Los Angeles Clippers | Orlando Magic | Houston Rockets | San Antonio Spurs | Brooklyn Nets | \n",
       "|---|\n",
       "| 0 | 0 | 0 | 0 | 0 | 0 | 0 | 0 | 0 | 0 | 0 | 0 | 1 | 0 | 0 | 0 | \n",
       "\n",
       "\n"
      ],
      "text/plain": [
       "  Boston Celtics Philadelphia 76ers Toronto Raptors Detroit Pistons\n",
       "1 0              0                  0               0              \n",
       "  Indiana Pacers Milwaukee Bucks Denver Nuggets Oklahoma City\n",
       "1 0              0               0              0            \n",
       "  Portland Trail Blazers Utah Jazz Golden State Warriors Los Angeles Clippers\n",
       "1 0                      0         0                     0                   \n",
       "  Orlando Magic Houston Rockets San Antonio Spurs Brooklyn Nets\n",
       "1 1             0               0                 0            "
      ]
     },
     "metadata": {},
     "output_type": "display_data"
    },
    {
     "data": {
      "text/html": [
       "<table>\n",
       "<thead><tr><th scope=col>Boston Celtics</th><th scope=col>Philadelphia 76ers</th><th scope=col>Toronto Raptors</th><th scope=col>Detroit Pistons</th><th scope=col>Indiana Pacers</th><th scope=col>Milwaukee Bucks</th><th scope=col>Denver Nuggets</th><th scope=col>Oklahoma City</th><th scope=col>Portland Trail Blazers</th><th scope=col>Utah Jazz</th><th scope=col>Golden State Warriors</th><th scope=col>Los Angeles Clippers</th><th scope=col>Orlando Magic</th><th scope=col>Houston Rockets</th><th scope=col>San Antonio Spurs</th><th scope=col>Brooklyn Nets</th></tr></thead>\n",
       "<tbody>\n",
       "\t<tr><td>0.0165</td><td>0.0238</td><td>0.0106</td><td>0     </td><td>2e-04 </td><td>0.4961</td><td>0.011 </td><td>0.0471</td><td>0     </td><td>0.0502</td><td>0.1303</td><td>0.0064</td><td>0.0358</td><td>0.0727</td><td>0.0927</td><td>0.0066</td></tr>\n",
       "</tbody>\n",
       "</table>\n"
      ],
      "text/latex": [
       "\\begin{tabular}{r|llllllllllllllll}\n",
       " Boston Celtics & Philadelphia 76ers & Toronto Raptors & Detroit Pistons & Indiana Pacers & Milwaukee Bucks & Denver Nuggets & Oklahoma City & Portland Trail Blazers & Utah Jazz & Golden State Warriors & Los Angeles Clippers & Orlando Magic & Houston Rockets & San Antonio Spurs & Brooklyn Nets\\\\\n",
       "\\hline\n",
       "\t 0.0165 & 0.0238 & 0.0106 & 0      & 2e-04  & 0.4961 & 0.011  & 0.0471 & 0      & 0.0502 & 0.1303 & 0.0064 & 0.0358 & 0.0727 & 0.0927 & 0.0066\\\\\n",
       "\\end{tabular}\n"
      ],
      "text/markdown": [
       "\n",
       "Boston Celtics | Philadelphia 76ers | Toronto Raptors | Detroit Pistons | Indiana Pacers | Milwaukee Bucks | Denver Nuggets | Oklahoma City | Portland Trail Blazers | Utah Jazz | Golden State Warriors | Los Angeles Clippers | Orlando Magic | Houston Rockets | San Antonio Spurs | Brooklyn Nets | \n",
       "|---|\n",
       "| 0.0165 | 0.0238 | 0.0106 | 0      | 2e-04  | 0.4961 | 0.011  | 0.0471 | 0      | 0.0502 | 0.1303 | 0.0064 | 0.0358 | 0.0727 | 0.0927 | 0.0066 | \n",
       "\n",
       "\n"
      ],
      "text/plain": [
       "  Boston Celtics Philadelphia 76ers Toronto Raptors Detroit Pistons\n",
       "1 0.0165         0.0238             0.0106          0              \n",
       "  Indiana Pacers Milwaukee Bucks Denver Nuggets Oklahoma City\n",
       "1 2e-04          0.4961          0.011          0.0471       \n",
       "  Portland Trail Blazers Utah Jazz Golden State Warriors Los Angeles Clippers\n",
       "1 0                      0.0502    0.1303                0.0064              \n",
       "  Orlando Magic Houston Rockets San Antonio Spurs Brooklyn Nets\n",
       "1 0.0358        0.0727          0.0927            0.0066       "
      ]
     },
     "metadata": {},
     "output_type": "display_data"
    }
   ],
   "source": [
    "Bayesian\n",
    "Bayesian2\n",
    "Bayesian3\n",
    "Bayesian4\n",
    "Bayesian5\n",
    "Bayesian6"
   ]
  },
  {
   "cell_type": "code",
   "execution_count": 52,
   "metadata": {},
   "outputs": [
    {
     "data": {
      "image/png": "[encoded data removed]",
      "text/plain": [
       "Plot with title \"alpha=0.5 beta=0.5\""
      ]
     },
     "metadata": {},
     "output_type": "display_data"
    }
   ],
   "source": [
    "par(mfrow=c(2,2))\n",
    "barplot(as.matrix(Bayesian[1,]),las=2,ylim=c(0,1), main='alpha=1 beta=1')\n",
    "barplot(as.matrix(Bayesian2[1,]),las=2,ylim=c(0,1),col=1, main='alpha=0.5 beta=0.5')\n"
   ]
  },
  {
   "cell_type": "code",
   "execution_count": 53,
   "metadata": {},
   "outputs": [
    {
     "data": {
      "image/png": "[encoded data removed]",
      "text/plain": [
       "Plot with title \"alpha=100 beta=1\""
      ]
     },
     "metadata": {},
     "output_type": "display_data"
    }
   ],
   "source": [
    "par(mfrow=c(2,2))\n",
    "barplot(as.matrix(Bayesian3[1,]),las=2,ylim=c(0,1),col=2, main='alpha=3 beta=3')\n",
    "barplot(as.matrix(Bayesian4[1,]),las=2,ylim=c(0,1),col=3, main='alpha=100 beta=1')\n"
   ]
  },
  {
   "cell_type": "code",
   "execution_count": 54,
   "metadata": {},
   "outputs": [
    {
     "data": {
      "image/png": "[encoded data removed]",
      "text/plain": [
       "Plot with title \"alpha=0.01 beta=0.01\""
      ]
     },
     "metadata": {},
     "output_type": "display_data"
    }
   ],
   "source": [
    "par(mfrow=c(2,2))\n",
    "barplot(as.matrix(Bayesian5[1,]),las=2,ylim=c(0,1),col=4, main='alpha=1 beta=100')\n",
    "barplot(as.matrix(Bayesian6[1,]),las=2,ylim=c(0,1),col=5, main='alpha=0.01 beta=0.01')"
   ]
  },
  {
   "cell_type": "code",
   "execution_count": 213,
   "metadata": {},
   "outputs": [
    {
     "data": {
      "image/png": "[encoded data removed]",
      "text/plain": [
       "Plot with title \"Brooklyn Nets\""
      ]
     },
     "metadata": {},
     "output_type": "display_data"
    }
   ],
   "source": [
    "par(mfrow=c(4,4))\n",
    "for (i in 1:16){\n",
    "\n",
    "    barplot(Posterior_expectation2[i,-i],main=TEAMS2[i] ,las=2,col=i,ylim=c(0,1))\n",
    "\n",
    "}"
   ]
  },
  {
   "cell_type": "code",
   "execution_count": 55,
   "metadata": {},
   "outputs": [],
   "source": [
    "Sim_matrix2=matrix(0,16,16)\n",
    "colnames(Sim_matrix2)=TEAMS2\n",
    "rownames(Sim_matrix2)=TEAMS2"
   ]
  },
  {
   "cell_type": "code",
   "execution_count": 56,
   "metadata": {},
   "outputs": [],
   "source": [
    "Sim_mean<-function(Sim_matrix,a,b){\n",
    "    for (i in 1:16){\n",
    "        for (j in 1:16){\n",
    "            if ( is.na(Count_matrix[i,j])==TRUE){\n",
    "                Sim_matrix[i,j]<-NA\n",
    "            }\n",
    "            else{\n",
    "                BB<-independence.sampler(Win_matrix[i,j],Count_matrix[i,j],a,b)\n",
    "                Sim_matrix[i,j]<-mean(BB[((m/2) +1):m])\n",
    "\n",
    "\n",
    "            }\n",
    "\n",
    "        }\n",
    "\n",
    "    }\n",
    "    return(Sim_matrix)\n",
    "}    "
   ]
  },
  {
   "cell_type": "code",
   "execution_count": 57,
   "metadata": {},
   "outputs": [],
   "source": [
    "a<-Sim_mean(Sim_matrix2,0.5,0.5)\n"
   ]
  },
  {
   "cell_type": "code",
   "execution_count": 61,
   "metadata": {},
   "outputs": [],
   "source": [
    "Bayes_sim2<-finalwinner(10000,a)"
   ]
  },
  {
   "cell_type": "code",
   "execution_count": 63,
   "metadata": {},
   "outputs": [
    {
     "data": {
      "text/html": [
       "<table>\n",
       "<thead><tr><th scope=col>Boston Celtics</th><th scope=col>Philadelphia 76ers</th><th scope=col>Toronto Raptors</th><th scope=col>Detroit Pistons</th><th scope=col>Indiana Pacers</th><th scope=col>Milwaukee Bucks</th><th scope=col>Denver Nuggets</th><th scope=col>Oklahoma City</th><th scope=col>Portland Trail Blazers</th><th scope=col>Utah Jazz</th><th scope=col>Golden State Warriors</th><th scope=col>Los Angeles Clippers</th><th scope=col>Orlando Magic</th><th scope=col>Houston Rockets</th><th scope=col>San Antonio Spurs</th><th scope=col>Brooklyn Nets</th></tr></thead>\n",
       "<tbody>\n",
       "\t<tr><td>0.1343</td><td>0.0626</td><td>0.0685</td><td>0.0113</td><td>0.0142</td><td>0.1579</td><td>0.1143</td><td>0.0694</td><td>0.0156</td><td>0.0752</td><td>0.1088</td><td>0.0121</td><td>0.0373</td><td>0.0562</td><td>0.0415</td><td>0.0208</td></tr>\n",
       "</tbody>\n",
       "</table>\n"
      ],
      "text/latex": [
       "\\begin{tabular}{r|llllllllllllllll}\n",
       " Boston Celtics & Philadelphia 76ers & Toronto Raptors & Detroit Pistons & Indiana Pacers & Milwaukee Bucks & Denver Nuggets & Oklahoma City & Portland Trail Blazers & Utah Jazz & Golden State Warriors & Los Angeles Clippers & Orlando Magic & Houston Rockets & San Antonio Spurs & Brooklyn Nets\\\\\n",
       "\\hline\n",
       "\t 0.1343 & 0.0626 & 0.0685 & 0.0113 & 0.0142 & 0.1579 & 0.1143 & 0.0694 & 0.0156 & 0.0752 & 0.1088 & 0.0121 & 0.0373 & 0.0562 & 0.0415 & 0.0208\\\\\n",
       "\\end{tabular}\n"
      ],
      "text/markdown": [
       "\n",
       "Boston Celtics | Philadelphia 76ers | Toronto Raptors | Detroit Pistons | Indiana Pacers | Milwaukee Bucks | Denver Nuggets | Oklahoma City | Portland Trail Blazers | Utah Jazz | Golden State Warriors | Los Angeles Clippers | Orlando Magic | Houston Rockets | San Antonio Spurs | Brooklyn Nets | \n",
       "|---|\n",
       "| 0.1343 | 0.0626 | 0.0685 | 0.0113 | 0.0142 | 0.1579 | 0.1143 | 0.0694 | 0.0156 | 0.0752 | 0.1088 | 0.0121 | 0.0373 | 0.0562 | 0.0415 | 0.0208 | \n",
       "\n",
       "\n"
      ],
      "text/plain": [
       "  Boston Celtics Philadelphia 76ers Toronto Raptors Detroit Pistons\n",
       "1 0.1343         0.0626             0.0685          0.0113         \n",
       "  Indiana Pacers Milwaukee Bucks Denver Nuggets Oklahoma City\n",
       "1 0.0142         0.1579          0.1143         0.0694       \n",
       "  Portland Trail Blazers Utah Jazz Golden State Warriors Los Angeles Clippers\n",
       "1 0.0156                 0.0752    0.1088                0.0121              \n",
       "  Orlando Magic Houston Rockets San Antonio Spurs Brooklyn Nets\n",
       "1 0.0373        0.0562          0.0415            0.0208       "
      ]
     },
     "metadata": {},
     "output_type": "display_data"
    },
    {
     "data": {
      "text/html": [
       "<table>\n",
       "<thead><tr><th scope=col>Boston Celtics</th><th scope=col>Philadelphia 76ers</th><th scope=col>Toronto Raptors</th><th scope=col>Detroit Pistons</th><th scope=col>Indiana Pacers</th><th scope=col>Milwaukee Bucks</th><th scope=col>Denver Nuggets</th><th scope=col>Oklahoma City</th><th scope=col>Portland Trail Blazers</th><th scope=col>Utah Jazz</th><th scope=col>Golden State Warriors</th><th scope=col>Los Angeles Clippers</th><th scope=col>Orlando Magic</th><th scope=col>Houston Rockets</th><th scope=col>San Antonio Spurs</th><th scope=col>Brooklyn Nets</th></tr></thead>\n",
       "<tbody>\n",
       "\t<tr><td>0.0579</td><td>0.0466</td><td>0.0325</td><td>0.0085</td><td>0.0048</td><td>0.2589</td><td>0.0559</td><td>0.0763</td><td>0.0255</td><td>0.0409</td><td>0.1618</td><td>0.0292</td><td>0.0271</td><td>0.1215</td><td>0.0386</td><td>0.014 </td></tr>\n",
       "</tbody>\n",
       "</table>\n"
      ],
      "text/latex": [
       "\\begin{tabular}{r|llllllllllllllll}\n",
       " Boston Celtics & Philadelphia 76ers & Toronto Raptors & Detroit Pistons & Indiana Pacers & Milwaukee Bucks & Denver Nuggets & Oklahoma City & Portland Trail Blazers & Utah Jazz & Golden State Warriors & Los Angeles Clippers & Orlando Magic & Houston Rockets & San Antonio Spurs & Brooklyn Nets\\\\\n",
       "\\hline\n",
       "\t 0.0579 & 0.0466 & 0.0325 & 0.0085 & 0.0048 & 0.2589 & 0.0559 & 0.0763 & 0.0255 & 0.0409 & 0.1618 & 0.0292 & 0.0271 & 0.1215 & 0.0386 & 0.014 \\\\\n",
       "\\end{tabular}\n"
      ],
      "text/markdown": [
       "\n",
       "Boston Celtics | Philadelphia 76ers | Toronto Raptors | Detroit Pistons | Indiana Pacers | Milwaukee Bucks | Denver Nuggets | Oklahoma City | Portland Trail Blazers | Utah Jazz | Golden State Warriors | Los Angeles Clippers | Orlando Magic | Houston Rockets | San Antonio Spurs | Brooklyn Nets | \n",
       "|---|\n",
       "| 0.0579 | 0.0466 | 0.0325 | 0.0085 | 0.0048 | 0.2589 | 0.0559 | 0.0763 | 0.0255 | 0.0409 | 0.1618 | 0.0292 | 0.0271 | 0.1215 | 0.0386 | 0.014  | \n",
       "\n",
       "\n"
      ],
      "text/plain": [
       "  Boston Celtics Philadelphia 76ers Toronto Raptors Detroit Pistons\n",
       "1 0.0579         0.0466             0.0325          0.0085         \n",
       "  Indiana Pacers Milwaukee Bucks Denver Nuggets Oklahoma City\n",
       "1 0.0048         0.2589          0.0559         0.0763       \n",
       "  Portland Trail Blazers Utah Jazz Golden State Warriors Los Angeles Clippers\n",
       "1 0.0255                 0.0409    0.1618                0.0292              \n",
       "  Orlando Magic Houston Rockets San Antonio Spurs Brooklyn Nets\n",
       "1 0.0271        0.1215          0.0386            0.014        "
      ]
     },
     "metadata": {},
     "output_type": "display_data"
    }
   ],
   "source": [
    "Bayes_sim\n",
    "Bayes_sim2"
   ]
  },
  {
   "cell_type": "code",
   "execution_count": 64,
   "metadata": {},
   "outputs": [
    {
     "data": {
      "image/png": "[encoded data removed]",
      "text/plain": [
       "Plot with title \"alpha=0.5 beta=0.5\""
      ]
     },
     "metadata": {},
     "output_type": "display_data"
    }
   ],
   "source": [
    "par(mfrow=c(2,2))\n",
    "barplot(as.matrix(Bayes_sim[1,]),las=2,ylim=c(0,1), main='alpha=1 beta=1')\n",
    "barplot(as.matrix(Bayes_sim2[1,]),las=2,ylim=c(0,1),col=1, main='alpha=0.5 beta=0.5')"
   ]
  },
  {
   "cell_type": "markdown",
   "metadata": {},
   "source": [
    "# "
   ]
  }
 ],
 "metadata": {
  "kernelspec": {
   "display_name": "R",
   "language": "R",
   "name": "ir"
  },
  "language_info": {
   "codemirror_mode": "r",
   "file_extension": ".r",
   "mimetype": "text/x-r-source",
   "name": "R",
   "pygments_lexer": "r",
   "version": "3.5.1"
  }
 },
 "nbformat": 4,
 "nbformat_minor": 2
}
